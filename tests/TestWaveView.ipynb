{
 "cells": [
  {
   "cell_type": "code",
   "execution_count": 1,
   "metadata": {
    "collapsed": false
   },
   "outputs": [
    {
     "name": "stdout",
     "output_type": "stream",
     "text": [
      "Populating the interactive namespace from numpy and matplotlib\n"
     ]
    }
   ],
   "source": [
    "%pylab inline\n",
    "import numexpr as ne\n",
    "import seaborn as sns\n",
    "from ipywidgets import interact\n",
    "import time"
   ]
  },
  {
   "cell_type": "code",
   "execution_count": 2,
   "metadata": {
    "collapsed": false
   },
   "outputs": [],
   "source": [
    "%load_ext autoreload\n",
    "%autoreload 2"
   ]
  },
  {
   "cell_type": "code",
   "execution_count": 3,
   "metadata": {
    "collapsed": false
   },
   "outputs": [
    {
     "data": {
      "text/plain": [
       "8"
      ]
     },
     "execution_count": 3,
     "metadata": {},
     "output_type": "execute_result"
    }
   ],
   "source": [
    "ne.set_num_threads(32)"
   ]
  },
  {
   "cell_type": "code",
   "execution_count": 4,
   "metadata": {
    "collapsed": true
   },
   "outputs": [],
   "source": [
    "import sys\n",
    "sys.path.append('../')"
   ]
  },
  {
   "cell_type": "code",
   "execution_count": 5,
   "metadata": {
    "collapsed": false
   },
   "outputs": [],
   "source": [
    "%gui qt"
   ]
  },
  {
   "cell_type": "code",
   "execution_count": 6,
   "metadata": {
    "collapsed": false
   },
   "outputs": [],
   "source": [
    "from spiketag.mvc import Sorter"
   ]
  },
  {
   "cell_type": "code",
   "execution_count": 8,
   "metadata": {
    "collapsed": false
   },
   "outputs": [
    {
     "name": "stderr",
     "output_type": "stream",
     "text": [
      "[INFO/MainProcess] load mua data\n"
     ]
    },
    {
     "name": "stdout",
     "output_type": "stream",
     "text": [
      "#############  load data  ###################\n",
      "/Users/chiy/Documents/HHMI/Github/spiketag/spiketag_test_data/pcie.bin loaded, it contains: \n",
      "30150587 * 32 points (3859275136 bytes) \n",
      "32 channels with sampling rate of 25000.0000 \n",
      "1206.023 secs (20.100 mins) of data\n",
      "#############################################\n"
     ]
    },
    {
     "name": "stderr",
     "output_type": "stream",
     "text": [
      "[INFO/MainProcess] load spktag file\n"
     ]
    }
   ],
   "source": [
    "nCh=32\n",
    "fs = 25000\n",
    "app = Sorter('/Users/chiy/Documents/HHMI/Github/spiketag/spiketag_test_data/pcie.bin', '/Users/chiy/Documents/HHMI/Github/spiketag/spiketag_test_data/pcie_spktag.bin')"
   ]
  },
  {
   "cell_type": "code",
   "execution_count": 9,
   "metadata": {
    "collapsed": false
   },
   "outputs": [
    {
     "name": "stderr",
     "output_type": "stream",
     "text": [
      "WARNING: Error drawing visual <vispy.visuals.mesh.MeshVisual object at 0x12ee19250>\n",
      "WARNING: Traceback (most recent call last):\n",
      "  File \"/Users/chiy/anaconda/lib/python2.7/runpy.py\", line 174, in _run_module_as_main\n",
      "    \"__main__\", fname, loader, pkg_name)\n",
      "  File \"/Users/chiy/anaconda/lib/python2.7/runpy.py\", line 72, in _run_code\n",
      "    exec code in run_globals\n",
      "  File \"/Users/chiy/anaconda/lib/python2.7/site-packages/ipykernel/__main__.py\", line 3, in <module>\n",
      "    app.launch_new_instance()\n",
      "  File \"/Users/chiy/anaconda/lib/python2.7/site-packages/traitlets/config/application.py\", line 653, in launch_instance\n",
      "    app.start()\n",
      "  File \"/Users/chiy/anaconda/lib/python2.7/site-packages/ipykernel/kernelapp.py\", line 474, in start\n",
      "    ioloop.IOLoop.instance().start()\n",
      "  File \"/Users/chiy/anaconda/lib/python2.7/site-packages/zmq/eventloop/ioloop.py\", line 162, in start\n",
      "    super(ZMQIOLoop, self).start()\n",
      "  File \"/Users/chiy/anaconda/lib/python2.7/site-packages/tornado/ioloop.py\", line 831, in start\n",
      "    self._run_callback(callback)\n",
      "  File \"/Users/chiy/anaconda/lib/python2.7/site-packages/tornado/ioloop.py\", line 604, in _run_callback\n",
      "    ret = callback()\n",
      "  File \"/Users/chiy/anaconda/lib/python2.7/site-packages/tornado/stack_context.py\", line 275, in null_wrapper\n",
      "    return fn(*args, **kwargs)\n",
      "  File \"/Users/chiy/anaconda/lib/python2.7/site-packages/ipykernel/kernelbase.py\", line 258, in enter_eventloop\n",
      "    self.eventloop(self)\n",
      "  File \"/Users/chiy/anaconda/lib/python2.7/site-packages/ipykernel/eventloops.py\", line 87, in loop_qt4\n",
      "    start_event_loop_qt4(kernel.app)\n",
      "  File \"/Users/chiy/anaconda/lib/python2.7/site-packages/IPython/lib/guisupport.py\", line 135, in start_event_loop_qt4\n",
      "    app.exec_()\n",
      "  File \"/Users/chiy/anaconda/lib/python2.7/site-packages/vispy-0.5.0.dev0-py2.7.egg/vispy/app/backends/_qt.py\", line 657, in paintGL\n",
      "    self._vispy_canvas.events.draw(region=None)\n",
      "  File \"/Users/chiy/anaconda/lib/python2.7/site-packages/vispy-0.5.0.dev0-py2.7.egg/vispy/util/event.py\", line 455, in __call__\n",
      "    self._invoke_callback(cb, event)\n",
      "  File \"/Users/chiy/anaconda/lib/python2.7/site-packages/vispy-0.5.0.dev0-py2.7.egg/vispy/util/event.py\", line 475, in _invoke_callback\n",
      "    self, cb_event=(cb, event))\n",
      "  << caught exception here: >>\n",
      "  File \"/Users/chiy/anaconda/lib/python2.7/site-packages/vispy-0.5.0.dev0-py2.7.egg/vispy/util/event.py\", line 471, in _invoke_callback\n",
      "    cb(event)\n",
      "  File \"/Users/chiy/anaconda/lib/python2.7/site-packages/vispy-0.5.0.dev0-py2.7.egg/vispy/scene/canvas.py\", line 207, in on_draw\n",
      "    self._draw_scene()\n",
      "  File \"/Users/chiy/anaconda/lib/python2.7/site-packages/vispy-0.5.0.dev0-py2.7.egg/vispy/scene/canvas.py\", line 253, in _draw_scene\n",
      "    self.draw_visual(self.scene)\n",
      "  File \"/Users/chiy/anaconda/lib/python2.7/site-packages/vispy-0.5.0.dev0-py2.7.egg/vispy/scene/canvas.py\", line 291, in draw_visual\n",
      "    node.draw()\n",
      "  File \"/Users/chiy/anaconda/lib/python2.7/site-packages/vispy-0.5.0.dev0-py2.7.egg/vispy/scene/visuals.py\", line 98, in draw\n",
      "    self._visual_superclass.draw(self)\n",
      "  File \"/Users/chiy/anaconda/lib/python2.7/site-packages/vispy-0.5.0.dev0-py2.7.egg/vispy/visuals/visual.py\", line 588, in draw\n",
      "    v.draw()\n",
      "  File \"/Users/chiy/anaconda/lib/python2.7/site-packages/vispy-0.5.0.dev0-py2.7.egg/vispy/visuals/mesh.py\", line 385, in draw\n",
      "    Visual.draw(self, *args, **kwds)\n",
      "  File \"/Users/chiy/anaconda/lib/python2.7/site-packages/vispy-0.5.0.dev0-py2.7.egg/vispy/visuals/visual.py\", line 440, in draw\n",
      "    self._vshare.index_buffer)\n",
      "  File \"/Users/chiy/anaconda/lib/python2.7/site-packages/vispy-0.5.0.dev0-py2.7.egg/vispy/visuals/shaders/program.py\", line 77, in draw\n",
      "    Program.draw(self, *args, **kwargs)\n",
      "  File \"/Users/chiy/anaconda/lib/python2.7/site-packages/vispy-0.5.0.dev0-py2.7.egg/vispy/gloo/program.py\", line 470, in draw\n",
      "    canvas.context.flush_commands()\n",
      "  File \"/Users/chiy/anaconda/lib/python2.7/site-packages/vispy-0.5.0.dev0-py2.7.egg/vispy/gloo/context.py\", line 171, in flush_commands\n",
      "    self.glir.flush(self.shared.parser)\n",
      "  File \"/Users/chiy/anaconda/lib/python2.7/site-packages/vispy-0.5.0.dev0-py2.7.egg/vispy/gloo/glir.py\", line 232, in flush\n",
      "    self._shared.flush(parser)\n",
      "  File \"/Users/chiy/anaconda/lib/python2.7/site-packages/vispy-0.5.0.dev0-py2.7.egg/vispy/gloo/glir.py\", line 146, in flush\n",
      "    parser.parse(self._filter(self.clear(), parser))\n",
      "  File \"/Users/chiy/anaconda/lib/python2.7/site-packages/vispy-0.5.0.dev0-py2.7.egg/vispy/gloo/glir.py\", line 458, in parse\n",
      "    self._parse(command)\n",
      "  File \"/Users/chiy/anaconda/lib/python2.7/site-packages/vispy-0.5.0.dev0-py2.7.egg/vispy/gloo/glir.py\", line 420, in _parse\n",
      "    ob.draw(*args)\n",
      "  File \"/Users/chiy/anaconda/lib/python2.7/site-packages/vispy-0.5.0.dev0-py2.7.egg/vispy/gloo/glir.py\", line 898, in draw\n",
      "    gl.check_error('Check before draw')\n",
      "  File \"/Users/chiy/anaconda/lib/python2.7/site-packages/vispy-0.5.0.dev0-py2.7.egg/vispy/gloo/gl/__init__.py\", line 211, in check_error\n",
      "    raise err\n",
      "RuntimeError: OpenGL got errors (Check before draw): GL_INVALID_FRAMEBUFFER_OPERATION\n",
      "ERROR: Invoking <bound method wave_view.on_draw of <wave_view (PyQt4) at 0x12ed36a90>> for DrawEvent\n",
      "WARNING: Error drawing visual <vispy.visuals.mesh.MeshVisual object at 0x12ee19250>\n",
      "ERROR: Invoking <bound method wave_view.on_draw of <wave_view (PyQt4) at 0x12ed36a90>> repeat 2\n"
     ]
    }
   ],
   "source": [
    "app.run()"
   ]
  },
  {
   "cell_type": "code",
   "execution_count": null,
   "metadata": {
    "collapsed": true
   },
   "outputs": [],
   "source": [
    "app.save()"
   ]
  },
  {
   "cell_type": "code",
   "execution_count": null,
   "metadata": {
    "collapsed": false
   },
   "outputs": [],
   "source": [
    "app.view.wave_view.set_data(app.model.mua.data[0:200,[25,26,27]])"
   ]
  },
  {
   "cell_type": "code",
   "execution_count": null,
   "metadata": {
    "collapsed": false
   },
   "outputs": [],
   "source": [
    "app.model.clu[26].index"
   ]
  },
  {
   "cell_type": "code",
   "execution_count": null,
   "metadata": {
    "collapsed": false
   },
   "outputs": [],
   "source": [
    "app.model.spktag.t[app.model.spktag.ch==31][1:2]"
   ]
  },
  {
   "cell_type": "code",
   "execution_count": null,
   "metadata": {
    "collapsed": false
   },
   "outputs": [],
   "source": [
    "p = app.model.spktag.t[app.model.spktag.ch==31][-10:15990]"
   ]
  },
  {
   "cell_type": "code",
   "execution_count": null,
   "metadata": {
    "collapsed": false
   },
   "outputs": [],
   "source": [
    "r = np.arange(9567,9768)\n",
    "np.intersect1d(r,p)"
   ]
  },
  {
   "cell_type": "code",
   "execution_count": null,
   "metadata": {
    "collapsed": false
   },
   "outputs": [],
   "source": [
    "%time\n",
    "app.view.wave_view.palette[app.view.wave_view.clu.global2local([16]).keys()[0]]"
   ]
  },
  {
   "cell_type": "code",
   "execution_count": null,
   "metadata": {
    "collapsed": false
   },
   "outputs": [],
   "source": [
    "app.view.wave_view.locate_and_highlight(array([53]))"
   ]
  },
  {
   "cell_type": "code",
   "execution_count": null,
   "metadata": {
    "collapsed": false
   },
   "outputs": [],
   "source": [
    "%load_ext line_profiler"
   ]
  },
  {
   "cell_type": "code",
   "execution_count": null,
   "metadata": {
    "collapsed": false
   },
   "outputs": [],
   "source": [
    "%lprun -f app.view.wave_view.locate_and_highlight app.view.wave_view.locate_and_highlight(array([53]))"
   ]
  },
  {
   "cell_type": "code",
   "execution_count": null,
   "metadata": {
    "collapsed": false
   },
   "outputs": [],
   "source": [
    "%lprun -f app.view.wave_view.set_range  app.view.wave_view.set_range()"
   ]
  },
  {
   "cell_type": "code",
   "execution_count": null,
   "metadata": {
    "collapsed": false
   },
   "outputs": [],
   "source": [
    "app.model.spktag.ch"
   ]
  },
  {
   "cell_type": "code",
   "execution_count": null,
   "metadata": {
    "collapsed": false
   },
   "outputs": [],
   "source": [
    "from spiketag.view import wave_view"
   ]
  },
  {
   "cell_type": "code",
   "execution_count": null,
   "metadata": {
    "collapsed": false
   },
   "outputs": [],
   "source": [
    "wview = wave_view()"
   ]
  },
  {
   "cell_type": "code",
   "execution_count": null,
   "metadata": {
    "collapsed": false
   },
   "outputs": [],
   "source": [
    "wview.bind(30,app.model.mua.data,app.model.spktag,app.model.clu[30])"
   ]
  },
  {
   "cell_type": "code",
   "execution_count": null,
   "metadata": {
    "collapsed": false
   },
   "outputs": [],
   "source": [
    "wview.locate_and_highlight([67])"
   ]
  },
  {
   "cell_type": "code",
   "execution_count": null,
   "metadata": {
    "collapsed": true
   },
   "outputs": [],
   "source": [
    "wview.show()"
   ]
  },
  {
   "cell_type": "code",
   "execution_count": null,
   "metadata": {
    "collapsed": false
   },
   "outputs": [],
   "source": [
    "app.view.spk_view.highlight({0:[1]})"
   ]
  },
  {
   "cell_type": "code",
   "execution_count": null,
   "metadata": {
    "collapsed": false
   },
   "outputs": [],
   "source": [
    "app.model.clu[26].index[0]"
   ]
  },
  {
   "cell_type": "code",
   "execution_count": null,
   "metadata": {
    "collapsed": false
   },
   "outputs": [],
   "source": [
    "app.model.fet[0][0]"
   ]
  },
  {
   "cell_type": "code",
   "execution_count": null,
   "metadata": {
    "collapsed": false
   },
   "outputs": [],
   "source": [
    "s = app.model.spk[26][53,:,:]\n",
    "s"
   ]
  },
  {
   "cell_type": "code",
   "execution_count": null,
   "metadata": {
    "collapsed": false
   },
   "outputs": [],
   "source": [
    "plot(s,'-o')"
   ]
  },
  {
   "cell_type": "code",
   "execution_count": null,
   "metadata": {
    "collapsed": false
   },
   "outputs": [],
   "source": [
    "app.model.mua.data[:, 26].shape"
   ]
  },
  {
   "cell_type": "code",
   "execution_count": null,
   "metadata": {
    "collapsed": false
   },
   "outputs": [],
   "source": [
    "app.model.mua.pivotal_pos.nbytes"
   ]
  },
  {
   "cell_type": "code",
   "execution_count": null,
   "metadata": {
    "collapsed": false
   },
   "outputs": [],
   "source": [
    "n = len(pos)\n",
    "n"
   ]
  },
  {
   "cell_type": "code",
   "execution_count": null,
   "metadata": {
    "collapsed": false
   },
   "outputs": [],
   "source": [
    "spk = np.empty((n,19,3),dtype=np.float32)\n",
    "spk.shape"
   ]
  },
  {
   "cell_type": "code",
   "execution_count": null,
   "metadata": {
    "collapsed": true
   },
   "outputs": [],
   "source": [
    "for i in range(n):\n",
    "    spk[i,...] = app.model.mua.data[pos[i]-8:pos[i]-8+19,[25,26,27]]"
   ]
  },
  {
   "cell_type": "code",
   "execution_count": null,
   "metadata": {
    "collapsed": false
   },
   "outputs": [],
   "source": [
    "spk.shape"
   ]
  },
  {
   "cell_type": "code",
   "execution_count": null,
   "metadata": {
    "collapsed": true
   },
   "outputs": [],
   "source": [
    "_nan = np.where([25,26,27]==-1)[0]"
   ]
  },
  {
   "cell_type": "code",
   "execution_count": null,
   "metadata": {
    "collapsed": false
   },
   "outputs": [],
   "source": [
    "_nan"
   ]
  },
  {
   "cell_type": "code",
   "execution_count": null,
   "metadata": {
    "collapsed": true
   },
   "outputs": [],
   "source": [
    "spk[...,_nan]=0"
   ]
  },
  {
   "cell_type": "code",
   "execution_count": null,
   "metadata": {
    "collapsed": false
   },
   "outputs": [],
   "source": [
    "spk.shape"
   ]
  },
  {
   "cell_type": "code",
   "execution_count": null,
   "metadata": {
    "collapsed": false
   },
   "outputs": [],
   "source": [
    "app.model.spktag.spktag['spk'].shape"
   ]
  },
  {
   "cell_type": "code",
   "execution_count": null,
   "metadata": {
    "collapsed": false
   },
   "outputs": [],
   "source": [
    "app.model.spk[26].shape"
   ]
  },
  {
   "cell_type": "code",
   "execution_count": null,
   "metadata": {
    "collapsed": false
   },
   "outputs": [],
   "source": [
    "wview.waves1.highlight((25,26,27),[(54517,54536)])"
   ]
  },
  {
   "cell_type": "code",
   "execution_count": null,
   "metadata": {
    "collapsed": false
   },
   "outputs": [],
   "source": [
    "wav = app.model.mua.data[63900:64000, 25:28]\n",
    "wav.shape"
   ]
  },
  {
   "cell_type": "code",
   "execution_count": null,
   "metadata": {
    "collapsed": false
   },
   "outputs": [],
   "source": [
    "plot(wav)"
   ]
  },
  {
   "cell_type": "code",
   "execution_count": null,
   "metadata": {
    "collapsed": false
   },
   "outputs": [],
   "source": [
    "app.model.spktag.t"
   ]
  },
  {
   "cell_type": "code",
   "execution_count": null,
   "metadata": {
    "collapsed": false
   },
   "outputs": [],
   "source": [
    "app.model.spktag.t[app.model.spktag.ch==26][53]"
   ]
  },
  {
   "cell_type": "code",
   "execution_count": null,
   "metadata": {
    "collapsed": false
   },
   "outputs": [],
   "source": [
    "app.model.mua.pivotal_pos[0,app.model.mua.pivotal_pos[1]==0][0]"
   ]
  },
  {
   "cell_type": "code",
   "execution_count": null,
   "metadata": {
    "collapsed": false
   },
   "outputs": [],
   "source": [
    "app.model.mua.ch_hash[0][app.model.mua.ch_hash[0]>=0]"
   ]
  },
  {
   "cell_type": "code",
   "execution_count": null,
   "metadata": {
    "collapsed": false
   },
   "outputs": [],
   "source": [
    "wav = app.model.mua.data[122:134,25:28]"
   ]
  },
  {
   "cell_type": "code",
   "execution_count": null,
   "metadata": {
    "collapsed": false
   },
   "outputs": [],
   "source": [
    "plot(wav)"
   ]
  },
  {
   "cell_type": "code",
   "execution_count": null,
   "metadata": {
    "collapsed": false
   },
   "outputs": [],
   "source": [
    "mapping = app.view.scatter_view.scatter.node_transform(app.view.scatter_view.view)"
   ]
  },
  {
   "cell_type": "code",
   "execution_count": null,
   "metadata": {
    "collapsed": false
   },
   "outputs": [],
   "source": [
    "mapping"
   ]
  },
  {
   "cell_type": "markdown",
   "metadata": {
    "collapsed": true
   },
   "source": [
    "### mapping = app.view.scatter_view._picker._mapping"
   ]
  },
  {
   "cell_type": "code",
   "execution_count": null,
   "metadata": {
    "collapsed": false
   },
   "outputs": [],
   "source": [
    "%debug\n",
    "mapping.map(np.array([[-0.19727965,0.27701873,0.01775252]]))[:,:2]"
   ]
  },
  {
   "cell_type": "code",
   "execution_count": null,
   "metadata": {
    "collapsed": false
   },
   "outputs": [],
   "source": [
    "app.view.wave_view.waves1.nrows"
   ]
  },
  {
   "cell_type": "code",
   "execution_count": null,
   "metadata": {
    "collapsed": false
   },
   "outputs": [],
   "source": [
    "app.view.wave_view.waves1.index"
   ]
  },
  {
   "cell_type": "code",
   "execution_count": null,
   "metadata": {
    "collapsed": false
   },
   "outputs": [],
   "source": [
    "npts=3\n",
    "index = np.c_[np.repeat(np.tile(np.arange(1), 3), npts),\n",
    "                      np.repeat(np.arange(3), 1*npts),\n",
    "                      np.tile(np.arange(npts), 3)].astype(np.float32)"
   ]
  },
  {
   "cell_type": "code",
   "execution_count": null,
   "metadata": {
    "collapsed": false
   },
   "outputs": [],
   "source": [
    "index"
   ]
  },
  {
   "cell_type": "code",
   "execution_count": null,
   "metadata": {
    "collapsed": true
   },
   "outputs": [],
   "source": [
    "wav = np.array([[0, 0, 0, 1]])"
   ]
  },
  {
   "cell_type": "code",
   "execution_count": null,
   "metadata": {
    "collapsed": false
   },
   "outputs": [],
   "source": [
    "mapping.map(wav)"
   ]
  },
  {
   "cell_type": "code",
   "execution_count": null,
   "metadata": {
    "collapsed": false
   },
   "outputs": [],
   "source": [
    "mapping = app.view.wave_view.waves1.node_transform(app.view.wave_view.grid1)"
   ]
  },
  {
   "cell_type": "code",
   "execution_count": null,
   "metadata": {
    "collapsed": false
   },
   "outputs": [],
   "source": [
    "mapping.map(np.array([[0,0,10,1]]))[:,:2]"
   ]
  },
  {
   "cell_type": "code",
   "execution_count": null,
   "metadata": {
    "collapsed": false
   },
   "outputs": [],
   "source": [
    "app.view.scatter_view.fet[:,:3]"
   ]
  },
  {
   "cell_type": "code",
   "execution_count": null,
   "metadata": {
    "collapsed": false
   },
   "outputs": [],
   "source": [
    "app.model.fet[26].shape"
   ]
  },
  {
   "cell_type": "code",
   "execution_count": null,
   "metadata": {
    "collapsed": false
   },
   "outputs": [],
   "source": [
    "app.model.mua.data[1:3,[25,26,27]]"
   ]
  },
  {
   "cell_type": "code",
   "execution_count": null,
   "metadata": {
    "collapsed": false
   },
   "outputs": [],
   "source": [
    "app.view.wave_view.view2.camera.transform.map(app.view.wave_view.view2.camera.transform.imap(app.view.wave_view.cross.y_axis.pos))[0]"
   ]
  },
  {
   "cell_type": "code",
   "execution_count": null,
   "metadata": {
    "collapsed": false
   },
   "outputs": [],
   "source": [
    "pos = app.view.wave_view.cross.y_axis.pos\n",
    "print pos"
   ]
  },
  {
   "cell_type": "code",
   "execution_count": null,
   "metadata": {
    "collapsed": false
   },
   "outputs": [],
   "source": [
    "gl_pos = app.view.wave_view.view2.camera.transform.imap(app.view.wave_view.cross.x_axis.pos)\n",
    "print gl_pos"
   ]
  },
  {
   "cell_type": "code",
   "execution_count": null,
   "metadata": {
    "collapsed": false
   },
   "outputs": [],
   "source": [
    "t = app.view.wave_view.cross.y_axis.glpos_to_time(0.88536586)\n",
    "print t"
   ]
  },
  {
   "cell_type": "code",
   "execution_count": null,
   "metadata": {
    "collapsed": false
   },
   "outputs": [],
   "source": [
    "n = np.ceil(t * app.view.wave_view.cross.y_axis.fs)\n",
    "print n"
   ]
  },
  {
   "cell_type": "code",
   "execution_count": null,
   "metadata": {
    "collapsed": false
   },
   "outputs": [],
   "source": [
    "app.view.wave_view.cross.y_axis.glpos_to_time(gl_pos)"
   ]
  },
  {
   "cell_type": "code",
   "execution_count": null,
   "metadata": {
    "collapsed": false
   },
   "outputs": [],
   "source": [
    "app.view.wave_view.waves1.data.shape"
   ]
  },
  {
   "cell_type": "code",
   "execution_count": null,
   "metadata": {
    "collapsed": false
   },
   "outputs": [],
   "source": [
    "app.view.wave_view.waves1.data[1]"
   ]
  },
  {
   "cell_type": "code",
   "execution_count": null,
   "metadata": {
    "collapsed": false
   },
   "outputs": [],
   "source": [
    "app.view.wave_view.waves1.ggj"
   ]
  },
  {
   "cell_type": "code",
   "execution_count": null,
   "metadata": {
    "collapsed": true
   },
   "outputs": [],
   "source": [
    "mapping = app.view.wave_view.waves1.node_transform(app.view.wave_view.grid1)"
   ]
  },
  {
   "cell_type": "code",
   "execution_count": null,
   "metadata": {
    "collapsed": false
   },
   "outputs": [],
   "source": [
    "app.view.wave_view.waves1.index[:,2].shape"
   ]
  },
  {
   "cell_type": "code",
   "execution_count": null,
   "metadata": {
    "collapsed": true
   },
   "outputs": [],
   "source": [
    "x_pos = -1 + 2 * app.view.wave_view.waves1.index[:,2]/ (app.view.wave_view.waves1.npts - 1)"
   ]
  },
  {
   "cell_type": "code",
   "execution_count": null,
   "metadata": {
    "collapsed": true
   },
   "outputs": [],
   "source": [
    "y_pos = app.view.wave_view.waves1.data"
   ]
  },
  {
   "cell_type": "code",
   "execution_count": null,
   "metadata": {
    "collapsed": true
   },
   "outputs": [],
   "source": [
    "a = np.array([1.0 / app.view.wave_view.waves1.ncols,1.0 / app.view.wave_view.waves1.nrows]) * 0.95"
   ]
  },
  {
   "cell_type": "code",
   "execution_count": null,
   "metadata": {
    "collapsed": true
   },
   "outputs": [],
   "source": [
    "b = np.array([(-1 + 2 * (app.view.wave_view.waves1.index[:,0] + 0.5) / app.view.wave_view.waves1.ncols),(-1 + 2 * (app.view.wave_view.waves1.index[:,1] * app.view.wave_view.waves1.gap+ 0.5) / app.view.wave_view.waves1.nrows)])"
   ]
  },
  {
   "cell_type": "code",
   "execution_count": null,
   "metadata": {
    "collapsed": false
   },
   "outputs": [],
   "source": [
    "pos = np.column_stack((x_pos,y_pos))"
   ]
  },
  {
   "cell_type": "code",
   "execution_count": null,
   "metadata": {
    "collapsed": false
   },
   "outputs": [],
   "source": [
    "app.view.wave_view.view2.camera.transform.map((a * pos + b.T)).shape"
   ]
  },
  {
   "cell_type": "code",
   "execution_count": null,
   "metadata": {
    "collapsed": false
   },
   "outputs": [],
   "source": [
    "a * pos + b.T"
   ]
  },
  {
   "cell_type": "code",
   "execution_count": null,
   "metadata": {
    "collapsed": false
   },
   "outputs": [],
   "source": [
    "app.view.wave_view.view2.camera.transform.map((a * pos + b.T))"
   ]
  },
  {
   "cell_type": "code",
   "execution_count": null,
   "metadata": {
    "collapsed": false
   },
   "outputs": [],
   "source": [
    "app.view.wave_view.all_pos"
   ]
  },
  {
   "cell_type": "code",
   "execution_count": null,
   "metadata": {
    "collapsed": true
   },
   "outputs": [],
   "source": []
  }
 ],
 "metadata": {
  "anaconda-cloud": {},
  "kernelspec": {
   "display_name": "Python [default]",
   "language": "python",
   "name": "python2"
  },
  "language_info": {
   "codemirror_mode": {
    "name": "ipython",
    "version": 2
   },
   "file_extension": ".py",
   "mimetype": "text/x-python",
   "name": "python",
   "nbconvert_exporter": "python",
   "pygments_lexer": "ipython2",
   "version": "2.7.12"
  }
 },
 "nbformat": 4,
 "nbformat_minor": 1
}
