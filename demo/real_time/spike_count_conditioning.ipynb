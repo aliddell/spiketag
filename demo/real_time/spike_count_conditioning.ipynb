{
 "cells": [
  {
   "cell_type": "code",
   "execution_count": 1,
   "metadata": {
    "ExecuteTime": {
     "end_time": "2018-08-14T02:19:52.484873Z",
     "start_time": "2018-08-14T02:19:52.190261Z"
    }
   },
   "outputs": [
    {
     "name": "stdout",
     "output_type": "stream",
     "text": [
      "Populating the interactive namespace from numpy and matplotlib\n"
     ]
    }
   ],
   "source": [
    "%pylab inline\n",
    "%config InlineBackend.figure_format='retina'"
   ]
  },
  {
   "cell_type": "code",
   "execution_count": 529,
   "metadata": {
    "ExecuteTime": {
     "end_time": "2018-08-14T02:12:43.258457Z",
     "start_time": "2018-08-14T02:12:43.250967Z"
    }
   },
   "outputs": [],
   "source": [
    "pynq_ip = '10.102.20.105'"
   ]
  },
  {
   "cell_type": "code",
   "execution_count": 532,
   "metadata": {
    "ExecuteTime": {
     "end_time": "2018-08-14T02:13:14.887341Z",
     "start_time": "2018-08-14T02:13:14.879408Z"
    }
   },
   "outputs": [],
   "source": [
    "pynq = socket.create_connection((pynq_ip, '2222'), timeout=1)\n",
    "pynq.setblocking(1)\n",
    "pynq.setsockopt(socket.IPPROTO_TCP, socket.TCP_NODELAY, 1)"
   ]
  },
  {
   "cell_type": "code",
   "execution_count": 533,
   "metadata": {
    "ExecuteTime": {
     "end_time": "2018-08-14T02:13:21.039678Z",
     "start_time": "2018-08-14T02:13:21.033624Z"
    }
   },
   "outputs": [],
   "source": [
    "def reward(time):\n",
    "    pynq.send('reward, {}'.format(time))"
   ]
  },
  {
   "cell_type": "code",
   "execution_count": 534,
   "metadata": {
    "ExecuteTime": {
     "end_time": "2018-08-14T02:13:25.707241Z",
     "start_time": "2018-08-14T02:13:25.701568Z"
    }
   },
   "outputs": [],
   "source": [
    "reward(1)"
   ]
  },
  {
   "cell_type": "code",
   "execution_count": 537,
   "metadata": {
    "ExecuteTime": {
     "end_time": "2018-08-14T02:15:49.429313Z",
     "start_time": "2018-08-14T02:15:42.746756Z"
    },
    "scrolled": false
   },
   "outputs": [
    {
     "ename": "KeyboardInterrupt",
     "evalue": "",
     "output_type": "error",
     "traceback": [
      "\u001b[0;31m---------------------------------------------------------------------------\u001b[0m",
      "\u001b[0;31mKeyboardInterrupt\u001b[0m                         Traceback (most recent call last)",
      "\u001b[0;32m<ipython-input-537-8e98466bd9d5>\u001b[0m in \u001b[0;36m<module>\u001b[0;34m()\u001b[0m\n\u001b[1;32m     17\u001b[0m         \u001b[0;32mpass\u001b[0m\u001b[0;34m\u001b[0m\u001b[0m\n\u001b[1;32m     18\u001b[0m     \u001b[0;32mfinally\u001b[0m\u001b[0;34m:\u001b[0m\u001b[0;34m\u001b[0m\u001b[0m\n\u001b[0;32m---> 19\u001b[0;31m         \u001b[0mnp\u001b[0m\u001b[0;34m.\u001b[0m\u001b[0marray\u001b[0m\u001b[0;34m(\u001b[0m\u001b[0mscv\u001b[0m\u001b[0;34m)\u001b[0m\u001b[0;34m.\u001b[0m\u001b[0mtofile\u001b[0m\u001b[0;34m(\u001b[0m\u001b[0;34m'./spike_count_vector.bin'\u001b[0m\u001b[0;34m)\u001b[0m\u001b[0;34m\u001b[0m\u001b[0m\n\u001b[0m",
      "\u001b[0;31mKeyboardInterrupt\u001b[0m: "
     ]
    }
   ],
   "source": [
    "scv = []\n",
    "last_t = 0\n",
    "while True:\n",
    "    _scv = np.fromfile('./scv.bin')\n",
    "    try:\n",
    "        t  = _scv[0]\n",
    "        fr = _scv[1:]/200e-3\n",
    "        if last_t != t:\n",
    "#             print t, _scv[1:]\n",
    "        ##########################################################\n",
    "            if fr[4]>20:\n",
    "                print('firing rate of group 4 pass threshold')\n",
    "        ##########################################################\n",
    "            scv.append(_scv)\n",
    "        last_t = t\n",
    "    except:\n",
    "        pass\n",
    "    finally:\n",
    "        np.array(scv).tofile('./spike_count_vector.bin')"
   ]
  },
  {
   "cell_type": "code",
   "execution_count": 538,
   "metadata": {
    "ExecuteTime": {
     "end_time": "2018-08-14T02:15:56.522654Z",
     "start_time": "2018-08-14T02:15:56.515481Z"
    }
   },
   "outputs": [],
   "source": [
    "x = np.fromfile('./spike_count_vector.bin').reshape(-1,31)"
   ]
  },
  {
   "cell_type": "code",
   "execution_count": 539,
   "metadata": {
    "ExecuteTime": {
     "end_time": "2018-08-14T02:15:57.498423Z",
     "start_time": "2018-08-14T02:15:57.491453Z"
    }
   },
   "outputs": [],
   "source": [
    "frame = x[:, 0]\n",
    "scv = x[:, 1:]/200e-3"
   ]
  },
  {
   "cell_type": "code",
   "execution_count": 540,
   "metadata": {
    "ExecuteTime": {
     "end_time": "2018-08-14T02:15:58.423734Z",
     "start_time": "2018-08-14T02:15:58.199908Z"
    }
   },
   "outputs": [
    {
     "data": {
      "text/plain": [
       "[<matplotlib.lines.Line2D at 0x7f1dd7def490>]"
      ]
     },
     "execution_count": 540,
     "metadata": {},
     "output_type": "execute_result"
    },
    {
     "data": {
      "image/png": "[encoded data removed]",
      "text/plain": [
       "<matplotlib.figure.Figure at 0x7f1dd7e7c2d0>"
      ]
     },
     "metadata": {
      "image/png": {
       "height": 250,
       "width": 388
      }
     },
     "output_type": "display_data"
    }
   ],
   "source": [
    "plot(scv[:300, 4])"
   ]
  },
  {
   "cell_type": "code",
   "execution_count": null,
   "metadata": {},
   "outputs": [],
   "source": []
  }
 ],
 "metadata": {
  "kernelspec": {
   "display_name": "Python 2",
   "language": "python",
   "name": "python2"
  },
  "language_info": {
   "codemirror_mode": {
    "name": "ipython",
    "version": 2
   },
   "file_extension": ".py",
   "mimetype": "text/x-python",
   "name": "python",
   "nbconvert_exporter": "python",
   "pygments_lexer": "ipython2",
   "version": "2.7.14"
  }
 },
 "nbformat": 4,
 "nbformat_minor": 2
}
