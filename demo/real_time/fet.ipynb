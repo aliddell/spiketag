{
 "cells": [
  {
   "cell_type": "code",
   "execution_count": 1,
   "metadata": {
    "ExecuteTime": {
     "end_time": "2018-08-13T16:57:27.179891Z",
     "start_time": "2018-08-13T16:57:26.882155Z"
    }
   },
   "outputs": [
    {
     "name": "stdout",
     "output_type": "stream",
     "text": [
      "Populating the interactive namespace from numpy and matplotlib\n"
     ]
    }
   ],
   "source": [
    "%pylab inline\n",
    "%config InlineBackend.figure_format='retina'"
   ]
  },
  {
   "cell_type": "code",
   "execution_count": 2,
   "metadata": {
    "ExecuteTime": {
     "end_time": "2018-08-13T16:57:27.650407Z",
     "start_time": "2018-08-13T16:57:27.644133Z"
    }
   },
   "outputs": [],
   "source": [
    "%gui qt"
   ]
  },
  {
   "cell_type": "code",
   "execution_count": 83,
   "metadata": {
    "ExecuteTime": {
     "end_time": "2018-08-13T18:59:16.822714Z",
     "start_time": "2018-08-13T18:59:16.814186Z"
    }
   },
   "outputs": [],
   "source": [
    "fet = np.fromfile('./fet.bin', dtype=np.int32)"
   ]
  },
  {
   "cell_type": "code",
   "execution_count": 86,
   "metadata": {
    "ExecuteTime": {
     "end_time": "2018-08-13T18:59:25.703005Z",
     "start_time": "2018-08-13T18:59:25.694127Z"
    }
   },
   "outputs": [],
   "source": [
    "fet = np.memmap('./fet.bin', 'int32')"
   ]
  },
  {
   "cell_type": "code",
   "execution_count": 87,
   "metadata": {
    "ExecuteTime": {
     "end_time": "2018-08-13T18:59:25.951326Z",
     "start_time": "2018-08-13T18:59:25.946252Z"
    }
   },
   "outputs": [],
   "source": [
    "fet = fet.reshape(-1, 7)"
   ]
  },
  {
   "cell_type": "code",
   "execution_count": 88,
   "metadata": {
    "ExecuteTime": {
     "end_time": "2018-08-13T18:59:26.180539Z",
     "start_time": "2018-08-13T18:59:26.173008Z"
    }
   },
   "outputs": [
    {
     "data": {
      "text/plain": [
       "(62065, 7)"
      ]
     },
     "execution_count": 88,
     "metadata": {},
     "output_type": "execute_result"
    }
   ],
   "source": [
    "fet.shape"
   ]
  },
  {
   "cell_type": "code",
   "execution_count": 89,
   "metadata": {
    "ExecuteTime": {
     "end_time": "2018-08-13T18:59:27.400257Z",
     "start_time": "2018-08-13T18:59:27.393696Z"
    }
   },
   "outputs": [],
   "source": [
    "fet_info = fet[:, :2]"
   ]
  },
  {
   "cell_type": "code",
   "execution_count": 90,
   "metadata": {
    "ExecuteTime": {
     "end_time": "2018-08-13T18:59:27.956700Z",
     "start_time": "2018-08-13T18:59:27.950905Z"
    }
   },
   "outputs": [],
   "source": [
    "fet_val = fet[:,2:-1]"
   ]
  },
  {
   "cell_type": "code",
   "execution_count": 91,
   "metadata": {
    "ExecuteTime": {
     "end_time": "2018-08-13T18:59:28.131154Z",
     "start_time": "2018-08-13T18:59:28.124010Z"
    }
   },
   "outputs": [],
   "source": [
    "label = fet[:, -1]"
   ]
  },
  {
   "cell_type": "code",
   "execution_count": 94,
   "metadata": {
    "ExecuteTime": {
     "end_time": "2018-08-13T18:59:32.865804Z",
     "start_time": "2018-08-13T18:59:32.853311Z"
    }
   },
   "outputs": [
    {
     "data": {
      "text/plain": [
       "memmap([[-5778,  -671,  1014,  1191],\n",
       "        [ 3912, -9657,  5311,  1863],\n",
       "        [-3585,  5626,  -211,  1037],\n",
       "        ...,\n",
       "        [-6126,  6841,   222,  3688],\n",
       "        [ 6198, -3431, -4281, -1230],\n",
       "        [-1833,  3638, -3682,  1624]], dtype=int32)"
      ]
     },
     "execution_count": 94,
     "metadata": {},
     "output_type": "execute_result"
    }
   ],
   "source": [
    "fet_val"
   ]
  },
  {
   "cell_type": "code",
   "execution_count": 95,
   "metadata": {
    "ExecuteTime": {
     "end_time": "2018-08-13T18:59:35.442147Z",
     "start_time": "2018-08-13T18:59:35.436603Z"
    }
   },
   "outputs": [],
   "source": [
    "idx = np.where(fet_info[:,1]==4)[0]"
   ]
  },
  {
   "cell_type": "code",
   "execution_count": 96,
   "metadata": {
    "ExecuteTime": {
     "end_time": "2018-08-13T18:59:38.298380Z",
     "start_time": "2018-08-13T18:59:38.292934Z"
    }
   },
   "outputs": [],
   "source": [
    "idxx = np.where(fet_info[:,1]!=4)[0]"
   ]
  },
  {
   "cell_type": "code",
   "execution_count": 97,
   "metadata": {
    "ExecuteTime": {
     "end_time": "2018-08-13T18:59:38.776312Z",
     "start_time": "2018-08-13T18:59:38.770351Z"
    }
   },
   "outputs": [],
   "source": [
    "fet_label = label[idx]"
   ]
  },
  {
   "cell_type": "code",
   "execution_count": 98,
   "metadata": {
    "ExecuteTime": {
     "end_time": "2018-08-13T18:59:39.050462Z",
     "start_time": "2018-08-13T18:59:39.041823Z"
    },
    "scrolled": true
   },
   "outputs": [
    {
     "data": {
      "text/plain": [
       "array([ 4, 11,  7, ..., 16,  3,  1], dtype=int32)"
      ]
     },
     "execution_count": 98,
     "metadata": {},
     "output_type": "execute_result"
    }
   ],
   "source": [
    "fet_label"
   ]
  },
  {
   "cell_type": "code",
   "execution_count": 99,
   "metadata": {
    "ExecuteTime": {
     "end_time": "2018-08-13T18:59:39.464009Z",
     "start_time": "2018-08-13T18:59:39.456565Z"
    }
   },
   "outputs": [
    {
     "data": {
      "text/plain": [
       "array([], dtype=int64)"
      ]
     },
     "execution_count": 99,
     "metadata": {},
     "output_type": "execute_result"
    }
   ],
   "source": [
    "np.where(label[idxx]!=0)[0]"
   ]
  },
  {
   "cell_type": "code",
   "execution_count": 102,
   "metadata": {
    "ExecuteTime": {
     "end_time": "2018-08-13T18:59:43.137031Z",
     "start_time": "2018-08-13T18:59:43.130428Z"
    }
   },
   "outputs": [],
   "source": [
    "vq = np.load('./vq.npy').item(0)"
   ]
  },
  {
   "cell_type": "code",
   "execution_count": 103,
   "metadata": {
    "ExecuteTime": {
     "end_time": "2018-08-13T18:59:43.464421Z",
     "start_time": "2018-08-13T18:59:43.453697Z"
    }
   },
   "outputs": [
    {
     "data": {
      "text/plain": [
       "array([0, 0, 0, 0, 0, 0, 0, 0, 0, 0, 0, 0, 0, 0, 0, 0, 0, 0, 0, 0, 1, 1,\n",
       "       1, 1, 1, 1, 1, 1, 1, 1, 1, 0, 1, 1, 0, 1, 1, 1, 1, 1, 2, 2, 2, 2,\n",
       "       2, 2, 2, 2, 2, 0, 2, 2, 2, 2, 2, 2, 2, 2, 2, 2, 3, 3, 3, 3, 3, 3,\n",
       "       4, 3, 3, 3, 3, 3, 3, 3, 3, 3, 3, 3, 3, 3, 4, 4, 4, 4, 4, 4, 4, 4,\n",
       "       4, 4, 4, 4, 4, 0, 4, 4, 4, 4, 4, 4], dtype=int32)"
      ]
     },
     "execution_count": 103,
     "metadata": {},
     "output_type": "execute_result"
    }
   ],
   "source": [
    "vq['labels'][4]"
   ]
  },
  {
   "cell_type": "code",
   "execution_count": 104,
   "metadata": {
    "ExecuteTime": {
     "end_time": "2018-08-13T18:59:44.711516Z",
     "start_time": "2018-08-13T18:59:44.702035Z"
    }
   },
   "outputs": [
    {
     "data": {
      "text/plain": [
       "[4]"
      ]
     },
     "execution_count": 104,
     "metadata": {},
     "output_type": "execute_result"
    }
   ],
   "source": [
    "vq['labels'].keys()"
   ]
  },
  {
   "cell_type": "code",
   "execution_count": 105,
   "metadata": {
    "ExecuteTime": {
     "end_time": "2018-08-13T18:59:49.790913Z",
     "start_time": "2018-08-13T18:59:49.766230Z"
    }
   },
   "outputs": [
    {
     "data": {
      "text/plain": [
       "{'labels': {4: array([0, 0, 0, 0, 0, 0, 0, 0, 0, 0, 0, 0, 0, 0, 0, 0, 0, 0, 0, 0, 1, 1,\n",
       "         1, 1, 1, 1, 1, 1, 1, 1, 1, 0, 1, 1, 0, 1, 1, 1, 1, 1, 2, 2, 2, 2,\n",
       "         2, 2, 2, 2, 2, 0, 2, 2, 2, 2, 2, 2, 2, 2, 2, 2, 3, 3, 3, 3, 3, 3,\n",
       "         4, 3, 3, 3, 3, 3, 3, 3, 3, 3, 3, 3, 3, 3, 4, 4, 4, 4, 4, 4, 4, 4,\n",
       "         4, 4, 4, 4, 4, 0, 4, 4, 4, 4, 4, 4], dtype=int32)},\n",
       " 'points': {4: array([[-9.93319899e-02,  4.04644459e-02,  9.41681638e-02,\n",
       "          -5.93530349e-02],\n",
       "         [-3.44685395e-03,  1.29352920e-02,  1.43543677e-02,\n",
       "           5.28469793e-02],\n",
       "         [-6.30039647e-02,  1.49292396e-02, -4.79442813e-02,\n",
       "           1.62875801e-02],\n",
       "         [ 2.42338683e-02, -8.36050436e-02, -4.58367281e-02,\n",
       "           1.78694129e-02],\n",
       "         [-3.45849507e-02, -2.19525937e-02,  1.42053491e-03,\n",
       "          -2.17110235e-02],\n",
       "         [-1.83889251e-02,  2.86260489e-02, -3.05222441e-02,\n",
       "           3.31444410e-03],\n",
       "         [ 8.43386445e-03,  6.44931570e-02,  8.65390748e-02,\n",
       "           3.11177354e-02],\n",
       "         [-7.58339539e-02,  3.02818380e-02, -2.20053513e-02,\n",
       "          -1.96154043e-02],\n",
       "         [ 6.16906723e-03, -4.73174080e-02, -7.76745100e-03,\n",
       "           2.06349753e-02],\n",
       "         [ 8.09248388e-02, -4.30699214e-02,  3.01728919e-02,\n",
       "           5.50562236e-03],\n",
       "         [-5.59770539e-02, -7.98851177e-02,  2.20863978e-04,\n",
       "          -2.98884120e-02],\n",
       "         [-4.68404144e-02,  3.21817249e-02,  2.13922616e-02,\n",
       "           1.40121961e-02],\n",
       "         [ 2.79689640e-01,  1.85766459e-01,  1.78789362e-01,\n",
       "          -1.81913730e-02],\n",
       "         [ 2.74244770e-02, -5.84279671e-02,  1.13562373e-02,\n",
       "          -3.27794477e-02],\n",
       "         [-7.05945864e-02,  9.16132480e-02,  1.37143776e-01,\n",
       "          -7.52526373e-02],\n",
       "         [ 2.98041143e-02, -2.66484078e-03,  4.93680127e-02,\n",
       "          -3.55121605e-02],\n",
       "         [-2.52492633e-02,  5.20950705e-02,  4.91051562e-02,\n",
       "           8.47374834e-03],\n",
       "         [ 6.32734895e-02,  1.25271650e-02,  2.01371703e-02,\n",
       "           1.24749750e-01],\n",
       "         [-1.04034275e-01,  4.48619016e-02,  1.12135997e-02,\n",
       "          -1.94365252e-02],\n",
       "         [-8.34274963e-02,  5.86626828e-02,  7.54827186e-02,\n",
       "           1.04115438e-02],\n",
       "         [ 7.92205185e-02,  6.15311489e-02,  2.00523846e-02,\n",
       "           7.62234926e-02],\n",
       "         [ 1.66308880e-01,  7.03291818e-02,  8.25952366e-02,\n",
       "           1.77879632e-01],\n",
       "         [ 9.92140844e-02,  1.39287144e-01,  9.15217549e-02,\n",
       "           4.03540768e-02],\n",
       "         [ 4.43516597e-02,  1.00206017e-01,  1.38355926e-01,\n",
       "           1.88153796e-02],\n",
       "         [ 2.74737448e-01,  1.92414179e-01,  2.49108583e-01,\n",
       "           1.20460145e-01],\n",
       "         [ 1.59651771e-01,  1.23031691e-01,  5.03604896e-02,\n",
       "           7.35577941e-02],\n",
       "         [ 1.77595839e-01,  2.09003910e-01,  1.32774442e-01,\n",
       "           1.62339471e-02],\n",
       "         [ 1.46151751e-01,  1.01761827e-02,  1.20607472e-03,\n",
       "           1.43998697e-01],\n",
       "         [ 1.44677833e-01,  1.83371916e-01,  2.45739102e-01,\n",
       "           6.73166066e-02],\n",
       "         [ 8.14608112e-02,  9.60244089e-02,  1.30817428e-01,\n",
       "           8.46834481e-02],\n",
       "         [ 1.45548135e-01,  9.96887162e-02, -2.32417844e-02,\n",
       "           3.24782766e-02],\n",
       "         [ 8.58106464e-02,  4.11521867e-02,  8.70789140e-02,\n",
       "          -1.89560726e-02],\n",
       "         [ 6.42776862e-02,  1.49002194e-01,  1.83295175e-01,\n",
       "          -2.33265571e-03],\n",
       "         [ 1.45960703e-01,  9.01950523e-02,  9.99524072e-02,\n",
       "          -2.47356463e-02],\n",
       "         [-1.47973495e-02,  1.60095960e-01,  9.46057513e-02,\n",
       "          -5.45579903e-02],\n",
       "         [ 1.80264518e-01,  1.23841211e-01,  1.30498305e-01,\n",
       "           9.23622772e-02],\n",
       "         [ 1.00071788e-01,  1.15439206e-01,  4.50503230e-02,\n",
       "           4.18937765e-02],\n",
       "         [ 1.39298871e-01,  6.14430122e-02,  7.13103935e-02,\n",
       "           5.78540452e-02],\n",
       "         [ 3.32859904e-02,  1.08959936e-01,  8.10802951e-02,\n",
       "           2.61560250e-02],\n",
       "         [ 7.34200403e-02,  6.06744625e-02,  2.35728119e-02,\n",
       "           1.40004316e-02],\n",
       "         [ 2.26677030e-01, -9.07750502e-02,  5.59293963e-02,\n",
       "          -2.91226972e-02],\n",
       "         [ 8.27650204e-02, -6.36722669e-02,  2.28822231e-02,\n",
       "          -4.21636030e-02],\n",
       "         [ 1.43507376e-01, -2.95680352e-02,  6.31142929e-02,\n",
       "          -3.39685311e-03],\n",
       "         [ 1.83339283e-01, -6.15687780e-02,  1.59498807e-02,\n",
       "           6.64418191e-02],\n",
       "         [ 1.43394932e-01, -8.18222687e-02,  3.26397903e-02,\n",
       "           1.66868977e-03],\n",
       "         [ 2.70508200e-01, -1.15862764e-01,  2.54931878e-02,\n",
       "          -2.32371539e-02],\n",
       "         [ 1.97293893e-01, -8.07271674e-02,  9.07199979e-02,\n",
       "          -6.92493618e-02],\n",
       "         [ 1.23867013e-01, -7.27425367e-02,  7.88251385e-02,\n",
       "          -6.65466487e-02],\n",
       "         [ 1.04433358e-01, -9.37516317e-02, -8.00356921e-03,\n",
       "          -2.06910279e-02],\n",
       "         [ 6.63682148e-02, -1.89394131e-02,  6.62285313e-02,\n",
       "          -5.22597022e-02],\n",
       "         [ 2.58707166e-01, -5.81913330e-02,  1.14571378e-01,\n",
       "          -4.77557629e-02],\n",
       "         [ 2.24296689e-01, -1.68416917e-01, -3.01972590e-02,\n",
       "           4.58911993e-02],\n",
       "         [ 1.59301907e-01, -1.17548808e-01,  2.62093842e-02,\n",
       "          -4.86586355e-02],\n",
       "         [ 2.17948720e-01, -9.82714742e-02, -9.02488679e-02,\n",
       "           9.11400765e-02],\n",
       "         [ 1.18567459e-01, -1.02036454e-01, -3.25319134e-02,\n",
       "           3.04387137e-02],\n",
       "         [ 2.03190520e-01, -1.04641624e-01,  2.23324616e-02,\n",
       "          -6.25001779e-03],\n",
       "         [ 1.51965007e-01, -4.14887220e-02,  3.35125066e-02,\n",
       "          -4.59408276e-02],\n",
       "         [ 1.81813881e-01, -5.50251007e-02,  8.63720998e-02,\n",
       "           2.41078474e-02],\n",
       "         [ 2.36252189e-01,  1.21033611e-02,  1.24512374e-01,\n",
       "           2.92359143e-02],\n",
       "         [ 2.96214581e-01, -6.23060241e-02,  8.78932849e-02,\n",
       "           1.53065398e-02],\n",
       "         [ 2.04681531e-01,  2.29272217e-01, -6.24244586e-02,\n",
       "          -9.01102051e-02],\n",
       "         [ 8.41625258e-02,  8.23244900e-02, -5.52396886e-02,\n",
       "           4.68175439e-03],\n",
       "         [ 2.74519861e-01,  1.56769603e-01, -8.92733559e-02,\n",
       "           1.30407065e-02],\n",
       "         [ 1.63709402e-01,  1.36955053e-01, -1.17569700e-01,\n",
       "          -5.71460649e-02],\n",
       "         [ 2.72696584e-01,  2.21701905e-01, -7.80049413e-02,\n",
       "          -5.14577851e-02],\n",
       "         [ 8.32568929e-02,  1.52416468e-01, -6.53214753e-02,\n",
       "          -9.40352082e-02],\n",
       "         [ 3.12327016e-02,  5.39026596e-02, -9.34978500e-02,\n",
       "          -1.75013840e-02],\n",
       "         [ 8.78378525e-02,  1.36170566e-01,  3.10233254e-02,\n",
       "          -1.80664156e-02],\n",
       "         [ 2.19631404e-01,  1.75589830e-01, -7.69297108e-02,\n",
       "          -2.33150516e-02],\n",
       "         [ 2.56835401e-01,  2.19032794e-01,  2.01500412e-02,\n",
       "          -3.81731195e-03],\n",
       "         [ 2.02222437e-01,  2.05546364e-01, -2.44410951e-02,\n",
       "          -3.75265740e-02],\n",
       "         [ 2.56716609e-01,  1.87663198e-01, -1.38815716e-01,\n",
       "          -5.19231334e-02],\n",
       "         [ 2.27734819e-01,  1.32189780e-01, -1.29380552e-02,\n",
       "           4.60185632e-02],\n",
       "         [ 1.56686321e-01,  1.98351920e-01, -1.16382927e-01,\n",
       "          -9.41685289e-02],\n",
       "         [ 3.07239771e-01,  2.00043365e-01, -6.62641004e-02,\n",
       "          -1.73398778e-02],\n",
       "         [ 1.14840921e-02,  8.99211094e-02, -5.46962805e-02,\n",
       "          -5.29878661e-02],\n",
       "         [ 1.68715581e-01,  1.25955850e-01, -8.08597282e-02,\n",
       "          -9.31242388e-03],\n",
       "         [ 2.82948047e-01,  2.54918724e-01, -3.12172566e-02,\n",
       "          -4.76406552e-02],\n",
       "         [ 1.25461891e-01,  1.34134874e-01, -7.25146085e-02,\n",
       "          -4.58936468e-02],\n",
       "         [ 7.70839974e-02,  8.57756585e-02, -5.58140054e-02,\n",
       "          -4.88015115e-02],\n",
       "         [ 5.08343838e-02,  5.30200154e-02, -2.97341328e-02,\n",
       "           4.57626395e-02],\n",
       "         [-2.96980292e-02,  4.00100015e-02, -8.47885832e-02,\n",
       "          -2.69030426e-02],\n",
       "         [-3.98892444e-03,  8.11652746e-03, -7.23548532e-02,\n",
       "          -4.68338747e-03],\n",
       "         [ 6.90018535e-02,  3.82356724e-04, -6.09214045e-02,\n",
       "           1.33080423e-01],\n",
       "         [-1.00118190e-03,  2.65437867e-02, -6.69917017e-02,\n",
       "           2.02759337e-02],\n",
       "         [-4.87581342e-02,  1.00616310e-02, -1.02544092e-01,\n",
       "          -1.54359434e-02],\n",
       "         [ 5.56142591e-02, -8.58816260e-04, -4.29237522e-02,\n",
       "           6.10310677e-03],\n",
       "         [-1.94719899e-02,  1.10649399e-03, -7.67050758e-02,\n",
       "           4.06882055e-02],\n",
       "         [ 2.02459414e-02,  3.78899984e-02, -6.94275275e-02,\n",
       "          -1.14947259e-02],\n",
       "         [-2.70287832e-03,  4.51439694e-02, -5.40409498e-02,\n",
       "          -2.20490922e-03],\n",
       "         [ 3.31334509e-02,  9.83001571e-03, -6.35347813e-02,\n",
       "           6.27866387e-02],\n",
       "         [ 4.70684469e-02,  5.26188426e-02, -4.13075015e-02,\n",
       "          -5.61618572e-03],\n",
       "         [-1.95542071e-03,  8.11627954e-02, -7.00153932e-02,\n",
       "          -4.13589552e-02],\n",
       "         [-5.04791327e-02,  4.10488695e-02, -2.61862502e-02,\n",
       "          -1.26263769e-02],\n",
       "         [ 1.90798789e-02,  6.38442189e-02, -1.04244344e-01,\n",
       "          -1.87745318e-02],\n",
       "         [ 4.07322533e-02,  3.40827070e-02, -7.64542148e-02,\n",
       "           2.06224360e-02],\n",
       "         [-2.16262462e-03,  1.82259753e-02, -1.19286820e-01,\n",
       "          -9.47001576e-03],\n",
       "         [-4.17736582e-02, -2.05668714e-03, -1.09921515e-01,\n",
       "           3.48589756e-02],\n",
       "         [-3.42687443e-02,  1.18982485e-02, -8.58629346e-02,\n",
       "           3.36585497e-03],\n",
       "         [ 7.45829707e-03, -2.75626779e-03, -1.04038678e-01,\n",
       "           3.64690870e-02]], dtype=float32)},\n",
       " 'scores': {4: 0.9064799011241246}}"
      ]
     },
     "execution_count": 105,
     "metadata": {},
     "output_type": "execute_result"
    }
   ],
   "source": [
    "vq"
   ]
  },
  {
   "cell_type": "code",
   "execution_count": 106,
   "metadata": {
    "ExecuteTime": {
     "end_time": "2018-08-13T18:59:51.217416Z",
     "start_time": "2018-08-13T18:59:51.207900Z"
    }
   },
   "outputs": [
    {
     "data": {
      "text/plain": [
       "array([0, 0, 0, ..., 0, 0, 0], dtype=int32)"
      ]
     },
     "execution_count": 106,
     "metadata": {},
     "output_type": "execute_result"
    }
   ],
   "source": [
    "vq['labels'][4][fet_label]"
   ]
  },
  {
   "cell_type": "code",
   "execution_count": null,
   "metadata": {},
   "outputs": [],
   "source": []
  },
  {
   "cell_type": "code",
   "execution_count": 107,
   "metadata": {
    "ExecuteTime": {
     "end_time": "2018-08-13T18:59:52.810797Z",
     "start_time": "2018-08-13T18:59:52.806084Z"
    }
   },
   "outputs": [],
   "source": [
    "from spiketag.view import scatter_3d_view"
   ]
  },
  {
   "cell_type": "code",
   "execution_count": 108,
   "metadata": {
    "ExecuteTime": {
     "end_time": "2018-08-13T18:59:53.422601Z",
     "start_time": "2018-08-13T18:59:53.030263Z"
    }
   },
   "outputs": [],
   "source": [
    "sd_view = scatter_3d_view()"
   ]
  },
  {
   "cell_type": "code",
   "execution_count": 109,
   "metadata": {
    "ExecuteTime": {
     "end_time": "2018-08-13T18:59:53.438247Z",
     "start_time": "2018-08-13T18:59:53.428723Z"
    }
   },
   "outputs": [],
   "source": [
    "sd_view.set_data(fet_val[fet_info[:,1]==4], vq['labels'][4][fet_label])"
   ]
  },
  {
   "cell_type": "code",
   "execution_count": 110,
   "metadata": {
    "ExecuteTime": {
     "end_time": "2018-08-13T18:59:53.944589Z",
     "start_time": "2018-08-13T18:59:53.931948Z"
    }
   },
   "outputs": [],
   "source": [
    "sd_view.show()"
   ]
  },
  {
   "cell_type": "code",
   "execution_count": null,
   "metadata": {},
   "outputs": [],
   "source": []
  },
  {
   "cell_type": "code",
   "execution_count": null,
   "metadata": {},
   "outputs": [],
   "source": []
  },
  {
   "cell_type": "code",
   "execution_count": null,
   "metadata": {},
   "outputs": [],
   "source": []
  },
  {
   "cell_type": "code",
   "execution_count": null,
   "metadata": {},
   "outputs": [],
   "source": []
  },
  {
   "cell_type": "code",
   "execution_count": 529,
   "metadata": {
    "ExecuteTime": {
     "end_time": "2018-08-14T02:12:43.258457Z",
     "start_time": "2018-08-14T02:12:43.250967Z"
    }
   },
   "outputs": [],
   "source": [
    "pynq_ip = '10.102.20.105'"
   ]
  },
  {
   "cell_type": "code",
   "execution_count": 532,
   "metadata": {
    "ExecuteTime": {
     "end_time": "2018-08-14T02:13:14.887341Z",
     "start_time": "2018-08-14T02:13:14.879408Z"
    }
   },
   "outputs": [],
   "source": [
    "pynq = socket.create_connection((pynq_ip, '2222'), timeout=1)\n",
    "pynq.setblocking(1)\n",
    "pynq.setsockopt(socket.IPPROTO_TCP, socket.TCP_NODELAY, 1)"
   ]
  },
  {
   "cell_type": "code",
   "execution_count": 533,
   "metadata": {
    "ExecuteTime": {
     "end_time": "2018-08-14T02:13:21.039678Z",
     "start_time": "2018-08-14T02:13:21.033624Z"
    }
   },
   "outputs": [],
   "source": [
    "def reward(time):\n",
    "    pynq.send('reward, {}'.format(time))"
   ]
  },
  {
   "cell_type": "code",
   "execution_count": 534,
   "metadata": {
    "ExecuteTime": {
     "end_time": "2018-08-14T02:13:25.707241Z",
     "start_time": "2018-08-14T02:13:25.701568Z"
    }
   },
   "outputs": [],
   "source": [
    "reward(1)"
   ]
  },
  {
   "cell_type": "code",
   "execution_count": 537,
   "metadata": {
    "ExecuteTime": {
     "end_time": "2018-08-14T02:15:49.429313Z",
     "start_time": "2018-08-14T02:15:42.746756Z"
    },
    "scrolled": false
   },
   "outputs": [
    {
     "ename": "KeyboardInterrupt",
     "evalue": "",
     "output_type": "error",
     "traceback": [
      "\u001b[0;31m---------------------------------------------------------------------------\u001b[0m",
      "\u001b[0;31mKeyboardInterrupt\u001b[0m                         Traceback (most recent call last)",
      "\u001b[0;32m<ipython-input-537-8e98466bd9d5>\u001b[0m in \u001b[0;36m<module>\u001b[0;34m()\u001b[0m\n\u001b[1;32m     17\u001b[0m         \u001b[0;32mpass\u001b[0m\u001b[0;34m\u001b[0m\u001b[0m\n\u001b[1;32m     18\u001b[0m     \u001b[0;32mfinally\u001b[0m\u001b[0;34m:\u001b[0m\u001b[0;34m\u001b[0m\u001b[0m\n\u001b[0;32m---> 19\u001b[0;31m         \u001b[0mnp\u001b[0m\u001b[0;34m.\u001b[0m\u001b[0marray\u001b[0m\u001b[0;34m(\u001b[0m\u001b[0mscv\u001b[0m\u001b[0;34m)\u001b[0m\u001b[0;34m.\u001b[0m\u001b[0mtofile\u001b[0m\u001b[0;34m(\u001b[0m\u001b[0;34m'./spike_count_vector.bin'\u001b[0m\u001b[0;34m)\u001b[0m\u001b[0;34m\u001b[0m\u001b[0m\n\u001b[0m",
      "\u001b[0;31mKeyboardInterrupt\u001b[0m: "
     ]
    }
   ],
   "source": [
    "scv = []\n",
    "last_t = 0\n",
    "while True:\n",
    "    _scv = np.fromfile('./scv.bin')\n",
    "    try:\n",
    "        t  = _scv[0]\n",
    "        fr = _scv[1:]/200e-3\n",
    "        if last_t != t:\n",
    "#             print t, _scv[1:]\n",
    "        ##########################################################\n",
    "            if fr[4]>20:\n",
    "                print('firing rate of group 4 pass threshold')\n",
    "        ##########################################################\n",
    "            scv.append(_scv)\n",
    "        last_t = t\n",
    "    except:\n",
    "        pass\n",
    "    finally:\n",
    "        np.array(scv).tofile('./spike_count_vector.bin')"
   ]
  },
  {
   "cell_type": "code",
   "execution_count": 538,
   "metadata": {
    "ExecuteTime": {
     "end_time": "2018-08-14T02:15:56.522654Z",
     "start_time": "2018-08-14T02:15:56.515481Z"
    }
   },
   "outputs": [],
   "source": [
    "x = np.fromfile('./spike_count_vector.bin').reshape(-1,31)"
   ]
  },
  {
   "cell_type": "code",
   "execution_count": 539,
   "metadata": {
    "ExecuteTime": {
     "end_time": "2018-08-14T02:15:57.498423Z",
     "start_time": "2018-08-14T02:15:57.491453Z"
    }
   },
   "outputs": [],
   "source": [
    "frame = x[:, 0]\n",
    "scv = x[:, 1:]/200e-3"
   ]
  },
  {
   "cell_type": "code",
   "execution_count": 540,
   "metadata": {
    "ExecuteTime": {
     "end_time": "2018-08-14T02:15:58.423734Z",
     "start_time": "2018-08-14T02:15:58.199908Z"
    }
   },
   "outputs": [
    {
     "data": {
      "text/plain": [
       "[<matplotlib.lines.Line2D at 0x7f1dd7def490>]"
      ]
     },
     "execution_count": 540,
     "metadata": {},
     "output_type": "execute_result"
    },
    {
     "data": {
      "image/png": "[encoded data removed]",
      "text/plain": [
       "<matplotlib.figure.Figure at 0x7f1dd7e7c2d0>"
      ]
     },
     "metadata": {
      "image/png": {
       "height": 250,
       "width": 388
      }
     },
     "output_type": "display_data"
    }
   ],
   "source": [
    "plot(scv[:300, 4])"
   ]
  },
  {
   "cell_type": "code",
   "execution_count": null,
   "metadata": {},
   "outputs": [],
   "source": []
  },
  {
   "cell_type": "code",
   "execution_count": null,
   "metadata": {},
   "outputs": [],
   "source": []
  }
 ],
 "metadata": {
  "kernelspec": {
   "display_name": "Python 2",
   "language": "python",
   "name": "python2"
  },
  "language_info": {
   "codemirror_mode": {
    "name": "ipython",
    "version": 2
   },
   "file_extension": ".py",
   "mimetype": "text/x-python",
   "name": "python",
   "nbconvert_exporter": "python",
   "pygments_lexer": "ipython2",
   "version": "2.7.14"
  }
 },
 "nbformat": 4,
 "nbformat_minor": 2
}
