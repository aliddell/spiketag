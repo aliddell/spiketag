{
 "cells": [
  {
   "cell_type": "code",
   "execution_count": 1,
   "metadata": {
    "ExecuteTime": {
     "end_time": "2019-11-12T20:08:07.719469Z",
     "start_time": "2019-11-12T20:08:07.394819Z"
    }
   },
   "outputs": [
    {
     "name": "stdout",
     "output_type": "stream",
     "text": [
      "Populating the interactive namespace from numpy and matplotlib\n"
     ]
    }
   ],
   "source": [
    "%pylab inline"
   ]
  },
  {
   "cell_type": "code",
   "execution_count": 2,
   "metadata": {
    "ExecuteTime": {
     "end_time": "2019-11-12T20:08:07.799804Z",
     "start_time": "2019-11-12T20:08:07.794062Z"
    }
   },
   "outputs": [],
   "source": [
    "%gui qt"
   ]
  },
  {
   "cell_type": "code",
   "execution_count": 3,
   "metadata": {
    "ExecuteTime": {
     "end_time": "2019-11-12T20:08:10.451666Z",
     "start_time": "2019-11-12T20:08:08.153444Z"
    }
   },
   "outputs": [
    {
     "name": "stderr",
     "output_type": "stream",
     "text": [
      "/disk0/anaconda3/lib/python3.7/site-packages/sklearn/externals/six.py:31: DeprecationWarning: The module is deprecated in version 0.21 and will be removed in version 0.23 since we've dropped support for Python 2.7. Please rely on the official version of six (https://pypi.org/project/six/).\n",
      "  \"(https://pypi.org/project/six/).\", DeprecationWarning)\n",
      "/disk0/anaconda3/lib/python3.7/site-packages/sklearn/externals/joblib/__init__.py:15: DeprecationWarning: sklearn.externals.joblib is deprecated in 0.21 and will be removed in 0.23. Please import this functionality directly from joblib, which can be installed with: pip install joblib. If this warning is raised when loading pickled models, you may need to re-serialize those models with scikit-learn 0.21+.\n",
      "  warnings.warn(msg, category=DeprecationWarning)\n"
     ]
    }
   ],
   "source": [
    "import numpy as np\n",
    "from spiketag.base import probe\n",
    "from spiketag.view import probe_view"
   ]
  },
  {
   "cell_type": "code",
   "execution_count": 4,
   "metadata": {
    "ExecuteTime": {
     "end_time": "2019-11-12T20:08:10.483226Z",
     "start_time": "2019-11-12T20:08:10.455400Z"
    }
   },
   "outputs": [],
   "source": [
    "prb_bowtie_LL = probe(shank_no=6, prb_type='bow_tie')\n",
    "\n",
    "prb_bowtie_LL.shanks[0].l = [59,60,10,58,12,11,57,56]\n",
    "prb_bowtie_LL.shanks[0].r = [5,52,3,54,53,4,13,2,55]\n",
    "prb_bowtie_LL.shanks[0].xl = -100.\n",
    "prb_bowtie_LL.shanks[0].yl = 20\n",
    "prb_bowtie_LL.shanks[0].xr = -80.\n",
    "prb_bowtie_LL.shanks[0].yr = 5\n",
    "\n",
    "prb_bowtie_LL.shanks[1].l = [15,63,48,47,0,61,9,14,62,6]\n",
    "prb_bowtie_LL.shanks[1].r = [8, 1,51,50,18,34,31,25,33,17,22,49]\n",
    "prb_bowtie_LL.shanks[1].xl = -10.\n",
    "prb_bowtie_LL.shanks[1].yl = 15\n",
    "prb_bowtie_LL.shanks[1].xr = 10.\n",
    "prb_bowtie_LL.shanks[1].yr = 0 \n",
    "\n",
    "prb_bowtie_LL.shanks[2].l = [39,38,20,45,44,24,7,32,16,23,46,30]\n",
    "prb_bowtie_LL.shanks[2].r = [19,37,21,35,36,26,29,40,27,42,41,28,43]\n",
    "prb_bowtie_LL.shanks[2].xl = 80.\n",
    "prb_bowtie_LL.shanks[2].yl = 10 \n",
    "prb_bowtie_LL.shanks[2].xr = 100.\n",
    "prb_bowtie_LL.shanks[2].yr = -5\n",
    "\n",
    "prb_bowtie_LL.shanks[3].l = [123,124,74,122,76,75,121,120]\n",
    "prb_bowtie_LL.shanks[3].r = [69,116,67,118,117,68,77,66,119]\n",
    "prb_bowtie_LL.shanks[3].xl = 350\n",
    "prb_bowtie_LL.shanks[3].yl = 10\n",
    "prb_bowtie_LL.shanks[3].xr = 370.\n",
    "prb_bowtie_LL.shanks[3].yr = -5\n",
    "\n",
    "prb_bowtie_LL.shanks[4].l = [79,127,112,111,64,125,73,78,126,70]\n",
    "prb_bowtie_LL.shanks[4].r = [72,65,115,114,82,98,95,89,97,81,86,113]\n",
    "prb_bowtie_LL.shanks[4].xl = 260.\n",
    "prb_bowtie_LL.shanks[4].yl = 15\n",
    "prb_bowtie_LL.shanks[4].xr = 280.\n",
    "prb_bowtie_LL.shanks[4].yr = 0 \n",
    "\n",
    "prb_bowtie_LL.shanks[5].l = [103,102,84,109,108,88,71,96,80,87,110,94]\n",
    "prb_bowtie_LL.shanks[5].r = [83,101,85,99,100,90,93,104,91,106,105,92,107]\n",
    "prb_bowtie_LL.shanks[5].xl = 170.\n",
    "prb_bowtie_LL.shanks[5].yl = 20\n",
    "prb_bowtie_LL.shanks[5].xr = 190.\n",
    "prb_bowtie_LL.shanks[5].yr = 5"
   ]
  },
  {
   "cell_type": "code",
   "execution_count": 5,
   "metadata": {
    "ExecuteTime": {
     "end_time": "2019-11-12T20:08:10.569248Z",
     "start_time": "2019-11-12T20:08:10.530706Z"
    }
   },
   "outputs": [
    {
     "data": {
      "text/plain": [
       "OrderedDict([(59, array([-100.,   20.])),\n",
       "             (60, array([-100.,   30.])),\n",
       "             (10, array([-100.,   40.])),\n",
       "             (58, array([-100.,   50.])),\n",
       "             (12, array([-100.,   60.])),\n",
       "             (11, array([-100.,   70.])),\n",
       "             (57, array([-100.,   80.])),\n",
       "             (56, array([-100.,   90.])),\n",
       "             (5, array([-80.,   5.])),\n",
       "             (52, array([-80.,  15.])),\n",
       "             (3, array([-80.,  25.])),\n",
       "             (54, array([-80.,  35.])),\n",
       "             (53, array([-80.,  45.])),\n",
       "             (4, array([-80.,  55.])),\n",
       "             (13, array([-80.,  65.])),\n",
       "             (2, array([-80.,  75.])),\n",
       "             (55, array([-80.,  85.])),\n",
       "             (15, array([-10.,  15.])),\n",
       "             (63, array([-10.,  25.])),\n",
       "             (48, array([-10.,  35.])),\n",
       "             (47, array([-10.,  45.])),\n",
       "             (0, array([-10.,  55.])),\n",
       "             (61, array([-10.,  65.])),\n",
       "             (9, array([-10.,  75.])),\n",
       "             (14, array([-10.,  85.])),\n",
       "             (62, array([-10.,  95.])),\n",
       "             (6, array([-10., 105.])),\n",
       "             (8, array([10.,  0.])),\n",
       "             (1, array([10., 10.])),\n",
       "             (51, array([10., 20.])),\n",
       "             (50, array([10., 30.])),\n",
       "             (18, array([10., 40.])),\n",
       "             (34, array([10., 50.])),\n",
       "             (31, array([10., 60.])),\n",
       "             (25, array([10., 70.])),\n",
       "             (33, array([10., 80.])),\n",
       "             (17, array([10., 90.])),\n",
       "             (22, array([ 10., 100.])),\n",
       "             (49, array([ 10., 110.])),\n",
       "             (39, array([80., 10.])),\n",
       "             (38, array([80., 20.])),\n",
       "             (20, array([80., 30.])),\n",
       "             (45, array([80., 40.])),\n",
       "             (44, array([80., 50.])),\n",
       "             (24, array([80., 60.])),\n",
       "             (7, array([80., 70.])),\n",
       "             (32, array([80., 80.])),\n",
       "             (16, array([80., 90.])),\n",
       "             (23, array([ 80., 100.])),\n",
       "             (46, array([ 80., 110.])),\n",
       "             (30, array([ 80., 120.])),\n",
       "             (19, array([100.,  -5.])),\n",
       "             (37, array([100.,   5.])),\n",
       "             (21, array([100.,  15.])),\n",
       "             (35, array([100.,  25.])),\n",
       "             (36, array([100.,  35.])),\n",
       "             (26, array([100.,  45.])),\n",
       "             (29, array([100.,  55.])),\n",
       "             (40, array([100.,  65.])),\n",
       "             (27, array([100.,  75.])),\n",
       "             (42, array([100.,  85.])),\n",
       "             (41, array([100.,  95.])),\n",
       "             (28, array([100., 105.])),\n",
       "             (43, array([100., 115.])),\n",
       "             (123, array([350,  10])),\n",
       "             (124, array([350,  20])),\n",
       "             (74, array([350,  30])),\n",
       "             (122, array([350,  40])),\n",
       "             (76, array([350,  50])),\n",
       "             (75, array([350,  60])),\n",
       "             (121, array([350,  70])),\n",
       "             (120, array([350,  80])),\n",
       "             (69, array([370.,  -5.])),\n",
       "             (116, array([370.,   5.])),\n",
       "             (67, array([370.,  15.])),\n",
       "             (118, array([370.,  25.])),\n",
       "             (117, array([370.,  35.])),\n",
       "             (68, array([370.,  45.])),\n",
       "             (77, array([370.,  55.])),\n",
       "             (66, array([370.,  65.])),\n",
       "             (119, array([370.,  75.])),\n",
       "             (79, array([260.,  15.])),\n",
       "             (127, array([260.,  25.])),\n",
       "             (112, array([260.,  35.])),\n",
       "             (111, array([260.,  45.])),\n",
       "             (64, array([260.,  55.])),\n",
       "             (125, array([260.,  65.])),\n",
       "             (73, array([260.,  75.])),\n",
       "             (78, array([260.,  85.])),\n",
       "             (126, array([260.,  95.])),\n",
       "             (70, array([260., 105.])),\n",
       "             (72, array([280.,   0.])),\n",
       "             (65, array([280.,  10.])),\n",
       "             (115, array([280.,  20.])),\n",
       "             (114, array([280.,  30.])),\n",
       "             (82, array([280.,  40.])),\n",
       "             (98, array([280.,  50.])),\n",
       "             (95, array([280.,  60.])),\n",
       "             (89, array([280.,  70.])),\n",
       "             (97, array([280.,  80.])),\n",
       "             (81, array([280.,  90.])),\n",
       "             (86, array([280., 100.])),\n",
       "             (113, array([280., 110.])),\n",
       "             (103, array([170.,  20.])),\n",
       "             (102, array([170.,  30.])),\n",
       "             (84, array([170.,  40.])),\n",
       "             (109, array([170.,  50.])),\n",
       "             (108, array([170.,  60.])),\n",
       "             (88, array([170.,  70.])),\n",
       "             (71, array([170.,  80.])),\n",
       "             (96, array([170.,  90.])),\n",
       "             (80, array([170., 100.])),\n",
       "             (87, array([170., 110.])),\n",
       "             (110, array([170., 120.])),\n",
       "             (94, array([170., 130.])),\n",
       "             (83, array([190.,   5.])),\n",
       "             (101, array([190.,  15.])),\n",
       "             (85, array([190.,  25.])),\n",
       "             (99, array([190.,  35.])),\n",
       "             (100, array([190.,  45.])),\n",
       "             (90, array([190.,  55.])),\n",
       "             (93, array([190.,  65.])),\n",
       "             (104, array([190.,  75.])),\n",
       "             (91, array([190.,  85.])),\n",
       "             (106, array([190.,  95.])),\n",
       "             (105, array([190., 105.])),\n",
       "             (92, array([190., 115.])),\n",
       "             (107, array([190., 125.]))])"
      ]
     },
     "execution_count": 5,
     "metadata": {},
     "output_type": "execute_result"
    }
   ],
   "source": [
    "prb_bowtie_LL.auto_pos()\n",
    "prb_bowtie_LL.mapping"
   ]
  },
  {
   "cell_type": "code",
   "execution_count": 6,
   "metadata": {
    "ExecuteTime": {
     "end_time": "2019-11-12T20:08:10.598023Z",
     "start_time": "2019-11-12T20:08:10.571327Z"
    }
   },
   "outputs": [],
   "source": [
    "prb_bowtie_LL.mapping[5]  += np.array([-10,2])\n",
    "prb_bowtie_LL.mapping[52] += np.array([-2, 0])\n",
    "prb_bowtie_LL.mapping[8]  += np.array([-10,2])\n",
    "prb_bowtie_LL.mapping[1]  += np.array([-2, 0])\n",
    "prb_bowtie_LL.mapping[19] += np.array([-10,2])\n",
    "prb_bowtie_LL.mapping[37] += np.array([-2, 0])\n",
    "prb_bowtie_LL.mapping[69]  += np.array([-10,2])\n",
    "prb_bowtie_LL.mapping[116] += np.array([-2, 0])\n",
    "prb_bowtie_LL.mapping[72]  += np.array([-10,2])\n",
    "prb_bowtie_LL.mapping[65]  += np.array([-2, 0])\n",
    "prb_bowtie_LL.mapping[83] += np.array([-10,2])\n",
    "prb_bowtie_LL.mapping[101] += np.array([-2, 0])\n",
    "\n",
    "prb_bowtie_LL[0] = np.array([59,  5, 52,  3])\n",
    "prb_bowtie_LL[1] = np.array([60, 10, 54, 53])\n",
    "prb_bowtie_LL[2] = np.array([58, 12,  4, 13])\n",
    "prb_bowtie_LL[3] = np.array([11, 57,  2, 55])\n",
    "\n",
    "prb_bowtie_LL[4] = np.array([15,  8,  1, 51])\n",
    "prb_bowtie_LL[5] = np.array([63, 48, 50, 18])\n",
    "prb_bowtie_LL[6] = np.array([47,  0, 34, 31])\n",
    "prb_bowtie_LL[7] = np.array([61,  9, 25, 33])\n",
    "prb_bowtie_LL[8] = np.array([14, 62, 22, 17])\n",
    "\n",
    "prb_bowtie_LL[9]  = np.array([39, 19, 37, 21])\n",
    "prb_bowtie_LL[10] = np.array([38, 20, 35, 36])\n",
    "prb_bowtie_LL[11] = np.array([45, 44, 26, 29])\n",
    "prb_bowtie_LL[12] = np.array([24,  7, 40, 27])\n",
    "prb_bowtie_LL[13] = np.array([32, 16, 42, 41])\n",
    "prb_bowtie_LL[14] = np.array([23, 46, 28, 43])\n",
    "\n",
    "for prb_id_LL in range(15):\n",
    "    prb_bowtie_LL[prb_id_LL+15] = prb_bowtie_LL[prb_id_LL] + 64\n",
    "# prb_bowtie_LL.n_ch = 160"
   ]
  },
  {
   "cell_type": "code",
   "execution_count": 7,
   "metadata": {
    "ExecuteTime": {
     "end_time": "2019-11-12T20:08:11.203135Z",
     "start_time": "2019-11-12T20:08:11.199105Z"
    }
   },
   "outputs": [],
   "source": [
    "prb = prb_bowtie_LL"
   ]
  },
  {
   "cell_type": "code",
   "execution_count": 8,
   "metadata": {
    "ExecuteTime": {
     "end_time": "2019-11-12T19:43:22.227283Z",
     "start_time": "2019-11-12T19:43:21.942753Z"
    }
   },
   "outputs": [],
   "source": [
    "prb.show()"
   ]
  },
  {
   "cell_type": "code",
   "execution_count": null,
   "metadata": {},
   "outputs": [],
   "source": []
  },
  {
   "cell_type": "code",
   "execution_count": null,
   "metadata": {},
   "outputs": [],
   "source": []
  },
  {
   "cell_type": "code",
   "execution_count": null,
   "metadata": {},
   "outputs": [],
   "source": []
  },
  {
   "cell_type": "code",
   "execution_count": 8,
   "metadata": {
    "ExecuteTime": {
     "end_time": "2019-11-12T20:08:13.852479Z",
     "start_time": "2019-11-12T20:08:13.847489Z"
    }
   },
   "outputs": [],
   "source": [
    "prb_v1 = probe(shank_no=1, prb_type='bow_tie')"
   ]
  },
  {
   "cell_type": "code",
   "execution_count": 9,
   "metadata": {
    "ExecuteTime": {
     "end_time": "2019-11-12T20:08:14.668050Z",
     "start_time": "2019-11-12T20:08:14.655988Z"
    }
   },
   "outputs": [],
   "source": [
    "prb_v1.shanks[0].l = np.array([30,31,28,29,26,27,24,25,22,23,20,21,19,18,17,16,33,32,35,34,37,36,39,38,41,40,43,42,44,45,46,47])\n",
    "prb_v1.shanks[0].xl = -50.\n",
    "prb_v1.shanks[0].yl = 20"
   ]
  },
  {
   "cell_type": "code",
   "execution_count": 10,
   "metadata": {
    "ExecuteTime": {
     "end_time": "2019-11-12T20:08:15.033567Z",
     "start_time": "2019-11-12T20:08:15.025175Z"
    }
   },
   "outputs": [],
   "source": [
    "prb_v1.shanks[0].r = np.array([48,49,50,51,53,52,55,54,57,56,59,58,61,60,63,62,15,14,13,12,10,11,8,9,6,7,4,5,2,3,0,1])\n",
    "prb_v1.shanks[0].xr = 50.\n",
    "prb_v1.shanks[0].yr = 20"
   ]
  },
  {
   "cell_type": "code",
   "execution_count": 11,
   "metadata": {
    "ExecuteTime": {
     "end_time": "2019-11-12T20:08:15.391308Z",
     "start_time": "2019-11-12T20:08:15.386639Z"
    }
   },
   "outputs": [],
   "source": [
    "prb_v1.auto_pos()"
   ]
  },
  {
   "cell_type": "code",
   "execution_count": 12,
   "metadata": {
    "ExecuteTime": {
     "end_time": "2019-11-12T20:08:15.947154Z",
     "start_time": "2019-11-12T20:08:15.925141Z"
    },
    "scrolled": true
   },
   "outputs": [
    {
     "data": {
      "text/plain": [
       "OrderedDict([(30, array([-50.,  20.])),\n",
       "             (31, array([-50.,  30.])),\n",
       "             (28, array([-50.,  40.])),\n",
       "             (29, array([-50.,  50.])),\n",
       "             (26, array([-50.,  60.])),\n",
       "             (27, array([-50.,  70.])),\n",
       "             (24, array([-50.,  80.])),\n",
       "             (25, array([-50.,  90.])),\n",
       "             (22, array([-50., 100.])),\n",
       "             (23, array([-50., 110.])),\n",
       "             (20, array([-50., 120.])),\n",
       "             (21, array([-50., 130.])),\n",
       "             (19, array([-50., 140.])),\n",
       "             (18, array([-50., 150.])),\n",
       "             (17, array([-50., 160.])),\n",
       "             (16, array([-50., 170.])),\n",
       "             (33, array([-50., 180.])),\n",
       "             (32, array([-50., 190.])),\n",
       "             (35, array([-50., 200.])),\n",
       "             (34, array([-50., 210.])),\n",
       "             (37, array([-50., 220.])),\n",
       "             (36, array([-50., 230.])),\n",
       "             (39, array([-50., 240.])),\n",
       "             (38, array([-50., 250.])),\n",
       "             (41, array([-50., 260.])),\n",
       "             (40, array([-50., 270.])),\n",
       "             (43, array([-50., 280.])),\n",
       "             (42, array([-50., 290.])),\n",
       "             (44, array([-50., 300.])),\n",
       "             (45, array([-50., 310.])),\n",
       "             (46, array([-50., 320.])),\n",
       "             (47, array([-50., 330.])),\n",
       "             (48, array([50., 20.])),\n",
       "             (49, array([50., 30.])),\n",
       "             (50, array([50., 40.])),\n",
       "             (51, array([50., 50.])),\n",
       "             (53, array([50., 60.])),\n",
       "             (52, array([50., 70.])),\n",
       "             (55, array([50., 80.])),\n",
       "             (54, array([50., 90.])),\n",
       "             (57, array([ 50., 100.])),\n",
       "             (56, array([ 50., 110.])),\n",
       "             (59, array([ 50., 120.])),\n",
       "             (58, array([ 50., 130.])),\n",
       "             (61, array([ 50., 140.])),\n",
       "             (60, array([ 50., 150.])),\n",
       "             (63, array([ 50., 160.])),\n",
       "             (62, array([ 50., 170.])),\n",
       "             (15, array([ 50., 180.])),\n",
       "             (14, array([ 50., 190.])),\n",
       "             (13, array([ 50., 200.])),\n",
       "             (12, array([ 50., 210.])),\n",
       "             (10, array([ 50., 220.])),\n",
       "             (11, array([ 50., 230.])),\n",
       "             (8, array([ 50., 240.])),\n",
       "             (9, array([ 50., 250.])),\n",
       "             (6, array([ 50., 260.])),\n",
       "             (7, array([ 50., 270.])),\n",
       "             (4, array([ 50., 280.])),\n",
       "             (5, array([ 50., 290.])),\n",
       "             (2, array([ 50., 300.])),\n",
       "             (3, array([ 50., 310.])),\n",
       "             (0, array([ 50., 320.])),\n",
       "             (1, array([ 50., 330.]))])"
      ]
     },
     "execution_count": 12,
     "metadata": {},
     "output_type": "execute_result"
    }
   ],
   "source": [
    "prb_v1.mapping"
   ]
  },
  {
   "cell_type": "code",
   "execution_count": 13,
   "metadata": {
    "ExecuteTime": {
     "end_time": "2019-11-12T20:08:16.466656Z",
     "start_time": "2019-11-12T20:08:16.459193Z"
    }
   },
   "outputs": [],
   "source": [
    "for i, tetrode in enumerate(prb_v1.shanks[0].l.reshape(-1,4)):\n",
    "    prb_v1[i] = tetrode\n",
    "for j, tetrode in enumerate(prb_v1.shanks[0].r.reshape(-1,4)):\n",
    "    prb_v1[i+j+1] = tetrode"
   ]
  },
  {
   "cell_type": "code",
   "execution_count": 14,
   "metadata": {
    "ExecuteTime": {
     "end_time": "2019-11-12T20:08:17.735039Z",
     "start_time": "2019-11-12T20:08:17.727573Z"
    }
   },
   "outputs": [
    {
     "data": {
      "text/plain": [
       "64"
      ]
     },
     "execution_count": 14,
     "metadata": {},
     "output_type": "execute_result"
    }
   ],
   "source": [
    "np.unique(prb_v1.chs).shape[0]"
   ]
  },
  {
   "cell_type": "code",
   "execution_count": 15,
   "metadata": {
    "ExecuteTime": {
     "end_time": "2019-11-12T20:08:18.459231Z",
     "start_time": "2019-11-12T20:08:18.163497Z"
    }
   },
   "outputs": [
    {
     "name": "stderr",
     "output_type": "stream",
     "text": [
      "/disk0/anaconda3/lib/python3.7/site-packages/IPython/config.py:13: ShimWarning: The `IPython.config` package has been deprecated since IPython 4.0. You should import from traitlets.config instead.\n",
      "  \"You should import from traitlets.config instead.\", ShimWarning)\n"
     ]
    }
   ],
   "source": [
    "prb_v1.show()"
   ]
  },
  {
   "cell_type": "code",
   "execution_count": 16,
   "metadata": {
    "ExecuteTime": {
     "end_time": "2019-11-12T20:08:48.658221Z",
     "start_time": "2019-11-12T20:08:48.651969Z"
    }
   },
   "outputs": [],
   "source": [
    "prb_v1.prb_view.select(0)"
   ]
  },
  {
   "cell_type": "code",
   "execution_count": null,
   "metadata": {},
   "outputs": [],
   "source": [
    "prb_v1.save('./')"
   ]
  },
  {
   "cell_type": "code",
   "execution_count": null,
   "metadata": {},
   "outputs": [],
   "source": []
  },
  {
   "cell_type": "code",
   "execution_count": null,
   "metadata": {},
   "outputs": [],
   "source": []
  },
  {
   "cell_type": "code",
   "execution_count": 19,
   "metadata": {
    "ExecuteTime": {
     "end_time": "2019-01-16T23:06:25.751831Z",
     "start_time": "2019-01-16T23:06:25.736339Z"
    }
   },
   "outputs": [
    {
     "data": {
      "text/plain": [
       "0:[ 3  5 52 59]\n",
       "1:[10 53 54 60]\n",
       "2:[ 4 12 13 58]\n",
       "3:[ 2 11 55 57]\n",
       "4:[ 1  8 15 51]\n",
       "5:[18 48 50 63]\n",
       "6:[ 0 31 34 47]\n",
       "7:[ 9 25 33 61]\n",
       "8:[14 17 22 62]\n",
       "9:[19 21 37 39]\n",
       "10:[20 35 36 38]\n",
       "11:[26 29 44 45]\n",
       "12:[ 7 24 27 40]\n",
       "13:[16 32 41 42]\n",
       "14:[23 28 43 46]\n",
       "15:[ 67  69 116 123]\n",
       "16:[ 74 117 118 124]\n",
       "17:[ 68  76  77 122]\n",
       "18:[ 66  75 119 121]\n",
       "19:[ 65  72  79 115]\n",
       "20:[ 82 112 114 127]\n",
       "21:[ 64  95  98 111]\n",
       "22:[ 73  89  97 125]\n",
       "23:[ 78  81  86 126]\n",
       "24:[ 83  85 101 103]\n",
       "25:[ 84  99 100 102]\n",
       "26:[ 90  93 108 109]\n",
       "27:[ 71  88  91 104]\n",
       "28:[ 80  96 105 106]\n",
       "29:[ 87  92 107 110]"
      ]
     },
     "execution_count": 19,
     "metadata": {},
     "output_type": "execute_result"
    }
   ],
   "source": [
    "prb"
   ]
  },
  {
   "cell_type": "code",
   "execution_count": 16,
   "metadata": {
    "ExecuteTime": {
     "end_time": "2019-01-16T23:02:54.658698Z",
     "start_time": "2019-01-16T23:02:54.647083Z"
    }
   },
   "outputs": [
    {
     "data": {
      "text/plain": [
       "30"
      ]
     },
     "execution_count": 16,
     "metadata": {},
     "output_type": "execute_result"
    }
   ],
   "source": [
    "len(prb.grp_dict.keys())"
   ]
  },
  {
   "cell_type": "code",
   "execution_count": 13,
   "metadata": {
    "ExecuteTime": {
     "end_time": "2019-01-16T23:00:15.970254Z",
     "start_time": "2019-01-16T23:00:15.957761Z"
    }
   },
   "outputs": [
    {
     "data": {
      "text/plain": [
       "array([  0,   1,   2,   3,   4,   5,   6,   7,   8,   9,  10,  11,  12,\n",
       "        13,  14,  15,  16,  17,  18,  19,  20,  21,  22,  23,  24,  25,\n",
       "        26,  27,  28,  29,  30,  31,  32,  33,  34,  35,  36,  37,  38,\n",
       "        39,  40,  41,  42,  43,  44,  45,  46,  47,  48,  49,  50,  51,\n",
       "        52,  53,  54,  55,  56,  57,  58,  59,  60,  61,  62,  63,  64,\n",
       "        65,  66,  67,  68,  69,  70,  71,  72,  73,  74,  75,  76,  77,\n",
       "        78,  79,  80,  81,  82,  83,  84,  85,  86,  87,  88,  89,  90,\n",
       "        91,  92,  93,  94,  95,  96,  97,  98,  99, 100, 101, 102, 103,\n",
       "       104, 105, 106, 107, 108, 109, 110, 111, 112, 113, 114, 115, 116,\n",
       "       117, 118, 119, 120, 121, 122, 123, 124, 125, 126, 127])"
      ]
     },
     "execution_count": 13,
     "metadata": {},
     "output_type": "execute_result"
    }
   ],
   "source": [
    "np.sort(prb.mapping.keys())"
   ]
  },
  {
   "cell_type": "code",
   "execution_count": 14,
   "metadata": {
    "ExecuteTime": {
     "end_time": "2019-01-16T23:00:18.974580Z",
     "start_time": "2019-01-16T23:00:18.749150Z"
    }
   },
   "outputs": [],
   "source": [
    "prb.show()"
   ]
  },
  {
   "cell_type": "code",
   "execution_count": 8,
   "metadata": {
    "ExecuteTime": {
     "end_time": "2019-01-16T22:50:32.564099Z",
     "start_time": "2019-01-16T22:50:32.548933Z"
    }
   },
   "outputs": [],
   "source": [
    "prb.save('./bow_tie_LL.json')"
   ]
  },
  {
   "cell_type": "code",
   "execution_count": null,
   "metadata": {},
   "outputs": [],
   "source": []
  },
  {
   "cell_type": "code",
   "execution_count": null,
   "metadata": {},
   "outputs": [],
   "source": []
  },
  {
   "cell_type": "code",
   "execution_count": null,
   "metadata": {},
   "outputs": [],
   "source": []
  },
  {
   "cell_type": "code",
   "execution_count": null,
   "metadata": {},
   "outputs": [],
   "source": []
  },
  {
   "cell_type": "code",
   "execution_count": 8,
   "metadata": {
    "ExecuteTime": {
     "end_time": "2018-07-11T20:40:51.020535Z",
     "start_time": "2018-07-11T20:40:50.869088Z"
    },
    "scrolled": true
   },
   "outputs": [
    {
     "ename": "NameError",
     "evalue": "name 'ch_list' is not defined",
     "output_type": "error",
     "traceback": [
      "\u001b[0;31m---------------------------------------------------------------------------\u001b[0m",
      "\u001b[0;31mNameError\u001b[0m                                 Traceback (most recent call last)",
      "\u001b[0;32m<ipython-input-8-b3e6daf0523c>\u001b[0m in \u001b[0;36m<module>\u001b[0;34m()\u001b[0m\n\u001b[0;32m----> 1\u001b[0;31m \u001b[0mch_list\u001b[0m\u001b[0;34m[\u001b[0m\u001b[0;36m2\u001b[0m\u001b[0;34m]\u001b[0m\u001b[0;34m,\u001b[0m\u001b[0mch_list\u001b[0m\u001b[0;34m[\u001b[0m\u001b[0;36m17\u001b[0m\u001b[0;34m]\u001b[0m\u001b[0;34m\u001b[0m\u001b[0m\n\u001b[0m",
      "\u001b[0;31mNameError\u001b[0m: name 'ch_list' is not defined"
     ]
    }
   ],
   "source": [
    "ch_list[2],ch_list[17]"
   ]
  },
  {
   "cell_type": "code",
   "execution_count": 9,
   "metadata": {
    "ExecuteTime": {
     "end_time": "2018-07-11T20:40:51.505992Z",
     "start_time": "2018-07-11T20:40:51.480757Z"
    },
    "scrolled": true
   },
   "outputs": [
    {
     "ename": "NameError",
     "evalue": "name 'ch_list' is not defined",
     "output_type": "error",
     "traceback": [
      "\u001b[0;31m---------------------------------------------------------------------------\u001b[0m",
      "\u001b[0;31mNameError\u001b[0m                                 Traceback (most recent call last)",
      "\u001b[0;32m<ipython-input-9-e0bfe6587c76>\u001b[0m in \u001b[0;36m<module>\u001b[0;34m()\u001b[0m\n\u001b[0;32m----> 1\u001b[0;31m \u001b[0mch_list\u001b[0m\u001b[0;34m[\u001b[0m\u001b[0;36m120\u001b[0m\u001b[0;34m:\u001b[0m\u001b[0;36m124\u001b[0m\u001b[0;34m]\u001b[0m\u001b[0;34m\u001b[0m\u001b[0m\n\u001b[0m",
      "\u001b[0;31mNameError\u001b[0m: name 'ch_list' is not defined"
     ]
    }
   ],
   "source": [
    "ch_list[120:124]"
   ]
  },
  {
   "cell_type": "code",
   "execution_count": null,
   "metadata": {},
   "outputs": [],
   "source": []
  },
  {
   "cell_type": "code",
   "execution_count": null,
   "metadata": {},
   "outputs": [],
   "source": []
  },
  {
   "cell_type": "code",
   "execution_count": 7,
   "metadata": {
    "ExecuteTime": {
     "end_time": "2018-07-11T21:09:16.443107Z",
     "start_time": "2018-07-11T21:09:16.435433Z"
    }
   },
   "outputs": [],
   "source": [
    "prb.n_ch = 160"
   ]
  },
  {
   "cell_type": "code",
   "execution_count": 6,
   "metadata": {
    "ExecuteTime": {
     "end_time": "2018-07-11T21:13:47.922983Z",
     "start_time": "2018-07-11T21:13:47.910612Z"
    },
    "scrolled": true
   },
   "outputs": [
    {
     "data": {
      "text/plain": [
       "array([  3,   5,  52,  59,  10,  53,  54,  60,   4,  12,  13,  58,   2,\n",
       "        11,  55,  57,   1,   8,  15,  51,  18,  48,  50,  63,   0,  31,\n",
       "        34,  47,   9,  25,  33,  61,  14,  17,  22,  62,  19,  21,  37,\n",
       "        39,  20,  35,  36,  38,  26,  29,  44,  45,   7,  24,  27,  40,\n",
       "        16,  32,  41,  42,  23,  28,  43,  46,  67,  69, 116, 123,  74,\n",
       "       117, 118, 124,  68,  76,  77, 122,  66,  75, 119, 121,  65,  72,\n",
       "        79, 115,  82, 112, 114, 127,  64,  95,  98, 111,  73,  89,  97,\n",
       "       125,  78,  81,  86, 126,  83,  85, 101, 103,  84,  99, 100, 102,\n",
       "        90,  93, 108, 109,  71,  88,  91, 104,  80,  96, 105, 106,  87,\n",
       "        92, 107, 110])"
      ]
     },
     "execution_count": 6,
     "metadata": {},
     "output_type": "execute_result"
    }
   ],
   "source": [
    "prb.chs"
   ]
  },
  {
   "cell_type": "code",
   "execution_count": 9,
   "metadata": {
    "ExecuteTime": {
     "end_time": "2018-07-11T21:14:00.636052Z",
     "start_time": "2018-07-11T21:14:00.625778Z"
    }
   },
   "outputs": [
    {
     "data": {
      "text/plain": [
       "array([  6,  30,  49,  56,  70,  94, 113, 120, 128, 129, 130, 131, 132,\n",
       "       133, 134, 135, 136, 137, 138, 139, 140, 141, 142, 143, 144, 145,\n",
       "       146, 147, 148, 149, 150, 151, 152, 153, 154, 155, 156, 157, 158,\n",
       "       159])"
      ]
     },
     "execution_count": 9,
     "metadata": {},
     "output_type": "execute_result"
    }
   ],
   "source": [
    "prb.mask_chs"
   ]
  },
  {
   "cell_type": "code",
   "execution_count": 10,
   "metadata": {
    "ExecuteTime": {
     "end_time": "2018-07-11T21:09:22.845885Z",
     "start_time": "2018-07-11T21:09:22.839504Z"
    }
   },
   "outputs": [],
   "source": [
    "ch_list = np.hstack((prb.chs, prb.mask_chs))"
   ]
  },
  {
   "cell_type": "code",
   "execution_count": 11,
   "metadata": {
    "ExecuteTime": {
     "end_time": "2018-07-11T21:09:23.297102Z",
     "start_time": "2018-07-11T21:09:23.287120Z"
    }
   },
   "outputs": [
    {
     "data": {
      "text/plain": [
       "(160,)"
      ]
     },
     "execution_count": 11,
     "metadata": {},
     "output_type": "execute_result"
    }
   ],
   "source": [
    "ch_list.shape"
   ]
  },
  {
   "cell_type": "code",
   "execution_count": 12,
   "metadata": {
    "ExecuteTime": {
     "end_time": "2018-07-11T21:09:23.758950Z",
     "start_time": "2018-07-11T21:09:23.749596Z"
    }
   },
   "outputs": [
    {
     "data": {
      "text/plain": [
       "array([  6,  30,  49,  56,  70,  94, 113, 120])"
      ]
     },
     "execution_count": 12,
     "metadata": {},
     "output_type": "execute_result"
    }
   ],
   "source": [
    "ch_list[120:128]"
   ]
  },
  {
   "cell_type": "code",
   "execution_count": null,
   "metadata": {},
   "outputs": [],
   "source": []
  },
  {
   "cell_type": "code",
   "execution_count": null,
   "metadata": {},
   "outputs": [],
   "source": []
  },
  {
   "cell_type": "code",
   "execution_count": 75,
   "metadata": {
    "ExecuteTime": {
     "end_time": "2018-07-11T21:02:50.457271Z",
     "start_time": "2018-07-11T21:02:50.445253Z"
    }
   },
   "outputs": [],
   "source": [
    "ch_dict = {}\n",
    "ch_dict['refs'] = {\"channels\": [-2, -1, -1, -1]}\n",
    "ch_dict['recording'] = {}\n",
    "ch_dict['recording']['channels'] = 175*[False]\n",
    "ch_dict['0'] = {}\n",
    "ch_dict['0']['enabled'] = 175*[True]\n",
    "ch_dict['0']['mapping'] = list(ch_list+1)\n",
    "ch_dict['0']['reference'] = 175*[0]"
   ]
  },
  {
   "cell_type": "code",
   "execution_count": 76,
   "metadata": {
    "ExecuteTime": {
     "end_time": "2018-07-11T21:02:51.502634Z",
     "start_time": "2018-07-11T21:02:51.497340Z"
    }
   },
   "outputs": [],
   "source": [
    "import json"
   ]
  },
  {
   "cell_type": "code",
   "execution_count": 77,
   "metadata": {
    "ExecuteTime": {
     "end_time": "2018-07-11T21:02:52.198767Z",
     "start_time": "2018-07-11T21:02:52.187298Z"
    }
   },
   "outputs": [],
   "source": [
    "def loadmap(file, filetype='json'):\n",
    "    if filetype == 'json':\n",
    "        with open(file) as mapping_file:    \n",
    "            data = json.load(mapping_file)\n",
    "    else:\n",
    "        print 'the file needs to be json'\n",
    "    tetrode_ch_hash = np.array(data['0']['mapping']).reshape(-1,4) - 1\n",
    "    for i, _ch_hash in enumerate(tetrode_ch_hash):\n",
    "            print i, _ch_hash"
   ]
  },
  {
   "cell_type": "code",
   "execution_count": 78,
   "metadata": {
    "ExecuteTime": {
     "end_time": "2018-07-11T21:02:52.408052Z",
     "start_time": "2018-07-11T21:02:52.400693Z"
    }
   },
   "outputs": [],
   "source": [
    "def savemap(ch_dict, filename, filetype='json'):\n",
    "    if filetype == 'json':\n",
    "        with open(filename, 'w') as fp:\n",
    "            json.dump(ch_dict, fp,indent=4, separators=(',', ': '))"
   ]
  },
  {
   "cell_type": "code",
   "execution_count": null,
   "metadata": {},
   "outputs": [],
   "source": []
  },
  {
   "cell_type": "code",
   "execution_count": 79,
   "metadata": {
    "ExecuteTime": {
     "end_time": "2018-07-11T21:02:53.411508Z",
     "start_time": "2018-07-11T21:02:53.393497Z"
    }
   },
   "outputs": [
    {
     "name": "stdout",
     "output_type": "stream",
     "text": [
      "0 [68 69 74 75]\n",
      "1 [70 71 72 73]\n",
      "2 [32 33 40 41]\n",
      "3 [34 35 42 43]\n",
      "4 [36 37 44 45]\n",
      "5 [38 39 46 47]\n",
      "6 [6 7 8 9]\n",
      "7 [ 4  5 10 11]\n",
      "8 [ 2  3 12 13]\n",
      "9 [ 0  1 14 15]\n",
      "10 [16 17 30 31]\n",
      "11 [18 19 28 29]\n",
      "12 [20 21 26 27]\n",
      "13 [22 23 24 25]\n",
      "14 [48 49 56 57]\n",
      "15 [50 51 58 59]\n",
      "16 [52 53 60 61]\n",
      "17 [54 55 62 63]\n",
      "18 [86 87 88 89]\n",
      "19 [84 85 90 91]\n",
      "20 [82 83 92 93]\n",
      "21 [80 81 94 95]\n",
      "22 [118 119 120 121]\n",
      "23 [116 117 122 123]\n",
      "24 [114 115 124 125]\n",
      "25 [112 113 126 127]\n",
      "26 [150 151 152 153]\n",
      "27 [148 149 154 155]\n",
      "28 [146 147 156 157]\n",
      "29 [144 145 158 159]\n",
      "30 [128 129 142 143]\n",
      "31 [130 131 140 141]\n",
      "32 [132 133 138 139]\n",
      "33 [134 135 136 137]\n",
      "34 [ 96  97 110 111]\n",
      "35 [ 98  99 108 109]\n",
      "36 [100 101 106 107]\n",
      "37 [102 103 104 105]\n",
      "38 [64 65 78 79]\n",
      "39 [66 67 76 77]\n"
     ]
    }
   ],
   "source": [
    "loadmap('./40 tetrode_channel_map_order')"
   ]
  },
  {
   "cell_type": "code",
   "execution_count": 80,
   "metadata": {
    "ExecuteTime": {
     "end_time": "2018-07-11T21:02:53.940353Z",
     "start_time": "2018-07-11T21:02:53.932665Z"
    }
   },
   "outputs": [],
   "source": [
    "savemap(ch_dict, '/disk0/testbench/open-ephys-load/shinsuke.json')"
   ]
  },
  {
   "cell_type": "code",
   "execution_count": 26,
   "metadata": {
    "ExecuteTime": {
     "end_time": "2018-07-11T20:48:34.949985Z",
     "start_time": "2018-07-11T20:48:34.932373Z"
    }
   },
   "outputs": [
    {
     "name": "stdout",
     "output_type": "stream",
     "text": [
      "0 [ 3  5 52 59]\n",
      "1 [10 53 54 60]\n",
      "2 [ 4 12 13 58]\n",
      "3 [ 2 11 55 57]\n",
      "4 [ 1  8 15 51]\n",
      "5 [18 48 50 63]\n",
      "6 [ 0 31 34 47]\n",
      "7 [ 9 25 33 61]\n",
      "8 [14 17 22 62]\n",
      "9 [19 21 37 39]\n",
      "10 [20 35 36 38]\n",
      "11 [26 29 44 45]\n",
      "12 [ 7 24 27 40]\n",
      "13 [16 32 41 42]\n",
      "14 [23 28 43 46]\n",
      "15 [ 67  69 116 123]\n",
      "16 [ 74 117 118 124]\n",
      "17 [ 68  76  77 122]\n",
      "18 [ 66  75 119 121]\n",
      "19 [ 65  72  79 115]\n",
      "20 [ 82 112 114 127]\n",
      "21 [ 64  95  98 111]\n",
      "22 [ 73  89  97 125]\n",
      "23 [ 78  81  86 126]\n",
      "24 [ 83  85 101 103]\n",
      "25 [ 84  99 100 102]\n",
      "26 [ 90  93 108 109]\n",
      "27 [ 71  88  91 104]\n",
      "28 [ 80  96 105 106]\n",
      "29 [ 87  92 107 110]\n",
      "30 [ 6 30 49 56]\n",
      "31 [ 70  94 113 120]\n",
      "32 [128 129 130 131]\n",
      "33 [132 133 134 135]\n",
      "34 [136 137 138 139]\n",
      "35 [140 141 142 143]\n",
      "36 [144 145 146 147]\n",
      "37 [148 149 150 151]\n",
      "38 [152 153 154 155]\n",
      "39 [156 157 158 159]\n"
     ]
    }
   ],
   "source": [
    "loadmap('./shinsuke.json')"
   ]
  },
  {
   "cell_type": "code",
   "execution_count": 168,
   "metadata": {
    "ExecuteTime": {
     "end_time": "2018-06-29T22:18:40.760614Z",
     "start_time": "2018-06-29T22:18:40.103487Z"
    }
   },
   "outputs": [],
   "source": [
    "prb.show()"
   ]
  },
  {
   "cell_type": "code",
   "execution_count": 27,
   "metadata": {
    "ExecuteTime": {
     "end_time": "2018-07-11T20:48:37.074883Z",
     "start_time": "2018-07-11T20:48:36.924138Z"
    }
   },
   "outputs": [],
   "source": [
    "!subl ./shinsuke.json"
   ]
  },
  {
   "cell_type": "code",
   "execution_count": 46,
   "metadata": {
    "ExecuteTime": {
     "end_time": "2018-07-11T20:56:11.314238Z",
     "start_time": "2018-07-11T20:56:11.306944Z"
    }
   },
   "outputs": [],
   "source": [
    "with open('/disk0/testbench/open-ephys-load/bowtieprb') as mapping_file:\n",
    "    data0 = json.load(mapping_file)"
   ]
  },
  {
   "cell_type": "code",
   "execution_count": 47,
   "metadata": {
    "ExecuteTime": {
     "end_time": "2018-07-11T20:56:11.523415Z",
     "start_time": "2018-07-11T20:56:11.478884Z"
    }
   },
   "outputs": [
    {
     "data": {
      "text/plain": [
       "{u'0': {u'enabled': [True,\n",
       "   True,\n",
       "   True,\n",
       "   True,\n",
       "   True,\n",
       "   True,\n",
       "   True,\n",
       "   True,\n",
       "   True,\n",
       "   True,\n",
       "   True,\n",
       "   True,\n",
       "   True,\n",
       "   True,\n",
       "   True,\n",
       "   True,\n",
       "   True,\n",
       "   True,\n",
       "   True,\n",
       "   True,\n",
       "   True,\n",
       "   True,\n",
       "   True,\n",
       "   True,\n",
       "   True,\n",
       "   True,\n",
       "   True,\n",
       "   True,\n",
       "   True,\n",
       "   True,\n",
       "   True,\n",
       "   True,\n",
       "   True,\n",
       "   True,\n",
       "   True,\n",
       "   True,\n",
       "   True,\n",
       "   True,\n",
       "   True,\n",
       "   True,\n",
       "   True,\n",
       "   True,\n",
       "   True,\n",
       "   True,\n",
       "   True,\n",
       "   True,\n",
       "   True,\n",
       "   True,\n",
       "   True,\n",
       "   True,\n",
       "   True,\n",
       "   True,\n",
       "   True,\n",
       "   True,\n",
       "   True,\n",
       "   True,\n",
       "   True,\n",
       "   True,\n",
       "   True,\n",
       "   True,\n",
       "   True,\n",
       "   True,\n",
       "   True,\n",
       "   True,\n",
       "   True,\n",
       "   True,\n",
       "   True,\n",
       "   True,\n",
       "   True,\n",
       "   True,\n",
       "   True,\n",
       "   True,\n",
       "   True,\n",
       "   True,\n",
       "   True,\n",
       "   True,\n",
       "   True,\n",
       "   True,\n",
       "   True,\n",
       "   True,\n",
       "   True,\n",
       "   True,\n",
       "   True,\n",
       "   True,\n",
       "   True,\n",
       "   True,\n",
       "   True,\n",
       "   True,\n",
       "   True,\n",
       "   True,\n",
       "   True,\n",
       "   True,\n",
       "   True,\n",
       "   True,\n",
       "   True,\n",
       "   True,\n",
       "   True,\n",
       "   True,\n",
       "   True,\n",
       "   True,\n",
       "   True,\n",
       "   True,\n",
       "   True,\n",
       "   True,\n",
       "   True,\n",
       "   True,\n",
       "   True,\n",
       "   True,\n",
       "   True,\n",
       "   True,\n",
       "   True,\n",
       "   True,\n",
       "   True,\n",
       "   True,\n",
       "   True,\n",
       "   True,\n",
       "   True,\n",
       "   True,\n",
       "   True,\n",
       "   True,\n",
       "   True,\n",
       "   True,\n",
       "   True,\n",
       "   True,\n",
       "   True,\n",
       "   True,\n",
       "   True,\n",
       "   True,\n",
       "   True,\n",
       "   True,\n",
       "   True,\n",
       "   True,\n",
       "   True,\n",
       "   True,\n",
       "   True,\n",
       "   True,\n",
       "   True,\n",
       "   True,\n",
       "   True,\n",
       "   True,\n",
       "   True,\n",
       "   True,\n",
       "   True,\n",
       "   True,\n",
       "   True,\n",
       "   True,\n",
       "   True,\n",
       "   True,\n",
       "   True,\n",
       "   True,\n",
       "   True,\n",
       "   True,\n",
       "   True,\n",
       "   True,\n",
       "   True,\n",
       "   True,\n",
       "   True,\n",
       "   True,\n",
       "   True,\n",
       "   True,\n",
       "   True,\n",
       "   True,\n",
       "   True,\n",
       "   True,\n",
       "   True,\n",
       "   True,\n",
       "   True,\n",
       "   True,\n",
       "   True,\n",
       "   True,\n",
       "   True,\n",
       "   True,\n",
       "   True,\n",
       "   True,\n",
       "   True],\n",
       "  u'mapping': [4,\n",
       "   6,\n",
       "   53,\n",
       "   60,\n",
       "   11,\n",
       "   54,\n",
       "   55,\n",
       "   61,\n",
       "   5,\n",
       "   13,\n",
       "   14,\n",
       "   59,\n",
       "   3,\n",
       "   12,\n",
       "   56,\n",
       "   58,\n",
       "   2,\n",
       "   9,\n",
       "   16,\n",
       "   52,\n",
       "   19,\n",
       "   49,\n",
       "   51,\n",
       "   64,\n",
       "   1,\n",
       "   32,\n",
       "   35,\n",
       "   48,\n",
       "   10,\n",
       "   26,\n",
       "   34,\n",
       "   62,\n",
       "   15,\n",
       "   18,\n",
       "   23,\n",
       "   63,\n",
       "   20,\n",
       "   22,\n",
       "   38,\n",
       "   40,\n",
       "   21,\n",
       "   36,\n",
       "   37,\n",
       "   39,\n",
       "   27,\n",
       "   30,\n",
       "   45,\n",
       "   46,\n",
       "   8,\n",
       "   25,\n",
       "   28,\n",
       "   41,\n",
       "   17,\n",
       "   33,\n",
       "   42,\n",
       "   43,\n",
       "   24,\n",
       "   29,\n",
       "   44,\n",
       "   47,\n",
       "   68,\n",
       "   70,\n",
       "   117,\n",
       "   124,\n",
       "   75,\n",
       "   118,\n",
       "   119,\n",
       "   125,\n",
       "   69,\n",
       "   77,\n",
       "   78,\n",
       "   123,\n",
       "   67,\n",
       "   76,\n",
       "   120,\n",
       "   122,\n",
       "   66,\n",
       "   73,\n",
       "   80,\n",
       "   116,\n",
       "   83,\n",
       "   113,\n",
       "   115,\n",
       "   128,\n",
       "   65,\n",
       "   96,\n",
       "   99,\n",
       "   112,\n",
       "   74,\n",
       "   90,\n",
       "   98,\n",
       "   126,\n",
       "   79,\n",
       "   82,\n",
       "   87,\n",
       "   127,\n",
       "   84,\n",
       "   86,\n",
       "   102,\n",
       "   104,\n",
       "   85,\n",
       "   100,\n",
       "   101,\n",
       "   103,\n",
       "   91,\n",
       "   94,\n",
       "   109,\n",
       "   110,\n",
       "   72,\n",
       "   89,\n",
       "   92,\n",
       "   105,\n",
       "   81,\n",
       "   97,\n",
       "   106,\n",
       "   107,\n",
       "   88,\n",
       "   93,\n",
       "   108,\n",
       "   111,\n",
       "   7,\n",
       "   31,\n",
       "   50,\n",
       "   57,\n",
       "   71,\n",
       "   95,\n",
       "   114,\n",
       "   121,\n",
       "   129,\n",
       "   130,\n",
       "   131,\n",
       "   132,\n",
       "   133,\n",
       "   134,\n",
       "   135,\n",
       "   136,\n",
       "   137,\n",
       "   138,\n",
       "   139,\n",
       "   140,\n",
       "   141,\n",
       "   142,\n",
       "   143,\n",
       "   144,\n",
       "   145,\n",
       "   146,\n",
       "   147,\n",
       "   148,\n",
       "   149,\n",
       "   150,\n",
       "   151,\n",
       "   152,\n",
       "   153,\n",
       "   154,\n",
       "   155,\n",
       "   156,\n",
       "   157,\n",
       "   158,\n",
       "   159,\n",
       "   160,\n",
       "   161,\n",
       "   162,\n",
       "   163,\n",
       "   164,\n",
       "   165,\n",
       "   166,\n",
       "   167,\n",
       "   168,\n",
       "   169,\n",
       "   170,\n",
       "   171,\n",
       "   172,\n",
       "   173,\n",
       "   174,\n",
       "   175],\n",
       "  u'reference': [0,\n",
       "   0,\n",
       "   0,\n",
       "   0,\n",
       "   0,\n",
       "   0,\n",
       "   0,\n",
       "   0,\n",
       "   0,\n",
       "   0,\n",
       "   0,\n",
       "   0,\n",
       "   0,\n",
       "   0,\n",
       "   0,\n",
       "   0,\n",
       "   0,\n",
       "   0,\n",
       "   0,\n",
       "   0,\n",
       "   0,\n",
       "   0,\n",
       "   0,\n",
       "   0,\n",
       "   0,\n",
       "   0,\n",
       "   0,\n",
       "   0,\n",
       "   0,\n",
       "   0,\n",
       "   0,\n",
       "   0,\n",
       "   0,\n",
       "   0,\n",
       "   0,\n",
       "   0,\n",
       "   0,\n",
       "   0,\n",
       "   0,\n",
       "   0,\n",
       "   0,\n",
       "   0,\n",
       "   0,\n",
       "   0,\n",
       "   0,\n",
       "   0,\n",
       "   0,\n",
       "   0,\n",
       "   0,\n",
       "   0,\n",
       "   0,\n",
       "   0,\n",
       "   0,\n",
       "   0,\n",
       "   0,\n",
       "   0,\n",
       "   0,\n",
       "   0,\n",
       "   0,\n",
       "   0,\n",
       "   0,\n",
       "   0,\n",
       "   0,\n",
       "   0,\n",
       "   0,\n",
       "   0,\n",
       "   0,\n",
       "   0,\n",
       "   0,\n",
       "   0,\n",
       "   0,\n",
       "   0,\n",
       "   0,\n",
       "   0,\n",
       "   0,\n",
       "   0,\n",
       "   0,\n",
       "   0,\n",
       "   0,\n",
       "   0,\n",
       "   0,\n",
       "   0,\n",
       "   0,\n",
       "   0,\n",
       "   0,\n",
       "   0,\n",
       "   0,\n",
       "   0,\n",
       "   0,\n",
       "   0,\n",
       "   0,\n",
       "   0,\n",
       "   0,\n",
       "   0,\n",
       "   0,\n",
       "   0,\n",
       "   0,\n",
       "   0,\n",
       "   0,\n",
       "   0,\n",
       "   0,\n",
       "   0,\n",
       "   0,\n",
       "   0,\n",
       "   0,\n",
       "   0,\n",
       "   0,\n",
       "   0,\n",
       "   0,\n",
       "   0,\n",
       "   0,\n",
       "   0,\n",
       "   0,\n",
       "   0,\n",
       "   0,\n",
       "   0,\n",
       "   0,\n",
       "   0,\n",
       "   0,\n",
       "   0,\n",
       "   0,\n",
       "   0,\n",
       "   0,\n",
       "   0,\n",
       "   0,\n",
       "   0,\n",
       "   0,\n",
       "   0,\n",
       "   0,\n",
       "   0,\n",
       "   0,\n",
       "   0,\n",
       "   0,\n",
       "   0,\n",
       "   0,\n",
       "   0,\n",
       "   0,\n",
       "   0,\n",
       "   0,\n",
       "   0,\n",
       "   0,\n",
       "   0,\n",
       "   0,\n",
       "   0,\n",
       "   0,\n",
       "   0,\n",
       "   0,\n",
       "   0,\n",
       "   0,\n",
       "   0,\n",
       "   0,\n",
       "   0,\n",
       "   0,\n",
       "   0,\n",
       "   0,\n",
       "   0,\n",
       "   0,\n",
       "   0,\n",
       "   0,\n",
       "   0,\n",
       "   0,\n",
       "   0,\n",
       "   0,\n",
       "   0,\n",
       "   0,\n",
       "   0,\n",
       "   0,\n",
       "   0,\n",
       "   0,\n",
       "   0,\n",
       "   0,\n",
       "   0,\n",
       "   0,\n",
       "   0,\n",
       "   0]},\n",
       " u'recording': {u'channels': [False,\n",
       "   False,\n",
       "   False,\n",
       "   False,\n",
       "   False,\n",
       "   False,\n",
       "   False,\n",
       "   False,\n",
       "   False,\n",
       "   False,\n",
       "   False,\n",
       "   False,\n",
       "   False,\n",
       "   False,\n",
       "   False,\n",
       "   False,\n",
       "   False,\n",
       "   False,\n",
       "   False,\n",
       "   False,\n",
       "   False,\n",
       "   False,\n",
       "   False,\n",
       "   False,\n",
       "   False,\n",
       "   False,\n",
       "   False,\n",
       "   False,\n",
       "   False,\n",
       "   False,\n",
       "   False,\n",
       "   False,\n",
       "   False,\n",
       "   False,\n",
       "   False,\n",
       "   False,\n",
       "   False,\n",
       "   False,\n",
       "   False,\n",
       "   False,\n",
       "   False,\n",
       "   False,\n",
       "   False,\n",
       "   False,\n",
       "   False,\n",
       "   False,\n",
       "   False,\n",
       "   False,\n",
       "   False,\n",
       "   False,\n",
       "   False,\n",
       "   False,\n",
       "   False,\n",
       "   False,\n",
       "   False,\n",
       "   False,\n",
       "   False,\n",
       "   False,\n",
       "   False,\n",
       "   False,\n",
       "   False,\n",
       "   False,\n",
       "   False,\n",
       "   False,\n",
       "   False,\n",
       "   False,\n",
       "   False,\n",
       "   False,\n",
       "   False,\n",
       "   False,\n",
       "   False,\n",
       "   False,\n",
       "   False,\n",
       "   False,\n",
       "   False,\n",
       "   False,\n",
       "   False,\n",
       "   False,\n",
       "   False,\n",
       "   False,\n",
       "   False,\n",
       "   False,\n",
       "   False,\n",
       "   False,\n",
       "   False,\n",
       "   False,\n",
       "   False,\n",
       "   False,\n",
       "   False,\n",
       "   False,\n",
       "   False,\n",
       "   False,\n",
       "   False,\n",
       "   False,\n",
       "   False,\n",
       "   False,\n",
       "   False,\n",
       "   False,\n",
       "   False,\n",
       "   False,\n",
       "   False,\n",
       "   False,\n",
       "   False,\n",
       "   False,\n",
       "   False,\n",
       "   False,\n",
       "   False,\n",
       "   False,\n",
       "   False,\n",
       "   False,\n",
       "   False,\n",
       "   False,\n",
       "   False,\n",
       "   False,\n",
       "   False,\n",
       "   False,\n",
       "   False,\n",
       "   False,\n",
       "   False,\n",
       "   False,\n",
       "   False,\n",
       "   False,\n",
       "   False,\n",
       "   False,\n",
       "   False,\n",
       "   False,\n",
       "   False,\n",
       "   False,\n",
       "   False,\n",
       "   False,\n",
       "   False,\n",
       "   False,\n",
       "   False,\n",
       "   False,\n",
       "   False,\n",
       "   False,\n",
       "   False,\n",
       "   False,\n",
       "   False,\n",
       "   False,\n",
       "   False,\n",
       "   False,\n",
       "   False,\n",
       "   False,\n",
       "   False,\n",
       "   False,\n",
       "   False,\n",
       "   False,\n",
       "   False,\n",
       "   False,\n",
       "   False,\n",
       "   False,\n",
       "   False,\n",
       "   False,\n",
       "   False,\n",
       "   False,\n",
       "   False,\n",
       "   False,\n",
       "   False,\n",
       "   False,\n",
       "   False,\n",
       "   False,\n",
       "   False,\n",
       "   False,\n",
       "   False,\n",
       "   False,\n",
       "   False,\n",
       "   False,\n",
       "   False,\n",
       "   False,\n",
       "   False,\n",
       "   False,\n",
       "   False,\n",
       "   False,\n",
       "   False]},\n",
       " u'refs': {u'channels': [-2, -1, -1, -1]}}"
      ]
     },
     "execution_count": 47,
     "metadata": {},
     "output_type": "execute_result"
    }
   ],
   "source": [
    "data0"
   ]
  },
  {
   "cell_type": "code",
   "execution_count": 48,
   "metadata": {
    "ExecuteTime": {
     "end_time": "2018-07-11T20:56:16.009761Z",
     "start_time": "2018-07-11T20:56:16.004035Z"
    }
   },
   "outputs": [],
   "source": [
    "with open('/disk0/testbench/open-ephys-load/shinsuke.json') as mapping_file:\n",
    "    data1 = json.load(mapping_file)"
   ]
  },
  {
   "cell_type": "code",
   "execution_count": 49,
   "metadata": {
    "ExecuteTime": {
     "end_time": "2018-07-11T20:56:16.243443Z",
     "start_time": "2018-07-11T20:56:16.208537Z"
    }
   },
   "outputs": [
    {
     "data": {
      "text/plain": [
       "{u'0': {u'enabled': [True,\n",
       "   True,\n",
       "   True,\n",
       "   True,\n",
       "   True,\n",
       "   True,\n",
       "   True,\n",
       "   True,\n",
       "   True,\n",
       "   True,\n",
       "   True,\n",
       "   True,\n",
       "   True,\n",
       "   True,\n",
       "   True,\n",
       "   True,\n",
       "   True,\n",
       "   True,\n",
       "   True,\n",
       "   True,\n",
       "   True,\n",
       "   True,\n",
       "   True,\n",
       "   True,\n",
       "   True,\n",
       "   True,\n",
       "   True,\n",
       "   True,\n",
       "   True,\n",
       "   True,\n",
       "   True,\n",
       "   True,\n",
       "   True,\n",
       "   True,\n",
       "   True,\n",
       "   True,\n",
       "   True,\n",
       "   True,\n",
       "   True,\n",
       "   True,\n",
       "   True,\n",
       "   True,\n",
       "   True,\n",
       "   True,\n",
       "   True,\n",
       "   True,\n",
       "   True,\n",
       "   True,\n",
       "   True,\n",
       "   True,\n",
       "   True,\n",
       "   True,\n",
       "   True,\n",
       "   True,\n",
       "   True,\n",
       "   True,\n",
       "   True,\n",
       "   True,\n",
       "   True,\n",
       "   True,\n",
       "   True,\n",
       "   True,\n",
       "   True,\n",
       "   True,\n",
       "   True,\n",
       "   True,\n",
       "   True,\n",
       "   True,\n",
       "   True,\n",
       "   True,\n",
       "   True,\n",
       "   True,\n",
       "   True,\n",
       "   True,\n",
       "   True,\n",
       "   True,\n",
       "   True,\n",
       "   True,\n",
       "   True,\n",
       "   True,\n",
       "   True,\n",
       "   True,\n",
       "   True,\n",
       "   True,\n",
       "   True,\n",
       "   True,\n",
       "   True,\n",
       "   True,\n",
       "   True,\n",
       "   True,\n",
       "   True,\n",
       "   True,\n",
       "   True,\n",
       "   True,\n",
       "   True,\n",
       "   True,\n",
       "   True,\n",
       "   True,\n",
       "   True,\n",
       "   True,\n",
       "   True,\n",
       "   True,\n",
       "   True,\n",
       "   True,\n",
       "   True,\n",
       "   True,\n",
       "   True,\n",
       "   True,\n",
       "   True,\n",
       "   True,\n",
       "   True,\n",
       "   True,\n",
       "   True,\n",
       "   True,\n",
       "   True,\n",
       "   True,\n",
       "   True,\n",
       "   True,\n",
       "   True,\n",
       "   True,\n",
       "   True,\n",
       "   True,\n",
       "   True,\n",
       "   True,\n",
       "   True,\n",
       "   True,\n",
       "   True,\n",
       "   True,\n",
       "   True,\n",
       "   True,\n",
       "   True,\n",
       "   True,\n",
       "   True,\n",
       "   True,\n",
       "   True,\n",
       "   True,\n",
       "   True,\n",
       "   True,\n",
       "   True,\n",
       "   True,\n",
       "   True,\n",
       "   True,\n",
       "   True,\n",
       "   True,\n",
       "   True,\n",
       "   True,\n",
       "   True,\n",
       "   True,\n",
       "   True,\n",
       "   True,\n",
       "   True,\n",
       "   True,\n",
       "   True,\n",
       "   True,\n",
       "   True,\n",
       "   True,\n",
       "   True,\n",
       "   True,\n",
       "   True,\n",
       "   True,\n",
       "   True,\n",
       "   True,\n",
       "   True,\n",
       "   True,\n",
       "   True,\n",
       "   True,\n",
       "   True,\n",
       "   True,\n",
       "   True,\n",
       "   True,\n",
       "   True,\n",
       "   True,\n",
       "   True,\n",
       "   True,\n",
       "   True],\n",
       "  u'mapping': [4,\n",
       "   6,\n",
       "   53,\n",
       "   60,\n",
       "   11,\n",
       "   54,\n",
       "   55,\n",
       "   61,\n",
       "   5,\n",
       "   13,\n",
       "   14,\n",
       "   59,\n",
       "   3,\n",
       "   12,\n",
       "   56,\n",
       "   58,\n",
       "   2,\n",
       "   9,\n",
       "   16,\n",
       "   52,\n",
       "   19,\n",
       "   49,\n",
       "   51,\n",
       "   64,\n",
       "   1,\n",
       "   32,\n",
       "   35,\n",
       "   48,\n",
       "   10,\n",
       "   26,\n",
       "   34,\n",
       "   62,\n",
       "   15,\n",
       "   18,\n",
       "   23,\n",
       "   63,\n",
       "   20,\n",
       "   22,\n",
       "   38,\n",
       "   40,\n",
       "   21,\n",
       "   36,\n",
       "   37,\n",
       "   39,\n",
       "   27,\n",
       "   30,\n",
       "   45,\n",
       "   46,\n",
       "   8,\n",
       "   25,\n",
       "   28,\n",
       "   41,\n",
       "   17,\n",
       "   33,\n",
       "   42,\n",
       "   43,\n",
       "   24,\n",
       "   29,\n",
       "   44,\n",
       "   47,\n",
       "   68,\n",
       "   70,\n",
       "   117,\n",
       "   124,\n",
       "   75,\n",
       "   118,\n",
       "   119,\n",
       "   125,\n",
       "   69,\n",
       "   77,\n",
       "   78,\n",
       "   123,\n",
       "   67,\n",
       "   76,\n",
       "   120,\n",
       "   122,\n",
       "   66,\n",
       "   73,\n",
       "   80,\n",
       "   116,\n",
       "   83,\n",
       "   113,\n",
       "   115,\n",
       "   128,\n",
       "   65,\n",
       "   96,\n",
       "   99,\n",
       "   112,\n",
       "   74,\n",
       "   90,\n",
       "   98,\n",
       "   126,\n",
       "   79,\n",
       "   82,\n",
       "   87,\n",
       "   127,\n",
       "   84,\n",
       "   86,\n",
       "   102,\n",
       "   104,\n",
       "   85,\n",
       "   100,\n",
       "   101,\n",
       "   103,\n",
       "   91,\n",
       "   94,\n",
       "   109,\n",
       "   110,\n",
       "   72,\n",
       "   89,\n",
       "   92,\n",
       "   105,\n",
       "   81,\n",
       "   97,\n",
       "   106,\n",
       "   107,\n",
       "   88,\n",
       "   93,\n",
       "   108,\n",
       "   111,\n",
       "   7,\n",
       "   31,\n",
       "   50,\n",
       "   57,\n",
       "   71,\n",
       "   95,\n",
       "   114,\n",
       "   121,\n",
       "   129,\n",
       "   130,\n",
       "   131,\n",
       "   132,\n",
       "   133,\n",
       "   134,\n",
       "   135,\n",
       "   136,\n",
       "   137,\n",
       "   138,\n",
       "   139,\n",
       "   140,\n",
       "   141,\n",
       "   142,\n",
       "   143,\n",
       "   144,\n",
       "   145,\n",
       "   146,\n",
       "   147,\n",
       "   148,\n",
       "   149,\n",
       "   150,\n",
       "   151,\n",
       "   152,\n",
       "   153,\n",
       "   154,\n",
       "   155,\n",
       "   156,\n",
       "   157,\n",
       "   158,\n",
       "   159,\n",
       "   160]},\n",
       " u'recording': {u'channels': [False,\n",
       "   False,\n",
       "   False,\n",
       "   False,\n",
       "   False,\n",
       "   False,\n",
       "   False,\n",
       "   False,\n",
       "   False,\n",
       "   False,\n",
       "   False,\n",
       "   False,\n",
       "   False,\n",
       "   False,\n",
       "   False,\n",
       "   False,\n",
       "   False,\n",
       "   False,\n",
       "   False,\n",
       "   False,\n",
       "   False,\n",
       "   False,\n",
       "   False,\n",
       "   False,\n",
       "   False,\n",
       "   False,\n",
       "   False,\n",
       "   False,\n",
       "   False,\n",
       "   False,\n",
       "   False,\n",
       "   False,\n",
       "   False,\n",
       "   False,\n",
       "   False,\n",
       "   False,\n",
       "   False,\n",
       "   False,\n",
       "   False,\n",
       "   False,\n",
       "   False,\n",
       "   False,\n",
       "   False,\n",
       "   False,\n",
       "   False,\n",
       "   False,\n",
       "   False,\n",
       "   False,\n",
       "   False,\n",
       "   False,\n",
       "   False,\n",
       "   False,\n",
       "   False,\n",
       "   False,\n",
       "   False,\n",
       "   False,\n",
       "   False,\n",
       "   False,\n",
       "   False,\n",
       "   False,\n",
       "   False,\n",
       "   False,\n",
       "   False,\n",
       "   False,\n",
       "   False,\n",
       "   False,\n",
       "   False,\n",
       "   False,\n",
       "   False,\n",
       "   False,\n",
       "   False,\n",
       "   False,\n",
       "   False,\n",
       "   False,\n",
       "   False,\n",
       "   False,\n",
       "   False,\n",
       "   False,\n",
       "   False,\n",
       "   False,\n",
       "   False,\n",
       "   False,\n",
       "   False,\n",
       "   False,\n",
       "   False,\n",
       "   False,\n",
       "   False,\n",
       "   False,\n",
       "   False,\n",
       "   False,\n",
       "   False,\n",
       "   False,\n",
       "   False,\n",
       "   False,\n",
       "   False,\n",
       "   False,\n",
       "   False,\n",
       "   False,\n",
       "   False,\n",
       "   False,\n",
       "   False,\n",
       "   False,\n",
       "   False,\n",
       "   False,\n",
       "   False,\n",
       "   False,\n",
       "   False,\n",
       "   False,\n",
       "   False,\n",
       "   False,\n",
       "   False,\n",
       "   False,\n",
       "   False,\n",
       "   False,\n",
       "   False,\n",
       "   False,\n",
       "   False,\n",
       "   False,\n",
       "   False,\n",
       "   False,\n",
       "   False,\n",
       "   False,\n",
       "   False,\n",
       "   False,\n",
       "   False,\n",
       "   False,\n",
       "   False,\n",
       "   False,\n",
       "   False,\n",
       "   False,\n",
       "   False,\n",
       "   False,\n",
       "   False,\n",
       "   False,\n",
       "   False,\n",
       "   False,\n",
       "   False,\n",
       "   False,\n",
       "   False,\n",
       "   False,\n",
       "   False,\n",
       "   False,\n",
       "   False,\n",
       "   False,\n",
       "   False,\n",
       "   False,\n",
       "   False,\n",
       "   False,\n",
       "   False,\n",
       "   False,\n",
       "   False,\n",
       "   False,\n",
       "   False,\n",
       "   False,\n",
       "   False,\n",
       "   False,\n",
       "   False,\n",
       "   False,\n",
       "   False,\n",
       "   False,\n",
       "   False,\n",
       "   False,\n",
       "   False,\n",
       "   False,\n",
       "   False,\n",
       "   False,\n",
       "   False,\n",
       "   False,\n",
       "   False,\n",
       "   False,\n",
       "   False,\n",
       "   False,\n",
       "   False,\n",
       "   False,\n",
       "   False]},\n",
       " u'refs': {u'channels': [-2, -1, -1, -1]}}"
      ]
     },
     "execution_count": 49,
     "metadata": {},
     "output_type": "execute_result"
    }
   ],
   "source": [
    "data1"
   ]
  },
  {
   "cell_type": "code",
   "execution_count": 51,
   "metadata": {
    "ExecuteTime": {
     "end_time": "2018-07-11T20:56:58.861141Z",
     "start_time": "2018-07-11T20:56:58.851017Z"
    }
   },
   "outputs": [
    {
     "data": {
      "text/plain": [
       "[u'recording', u'0', u'refs']"
      ]
     },
     "execution_count": 51,
     "metadata": {},
     "output_type": "execute_result"
    }
   ],
   "source": [
    "data0.keys()"
   ]
  },
  {
   "cell_type": "code",
   "execution_count": 52,
   "metadata": {
    "ExecuteTime": {
     "end_time": "2018-07-11T20:57:02.479337Z",
     "start_time": "2018-07-11T20:57:02.469664Z"
    }
   },
   "outputs": [
    {
     "data": {
      "text/plain": [
       "[u'recording', u'0', u'refs']"
      ]
     },
     "execution_count": 52,
     "metadata": {},
     "output_type": "execute_result"
    }
   ],
   "source": [
    "data1.keys()"
   ]
  },
  {
   "cell_type": "code",
   "execution_count": 56,
   "metadata": {
    "ExecuteTime": {
     "end_time": "2018-07-11T20:57:47.651210Z",
     "start_time": "2018-07-11T20:57:47.631500Z"
    }
   },
   "outputs": [
    {
     "data": {
      "text/plain": [
       "[0,\n",
       " 0,\n",
       " 0,\n",
       " 0,\n",
       " 0,\n",
       " 0,\n",
       " 0,\n",
       " 0,\n",
       " 0,\n",
       " 0,\n",
       " 0,\n",
       " 0,\n",
       " 0,\n",
       " 0,\n",
       " 0,\n",
       " 0,\n",
       " 0,\n",
       " 0,\n",
       " 0,\n",
       " 0,\n",
       " 0,\n",
       " 0,\n",
       " 0,\n",
       " 0,\n",
       " 0,\n",
       " 0,\n",
       " 0,\n",
       " 0,\n",
       " 0,\n",
       " 0,\n",
       " 0,\n",
       " 0,\n",
       " 0,\n",
       " 0,\n",
       " 0,\n",
       " 0,\n",
       " 0,\n",
       " 0,\n",
       " 0,\n",
       " 0,\n",
       " 0,\n",
       " 0,\n",
       " 0,\n",
       " 0,\n",
       " 0,\n",
       " 0,\n",
       " 0,\n",
       " 0,\n",
       " 0,\n",
       " 0,\n",
       " 0,\n",
       " 0,\n",
       " 0,\n",
       " 0,\n",
       " 0,\n",
       " 0,\n",
       " 0,\n",
       " 0,\n",
       " 0,\n",
       " 0,\n",
       " 0,\n",
       " 0,\n",
       " 0,\n",
       " 0,\n",
       " 0,\n",
       " 0,\n",
       " 0,\n",
       " 0,\n",
       " 0,\n",
       " 0,\n",
       " 0,\n",
       " 0,\n",
       " 0,\n",
       " 0,\n",
       " 0,\n",
       " 0,\n",
       " 0,\n",
       " 0,\n",
       " 0,\n",
       " 0,\n",
       " 0,\n",
       " 0,\n",
       " 0,\n",
       " 0,\n",
       " 0,\n",
       " 0,\n",
       " 0,\n",
       " 0,\n",
       " 0,\n",
       " 0,\n",
       " 0,\n",
       " 0,\n",
       " 0,\n",
       " 0,\n",
       " 0,\n",
       " 0,\n",
       " 0,\n",
       " 0,\n",
       " 0,\n",
       " 0,\n",
       " 0,\n",
       " 0,\n",
       " 0,\n",
       " 0,\n",
       " 0,\n",
       " 0,\n",
       " 0,\n",
       " 0,\n",
       " 0,\n",
       " 0,\n",
       " 0,\n",
       " 0,\n",
       " 0,\n",
       " 0,\n",
       " 0,\n",
       " 0,\n",
       " 0,\n",
       " 0,\n",
       " 0,\n",
       " 0,\n",
       " 0,\n",
       " 0,\n",
       " 0,\n",
       " 0,\n",
       " 0,\n",
       " 0,\n",
       " 0,\n",
       " 0,\n",
       " 0,\n",
       " 0,\n",
       " 0,\n",
       " 0,\n",
       " 0,\n",
       " 0,\n",
       " 0,\n",
       " 0,\n",
       " 0,\n",
       " 0,\n",
       " 0,\n",
       " 0,\n",
       " 0,\n",
       " 0,\n",
       " 0,\n",
       " 0,\n",
       " 0,\n",
       " 0,\n",
       " 0,\n",
       " 0,\n",
       " 0,\n",
       " 0,\n",
       " 0,\n",
       " 0,\n",
       " 0,\n",
       " 0,\n",
       " 0,\n",
       " 0,\n",
       " 0,\n",
       " 0,\n",
       " 0,\n",
       " 0,\n",
       " 0,\n",
       " 0,\n",
       " 0,\n",
       " 0,\n",
       " 0,\n",
       " 0,\n",
       " 0,\n",
       " 0,\n",
       " 0,\n",
       " 0,\n",
       " 0,\n",
       " 0,\n",
       " 0,\n",
       " 0,\n",
       " 0]"
      ]
     },
     "execution_count": 56,
     "metadata": {},
     "output_type": "execute_result"
    }
   ],
   "source": [
    "data0['0']['reference']"
   ]
  },
  {
   "cell_type": "code",
   "execution_count": 54,
   "metadata": {
    "ExecuteTime": {
     "end_time": "2018-07-11T20:57:17.624027Z",
     "start_time": "2018-07-11T20:57:17.614320Z"
    }
   },
   "outputs": [
    {
     "data": {
      "text/plain": [
       "[u'enabled', u'mapping']"
      ]
     },
     "execution_count": 54,
     "metadata": {},
     "output_type": "execute_result"
    }
   ],
   "source": [
    "data1['0'].keys()"
   ]
  },
  {
   "cell_type": "code",
   "execution_count": null,
   "metadata": {},
   "outputs": [],
   "source": []
  }
 ],
 "metadata": {
  "kernelspec": {
   "display_name": "Python 2",
   "language": "python",
   "name": "python2"
  },
  "language_info": {
   "codemirror_mode": {
    "name": "ipython",
    "version": 3
   },
   "file_extension": ".py",
   "mimetype": "text/x-python",
   "name": "python",
   "nbconvert_exporter": "python",
   "pygments_lexer": "ipython3",
   "version": "3.7.3"
  }
 },
 "nbformat": 4,
 "nbformat_minor": 2
}
