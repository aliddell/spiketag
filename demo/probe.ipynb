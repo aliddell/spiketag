{
 "cells": [
  {
   "cell_type": "code",
   "execution_count": 1,
   "metadata": {
    "ExecuteTime": {
     "end_time": "2018-07-10T03:40:16.432973Z",
     "start_time": "2018-07-10T03:40:16.416020Z"
    }
   },
   "outputs": [],
   "source": [
    "%gui qt"
   ]
  },
  {
   "cell_type": "code",
   "execution_count": 2,
   "metadata": {
    "ExecuteTime": {
     "end_time": "2018-07-10T03:40:21.961470Z",
     "start_time": "2018-07-10T03:40:20.306289Z"
    }
   },
   "outputs": [],
   "source": [
    "import numpy as np\n",
    "from spiketag.base import probe\n",
    "from spiketag.view import probe_view"
   ]
  },
  {
   "cell_type": "code",
   "execution_count": 3,
   "metadata": {
    "ExecuteTime": {
     "end_time": "2018-07-10T03:40:22.120158Z",
     "start_time": "2018-07-10T03:40:21.967648Z"
    }
   },
   "outputs": [],
   "source": [
    "prb_bowtie_LL = probe(shank_no=6, prb_type='bow_tie')\n",
    "\n",
    "prb_bowtie_LL.shanks[0].l = [59,60,10,58,12,11,57,56]\n",
    "prb_bowtie_LL.shanks[0].r = [5,52,3,54,53,4,13,2,55]\n",
    "prb_bowtie_LL.shanks[0].xl = -100.\n",
    "prb_bowtie_LL.shanks[0].yl = 20\n",
    "prb_bowtie_LL.shanks[0].xr = -80.\n",
    "prb_bowtie_LL.shanks[0].yr = 5\n",
    "\n",
    "prb_bowtie_LL.shanks[1].l = [15,63,48,47,0,61,9,14,62,6]\n",
    "prb_bowtie_LL.shanks[1].r = [8, 1,51,50,18,34,31,25,33,17,22,49]\n",
    "prb_bowtie_LL.shanks[1].xl = -10.\n",
    "prb_bowtie_LL.shanks[1].yl = 15\n",
    "prb_bowtie_LL.shanks[1].xr = 10.\n",
    "prb_bowtie_LL.shanks[1].yr = 0 \n",
    "\n",
    "prb_bowtie_LL.shanks[2].l = [39,38,20,45,44,24,7,32,16,23,46,30]\n",
    "prb_bowtie_LL.shanks[2].r = [19,37,21,35,36,26,29,40,27,42,41,28,43]\n",
    "prb_bowtie_LL.shanks[2].xl = 80.\n",
    "prb_bowtie_LL.shanks[2].yl = 10 \n",
    "prb_bowtie_LL.shanks[2].xr = 100.\n",
    "prb_bowtie_LL.shanks[2].yr = -5\n",
    "\n",
    "prb_bowtie_LL.shanks[3].l = [123,124,74,122,76,75,121,120]\n",
    "prb_bowtie_LL.shanks[3].r = [69,116,67,118,117,68,77,66,119]\n",
    "prb_bowtie_LL.shanks[3].xl = 350\n",
    "prb_bowtie_LL.shanks[3].yl = 10\n",
    "prb_bowtie_LL.shanks[3].xr = 370.\n",
    "prb_bowtie_LL.shanks[3].yr = -5\n",
    "\n",
    "prb_bowtie_LL.shanks[4].l = [79,127,112,111,64,125,73,78,126,70]\n",
    "prb_bowtie_LL.shanks[4].r = [72,65,115,114,82,98,95,89,97,81,86,113]\n",
    "prb_bowtie_LL.shanks[4].xl = 260.\n",
    "prb_bowtie_LL.shanks[4].yl = 15\n",
    "prb_bowtie_LL.shanks[4].xr = 280.\n",
    "prb_bowtie_LL.shanks[4].yr = 0 \n",
    "\n",
    "prb_bowtie_LL.shanks[5].l = [103,102,84,109,108,88,71,96,80,87,110,94]\n",
    "prb_bowtie_LL.shanks[5].r = [83,101,85,99,100,90,93,104,91,106,105,92,107]\n",
    "prb_bowtie_LL.shanks[5].xl = 170.\n",
    "prb_bowtie_LL.shanks[5].yl = 20\n",
    "prb_bowtie_LL.shanks[5].xr = 190.\n",
    "prb_bowtie_LL.shanks[5].yr = 5\n",
    "\n",
    "prb_bowtie_LL.auto_pos()\n",
    "prb_bowtie_LL.mapping[5]  += np.array([-10,2])\n",
    "prb_bowtie_LL.mapping[52] += np.array([-2, 0])\n",
    "prb_bowtie_LL.mapping[8]  += np.array([-10,2])\n",
    "prb_bowtie_LL.mapping[1]  += np.array([-2, 0])\n",
    "prb_bowtie_LL.mapping[19] += np.array([-10,2])\n",
    "prb_bowtie_LL.mapping[37] += np.array([-2, 0])\n",
    "prb_bowtie_LL.mapping[69]  += np.array([-10,2])\n",
    "prb_bowtie_LL.mapping[116] += np.array([-2, 0])\n",
    "prb_bowtie_LL.mapping[72]  += np.array([-10,2])\n",
    "prb_bowtie_LL.mapping[65]  += np.array([-2, 0])\n",
    "prb_bowtie_LL.mapping[83] += np.array([-10,2])\n",
    "prb_bowtie_LL.mapping[101] += np.array([-2, 0])\n",
    "\n",
    "prb_bowtie_LL[0] = np.array([59,  5, 52,  3])\n",
    "prb_bowtie_LL[1] = np.array([60, 10, 54, 53])\n",
    "prb_bowtie_LL[2] = np.array([58, 12,  4, 13])\n",
    "prb_bowtie_LL[3] = np.array([11, 57,  2, 55])\n",
    "\n",
    "prb_bowtie_LL[4] = np.array([15,  8,  1, 51])\n",
    "prb_bowtie_LL[5] = np.array([63, 48, 50, 18])\n",
    "prb_bowtie_LL[6] = np.array([47,  0, 34, 31])\n",
    "prb_bowtie_LL[7] = np.array([61,  9, 25, 33])\n",
    "prb_bowtie_LL[8] = np.array([14, 62, 22, 17])\n",
    "\n",
    "prb_bowtie_LL[9]  = np.array([39, 19, 37, 21])\n",
    "prb_bowtie_LL[10] = np.array([38, 20, 35, 36])\n",
    "prb_bowtie_LL[11] = np.array([45, 44, 26, 29])\n",
    "prb_bowtie_LL[12] = np.array([24,  7, 40, 27])\n",
    "prb_bowtie_LL[13] = np.array([32, 16, 42, 41])\n",
    "prb_bowtie_LL[14] = np.array([23, 46, 28, 43])\n",
    "\n",
    "for prb_id_LL in range(15):\n",
    "    prb_bowtie_LL[prb_id_LL+15] = prb_bowtie_LL[prb_id_LL] + 64\n",
    "# prb_bowtie_LL.n_ch = 160"
   ]
  },
  {
   "cell_type": "code",
   "execution_count": 4,
   "metadata": {
    "ExecuteTime": {
     "end_time": "2018-07-10T03:40:25.327562Z",
     "start_time": "2018-07-10T03:40:23.311845Z"
    }
   },
   "outputs": [
    {
     "name": "stderr",
     "output_type": "stream",
     "text": [
      "/anaconda2/lib/python2.7/site-packages/IPython/config.py:13: ShimWarning: The `IPython.config` package has been deprecated since IPython 4.0. You should import from traitlets.config instead.\n",
      "  \"You should import from traitlets.config instead.\", ShimWarning)\n"
     ]
    }
   ],
   "source": [
    "prb = prb_bowtie_LL\n",
    "prb_view = probe_view()\n",
    "prb_view.set_data(prb)\n",
    "prb_view.run()"
   ]
  },
  {
   "cell_type": "code",
   "execution_count": 5,
   "metadata": {
    "ExecuteTime": {
     "end_time": "2018-07-10T03:40:43.595074Z",
     "start_time": "2018-07-10T03:40:43.569668Z"
    }
   },
   "outputs": [
    {
     "data": {
      "text/plain": [
       "0:[ 3  5 52 59]\n",
       "1:[10 53 54 60]\n",
       "2:[ 4 12 13 58]\n",
       "3:[ 2 11 55 57]\n",
       "4:[ 1  8 15 51]\n",
       "5:[18 48 50 63]\n",
       "6:[ 0 31 34 47]\n",
       "7:[ 9 25 33 61]\n",
       "8:[14 17 22 62]\n",
       "9:[19 21 37 39]\n",
       "10:[20 35 36 38]\n",
       "11:[26 29 44 45]\n",
       "12:[ 7 24 27 40]\n",
       "13:[16 32 41 42]\n",
       "14:[23 28 43 46]\n",
       "15:[ 67  69 116 123]\n",
       "16:[ 74 117 118 124]\n",
       "17:[ 68  76  77 122]\n",
       "18:[ 66  75 119 121]\n",
       "19:[ 65  72  79 115]\n",
       "20:[ 82 112 114 127]\n",
       "21:[ 64  95  98 111]\n",
       "22:[ 73  89  97 125]\n",
       "23:[ 78  81  86 126]\n",
       "24:[ 83  85 101 103]\n",
       "25:[ 84  99 100 102]\n",
       "26:[ 90  93 108 109]\n",
       "27:[ 71  88  91 104]\n",
       "28:[ 80  96 105 106]\n",
       "29:[ 87  92 107 110]"
      ]
     },
     "execution_count": 5,
     "metadata": {},
     "output_type": "execute_result"
    }
   ],
   "source": [
    "prb"
   ]
  },
  {
   "cell_type": "code",
   "execution_count": 95,
   "metadata": {
    "ExecuteTime": {
     "end_time": "2018-06-29T14:02:05.257647Z",
     "start_time": "2018-06-29T14:02:04.815347Z"
    }
   },
   "outputs": [],
   "source": [
    "prb.show()"
   ]
  },
  {
   "cell_type": "code",
   "execution_count": 6,
   "metadata": {
    "ExecuteTime": {
     "end_time": "2018-07-10T03:40:50.621140Z",
     "start_time": "2018-07-10T03:40:50.369352Z"
    },
    "scrolled": true
   },
   "outputs": [
    {
     "ename": "NameError",
     "evalue": "name 'ch_list' is not defined",
     "output_type": "error",
     "traceback": [
      "\u001b[0;31m---------------------------------------------------------------------------\u001b[0m",
      "\u001b[0;31mNameError\u001b[0m                                 Traceback (most recent call last)",
      "\u001b[0;32m<ipython-input-6-b3e6daf0523c>\u001b[0m in \u001b[0;36m<module>\u001b[0;34m()\u001b[0m\n\u001b[0;32m----> 1\u001b[0;31m \u001b[0mch_list\u001b[0m\u001b[0;34m[\u001b[0m\u001b[0;36m2\u001b[0m\u001b[0;34m]\u001b[0m\u001b[0;34m,\u001b[0m\u001b[0mch_list\u001b[0m\u001b[0;34m[\u001b[0m\u001b[0;36m17\u001b[0m\u001b[0;34m]\u001b[0m\u001b[0;34m\u001b[0m\u001b[0m\n\u001b[0m",
      "\u001b[0;31mNameError\u001b[0m: name 'ch_list' is not defined"
     ]
    }
   ],
   "source": [
    "ch_list[2],ch_list[17]"
   ]
  },
  {
   "cell_type": "code",
   "execution_count": 164,
   "metadata": {
    "ExecuteTime": {
     "end_time": "2018-06-29T18:33:13.212173Z",
     "start_time": "2018-06-29T18:33:13.203056Z"
    },
    "scrolled": true
   },
   "outputs": [
    {
     "data": {
      "text/plain": [
       "array([ 6, 30, 49, 56])"
      ]
     },
     "execution_count": 164,
     "metadata": {},
     "output_type": "execute_result"
    }
   ],
   "source": [
    "ch_list[120:124]"
   ]
  },
  {
   "cell_type": "code",
   "execution_count": null,
   "metadata": {},
   "outputs": [],
   "source": []
  },
  {
   "cell_type": "code",
   "execution_count": null,
   "metadata": {},
   "outputs": [],
   "source": []
  },
  {
   "cell_type": "code",
   "execution_count": 12,
   "metadata": {
    "ExecuteTime": {
     "end_time": "2018-06-28T19:21:52.900126Z",
     "start_time": "2018-06-28T19:21:52.888539Z"
    }
   },
   "outputs": [],
   "source": [
    "prb.n_ch = 160"
   ]
  },
  {
   "cell_type": "code",
   "execution_count": 10,
   "metadata": {
    "ExecuteTime": {
     "end_time": "2018-06-28T19:21:33.008839Z",
     "start_time": "2018-06-28T19:21:32.999506Z"
    },
    "scrolled": true
   },
   "outputs": [
    {
     "data": {
      "text/plain": [
       "array([  3,   5,  52,  59,  10,  53,  54,  60,   4,  12,  13,  58,   2,\n",
       "        11,  55,  57,   1,   8,  15,  51,  18,  48,  50,  63,   0,  31,\n",
       "        34,  47,   9,  25,  33,  61,  14,  17,  22,  62,  19,  21,  37,\n",
       "        39,  20,  35,  36,  38,  26,  29,  44,  45,   7,  24,  27,  40,\n",
       "        16,  32,  41,  42,  23,  28,  43,  46,  67,  69, 116, 123,  74,\n",
       "       117, 118, 124,  68,  76,  77, 122,  66,  75, 119, 121,  65,  72,\n",
       "        79, 115,  82, 112, 114, 127,  64,  95,  98, 111,  73,  89,  97,\n",
       "       125,  78,  81,  86, 126,  83,  85, 101, 103,  84,  99, 100, 102,\n",
       "        90,  93, 108, 109,  71,  88,  91, 104,  80,  96, 105, 106,  87,\n",
       "        92, 107, 110])"
      ]
     },
     "execution_count": 10,
     "metadata": {},
     "output_type": "execute_result"
    }
   ],
   "source": [
    "prb.chs"
   ]
  },
  {
   "cell_type": "code",
   "execution_count": 13,
   "metadata": {
    "ExecuteTime": {
     "end_time": "2018-06-28T19:21:54.072950Z",
     "start_time": "2018-06-28T19:21:54.063891Z"
    }
   },
   "outputs": [
    {
     "data": {
      "text/plain": [
       "array([  6,  30,  49,  56,  70,  94, 113, 120, 128, 129, 130, 131, 132,\n",
       "       133, 134, 135, 136, 137, 138, 139, 140, 141, 142, 143, 144, 145,\n",
       "       146, 147, 148, 149, 150, 151, 152, 153, 154, 155, 156, 157, 158,\n",
       "       159])"
      ]
     },
     "execution_count": 13,
     "metadata": {},
     "output_type": "execute_result"
    }
   ],
   "source": [
    "prb.mask_chs"
   ]
  },
  {
   "cell_type": "code",
   "execution_count": 17,
   "metadata": {
    "ExecuteTime": {
     "end_time": "2018-06-28T19:23:33.095624Z",
     "start_time": "2018-06-28T19:23:33.090669Z"
    }
   },
   "outputs": [],
   "source": [
    "ch_list = np.hstack((prb.chs, prb.mask_chs))"
   ]
  },
  {
   "cell_type": "code",
   "execution_count": 19,
   "metadata": {
    "ExecuteTime": {
     "end_time": "2018-06-28T19:23:39.180390Z",
     "start_time": "2018-06-28T19:23:39.172153Z"
    }
   },
   "outputs": [
    {
     "data": {
      "text/plain": [
       "(160,)"
      ]
     },
     "execution_count": 19,
     "metadata": {},
     "output_type": "execute_result"
    }
   ],
   "source": [
    "ch_list.shape"
   ]
  },
  {
   "cell_type": "code",
   "execution_count": 166,
   "metadata": {
    "ExecuteTime": {
     "end_time": "2018-06-29T18:56:31.942265Z",
     "start_time": "2018-06-29T18:56:31.933588Z"
    }
   },
   "outputs": [
    {
     "data": {
      "text/plain": [
       "array([  6,  30,  49,  56,  70,  94, 113, 120])"
      ]
     },
     "execution_count": 166,
     "metadata": {},
     "output_type": "execute_result"
    }
   ],
   "source": [
    "ch_list[120:128]"
   ]
  },
  {
   "cell_type": "code",
   "execution_count": null,
   "metadata": {},
   "outputs": [],
   "source": []
  },
  {
   "cell_type": "code",
   "execution_count": null,
   "metadata": {},
   "outputs": [],
   "source": []
  },
  {
   "cell_type": "code",
   "execution_count": null,
   "metadata": {},
   "outputs": [],
   "source": []
  },
  {
   "cell_type": "code",
   "execution_count": 86,
   "metadata": {
    "ExecuteTime": {
     "end_time": "2018-06-29T04:09:29.281640Z",
     "start_time": "2018-06-29T04:09:29.274920Z"
    }
   },
   "outputs": [],
   "source": [
    "ch_dict = {}\n",
    "ch_dict['0'] = {}\n",
    "ch_dict['0']['enabled'] = 175*[True]\n",
    "ch_dict['0']['mapping'] = list(ch_list+1)"
   ]
  },
  {
   "cell_type": "code",
   "execution_count": 87,
   "metadata": {
    "ExecuteTime": {
     "end_time": "2018-06-29T04:09:31.179990Z",
     "start_time": "2018-06-29T04:09:31.175198Z"
    }
   },
   "outputs": [],
   "source": [
    "import json"
   ]
  },
  {
   "cell_type": "code",
   "execution_count": 88,
   "metadata": {
    "ExecuteTime": {
     "end_time": "2018-06-29T04:09:31.352442Z",
     "start_time": "2018-06-29T04:09:31.343594Z"
    }
   },
   "outputs": [],
   "source": [
    "def loadmap(file, filetype='json'):\n",
    "    if filetype == 'json':\n",
    "        with open(file) as mapping_file:    \n",
    "            data = json.load(mapping_file)\n",
    "    else:\n",
    "        print 'the file needs to be json'\n",
    "    tetrode_ch_hash = np.array(data['0']['mapping']).reshape(-1,4) - 1\n",
    "    for i, _ch_hash in enumerate(tetrode_ch_hash):\n",
    "            print i, _ch_hash"
   ]
  },
  {
   "cell_type": "code",
   "execution_count": 89,
   "metadata": {
    "ExecuteTime": {
     "end_time": "2018-06-29T04:09:31.530469Z",
     "start_time": "2018-06-29T04:09:31.524493Z"
    }
   },
   "outputs": [],
   "source": [
    "def savemap(ch_dict, filename, filetype='json'):\n",
    "    if filetype == 'json':\n",
    "        with open(filename, 'w') as fp:\n",
    "            json.dump(ch_dict, fp)"
   ]
  },
  {
   "cell_type": "code",
   "execution_count": null,
   "metadata": {},
   "outputs": [],
   "source": []
  },
  {
   "cell_type": "code",
   "execution_count": 90,
   "metadata": {
    "ExecuteTime": {
     "end_time": "2018-06-29T04:09:31.889126Z",
     "start_time": "2018-06-29T04:09:31.874504Z"
    }
   },
   "outputs": [
    {
     "name": "stdout",
     "output_type": "stream",
     "text": [
      "0 [68 69 74 75]\n",
      "1 [70 71 72 73]\n",
      "2 [32 33 40 41]\n",
      "3 [34 35 42 43]\n",
      "4 [36 37 44 45]\n",
      "5 [38 39 46 47]\n",
      "6 [6 7 8 9]\n",
      "7 [ 4  5 10 11]\n",
      "8 [ 2  3 12 13]\n",
      "9 [ 0  1 14 15]\n",
      "10 [16 17 30 31]\n",
      "11 [18 19 28 29]\n",
      "12 [20 21 26 27]\n",
      "13 [22 23 24 25]\n",
      "14 [48 49 56 57]\n",
      "15 [50 51 58 59]\n",
      "16 [52 53 60 61]\n",
      "17 [54 55 62 63]\n",
      "18 [86 87 88 89]\n",
      "19 [84 85 90 91]\n",
      "20 [82 83 92 93]\n",
      "21 [80 81 94 95]\n",
      "22 [118 119 120 121]\n",
      "23 [116 117 122 123]\n",
      "24 [114 115 124 125]\n",
      "25 [112 113 126 127]\n",
      "26 [150 151 152 153]\n",
      "27 [148 149 154 155]\n",
      "28 [146 147 156 157]\n",
      "29 [144 145 158 159]\n",
      "30 [128 129 142 143]\n",
      "31 [130 131 140 141]\n",
      "32 [132 133 138 139]\n",
      "33 [134 135 136 137]\n",
      "34 [ 96  97 110 111]\n",
      "35 [ 98  99 108 109]\n",
      "36 [100 101 106 107]\n",
      "37 [102 103 104 105]\n",
      "38 [64 65 78 79]\n",
      "39 [66 67 76 77]\n"
     ]
    }
   ],
   "source": [
    "loadmap('./40 tetrode_channel_map_order')"
   ]
  },
  {
   "cell_type": "code",
   "execution_count": 91,
   "metadata": {
    "ExecuteTime": {
     "end_time": "2018-06-29T04:09:32.960926Z",
     "start_time": "2018-06-29T04:09:32.948064Z"
    }
   },
   "outputs": [],
   "source": [
    "savemap(ch_dict, './shinsuke.json')"
   ]
  },
  {
   "cell_type": "code",
   "execution_count": 169,
   "metadata": {
    "ExecuteTime": {
     "end_time": "2018-07-01T20:56:24.139643Z",
     "start_time": "2018-07-01T20:56:24.105227Z"
    }
   },
   "outputs": [
    {
     "name": "stdout",
     "output_type": "stream",
     "text": [
      "0 [ 3  5 52 59]\n",
      "1 [10 53 54 60]\n",
      "2 [ 4 12 13 58]\n",
      "3 [ 2 11 55 57]\n",
      "4 [ 1  8 15 51]\n",
      "5 [18 48 50 63]\n",
      "6 [ 0 31 34 47]\n",
      "7 [ 9 25 33 61]\n",
      "8 [14 17 22 62]\n",
      "9 [19 21 37 39]\n",
      "10 [20 35 36 38]\n",
      "11 [26 29 44 45]\n",
      "12 [ 7 24 27 40]\n",
      "13 [16 32 41 42]\n",
      "14 [23 28 43 46]\n",
      "15 [ 67  69 116 123]\n",
      "16 [ 74 117 118 124]\n",
      "17 [ 68  76  77 122]\n",
      "18 [ 66  75 119 121]\n",
      "19 [ 65  72  79 115]\n",
      "20 [ 82 112 114 127]\n",
      "21 [ 64  95  98 111]\n",
      "22 [ 73  89  97 125]\n",
      "23 [ 78  81  86 126]\n",
      "24 [ 83  85 101 103]\n",
      "25 [ 84  99 100 102]\n",
      "26 [ 90  93 108 109]\n",
      "27 [ 71  88  91 104]\n",
      "28 [ 80  96 105 106]\n",
      "29 [ 87  92 107 110]\n",
      "30 [ 6 30 49 56]\n",
      "31 [ 70  94 113 120]\n",
      "32 [128 129 130 131]\n",
      "33 [132 133 134 135]\n",
      "34 [136 137 138 139]\n",
      "35 [140 141 142 143]\n",
      "36 [144 145 146 147]\n",
      "37 [148 149 150 151]\n",
      "38 [152 153 154 155]\n",
      "39 [156 157 158 159]\n"
     ]
    }
   ],
   "source": [
    "loadmap('./shinsuke.json')"
   ]
  },
  {
   "cell_type": "code",
   "execution_count": 168,
   "metadata": {
    "ExecuteTime": {
     "end_time": "2018-06-29T22:18:40.760614Z",
     "start_time": "2018-06-29T22:18:40.103487Z"
    }
   },
   "outputs": [],
   "source": [
    "prb.show()"
   ]
  },
  {
   "cell_type": "code",
   "execution_count": null,
   "metadata": {},
   "outputs": [],
   "source": []
  }
 ],
 "metadata": {
  "kernelspec": {
   "display_name": "Python 2",
   "language": "python",
   "name": "python2"
  },
  "language_info": {
   "codemirror_mode": {
    "name": "ipython",
    "version": 2
   },
   "file_extension": ".py",
   "mimetype": "text/x-python",
   "name": "python",
   "nbconvert_exporter": "python",
   "pygments_lexer": "ipython2",
   "version": "2.7.14"
  }
 },
 "nbformat": 4,
 "nbformat_minor": 2
}
