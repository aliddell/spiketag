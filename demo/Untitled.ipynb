{
 "cells": [
  {
   "cell_type": "code",
   "execution_count": 1,
   "metadata": {
    "ExecuteTime": {
     "end_time": "2018-06-08T14:05:19.385372Z",
     "start_time": "2018-06-08T14:05:18.911892Z"
    }
   },
   "outputs": [
    {
     "name": "stdout",
     "output_type": "stream",
     "text": [
      "Populating the interactive namespace from numpy and matplotlib\n"
     ]
    }
   ],
   "source": [
    "%pylab inline"
   ]
  },
  {
   "cell_type": "code",
   "execution_count": 2,
   "metadata": {
    "ExecuteTime": {
     "end_time": "2018-06-08T14:05:22.277209Z",
     "start_time": "2018-06-08T14:05:22.271380Z"
    }
   },
   "outputs": [],
   "source": [
    "%gui qt"
   ]
  },
  {
   "cell_type": "code",
   "execution_count": 3,
   "metadata": {
    "ExecuteTime": {
     "end_time": "2018-06-08T14:05:32.049115Z",
     "start_time": "2018-06-08T14:05:29.989965Z"
    }
   },
   "outputs": [],
   "source": [
    "from spiketag.probe import prb_bowtie_L as prb"
   ]
  },
  {
   "cell_type": "code",
   "execution_count": 4,
   "metadata": {
    "ExecuteTime": {
     "end_time": "2018-06-08T14:05:44.831116Z",
     "start_time": "2018-06-08T14:05:43.831233Z"
    }
   },
   "outputs": [
    {
     "name": "stderr",
     "output_type": "stream",
     "text": [
      "/anaconda2/lib/python2.7/site-packages/IPython/config.py:13: ShimWarning: The `IPython.config` package has been deprecated since IPython 4.0. You should import from traitlets.config instead.\n",
      "  \"You should import from traitlets.config instead.\", ShimWarning)\n"
     ]
    }
   ],
   "source": [
    "prb.show(font_size=30)"
   ]
  },
  {
   "cell_type": "code",
   "execution_count": 5,
   "metadata": {
    "ExecuteTime": {
     "end_time": "2018-06-08T14:06:00.069615Z",
     "start_time": "2018-06-08T14:06:00.057508Z"
    }
   },
   "outputs": [],
   "source": [
    "prb.fs =25000.\n",
    "prb.n_ch = 160\n",
    "prb.reorder_by_chip = True\n",
    "prb._nchips = 5"
   ]
  },
  {
   "cell_type": "code",
   "execution_count": 6,
   "metadata": {
    "ExecuteTime": {
     "end_time": "2018-06-08T14:06:05.575748Z",
     "start_time": "2018-06-08T14:06:05.557854Z"
    }
   },
   "outputs": [],
   "source": [
    "from spiketag.mvc.Control import controller"
   ]
  },
  {
   "cell_type": "code",
   "execution_count": 12,
   "metadata": {
    "ExecuteTime": {
     "end_time": "2018-06-08T14:23:36.433220Z",
     "start_time": "2018-06-08T14:07:42.473947Z"
    },
    "scrolled": false
   },
   "outputs": [
    {
     "name": "stderr",
     "output_type": "stream",
     "text": [
      "2018-06-08 10:07:42,475 - spiketag - INFO - load mua data\n",
      "2018-06-08 10:07:42,495 - spiketag - INFO - #############  load data  ###################\n",
      "2018-06-08 10:07:42,496 - spiketag - INFO - /Users/laic/Work/testbech/mua.bin loaded, it contains: \n",
      "2018-06-08 10:07:42,498 - spiketag - INFO - 30398912 * 160 points (19455303680 bytes) \n",
      "2018-06-08 10:07:42,499 - spiketag - INFO - 160 channels with sampling rate of 25000.0000 \n",
      "2018-06-08 10:07:42,501 - spiketag - INFO - 1215.956 secs (20.266 mins) of data\n",
      "2018-06-08 10:07:42,502 - spiketag - INFO - #############################################\n",
      "2018-06-08 10:09:47,894 - spiketag - INFO - reordered with nchips=5 and nch_perchip=32\n",
      "2018-06-08 10:16:37,209 - spiketag - INFO - processing folder: /Users/laic/Work/testbech/\n",
      "2018-06-08 10:16:37,552 - spiketag - INFO - raw data have 332536 spks\n",
      "2018-06-08 10:16:37,579 - spiketag - INFO - ----------------success------------------\n",
      "2018-06-08 10:16:37,623 - spiketag - INFO -  \n",
      "2018-06-08 10:16:37,717 - spiketag - INFO - extract spikes from pivital meta data\n",
      "2018-06-08 10:16:37,791 - spiketag - INFO - mua.tospk()\n",
      "2018-06-08 10:17:39,815 - spiketag - INFO - ----------------success------------------\n",
      "2018-06-08 10:17:39,838 - spiketag - INFO -  \n",
      "2018-06-08 10:17:39,970 - spiketag - INFO - grouping spike time\n",
      "2018-06-08 10:17:39,974 - spiketag - INFO - extrat features with weighted-pca\n",
      "2018-06-08 10:17:40,922 - spiketag - INFO - spk._tofet(group_id=0, method=weighted-pca, ncomp=6, whiten=False)\n",
      "2018-06-08 10:17:41,070 - spiketag - INFO - spk._tofet(group_id=1, method=weighted-pca, ncomp=6, whiten=False)\n",
      "2018-06-08 10:17:41,151 - spiketag - INFO - spk._tofet(group_id=2, method=weighted-pca, ncomp=6, whiten=False)\n",
      "2018-06-08 10:17:41,210 - spiketag - INFO - spk._tofet(group_id=3, method=weighted-pca, ncomp=6, whiten=False)\n",
      "2018-06-08 10:17:41,286 - spiketag - INFO - spk._tofet(group_id=4, method=weighted-pca, ncomp=6, whiten=False)\n",
      "2018-06-08 10:17:41,339 - spiketag - INFO - spk._tofet(group_id=5, method=weighted-pca, ncomp=6, whiten=False)\n",
      "2018-06-08 10:17:41,429 - spiketag - INFO - spk._tofet(group_id=6, method=weighted-pca, ncomp=6, whiten=False)\n",
      "2018-06-08 10:17:41,536 - spiketag - INFO - spk._tofet(group_id=7, method=weighted-pca, ncomp=6, whiten=False)\n",
      "2018-06-08 10:17:41,600 - spiketag - INFO - spk._tofet(group_id=8, method=weighted-pca, ncomp=6, whiten=False)\n",
      "2018-06-08 10:17:41,696 - spiketag - INFO - spk._tofet(group_id=9, method=weighted-pca, ncomp=6, whiten=False)\n",
      "2018-06-08 10:17:41,763 - spiketag - INFO - spk._tofet(group_id=10, method=weighted-pca, ncomp=6, whiten=False)\n",
      "2018-06-08 10:17:41,827 - spiketag - INFO - spk._tofet(group_id=11, method=weighted-pca, ncomp=6, whiten=False)\n",
      "2018-06-08 10:17:41,876 - spiketag - INFO - spk._tofet(group_id=12, method=weighted-pca, ncomp=6, whiten=False)\n",
      "2018-06-08 10:17:41,931 - spiketag - INFO - spk._tofet(group_id=13, method=weighted-pca, ncomp=6, whiten=False)\n",
      "2018-06-08 10:17:41,995 - spiketag - INFO - spk._tofet(group_id=14, method=weighted-pca, ncomp=6, whiten=False)\n",
      "2018-06-08 10:17:41,996 - spiketag - INFO - ----------------success------------------\n",
      "2018-06-08 10:17:41,998 - spiketag - INFO -  \n",
      "2018-06-08 10:17:41,999 - spiketag - INFO - clustering with hdbscan\n",
      "2018-06-08 10:17:56,907 - spiketag - INFO - clustering finished, used 14.8637981415 sec\n",
      "2018-06-08 10:17:56,915 - spiketag - INFO - Model.spktag is generated, nspk:332531\n"
     ]
    },
    {
     "name": "stdout",
     "output_type": "stream",
     "text": [
      "(0, array([ 3,  5, 52, 59]))\n"
     ]
    }
   ],
   "source": [
    "ctrl = controller('/Users/laic/Work/testbech/mua.bin', '/Users/laic/Work/testbech/spk.bin', prb, binary_radix=13)"
   ]
  },
  {
   "cell_type": "code",
   "execution_count": null,
   "metadata": {},
   "outputs": [],
   "source": []
  }
 ],
 "metadata": {
  "kernelspec": {
   "display_name": "Python 2",
   "language": "python",
   "name": "python2"
  },
  "language_info": {
   "codemirror_mode": {
    "name": "ipython",
    "version": 2
   },
   "file_extension": ".py",
   "mimetype": "text/x-python",
   "name": "python",
   "nbconvert_exporter": "python",
   "pygments_lexer": "ipython2",
   "version": "2.7.14"
  }
 },
 "nbformat": 4,
 "nbformat_minor": 2
}
