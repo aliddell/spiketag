{
 "cells": [
  {
   "cell_type": "code",
   "execution_count": 1,
   "metadata": {
    "ExecuteTime": {
     "end_time": "2018-06-06T22:38:11.108404Z",
     "start_time": "2018-06-06T22:38:11.044749Z"
    }
   },
   "outputs": [],
   "source": [
    "%load_ext autoreload"
   ]
  },
  {
   "cell_type": "code",
   "execution_count": 2,
   "metadata": {
    "ExecuteTime": {
     "end_time": "2018-06-06T22:38:11.470921Z",
     "start_time": "2018-06-06T22:38:11.461565Z"
    }
   },
   "outputs": [],
   "source": [
    "%autoreload 2"
   ]
  },
  {
   "cell_type": "code",
   "execution_count": 3,
   "metadata": {
    "ExecuteTime": {
     "end_time": "2018-06-06T22:38:12.477987Z",
     "start_time": "2018-06-06T22:38:11.893413Z"
    },
    "scrolled": false
   },
   "outputs": [
    {
     "name": "stdout",
     "output_type": "stream",
     "text": [
      "Populating the interactive namespace from numpy and matplotlib\n"
     ]
    }
   ],
   "source": [
    "%pylab inline"
   ]
  },
  {
   "cell_type": "code",
   "execution_count": 4,
   "metadata": {
    "ExecuteTime": {
     "end_time": "2018-06-06T22:38:12.890243Z",
     "start_time": "2018-06-06T22:38:12.856225Z"
    }
   },
   "outputs": [],
   "source": [
    "%gui qt"
   ]
  },
  {
   "cell_type": "code",
   "execution_count": 5,
   "metadata": {
    "ExecuteTime": {
     "end_time": "2018-06-06T22:38:19.663881Z",
     "start_time": "2018-06-06T22:38:17.432217Z"
    }
   },
   "outputs": [
    {
     "ename": "ImportError",
     "evalue": "cannot import name ProbeFactory",
     "output_type": "error",
     "traceback": [
      "\u001b[0;31m---------------------------------------------------------------------------\u001b[0m",
      "\u001b[0;31mImportError\u001b[0m                               Traceback (most recent call last)",
      "\u001b[0;32m<ipython-input-5-b760f8568ecd>\u001b[0m in \u001b[0;36m<module>\u001b[0;34m()\u001b[0m\n\u001b[0;32m----> 1\u001b[0;31m \u001b[0;32mfrom\u001b[0m \u001b[0mspiketag\u001b[0m\u001b[0;34m.\u001b[0m\u001b[0mbase\u001b[0m \u001b[0;32mimport\u001b[0m \u001b[0mProbeFactory\u001b[0m\u001b[0;34m\u001b[0m\u001b[0m\n\u001b[0m",
      "\u001b[0;31mImportError\u001b[0m: cannot import name ProbeFactory"
     ]
    }
   ],
   "source": [
    "from spiketag.base import ProbeFactory"
   ]
  },
  {
   "cell_type": "code",
   "execution_count": 6,
   "metadata": {
    "ExecuteTime": {
     "end_time": "2018-05-01T21:49:51.025998Z",
     "start_time": "2018-05-01T21:49:50.976406Z"
    }
   },
   "outputs": [],
   "source": [
    "nCh = 3\n",
    "fs  = 20000.\n",
    "tritrode = ProbeFactory.genLinearProbe(fs=fs, n_ch=nCh)\n",
    "tritrode.reorder_by_chip = False"
   ]
  },
  {
   "cell_type": "code",
   "execution_count": 6,
   "metadata": {
    "ExecuteTime": {
     "end_time": "2018-06-06T22:38:36.404765Z",
     "start_time": "2018-06-06T22:38:36.333478Z"
    }
   },
   "outputs": [],
   "source": [
    "from spiketag.base import probe"
   ]
  },
  {
   "cell_type": "code",
   "execution_count": 14,
   "metadata": {
    "ExecuteTime": {
     "end_time": "2018-06-06T22:40:12.586544Z",
     "start_time": "2018-06-06T22:40:12.510924Z"
    }
   },
   "outputs": [],
   "source": [
    "prb = probe(shank_no=1)\n",
    "prb[0] = np.array([0,1,2])\n",
    "prb.fs = 20000.\n",
    "prb.n_ch = 3\n",
    "prb.reorder_by_chip=False"
   ]
  },
  {
   "cell_type": "code",
   "execution_count": 15,
   "metadata": {
    "ExecuteTime": {
     "end_time": "2018-06-06T22:40:16.261483Z",
     "start_time": "2018-06-06T22:40:16.185170Z"
    }
   },
   "outputs": [],
   "source": [
    "from spiketag.base import *"
   ]
  },
  {
   "cell_type": "code",
   "execution_count": 16,
   "metadata": {
    "ExecuteTime": {
     "end_time": "2018-06-06T22:40:16.523209Z",
     "start_time": "2018-06-06T22:40:16.435016Z"
    }
   },
   "outputs": [],
   "source": [
    "from spiketag.view import *"
   ]
  },
  {
   "cell_type": "code",
   "execution_count": 17,
   "metadata": {
    "ExecuteTime": {
     "end_time": "2018-06-06T22:40:17.653150Z",
     "start_time": "2018-06-06T22:40:17.074647Z"
    },
    "scrolled": false
   },
   "outputs": [
    {
     "name": "stderr",
     "output_type": "stream",
     "text": [
      "2018-06-06 18:40:17,163 - spiketag - INFO - #############  load data  ###################\n",
      "2018-06-06 18:40:17,168 - spiketag - INFO - ./cell_0109.bin loaded, it contains: \n",
      "2018-06-06 18:40:17,173 - spiketag - INFO - 9280040 * 3 points (111360480 bytes) \n",
      "2018-06-06 18:40:17,178 - spiketag - INFO - 3 channels with sampling rate of 20000.0000 \n",
      "2018-06-06 18:40:17,183 - spiketag - INFO - 464.002 secs (7.733 mins) of data\n",
      "2018-06-06 18:40:17,187 - spiketag - INFO - #############################################\n",
      "2018-06-06 18:40:17,639 - spiketag - INFO - processing folder: ./\n",
      "2018-06-06 18:40:17,645 - spiketag - INFO - raw data have 9309 spks\n",
      "2018-06-06 18:40:17,646 - spiketag - INFO - ----------------success------------------\n",
      "2018-06-06 18:40:17,647 - spiketag - INFO -  \n"
     ]
    }
   ],
   "source": [
    "mua = MUA('./cell_0109.bin','./cell_0109.spk.bin', prb, binary_radix=0)"
   ]
  },
  {
   "cell_type": "code",
   "execution_count": 18,
   "metadata": {
    "ExecuteTime": {
     "end_time": "2018-06-06T22:40:19.758593Z",
     "start_time": "2018-06-06T22:40:19.671860Z"
    },
    "scrolled": true
   },
   "outputs": [
    {
     "data": {
      "text/plain": [
       "array([   4131,    4458,    6466, ..., 9278006, 9278135, 9279424],\n",
       "      dtype=int32)"
      ]
     },
     "execution_count": 18,
     "metadata": {},
     "output_type": "execute_result"
    }
   ],
   "source": [
    "mua.pivotal_pos[0]"
   ]
  },
  {
   "cell_type": "code",
   "execution_count": 19,
   "metadata": {
    "ExecuteTime": {
     "end_time": "2018-06-06T22:40:22.866753Z",
     "start_time": "2018-06-06T22:40:22.785602Z"
    }
   },
   "outputs": [],
   "source": [
    "spks = np.fromfile('./cell_0109.spk.bin', dtype=np.int32)"
   ]
  },
  {
   "cell_type": "code",
   "execution_count": 20,
   "metadata": {
    "ExecuteTime": {
     "end_time": "2018-06-06T22:40:23.061277Z",
     "start_time": "2018-06-06T22:40:22.971614Z"
    }
   },
   "outputs": [
    {
     "data": {
      "text/plain": [
       "array([   4131,    4458,    6466, ..., 9278006, 9278135, 9279424],\n",
       "      dtype=int32)"
      ]
     },
     "execution_count": 20,
     "metadata": {},
     "output_type": "execute_result"
    }
   ],
   "source": [
    "spks[::2]"
   ]
  },
  {
   "cell_type": "code",
   "execution_count": 21,
   "metadata": {
    "ExecuteTime": {
     "end_time": "2018-06-06T22:40:23.307194Z",
     "start_time": "2018-06-06T22:40:23.186992Z"
    }
   },
   "outputs": [
    {
     "data": {
      "text/plain": [
       "True"
      ]
     },
     "execution_count": 21,
     "metadata": {},
     "output_type": "execute_result"
    }
   ],
   "source": [
    "np.allclose(mua.pivotal_pos[0], spks[::2])"
   ]
  },
  {
   "cell_type": "markdown",
   "metadata": {},
   "source": [
    "## Unit test for individual views"
   ]
  },
  {
   "cell_type": "code",
   "execution_count": 22,
   "metadata": {
    "ExecuteTime": {
     "end_time": "2018-06-06T22:40:29.044897Z",
     "start_time": "2018-06-06T22:40:26.137952Z"
    }
   },
   "outputs": [],
   "source": [
    "wview = wave_view(mua.data, spks=spks)\n",
    "wview.show()"
   ]
  },
  {
   "cell_type": "code",
   "execution_count": 23,
   "metadata": {
    "ExecuteTime": {
     "end_time": "2018-06-06T22:53:37.170773Z",
     "start_time": "2018-06-06T22:53:36.534315Z"
    }
   },
   "outputs": [
    {
     "name": "stderr",
     "output_type": "stream",
     "text": [
      "2018-06-06 18:53:36,591 - spiketag - INFO - mua.tospk()\n",
      "2018-06-06 18:53:37,162 - spiketag - INFO - ----------------success------------------\n",
      "2018-06-06 18:53:37,163 - spiketag - INFO -  \n"
     ]
    }
   ],
   "source": [
    "spk = mua.tospk()"
   ]
  },
  {
   "cell_type": "code",
   "execution_count": 24,
   "metadata": {
    "ExecuteTime": {
     "end_time": "2018-06-06T22:53:37.978990Z",
     "start_time": "2018-06-06T22:53:37.831107Z"
    }
   },
   "outputs": [
    {
     "name": "stderr",
     "output_type": "stream",
     "text": [
      "2018-06-06 18:53:37,970 - spiketag - INFO - spk._tofet(groupNo=0, method=weighted-pca, ncomp=6, whiten=False)\n",
      "2018-06-06 18:53:37,972 - spiketag - INFO - ----------------success------------------\n",
      "2018-06-06 18:53:37,973 - spiketag - INFO -  \n"
     ]
    }
   ],
   "source": [
    "fet = spk.tofet()"
   ]
  },
  {
   "cell_type": "code",
   "execution_count": 25,
   "metadata": {
    "ExecuteTime": {
     "end_time": "2018-06-06T22:53:40.439462Z",
     "start_time": "2018-06-06T22:53:39.759592Z"
    },
    "scrolled": true
   },
   "outputs": [
    {
     "name": "stderr",
     "output_type": "stream",
     "text": [
      "2018-06-06 18:53:40,433 - spiketag - INFO - clustering finished, used 0.615559101105 sec\n"
     ]
    }
   ],
   "source": [
    "clu = fet.toclu()"
   ]
  },
  {
   "cell_type": "code",
   "execution_count": 33,
   "metadata": {
    "ExecuteTime": {
     "end_time": "2018-06-06T22:54:18.891414Z",
     "start_time": "2018-06-06T22:54:18.814313Z"
    }
   },
   "outputs": [],
   "source": [
    "spkview = spike_view()"
   ]
  },
  {
   "cell_type": "code",
   "execution_count": 35,
   "metadata": {
    "ExecuteTime": {
     "end_time": "2018-06-06T22:54:29.719047Z",
     "start_time": "2018-06-06T22:54:29.573048Z"
    }
   },
   "outputs": [],
   "source": [
    "spkview.set_data(spk.spk[0], clu[0])"
   ]
  },
  {
   "cell_type": "code",
   "execution_count": 36,
   "metadata": {
    "ExecuteTime": {
     "end_time": "2018-06-06T22:54:30.451189Z",
     "start_time": "2018-06-06T22:54:30.327824Z"
    }
   },
   "outputs": [],
   "source": [
    "spkview.show()"
   ]
  },
  {
   "cell_type": "code",
   "execution_count": 37,
   "metadata": {
    "ExecuteTime": {
     "end_time": "2018-06-06T22:55:05.970177Z",
     "start_time": "2018-06-06T22:55:05.701687Z"
    }
   },
   "outputs": [],
   "source": [
    "fetview = scatter_3d_view()"
   ]
  },
  {
   "cell_type": "code",
   "execution_count": 38,
   "metadata": {
    "ExecuteTime": {
     "end_time": "2018-06-06T22:55:11.123362Z",
     "start_time": "2018-06-06T22:55:11.052868Z"
    }
   },
   "outputs": [],
   "source": [
    "fetview.set_data(fet.fet[0], clu[0])"
   ]
  },
  {
   "cell_type": "code",
   "execution_count": 39,
   "metadata": {
    "ExecuteTime": {
     "end_time": "2018-06-06T22:55:11.902626Z",
     "start_time": "2018-06-06T22:55:11.765860Z"
    }
   },
   "outputs": [],
   "source": [
    "fetview.show()"
   ]
  },
  {
   "cell_type": "code",
   "execution_count": 41,
   "metadata": {
    "ExecuteTime": {
     "end_time": "2018-06-06T22:55:38.601431Z",
     "start_time": "2018-06-06T22:55:38.394865Z"
    }
   },
   "outputs": [],
   "source": [
    "ampview = amplitude_view(fs=prb.fs, scale=1)"
   ]
  },
  {
   "cell_type": "code",
   "execution_count": 44,
   "metadata": {
    "ExecuteTime": {
     "end_time": "2018-06-06T22:57:17.938053Z",
     "start_time": "2018-06-06T22:57:17.863540Z"
    }
   },
   "outputs": [],
   "source": [
    "ampview.set_data(spk.spk[0], clu[0], mua.pivotal_pos[0])"
   ]
  },
  {
   "cell_type": "code",
   "execution_count": 45,
   "metadata": {
    "ExecuteTime": {
     "end_time": "2018-06-06T22:57:18.777267Z",
     "start_time": "2018-06-06T22:57:18.466670Z"
    }
   },
   "outputs": [],
   "source": [
    "ampview.show()"
   ]
  },
  {
   "cell_type": "code",
   "execution_count": null,
   "metadata": {},
   "outputs": [],
   "source": []
  },
  {
   "cell_type": "code",
   "execution_count": 46,
   "metadata": {
    "ExecuteTime": {
     "end_time": "2018-06-06T23:00:50.924707Z",
     "start_time": "2018-06-06T23:00:50.757003Z"
    }
   },
   "outputs": [],
   "source": [
    "treeview = ctree_view()"
   ]
  },
  {
   "cell_type": "code",
   "execution_count": 47,
   "metadata": {
    "ExecuteTime": {
     "end_time": "2018-06-06T23:00:54.203004Z",
     "start_time": "2018-06-06T23:00:54.041638Z"
    },
    "scrolled": false
   },
   "outputs": [],
   "source": [
    "treeview.set_data(clu[0])"
   ]
  },
  {
   "cell_type": "code",
   "execution_count": 48,
   "metadata": {
    "ExecuteTime": {
     "end_time": "2018-06-06T23:00:54.715240Z",
     "start_time": "2018-06-06T23:00:54.577475Z"
    },
    "scrolled": true
   },
   "outputs": [],
   "source": [
    "treeview.show()"
   ]
  },
  {
   "cell_type": "code",
   "execution_count": 49,
   "metadata": {
    "ExecuteTime": {
     "end_time": "2018-06-06T23:01:05.907536Z",
     "start_time": "2018-06-06T23:01:05.832103Z"
    }
   },
   "outputs": [],
   "source": [
    "corview = correlogram_view(fs=prb.fs)"
   ]
  },
  {
   "cell_type": "code",
   "execution_count": 50,
   "metadata": {
    "ExecuteTime": {
     "end_time": "2018-06-06T23:01:10.112927Z",
     "start_time": "2018-06-06T23:01:10.038276Z"
    }
   },
   "outputs": [],
   "source": [
    "corview.set_data(clu[0], mua.pivotal_pos[0])"
   ]
  },
  {
   "cell_type": "code",
   "execution_count": 51,
   "metadata": {
    "ExecuteTime": {
     "end_time": "2018-06-06T23:01:10.908531Z",
     "start_time": "2018-06-06T23:01:10.795976Z"
    }
   },
   "outputs": [],
   "source": [
    "corview.show()"
   ]
  },
  {
   "cell_type": "code",
   "execution_count": null,
   "metadata": {},
   "outputs": [],
   "source": []
  },
  {
   "cell_type": "code",
   "execution_count": 53,
   "metadata": {
    "ExecuteTime": {
     "end_time": "2018-06-06T23:01:23.624837Z",
     "start_time": "2018-06-06T23:01:23.171489Z"
    }
   },
   "outputs": [],
   "source": [
    "traceview = trace_view(fs=prb.fs, spklen=19)"
   ]
  },
  {
   "cell_type": "code",
   "execution_count": 54,
   "metadata": {
    "ExecuteTime": {
     "end_time": "2018-06-06T23:01:27.938103Z",
     "start_time": "2018-06-06T23:01:27.839190Z"
    }
   },
   "outputs": [],
   "source": [
    "traceview.set_data(mua.data, clu[0], mua.pivotal_pos[0])"
   ]
  },
  {
   "cell_type": "code",
   "execution_count": 55,
   "metadata": {
    "ExecuteTime": {
     "end_time": "2018-06-06T23:01:29.298225Z",
     "start_time": "2018-06-06T23:01:28.576548Z"
    }
   },
   "outputs": [],
   "source": [
    "traceview.show()"
   ]
  },
  {
   "cell_type": "code",
   "execution_count": null,
   "metadata": {},
   "outputs": [],
   "source": []
  },
  {
   "cell_type": "code",
   "execution_count": null,
   "metadata": {},
   "outputs": [],
   "source": []
  },
  {
   "cell_type": "code",
   "execution_count": null,
   "metadata": {},
   "outputs": [],
   "source": []
  },
  {
   "cell_type": "code",
   "execution_count": null,
   "metadata": {},
   "outputs": [],
   "source": []
  },
  {
   "cell_type": "code",
   "execution_count": null,
   "metadata": {},
   "outputs": [],
   "source": []
  },
  {
   "cell_type": "markdown",
   "metadata": {},
   "source": [
    "## Unit test for QT5 Wrapper"
   ]
  },
  {
   "cell_type": "code",
   "execution_count": 56,
   "metadata": {
    "ExecuteTime": {
     "end_time": "2018-06-06T23:02:26.576131Z",
     "start_time": "2018-06-06T23:02:26.478791Z"
    }
   },
   "outputs": [
    {
     "ename": "ImportError",
     "evalue": "QtWebEngineWidgets must be imported before a QCoreApplication instance is created",
     "output_type": "error",
     "traceback": [
      "\u001b[0;31m---------------------------------------------------------------------------\u001b[0m",
      "\u001b[0;31mImportError\u001b[0m                               Traceback (most recent call last)",
      "\u001b[0;32m<ipython-input-56-1a5ac081cc1e>\u001b[0m in \u001b[0;36m<module>\u001b[0;34m()\u001b[0m\n\u001b[0;32m----> 1\u001b[0;31m \u001b[0;32mfrom\u001b[0m \u001b[0mspiketag\u001b[0m\u001b[0;34m.\u001b[0m\u001b[0mmvc\u001b[0m \u001b[0;32mimport\u001b[0m \u001b[0;34m*\u001b[0m\u001b[0;34m\u001b[0m\u001b[0m\n\u001b[0m",
      "\u001b[0;32m/Users/laic/Work/pydev/spiketag/spiketag/mvc/__init__.py\u001b[0m in \u001b[0;36m<module>\u001b[0;34m()\u001b[0m\n\u001b[1;32m     25\u001b[0m \u001b[0mgen_config\u001b[0m\u001b[0;34m(\u001b[0m\u001b[0;34m)\u001b[0m \u001b[0;31m# gen state.json file in user's home directory if doesn't exists\u001b[0m\u001b[0;34m\u001b[0m\u001b[0m\n\u001b[1;32m     26\u001b[0m \u001b[0;34m\u001b[0m\u001b[0m\n\u001b[0;32m---> 27\u001b[0;31m \u001b[0;32mfrom\u001b[0m \u001b[0;34m.\u001b[0m\u001b[0mControl\u001b[0m \u001b[0;32mimport\u001b[0m \u001b[0mSorter\u001b[0m\u001b[0;34m\u001b[0m\u001b[0m\n\u001b[0m\u001b[1;32m     28\u001b[0m \u001b[0;32mfrom\u001b[0m \u001b[0;34m.\u001b[0m\u001b[0mModel\u001b[0m \u001b[0;32mimport\u001b[0m \u001b[0mMainModel\u001b[0m\u001b[0;34m\u001b[0m\u001b[0m\n\u001b[1;32m     29\u001b[0m \u001b[0;32mfrom\u001b[0m \u001b[0;34m.\u001b[0m\u001b[0mView\u001b[0m \u001b[0;32mimport\u001b[0m \u001b[0mMainView\u001b[0m\u001b[0;34m\u001b[0m\u001b[0m\n",
      "\u001b[0;32m/Users/laic/Work/pydev/spiketag/spiketag/mvc/Control.py\u001b[0m in \u001b[0;36m<module>\u001b[0;34m()\u001b[0m\n\u001b[1;32m      1\u001b[0m \u001b[0;32mimport\u001b[0m \u001b[0mnumpy\u001b[0m \u001b[0;32mas\u001b[0m \u001b[0mnp\u001b[0m\u001b[0;34m\u001b[0m\u001b[0m\n\u001b[1;32m      2\u001b[0m \u001b[0;32mfrom\u001b[0m \u001b[0;34m.\u001b[0m\u001b[0mModel\u001b[0m \u001b[0;32mimport\u001b[0m \u001b[0mMainModel\u001b[0m\u001b[0;34m\u001b[0m\u001b[0m\n\u001b[0;32m----> 3\u001b[0;31m \u001b[0;32mfrom\u001b[0m \u001b[0;34m.\u001b[0m\u001b[0mView\u001b[0m \u001b[0;32mimport\u001b[0m \u001b[0mMainView\u001b[0m\u001b[0;34m\u001b[0m\u001b[0m\n\u001b[0m\u001b[1;32m      4\u001b[0m \u001b[0;32mfrom\u001b[0m \u001b[0;34m.\u001b[0m\u001b[0;34m.\u001b[0m\u001b[0mview\u001b[0m \u001b[0;32mimport\u001b[0m \u001b[0mscatter_3d_view\u001b[0m\u001b[0;34m\u001b[0m\u001b[0m\n\u001b[1;32m      5\u001b[0m \u001b[0;32mfrom\u001b[0m \u001b[0;34m.\u001b[0m\u001b[0;34m.\u001b[0m\u001b[0mview\u001b[0m \u001b[0;32mimport\u001b[0m \u001b[0mwave_view\u001b[0m\u001b[0;34m\u001b[0m\u001b[0m\n",
      "\u001b[0;32m/Users/laic/Work/pydev/spiketag/spiketag/mvc/View.py\u001b[0m in \u001b[0;36m<module>\u001b[0;34m()\u001b[0m\n\u001b[0;32m----> 1\u001b[0;31m \u001b[0;32mfrom\u001b[0m \u001b[0mphy\u001b[0m \u001b[0;32mimport\u001b[0m \u001b[0mgui\u001b[0m\u001b[0;34m\u001b[0m\u001b[0m\n\u001b[0m\u001b[1;32m      2\u001b[0m \u001b[0;32mfrom\u001b[0m \u001b[0mphy\u001b[0m\u001b[0;34m.\u001b[0m\u001b[0mgui\u001b[0m \u001b[0;32mimport\u001b[0m \u001b[0mActions\u001b[0m\u001b[0;34m\u001b[0m\u001b[0m\n\u001b[1;32m      3\u001b[0m \u001b[0;32mfrom\u001b[0m \u001b[0;34m.\u001b[0m\u001b[0;34m.\u001b[0m\u001b[0mview\u001b[0m \u001b[0;32mimport\u001b[0m \u001b[0;34m*\u001b[0m\u001b[0;34m\u001b[0m\u001b[0m\n\u001b[1;32m      4\u001b[0m \u001b[0;32mimport\u001b[0m \u001b[0mPyQt4\u001b[0m\u001b[0;34m\u001b[0m\u001b[0m\n\u001b[1;32m      5\u001b[0m \u001b[0;32mfrom\u001b[0m \u001b[0mPyQt4\u001b[0m \u001b[0;32mimport\u001b[0m \u001b[0mQtGui\u001b[0m\u001b[0;34m\u001b[0m\u001b[0m\n",
      "\u001b[0;32m/anaconda2/lib/python2.7/site-packages/phy-1.0.9-py2.7.egg/phy/gui/__init__.py\u001b[0m in \u001b[0;36m<module>\u001b[0;34m()\u001b[0m\n\u001b[1;32m      4\u001b[0m \u001b[0;34m\"\"\"GUI routines.\"\"\"\u001b[0m\u001b[0;34m\u001b[0m\u001b[0m\n\u001b[1;32m      5\u001b[0m \u001b[0;34m\u001b[0m\u001b[0m\n\u001b[0;32m----> 6\u001b[0;31m \u001b[0;32mfrom\u001b[0m \u001b[0;34m.\u001b[0m\u001b[0mqt\u001b[0m \u001b[0;32mimport\u001b[0m \u001b[0mrequire_qt\u001b[0m\u001b[0;34m,\u001b[0m \u001b[0mcreate_app\u001b[0m\u001b[0;34m,\u001b[0m \u001b[0mrun_app\u001b[0m\u001b[0;34m\u001b[0m\u001b[0m\n\u001b[0m\u001b[1;32m      7\u001b[0m \u001b[0;32mfrom\u001b[0m \u001b[0;34m.\u001b[0m\u001b[0mgui\u001b[0m \u001b[0;32mimport\u001b[0m \u001b[0mGUI\u001b[0m\u001b[0;34m,\u001b[0m \u001b[0mGUIState\u001b[0m\u001b[0;34m\u001b[0m\u001b[0m\n\u001b[1;32m      8\u001b[0m \u001b[0;32mfrom\u001b[0m \u001b[0;34m.\u001b[0m\u001b[0mactions\u001b[0m \u001b[0;32mimport\u001b[0m \u001b[0mActions\u001b[0m\u001b[0;34m\u001b[0m\u001b[0m\n",
      "\u001b[0;32m/anaconda2/lib/python2.7/site-packages/phy-1.0.9-py2.7.egg/phy/gui/qt.py\u001b[0m in \u001b[0;36m<module>\u001b[0;34m()\u001b[0m\n\u001b[1;32m     53\u001b[0m                              \u001b[0mQMessageBox\u001b[0m\u001b[0;34m,\u001b[0m \u001b[0mQApplication\u001b[0m\u001b[0;34m,\u001b[0m \u001b[0mQMenuBar\u001b[0m\u001b[0;34m,\u001b[0m\u001b[0;34m\u001b[0m\u001b[0m\n\u001b[1;32m     54\u001b[0m                              QInputDialog)\n\u001b[0;32m---> 55\u001b[0;31m     \u001b[0;32mfrom\u001b[0m \u001b[0mPyQt5\u001b[0m\u001b[0;34m.\u001b[0m\u001b[0mQtWebEngineWidgets\u001b[0m \u001b[0;32mimport\u001b[0m \u001b[0mQWebView\u001b[0m\u001b[0;34m,\u001b[0m \u001b[0mQWebPage\u001b[0m\u001b[0;34m,\u001b[0m \u001b[0mQWebSettings\u001b[0m   \u001b[0;31m# noqa\u001b[0m\u001b[0;34m\u001b[0m\u001b[0m\n\u001b[0m\u001b[1;32m     56\u001b[0m \u001b[0;34m\u001b[0m\u001b[0m\n\u001b[1;32m     57\u001b[0m \u001b[0;34m\u001b[0m\u001b[0m\n",
      "\u001b[0;31mImportError\u001b[0m: QtWebEngineWidgets must be imported before a QCoreApplication instance is created"
     ]
    }
   ],
   "source": [
    "from spiketag.mvc import *"
   ]
  },
  {
   "cell_type": "code",
   "execution_count": null,
   "metadata": {},
   "outputs": [],
   "source": []
  },
  {
   "cell_type": "code",
   "execution_count": null,
   "metadata": {},
   "outputs": [],
   "source": []
  },
  {
   "cell_type": "code",
   "execution_count": null,
   "metadata": {},
   "outputs": [],
   "source": []
  },
  {
   "cell_type": "code",
   "execution_count": null,
   "metadata": {},
   "outputs": [],
   "source": []
  },
  {
   "cell_type": "code",
   "execution_count": null,
   "metadata": {},
   "outputs": [],
   "source": []
  },
  {
   "cell_type": "code",
   "execution_count": 28,
   "metadata": {
    "ExecuteTime": {
     "end_time": "2018-06-06T22:53:52.572743Z",
     "start_time": "2018-06-06T22:53:52.462496Z"
    }
   },
   "outputs": [],
   "source": [
    "import sys\n",
    "from PyQt5.QtGui import *\n",
    "from PyQt5.QtCore import *\n",
    "from PyQt5.QtWidgets import *\n",
    "\n",
    "class sorter(QWidget):\n",
    "\n",
    "    def __init__(self):\n",
    "        super(sorter, self).__init__()\n",
    "        self.initUI()\n",
    "\n",
    "    def initUI(self):\n",
    "\n",
    "        hbox = QHBoxLayout(self)\n",
    "        self.splitter1 = QSplitter(Qt.Horizontal)\n",
    "#         textedit = QTextEdit()\n",
    "#         self.splitter1.addWidget(self.topleft)\n",
    "#         self.splitter1.addWidget(textedit)\n",
    "#         self.splitter1.setSizes([100,200])\n",
    "        self.splitter2 = QSplitter(Qt.Horizontal)\n",
    "        self.splitter_fet = QSplitter(Qt.Vertical)\n",
    "\n",
    "        self.splitter3 = QSplitter(Qt.Vertical)\n",
    "        self.splitter3.addWidget(self.splitter1)\n",
    "        self.splitter3.addWidget(self.splitter2)\n",
    "#         self.splitter2.addWidget(self.bottom)\n",
    "\n",
    "        hbox.addWidget(self.splitter3)\n",
    "\n",
    "        self.setLayout(hbox)\n",
    "        QApplication.setStyle(QStyleFactory.create('Cleanlooks'))\n",
    "\n",
    "        self.setGeometry(300, 300, 300, 200)\n",
    "        self.setWindowTitle('spiketag')\n",
    "#         self.show()\n",
    "\n",
    "    def set_data(self, mua, spk, fet, clu):\n",
    "        ### init view and set_data\n",
    "        self.spkview = spike_view()\n",
    "        self.spkview.set_data(spk, clu)\n",
    "        self.fetview0 = scatter_3d_view()\n",
    "        self.fetview0.set_data(fet[:,[0,1,2]].copy(), clu)\n",
    "        self.fetview1 = scatter_3d_view()\n",
    "        self.fetview1.set_data(fet[:,[1,3,4]].copy(), clu)\n",
    "        self.ampview = amplitude_view(fs=fs, scale=1)\n",
    "        self.ampview.set_data(spk, clu, mua.pivotal_pos[0])\n",
    "        self.treeview = ctree_view()\n",
    "        self.treeview.set_data(clu)\n",
    "        self.corview = correlogram_view(fs=fs)\n",
    "        self.corview.set_data(clu, mua.pivotal_pos[0])\n",
    "        self.traceview = trace_view(fs=mua.fs, spklen=spk.shape[1])\n",
    "        self.traceview.set_data(mua.data, clu, mua.pivotal_pos[0])\n",
    "#         self.traceview.locate_buffer = 2000\n",
    "        \n",
    "        ### put views into splitter\n",
    "        self.splitter1.addWidget(self.traceview.native)\n",
    "        self.splitter1.addWidget(self.splitter_fet)\n",
    "        self.splitter_fet.addWidget(self.fetview0.native)\n",
    "        self.splitter_fet.addWidget(self.fetview1.native)\n",
    "        self.splitter1.addWidget(self.spkview.native)\n",
    "        \n",
    "        self.splitter2.addWidget(self.corview.native)\n",
    "        self.splitter2.addWidget(self.treeview.native)\n",
    "        self.splitter2.addWidget(self.ampview.native)\n"
   ]
  },
  {
   "cell_type": "code",
   "execution_count": 29,
   "metadata": {
    "ExecuteTime": {
     "end_time": "2018-06-06T22:53:53.590297Z",
     "start_time": "2018-06-06T22:53:53.528248Z"
    }
   },
   "outputs": [],
   "source": [
    "%gui qt"
   ]
  },
  {
   "cell_type": "code",
   "execution_count": 30,
   "metadata": {
    "ExecuteTime": {
     "end_time": "2018-06-06T22:53:54.106316Z",
     "start_time": "2018-06-06T22:53:54.034948Z"
    },
    "scrolled": true
   },
   "outputs": [],
   "source": [
    "ex = sorter()"
   ]
  },
  {
   "cell_type": "code",
   "execution_count": 31,
   "metadata": {
    "ExecuteTime": {
     "end_time": "2018-06-06T22:53:55.860314Z",
     "start_time": "2018-06-06T22:53:54.844399Z"
    },
    "scrolled": true
   },
   "outputs": [
    {
     "name": "stderr",
     "output_type": "stream",
     "text": [
      "2018-06-06 18:53:54,900 - spiketag - INFO - mua.tospk()\n",
      "2018-06-06 18:53:54,909 - spiketag - INFO - ----------------success------------------\n",
      "2018-06-06 18:53:54,910 - spiketag - INFO -  \n",
      "2018-06-06 18:53:54,943 - spiketag - INFO - spk._tofet(groupNo=0, method=pca, ncomp=9, whiten=False)\n",
      "2018-06-06 18:53:54,945 - spiketag - INFO - ----------------success------------------\n",
      "2018-06-06 18:53:54,946 - spiketag - INFO -  \n",
      "2018-06-06 18:53:55,855 - spiketag - INFO - clustering finished, used 0.906870126724 sec\n"
     ]
    }
   ],
   "source": [
    "spk = mua.tospk()\n",
    "fet = spk.tofet(method='pca', ncomp=9, whiten=False)\n",
    "clu = fet.toclu(method='hdbscan')"
   ]
  },
  {
   "cell_type": "code",
   "execution_count": 32,
   "metadata": {
    "ExecuteTime": {
     "end_time": "2018-06-06T22:53:57.807949Z",
     "start_time": "2018-06-06T22:53:57.724631Z"
    },
    "scrolled": true
   },
   "outputs": [
    {
     "ename": "KeyError",
     "evalue": "1",
     "output_type": "error",
     "traceback": [
      "\u001b[0;31m---------------------------------------------------------------------------\u001b[0m",
      "\u001b[0;31mKeyError\u001b[0m                                  Traceback (most recent call last)",
      "\u001b[0;32m<ipython-input-32-c8b5c2bc0fae>\u001b[0m in \u001b[0;36m<module>\u001b[0;34m()\u001b[0m\n\u001b[0;32m----> 1\u001b[0;31m \u001b[0mex\u001b[0m\u001b[0;34m.\u001b[0m\u001b[0mset_data\u001b[0m\u001b[0;34m(\u001b[0m\u001b[0mmua\u001b[0m\u001b[0;34m,\u001b[0m \u001b[0mspk\u001b[0m\u001b[0;34m.\u001b[0m\u001b[0mspk\u001b[0m\u001b[0;34m[\u001b[0m\u001b[0;36m1\u001b[0m\u001b[0;34m]\u001b[0m\u001b[0;34m,\u001b[0m \u001b[0mfet\u001b[0m\u001b[0;34m.\u001b[0m\u001b[0mfet\u001b[0m\u001b[0;34m[\u001b[0m\u001b[0;36m1\u001b[0m\u001b[0;34m]\u001b[0m\u001b[0;34m,\u001b[0m \u001b[0mclu\u001b[0m\u001b[0;34m[\u001b[0m\u001b[0;36m1\u001b[0m\u001b[0;34m]\u001b[0m\u001b[0;34m)\u001b[0m\u001b[0;34m\u001b[0m\u001b[0m\n\u001b[0m",
      "\u001b[0;31mKeyError\u001b[0m: 1"
     ]
    }
   ],
   "source": [
    "ex.set_data(mua, spk.spk[1], fet.fet[1], clu[1])"
   ]
  },
  {
   "cell_type": "code",
   "execution_count": 66,
   "metadata": {
    "ExecuteTime": {
     "end_time": "2018-05-02T01:18:57.015770Z",
     "start_time": "2018-05-02T01:18:56.850123Z"
    },
    "scrolled": false
   },
   "outputs": [],
   "source": [
    "ex.show()"
   ]
  },
  {
   "cell_type": "code",
   "execution_count": 70,
   "metadata": {
    "ExecuteTime": {
     "end_time": "2018-05-02T01:19:23.597561Z",
     "start_time": "2018-05-02T01:19:23.542644Z"
    },
    "scrolled": true
   },
   "outputs": [],
   "source": [
    "ex.traceview.locate_buffer = 300"
   ]
  },
  {
   "cell_type": "code",
   "execution_count": 97,
   "metadata": {
    "scrolled": true
   },
   "outputs": [
    {
     "name": "stderr",
     "output_type": "stream",
     "text": [
      "ERROR: Invoking <bound method trace_view.update_cursor of <trace_view (PyQt5) at 0x1c4774b690>> repeat 8192\n",
      "ERROR: Invoking <bound method trace_view.update_cursor of <trace_view (PyQt5) at 0x1c4a0aa110>> repeat 8192\n"
     ]
    }
   ],
   "source": [
    "ex.fetview0.set_data(fet.fet[1][:,[1,3,4]], clu[1])\n",
    "ex.update()"
   ]
  },
  {
   "cell_type": "code",
   "execution_count": 20,
   "metadata": {},
   "outputs": [],
   "source": [
    "gclu = clu[1]"
   ]
  },
  {
   "cell_type": "code",
   "execution_count": 21,
   "metadata": {
    "scrolled": true
   },
   "outputs": [
    {
     "data": {
      "text/plain": [
       "array([ 848, 2681, 2795, 2899, 2951, 3162, 3521, 4018, 4031, 4074, 4169,\n",
       "       4224, 4237, 4486, 4489, 4648, 5064, 5078, 5823, 5966, 5967, 6047,\n",
       "       6049, 6070, 6610, 7207, 7319, 7919, 8057, 8167, 8378, 8602, 8679,\n",
       "       9240])"
      ]
     },
     "execution_count": 21,
     "metadata": {},
     "output_type": "execute_result"
    },
    {
     "name": "stderr",
     "output_type": "stream",
     "text": [
      "2018-03-11 15:08:33,804 - spiketag - DEBUG - ctree view expand clustier 9311 here\n",
      "2018-03-11 15:08:51,809 - spiketag - DEBUG - ctree view expand clustier 9313 here\n"
     ]
    }
   ],
   "source": [
    "gclu.selectlist"
   ]
  },
  {
   "cell_type": "code",
   "execution_count": 21,
   "metadata": {},
   "outputs": [
    {
     "data": {
      "text/plain": [
       "['spiketag.view.spike_view.on_select_id121320795744',\n",
       " 'spiketag.view.scatter_3d_view.on_select_id121444857928',\n",
       " 'spiketag.view.scatter_3d_view.on_select_id121449105600',\n",
       " 'spiketag.view.amplitude_view.on_select_id121452650320',\n",
       " 'spiketag.view.trace_view.on_select_id121529220464']"
      ]
     },
     "execution_count": 21,
     "metadata": {},
     "output_type": "execute_result"
    },
    {
     "name": "stderr",
     "output_type": "stream",
     "text": [
      "2018-03-11 14:14:28,666 - spiketag - DEBUG - ctree view collapse cluster 9309 here\n",
      "2018-03-11 14:14:29,401 - spiketag - DEBUG - ctree view collapse cluster 9309 here\n",
      "2018-03-11 14:14:31,183 - spiketag - DEBUG - ctree view collapse cluster 9309 here\n",
      "2018-03-11 14:14:32,756 - spiketag - DEBUG - ctree view collapse cluster 9311 here\n",
      "2018-03-11 14:14:34,080 - spiketag - DEBUG - ctree view collapse cluster 9311 here\n",
      "2018-03-11 14:14:34,932 - spiketag - DEBUG - ctree view collapse cluster 9309 here\n",
      "2018-03-11 14:14:35,486 - spiketag - DEBUG - ctree view collapse cluster 9311 here\n",
      "2018-03-11 14:14:36,014 - spiketag - DEBUG - ctree view collapse cluster 9311 here\n",
      "2018-03-11 14:14:36,999 - spiketag - DEBUG - ctree view collapse cluster 9309 here\n",
      "2018-03-11 14:14:37,535 - spiketag - DEBUG - ctree view collapse cluster 9311 here\n",
      "2018-03-11 14:14:39,278 - spiketag - DEBUG - ctree view expand clustier 9312 here\n",
      "2018-03-11 14:14:43,798 - spiketag - DEBUG - ctree view collapse cluster 9311 here\n",
      "2018-03-11 14:14:44,643 - spiketag - DEBUG - ctree view collapse cluster 9309 here\n"
     ]
    }
   ],
   "source": [
    "gclu._registered_func_name('select')"
   ]
  },
  {
   "cell_type": "code",
   "execution_count": null,
   "metadata": {},
   "outputs": [],
   "source": []
  }
 ],
 "metadata": {
  "kernelspec": {
   "display_name": "Python 2",
   "language": "python",
   "name": "python2"
  },
  "language_info": {
   "codemirror_mode": {
    "name": "ipython",
    "version": 2
   },
   "file_extension": ".py",
   "mimetype": "text/x-python",
   "name": "python",
   "nbconvert_exporter": "python",
   "pygments_lexer": "ipython2",
   "version": "2.7.14"
  },
  "toc": {
   "nav_menu": {},
   "number_sections": true,
   "sideBar": true,
   "skip_h1_title": false,
   "title_cell": "Table of Contents",
   "title_sidebar": "Contents",
   "toc_cell": false,
   "toc_position": {},
   "toc_section_display": true,
   "toc_window_display": false
  },
  "varInspector": {
   "cols": {
    "lenName": 16,
    "lenType": 16,
    "lenVar": 40
   },
   "kernels_config": {
    "python": {
     "delete_cmd_postfix": "",
     "delete_cmd_prefix": "del ",
     "library": "var_list.py",
     "varRefreshCmd": "print(var_dic_list())"
    },
    "r": {
     "delete_cmd_postfix": ") ",
     "delete_cmd_prefix": "rm(",
     "library": "var_list.r",
     "varRefreshCmd": "cat(var_dic_list()) "
    }
   },
   "types_to_exclude": [
    "module",
    "function",
    "builtin_function_or_method",
    "instance",
    "_Feature"
   ],
   "window_display": false
  }
 },
 "nbformat": 4,
 "nbformat_minor": 2
}
