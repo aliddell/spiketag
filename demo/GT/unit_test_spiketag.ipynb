{
 "cells": [
  {
   "cell_type": "code",
   "execution_count": 1,
   "metadata": {
    "ExecuteTime": {
     "end_time": "2018-06-07T20:25:15.341195Z",
     "start_time": "2018-06-07T20:25:15.296497Z"
    }
   },
   "outputs": [],
   "source": [
    "%load_ext autoreload"
   ]
  },
  {
   "cell_type": "code",
   "execution_count": 2,
   "metadata": {
    "ExecuteTime": {
     "end_time": "2018-06-07T20:25:15.884959Z",
     "start_time": "2018-06-07T20:25:15.879081Z"
    }
   },
   "outputs": [],
   "source": [
    "%autoreload 2"
   ]
  },
  {
   "cell_type": "code",
   "execution_count": 3,
   "metadata": {
    "ExecuteTime": {
     "end_time": "2018-06-07T20:25:17.076929Z",
     "start_time": "2018-06-07T20:25:16.575705Z"
    },
    "scrolled": false
   },
   "outputs": [
    {
     "name": "stdout",
     "output_type": "stream",
     "text": [
      "Populating the interactive namespace from numpy and matplotlib\n"
     ]
    }
   ],
   "source": [
    "%pylab inline"
   ]
  },
  {
   "cell_type": "code",
   "execution_count": 4,
   "metadata": {
    "ExecuteTime": {
     "end_time": "2018-06-07T20:25:17.716729Z",
     "start_time": "2018-06-07T20:25:17.672950Z"
    }
   },
   "outputs": [],
   "source": [
    "%gui qt"
   ]
  },
  {
   "cell_type": "code",
   "execution_count": 5,
   "metadata": {
    "ExecuteTime": {
     "end_time": "2018-06-07T20:25:21.112622Z",
     "start_time": "2018-06-07T20:25:19.742813Z"
    }
   },
   "outputs": [],
   "source": [
    "from spiketag.base import *"
   ]
  },
  {
   "cell_type": "code",
   "execution_count": 6,
   "metadata": {
    "ExecuteTime": {
     "end_time": "2018-06-07T20:25:21.545488Z",
     "start_time": "2018-06-07T20:25:21.487050Z"
    }
   },
   "outputs": [],
   "source": [
    "from spiketag.view import *"
   ]
  },
  {
   "cell_type": "code",
   "execution_count": 7,
   "metadata": {
    "ExecuteTime": {
     "end_time": "2018-06-07T20:25:22.108163Z",
     "start_time": "2018-06-07T20:25:22.053280Z"
    }
   },
   "outputs": [],
   "source": [
    "prb = probe(shank_no=1)\n",
    "prb[0] = np.array([0,1,2])"
   ]
  },
  {
   "cell_type": "code",
   "execution_count": 8,
   "metadata": {
    "ExecuteTime": {
     "end_time": "2018-06-07T20:25:22.501629Z",
     "start_time": "2018-06-07T20:25:22.422957Z"
    }
   },
   "outputs": [],
   "source": [
    "prb.mapping[0] = np.array([-10,0])\n",
    "prb.mapping[1] = np.array([10,0])\n",
    "prb.mapping[2] = np.array([0,10])"
   ]
  },
  {
   "cell_type": "code",
   "execution_count": 9,
   "metadata": {
    "ExecuteTime": {
     "end_time": "2018-06-07T20:25:22.788583Z",
     "start_time": "2018-06-07T20:25:22.706548Z"
    }
   },
   "outputs": [],
   "source": [
    "prb.fs = 20000.\n",
    "prb.n_ch = 3\n",
    "prb.reorder_by_chip=False"
   ]
  },
  {
   "cell_type": "code",
   "execution_count": 5,
   "metadata": {
    "ExecuteTime": {
     "end_time": "2018-06-07T02:44:26.822999Z",
     "start_time": "2018-06-07T02:44:26.755514Z"
    },
    "scrolled": false
   },
   "outputs": [
    {
     "name": "stderr",
     "output_type": "stream",
     "text": [
      "2018-06-06 22:44:26,776 - spiketag - INFO - #############  load data  ###################\n",
      "2018-06-06 22:44:26,779 - spiketag - INFO - ./cell_0109.bin loaded, it contains: \n",
      "2018-06-06 22:44:26,783 - spiketag - INFO - 174000 * 160 points (111360480 bytes) \n",
      "2018-06-06 22:44:26,787 - spiketag - INFO - 160 channels with sampling rate of 25000.0000 \n",
      "2018-06-06 22:44:26,789 - spiketag - INFO - 6.960 secs (0.116 mins) of data\n",
      "2018-06-06 22:44:26,790 - spiketag - INFO - #############################################\n"
     ]
    },
    {
     "ename": "AttributeError",
     "evalue": "'probe' object has no attribute 'reorder_by_chip'",
     "output_type": "error",
     "traceback": [
      "\u001b[0;31m---------------------------------------------------------------------------\u001b[0m",
      "\u001b[0;31mAttributeError\u001b[0m                            Traceback (most recent call last)",
      "\u001b[0;32m<ipython-input-5-e0bf26d48d74>\u001b[0m in \u001b[0;36m<module>\u001b[0;34m()\u001b[0m\n\u001b[0;32m----> 1\u001b[0;31m \u001b[0mmua\u001b[0m \u001b[0;34m=\u001b[0m \u001b[0mMUA\u001b[0m\u001b[0;34m(\u001b[0m\u001b[0;34m'./cell_0109.bin'\u001b[0m\u001b[0;34m,\u001b[0m\u001b[0;34m'./cell_0109.spk.bin'\u001b[0m\u001b[0;34m,\u001b[0m \u001b[0mprb\u001b[0m\u001b[0;34m,\u001b[0m \u001b[0mbinary_radix\u001b[0m\u001b[0;34m=\u001b[0m\u001b[0;36m0\u001b[0m\u001b[0;34m)\u001b[0m\u001b[0;34m\u001b[0m\u001b[0m\n\u001b[0m",
      "\u001b[0;32m/Users/laic/Work/pydev/spiketag/spiketag/base/MUA.pyc\u001b[0m in \u001b[0;36m__init__\u001b[0;34m(self, mua_filename, spk_filename, probe, numbytes, binary_radix)\u001b[0m\n\u001b[1;32m     34\u001b[0m         \u001b[0mself\u001b[0m\u001b[0;34m.\u001b[0m\u001b[0mbf\u001b[0m\u001b[0;34m.\u001b[0m\u001b[0mload\u001b[0m\u001b[0;34m(\u001b[0m\u001b[0mmua_filename\u001b[0m\u001b[0;34m,\u001b[0m \u001b[0mdtype\u001b[0m\u001b[0;34m=\u001b[0m\u001b[0mself\u001b[0m\u001b[0;34m.\u001b[0m\u001b[0mdtype\u001b[0m\u001b[0;34m)\u001b[0m\u001b[0;34m\u001b[0m\u001b[0m\n\u001b[1;32m     35\u001b[0m         \u001b[0mself\u001b[0m\u001b[0;34m.\u001b[0m\u001b[0mmua_file\u001b[0m \u001b[0;34m=\u001b[0m \u001b[0mmua_filename\u001b[0m\u001b[0;34m\u001b[0m\u001b[0m\n\u001b[0;32m---> 36\u001b[0;31m         \u001b[0;32mif\u001b[0m \u001b[0mprobe\u001b[0m\u001b[0;34m.\u001b[0m\u001b[0mreorder_by_chip\u001b[0m \u001b[0;32mis\u001b[0m \u001b[0mTrue\u001b[0m\u001b[0;34m:\u001b[0m\u001b[0;34m\u001b[0m\u001b[0m\n\u001b[0m\u001b[1;32m     37\u001b[0m             \u001b[0mself\u001b[0m\u001b[0;34m.\u001b[0m\u001b[0mbf\u001b[0m\u001b[0;34m.\u001b[0m\u001b[0mreorder_by_chip\u001b[0m\u001b[0;34m(\u001b[0m\u001b[0mprobe\u001b[0m\u001b[0;34m.\u001b[0m\u001b[0m_nchips\u001b[0m\u001b[0;34m)\u001b[0m\u001b[0;34m\u001b[0m\u001b[0m\n\u001b[1;32m     38\u001b[0m         \u001b[0mself\u001b[0m\u001b[0;34m.\u001b[0m\u001b[0mdata\u001b[0m \u001b[0;34m=\u001b[0m \u001b[0mself\u001b[0m\u001b[0;34m.\u001b[0m\u001b[0mbf\u001b[0m\u001b[0;34m.\u001b[0m\u001b[0masarray\u001b[0m\u001b[0;34m(\u001b[0m\u001b[0mbinpoint\u001b[0m\u001b[0;34m=\u001b[0m\u001b[0mbinary_radix\u001b[0m\u001b[0;34m)\u001b[0m\u001b[0;34m\u001b[0m\u001b[0m\n",
      "\u001b[0;31mAttributeError\u001b[0m: 'probe' object has no attribute 'reorder_by_chip'"
     ]
    }
   ],
   "source": [
    "mua = MUA('./cell_0109.bin','./cell_0109.spk.bin', prb, binary_radix=0)"
   ]
  },
  {
   "cell_type": "code",
   "execution_count": 18,
   "metadata": {
    "ExecuteTime": {
     "end_time": "2018-06-06T22:40:19.758593Z",
     "start_time": "2018-06-06T22:40:19.671860Z"
    },
    "scrolled": true
   },
   "outputs": [
    {
     "data": {
      "text/plain": [
       "array([   4131,    4458,    6466, ..., 9278006, 9278135, 9279424],\n",
       "      dtype=int32)"
      ]
     },
     "execution_count": 18,
     "metadata": {},
     "output_type": "execute_result"
    }
   ],
   "source": [
    "mua.pivotal_pos[0]"
   ]
  },
  {
   "cell_type": "code",
   "execution_count": 19,
   "metadata": {
    "ExecuteTime": {
     "end_time": "2018-06-06T22:40:22.866753Z",
     "start_time": "2018-06-06T22:40:22.785602Z"
    }
   },
   "outputs": [],
   "source": [
    "spks = np.fromfile('./cell_0109.spk.bin', dtype=np.int32)"
   ]
  },
  {
   "cell_type": "code",
   "execution_count": 20,
   "metadata": {
    "ExecuteTime": {
     "end_time": "2018-06-06T22:40:23.061277Z",
     "start_time": "2018-06-06T22:40:22.971614Z"
    }
   },
   "outputs": [
    {
     "data": {
      "text/plain": [
       "array([   4131,    4458,    6466, ..., 9278006, 9278135, 9279424],\n",
       "      dtype=int32)"
      ]
     },
     "execution_count": 20,
     "metadata": {},
     "output_type": "execute_result"
    }
   ],
   "source": [
    "spks[::2]"
   ]
  },
  {
   "cell_type": "code",
   "execution_count": 21,
   "metadata": {
    "ExecuteTime": {
     "end_time": "2018-06-06T22:40:23.307194Z",
     "start_time": "2018-06-06T22:40:23.186992Z"
    }
   },
   "outputs": [
    {
     "data": {
      "text/plain": [
       "True"
      ]
     },
     "execution_count": 21,
     "metadata": {},
     "output_type": "execute_result"
    }
   ],
   "source": [
    "np.allclose(mua.pivotal_pos[0], spks[::2])"
   ]
  },
  {
   "cell_type": "markdown",
   "metadata": {},
   "source": [
    "## Unit test for individual views"
   ]
  },
  {
   "cell_type": "code",
   "execution_count": 6,
   "metadata": {
    "ExecuteTime": {
     "end_time": "2018-06-07T02:44:39.269700Z",
     "start_time": "2018-06-07T02:44:39.206541Z"
    }
   },
   "outputs": [
    {
     "ename": "NameError",
     "evalue": "name 'mua' is not defined",
     "output_type": "error",
     "traceback": [
      "\u001b[0;31m---------------------------------------------------------------------------\u001b[0m",
      "\u001b[0;31mNameError\u001b[0m                                 Traceback (most recent call last)",
      "\u001b[0;32m<ipython-input-6-ac799e05f64d>\u001b[0m in \u001b[0;36m<module>\u001b[0;34m()\u001b[0m\n\u001b[0;32m----> 1\u001b[0;31m \u001b[0mwview\u001b[0m \u001b[0;34m=\u001b[0m \u001b[0mwave_view\u001b[0m\u001b[0;34m(\u001b[0m\u001b[0mmua\u001b[0m\u001b[0;34m.\u001b[0m\u001b[0mdata\u001b[0m\u001b[0;34m,\u001b[0m \u001b[0mspks\u001b[0m\u001b[0;34m=\u001b[0m\u001b[0mspks\u001b[0m\u001b[0;34m)\u001b[0m\u001b[0;34m\u001b[0m\u001b[0m\n\u001b[0m\u001b[1;32m      2\u001b[0m \u001b[0mwview\u001b[0m\u001b[0;34m.\u001b[0m\u001b[0mshow\u001b[0m\u001b[0;34m(\u001b[0m\u001b[0;34m)\u001b[0m\u001b[0;34m\u001b[0m\u001b[0m\n",
      "\u001b[0;31mNameError\u001b[0m: name 'mua' is not defined"
     ]
    }
   ],
   "source": [
    "wview = wave_view(mua.data, spks=spks)\n",
    "wview.show()"
   ]
  },
  {
   "cell_type": "code",
   "execution_count": 23,
   "metadata": {
    "ExecuteTime": {
     "end_time": "2018-06-06T22:53:37.170773Z",
     "start_time": "2018-06-06T22:53:36.534315Z"
    }
   },
   "outputs": [
    {
     "name": "stderr",
     "output_type": "stream",
     "text": [
      "2018-06-06 18:53:36,591 - spiketag - INFO - mua.tospk()\n",
      "2018-06-06 18:53:37,162 - spiketag - INFO - ----------------success------------------\n",
      "2018-06-06 18:53:37,163 - spiketag - INFO -  \n"
     ]
    }
   ],
   "source": [
    "spk = mua.tospk()"
   ]
  },
  {
   "cell_type": "code",
   "execution_count": 24,
   "metadata": {
    "ExecuteTime": {
     "end_time": "2018-06-06T22:53:37.978990Z",
     "start_time": "2018-06-06T22:53:37.831107Z"
    }
   },
   "outputs": [
    {
     "name": "stderr",
     "output_type": "stream",
     "text": [
      "2018-06-06 18:53:37,970 - spiketag - INFO - spk._tofet(groupNo=0, method=weighted-pca, ncomp=6, whiten=False)\n",
      "2018-06-06 18:53:37,972 - spiketag - INFO - ----------------success------------------\n",
      "2018-06-06 18:53:37,973 - spiketag - INFO -  \n"
     ]
    }
   ],
   "source": [
    "fet = spk.tofet()"
   ]
  },
  {
   "cell_type": "code",
   "execution_count": 25,
   "metadata": {
    "ExecuteTime": {
     "end_time": "2018-06-06T22:53:40.439462Z",
     "start_time": "2018-06-06T22:53:39.759592Z"
    },
    "scrolled": true
   },
   "outputs": [
    {
     "name": "stderr",
     "output_type": "stream",
     "text": [
      "2018-06-06 18:53:40,433 - spiketag - INFO - clustering finished, used 0.615559101105 sec\n"
     ]
    }
   ],
   "source": [
    "clu = fet.toclu()"
   ]
  },
  {
   "cell_type": "code",
   "execution_count": 33,
   "metadata": {
    "ExecuteTime": {
     "end_time": "2018-06-06T22:54:18.891414Z",
     "start_time": "2018-06-06T22:54:18.814313Z"
    }
   },
   "outputs": [],
   "source": [
    "spkview = spike_view()"
   ]
  },
  {
   "cell_type": "code",
   "execution_count": 35,
   "metadata": {
    "ExecuteTime": {
     "end_time": "2018-06-06T22:54:29.719047Z",
     "start_time": "2018-06-06T22:54:29.573048Z"
    }
   },
   "outputs": [],
   "source": [
    "spkview.set_data(spk.spk[0], clu[0])"
   ]
  },
  {
   "cell_type": "code",
   "execution_count": 36,
   "metadata": {
    "ExecuteTime": {
     "end_time": "2018-06-06T22:54:30.451189Z",
     "start_time": "2018-06-06T22:54:30.327824Z"
    }
   },
   "outputs": [],
   "source": [
    "spkview.show()"
   ]
  },
  {
   "cell_type": "code",
   "execution_count": 37,
   "metadata": {
    "ExecuteTime": {
     "end_time": "2018-06-06T22:55:05.970177Z",
     "start_time": "2018-06-06T22:55:05.701687Z"
    }
   },
   "outputs": [],
   "source": [
    "fetview = scatter_3d_view()"
   ]
  },
  {
   "cell_type": "code",
   "execution_count": 38,
   "metadata": {
    "ExecuteTime": {
     "end_time": "2018-06-06T22:55:11.123362Z",
     "start_time": "2018-06-06T22:55:11.052868Z"
    }
   },
   "outputs": [],
   "source": [
    "fetview.set_data(fet.fet[0], clu[0])"
   ]
  },
  {
   "cell_type": "code",
   "execution_count": 39,
   "metadata": {
    "ExecuteTime": {
     "end_time": "2018-06-06T22:55:11.902626Z",
     "start_time": "2018-06-06T22:55:11.765860Z"
    }
   },
   "outputs": [],
   "source": [
    "fetview.show()"
   ]
  },
  {
   "cell_type": "code",
   "execution_count": 41,
   "metadata": {
    "ExecuteTime": {
     "end_time": "2018-06-06T22:55:38.601431Z",
     "start_time": "2018-06-06T22:55:38.394865Z"
    }
   },
   "outputs": [],
   "source": [
    "ampview = amplitude_view(fs=prb.fs, scale=1)"
   ]
  },
  {
   "cell_type": "code",
   "execution_count": 44,
   "metadata": {
    "ExecuteTime": {
     "end_time": "2018-06-06T22:57:17.938053Z",
     "start_time": "2018-06-06T22:57:17.863540Z"
    }
   },
   "outputs": [],
   "source": [
    "ampview.set_data(spk.spk[0], clu[0], mua.pivotal_pos[0])"
   ]
  },
  {
   "cell_type": "code",
   "execution_count": 45,
   "metadata": {
    "ExecuteTime": {
     "end_time": "2018-06-06T22:57:18.777267Z",
     "start_time": "2018-06-06T22:57:18.466670Z"
    }
   },
   "outputs": [],
   "source": [
    "ampview.show()"
   ]
  },
  {
   "cell_type": "code",
   "execution_count": null,
   "metadata": {},
   "outputs": [],
   "source": []
  },
  {
   "cell_type": "code",
   "execution_count": 46,
   "metadata": {
    "ExecuteTime": {
     "end_time": "2018-06-06T23:00:50.924707Z",
     "start_time": "2018-06-06T23:00:50.757003Z"
    }
   },
   "outputs": [],
   "source": [
    "treeview = ctree_view()"
   ]
  },
  {
   "cell_type": "code",
   "execution_count": 47,
   "metadata": {
    "ExecuteTime": {
     "end_time": "2018-06-06T23:00:54.203004Z",
     "start_time": "2018-06-06T23:00:54.041638Z"
    },
    "scrolled": false
   },
   "outputs": [],
   "source": [
    "treeview.set_data(clu[0])"
   ]
  },
  {
   "cell_type": "code",
   "execution_count": 48,
   "metadata": {
    "ExecuteTime": {
     "end_time": "2018-06-06T23:00:54.715240Z",
     "start_time": "2018-06-06T23:00:54.577475Z"
    },
    "scrolled": true
   },
   "outputs": [],
   "source": [
    "treeview.show()"
   ]
  },
  {
   "cell_type": "code",
   "execution_count": 49,
   "metadata": {
    "ExecuteTime": {
     "end_time": "2018-06-06T23:01:05.907536Z",
     "start_time": "2018-06-06T23:01:05.832103Z"
    }
   },
   "outputs": [],
   "source": [
    "corview = correlogram_view(fs=prb.fs)"
   ]
  },
  {
   "cell_type": "code",
   "execution_count": 50,
   "metadata": {
    "ExecuteTime": {
     "end_time": "2018-06-06T23:01:10.112927Z",
     "start_time": "2018-06-06T23:01:10.038276Z"
    }
   },
   "outputs": [],
   "source": [
    "corview.set_data(clu[0], mua.pivotal_pos[0])"
   ]
  },
  {
   "cell_type": "code",
   "execution_count": 51,
   "metadata": {
    "ExecuteTime": {
     "end_time": "2018-06-06T23:01:10.908531Z",
     "start_time": "2018-06-06T23:01:10.795976Z"
    }
   },
   "outputs": [],
   "source": [
    "corview.show()"
   ]
  },
  {
   "cell_type": "code",
   "execution_count": null,
   "metadata": {},
   "outputs": [],
   "source": []
  },
  {
   "cell_type": "code",
   "execution_count": 53,
   "metadata": {
    "ExecuteTime": {
     "end_time": "2018-06-06T23:01:23.624837Z",
     "start_time": "2018-06-06T23:01:23.171489Z"
    }
   },
   "outputs": [],
   "source": [
    "traceview = trace_view(fs=prb.fs, spklen=19)"
   ]
  },
  {
   "cell_type": "code",
   "execution_count": 54,
   "metadata": {
    "ExecuteTime": {
     "end_time": "2018-06-06T23:01:27.938103Z",
     "start_time": "2018-06-06T23:01:27.839190Z"
    }
   },
   "outputs": [],
   "source": [
    "traceview.set_data(mua.data, clu[0], mua.pivotal_pos[0])"
   ]
  },
  {
   "cell_type": "code",
   "execution_count": 55,
   "metadata": {
    "ExecuteTime": {
     "end_time": "2018-06-06T23:01:29.298225Z",
     "start_time": "2018-06-06T23:01:28.576548Z"
    }
   },
   "outputs": [],
   "source": [
    "traceview.show()"
   ]
  },
  {
   "cell_type": "code",
   "execution_count": null,
   "metadata": {},
   "outputs": [],
   "source": []
  },
  {
   "cell_type": "code",
   "execution_count": null,
   "metadata": {},
   "outputs": [],
   "source": []
  },
  {
   "cell_type": "code",
   "execution_count": null,
   "metadata": {},
   "outputs": [],
   "source": []
  },
  {
   "cell_type": "markdown",
   "metadata": {},
   "source": [
    "## Unit test for QT5 Wrapper"
   ]
  },
  {
   "cell_type": "code",
   "execution_count": 10,
   "metadata": {
    "ExecuteTime": {
     "end_time": "2018-06-07T20:25:26.045425Z",
     "start_time": "2018-06-07T20:25:25.977059Z"
    }
   },
   "outputs": [],
   "source": [
    "from spiketag.mvc import MainModel, MainView"
   ]
  },
  {
   "cell_type": "code",
   "execution_count": 18,
   "metadata": {
    "ExecuteTime": {
     "end_time": "2018-06-07T20:29:11.926101Z",
     "start_time": "2018-06-07T20:29:06.482710Z"
    },
    "scrolled": false
   },
   "outputs": [
    {
     "name": "stderr",
     "output_type": "stream",
     "text": [
      "2018-06-07 16:29:06,543 - spiketag - INFO - load mua data\n",
      "2018-06-07 16:29:06,560 - spiketag - INFO - #############  load data  ###################\n",
      "2018-06-07 16:29:06,561 - spiketag - INFO - ./cell_0109.bin loaded, it contains: \n",
      "2018-06-07 16:29:06,563 - spiketag - INFO - 9280040 * 3 points (111360480 bytes) \n",
      "2018-06-07 16:29:06,564 - spiketag - INFO - 3 channels with sampling rate of 20000.0000 \n",
      "2018-06-07 16:29:06,566 - spiketag - INFO - 464.002 secs (7.733 mins) of data\n",
      "2018-06-07 16:29:06,567 - spiketag - INFO - #############################################\n",
      "2018-06-07 16:29:06,705 - spiketag - INFO - processing folder: ./\n",
      "2018-06-07 16:29:06,707 - spiketag - INFO - raw data have 9309 spks\n",
      "2018-06-07 16:29:06,708 - spiketag - INFO - ----------------success------------------\n",
      "2018-06-07 16:29:06,710 - spiketag - INFO -  \n",
      "2018-06-07 16:29:06,711 - spiketag - INFO - extract spikes from pivital meta data\n",
      "2018-06-07 16:29:06,712 - spiketag - INFO - mua.tospk()\n",
      "2018-06-07 16:29:06,721 - spiketag - INFO - ----------------success------------------\n",
      "2018-06-07 16:29:06,723 - spiketag - INFO -  \n",
      "2018-06-07 16:29:06,725 - spiketag - INFO - grouping spike time\n",
      "2018-06-07 16:29:06,726 - spiketag - INFO - extrat features with weighted-pca\n",
      "2018-06-07 16:29:06,754 - spiketag - INFO - spk._tofet(group_id=0, method=weighted-pca, ncomp=6, whiten=False)\n",
      "2018-06-07 16:29:06,756 - spiketag - INFO - ----------------success------------------\n",
      "2018-06-07 16:29:06,757 - spiketag - INFO -  \n",
      "2018-06-07 16:29:06,758 - spiketag - INFO - clustering with hdbscan\n",
      "2018-06-07 16:29:11,905 - spiketag - INFO - clustering finished, used 5.14490580559 sec\n",
      "2018-06-07 16:29:11,913 - spiketag - INFO - Model.spktag is generated, nspk:9309\n"
     ]
    }
   ],
   "source": [
    "model = MainModel('./cell_0109.bin', './cell_0109.spk.bin', prb, binary_radix=11)"
   ]
  },
  {
   "cell_type": "code",
   "execution_count": 12,
   "metadata": {
    "ExecuteTime": {
     "end_time": "2018-06-07T20:25:34.511961Z",
     "start_time": "2018-06-07T20:25:32.289079Z"
    },
    "scrolled": false
   },
   "outputs": [],
   "source": [
    "view = MainView(prb)"
   ]
  },
  {
   "cell_type": "code",
   "execution_count": 19,
   "metadata": {
    "ExecuteTime": {
     "end_time": "2018-06-07T20:29:13.766076Z",
     "start_time": "2018-06-07T20:29:13.502358Z"
    }
   },
   "outputs": [],
   "source": [
    "view.show()"
   ]
  },
  {
   "cell_type": "code",
   "execution_count": 20,
   "metadata": {
    "ExecuteTime": {
     "end_time": "2018-06-07T20:29:14.881383Z",
     "start_time": "2018-06-07T20:29:14.413594Z"
    },
    "scrolled": true
   },
   "outputs": [
    {
     "name": "stdout",
     "output_type": "stream",
     "text": [
      "(5237,)\n"
     ]
    },
    {
     "name": "stderr",
     "output_type": "stream",
     "text": [
      "2018-06-07 16:30:35,002 - spiketag - DEBUG - ctree view expand clustier 4074 here\n",
      "2018-06-07 16:30:35,892 - spiketag - DEBUG - ctree view expand clustier 4076 here\n",
      "2018-06-07 16:30:42,570 - spiketag - DEBUG - ctree view expand clustier 4078 here\n",
      "2018-06-07 16:30:44,540 - spiketag - DEBUG - ctree view expand clustier 4079 here\n",
      "2018-06-07 16:31:22,971 - spiketag - DEBUG - ctree view expand clustier 4077 here\n"
     ]
    }
   ],
   "source": [
    "view.set_data(0, model.mua, model.spk[0], model.fet[0], model.clu[0])"
   ]
  },
  {
   "cell_type": "code",
   "execution_count": 28,
   "metadata": {
    "ExecuteTime": {
     "end_time": "2018-06-07T19:58:30.651010Z",
     "start_time": "2018-06-07T19:58:30.576986Z"
    }
   },
   "outputs": [
    {
     "data": {
      "text/plain": [
       "{0: 2065, 1: 369, 2: 534, 3: 1309}"
      ]
     },
     "execution_count": 28,
     "metadata": {},
     "output_type": "execute_result"
    }
   ],
   "source": [
    "model.clu[0].index_count"
   ]
  },
  {
   "cell_type": "code",
   "execution_count": null,
   "metadata": {},
   "outputs": [],
   "source": []
  },
  {
   "cell_type": "code",
   "execution_count": null,
   "metadata": {},
   "outputs": [],
   "source": []
  },
  {
   "cell_type": "code",
   "execution_count": null,
   "metadata": {},
   "outputs": [],
   "source": []
  },
  {
   "cell_type": "code",
   "execution_count": 15,
   "metadata": {
    "ExecuteTime": {
     "end_time": "2018-06-07T20:14:13.375102Z",
     "start_time": "2018-06-07T20:14:13.314317Z"
    }
   },
   "outputs": [],
   "source": [
    "thr = -31.00"
   ]
  },
  {
   "cell_type": "code",
   "execution_count": 16,
   "metadata": {
    "ExecuteTime": {
     "end_time": "2018-06-07T20:14:13.982828Z",
     "start_time": "2018-06-07T20:14:13.914878Z"
    }
   },
   "outputs": [],
   "source": [
    "idx = np.where(model.spk[0].min(axis=1).min(axis=1)>thr)[0]"
   ]
  },
  {
   "cell_type": "code",
   "execution_count": 17,
   "metadata": {
    "ExecuteTime": {
     "end_time": "2018-06-07T20:14:15.541818Z",
     "start_time": "2018-06-07T20:14:15.471294Z"
    },
    "scrolled": true
   },
   "outputs": [
    {
     "data": {
      "text/plain": [
       "(5032,)"
      ]
     },
     "execution_count": 17,
     "metadata": {},
     "output_type": "execute_result"
    }
   ],
   "source": [
    "idx.shape"
   ]
  },
  {
   "cell_type": "code",
   "execution_count": 17,
   "metadata": {
    "ExecuteTime": {
     "end_time": "2018-06-07T20:26:42.618393Z",
     "start_time": "2018-06-07T20:26:42.556956Z"
    }
   },
   "outputs": [
    {
     "name": "stdout",
     "output_type": "stream",
     "text": [
      "(4067,)\n",
      "(2589,)\n",
      "(2104,)\n"
     ]
    },
    {
     "name": "stderr",
     "output_type": "stream",
     "text": [
      "2018-06-07 16:28:50,182 - spiketag - DEBUG - no more undo\n",
      "2018-06-07 16:28:50,532 - spiketag - DEBUG - no more undo\n",
      "2018-06-07 16:28:50,760 - spiketag - DEBUG - no more undo\n",
      "2018-06-07 16:28:50,946 - spiketag - DEBUG - no more undo\n",
      "2018-06-07 16:28:51,118 - spiketag - DEBUG - no more undo\n",
      "2018-06-07 16:28:51,289 - spiketag - DEBUG - no more undo\n",
      "2018-06-07 16:28:51,453 - spiketag - DEBUG - no more undo\n",
      "2018-06-07 16:28:51,632 - spiketag - DEBUG - no more undo\n",
      "2018-06-07 16:28:51,843 - spiketag - DEBUG - no more undo\n",
      "2018-06-07 16:28:52,147 - spiketag - DEBUG - no more undo\n",
      "2018-06-07 16:28:52,437 - spiketag - DEBUG - no more undo\n",
      "2018-06-07 16:28:52,671 - spiketag - DEBUG - no more undo\n",
      "2018-06-07 16:28:52,932 - spiketag - DEBUG - no more undo\n",
      "2018-06-07 16:28:53,445 - spiketag - DEBUG - no more undo\n",
      "2018-06-07 16:28:53,680 - spiketag - DEBUG - no more undo\n",
      "2018-06-07 16:28:53,938 - spiketag - DEBUG - no more undo\n",
      "2018-06-07 16:28:54,136 - spiketag - DEBUG - no more undo\n"
     ]
    }
   ],
   "source": [
    "def delete_spk(model, spk_idx):\n",
    "    model.mua.spk_times[0] = np.delete(model.mua.spk_times[0], spk_idx, axis=0)\n",
    "    model.spk[0] = np.delete(model.spk[0], spk_idx, axis=0)\n",
    "    model.fet[0] = model.spk._tofet(0, method='pca')\n",
    "    model.cluster(group_id=0, method='hdbscan', fall_off_size=30) #, \n",
    "    view.set_data(0, model.mua, model.spk[0], model.fet[0], model.clu[0])"
   ]
  },
  {
   "cell_type": "code",
   "execution_count": 19,
   "metadata": {
    "ExecuteTime": {
     "end_time": "2018-06-07T20:14:19.831997Z",
     "start_time": "2018-06-07T20:14:19.355815Z"
    }
   },
   "outputs": [
    {
     "name": "stderr",
     "output_type": "stream",
     "text": [
      "2018-06-07 16:16:50,296 - spiketag - DEBUG - ctree view expand clustier 4279 here\n"
     ]
    }
   ],
   "source": [
    "delete_spk(model, idx)"
   ]
  },
  {
   "cell_type": "code",
   "execution_count": null,
   "metadata": {},
   "outputs": [],
   "source": []
  },
  {
   "cell_type": "code",
   "execution_count": 16,
   "metadata": {
    "ExecuteTime": {
     "end_time": "2018-06-07T20:26:01.053840Z",
     "start_time": "2018-06-07T20:26:00.988589Z"
    }
   },
   "outputs": [
    {
     "name": "stderr",
     "output_type": "stream",
     "text": [
      "WARNING: Traceback (most recent call last):\n",
      "  File \"/anaconda2/lib/python2.7/runpy.py\", line 174, in _run_module_as_main\n",
      "    \"__main__\", fname, loader, pkg_name)\n",
      "  File \"/anaconda2/lib/python2.7/runpy.py\", line 72, in _run_code\n",
      "    exec code in run_globals\n",
      "  File \"/anaconda2/lib/python2.7/site-packages/ipykernel_launcher.py\", line 16, in <module>\n",
      "    app.launch_new_instance()\n",
      "  File \"/anaconda2/lib/python2.7/site-packages/traitlets/config/application.py\", line 658, in launch_instance\n",
      "    app.start()\n",
      "  File \"/anaconda2/lib/python2.7/site-packages/ipykernel/kernelapp.py\", line 478, in start\n",
      "    self.io_loop.start()\n",
      "  File \"/anaconda2/lib/python2.7/site-packages/zmq/eventloop/ioloop.py\", line 177, in start\n",
      "    super(ZMQIOLoop, self).start()\n",
      "  File \"/anaconda2/lib/python2.7/site-packages/tornado/ioloop.py\", line 832, in start\n",
      "    self._run_callback(self._callbacks.popleft())\n",
      "  File \"/anaconda2/lib/python2.7/site-packages/tornado/ioloop.py\", line 605, in _run_callback\n",
      "    ret = callback()\n",
      "  File \"/anaconda2/lib/python2.7/site-packages/tornado/stack_context.py\", line 277, in null_wrapper\n",
      "    return fn(*args, **kwargs)\n",
      "  File \"/anaconda2/lib/python2.7/site-packages/ipykernel/kernelbase.py\", line 263, in enter_eventloop\n",
      "    self.eventloop(self)\n",
      "  File \"/anaconda2/lib/python2.7/site-packages/ipykernel/eventloops.py\", line 123, in loop_qt5\n",
      "    return loop_qt4(kernel)\n",
      "  File \"/anaconda2/lib/python2.7/site-packages/ipykernel/eventloops.py\", line 111, in loop_qt4\n",
      "    _loop_qt(kernel.app)\n",
      "  File \"/anaconda2/lib/python2.7/site-packages/ipykernel/eventloops.py\", line 95, in _loop_qt\n",
      "    app.exec_()\n",
      "  File \"/Users/laic/Work/pydev/vispy_cus/vispy/vispy/app/backends/_qt.py\", line 413, in keyPressEvent\n",
      "    self._keyEvent(self._vispy_canvas.events.key_press, ev)\n",
      "  File \"/Users/laic/Work/pydev/vispy_cus/vispy/vispy/app/backends/_qt.py\", line 428, in _keyEvent\n",
      "    func(native=ev, key=key, text=text_type(ev.text()), modifiers=mod)\n",
      "  File \"/Users/laic/Work/pydev/vispy_cus/vispy/vispy/util/event.py\", line 455, in __call__\n",
      "    self._invoke_callback(cb, event)\n",
      "  File \"/Users/laic/Work/pydev/vispy_cus/vispy/vispy/util/event.py\", line 475, in _invoke_callback\n",
      "    self, cb_event=(cb, event))\n",
      "  << caught exception here: >>\n",
      "  File \"/Users/laic/Work/pydev/vispy_cus/vispy/vispy/util/event.py\", line 471, in _invoke_callback\n",
      "    cb(event)\n",
      "  File \"/Users/laic/Work/pydev/spiketag/spiketag/view/scatter_2d_view.py\", line 136, in on_key_press\n",
      "    self.clip.emit('clip', thres=self.amp)\n",
      "  File \"/Users/laic/Work/pydev/spiketag/spiketag/utils/utils.py\", line 160, in emit\n",
      "    res.append(callback(*args, **kwargs))\n",
      "  File \"<ipython-input-16-cbf95aa6a25a>\", line 5, in on_clip\n",
      "    delete_spk(model=model, spk_idx=idx)\n",
      "  File \"<ipython-input-15-6615856d65ba>\", line 2, in delete_spk\n",
      "    model.mua.spk_times[0] = np.delete(model.mua.spk_times[0], idx, axis=0)\n",
      "NameError: global name 'idx' is not defined\n",
      "ERROR: Invoking <bound method amplitude_view.on_key_press of <amplitude_view (PyQt5) at 0x1c3e6a3dd0>> for KeyEvent\n"
     ]
    },
    {
     "name": "stdout",
     "output_type": "stream",
     "text": [
      "(4817,)\n"
     ]
    }
   ],
   "source": [
    "@view.ampview.clip.connect\n",
    "def on_clip(thres):\n",
    "    idx = np.where(model.spk[0].min(axis=1).min(axis=1)>thres)[0]\n",
    "    print(idx.shape)\n",
    "    delete_spk(model=model, spk_idx=idx)"
   ]
  },
  {
   "cell_type": "code",
   "execution_count": 42,
   "metadata": {
    "ExecuteTime": {
     "end_time": "2018-06-07T15:34:05.667494Z",
     "start_time": "2018-06-07T15:34:05.606767Z"
    }
   },
   "outputs": [
    {
     "data": {
      "text/plain": [
       "(1678, 19, 3)"
      ]
     },
     "execution_count": 42,
     "metadata": {},
     "output_type": "execute_result"
    }
   ],
   "source": [
    "model.spk[0].shape"
   ]
  },
  {
   "cell_type": "code",
   "execution_count": 39,
   "metadata": {
    "ExecuteTime": {
     "end_time": "2018-06-07T15:33:46.753331Z",
     "start_time": "2018-06-07T15:33:46.681524Z"
    }
   },
   "outputs": [
    {
     "name": "stderr",
     "output_type": "stream",
     "text": [
      "2018-06-07 11:33:46,742 - spiketag - INFO - spk._tofet(group_id=0, method=weighted-pca, ncomp=6, whiten=False)\n",
      "2018-06-07 11:33:46,746 - spiketag - INFO - ----------------success------------------\n",
      "2018-06-07 11:33:46,747 - spiketag - INFO -  \n"
     ]
    }
   ],
   "source": [
    "model.fet = model.spk.tofet()"
   ]
  },
  {
   "cell_type": "code",
   "execution_count": 40,
   "metadata": {
    "ExecuteTime": {
     "end_time": "2018-06-07T15:33:48.057949Z",
     "start_time": "2018-06-07T15:33:47.998725Z"
    }
   },
   "outputs": [
    {
     "data": {
      "text/plain": [
       "(1678, 6)"
      ]
     },
     "execution_count": 40,
     "metadata": {},
     "output_type": "execute_result"
    }
   ],
   "source": [
    "model.fet[0].shape"
   ]
  },
  {
   "cell_type": "code",
   "execution_count": 41,
   "metadata": {
    "ExecuteTime": {
     "end_time": "2018-06-07T15:33:49.759503Z",
     "start_time": "2018-06-07T15:33:49.633825Z"
    }
   },
   "outputs": [
    {
     "name": "stderr",
     "output_type": "stream",
     "text": [
      "2018-06-07 11:33:49,754 - spiketag - INFO - clustering finished, used 0.066253900528 sec\n"
     ]
    }
   ],
   "source": [
    "model.clu = model.fet.toclu()"
   ]
  },
  {
   "cell_type": "code",
   "execution_count": null,
   "metadata": {},
   "outputs": [],
   "source": []
  },
  {
   "cell_type": "code",
   "execution_count": 19,
   "metadata": {
    "ExecuteTime": {
     "end_time": "2018-06-07T15:29:29.853518Z",
     "start_time": "2018-06-07T15:29:29.781272Z"
    }
   },
   "outputs": [
    {
     "data": {
      "text/plain": [
       "(4740,)"
      ]
     },
     "execution_count": 19,
     "metadata": {},
     "output_type": "execute_result"
    }
   ],
   "source": [
    "model.mua.spk_times[0].shape"
   ]
  },
  {
   "cell_type": "code",
   "execution_count": null,
   "metadata": {},
   "outputs": [],
   "source": []
  },
  {
   "cell_type": "code",
   "execution_count": 16,
   "metadata": {
    "ExecuteTime": {
     "end_time": "2018-06-07T15:14:41.979657Z",
     "start_time": "2018-06-07T15:14:41.920523Z"
    }
   },
   "outputs": [
    {
     "data": {
      "text/plain": [
       "-146.53759765625"
      ]
     },
     "execution_count": 16,
     "metadata": {},
     "output_type": "execute_result"
    }
   ],
   "source": [
    "view.ampview.poses[:, 1].min()"
   ]
  },
  {
   "cell_type": "code",
   "execution_count": null,
   "metadata": {},
   "outputs": [],
   "source": []
  },
  {
   "cell_type": "code",
   "execution_count": null,
   "metadata": {},
   "outputs": [],
   "source": []
  },
  {
   "cell_type": "code",
   "execution_count": null,
   "metadata": {},
   "outputs": [],
   "source": []
  },
  {
   "cell_type": "code",
   "execution_count": null,
   "metadata": {},
   "outputs": [],
   "source": []
  },
  {
   "cell_type": "code",
   "execution_count": null,
   "metadata": {},
   "outputs": [],
   "source": []
  },
  {
   "cell_type": "code",
   "execution_count": null,
   "metadata": {},
   "outputs": [],
   "source": []
  },
  {
   "cell_type": "code",
   "execution_count": 17,
   "metadata": {
    "ExecuteTime": {
     "end_time": "2018-06-07T15:01:42.102331Z",
     "start_time": "2018-06-07T15:01:42.042265Z"
    }
   },
   "outputs": [
    {
     "data": {
      "text/plain": [
       "array([-19.429688, -18.166504, -17.284668, ..., -17.5     , -19.528809,\n",
       "       -28.05664 ], dtype=float32)"
      ]
     },
     "execution_count": 17,
     "metadata": {},
     "output_type": "execute_result"
    }
   ],
   "source": []
  },
  {
   "cell_type": "code",
   "execution_count": 14,
   "metadata": {
    "ExecuteTime": {
     "end_time": "2018-06-07T15:01:30.791411Z",
     "start_time": "2018-06-07T15:01:30.727739Z"
    }
   },
   "outputs": [
    {
     "data": {
      "text/plain": [
       "(9309,)"
      ]
     },
     "execution_count": 14,
     "metadata": {},
     "output_type": "execute_result"
    }
   ],
   "source": [
    "model.mua.spk_times[0].shape"
   ]
  },
  {
   "cell_type": "code",
   "execution_count": 15,
   "metadata": {
    "ExecuteTime": {
     "end_time": "2018-06-07T15:01:31.285766Z",
     "start_time": "2018-06-07T15:01:31.221275Z"
    }
   },
   "outputs": [
    {
     "data": {
      "text/plain": [
       "(9309, 19, 3)"
      ]
     },
     "execution_count": 15,
     "metadata": {},
     "output_type": "execute_result"
    }
   ],
   "source": [
    "model.spk[0].shape"
   ]
  },
  {
   "cell_type": "code",
   "execution_count": 16,
   "metadata": {
    "ExecuteTime": {
     "end_time": "2018-06-07T15:01:31.610442Z",
     "start_time": "2018-06-07T15:01:31.546623Z"
    }
   },
   "outputs": [
    {
     "data": {
      "text/plain": [
       "(9309, 6)"
      ]
     },
     "execution_count": 16,
     "metadata": {},
     "output_type": "execute_result"
    }
   ],
   "source": [
    "model.fet[0].shape"
   ]
  },
  {
   "cell_type": "code",
   "execution_count": null,
   "metadata": {},
   "outputs": [],
   "source": []
  },
  {
   "cell_type": "code",
   "execution_count": null,
   "metadata": {},
   "outputs": [],
   "source": []
  },
  {
   "cell_type": "code",
   "execution_count": null,
   "metadata": {},
   "outputs": [],
   "source": []
  },
  {
   "cell_type": "code",
   "execution_count": null,
   "metadata": {},
   "outputs": [],
   "source": []
  },
  {
   "cell_type": "code",
   "execution_count": null,
   "metadata": {},
   "outputs": [],
   "source": []
  },
  {
   "cell_type": "code",
   "execution_count": null,
   "metadata": {},
   "outputs": [],
   "source": []
  },
  {
   "cell_type": "code",
   "execution_count": null,
   "metadata": {},
   "outputs": [],
   "source": []
  },
  {
   "cell_type": "code",
   "execution_count": null,
   "metadata": {},
   "outputs": [],
   "source": []
  },
  {
   "cell_type": "code",
   "execution_count": null,
   "metadata": {},
   "outputs": [],
   "source": []
  },
  {
   "cell_type": "code",
   "execution_count": null,
   "metadata": {},
   "outputs": [],
   "source": []
  },
  {
   "cell_type": "code",
   "execution_count": null,
   "metadata": {},
   "outputs": [],
   "source": []
  },
  {
   "cell_type": "code",
   "execution_count": null,
   "metadata": {},
   "outputs": [],
   "source": []
  },
  {
   "cell_type": "code",
   "execution_count": null,
   "metadata": {},
   "outputs": [],
   "source": []
  },
  {
   "cell_type": "code",
   "execution_count": null,
   "metadata": {},
   "outputs": [],
   "source": []
  },
  {
   "cell_type": "code",
   "execution_count": null,
   "metadata": {},
   "outputs": [],
   "source": []
  },
  {
   "cell_type": "code",
   "execution_count": null,
   "metadata": {},
   "outputs": [],
   "source": []
  },
  {
   "cell_type": "code",
   "execution_count": null,
   "metadata": {},
   "outputs": [],
   "source": []
  },
  {
   "cell_type": "code",
   "execution_count": null,
   "metadata": {},
   "outputs": [],
   "source": []
  },
  {
   "cell_type": "code",
   "execution_count": null,
   "metadata": {},
   "outputs": [],
   "source": []
  },
  {
   "cell_type": "code",
   "execution_count": null,
   "metadata": {},
   "outputs": [],
   "source": []
  },
  {
   "cell_type": "code",
   "execution_count": null,
   "metadata": {},
   "outputs": [],
   "source": []
  },
  {
   "cell_type": "code",
   "execution_count": null,
   "metadata": {},
   "outputs": [],
   "source": []
  },
  {
   "cell_type": "code",
   "execution_count": 28,
   "metadata": {
    "ExecuteTime": {
     "end_time": "2018-06-06T22:53:52.572743Z",
     "start_time": "2018-06-06T22:53:52.462496Z"
    }
   },
   "outputs": [],
   "source": [
    "import sys\n",
    "from PyQt5.QtGui import *\n",
    "from PyQt5.QtCore import *\n",
    "from PyQt5.QtWidgets import *\n",
    "\n",
    "class sorter(QWidget):\n",
    "\n",
    "    def __init__(self):\n",
    "        super(sorter, self).__init__()\n",
    "        self.initUI()\n",
    "\n",
    "    def initUI(self):\n",
    "\n",
    "        hbox = QHBoxLayout(self)\n",
    "        self.splitter1 = QSplitter(Qt.Horizontal)\n",
    "#         textedit = QTextEdit()\n",
    "#         self.splitter1.addWidget(self.topleft)\n",
    "#         self.splitter1.addWidget(textedit)\n",
    "#         self.splitter1.setSizes([100,200])\n",
    "        self.splitter2 = QSplitter(Qt.Horizontal)\n",
    "        self.splitter_fet = QSplitter(Qt.Vertical)\n",
    "\n",
    "        self.splitter3 = QSplitter(Qt.Vertical)\n",
    "        self.splitter3.addWidget(self.splitter1)\n",
    "        self.splitter3.addWidget(self.splitter2)\n",
    "#         self.splitter2.addWidget(self.bottom)\n",
    "\n",
    "        hbox.addWidget(self.splitter3)\n",
    "\n",
    "        self.setLayout(hbox)\n",
    "        QApplication.setStyle(QStyleFactory.create('Cleanlooks'))\n",
    "\n",
    "        self.setGeometry(300, 300, 300, 200)\n",
    "        self.setWindowTitle('spiketag')\n",
    "#         self.show()\n",
    "\n",
    "    def set_data(self, mua, spk, fet, clu):\n",
    "        ### init view and set_data\n",
    "        self.spkview = spike_view()\n",
    "        self.spkview.set_data(spk, clu)\n",
    "        self.fetview0 = scatter_3d_view()\n",
    "        self.fetview0.set_data(fet[:,[0,1,2]].copy(), clu)\n",
    "        self.fetview1 = scatter_3d_view()\n",
    "        self.fetview1.set_data(fet[:,[1,3,4]].copy(), clu)\n",
    "        self.ampview = amplitude_view(fs=fs, scale=1)\n",
    "        self.ampview.set_data(spk, clu, mua.pivotal_pos[0])\n",
    "        self.treeview = ctree_view()\n",
    "        self.treeview.set_data(clu)\n",
    "        self.corview = correlogram_view(fs=fs)\n",
    "        self.corview.set_data(clu, mua.pivotal_pos[0])\n",
    "        self.traceview = trace_view(fs=mua.fs, spklen=spk.shape[1])\n",
    "        self.traceview.set_data(mua.data, clu, mua.pivotal_pos[0])\n",
    "#         self.traceview.locate_buffer = 2000\n",
    "        \n",
    "        ### put views into splitter\n",
    "        self.splitter1.addWidget(self.traceview.native)\n",
    "        self.splitter1.addWidget(self.splitter_fet)\n",
    "        self.splitter_fet.addWidget(self.fetview0.native)\n",
    "        self.splitter_fet.addWidget(self.fetview1.native)\n",
    "        self.splitter1.addWidget(self.spkview.native)\n",
    "        \n",
    "        self.splitter2.addWidget(self.corview.native)\n",
    "        self.splitter2.addWidget(self.treeview.native)\n",
    "        self.splitter2.addWidget(self.ampview.native)\n"
   ]
  },
  {
   "cell_type": "code",
   "execution_count": 29,
   "metadata": {
    "ExecuteTime": {
     "end_time": "2018-06-06T22:53:53.590297Z",
     "start_time": "2018-06-06T22:53:53.528248Z"
    }
   },
   "outputs": [],
   "source": [
    "%gui qt"
   ]
  },
  {
   "cell_type": "code",
   "execution_count": 30,
   "metadata": {
    "ExecuteTime": {
     "end_time": "2018-06-06T22:53:54.106316Z",
     "start_time": "2018-06-06T22:53:54.034948Z"
    },
    "scrolled": true
   },
   "outputs": [],
   "source": [
    "ex = sorter()"
   ]
  },
  {
   "cell_type": "code",
   "execution_count": 31,
   "metadata": {
    "ExecuteTime": {
     "end_time": "2018-06-06T22:53:55.860314Z",
     "start_time": "2018-06-06T22:53:54.844399Z"
    },
    "scrolled": true
   },
   "outputs": [
    {
     "name": "stderr",
     "output_type": "stream",
     "text": [
      "2018-06-06 18:53:54,900 - spiketag - INFO - mua.tospk()\n",
      "2018-06-06 18:53:54,909 - spiketag - INFO - ----------------success------------------\n",
      "2018-06-06 18:53:54,910 - spiketag - INFO -  \n",
      "2018-06-06 18:53:54,943 - spiketag - INFO - spk._tofet(groupNo=0, method=pca, ncomp=9, whiten=False)\n",
      "2018-06-06 18:53:54,945 - spiketag - INFO - ----------------success------------------\n",
      "2018-06-06 18:53:54,946 - spiketag - INFO -  \n",
      "2018-06-06 18:53:55,855 - spiketag - INFO - clustering finished, used 0.906870126724 sec\n"
     ]
    }
   ],
   "source": [
    "spk = mua.tospk()\n",
    "fet = spk.tofet(method='pca', ncomp=9, whiten=False)\n",
    "clu = fet.toclu(method='hdbscan')"
   ]
  },
  {
   "cell_type": "code",
   "execution_count": 32,
   "metadata": {
    "ExecuteTime": {
     "end_time": "2018-06-06T22:53:57.807949Z",
     "start_time": "2018-06-06T22:53:57.724631Z"
    },
    "scrolled": true
   },
   "outputs": [
    {
     "ename": "KeyError",
     "evalue": "1",
     "output_type": "error",
     "traceback": [
      "\u001b[0;31m---------------------------------------------------------------------------\u001b[0m",
      "\u001b[0;31mKeyError\u001b[0m                                  Traceback (most recent call last)",
      "\u001b[0;32m<ipython-input-32-c8b5c2bc0fae>\u001b[0m in \u001b[0;36m<module>\u001b[0;34m()\u001b[0m\n\u001b[0;32m----> 1\u001b[0;31m \u001b[0mex\u001b[0m\u001b[0;34m.\u001b[0m\u001b[0mset_data\u001b[0m\u001b[0;34m(\u001b[0m\u001b[0mmua\u001b[0m\u001b[0;34m,\u001b[0m \u001b[0mspk\u001b[0m\u001b[0;34m.\u001b[0m\u001b[0mspk\u001b[0m\u001b[0;34m[\u001b[0m\u001b[0;36m1\u001b[0m\u001b[0;34m]\u001b[0m\u001b[0;34m,\u001b[0m \u001b[0mfet\u001b[0m\u001b[0;34m.\u001b[0m\u001b[0mfet\u001b[0m\u001b[0;34m[\u001b[0m\u001b[0;36m1\u001b[0m\u001b[0;34m]\u001b[0m\u001b[0;34m,\u001b[0m \u001b[0mclu\u001b[0m\u001b[0;34m[\u001b[0m\u001b[0;36m1\u001b[0m\u001b[0;34m]\u001b[0m\u001b[0;34m)\u001b[0m\u001b[0;34m\u001b[0m\u001b[0m\n\u001b[0m",
      "\u001b[0;31mKeyError\u001b[0m: 1"
     ]
    }
   ],
   "source": [
    "ex.set_data(mua, spk.spk[1], fet.fet[1], clu[1])"
   ]
  },
  {
   "cell_type": "code",
   "execution_count": 66,
   "metadata": {
    "ExecuteTime": {
     "end_time": "2018-05-02T01:18:57.015770Z",
     "start_time": "2018-05-02T01:18:56.850123Z"
    },
    "scrolled": false
   },
   "outputs": [],
   "source": [
    "ex.show()"
   ]
  },
  {
   "cell_type": "code",
   "execution_count": 70,
   "metadata": {
    "ExecuteTime": {
     "end_time": "2018-05-02T01:19:23.597561Z",
     "start_time": "2018-05-02T01:19:23.542644Z"
    },
    "scrolled": true
   },
   "outputs": [],
   "source": [
    "ex.traceview.locate_buffer = 300"
   ]
  },
  {
   "cell_type": "code",
   "execution_count": 97,
   "metadata": {
    "scrolled": true
   },
   "outputs": [
    {
     "name": "stderr",
     "output_type": "stream",
     "text": [
      "ERROR: Invoking <bound method trace_view.update_cursor of <trace_view (PyQt5) at 0x1c4774b690>> repeat 8192\n",
      "ERROR: Invoking <bound method trace_view.update_cursor of <trace_view (PyQt5) at 0x1c4a0aa110>> repeat 8192\n"
     ]
    }
   ],
   "source": [
    "ex.fetview0.set_data(fet.fet[1][:,[1,3,4]], clu[1])\n",
    "ex.update()"
   ]
  },
  {
   "cell_type": "code",
   "execution_count": 20,
   "metadata": {},
   "outputs": [],
   "source": [
    "gclu = clu[1]"
   ]
  },
  {
   "cell_type": "code",
   "execution_count": 21,
   "metadata": {
    "scrolled": true
   },
   "outputs": [
    {
     "data": {
      "text/plain": [
       "array([ 848, 2681, 2795, 2899, 2951, 3162, 3521, 4018, 4031, 4074, 4169,\n",
       "       4224, 4237, 4486, 4489, 4648, 5064, 5078, 5823, 5966, 5967, 6047,\n",
       "       6049, 6070, 6610, 7207, 7319, 7919, 8057, 8167, 8378, 8602, 8679,\n",
       "       9240])"
      ]
     },
     "execution_count": 21,
     "metadata": {},
     "output_type": "execute_result"
    },
    {
     "name": "stderr",
     "output_type": "stream",
     "text": [
      "2018-03-11 15:08:33,804 - spiketag - DEBUG - ctree view expand clustier 9311 here\n",
      "2018-03-11 15:08:51,809 - spiketag - DEBUG - ctree view expand clustier 9313 here\n"
     ]
    }
   ],
   "source": [
    "gclu.selectlist"
   ]
  },
  {
   "cell_type": "code",
   "execution_count": 21,
   "metadata": {},
   "outputs": [
    {
     "data": {
      "text/plain": [
       "['spiketag.view.spike_view.on_select_id121320795744',\n",
       " 'spiketag.view.scatter_3d_view.on_select_id121444857928',\n",
       " 'spiketag.view.scatter_3d_view.on_select_id121449105600',\n",
       " 'spiketag.view.amplitude_view.on_select_id121452650320',\n",
       " 'spiketag.view.trace_view.on_select_id121529220464']"
      ]
     },
     "execution_count": 21,
     "metadata": {},
     "output_type": "execute_result"
    },
    {
     "name": "stderr",
     "output_type": "stream",
     "text": [
      "2018-03-11 14:14:28,666 - spiketag - DEBUG - ctree view collapse cluster 9309 here\n",
      "2018-03-11 14:14:29,401 - spiketag - DEBUG - ctree view collapse cluster 9309 here\n",
      "2018-03-11 14:14:31,183 - spiketag - DEBUG - ctree view collapse cluster 9309 here\n",
      "2018-03-11 14:14:32,756 - spiketag - DEBUG - ctree view collapse cluster 9311 here\n",
      "2018-03-11 14:14:34,080 - spiketag - DEBUG - ctree view collapse cluster 9311 here\n",
      "2018-03-11 14:14:34,932 - spiketag - DEBUG - ctree view collapse cluster 9309 here\n",
      "2018-03-11 14:14:35,486 - spiketag - DEBUG - ctree view collapse cluster 9311 here\n",
      "2018-03-11 14:14:36,014 - spiketag - DEBUG - ctree view collapse cluster 9311 here\n",
      "2018-03-11 14:14:36,999 - spiketag - DEBUG - ctree view collapse cluster 9309 here\n",
      "2018-03-11 14:14:37,535 - spiketag - DEBUG - ctree view collapse cluster 9311 here\n",
      "2018-03-11 14:14:39,278 - spiketag - DEBUG - ctree view expand clustier 9312 here\n",
      "2018-03-11 14:14:43,798 - spiketag - DEBUG - ctree view collapse cluster 9311 here\n",
      "2018-03-11 14:14:44,643 - spiketag - DEBUG - ctree view collapse cluster 9309 here\n"
     ]
    }
   ],
   "source": [
    "gclu._registered_func_name('select')"
   ]
  },
  {
   "cell_type": "code",
   "execution_count": null,
   "metadata": {},
   "outputs": [],
   "source": []
  }
 ],
 "metadata": {
  "kernelspec": {
   "display_name": "Python 2",
   "language": "python",
   "name": "python2"
  },
  "language_info": {
   "codemirror_mode": {
    "name": "ipython",
    "version": 2
   },
   "file_extension": ".py",
   "mimetype": "text/x-python",
   "name": "python",
   "nbconvert_exporter": "python",
   "pygments_lexer": "ipython2",
   "version": "2.7.14"
  },
  "toc": {
   "nav_menu": {},
   "number_sections": true,
   "sideBar": true,
   "skip_h1_title": false,
   "title_cell": "Table of Contents",
   "title_sidebar": "Contents",
   "toc_cell": false,
   "toc_position": {},
   "toc_section_display": true,
   "toc_window_display": false
  },
  "varInspector": {
   "cols": {
    "lenName": 16,
    "lenType": 16,
    "lenVar": 40
   },
   "kernels_config": {
    "python": {
     "delete_cmd_postfix": "",
     "delete_cmd_prefix": "del ",
     "library": "var_list.py",
     "varRefreshCmd": "print(var_dic_list())"
    },
    "r": {
     "delete_cmd_postfix": ") ",
     "delete_cmd_prefix": "rm(",
     "library": "var_list.r",
     "varRefreshCmd": "cat(var_dic_list()) "
    }
   },
   "types_to_exclude": [
    "module",
    "function",
    "builtin_function_or_method",
    "instance",
    "_Feature"
   ],
   "window_display": false
  }
 },
 "nbformat": 4,
 "nbformat_minor": 2
}
