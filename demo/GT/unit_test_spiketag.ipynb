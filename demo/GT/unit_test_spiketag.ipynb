{
 "cells": [
  {
   "cell_type": "code",
   "execution_count": 1,
   "metadata": {
    "ExecuteTime": {
     "end_time": "2018-05-01T21:49:44.076410Z",
     "start_time": "2018-05-01T21:49:44.034084Z"
    }
   },
   "outputs": [],
   "source": [
    "%load_ext autoreload"
   ]
  },
  {
   "cell_type": "code",
   "execution_count": 2,
   "metadata": {
    "ExecuteTime": {
     "end_time": "2018-05-01T21:49:44.659998Z",
     "start_time": "2018-05-01T21:49:44.653743Z"
    }
   },
   "outputs": [],
   "source": [
    "%autoreload 2"
   ]
  },
  {
   "cell_type": "code",
   "execution_count": 3,
   "metadata": {
    "ExecuteTime": {
     "end_time": "2018-05-01T21:49:45.477313Z",
     "start_time": "2018-05-01T21:49:44.987659Z"
    },
    "scrolled": false
   },
   "outputs": [
    {
     "name": "stdout",
     "output_type": "stream",
     "text": [
      "Populating the interactive namespace from numpy and matplotlib\n"
     ]
    }
   ],
   "source": [
    "%pylab inline"
   ]
  },
  {
   "cell_type": "code",
   "execution_count": 4,
   "metadata": {
    "ExecuteTime": {
     "end_time": "2018-05-01T21:49:45.660811Z",
     "start_time": "2018-05-01T21:49:45.635745Z"
    }
   },
   "outputs": [],
   "source": [
    "%gui qt"
   ]
  },
  {
   "cell_type": "code",
   "execution_count": 5,
   "metadata": {
    "ExecuteTime": {
     "end_time": "2018-05-01T21:49:50.915832Z",
     "start_time": "2018-05-01T21:49:49.073692Z"
    }
   },
   "outputs": [],
   "source": [
    "from spiketag.base import ProbeFactory"
   ]
  },
  {
   "cell_type": "code",
   "execution_count": 6,
   "metadata": {
    "ExecuteTime": {
     "end_time": "2018-05-01T21:49:51.025998Z",
     "start_time": "2018-05-01T21:49:50.976406Z"
    }
   },
   "outputs": [],
   "source": [
    "nCh = 3\n",
    "fs  = 20000.\n",
    "tritrode = ProbeFactory.genLinearProbe(fs=fs, n_ch=nCh)\n",
    "tritrode.reorder_by_chip = False"
   ]
  },
  {
   "cell_type": "code",
   "execution_count": 7,
   "metadata": {
    "ExecuteTime": {
     "end_time": "2018-05-01T21:49:52.445343Z",
     "start_time": "2018-05-01T21:49:52.385632Z"
    }
   },
   "outputs": [
    {
     "data": {
      "text/plain": [
       "array([[   4131,       1],\n",
       "       [   4458,       1],\n",
       "       [   6466,       1],\n",
       "       ...,\n",
       "       [9278006,       1],\n",
       "       [9278135,       1],\n",
       "       [9279424,       1]], dtype=int32)"
      ]
     },
     "execution_count": 7,
     "metadata": {},
     "output_type": "execute_result"
    }
   ],
   "source": [
    "spk = np.fromfile('./cell_0109.bin.spk', dtype=np.int32)\n",
    "spk.reshape(-1, 2)"
   ]
  },
  {
   "cell_type": "code",
   "execution_count": 8,
   "metadata": {
    "ExecuteTime": {
     "end_time": "2018-05-01T21:49:55.465648Z",
     "start_time": "2018-05-01T21:49:55.413200Z"
    }
   },
   "outputs": [],
   "source": [
    "from spiketag.base import *"
   ]
  },
  {
   "cell_type": "code",
   "execution_count": 9,
   "metadata": {
    "ExecuteTime": {
     "end_time": "2018-05-01T21:49:56.263308Z",
     "start_time": "2018-05-01T21:49:56.094321Z"
    }
   },
   "outputs": [],
   "source": [
    "from spiketag.view import *"
   ]
  },
  {
   "cell_type": "code",
   "execution_count": 19,
   "metadata": {
    "ExecuteTime": {
     "end_time": "2018-05-01T21:58:34.430490Z",
     "start_time": "2018-05-01T21:58:34.174991Z"
    },
    "scrolled": false
   },
   "outputs": [
    {
     "name": "stderr",
     "output_type": "stream",
     "text": [
      "2018-05-01 17:58:34,247 - spiketag - INFO - #############  load data  ###################\n",
      "2018-05-01 17:58:34,249 - spiketag - INFO - ./cell_0109.bin loaded, it contains: \n",
      "2018-05-01 17:58:34,251 - spiketag - INFO - 9280040 * 3 points (111360480 bytes) \n",
      "2018-05-01 17:58:34,254 - spiketag - INFO - 3 channels with sampling rate of 20000.0000 \n",
      "2018-05-01 17:58:34,259 - spiketag - INFO - 464.002 secs (7.733 mins) of data\n",
      "2018-05-01 17:58:34,260 - spiketag - INFO - #############################################\n",
      "2018-05-01 17:58:34,380 - spiketag - INFO - processing folder: ./\n",
      "2018-05-01 17:58:34,383 - spiketag - INFO - raw data have 9309 spks\n",
      "2018-05-01 17:58:34,385 - spiketag - INFO - ----------------success------------------\n",
      "2018-05-01 17:58:34,387 - spiketag - INFO -  \n"
     ]
    }
   ],
   "source": [
    "mua = MUA('./cell_0109.bin', tritrode, binary_radix=0)"
   ]
  },
  {
   "cell_type": "code",
   "execution_count": 20,
   "metadata": {
    "ExecuteTime": {
     "end_time": "2018-05-01T21:58:35.277362Z",
     "start_time": "2018-05-01T21:58:35.211954Z"
    },
    "scrolled": true
   },
   "outputs": [
    {
     "data": {
      "text/plain": [
       "array([   4131,    4458,    6466, ..., 9278006, 9278135, 9279424],\n",
       "      dtype=int32)"
      ]
     },
     "execution_count": 20,
     "metadata": {},
     "output_type": "execute_result"
    }
   ],
   "source": [
    "mua.pivotal_pos[0]"
   ]
  },
  {
   "cell_type": "code",
   "execution_count": 21,
   "metadata": {
    "ExecuteTime": {
     "end_time": "2018-05-01T21:58:37.335226Z",
     "start_time": "2018-05-01T21:58:37.269724Z"
    }
   },
   "outputs": [],
   "source": [
    "spks = np.fromfile('./cell_0109.spk.bin', dtype=np.int32)"
   ]
  },
  {
   "cell_type": "code",
   "execution_count": 23,
   "metadata": {
    "ExecuteTime": {
     "end_time": "2018-05-01T21:58:53.060699Z",
     "start_time": "2018-05-01T21:58:52.996909Z"
    }
   },
   "outputs": [
    {
     "data": {
      "text/plain": [
       "array([   4131,    4458,    6466, ..., 9278006, 9278135, 9279424],\n",
       "      dtype=int32)"
      ]
     },
     "execution_count": 23,
     "metadata": {},
     "output_type": "execute_result"
    }
   ],
   "source": [
    "spks[::2]"
   ]
  },
  {
   "cell_type": "code",
   "execution_count": 24,
   "metadata": {
    "ExecuteTime": {
     "end_time": "2018-05-01T21:59:08.581669Z",
     "start_time": "2018-05-01T21:59:08.514969Z"
    }
   },
   "outputs": [
    {
     "data": {
      "text/plain": [
       "True"
      ]
     },
     "execution_count": 24,
     "metadata": {},
     "output_type": "execute_result"
    }
   ],
   "source": [
    "np.allclose(mua.pivotal_pos[0], spks[::2])"
   ]
  },
  {
   "cell_type": "markdown",
   "metadata": {},
   "source": [
    "## Unit test for individual views"
   ]
  },
  {
   "cell_type": "code",
   "execution_count": 25,
   "metadata": {
    "ExecuteTime": {
     "end_time": "2018-05-01T21:59:18.403071Z",
     "start_time": "2018-05-01T21:59:15.568567Z"
    }
   },
   "outputs": [],
   "source": [
    "wview = wave_view(mua.data, spks=spks)\n",
    "wview.show()"
   ]
  },
  {
   "cell_type": "code",
   "execution_count": 26,
   "metadata": {
    "ExecuteTime": {
     "end_time": "2018-05-01T21:59:21.251176Z",
     "start_time": "2018-05-01T21:59:20.654021Z"
    }
   },
   "outputs": [
    {
     "name": "stderr",
     "output_type": "stream",
     "text": [
      "2018-05-01 17:59:20,703 - spiketag - INFO - mua.tospk()\n",
      "2018-05-01 17:59:21,243 - spiketag - INFO - ----------------success------------------\n",
      "2018-05-01 17:59:21,244 - spiketag - INFO -  \n"
     ]
    }
   ],
   "source": [
    "spk = mua.tospk()"
   ]
  },
  {
   "cell_type": "code",
   "execution_count": 27,
   "metadata": {
    "ExecuteTime": {
     "end_time": "2018-05-01T21:59:22.600151Z",
     "start_time": "2018-05-01T21:59:22.480928Z"
    }
   },
   "outputs": [
    {
     "name": "stderr",
     "output_type": "stream",
     "text": [
      "2018-05-01 17:59:22,591 - spiketag - INFO - spk._tofet(groupNo=1, method=weighted-pca, ncomp=6, whiten=False)\n",
      "2018-05-01 17:59:22,593 - spiketag - INFO - ----------------success------------------\n",
      "2018-05-01 17:59:22,594 - spiketag - INFO -  \n"
     ]
    }
   ],
   "source": [
    "fet = spk.tofet()"
   ]
  },
  {
   "cell_type": "code",
   "execution_count": 28,
   "metadata": {
    "ExecuteTime": {
     "end_time": "2018-05-01T21:59:24.773509Z",
     "start_time": "2018-05-01T21:59:24.099365Z"
    },
    "scrolled": true
   },
   "outputs": [
    {
     "name": "stderr",
     "output_type": "stream",
     "text": [
      "2018-05-01 17:59:24,768 - spiketag - INFO - clustering finished, used 0.621437072754 sec\n"
     ]
    }
   ],
   "source": [
    "clu = fet.toclu()"
   ]
  },
  {
   "cell_type": "code",
   "execution_count": 41,
   "metadata": {
    "ExecuteTime": {
     "end_time": "2018-05-01T22:00:20.908727Z",
     "start_time": "2018-05-01T22:00:20.839913Z"
    }
   },
   "outputs": [],
   "source": [
    "spkview = spike_view()"
   ]
  },
  {
   "cell_type": "code",
   "execution_count": 42,
   "metadata": {
    "ExecuteTime": {
     "end_time": "2018-05-01T22:00:21.367062Z",
     "start_time": "2018-05-01T22:00:21.223329Z"
    }
   },
   "outputs": [],
   "source": [
    "spkview.set_data(spk.spk[1], clu[1])"
   ]
  },
  {
   "cell_type": "code",
   "execution_count": 43,
   "metadata": {
    "ExecuteTime": {
     "end_time": "2018-05-01T22:00:21.692736Z",
     "start_time": "2018-05-01T22:00:21.565217Z"
    }
   },
   "outputs": [],
   "source": [
    "spkview.show()"
   ]
  },
  {
   "cell_type": "code",
   "execution_count": 44,
   "metadata": {
    "ExecuteTime": {
     "end_time": "2018-05-01T22:00:22.259764Z",
     "start_time": "2018-05-01T22:00:22.102691Z"
    }
   },
   "outputs": [],
   "source": [
    "fetview = scatter_3d_view()"
   ]
  },
  {
   "cell_type": "code",
   "execution_count": 45,
   "metadata": {
    "ExecuteTime": {
     "end_time": "2018-05-01T22:00:22.425476Z",
     "start_time": "2018-05-01T22:00:22.354759Z"
    }
   },
   "outputs": [],
   "source": [
    "fetview.set_data(fet.fet[1], clu[1])"
   ]
  },
  {
   "cell_type": "code",
   "execution_count": 46,
   "metadata": {
    "ExecuteTime": {
     "end_time": "2018-05-01T22:00:22.738506Z",
     "start_time": "2018-05-01T22:00:22.596256Z"
    }
   },
   "outputs": [],
   "source": [
    "fetview.show()"
   ]
  },
  {
   "cell_type": "code",
   "execution_count": 72,
   "metadata": {
    "ExecuteTime": {
     "end_time": "2018-05-02T01:27:35.252275Z",
     "start_time": "2018-05-02T01:27:35.061142Z"
    }
   },
   "outputs": [],
   "source": [
    "ampview = amplitude_view(fs=fs, scale=1)"
   ]
  },
  {
   "cell_type": "code",
   "execution_count": 73,
   "metadata": {
    "ExecuteTime": {
     "end_time": "2018-05-02T01:27:35.542889Z",
     "start_time": "2018-05-02T01:27:35.483804Z"
    }
   },
   "outputs": [],
   "source": [
    "ampview.set_data(spk.spk[1], clu[1], mua.pivotal_pos[0])"
   ]
  },
  {
   "cell_type": "code",
   "execution_count": 74,
   "metadata": {
    "ExecuteTime": {
     "end_time": "2018-05-02T01:27:36.362918Z",
     "start_time": "2018-05-02T01:27:36.073741Z"
    }
   },
   "outputs": [],
   "source": [
    "ampview.show()"
   ]
  },
  {
   "cell_type": "code",
   "execution_count": null,
   "metadata": {},
   "outputs": [],
   "source": []
  },
  {
   "cell_type": "code",
   "execution_count": 51,
   "metadata": {
    "ExecuteTime": {
     "end_time": "2018-05-01T22:00:35.425697Z",
     "start_time": "2018-05-01T22:00:35.140242Z"
    }
   },
   "outputs": [],
   "source": [
    "treeview = ctree_view()"
   ]
  },
  {
   "cell_type": "code",
   "execution_count": 52,
   "metadata": {
    "ExecuteTime": {
     "end_time": "2018-05-01T22:00:36.126787Z",
     "start_time": "2018-05-01T22:00:35.971579Z"
    },
    "scrolled": false
   },
   "outputs": [],
   "source": [
    "treeview.set_data(clu[1])"
   ]
  },
  {
   "cell_type": "code",
   "execution_count": 53,
   "metadata": {
    "ExecuteTime": {
     "end_time": "2018-05-01T22:00:36.529726Z",
     "start_time": "2018-05-01T22:00:36.391344Z"
    },
    "scrolled": true
   },
   "outputs": [],
   "source": [
    "treeview.show()"
   ]
  },
  {
   "cell_type": "code",
   "execution_count": 54,
   "metadata": {
    "ExecuteTime": {
     "end_time": "2018-05-01T22:00:37.529911Z",
     "start_time": "2018-05-01T22:00:37.460235Z"
    }
   },
   "outputs": [],
   "source": [
    "corview = correlogram_view(fs=fs)"
   ]
  },
  {
   "cell_type": "code",
   "execution_count": 55,
   "metadata": {
    "ExecuteTime": {
     "end_time": "2018-05-01T22:00:37.911774Z",
     "start_time": "2018-05-01T22:00:37.834597Z"
    }
   },
   "outputs": [],
   "source": [
    "corview.set_data(clu[1], mua.pivotal_pos[0])"
   ]
  },
  {
   "cell_type": "code",
   "execution_count": 56,
   "metadata": {
    "ExecuteTime": {
     "end_time": "2018-05-01T22:00:38.265609Z",
     "start_time": "2018-05-01T22:00:38.161285Z"
    }
   },
   "outputs": [],
   "source": [
    "corview.show()"
   ]
  },
  {
   "cell_type": "code",
   "execution_count": null,
   "metadata": {},
   "outputs": [],
   "source": []
  },
  {
   "cell_type": "code",
   "execution_count": 57,
   "metadata": {
    "ExecuteTime": {
     "end_time": "2018-05-01T22:00:40.433316Z",
     "start_time": "2018-05-01T22:00:40.087668Z"
    }
   },
   "outputs": [],
   "source": [
    "traceview = trace_view(fs=fs, spklen=19)"
   ]
  },
  {
   "cell_type": "code",
   "execution_count": 58,
   "metadata": {
    "ExecuteTime": {
     "end_time": "2018-05-01T22:00:40.600320Z",
     "start_time": "2018-05-01T22:00:40.503484Z"
    }
   },
   "outputs": [],
   "source": [
    "traceview.set_data(mua.data, clu[1], mua.pivotal_pos[0])"
   ]
  },
  {
   "cell_type": "code",
   "execution_count": 59,
   "metadata": {
    "ExecuteTime": {
     "end_time": "2018-05-01T22:00:41.644626Z",
     "start_time": "2018-05-01T22:00:40.901316Z"
    }
   },
   "outputs": [],
   "source": [
    "traceview.show()"
   ]
  },
  {
   "cell_type": "code",
   "execution_count": null,
   "metadata": {},
   "outputs": [],
   "source": []
  },
  {
   "cell_type": "code",
   "execution_count": null,
   "metadata": {},
   "outputs": [],
   "source": []
  },
  {
   "cell_type": "markdown",
   "metadata": {},
   "source": [
    "## Unit test for QT5 Wrapper"
   ]
  },
  {
   "cell_type": "code",
   "execution_count": 60,
   "metadata": {
    "ExecuteTime": {
     "end_time": "2018-05-01T22:01:09.880010Z",
     "start_time": "2018-05-01T22:01:09.772031Z"
    }
   },
   "outputs": [],
   "source": [
    "import sys\n",
    "from PyQt5.QtGui import *\n",
    "from PyQt5.QtCore import *\n",
    "from PyQt5.QtWidgets import *\n",
    "\n",
    "class sorter(QWidget):\n",
    "\n",
    "    def __init__(self):\n",
    "        super(sorter, self).__init__()\n",
    "        self.initUI()\n",
    "\n",
    "    def initUI(self):\n",
    "\n",
    "        hbox = QHBoxLayout(self)\n",
    "        self.splitter1 = QSplitter(Qt.Horizontal)\n",
    "#         textedit = QTextEdit()\n",
    "#         self.splitter1.addWidget(self.topleft)\n",
    "#         self.splitter1.addWidget(textedit)\n",
    "#         self.splitter1.setSizes([100,200])\n",
    "        self.splitter2 = QSplitter(Qt.Horizontal)\n",
    "        self.splitter_fet = QSplitter(Qt.Vertical)\n",
    "\n",
    "        self.splitter3 = QSplitter(Qt.Vertical)\n",
    "        self.splitter3.addWidget(self.splitter1)\n",
    "        self.splitter3.addWidget(self.splitter2)\n",
    "#         self.splitter2.addWidget(self.bottom)\n",
    "\n",
    "        hbox.addWidget(self.splitter3)\n",
    "\n",
    "        self.setLayout(hbox)\n",
    "        QApplication.setStyle(QStyleFactory.create('Cleanlooks'))\n",
    "\n",
    "        self.setGeometry(300, 300, 300, 200)\n",
    "        self.setWindowTitle('spiketag')\n",
    "#         self.show()\n",
    "\n",
    "    def set_data(self, mua, spk, fet, clu):\n",
    "        ### init view and set_data\n",
    "        self.spkview = spike_view()\n",
    "        self.spkview.set_data(spk, clu)\n",
    "        self.fetview0 = scatter_3d_view()\n",
    "        self.fetview0.set_data(fet[:,[0,1,2]].copy(), clu)\n",
    "        self.fetview1 = scatter_3d_view()\n",
    "        self.fetview1.set_data(fet[:,[1,3,4]].copy(), clu)\n",
    "        self.ampview = amplitude_view(fs=fs, scale=1)\n",
    "        self.ampview.set_data(spk, clu, mua.pivotal_pos[0])\n",
    "        self.treeview = ctree_view()\n",
    "        self.treeview.set_data(clu)\n",
    "        self.corview = correlogram_view(fs=fs)\n",
    "        self.corview.set_data(clu, mua.pivotal_pos[0])\n",
    "        self.traceview = trace_view(fs=mua.fs, spklen=spk.shape[1])\n",
    "        self.traceview.set_data(mua.data, clu, mua.pivotal_pos[0])\n",
    "#         self.traceview.locate_buffer = 2000\n",
    "        \n",
    "        ### put views into splitter\n",
    "        self.splitter1.addWidget(self.traceview.native)\n",
    "        self.splitter1.addWidget(self.splitter_fet)\n",
    "        self.splitter_fet.addWidget(self.fetview0.native)\n",
    "        self.splitter_fet.addWidget(self.fetview1.native)\n",
    "        self.splitter1.addWidget(self.spkview.native)\n",
    "        \n",
    "        self.splitter2.addWidget(self.corview.native)\n",
    "        self.splitter2.addWidget(self.treeview.native)\n",
    "        self.splitter2.addWidget(self.ampview.native)\n"
   ]
  },
  {
   "cell_type": "code",
   "execution_count": 61,
   "metadata": {
    "ExecuteTime": {
     "end_time": "2018-05-01T22:01:10.577514Z",
     "start_time": "2018-05-01T22:01:10.515927Z"
    }
   },
   "outputs": [],
   "source": [
    "%gui qt"
   ]
  },
  {
   "cell_type": "code",
   "execution_count": 62,
   "metadata": {
    "ExecuteTime": {
     "end_time": "2018-05-01T22:01:11.168313Z",
     "start_time": "2018-05-01T22:01:11.099223Z"
    },
    "scrolled": true
   },
   "outputs": [],
   "source": [
    "ex = sorter()"
   ]
  },
  {
   "cell_type": "code",
   "execution_count": 63,
   "metadata": {
    "ExecuteTime": {
     "end_time": "2018-05-01T22:01:13.477904Z",
     "start_time": "2018-05-01T22:01:12.460637Z"
    },
    "scrolled": true
   },
   "outputs": [
    {
     "name": "stderr",
     "output_type": "stream",
     "text": [
      "2018-05-01 18:01:12,518 - spiketag - INFO - mua.tospk()\n",
      "2018-05-01 18:01:12,526 - spiketag - INFO - ----------------success------------------\n",
      "2018-05-01 18:01:12,530 - spiketag - INFO -  \n",
      "2018-05-01 18:01:12,563 - spiketag - INFO - spk._tofet(groupNo=1, method=pca, ncomp=9, whiten=False)\n",
      "2018-05-01 18:01:12,565 - spiketag - INFO - ----------------success------------------\n",
      "2018-05-01 18:01:12,566 - spiketag - INFO -  \n",
      "2018-05-01 18:01:13,470 - spiketag - INFO - clustering finished, used 0.902106046677 sec\n"
     ]
    }
   ],
   "source": [
    "spk = mua.tospk()\n",
    "fet = spk.tofet(method='pca', ncomp=9, whiten=False)\n",
    "clu = fet.toclu(method='hdbscan')"
   ]
  },
  {
   "cell_type": "code",
   "execution_count": 64,
   "metadata": {
    "ExecuteTime": {
     "end_time": "2018-05-01T22:01:17.290983Z",
     "start_time": "2018-05-01T22:01:16.257320Z"
    },
    "scrolled": true
   },
   "outputs": [],
   "source": [
    "ex.set_data(mua, spk.spk[1], fet.fet[1], clu[1])"
   ]
  },
  {
   "cell_type": "code",
   "execution_count": 66,
   "metadata": {
    "ExecuteTime": {
     "end_time": "2018-05-02T01:18:57.015770Z",
     "start_time": "2018-05-02T01:18:56.850123Z"
    },
    "scrolled": false
   },
   "outputs": [],
   "source": [
    "ex.show()"
   ]
  },
  {
   "cell_type": "code",
   "execution_count": 70,
   "metadata": {
    "ExecuteTime": {
     "end_time": "2018-05-02T01:19:23.597561Z",
     "start_time": "2018-05-02T01:19:23.542644Z"
    },
    "scrolled": true
   },
   "outputs": [],
   "source": [
    "ex.traceview.locate_buffer = 300"
   ]
  },
  {
   "cell_type": "code",
   "execution_count": 97,
   "metadata": {
    "scrolled": true
   },
   "outputs": [
    {
     "name": "stderr",
     "output_type": "stream",
     "text": [
      "ERROR: Invoking <bound method trace_view.update_cursor of <trace_view (PyQt5) at 0x1c4774b690>> repeat 8192\n",
      "ERROR: Invoking <bound method trace_view.update_cursor of <trace_view (PyQt5) at 0x1c4a0aa110>> repeat 8192\n"
     ]
    }
   ],
   "source": [
    "ex.fetview0.set_data(fet.fet[1][:,[1,3,4]], clu[1])\n",
    "ex.update()"
   ]
  },
  {
   "cell_type": "code",
   "execution_count": 20,
   "metadata": {},
   "outputs": [],
   "source": [
    "gclu = clu[1]"
   ]
  },
  {
   "cell_type": "code",
   "execution_count": 21,
   "metadata": {
    "scrolled": true
   },
   "outputs": [
    {
     "data": {
      "text/plain": [
       "array([ 848, 2681, 2795, 2899, 2951, 3162, 3521, 4018, 4031, 4074, 4169,\n",
       "       4224, 4237, 4486, 4489, 4648, 5064, 5078, 5823, 5966, 5967, 6047,\n",
       "       6049, 6070, 6610, 7207, 7319, 7919, 8057, 8167, 8378, 8602, 8679,\n",
       "       9240])"
      ]
     },
     "execution_count": 21,
     "metadata": {},
     "output_type": "execute_result"
    },
    {
     "name": "stderr",
     "output_type": "stream",
     "text": [
      "2018-03-11 15:08:33,804 - spiketag - DEBUG - ctree view expand clustier 9311 here\n",
      "2018-03-11 15:08:51,809 - spiketag - DEBUG - ctree view expand clustier 9313 here\n"
     ]
    }
   ],
   "source": [
    "gclu.selectlist"
   ]
  },
  {
   "cell_type": "code",
   "execution_count": 21,
   "metadata": {},
   "outputs": [
    {
     "data": {
      "text/plain": [
       "['spiketag.view.spike_view.on_select_id121320795744',\n",
       " 'spiketag.view.scatter_3d_view.on_select_id121444857928',\n",
       " 'spiketag.view.scatter_3d_view.on_select_id121449105600',\n",
       " 'spiketag.view.amplitude_view.on_select_id121452650320',\n",
       " 'spiketag.view.trace_view.on_select_id121529220464']"
      ]
     },
     "execution_count": 21,
     "metadata": {},
     "output_type": "execute_result"
    },
    {
     "name": "stderr",
     "output_type": "stream",
     "text": [
      "2018-03-11 14:14:28,666 - spiketag - DEBUG - ctree view collapse cluster 9309 here\n",
      "2018-03-11 14:14:29,401 - spiketag - DEBUG - ctree view collapse cluster 9309 here\n",
      "2018-03-11 14:14:31,183 - spiketag - DEBUG - ctree view collapse cluster 9309 here\n",
      "2018-03-11 14:14:32,756 - spiketag - DEBUG - ctree view collapse cluster 9311 here\n",
      "2018-03-11 14:14:34,080 - spiketag - DEBUG - ctree view collapse cluster 9311 here\n",
      "2018-03-11 14:14:34,932 - spiketag - DEBUG - ctree view collapse cluster 9309 here\n",
      "2018-03-11 14:14:35,486 - spiketag - DEBUG - ctree view collapse cluster 9311 here\n",
      "2018-03-11 14:14:36,014 - spiketag - DEBUG - ctree view collapse cluster 9311 here\n",
      "2018-03-11 14:14:36,999 - spiketag - DEBUG - ctree view collapse cluster 9309 here\n",
      "2018-03-11 14:14:37,535 - spiketag - DEBUG - ctree view collapse cluster 9311 here\n",
      "2018-03-11 14:14:39,278 - spiketag - DEBUG - ctree view expand clustier 9312 here\n",
      "2018-03-11 14:14:43,798 - spiketag - DEBUG - ctree view collapse cluster 9311 here\n",
      "2018-03-11 14:14:44,643 - spiketag - DEBUG - ctree view collapse cluster 9309 here\n"
     ]
    }
   ],
   "source": [
    "gclu._registered_func_name('select')"
   ]
  },
  {
   "cell_type": "code",
   "execution_count": null,
   "metadata": {},
   "outputs": [],
   "source": []
  }
 ],
 "metadata": {
  "kernelspec": {
   "display_name": "Python 2",
   "language": "python",
   "name": "python2"
  },
  "language_info": {
   "codemirror_mode": {
    "name": "ipython",
    "version": 2
   },
   "file_extension": ".py",
   "mimetype": "text/x-python",
   "name": "python",
   "nbconvert_exporter": "python",
   "pygments_lexer": "ipython2",
   "version": "2.7.14"
  },
  "toc": {
   "nav_menu": {},
   "number_sections": true,
   "sideBar": true,
   "skip_h1_title": false,
   "title_cell": "Table of Contents",
   "title_sidebar": "Contents",
   "toc_cell": false,
   "toc_position": {},
   "toc_section_display": true,
   "toc_window_display": false
  },
  "varInspector": {
   "cols": {
    "lenName": 16,
    "lenType": 16,
    "lenVar": 40
   },
   "kernels_config": {
    "python": {
     "delete_cmd_postfix": "",
     "delete_cmd_prefix": "del ",
     "library": "var_list.py",
     "varRefreshCmd": "print(var_dic_list())"
    },
    "r": {
     "delete_cmd_postfix": ") ",
     "delete_cmd_prefix": "rm(",
     "library": "var_list.r",
     "varRefreshCmd": "cat(var_dic_list()) "
    }
   },
   "types_to_exclude": [
    "module",
    "function",
    "builtin_function_or_method",
    "instance",
    "_Feature"
   ],
   "window_display": false
  }
 },
 "nbformat": 4,
 "nbformat_minor": 2
}
