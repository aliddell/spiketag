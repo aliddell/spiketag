{
 "cells": [
  {
   "cell_type": "code",
   "execution_count": 1,
   "metadata": {
    "ExecuteTime": {
     "end_time": "2019-03-13T18:49:24.214684Z",
     "start_time": "2019-03-13T18:49:23.821405Z"
    },
    "scrolled": true
   },
   "outputs": [
    {
     "name": "stdout",
     "output_type": "stream",
     "text": [
      "Populating the interactive namespace from numpy and matplotlib\n"
     ]
    }
   ],
   "source": [
    "%pylab inline\n",
    "%gui qt"
   ]
  },
  {
   "cell_type": "code",
   "execution_count": 2,
   "metadata": {
    "ExecuteTime": {
     "end_time": "2019-03-13T18:49:26.738751Z",
     "start_time": "2019-03-13T18:49:24.379159Z"
    }
   },
   "outputs": [
    {
     "name": "stderr",
     "output_type": "stream",
     "text": [
      "/anaconda2/envs/py37/lib/python3.6/site-packages/numba/decorators.py:146: RuntimeWarning: Caching is not available when the 'parallel' target is in use. Caching is now being disabled to allow execution to continue.\n",
      "  warnings.warn(msg, RuntimeWarning)\n"
     ]
    }
   ],
   "source": [
    "from spiketag.mvc.Control import controller"
   ]
  },
  {
   "cell_type": "code",
   "execution_count": 3,
   "metadata": {
    "ExecuteTime": {
     "end_time": "2019-03-13T18:49:26.743780Z",
     "start_time": "2019-03-13T18:49:26.741081Z"
    }
   },
   "outputs": [],
   "source": [
    "from spiketag.base import *"
   ]
  },
  {
   "cell_type": "code",
   "execution_count": 6,
   "metadata": {
    "ExecuteTime": {
     "end_time": "2019-03-13T18:49:46.620295Z",
     "start_time": "2019-03-13T18:49:46.613887Z"
    }
   },
   "outputs": [],
   "source": [
    "tritrode = probe(shank_no=1)\n",
    "tritrode[0] = np.array([0,1,2])\n",
    "tritrode.mapping[0] = np.array([-90,0])\n",
    "tritrode.mapping[1] = np.array([90,0])\n",
    "tritrode.mapping[2] = np.array([0,10])\n",
    "tritrode.fs = 20000.\n",
    "tritrode.n_ch = 3\n",
    "tritrode._group_len = 3\n",
    "tritrode.reorder_by_chip=False"
   ]
  },
  {
   "cell_type": "code",
   "execution_count": 11,
   "metadata": {
    "ExecuteTime": {
     "end_time": "2019-03-13T18:51:31.056500Z",
     "start_time": "2019-03-13T18:51:31.051010Z"
    }
   },
   "outputs": [
    {
     "data": {
      "text/plain": [
       "array([0, 1, 2])"
      ]
     },
     "execution_count": 11,
     "metadata": {},
     "output_type": "execute_result"
    }
   ],
   "source": [
    "tritrode.chs"
   ]
  },
  {
   "cell_type": "code",
   "execution_count": 5,
   "metadata": {
    "ExecuteTime": {
     "end_time": "2019-03-13T18:49:34.578186Z",
     "start_time": "2019-03-13T18:49:34.440676Z"
    }
   },
   "outputs": [],
   "source": [
    "!rm tritrode.json"
   ]
  },
  {
   "cell_type": "code",
   "execution_count": 7,
   "metadata": {
    "ExecuteTime": {
     "end_time": "2019-03-13T18:49:52.747996Z",
     "start_time": "2019-03-13T18:49:50.592630Z"
    }
   },
   "outputs": [
    {
     "name": "stderr",
     "output_type": "stream",
     "text": [
      "/anaconda2/envs/py37/lib/python3.6/site-packages/IPython/config.py:13: ShimWarning: The `IPython.config` package has been deprecated since IPython 4.0. You should import from traitlets.config instead.\n",
      "  \"You should import from traitlets.config instead.\", ShimWarning)\n"
     ]
    }
   ],
   "source": [
    "tritrode.show()"
   ]
  },
  {
   "cell_type": "code",
   "execution_count": 8,
   "metadata": {
    "ExecuteTime": {
     "end_time": "2019-03-13T18:50:09.188112Z",
     "start_time": "2019-03-13T18:50:09.183452Z"
    }
   },
   "outputs": [],
   "source": [
    "tritrode.save('./tritrode.json')"
   ]
  },
  {
   "cell_type": "code",
   "execution_count": 9,
   "metadata": {
    "ExecuteTime": {
     "end_time": "2019-03-13T18:50:26.468581Z",
     "start_time": "2019-03-13T18:50:26.166796Z"
    }
   },
   "outputs": [
    {
     "ename": "ValueError",
     "evalue": "need at least one array to concatenate",
     "output_type": "error",
     "traceback": [
      "\u001b[0;31m---------------------------------------------------------------------------\u001b[0m",
      "\u001b[0;31mValueError\u001b[0m                                Traceback (most recent call last)",
      "\u001b[0;32m<ipython-input-9-16d78ddab5d3>\u001b[0m in \u001b[0;36m<module>\u001b[0;34m\u001b[0m\n\u001b[1;32m      1\u001b[0m \u001b[0mprb\u001b[0m \u001b[0;34m=\u001b[0m \u001b[0mprobe\u001b[0m\u001b[0;34m(\u001b[0m\u001b[0;34m)\u001b[0m\u001b[0;34m\u001b[0m\u001b[0;34m\u001b[0m\u001b[0m\n\u001b[0;32m----> 2\u001b[0;31m \u001b[0mprb\u001b[0m\u001b[0;34m.\u001b[0m\u001b[0mload\u001b[0m\u001b[0;34m(\u001b[0m\u001b[0;34m'./tritrode.json'\u001b[0m\u001b[0;34m)\u001b[0m\u001b[0;34m\u001b[0m\u001b[0;34m\u001b[0m\u001b[0m\n\u001b[0m",
      "\u001b[0;32m~/Work/pydev/spiketag/spiketag/base/Probe.py\u001b[0m in \u001b[0;36mload\u001b[0;34m(self, filename)\u001b[0m\n\u001b[1;32m    324\u001b[0m         \u001b[0;32mwith\u001b[0m \u001b[0mopen\u001b[0m\u001b[0;34m(\u001b[0m\u001b[0mfilename\u001b[0m\u001b[0;34m)\u001b[0m \u001b[0;32mas\u001b[0m \u001b[0mff\u001b[0m\u001b[0;34m:\u001b[0m\u001b[0;34m\u001b[0m\u001b[0;34m\u001b[0m\u001b[0m\n\u001b[1;32m    325\u001b[0m             \u001b[0mprb_json\u001b[0m \u001b[0;34m=\u001b[0m \u001b[0mjson\u001b[0m\u001b[0;34m.\u001b[0m\u001b[0mload\u001b[0m\u001b[0;34m(\u001b[0m\u001b[0mff\u001b[0m\u001b[0;34m)\u001b[0m\u001b[0;34m\u001b[0m\u001b[0;34m\u001b[0m\u001b[0m\n\u001b[0;32m--> 326\u001b[0;31m             \u001b[0mself\u001b[0m\u001b[0;34m.\u001b[0m\u001b[0mn_ch\u001b[0m \u001b[0;34m=\u001b[0m \u001b[0mprb_json\u001b[0m\u001b[0;34m[\u001b[0m\u001b[0;34m'params'\u001b[0m\u001b[0;34m]\u001b[0m\u001b[0;34m[\u001b[0m\u001b[0;34m'n_ch'\u001b[0m\u001b[0;34m]\u001b[0m\u001b[0;34m\u001b[0m\u001b[0;34m\u001b[0m\u001b[0m\n\u001b[0m\u001b[1;32m    327\u001b[0m             \u001b[0mself\u001b[0m\u001b[0;34m.\u001b[0m\u001b[0mfs\u001b[0m \u001b[0;34m=\u001b[0m \u001b[0mprb_json\u001b[0m\u001b[0;34m[\u001b[0m\u001b[0;34m'params'\u001b[0m\u001b[0;34m]\u001b[0m\u001b[0;34m[\u001b[0m\u001b[0;34m'fs'\u001b[0m\u001b[0;34m]\u001b[0m\u001b[0;34m\u001b[0m\u001b[0;34m\u001b[0m\u001b[0m\n\u001b[1;32m    328\u001b[0m             \u001b[0mgrp_len\u001b[0m \u001b[0;34m=\u001b[0m \u001b[0mch_dict\u001b[0m\u001b[0;34m[\u001b[0m\u001b[0;34m'params'\u001b[0m\u001b[0;34m]\u001b[0m\u001b[0;34m[\u001b[0m\u001b[0;34m'group_len'\u001b[0m\u001b[0;34m]\u001b[0m\u001b[0;34m\u001b[0m\u001b[0;34m\u001b[0m\u001b[0m\n",
      "\u001b[0;32m~/Work/pydev/spiketag/spiketag/base/Probe.py\u001b[0m in \u001b[0;36mn_ch\u001b[0;34m(self, _n_ch)\u001b[0m\n\u001b[1;32m    121\u001b[0m     \u001b[0;32mdef\u001b[0m \u001b[0mn_ch\u001b[0m\u001b[0;34m(\u001b[0m\u001b[0mself\u001b[0m\u001b[0;34m,\u001b[0m \u001b[0m_n_ch\u001b[0m\u001b[0;34m)\u001b[0m\u001b[0;34m:\u001b[0m\u001b[0;34m\u001b[0m\u001b[0;34m\u001b[0m\u001b[0m\n\u001b[1;32m    122\u001b[0m         \u001b[0mself\u001b[0m\u001b[0;34m.\u001b[0m\u001b[0m_n_ch\u001b[0m \u001b[0;34m=\u001b[0m \u001b[0m_n_ch\u001b[0m\u001b[0;34m\u001b[0m\u001b[0;34m\u001b[0m\u001b[0m\n\u001b[0;32m--> 123\u001b[0;31m         \u001b[0mmask_chs\u001b[0m \u001b[0;34m=\u001b[0m \u001b[0mnp\u001b[0m\u001b[0;34m.\u001b[0m\u001b[0msetdiff1d\u001b[0m\u001b[0;34m(\u001b[0m\u001b[0mnp\u001b[0m\u001b[0;34m.\u001b[0m\u001b[0marange\u001b[0m\u001b[0;34m(\u001b[0m\u001b[0m_n_ch\u001b[0m\u001b[0;34m)\u001b[0m\u001b[0;34m,\u001b[0m \u001b[0mself\u001b[0m\u001b[0;34m.\u001b[0m\u001b[0mchs\u001b[0m\u001b[0;34m)\u001b[0m\u001b[0;34m\u001b[0m\u001b[0;34m\u001b[0m\u001b[0m\n\u001b[0m\u001b[1;32m    124\u001b[0m         \u001b[0mmask_chs\u001b[0m \u001b[0;34m=\u001b[0m \u001b[0mnp\u001b[0m\u001b[0;34m.\u001b[0m\u001b[0munion1d\u001b[0m\u001b[0;34m(\u001b[0m\u001b[0mmask_chs\u001b[0m\u001b[0;34m,\u001b[0m \u001b[0mself\u001b[0m\u001b[0;34m.\u001b[0m\u001b[0mbad_chs\u001b[0m\u001b[0;34m)\u001b[0m\u001b[0;34m\u001b[0m\u001b[0;34m\u001b[0m\u001b[0m\n\u001b[1;32m    125\u001b[0m         \u001b[0mself\u001b[0m\u001b[0;34m.\u001b[0m\u001b[0m_mask_chs\u001b[0m \u001b[0;34m=\u001b[0m \u001b[0mmask_chs\u001b[0m\u001b[0;34m\u001b[0m\u001b[0;34m\u001b[0m\u001b[0m\n",
      "\u001b[0;32m~/Work/pydev/spiketag/spiketag/base/Probe.py\u001b[0m in \u001b[0;36mchs\u001b[0;34m(self)\u001b[0m\n\u001b[1;32m    166\u001b[0m     \u001b[0;34m@\u001b[0m\u001b[0mproperty\u001b[0m\u001b[0;34m\u001b[0m\u001b[0;34m\u001b[0m\u001b[0m\n\u001b[1;32m    167\u001b[0m     \u001b[0;32mdef\u001b[0m \u001b[0mchs\u001b[0m\u001b[0;34m(\u001b[0m\u001b[0mself\u001b[0m\u001b[0;34m)\u001b[0m\u001b[0;34m:\u001b[0m\u001b[0;34m\u001b[0m\u001b[0;34m\u001b[0m\u001b[0m\n\u001b[0;32m--> 168\u001b[0;31m         \u001b[0;32mreturn\u001b[0m \u001b[0mnp\u001b[0m\u001b[0;34m.\u001b[0m\u001b[0mhstack\u001b[0m\u001b[0;34m(\u001b[0m\u001b[0mself\u001b[0m\u001b[0;34m.\u001b[0m\u001b[0mgrp_dict\u001b[0m\u001b[0;34m.\u001b[0m\u001b[0mvalues\u001b[0m\u001b[0;34m(\u001b[0m\u001b[0;34m)\u001b[0m\u001b[0;34m)\u001b[0m\u001b[0;34m\u001b[0m\u001b[0;34m\u001b[0m\u001b[0m\n\u001b[0m\u001b[1;32m    169\u001b[0m \u001b[0;34m\u001b[0m\u001b[0m\n\u001b[1;32m    170\u001b[0m     \u001b[0;34m@\u001b[0m\u001b[0mproperty\u001b[0m\u001b[0;34m\u001b[0m\u001b[0;34m\u001b[0m\u001b[0m\n",
      "\u001b[0;32m/anaconda2/envs/py37/lib/python3.6/site-packages/numpy/core/shape_base.py\u001b[0m in \u001b[0;36mhstack\u001b[0;34m(tup)\u001b[0m\n\u001b[1;32m    286\u001b[0m         \u001b[0;32mreturn\u001b[0m \u001b[0m_nx\u001b[0m\u001b[0;34m.\u001b[0m\u001b[0mconcatenate\u001b[0m\u001b[0;34m(\u001b[0m\u001b[0marrs\u001b[0m\u001b[0;34m,\u001b[0m \u001b[0;36m0\u001b[0m\u001b[0;34m)\u001b[0m\u001b[0;34m\u001b[0m\u001b[0;34m\u001b[0m\u001b[0m\n\u001b[1;32m    287\u001b[0m     \u001b[0;32melse\u001b[0m\u001b[0;34m:\u001b[0m\u001b[0;34m\u001b[0m\u001b[0;34m\u001b[0m\u001b[0m\n\u001b[0;32m--> 288\u001b[0;31m         \u001b[0;32mreturn\u001b[0m \u001b[0m_nx\u001b[0m\u001b[0;34m.\u001b[0m\u001b[0mconcatenate\u001b[0m\u001b[0;34m(\u001b[0m\u001b[0marrs\u001b[0m\u001b[0;34m,\u001b[0m \u001b[0;36m1\u001b[0m\u001b[0;34m)\u001b[0m\u001b[0;34m\u001b[0m\u001b[0;34m\u001b[0m\u001b[0m\n\u001b[0m\u001b[1;32m    289\u001b[0m \u001b[0;34m\u001b[0m\u001b[0m\n\u001b[1;32m    290\u001b[0m \u001b[0;34m\u001b[0m\u001b[0m\n",
      "\u001b[0;31mValueError\u001b[0m: need at least one array to concatenate"
     ]
    }
   ],
   "source": [
    "prb = probe()\n",
    "prb.load('./tritrode.json')"
   ]
  },
  {
   "cell_type": "code",
   "execution_count": null,
   "metadata": {},
   "outputs": [],
   "source": []
  },
  {
   "cell_type": "code",
   "execution_count": 5,
   "metadata": {
    "ExecuteTime": {
     "end_time": "2019-01-21T23:05:15.148865Z",
     "start_time": "2019-01-21T23:05:11.719581Z"
    }
   },
   "outputs": [
    {
     "name": "stderr",
     "output_type": "stream",
     "text": [
      "2019-01-22 16:44:40,758 - spiketag - INFO - load mua data\n",
      "2019-01-22 16:44:40,824 - spiketag - INFO - #############  load data  ###################\n",
      "2019-01-22 16:44:40,825 - spiketag - INFO - ./cell_0109.bin loaded, it contains: \n",
      "2019-01-22 16:44:40,825 - spiketag - INFO - 9280040.0 * 3 points (111360480 bytes) \n",
      "2019-01-22 16:44:40,826 - spiketag - INFO - 3 channels with sampling rate of 20000.0000 \n",
      "2019-01-22 16:44:40,827 - spiketag - INFO - 464.002 secs (7.733 mins) of data\n",
      "2019-01-22 16:44:40,827 - spiketag - INFO - #############################################\n",
      "2019-01-22 16:44:40,882 - spiketag - INFO - processing folder: ./\n",
      "2019-01-22 16:44:40,885 - spiketag - INFO - raw data have 9309 spks\n",
      "2019-01-22 16:44:40,885 - spiketag - INFO - ----------------success------------------\n",
      "2019-01-22 16:44:40,886 - spiketag - INFO -  \n"
     ]
    },
    {
     "name": "stdout",
     "output_type": "stream",
     "text": [
      "convert data from memmap to numpy with radix, elapsed time: 53.42531204223633 ms\n"
     ]
    }
   ],
   "source": [
    "ctrl = controller(\n",
    "                  probe = tritrode,\n",
    "                  mua_filename='./cell_0109.bin', \n",
    "                  spk_filename='./cell_0109.spk.bin', \n",
    "                  binary_radix=11, \n",
    "                  # cutoff=[-100, 100],\n",
    "                  # time_segs=[[0,320]],\n",
    "                  fall_off_size=15\n",
    "                 )"
   ]
  },
  {
   "cell_type": "code",
   "execution_count": 6,
   "metadata": {
    "ExecuteTime": {
     "end_time": "2019-01-21T23:05:19.900358Z",
     "start_time": "2019-01-21T23:05:15.154164Z"
    },
    "scrolled": true
   },
   "outputs": [
    {
     "name": "stderr",
     "output_type": "stream",
     "text": [
      "2019-01-22 16:44:45,181 - spiketag - INFO - extract spikes from pivital meta data\n",
      "2019-01-22 16:44:45,183 - spiketag - INFO - mua.tospk()\n",
      "2019-01-22 16:44:45,949 - spiketag - INFO - group 0 delete 0.0%(0.0/9309.0) spks via cutoff\n",
      "2019-01-22 16:44:45,952 - spiketag - INFO - ----------------success------------------\n",
      "2019-01-22 16:44:45,952 - spiketag - INFO -  \n",
      "2019-01-22 16:44:45,953 - spiketag - INFO - grouping spike time\n",
      "2019-01-22 16:44:45,953 - spiketag - INFO - extrat features with weighted-pca\n",
      "2019-01-22 16:44:45,978 - spiketag - INFO - spk._tofet(group_id=0, method=weighted-pca, ncomp=6, whiten=False)\n",
      "2019-01-22 16:44:45,979 - spiketag - INFO - ----------------success------------------\n",
      "2019-01-22 16:44:45,979 - spiketag - INFO -  \n",
      "2019-01-22 16:44:45,980 - spiketag - INFO - clustering with hdbscan\n",
      "2019-01-22 16:44:45,981 - spiketag - INFO - clustering start with 24 cpus\n",
      "2019-01-22 16:44:47,636 - spiketag - INFO - clustering finished, used 1.6546261310577393 sec\n",
      "2019-01-22 16:44:47,643 - spiketag - INFO - Model.spktag is generated, nspk:9309\n"
     ]
    }
   ],
   "source": [
    "ctrl.sort()"
   ]
  },
  {
   "cell_type": "code",
   "execution_count": 11,
   "metadata": {
    "scrolled": true
   },
   "outputs": [
    {
     "data": {
      "text/plain": [
       "(7,)"
      ]
     },
     "execution_count": 11,
     "metadata": {},
     "output_type": "execute_result"
    }
   ],
   "source": [
    "ctrl.clu.selectlist.shape"
   ]
  },
  {
   "cell_type": "code",
   "execution_count": 13,
   "metadata": {
    "ExecuteTime": {
     "end_time": "2019-01-21T23:05:22.407484Z",
     "start_time": "2019-01-21T23:05:19.906435Z"
    }
   },
   "outputs": [],
   "source": [
    "ctrl.show()"
   ]
  },
  {
   "cell_type": "code",
   "execution_count": 10,
   "metadata": {
    "ExecuteTime": {
     "end_time": "2019-01-21T22:56:05.504770Z",
     "start_time": "2019-01-21T22:56:05.496465Z"
    },
    "scrolled": false
   },
   "outputs": [
    {
     "data": {
      "text/plain": [
       "5"
      ]
     },
     "execution_count": 10,
     "metadata": {},
     "output_type": "execute_result"
    }
   ],
   "source": [
    "ctrl.view.spkview.cluster_mouse_on"
   ]
  },
  {
   "cell_type": "code",
   "execution_count": 11,
   "metadata": {},
   "outputs": [],
   "source": [
    "newly_selected = ctrl.clu.local2global({ctrl.view.spkview.cluster_mouse_on: np.arange(ctrl.view.spkview.clu[ctrl.view.spkview.cluster_mouse_on].size)})"
   ]
  },
  {
   "cell_type": "code",
   "execution_count": 12,
   "metadata": {},
   "outputs": [
    {
     "data": {
      "text/plain": [
       "array([ 535, 1443, 1444, 1878, 2702, 2739, 2809, 3050, 3052, 3157, 3545,\n",
       "       3546, 3708, 3723, 3749, 3809, 3944, 3952, 4008, 4097, 4247, 4249,\n",
       "       4253, 4266, 4334, 4360, 4617, 4826, 4978, 4979, 5199, 5262, 5450,\n",
       "       5510, 5669, 5778, 5810, 5852, 6006, 6224, 6274, 6304, 6306, 6407,\n",
       "       6413, 6611, 6778, 6779, 6809, 7093, 7187, 7766, 7945, 7964, 8133,\n",
       "       8734, 9088, 9188, 9218])"
      ]
     },
     "execution_count": 12,
     "metadata": {},
     "output_type": "execute_result"
    }
   ],
   "source": [
    "newly_selected"
   ]
  },
  {
   "cell_type": "code",
   "execution_count": null,
   "metadata": {},
   "outputs": [],
   "source": []
  },
  {
   "cell_type": "code",
   "execution_count": 26,
   "metadata": {},
   "outputs": [],
   "source": [
    "i = 6\n",
    "newly_selected = ctrl.clu.local2global({i: np.arange(ctrl.view.spkview.clu[i].size)})\n",
    "ctrl.clu.select(np.append(ctrl.clu.selectlist, newly_selected))"
   ]
  },
  {
   "cell_type": "code",
   "execution_count": null,
   "metadata": {},
   "outputs": [],
   "source": []
  },
  {
   "cell_type": "code",
   "execution_count": null,
   "metadata": {},
   "outputs": [],
   "source": []
  },
  {
   "cell_type": "code",
   "execution_count": 19,
   "metadata": {
    "ExecuteTime": {
     "end_time": "2019-01-21T22:57:19.346504Z",
     "start_time": "2019-01-21T22:57:19.341975Z"
    }
   },
   "outputs": [],
   "source": [
    "c = ctrl.model.clu[0]"
   ]
  },
  {
   "cell_type": "code",
   "execution_count": 22,
   "metadata": {
    "ExecuteTime": {
     "end_time": "2019-01-21T22:58:13.390258Z",
     "start_time": "2019-01-21T22:58:13.354045Z"
    }
   },
   "outputs": [],
   "source": [
    "c.move?"
   ]
  },
  {
   "cell_type": "code",
   "execution_count": 25,
   "metadata": {
    "ExecuteTime": {
     "end_time": "2019-01-21T22:59:49.137503Z",
     "start_time": "2019-01-21T22:59:49.131590Z"
    }
   },
   "outputs": [],
   "source": [
    "c.membership[c.selectlist] = 2\n",
    "c.__construct__()"
   ]
  },
  {
   "cell_type": "code",
   "execution_count": 29,
   "metadata": {
    "ExecuteTime": {
     "end_time": "2019-01-21T23:01:02.961247Z",
     "start_time": "2019-01-21T23:01:02.867000Z"
    }
   },
   "outputs": [
    {
     "data": {
      "text/plain": [
       "[None, None, None, None, None]"
      ]
     },
     "execution_count": 29,
     "metadata": {},
     "output_type": "execute_result"
    }
   ],
   "source": [
    "c.emit('cluster')"
   ]
  },
  {
   "cell_type": "code",
   "execution_count": 14,
   "metadata": {
    "ExecuteTime": {
     "end_time": "2019-01-21T22:55:44.761551Z",
     "start_time": "2019-01-21T22:55:44.665122Z"
    }
   },
   "outputs": [],
   "source": [
    "ctrl.view.spkview._move_spikes(ctrl.view.spkview.cluster_mouse_on)"
   ]
  },
  {
   "cell_type": "code",
   "execution_count": 8,
   "metadata": {
    "ExecuteTime": {
     "end_time": "2019-01-21T23:04:54.222141Z",
     "start_time": "2019-01-21T23:04:54.211145Z"
    }
   },
   "outputs": [
    {
     "data": {
      "text/plain": [
       "array([], dtype=int64)"
      ]
     },
     "execution_count": 8,
     "metadata": {},
     "output_type": "execute_result"
    }
   ],
   "source": [
    "ctrl.view.spkview.clu.selectlist"
   ]
  },
  {
   "cell_type": "code",
   "execution_count": null,
   "metadata": {},
   "outputs": [],
   "source": []
  },
  {
   "cell_type": "code",
   "execution_count": null,
   "metadata": {},
   "outputs": [],
   "source": []
  },
  {
   "cell_type": "code",
   "execution_count": null,
   "metadata": {},
   "outputs": [],
   "source": []
  }
 ],
 "metadata": {
  "kernelspec": {
   "display_name": "Python 3",
   "language": "python",
   "name": "python3"
  },
  "language_info": {
   "codemirror_mode": {
    "name": "ipython",
    "version": 3
   },
   "file_extension": ".py",
   "mimetype": "text/x-python",
   "name": "python",
   "nbconvert_exporter": "python",
   "pygments_lexer": "ipython3",
   "version": "3.6.7"
  }
 },
 "nbformat": 4,
 "nbformat_minor": 2
}
