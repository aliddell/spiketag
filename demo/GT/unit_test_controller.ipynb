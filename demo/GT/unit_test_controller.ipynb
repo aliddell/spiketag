{
 "cells": [
  {
   "cell_type": "code",
   "execution_count": 1,
   "metadata": {
    "ExecuteTime": {
     "end_time": "2019-01-21T23:05:06.520411Z",
     "start_time": "2019-01-21T23:05:06.068696Z"
    },
    "scrolled": true
   },
   "outputs": [
    {
     "name": "stdout",
     "output_type": "stream",
     "text": [
      "Populating the interactive namespace from numpy and matplotlib\n"
     ]
    }
   ],
   "source": [
    "%pylab inline\n",
    "%gui qt"
   ]
  },
  {
   "cell_type": "code",
   "execution_count": 2,
   "metadata": {
    "ExecuteTime": {
     "end_time": "2019-01-21T23:05:08.894369Z",
     "start_time": "2019-01-21T23:05:06.894778Z"
    }
   },
   "outputs": [
    {
     "name": "stderr",
     "output_type": "stream",
     "text": [
      "/anaconda2/envs/py37/lib/python3.6/site-packages/numba/decorators.py:146: RuntimeWarning: Caching is not available when the 'parallel' target is in use. Caching is now being disabled to allow execution to continue.\n",
      "  warnings.warn(msg, RuntimeWarning)\n"
     ]
    }
   ],
   "source": [
    "from spiketag.mvc.Control import controller"
   ]
  },
  {
   "cell_type": "code",
   "execution_count": 3,
   "metadata": {
    "ExecuteTime": {
     "end_time": "2019-01-21T23:05:08.903809Z",
     "start_time": "2019-01-21T23:05:08.899329Z"
    }
   },
   "outputs": [],
   "source": [
    "from spiketag.base import *"
   ]
  },
  {
   "cell_type": "code",
   "execution_count": 4,
   "metadata": {
    "ExecuteTime": {
     "end_time": "2019-01-21T23:05:10.492685Z",
     "start_time": "2019-01-21T23:05:10.483342Z"
    }
   },
   "outputs": [],
   "source": [
    "tritrode = probe(shank_no=1)\n",
    "tritrode[0] = np.array([0,1,2])\n",
    "tritrode.mapping[0] = np.array([-90,0])\n",
    "tritrode.mapping[1] = np.array([90,0])\n",
    "tritrode.mapping[2] = np.array([0,10])\n",
    "tritrode.fs = 20000.\n",
    "tritrode.n_ch = 3\n",
    "tritrode.reorder_by_chip=False"
   ]
  },
  {
   "cell_type": "code",
   "execution_count": 5,
   "metadata": {
    "ExecuteTime": {
     "end_time": "2019-01-21T23:05:15.148865Z",
     "start_time": "2019-01-21T23:05:11.719581Z"
    }
   },
   "outputs": [
    {
     "name": "stderr",
     "output_type": "stream",
     "text": [
      "2019-01-22 16:44:40,758 - spiketag - INFO - load mua data\n",
      "2019-01-22 16:44:40,824 - spiketag - INFO - #############  load data  ###################\n",
      "2019-01-22 16:44:40,825 - spiketag - INFO - ./cell_0109.bin loaded, it contains: \n",
      "2019-01-22 16:44:40,825 - spiketag - INFO - 9280040.0 * 3 points (111360480 bytes) \n",
      "2019-01-22 16:44:40,826 - spiketag - INFO - 3 channels with sampling rate of 20000.0000 \n",
      "2019-01-22 16:44:40,827 - spiketag - INFO - 464.002 secs (7.733 mins) of data\n",
      "2019-01-22 16:44:40,827 - spiketag - INFO - #############################################\n",
      "2019-01-22 16:44:40,882 - spiketag - INFO - processing folder: ./\n",
      "2019-01-22 16:44:40,885 - spiketag - INFO - raw data have 9309 spks\n",
      "2019-01-22 16:44:40,885 - spiketag - INFO - ----------------success------------------\n",
      "2019-01-22 16:44:40,886 - spiketag - INFO -  \n"
     ]
    },
    {
     "name": "stdout",
     "output_type": "stream",
     "text": [
      "convert data from memmap to numpy with radix, elapsed time: 53.42531204223633 ms\n"
     ]
    }
   ],
   "source": [
    "ctrl = controller(\n",
    "                  probe = tritrode,\n",
    "                  mua_filename='./cell_0109.bin', \n",
    "                  spk_filename='./cell_0109.spk.bin', \n",
    "                  binary_radix=11, \n",
    "                  # cutoff=[-100, 100],\n",
    "                  # time_segs=[[0,320]],\n",
    "                  fall_off_size=15\n",
    "                 )"
   ]
  },
  {
   "cell_type": "code",
   "execution_count": 6,
   "metadata": {
    "ExecuteTime": {
     "end_time": "2019-01-21T23:05:19.900358Z",
     "start_time": "2019-01-21T23:05:15.154164Z"
    },
    "scrolled": true
   },
   "outputs": [
    {
     "name": "stderr",
     "output_type": "stream",
     "text": [
      "2019-01-22 16:44:45,181 - spiketag - INFO - extract spikes from pivital meta data\n",
      "2019-01-22 16:44:45,183 - spiketag - INFO - mua.tospk()\n",
      "2019-01-22 16:44:45,949 - spiketag - INFO - group 0 delete 0.0%(0.0/9309.0) spks via cutoff\n",
      "2019-01-22 16:44:45,952 - spiketag - INFO - ----------------success------------------\n",
      "2019-01-22 16:44:45,952 - spiketag - INFO -  \n",
      "2019-01-22 16:44:45,953 - spiketag - INFO - grouping spike time\n",
      "2019-01-22 16:44:45,953 - spiketag - INFO - extrat features with weighted-pca\n",
      "2019-01-22 16:44:45,978 - spiketag - INFO - spk._tofet(group_id=0, method=weighted-pca, ncomp=6, whiten=False)\n",
      "2019-01-22 16:44:45,979 - spiketag - INFO - ----------------success------------------\n",
      "2019-01-22 16:44:45,979 - spiketag - INFO -  \n",
      "2019-01-22 16:44:45,980 - spiketag - INFO - clustering with hdbscan\n",
      "2019-01-22 16:44:45,981 - spiketag - INFO - clustering start with 24 cpus\n",
      "2019-01-22 16:44:47,636 - spiketag - INFO - clustering finished, used 1.6546261310577393 sec\n",
      "2019-01-22 16:44:47,643 - spiketag - INFO - Model.spktag is generated, nspk:9309\n"
     ]
    }
   ],
   "source": [
    "ctrl.sort()"
   ]
  },
  {
   "cell_type": "code",
   "execution_count": 11,
   "metadata": {
    "scrolled": true
   },
   "outputs": [
    {
     "data": {
      "text/plain": [
       "(7,)"
      ]
     },
     "execution_count": 11,
     "metadata": {},
     "output_type": "execute_result"
    }
   ],
   "source": [
    "ctrl.clu.selectlist.shape"
   ]
  },
  {
   "cell_type": "code",
   "execution_count": 13,
   "metadata": {
    "ExecuteTime": {
     "end_time": "2019-01-21T23:05:22.407484Z",
     "start_time": "2019-01-21T23:05:19.906435Z"
    }
   },
   "outputs": [],
   "source": [
    "ctrl.show()"
   ]
  },
  {
   "cell_type": "code",
   "execution_count": 10,
   "metadata": {
    "ExecuteTime": {
     "end_time": "2019-01-21T22:56:05.504770Z",
     "start_time": "2019-01-21T22:56:05.496465Z"
    },
    "scrolled": false
   },
   "outputs": [
    {
     "data": {
      "text/plain": [
       "5"
      ]
     },
     "execution_count": 10,
     "metadata": {},
     "output_type": "execute_result"
    }
   ],
   "source": [
    "ctrl.view.spkview.cluster_mouse_on"
   ]
  },
  {
   "cell_type": "code",
   "execution_count": 11,
   "metadata": {},
   "outputs": [],
   "source": [
    "newly_selected = ctrl.clu.local2global({ctrl.view.spkview.cluster_mouse_on: np.arange(ctrl.view.spkview.clu[ctrl.view.spkview.cluster_mouse_on].size)})"
   ]
  },
  {
   "cell_type": "code",
   "execution_count": 12,
   "metadata": {},
   "outputs": [
    {
     "data": {
      "text/plain": [
       "array([ 535, 1443, 1444, 1878, 2702, 2739, 2809, 3050, 3052, 3157, 3545,\n",
       "       3546, 3708, 3723, 3749, 3809, 3944, 3952, 4008, 4097, 4247, 4249,\n",
       "       4253, 4266, 4334, 4360, 4617, 4826, 4978, 4979, 5199, 5262, 5450,\n",
       "       5510, 5669, 5778, 5810, 5852, 6006, 6224, 6274, 6304, 6306, 6407,\n",
       "       6413, 6611, 6778, 6779, 6809, 7093, 7187, 7766, 7945, 7964, 8133,\n",
       "       8734, 9088, 9188, 9218])"
      ]
     },
     "execution_count": 12,
     "metadata": {},
     "output_type": "execute_result"
    }
   ],
   "source": [
    "newly_selected"
   ]
  },
  {
   "cell_type": "code",
   "execution_count": null,
   "metadata": {},
   "outputs": [],
   "source": []
  },
  {
   "cell_type": "code",
   "execution_count": 26,
   "metadata": {},
   "outputs": [],
   "source": [
    "i = 6\n",
    "newly_selected = ctrl.clu.local2global({i: np.arange(ctrl.view.spkview.clu[i].size)})\n",
    "ctrl.clu.select(np.append(ctrl.clu.selectlist, newly_selected))"
   ]
  },
  {
   "cell_type": "code",
   "execution_count": null,
   "metadata": {},
   "outputs": [],
   "source": []
  },
  {
   "cell_type": "code",
   "execution_count": null,
   "metadata": {},
   "outputs": [],
   "source": []
  },
  {
   "cell_type": "code",
   "execution_count": 19,
   "metadata": {
    "ExecuteTime": {
     "end_time": "2019-01-21T22:57:19.346504Z",
     "start_time": "2019-01-21T22:57:19.341975Z"
    }
   },
   "outputs": [],
   "source": [
    "c = ctrl.model.clu[0]"
   ]
  },
  {
   "cell_type": "code",
   "execution_count": 22,
   "metadata": {
    "ExecuteTime": {
     "end_time": "2019-01-21T22:58:13.390258Z",
     "start_time": "2019-01-21T22:58:13.354045Z"
    }
   },
   "outputs": [],
   "source": [
    "c.move?"
   ]
  },
  {
   "cell_type": "code",
   "execution_count": 25,
   "metadata": {
    "ExecuteTime": {
     "end_time": "2019-01-21T22:59:49.137503Z",
     "start_time": "2019-01-21T22:59:49.131590Z"
    }
   },
   "outputs": [],
   "source": [
    "c.membership[c.selectlist] = 2\n",
    "c.__construct__()"
   ]
  },
  {
   "cell_type": "code",
   "execution_count": 29,
   "metadata": {
    "ExecuteTime": {
     "end_time": "2019-01-21T23:01:02.961247Z",
     "start_time": "2019-01-21T23:01:02.867000Z"
    }
   },
   "outputs": [
    {
     "data": {
      "text/plain": [
       "[None, None, None, None, None]"
      ]
     },
     "execution_count": 29,
     "metadata": {},
     "output_type": "execute_result"
    }
   ],
   "source": [
    "c.emit('cluster')"
   ]
  },
  {
   "cell_type": "code",
   "execution_count": 14,
   "metadata": {
    "ExecuteTime": {
     "end_time": "2019-01-21T22:55:44.761551Z",
     "start_time": "2019-01-21T22:55:44.665122Z"
    }
   },
   "outputs": [],
   "source": [
    "ctrl.view.spkview._move_spikes(ctrl.view.spkview.cluster_mouse_on)"
   ]
  },
  {
   "cell_type": "code",
   "execution_count": 8,
   "metadata": {
    "ExecuteTime": {
     "end_time": "2019-01-21T23:04:54.222141Z",
     "start_time": "2019-01-21T23:04:54.211145Z"
    }
   },
   "outputs": [
    {
     "data": {
      "text/plain": [
       "array([], dtype=int64)"
      ]
     },
     "execution_count": 8,
     "metadata": {},
     "output_type": "execute_result"
    }
   ],
   "source": [
    "ctrl.view.spkview.clu.selectlist"
   ]
  },
  {
   "cell_type": "code",
   "execution_count": null,
   "metadata": {},
   "outputs": [],
   "source": []
  },
  {
   "cell_type": "code",
   "execution_count": null,
   "metadata": {},
   "outputs": [],
   "source": []
  },
  {
   "cell_type": "code",
   "execution_count": null,
   "metadata": {},
   "outputs": [],
   "source": []
  }
 ],
 "metadata": {
  "kernelspec": {
   "display_name": "Python 3",
   "language": "python",
   "name": "python3"
  },
  "language_info": {
   "codemirror_mode": {
    "name": "ipython",
    "version": 3
   },
   "file_extension": ".py",
   "mimetype": "text/x-python",
   "name": "python",
   "nbconvert_exporter": "python",
   "pygments_lexer": "ipython3",
   "version": "3.6.7"
  }
 },
 "nbformat": 4,
 "nbformat_minor": 2
}
