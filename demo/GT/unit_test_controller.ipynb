{
 "cells": [
  {
   "cell_type": "code",
   "execution_count": 1,
   "metadata": {
    "ExecuteTime": {
     "end_time": "2019-01-21T23:05:06.520411Z",
     "start_time": "2019-01-21T23:05:06.068696Z"
    }
   },
   "outputs": [
    {
     "name": "stdout",
     "output_type": "stream",
     "text": [
      "Populating the interactive namespace from numpy and matplotlib\n"
     ]
    }
   ],
   "source": [
    "%pylab inline\n",
    "%gui qt"
   ]
  },
  {
   "cell_type": "code",
   "execution_count": 2,
   "metadata": {
    "ExecuteTime": {
     "end_time": "2019-01-21T23:05:08.894369Z",
     "start_time": "2019-01-21T23:05:06.894778Z"
    }
   },
   "outputs": [
    {
     "name": "stderr",
     "output_type": "stream",
     "text": [
      "/anaconda2/lib/python2.7/site-packages/numba/decorators.py:146: RuntimeWarning: Caching is not available when the 'parallel' target is in use. Caching is now being disabled to allow execution to continue.\n",
      "  warnings.warn(msg, RuntimeWarning)\n"
     ]
    }
   ],
   "source": [
    "from spiketag.mvc.Control import controller"
   ]
  },
  {
   "cell_type": "code",
   "execution_count": 3,
   "metadata": {
    "ExecuteTime": {
     "end_time": "2019-01-21T23:05:08.903809Z",
     "start_time": "2019-01-21T23:05:08.899329Z"
    }
   },
   "outputs": [],
   "source": [
    "from spiketag.base import *"
   ]
  },
  {
   "cell_type": "code",
   "execution_count": 4,
   "metadata": {
    "ExecuteTime": {
     "end_time": "2019-01-21T23:05:10.492685Z",
     "start_time": "2019-01-21T23:05:10.483342Z"
    }
   },
   "outputs": [],
   "source": [
    "tritrode = probe(shank_no=1)\n",
    "tritrode[0] = np.array([0,1,2])\n",
    "tritrode.mapping[0] = np.array([-90,0])\n",
    "tritrode.mapping[1] = np.array([90,0])\n",
    "tritrode.mapping[2] = np.array([0,10])\n",
    "tritrode.fs = 20000.\n",
    "tritrode.n_ch = 3\n",
    "tritrode.reorder_by_chip=False"
   ]
  },
  {
   "cell_type": "code",
   "execution_count": 5,
   "metadata": {
    "ExecuteTime": {
     "end_time": "2019-01-21T23:05:15.148865Z",
     "start_time": "2019-01-21T23:05:11.719581Z"
    }
   },
   "outputs": [
    {
     "name": "stderr",
     "output_type": "stream",
     "text": [
      "2019-01-21 18:05:11,721 - spiketag - INFO - load mua data\n",
      "2019-01-21 18:05:11,806 - spiketag - INFO - #############  load data  ###################\n",
      "2019-01-21 18:05:11,810 - spiketag - INFO - ./cell_0109.bin loaded, it contains: \n",
      "2019-01-21 18:05:11,814 - spiketag - INFO - 9280040 * 3 points (111360480 bytes) \n",
      "2019-01-21 18:05:11,818 - spiketag - INFO - 3 channels with sampling rate of 20000.0000 \n",
      "2019-01-21 18:05:11,819 - spiketag - INFO - 464.002 secs (7.733 mins) of data\n",
      "2019-01-21 18:05:11,821 - spiketag - INFO - #############################################\n",
      "2019-01-21 18:05:11,947 - spiketag - INFO - processing folder: ./\n",
      "2019-01-21 18:05:11,955 - spiketag - INFO - raw data have 9309 spks\n",
      "2019-01-21 18:05:11,958 - spiketag - INFO - ----------------success------------------\n",
      "2019-01-21 18:05:11,960 - spiketag - INFO -  \n"
     ]
    },
    {
     "name": "stdout",
     "output_type": "stream",
     "text": [
      "convert data from memmap to numpy with radix, elapsed time: 124.978065491 ms\n"
     ]
    }
   ],
   "source": [
    "ctrl = controller(\n",
    "                  probe = tritrode,\n",
    "                  mua_filename='./cell_0109.bin', \n",
    "                  spk_filename='./cell_0109.spk.bin', \n",
    "                  binary_radix=11, \n",
    "                  # cutoff=[-100, 100],\n",
    "                  # time_segs=[[0,320]],\n",
    "                  fall_off_size=15\n",
    "                 )"
   ]
  },
  {
   "cell_type": "code",
   "execution_count": 6,
   "metadata": {
    "ExecuteTime": {
     "end_time": "2019-01-21T23:05:19.900358Z",
     "start_time": "2019-01-21T23:05:15.154164Z"
    }
   },
   "outputs": [
    {
     "name": "stderr",
     "output_type": "stream",
     "text": [
      "2019-01-21 18:05:15,155 - spiketag - INFO - extract spikes from pivital meta data\n",
      "2019-01-21 18:05:15,157 - spiketag - INFO - mua.tospk()\n",
      "2019-01-21 18:05:16,252 - spiketag - INFO - group 0 delete 0.0%(0.0/9309.0) spks via cutoff\n",
      "2019-01-21 18:05:16,259 - spiketag - INFO - ----------------success------------------\n",
      "2019-01-21 18:05:16,260 - spiketag - INFO -  \n",
      "2019-01-21 18:05:16,262 - spiketag - INFO - grouping spike time\n",
      "2019-01-21 18:05:16,263 - spiketag - INFO - extrat features with weighted-pca\n",
      "2019-01-21 18:05:16,298 - spiketag - INFO - spk._tofet(group_id=0, method=weighted-pca, ncomp=6, whiten=False)\n",
      "2019-01-21 18:05:16,302 - spiketag - INFO - ----------------success------------------\n",
      "2019-01-21 18:05:16,303 - spiketag - INFO -  \n",
      "2019-01-21 18:05:16,305 - spiketag - INFO - clustering with hdbscan\n",
      "2019-01-21 18:05:16,306 - spiketag - INFO - clustering start with 24 cpus\n",
      "2019-01-21 18:05:19,882 - spiketag - INFO - clustering finished, used 3.57364392281 sec\n",
      "2019-01-21 18:05:19,892 - spiketag - INFO - Model.spktag is generated, nspk:9309\n"
     ]
    }
   ],
   "source": [
    "ctrl.sort()"
   ]
  },
  {
   "cell_type": "code",
   "execution_count": 7,
   "metadata": {
    "ExecuteTime": {
     "end_time": "2019-01-21T23:05:22.407484Z",
     "start_time": "2019-01-21T23:05:19.906435Z"
    }
   },
   "outputs": [
    {
     "name": "stderr",
     "output_type": "stream",
     "text": [
      "/Users/laic/Work/pydev/vispy_cus/vispy/vispy/util/fonts/_quartz.py:149: RuntimeWarning: Item size computed from the PEP 3118 buffer format string does not match the actual item size.\n",
      "  bitmap = np.array(buffer, np.ubyte)\n"
     ]
    }
   ],
   "source": [
    "ctrl.show()"
   ]
  },
  {
   "cell_type": "code",
   "execution_count": 15,
   "metadata": {
    "ExecuteTime": {
     "end_time": "2019-01-21T22:56:05.504770Z",
     "start_time": "2019-01-21T22:56:05.496465Z"
    }
   },
   "outputs": [
    {
     "data": {
      "text/plain": [
       "2"
      ]
     },
     "execution_count": 15,
     "metadata": {},
     "output_type": "execute_result"
    }
   ],
   "source": [
    "ctrl.view.spkview.cluster_mouse_on"
   ]
  },
  {
   "cell_type": "code",
   "execution_count": 19,
   "metadata": {
    "ExecuteTime": {
     "end_time": "2019-01-21T22:57:19.346504Z",
     "start_time": "2019-01-21T22:57:19.341975Z"
    }
   },
   "outputs": [],
   "source": [
    "c = ctrl.model.clu[0]"
   ]
  },
  {
   "cell_type": "code",
   "execution_count": 22,
   "metadata": {
    "ExecuteTime": {
     "end_time": "2019-01-21T22:58:13.390258Z",
     "start_time": "2019-01-21T22:58:13.354045Z"
    }
   },
   "outputs": [],
   "source": [
    "c.move?"
   ]
  },
  {
   "cell_type": "code",
   "execution_count": 25,
   "metadata": {
    "ExecuteTime": {
     "end_time": "2019-01-21T22:59:49.137503Z",
     "start_time": "2019-01-21T22:59:49.131590Z"
    }
   },
   "outputs": [],
   "source": [
    "c.membership[c.selectlist] = 2\n",
    "c.__construct__()"
   ]
  },
  {
   "cell_type": "code",
   "execution_count": 29,
   "metadata": {
    "ExecuteTime": {
     "end_time": "2019-01-21T23:01:02.961247Z",
     "start_time": "2019-01-21T23:01:02.867000Z"
    }
   },
   "outputs": [
    {
     "data": {
      "text/plain": [
       "[None, None, None, None, None]"
      ]
     },
     "execution_count": 29,
     "metadata": {},
     "output_type": "execute_result"
    }
   ],
   "source": [
    "c.emit('cluster')"
   ]
  },
  {
   "cell_type": "code",
   "execution_count": 14,
   "metadata": {
    "ExecuteTime": {
     "end_time": "2019-01-21T22:55:44.761551Z",
     "start_time": "2019-01-21T22:55:44.665122Z"
    }
   },
   "outputs": [],
   "source": [
    "ctrl.view.spkview._move_spikes(ctrl.view.spkview.cluster_mouse_on)"
   ]
  },
  {
   "cell_type": "code",
   "execution_count": 8,
   "metadata": {
    "ExecuteTime": {
     "end_time": "2019-01-21T23:04:54.222141Z",
     "start_time": "2019-01-21T23:04:54.211145Z"
    }
   },
   "outputs": [
    {
     "data": {
      "text/plain": [
       "array([], dtype=int64)"
      ]
     },
     "execution_count": 8,
     "metadata": {},
     "output_type": "execute_result"
    }
   ],
   "source": [
    "ctrl.view.spkview.clu.selectlist"
   ]
  },
  {
   "cell_type": "code",
   "execution_count": null,
   "metadata": {},
   "outputs": [],
   "source": []
  },
  {
   "cell_type": "code",
   "execution_count": null,
   "metadata": {},
   "outputs": [],
   "source": []
  },
  {
   "cell_type": "code",
   "execution_count": null,
   "metadata": {},
   "outputs": [],
   "source": []
  }
 ],
 "metadata": {
  "kernelspec": {
   "display_name": "Python 3",
   "language": "python",
   "name": "python3"
  },
  "language_info": {
   "codemirror_mode": {
    "name": "ipython",
    "version": 2
   },
   "file_extension": ".py",
   "mimetype": "text/x-python",
   "name": "python",
   "nbconvert_exporter": "python",
   "pygments_lexer": "ipython2",
   "version": "2.7.3"
  }
 },
 "nbformat": 4,
 "nbformat_minor": 2
}
