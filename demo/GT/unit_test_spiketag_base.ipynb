{
 "cells": [
  {
   "cell_type": "code",
   "execution_count": 1,
   "metadata": {
    "ExecuteTime": {
     "end_time": "2019-01-21T22:35:37.192527Z",
     "start_time": "2019-01-21T22:35:37.153377Z"
    }
   },
   "outputs": [],
   "source": [
    "%load_ext autoreload"
   ]
  },
  {
   "cell_type": "code",
   "execution_count": 2,
   "metadata": {
    "ExecuteTime": {
     "end_time": "2019-01-21T22:35:37.705794Z",
     "start_time": "2019-01-21T22:35:37.700889Z"
    }
   },
   "outputs": [],
   "source": [
    "%autoreload 2"
   ]
  },
  {
   "cell_type": "code",
   "execution_count": 3,
   "metadata": {
    "ExecuteTime": {
     "end_time": "2019-01-21T22:35:38.675192Z",
     "start_time": "2019-01-21T22:35:38.127954Z"
    },
    "scrolled": false
   },
   "outputs": [
    {
     "name": "stdout",
     "output_type": "stream",
     "text": [
      "Populating the interactive namespace from numpy and matplotlib\n"
     ]
    }
   ],
   "source": [
    "%pylab inline"
   ]
  },
  {
   "cell_type": "code",
   "execution_count": 4,
   "metadata": {
    "ExecuteTime": {
     "end_time": "2019-01-21T22:35:38.701285Z",
     "start_time": "2019-01-21T22:35:38.679553Z"
    }
   },
   "outputs": [],
   "source": [
    "%gui qt"
   ]
  },
  {
   "cell_type": "code",
   "execution_count": 7,
   "metadata": {
    "ExecuteTime": {
     "end_time": "2019-01-21T22:36:02.389133Z",
     "start_time": "2019-01-21T22:36:02.336788Z"
    }
   },
   "outputs": [],
   "source": [
    "from spiketag.base import *"
   ]
  },
  {
   "cell_type": "code",
   "execution_count": 8,
   "metadata": {
    "ExecuteTime": {
     "end_time": "2019-01-21T22:36:02.938026Z",
     "start_time": "2019-01-21T22:36:02.875881Z"
    }
   },
   "outputs": [],
   "source": [
    "from spiketag.view import *"
   ]
  },
  {
   "cell_type": "code",
   "execution_count": 9,
   "metadata": {
    "ExecuteTime": {
     "end_time": "2019-01-21T22:36:03.470101Z",
     "start_time": "2019-01-21T22:36:03.416105Z"
    }
   },
   "outputs": [],
   "source": [
    "prb = probe(shank_no=1)\n",
    "prb[0] = np.array([0,1,2])"
   ]
  },
  {
   "cell_type": "code",
   "execution_count": 10,
   "metadata": {
    "ExecuteTime": {
     "end_time": "2019-01-21T22:36:03.901873Z",
     "start_time": "2019-01-21T22:36:03.846406Z"
    }
   },
   "outputs": [],
   "source": [
    "prb.mapping[0] = np.array([-10,0])\n",
    "prb.mapping[1] = np.array([10,0])\n",
    "prb.mapping[2] = np.array([0,10])"
   ]
  },
  {
   "cell_type": "code",
   "execution_count": 11,
   "metadata": {
    "ExecuteTime": {
     "end_time": "2019-01-21T22:36:04.343254Z",
     "start_time": "2019-01-21T22:36:04.289121Z"
    }
   },
   "outputs": [],
   "source": [
    "prb.fs = 20000.\n",
    "prb.n_ch = 3\n",
    "prb.reorder_by_chip=False"
   ]
  },
  {
   "cell_type": "code",
   "execution_count": 10,
   "metadata": {
    "scrolled": true
   },
   "outputs": [
    {
     "name": "stderr",
     "output_type": "stream",
     "text": [
      "/anaconda2/envs/py37/lib/python3.6/site-packages/IPython/config.py:13: ShimWarning: The `IPython.config` package has been deprecated since IPython 4.0. You should import from traitlets.config instead.\n",
      "  \"You should import from traitlets.config instead.\", ShimWarning)\n"
     ]
    }
   ],
   "source": [
    "prb.show()"
   ]
  },
  {
   "cell_type": "code",
   "execution_count": null,
   "metadata": {},
   "outputs": [],
   "source": []
  },
  {
   "cell_type": "markdown",
   "metadata": {},
   "source": [
    "## MUA"
   ]
  },
  {
   "cell_type": "code",
   "execution_count": 14,
   "metadata": {
    "ExecuteTime": {
     "end_time": "2018-12-29T18:51:05.830516Z",
     "start_time": "2018-12-29T18:51:05.546828Z"
    },
    "scrolled": true
   },
   "outputs": [
    {
     "name": "stderr",
     "output_type": "stream",
     "text": [
      "2018-12-31 20:24:57,554 - spiketag - INFO - #############  load data  ###################\n",
      "2018-12-31 20:24:57,555 - spiketag - INFO - ./cell_0109.bin loaded, it contains: \n",
      "2018-12-31 20:24:57,555 - spiketag - INFO - 9280040.0 * 3 points (111360480 bytes) \n",
      "2018-12-31 20:24:57,556 - spiketag - INFO - 3 channels with sampling rate of 20000.0000 \n",
      "2018-12-31 20:24:57,557 - spiketag - INFO - 464.002 secs (7.733 mins) of data\n",
      "2018-12-31 20:24:57,557 - spiketag - INFO - #############################################\n",
      "2018-12-31 20:24:57,641 - spiketag - INFO - processing folder: ./\n",
      "2018-12-31 20:24:57,644 - spiketag - INFO - raw data have 9309 spks\n",
      "2018-12-31 20:24:57,644 - spiketag - INFO - ----------------success------------------\n",
      "2018-12-31 20:24:57,645 - spiketag - INFO -  \n"
     ]
    },
    {
     "name": "stdout",
     "output_type": "stream",
     "text": [
      "convert data from memmap to numpy with radix, elapsed time: 83.14204216003418 ms\n"
     ]
    }
   ],
   "source": [
    "mua = MUA(mua_filename='./cell_0109.bin', spk_filename='./cell_0109.spk.bin',\n",
    "          probe=prb, binary_radix=11,\n",
    "          cutoff=[-100,100], time_segs=np.array([[0, 40], [100., 200.]]) )"
   ]
  },
  {
   "cell_type": "code",
   "execution_count": 15,
   "metadata": {
    "ExecuteTime": {
     "end_time": "2018-12-29T18:51:06.307855Z",
     "start_time": "2018-12-29T18:51:06.252733Z"
    }
   },
   "outputs": [
    {
     "data": {
      "text/plain": [
       "array([[   4131,    4458,    6466, ..., 9278006, 9278135, 9279424],\n",
       "       [      1,       1,       1, ...,       1,       1,       1]],\n",
       "      dtype=int32)"
      ]
     },
     "execution_count": 15,
     "metadata": {},
     "output_type": "execute_result"
    }
   ],
   "source": [
    "mua.pivotal_pos"
   ]
  },
  {
   "cell_type": "code",
   "execution_count": 16,
   "metadata": {
    "ExecuteTime": {
     "end_time": "2018-12-29T18:51:06.635978Z",
     "start_time": "2018-12-29T18:51:06.592311Z"
    },
    "scrolled": true
   },
   "outputs": [
    {
     "data": {
      "text/plain": [
       "array([   4131,    4458,    6466, ..., 9278006, 9278135, 9279424],\n",
       "      dtype=int32)"
      ]
     },
     "execution_count": 16,
     "metadata": {},
     "output_type": "execute_result"
    }
   ],
   "source": [
    "mua.pivotal_pos[0]"
   ]
  },
  {
   "cell_type": "code",
   "execution_count": 17,
   "metadata": {
    "ExecuteTime": {
     "end_time": "2018-12-29T18:51:07.031119Z",
     "start_time": "2018-12-29T18:51:06.982569Z"
    }
   },
   "outputs": [],
   "source": [
    "spks = np.fromfile('./cell_0109.spk.bin', dtype=np.int32)"
   ]
  },
  {
   "cell_type": "code",
   "execution_count": 18,
   "metadata": {
    "ExecuteTime": {
     "end_time": "2018-12-29T18:51:07.212868Z",
     "start_time": "2018-12-29T18:51:07.161727Z"
    }
   },
   "outputs": [
    {
     "data": {
      "text/plain": [
       "array([   4131,    4458,    6466, ..., 9278006, 9278135, 9279424],\n",
       "      dtype=int32)"
      ]
     },
     "execution_count": 18,
     "metadata": {},
     "output_type": "execute_result"
    }
   ],
   "source": [
    "spks[::2]"
   ]
  },
  {
   "cell_type": "code",
   "execution_count": 19,
   "metadata": {
    "ExecuteTime": {
     "end_time": "2018-12-29T18:51:07.448419Z",
     "start_time": "2018-12-29T18:51:07.393671Z"
    }
   },
   "outputs": [
    {
     "data": {
      "text/plain": [
       "True"
      ]
     },
     "execution_count": 19,
     "metadata": {},
     "output_type": "execute_result"
    }
   ],
   "source": [
    "np.allclose(mua.pivotal_pos[0], spks[::2])"
   ]
  },
  {
   "cell_type": "markdown",
   "metadata": {},
   "source": [
    "## Unit test for individual views"
   ]
  },
  {
   "cell_type": "code",
   "execution_count": 20,
   "metadata": {
    "ExecuteTime": {
     "end_time": "2018-07-24T21:12:24.924061Z",
     "start_time": "2018-07-24T21:12:23.775411Z"
    }
   },
   "outputs": [],
   "source": [
    "wview = wave_view(mua.data, spks=spks)\n",
    "wview.show()"
   ]
  },
  {
   "cell_type": "code",
   "execution_count": 21,
   "metadata": {
    "ExecuteTime": {
     "end_time": "2018-12-29T18:51:10.592532Z",
     "start_time": "2018-12-29T18:51:09.606058Z"
    },
    "scrolled": true
   },
   "outputs": [
    {
     "name": "stderr",
     "output_type": "stream",
     "text": [
      "2018-12-31 20:25:26,416 - spiketag - INFO - mua.tospk()\n",
      "2018-12-31 20:25:27,224 - spiketag - INFO - group 0 delete 1.59500693481276%(46.0/2884.0) spks via cutoff\n",
      "2018-12-31 20:25:27,225 - spiketag - INFO - ----------------success------------------\n",
      "2018-12-31 20:25:27,226 - spiketag - INFO -  \n"
     ]
    }
   ],
   "source": [
    "spk = mua.tospk()"
   ]
  },
  {
   "cell_type": "code",
   "execution_count": 22,
   "metadata": {
    "ExecuteTime": {
     "end_time": "2018-12-29T18:51:10.649027Z",
     "start_time": "2018-12-29T18:51:10.597056Z"
    }
   },
   "outputs": [
    {
     "data": {
      "text/plain": [
       "array([  0.20655,   0.2229 ,   0.3233 , ..., 199.63765, 199.6433 ,\n",
       "       199.7441 ])"
      ]
     },
     "execution_count": 22,
     "metadata": {},
     "output_type": "execute_result"
    }
   ],
   "source": [
    "mua.spk_times[0]/mua.fs"
   ]
  },
  {
   "cell_type": "code",
   "execution_count": 23,
   "metadata": {
    "ExecuteTime": {
     "end_time": "2018-12-29T18:51:10.711606Z",
     "start_time": "2018-12-29T18:51:10.654823Z"
    }
   },
   "outputs": [
    {
     "data": {
      "text/plain": [
       "array([0.0000000e+00, 5.0000000e-05, 1.0000000e-04, ..., 4.6400185e+02,\n",
       "       4.6400190e+02, 4.6400195e+02])"
      ]
     },
     "execution_count": 23,
     "metadata": {},
     "output_type": "execute_result"
    }
   ],
   "source": [
    "mua.t"
   ]
  },
  {
   "cell_type": "code",
   "execution_count": 24,
   "metadata": {
    "ExecuteTime": {
     "end_time": "2018-12-29T18:51:11.154076Z",
     "start_time": "2018-12-29T18:51:11.103249Z"
    }
   },
   "outputs": [],
   "source": [
    "time_segs = np.array([[0, 40], [100., 200.]])"
   ]
  },
  {
   "cell_type": "code",
   "execution_count": 25,
   "metadata": {
    "ExecuteTime": {
     "end_time": "2018-12-29T18:51:11.435823Z",
     "start_time": "2018-12-29T18:51:11.381256Z"
    }
   },
   "outputs": [
    {
     "data": {
      "text/plain": [
       "(1874,)"
      ]
     },
     "execution_count": 25,
     "metadata": {},
     "output_type": "execute_result"
    }
   ],
   "source": [
    "mua.spk_times[0][np.logical_and(mua.spk_times[0]/mua.fs<time_segs[1][1], mua.spk_times[0]/mua.fs>time_segs[1][0])].shape"
   ]
  },
  {
   "cell_type": "code",
   "execution_count": 26,
   "metadata": {
    "ExecuteTime": {
     "end_time": "2018-12-29T18:51:11.870196Z",
     "start_time": "2018-12-29T18:51:11.818925Z"
    }
   },
   "outputs": [
    {
     "data": {
      "text/plain": [
       "(2838,)"
      ]
     },
     "execution_count": 26,
     "metadata": {},
     "output_type": "execute_result"
    }
   ],
   "source": [
    "mua.spk_times[0].shape"
   ]
  },
  {
   "cell_type": "code",
   "execution_count": 27,
   "metadata": {
    "ExecuteTime": {
     "end_time": "2018-12-29T18:51:12.697181Z",
     "start_time": "2018-12-29T18:51:12.647564Z"
    }
   },
   "outputs": [],
   "source": [
    "def find_spk_in_time_seg(spk_times, time_segs):\n",
    "    spk_times_in_range = []\n",
    "    for time_seg in time_segs:\n",
    "        spk_in_time_seg = spk_times[logical_and(spk_times<time_seg[1], spk_times>time_seg[0])]\n",
    "        spk_times_in_range.append(spk_in_time_seg)\n",
    "    return np.hstack(np.array(spk_times_in_range))"
   ]
  },
  {
   "cell_type": "code",
   "execution_count": 28,
   "metadata": {
    "ExecuteTime": {
     "end_time": "2018-07-27T03:24:37.740381Z",
     "start_time": "2018-07-27T03:24:35.432606Z"
    },
    "scrolled": false
   },
   "outputs": [
    {
     "name": "stdout",
     "output_type": "stream",
     "text": [
      "35 µs ± 2.72 µs per loop (mean ± std. dev. of 7 runs, 10000 loops each)\n"
     ]
    }
   ],
   "source": [
    "%%timeit \n",
    "spk_times = find_spk_in_time_seg(mua.spk_times[0]/mua.fs, time_segs)"
   ]
  },
  {
   "cell_type": "code",
   "execution_count": null,
   "metadata": {},
   "outputs": [],
   "source": []
  },
  {
   "cell_type": "code",
   "execution_count": null,
   "metadata": {},
   "outputs": [],
   "source": []
  },
  {
   "cell_type": "code",
   "execution_count": null,
   "metadata": {},
   "outputs": [],
   "source": []
  },
  {
   "cell_type": "code",
   "execution_count": null,
   "metadata": {},
   "outputs": [],
   "source": []
  },
  {
   "cell_type": "code",
   "execution_count": 29,
   "metadata": {
    "ExecuteTime": {
     "end_time": "2018-12-29T18:51:19.123592Z",
     "start_time": "2018-12-29T18:51:19.071959Z"
    }
   },
   "outputs": [
    {
     "data": {
      "text/plain": [
       "(2838, 19, 3)"
      ]
     },
     "execution_count": 29,
     "metadata": {},
     "output_type": "execute_result"
    }
   ],
   "source": [
    "spk.spk[0].shape"
   ]
  },
  {
   "cell_type": "code",
   "execution_count": 30,
   "metadata": {
    "ExecuteTime": {
     "end_time": "2018-12-29T18:51:19.530819Z",
     "start_time": "2018-12-29T18:51:19.481633Z"
    }
   },
   "outputs": [],
   "source": [
    "s = np.delete(spk.spk[0], [0,1,2], axis=0)"
   ]
  },
  {
   "cell_type": "code",
   "execution_count": 31,
   "metadata": {
    "ExecuteTime": {
     "end_time": "2018-12-29T18:51:20.011220Z",
     "start_time": "2018-12-29T18:51:19.957953Z"
    },
    "scrolled": true
   },
   "outputs": [
    {
     "data": {
      "text/plain": [
       "(2835, 19, 3)"
      ]
     },
     "execution_count": 31,
     "metadata": {},
     "output_type": "execute_result"
    }
   ],
   "source": [
    "s.shape"
   ]
  },
  {
   "cell_type": "code",
   "execution_count": 32,
   "metadata": {
    "ExecuteTime": {
     "end_time": "2018-12-29T18:51:21.224475Z",
     "start_time": "2018-12-29T18:51:21.146414Z"
    },
    "scrolled": true
   },
   "outputs": [
    {
     "name": "stderr",
     "output_type": "stream",
     "text": [
      "2018-12-31 20:25:42,841 - spiketag - INFO - spk._tofet(group_id=0, method=weighted-pca, ncomp=6, whiten=False)\n",
      "2018-12-31 20:25:42,842 - spiketag - INFO - ----------------success------------------\n",
      "2018-12-31 20:25:42,842 - spiketag - INFO -  \n"
     ]
    }
   ],
   "source": [
    "fet = spk.tofet()"
   ]
  },
  {
   "cell_type": "code",
   "execution_count": 33,
   "metadata": {
    "ExecuteTime": {
     "end_time": "2018-12-29T18:51:21.846361Z",
     "start_time": "2018-12-29T18:51:21.668899Z"
    },
    "scrolled": true
   },
   "outputs": [
    {
     "name": "stderr",
     "output_type": "stream",
     "text": [
      "2018-12-31 20:25:43,641 - spiketag - INFO - clustering start with 1 cpus\n",
      "2018-12-31 20:25:43,912 - spiketag - INFO - clustering finished, used 0.2695348262786865 sec\n"
     ]
    }
   ],
   "source": [
    "clu = fet.toclu()"
   ]
  },
  {
   "cell_type": "code",
   "execution_count": 34,
   "metadata": {
    "ExecuteTime": {
     "end_time": "2018-12-29T18:51:23.872386Z",
     "start_time": "2018-12-29T18:51:22.609155Z"
    }
   },
   "outputs": [],
   "source": [
    "spkview = spike_view()"
   ]
  },
  {
   "cell_type": "code",
   "execution_count": 35,
   "metadata": {
    "ExecuteTime": {
     "end_time": "2018-06-06T22:54:29.719047Z",
     "start_time": "2018-06-06T22:54:29.573048Z"
    }
   },
   "outputs": [],
   "source": [
    "spkview.set_data(spk.spk[0], clu[0])"
   ]
  },
  {
   "cell_type": "code",
   "execution_count": 36,
   "metadata": {
    "ExecuteTime": {
     "end_time": "2018-06-06T22:54:30.451189Z",
     "start_time": "2018-06-06T22:54:30.327824Z"
    }
   },
   "outputs": [],
   "source": [
    "spkview.show()"
   ]
  },
  {
   "cell_type": "code",
   "execution_count": 37,
   "metadata": {
    "ExecuteTime": {
     "end_time": "2018-06-06T22:55:05.970177Z",
     "start_time": "2018-06-06T22:55:05.701687Z"
    }
   },
   "outputs": [],
   "source": [
    "fetview = scatter_3d_view()"
   ]
  },
  {
   "cell_type": "code",
   "execution_count": 38,
   "metadata": {
    "ExecuteTime": {
     "end_time": "2018-06-06T22:55:11.123362Z",
     "start_time": "2018-06-06T22:55:11.052868Z"
    }
   },
   "outputs": [],
   "source": [
    "fetview.set_data(fet.fet[0], clu[0])"
   ]
  },
  {
   "cell_type": "code",
   "execution_count": 39,
   "metadata": {
    "ExecuteTime": {
     "end_time": "2018-06-06T22:55:11.902626Z",
     "start_time": "2018-06-06T22:55:11.765860Z"
    }
   },
   "outputs": [],
   "source": [
    "fetview.show()"
   ]
  },
  {
   "cell_type": "code",
   "execution_count": 40,
   "metadata": {
    "ExecuteTime": {
     "end_time": "2018-06-06T22:55:38.601431Z",
     "start_time": "2018-06-06T22:55:38.394865Z"
    }
   },
   "outputs": [],
   "source": [
    "ampview = amplitude_view(fs=prb.fs, scale=1)"
   ]
  },
  {
   "cell_type": "code",
   "execution_count": 41,
   "metadata": {
    "ExecuteTime": {
     "end_time": "2018-06-06T22:57:17.938053Z",
     "start_time": "2018-06-06T22:57:17.863540Z"
    }
   },
   "outputs": [],
   "source": [
    "ampview.set_data(spk.spk[0], clu[0], mua.pivotal_pos[0])"
   ]
  },
  {
   "cell_type": "code",
   "execution_count": 42,
   "metadata": {
    "ExecuteTime": {
     "end_time": "2018-06-06T22:57:18.777267Z",
     "start_time": "2018-06-06T22:57:18.466670Z"
    }
   },
   "outputs": [],
   "source": [
    "ampview.show()"
   ]
  },
  {
   "cell_type": "code",
   "execution_count": null,
   "metadata": {},
   "outputs": [],
   "source": []
  },
  {
   "cell_type": "code",
   "execution_count": 43,
   "metadata": {},
   "outputs": [
    {
     "data": {
      "text/plain": [
       "(2838,)"
      ]
     },
     "execution_count": 43,
     "metadata": {},
     "output_type": "execute_result"
    }
   ],
   "source": [
    "clu[0].membership.shape"
   ]
  },
  {
   "cell_type": "code",
   "execution_count": 44,
   "metadata": {
    "ExecuteTime": {
     "end_time": "2018-12-29T18:51:29.537415Z",
     "start_time": "2018-12-29T18:51:29.389919Z"
    }
   },
   "outputs": [],
   "source": [
    "treeview = ctree_view()"
   ]
  },
  {
   "cell_type": "code",
   "execution_count": 45,
   "metadata": {
    "ExecuteTime": {
     "end_time": "2018-12-29T18:51:30.110971Z",
     "start_time": "2018-12-29T18:51:30.029921Z"
    },
    "scrolled": false
   },
   "outputs": [],
   "source": [
    "treeview.set_data(clu[0])"
   ]
  },
  {
   "cell_type": "code",
   "execution_count": 53,
   "metadata": {},
   "outputs": [],
   "source": [
    "treeview.show()"
   ]
  },
  {
   "cell_type": "code",
   "execution_count": 46,
   "metadata": {
    "ExecuteTime": {
     "end_time": "2018-12-29T18:51:31.000862Z",
     "start_time": "2018-12-29T18:51:30.950151Z"
    },
    "scrolled": true
   },
   "outputs": [
    {
     "data": {
      "text/plain": [
       "dtype([('parent', '<i8'), ('child', '<i8'), ('lambda_val', '<f8'), ('child_size', '<i8')])"
      ]
     },
     "execution_count": 46,
     "metadata": {},
     "output_type": "execute_result"
    }
   ],
   "source": [
    "clu[0]._extra_info['condensed_tree'].dtype"
   ]
  },
  {
   "cell_type": "code",
   "execution_count": 47,
   "metadata": {
    "ExecuteTime": {
     "end_time": "2018-12-29T18:51:31.681592Z",
     "start_time": "2018-12-29T18:51:31.630606Z"
    }
   },
   "outputs": [
    {
     "data": {
      "text/plain": [
       "array([(2838, 2512,  1.72408129, 1), (2838, 2513,  1.97728322, 1),\n",
       "       (2838, 1117,  2.42933043, 1), ..., (2840, 1943, 25.75185902, 1),\n",
       "       (2840,  581, 25.75185902, 1), (2840, 2070, 25.75185902, 1)],\n",
       "      dtype=[('parent', '<i8'), ('child', '<i8'), ('lambda_val', '<f8'), ('child_size', '<i8')])"
      ]
     },
     "execution_count": 47,
     "metadata": {},
     "output_type": "execute_result"
    }
   ],
   "source": [
    "clu[0]._extra_info['condensed_tree']"
   ]
  },
  {
   "cell_type": "code",
   "execution_count": 48,
   "metadata": {
    "ExecuteTime": {
     "end_time": "2018-12-29T18:51:32.340465Z",
     "start_time": "2018-12-29T18:51:32.290228Z"
    },
    "scrolled": false
   },
   "outputs": [
    {
     "data": {
      "text/plain": [
       "dtype([('parent', '<i8'), ('child', '<i8'), ('lambda_val', '<f8'), ('child_size', '<i8')])"
      ]
     },
     "execution_count": 48,
     "metadata": {},
     "output_type": "execute_result"
    }
   ],
   "source": [
    "treeview._whole_tree.dtype"
   ]
  },
  {
   "cell_type": "code",
   "execution_count": 49,
   "metadata": {
    "ExecuteTime": {
     "end_time": "2018-12-29T18:51:33.669456Z",
     "start_time": "2018-12-29T18:51:33.618224Z"
    },
    "scrolled": true
   },
   "outputs": [
    {
     "data": {
      "text/plain": [
       "array([(2838, 2512,  1.72408129, 1), (2838, 2513,  1.97728322, 1),\n",
       "       (2838, 1117,  2.42933043, 1), ..., (2840, 1943, 25.75185902, 1),\n",
       "       (2840,  581, 25.75185902, 1), (2840, 2070, 25.75185902, 1)],\n",
       "      dtype=[('parent', '<i8'), ('child', '<i8'), ('lambda_val', '<f8'), ('child_size', '<i8')])"
      ]
     },
     "execution_count": 49,
     "metadata": {},
     "output_type": "execute_result"
    }
   ],
   "source": [
    "treeview._whole_tree"
   ]
  },
  {
   "cell_type": "code",
   "execution_count": 50,
   "metadata": {
    "ExecuteTime": {
     "end_time": "2018-12-29T18:51:34.349151Z",
     "start_time": "2018-12-29T18:51:34.297687Z"
    }
   },
   "outputs": [
    {
     "data": {
      "text/plain": [
       "array([[ 4.00631265, -5.05165458],\n",
       "       [11.89539706, -5.05165458],\n",
       "       [11.89539706, -5.05368293],\n",
       "       ...,\n",
       "       [ 7.93619524, -5.05035189],\n",
       "       [ 7.93619524, -5.05165458],\n",
       "       [ 0.01465961, -5.05165458]])"
      ]
     },
     "execution_count": 50,
     "metadata": {},
     "output_type": "execute_result"
    }
   ],
   "source": [
    "treeview._vertices"
   ]
  },
  {
   "cell_type": "code",
   "execution_count": 51,
   "metadata": {
    "ExecuteTime": {
     "end_time": "2018-12-29T18:51:35.320420Z",
     "start_time": "2018-12-29T18:51:35.269407Z"
    },
    "scrolled": true
   },
   "outputs": [
    {
     "data": {
      "text/plain": [
       "array([[    0,     1,     2],\n",
       "       [    0,     3,     2],\n",
       "       [    4,     5,     6],\n",
       "       ...,\n",
       "       [10976, 10979, 10978],\n",
       "       [10980, 10981, 10982],\n",
       "       [10980, 10983, 10982]])"
      ]
     },
     "execution_count": 51,
     "metadata": {},
     "output_type": "execute_result"
    }
   ],
   "source": [
    "treeview._faces"
   ]
  },
  {
   "cell_type": "code",
   "execution_count": 52,
   "metadata": {
    "ExecuteTime": {
     "end_time": "2018-12-29T18:51:35.836906Z",
     "start_time": "2018-12-29T18:51:35.784310Z"
    }
   },
   "outputs": [
    {
     "data": {
      "text/plain": [
       "array([[0.86666667, 0.38039216, 0.95686275, 1.        ],\n",
       "       [0.86666667, 0.38039216, 0.95686275, 1.        ],\n",
       "       [0.86666667, 0.38039216, 0.95686275, 1.        ],\n",
       "       ...,\n",
       "       [0.933333  , 0.866667  , 0.509804  , 1.        ],\n",
       "       [0.933333  , 0.866667  , 0.509804  , 1.        ],\n",
       "       [0.933333  , 0.866667  , 0.509804  , 1.        ]])"
      ]
     },
     "execution_count": 52,
     "metadata": {},
     "output_type": "execute_result"
    }
   ],
   "source": [
    "treeview._face_colors"
   ]
  },
  {
   "cell_type": "code",
   "execution_count": null,
   "metadata": {},
   "outputs": [],
   "source": []
  },
  {
   "cell_type": "code",
   "execution_count": 39,
   "metadata": {
    "ExecuteTime": {
     "end_time": "2018-12-29T18:51:37.590731Z",
     "start_time": "2018-12-29T18:51:37.541601Z"
    }
   },
   "outputs": [],
   "source": [
    "from vispy import scene"
   ]
  },
  {
   "cell_type": "code",
   "execution_count": 40,
   "metadata": {
    "ExecuteTime": {
     "end_time": "2018-12-29T18:54:06.645451Z",
     "start_time": "2018-12-29T18:54:06.525051Z"
    }
   },
   "outputs": [],
   "source": [
    "canvas = scene.SceneCanvas(keys='interactive')\n",
    "view = canvas.central_widget.add_view()"
   ]
  },
  {
   "cell_type": "code",
   "execution_count": 41,
   "metadata": {
    "ExecuteTime": {
     "end_time": "2018-12-29T18:54:08.088875Z",
     "start_time": "2018-12-29T18:54:08.030538Z"
    }
   },
   "outputs": [],
   "source": [
    "mesh = scene.visuals.Mesh()\n",
    "mesh.mode = 'triangles'"
   ]
  },
  {
   "cell_type": "code",
   "execution_count": 48,
   "metadata": {
    "ExecuteTime": {
     "end_time": "2018-12-29T18:54:08.987863Z",
     "start_time": "2018-12-29T18:54:08.933741Z"
    },
    "scrolled": false
   },
   "outputs": [],
   "source": [
    "mesh.set_data(vertices=treeview._vertices, \n",
    "              faces=treeview._faces.astype(np.int64), \n",
    "              face_colors=treeview._face_colors)"
   ]
  },
  {
   "cell_type": "code",
   "execution_count": 49,
   "metadata": {
    "ExecuteTime": {
     "end_time": "2018-12-29T18:54:25.700655Z",
     "start_time": "2018-12-29T18:54:25.640009Z"
    }
   },
   "outputs": [],
   "source": [
    "view.camera = 'panzoom'"
   ]
  },
  {
   "cell_type": "code",
   "execution_count": 50,
   "metadata": {
    "ExecuteTime": {
     "end_time": "2018-12-29T18:54:34.852739Z",
     "start_time": "2018-12-29T18:54:34.800715Z"
    }
   },
   "outputs": [],
   "source": [
    "view.add(mesh)"
   ]
  },
  {
   "cell_type": "code",
   "execution_count": 51,
   "metadata": {
    "ExecuteTime": {
     "end_time": "2018-12-29T18:54:40.004185Z",
     "start_time": "2018-12-29T18:54:39.901842Z"
    }
   },
   "outputs": [],
   "source": [
    "canvas.show()"
   ]
  },
  {
   "cell_type": "code",
   "execution_count": null,
   "metadata": {},
   "outputs": [],
   "source": []
  },
  {
   "cell_type": "code",
   "execution_count": null,
   "metadata": {},
   "outputs": [],
   "source": []
  },
  {
   "cell_type": "code",
   "execution_count": null,
   "metadata": {},
   "outputs": [],
   "source": []
  },
  {
   "cell_type": "code",
   "execution_count": 41,
   "metadata": {
    "ExecuteTime": {
     "end_time": "2018-12-29T18:51:46.097447Z",
     "start_time": "2018-12-29T18:51:46.046539Z"
    },
    "scrolled": true
   },
   "outputs": [
    {
     "data": {
      "text/plain": [
       "<Mesh at 0x141d41350>"
      ]
     },
     "execution_count": 41,
     "metadata": {},
     "output_type": "execute_result"
    }
   ],
   "source": [
    "treeview._mesh"
   ]
  },
  {
   "cell_type": "code",
   "execution_count": 42,
   "metadata": {
    "ExecuteTime": {
     "end_time": "2018-12-29T18:51:51.874034Z",
     "start_time": "2018-12-29T18:51:51.318319Z"
    }
   },
   "outputs": [],
   "source": [
    "treeview.show()"
   ]
  },
  {
   "cell_type": "code",
   "execution_count": null,
   "metadata": {},
   "outputs": [],
   "source": []
  },
  {
   "cell_type": "code",
   "execution_count": null,
   "metadata": {},
   "outputs": [],
   "source": []
  },
  {
   "cell_type": "code",
   "execution_count": null,
   "metadata": {},
   "outputs": [],
   "source": []
  },
  {
   "cell_type": "code",
   "execution_count": null,
   "metadata": {},
   "outputs": [],
   "source": []
  },
  {
   "cell_type": "code",
   "execution_count": null,
   "metadata": {},
   "outputs": [],
   "source": []
  },
  {
   "cell_type": "code",
   "execution_count": 37,
   "metadata": {
    "ExecuteTime": {
     "end_time": "2018-06-06T23:00:54.715240Z",
     "start_time": "2018-06-06T23:00:54.577475Z"
    },
    "scrolled": true
   },
   "outputs": [
    {
     "name": "stderr",
     "output_type": "stream",
     "text": [
      "WARNING: Traceback (most recent call last):\n",
      "  File \"/anaconda2/envs/py37/lib/python3.6/runpy.py\", line 193, in _run_module_as_main\n",
      "    \"__main__\", mod_spec)\n",
      "  File \"/anaconda2/envs/py37/lib/python3.6/runpy.py\", line 85, in _run_code\n",
      "    exec(code, run_globals)\n",
      "  File \"/anaconda2/envs/py37/lib/python3.6/site-packages/ipykernel_launcher.py\", line 16, in <module>\n",
      "    app.launch_new_instance()\n",
      "  File \"/anaconda2/envs/py37/lib/python3.6/site-packages/traitlets/config/application.py\", line 658, in launch_instance\n",
      "    app.start()\n",
      "  File \"/anaconda2/envs/py37/lib/python3.6/site-packages/ipykernel/kernelapp.py\", line 505, in start\n",
      "    self.io_loop.start()\n",
      "  File \"/anaconda2/envs/py37/lib/python3.6/site-packages/tornado/platform/asyncio.py\", line 132, in start\n",
      "    self.asyncio_loop.run_forever()\n",
      "  File \"/anaconda2/envs/py37/lib/python3.6/asyncio/base_events.py\", line 427, in run_forever\n",
      "    self._run_once()\n",
      "  File \"/anaconda2/envs/py37/lib/python3.6/asyncio/base_events.py\", line 1440, in _run_once\n",
      "    handle._run()\n",
      "  File \"/anaconda2/envs/py37/lib/python3.6/asyncio/events.py\", line 145, in _run\n",
      "    self._callback(*self._args)\n",
      "  File \"/anaconda2/envs/py37/lib/python3.6/site-packages/tornado/ioloop.py\", line 758, in _run_callback\n",
      "    ret = callback()\n",
      "  File \"/anaconda2/envs/py37/lib/python3.6/site-packages/tornado/stack_context.py\", line 300, in null_wrapper\n",
      "    return fn(*args, **kwargs)\n",
      "  File \"/anaconda2/envs/py37/lib/python3.6/site-packages/tornado/gen.py\", line 1233, in inner\n",
      "    self.run()\n",
      "  File \"/anaconda2/envs/py37/lib/python3.6/site-packages/tornado/gen.py\", line 1147, in run\n",
      "    yielded = self.gen.send(value)\n",
      "  File \"/anaconda2/envs/py37/lib/python3.6/site-packages/ipykernel/kernelbase.py\", line 357, in process_one\n",
      "    yield gen.maybe_future(dispatch(*args))\n",
      "  File \"/anaconda2/envs/py37/lib/python3.6/site-packages/tornado/gen.py\", line 326, in wrapper\n",
      "    yielded = next(result)\n",
      "  File \"/anaconda2/envs/py37/lib/python3.6/site-packages/ipykernel/kernelbase.py\", line 267, in dispatch_shell\n",
      "    yield gen.maybe_future(handler(stream, idents, msg))\n",
      "  File \"/anaconda2/envs/py37/lib/python3.6/site-packages/tornado/gen.py\", line 326, in wrapper\n",
      "    yielded = next(result)\n",
      "  File \"/anaconda2/envs/py37/lib/python3.6/site-packages/ipykernel/kernelbase.py\", line 534, in execute_request\n",
      "    user_expressions, allow_stdin,\n",
      "  File \"/anaconda2/envs/py37/lib/python3.6/site-packages/tornado/gen.py\", line 326, in wrapper\n",
      "    yielded = next(result)\n",
      "  File \"/anaconda2/envs/py37/lib/python3.6/site-packages/ipykernel/ipkernel.py\", line 294, in do_execute\n",
      "    res = shell.run_cell(code, store_history=store_history, silent=silent)\n",
      "  File \"/anaconda2/envs/py37/lib/python3.6/site-packages/ipykernel/zmqshell.py\", line 536, in run_cell\n",
      "    return super(ZMQInteractiveShell, self).run_cell(*args, **kwargs)\n",
      "  File \"/anaconda2/envs/py37/lib/python3.6/site-packages/IPython/core/interactiveshell.py\", line 2819, in run_cell\n",
      "    raw_cell, store_history, silent, shell_futures)\n",
      "  File \"/anaconda2/envs/py37/lib/python3.6/site-packages/IPython/core/interactiveshell.py\", line 2845, in _run_cell\n",
      "    return runner(coro)\n",
      "  File \"/anaconda2/envs/py37/lib/python3.6/site-packages/IPython/core/async_helpers.py\", line 67, in _pseudo_sync_runner\n",
      "    coro.send(None)\n",
      "  File \"/anaconda2/envs/py37/lib/python3.6/site-packages/IPython/core/interactiveshell.py\", line 3020, in run_cell_async\n",
      "    interactivity=interactivity, compiler=compiler, result=result)\n",
      "  File \"/anaconda2/envs/py37/lib/python3.6/site-packages/IPython/core/interactiveshell.py\", line 3191, in run_ast_nodes\n",
      "    if (yield from self.run_code(code, result)):\n",
      "  File \"/anaconda2/envs/py37/lib/python3.6/site-packages/IPython/core/interactiveshell.py\", line 3267, in run_code\n",
      "    exec(code_obj, self.user_global_ns, self.user_ns)\n",
      "  File \"<ipython-input-37-d18c418556e8>\", line 1, in <module>\n",
      "    treeview.show()\n",
      "  File \"/Users/laic/Work/pydev/vispy_cus/vispy/vispy/app/canvas.py\", line 429, in show\n",
      "    self._backend._vispy_set_visible(visible)\n",
      "  File \"/Users/laic/Work/pydev/vispy_cus/vispy/vispy/app/backends/_qt.py\", line 323, in _vispy_set_visible\n",
      "    self.showNormal()\n",
      "  File \"/Users/laic/Work/pydev/vispy_cus/vispy/vispy/app/backends/_qt.py\", line 657, in paintGL\n",
      "    self._vispy_canvas.events.draw(region=None)\n",
      "  File \"/Users/laic/Work/pydev/vispy_cus/vispy/vispy/util/event.py\", line 455, in __call__\n",
      "    self._invoke_callback(cb, event)\n",
      "  File \"/Users/laic/Work/pydev/vispy_cus/vispy/vispy/util/event.py\", line 475, in _invoke_callback\n",
      "    self, cb_event=(cb, event))\n",
      "  << caught exception here: >>\n",
      "  File \"/Users/laic/Work/pydev/vispy_cus/vispy/vispy/util/event.py\", line 471, in _invoke_callback\n",
      "    cb(event)\n",
      "  File \"/Users/laic/Work/pydev/vispy_cus/vispy/vispy/scene/canvas.py\", line 207, in on_draw\n",
      "    self._draw_scene()\n",
      "  File \"/Users/laic/Work/pydev/vispy_cus/vispy/vispy/scene/canvas.py\", line 253, in _draw_scene\n",
      "    self.draw_visual(self.scene)\n",
      "  File \"/Users/laic/Work/pydev/vispy_cus/vispy/vispy/scene/canvas.py\", line 291, in draw_visual\n",
      "    node.draw()\n",
      "  File \"/Users/laic/Work/pydev/vispy_cus/vispy/vispy/scene/visuals.py\", line 98, in draw\n",
      "    self._visual_superclass.draw(self)\n",
      "  File \"/Users/laic/Work/pydev/vispy_cus/vispy/vispy/visuals/mesh.py\", line 385, in draw\n",
      "    Visual.draw(self, *args, **kwds)\n",
      "  File \"/Users/laic/Work/pydev/vispy_cus/vispy/vispy/visuals/visual.py\", line 432, in draw\n",
      "    if self._prepare_draw(view=self) is False:\n",
      "  File \"/Users/laic/Work/pydev/vispy_cus/vispy/vispy/visuals/mesh.py\", line 380, in _prepare_draw\n",
      "    if self._update_data() is False:\n",
      "  File \"/Users/laic/Work/pydev/vispy_cus/vispy/vispy/visuals/mesh.py\", line 306, in _update_data\n",
      "    v = md.get_vertices(indexed='faces')\n",
      "  File \"/Users/laic/Work/pydev/vispy_cus/vispy/vispy/geometry/meshdata.py\", line 195, in get_vertices\n",
      "    self._vertices[self.get_faces()]\n",
      "IndexError: arrays used as indices must be of integer (or boolean) type\n",
      "ERROR: Invoking <bound method SceneCanvas.on_draw of <ctree_view (PyQt5) at 0x16526b390>> for DrawEvent\n",
      "ERROR: Invoking <bound method SceneCanvas.on_draw of <ctree_view (PyQt5) at 0x16526b390>> repeat 2\n"
     ]
    }
   ],
   "source": [
    "treeview.show()"
   ]
  },
  {
   "cell_type": "code",
   "execution_count": 39,
   "metadata": {
    "ExecuteTime": {
     "end_time": "2018-06-06T23:01:05.907536Z",
     "start_time": "2018-06-06T23:01:05.832103Z"
    }
   },
   "outputs": [],
   "source": [
    "corview = correlogram_view(fs=prb.fs)"
   ]
  },
  {
   "cell_type": "code",
   "execution_count": 40,
   "metadata": {
    "ExecuteTime": {
     "end_time": "2018-06-06T23:01:10.112927Z",
     "start_time": "2018-06-06T23:01:10.038276Z"
    },
    "scrolled": true
   },
   "outputs": [
    {
     "ename": "AssertionError",
     "evalue": "",
     "output_type": "error",
     "traceback": [
      "\u001b[0;31m---------------------------------------------------------------------------\u001b[0m",
      "\u001b[0;31mAssertionError\u001b[0m                            Traceback (most recent call last)",
      "\u001b[0;32m<ipython-input-40-14462d2bbbcd>\u001b[0m in \u001b[0;36m<module>\u001b[0;34m\u001b[0m\n\u001b[0;32m----> 1\u001b[0;31m \u001b[0mcorview\u001b[0m\u001b[0;34m.\u001b[0m\u001b[0mset_data\u001b[0m\u001b[0;34m(\u001b[0m\u001b[0mclu\u001b[0m\u001b[0;34m[\u001b[0m\u001b[0;36m0\u001b[0m\u001b[0;34m]\u001b[0m\u001b[0;34m,\u001b[0m \u001b[0mmua\u001b[0m\u001b[0;34m.\u001b[0m\u001b[0mpivotal_pos\u001b[0m\u001b[0;34m[\u001b[0m\u001b[0;36m0\u001b[0m\u001b[0;34m]\u001b[0m\u001b[0;34m)\u001b[0m\u001b[0;34m\u001b[0m\u001b[0;34m\u001b[0m\u001b[0m\n\u001b[0m",
      "\u001b[0;32m~/Work/pydev/spiketag/spiketag/view/correlogram_view.py\u001b[0m in \u001b[0;36mset_data\u001b[0;34m(self, clu, spk_times)\u001b[0m\n\u001b[1;32m     53\u001b[0m \u001b[0;34m\u001b[0m\u001b[0m\n\u001b[1;32m     54\u001b[0m         \u001b[0;31m# Not rendering immedially now, waiting for shortcut\u001b[0m\u001b[0;34m\u001b[0m\u001b[0;34m\u001b[0m\u001b[0;34m\u001b[0m\u001b[0m\n\u001b[0;32m---> 55\u001b[0;31m         \u001b[0mself\u001b[0m\u001b[0;34m.\u001b[0m\u001b[0m_render\u001b[0m\u001b[0;34m(\u001b[0m\u001b[0;34m)\u001b[0m\u001b[0;34m\u001b[0m\u001b[0;34m\u001b[0m\u001b[0m\n\u001b[0m\u001b[1;32m     56\u001b[0m \u001b[0;34m\u001b[0m\u001b[0m\n\u001b[1;32m     57\u001b[0m         \u001b[0;34m@\u001b[0m\u001b[0mself\u001b[0m\u001b[0;34m.\u001b[0m\u001b[0m_clu\u001b[0m\u001b[0;34m.\u001b[0m\u001b[0mconnect\u001b[0m\u001b[0;34m\u001b[0m\u001b[0;34m\u001b[0m\u001b[0m\n",
      "\u001b[0;32m~/Work/pydev/spiketag/spiketag/view/correlogram_view.py\u001b[0m in \u001b[0;36m_render\u001b[0;34m(self)\u001b[0m\n\u001b[1;32m     94\u001b[0m         \u001b[0mself\u001b[0m\u001b[0;34m.\u001b[0m\u001b[0mgrid\u001b[0m\u001b[0;34m.\u001b[0m\u001b[0mshape\u001b[0m \u001b[0;34m=\u001b[0m \u001b[0;34m(\u001b[0m\u001b[0mself\u001b[0m\u001b[0;34m.\u001b[0m\u001b[0m_clu\u001b[0m\u001b[0;34m.\u001b[0m\u001b[0mnclu\u001b[0m\u001b[0;34m,\u001b[0m\u001b[0mself\u001b[0m\u001b[0;34m.\u001b[0m\u001b[0m_clu\u001b[0m\u001b[0;34m.\u001b[0m\u001b[0mnclu\u001b[0m\u001b[0;34m)\u001b[0m\u001b[0;34m\u001b[0m\u001b[0;34m\u001b[0m\u001b[0m\n\u001b[1;32m     95\u001b[0m \u001b[0;34m\u001b[0m\u001b[0m\n\u001b[0;32m---> 96\u001b[0;31m         \u001b[0mhists\u001b[0m \u001b[0;34m=\u001b[0m \u001b[0mself\u001b[0m\u001b[0;34m.\u001b[0m\u001b[0m_correlogram\u001b[0m\u001b[0;34m(\u001b[0m\u001b[0;34m)\u001b[0m\u001b[0;34m\u001b[0m\u001b[0;34m\u001b[0m\u001b[0m\n\u001b[0m\u001b[1;32m     97\u001b[0m \u001b[0;34m\u001b[0m\u001b[0m\n\u001b[1;32m     98\u001b[0m         \u001b[0;31m# begin draw\u001b[0m\u001b[0;34m\u001b[0m\u001b[0;34m\u001b[0m\u001b[0;34m\u001b[0m\u001b[0m\n",
      "\u001b[0;32m~/Work/pydev/spiketag/spiketag/view/correlogram_view.py\u001b[0m in \u001b[0;36m_correlogram\u001b[0;34m(self)\u001b[0m\n\u001b[1;32m     71\u001b[0m \u001b[0;34m\u001b[0m\u001b[0m\n\u001b[1;32m     72\u001b[0m     \u001b[0;32mdef\u001b[0m \u001b[0m_correlogram\u001b[0m\u001b[0;34m(\u001b[0m\u001b[0mself\u001b[0m\u001b[0;34m)\u001b[0m\u001b[0;34m:\u001b[0m\u001b[0;34m\u001b[0m\u001b[0;34m\u001b[0m\u001b[0m\n\u001b[0;32m---> 73\u001b[0;31m         \u001b[0;32mreturn\u001b[0m \u001b[0mself\u001b[0m\u001b[0;34m.\u001b[0m\u001b[0m_correlate\u001b[0m\u001b[0;34m(\u001b[0m\u001b[0mself\u001b[0m\u001b[0;34m.\u001b[0m\u001b[0m_spike_time\u001b[0m\u001b[0;34m,\u001b[0m \u001b[0mself\u001b[0m\u001b[0;34m.\u001b[0m\u001b[0m_clu\u001b[0m\u001b[0;34m.\u001b[0m\u001b[0mmembership\u001b[0m\u001b[0;34m,\u001b[0m \u001b[0mself\u001b[0m\u001b[0;34m.\u001b[0m\u001b[0m_clu\u001b[0m\u001b[0;34m.\u001b[0m\u001b[0mindex_id\u001b[0m\u001b[0;34m,\u001b[0m \u001b[0mwindow_bins\u001b[0m\u001b[0;34m=\u001b[0m\u001b[0mself\u001b[0m\u001b[0;34m.\u001b[0m\u001b[0m_window_bins\u001b[0m\u001b[0;34m,\u001b[0m \u001b[0mbin_size\u001b[0m\u001b[0;34m=\u001b[0m\u001b[0mself\u001b[0m\u001b[0;34m.\u001b[0m\u001b[0m_bin_size\u001b[0m\u001b[0;34m)\u001b[0m\u001b[0;34m\u001b[0m\u001b[0;34m\u001b[0m\u001b[0m\n\u001b[0m\u001b[1;32m     74\u001b[0m \u001b[0;34m\u001b[0m\u001b[0m\n\u001b[1;32m     75\u001b[0m     \u001b[0;32mdef\u001b[0m \u001b[0m_pair_clusters\u001b[0m\u001b[0;34m(\u001b[0m\u001b[0mself\u001b[0m\u001b[0;34m)\u001b[0m\u001b[0;34m:\u001b[0m\u001b[0;34m\u001b[0m\u001b[0;34m\u001b[0m\u001b[0m\n",
      "\u001b[0;32m~/Work/pydev/spiketag/spiketag/core/correlate.py\u001b[0m in \u001b[0;36mcorrelate\u001b[0;34m(spike_time, membership, cluster_ids, fs, window_bins, bin_size)\u001b[0m\n\u001b[1;32m     27\u001b[0m     \u001b[0;32massert\u001b[0m \u001b[0mwindow_bins\u001b[0m \u001b[0;34m%\u001b[0m \u001b[0;36m2\u001b[0m \u001b[0;34m==\u001b[0m \u001b[0;36m0\u001b[0m\u001b[0;34m\u001b[0m\u001b[0;34m\u001b[0m\u001b[0m\n\u001b[1;32m     28\u001b[0m     \u001b[0;32massert\u001b[0m \u001b[0mfs\u001b[0m \u001b[0;34m>\u001b[0m \u001b[0;36m0\u001b[0m\u001b[0;34m\u001b[0m\u001b[0;34m\u001b[0m\u001b[0m\n\u001b[0;32m---> 29\u001b[0;31m     \u001b[0;32massert\u001b[0m \u001b[0mspike_time\u001b[0m\u001b[0;34m.\u001b[0m\u001b[0msize\u001b[0m \u001b[0;34m==\u001b[0m \u001b[0mmembership\u001b[0m\u001b[0;34m.\u001b[0m\u001b[0msize\u001b[0m\u001b[0;34m\u001b[0m\u001b[0;34m\u001b[0m\u001b[0m\n\u001b[0m\u001b[1;32m     30\u001b[0m \u001b[0;34m\u001b[0m\u001b[0m\n\u001b[1;32m     31\u001b[0m     \u001b[0;31m# the offset within the array\u001b[0m\u001b[0;34m\u001b[0m\u001b[0;34m\u001b[0m\u001b[0;34m\u001b[0m\u001b[0m\n",
      "\u001b[0;31mAssertionError\u001b[0m: "
     ]
    }
   ],
   "source": [
    "corview.set_data(clu[0], mua.pivotal_pos[0])"
   ]
  },
  {
   "cell_type": "code",
   "execution_count": 44,
   "metadata": {
    "ExecuteTime": {
     "end_time": "2018-06-06T23:01:10.908531Z",
     "start_time": "2018-06-06T23:01:10.795976Z"
    }
   },
   "outputs": [],
   "source": [
    "corview.show()"
   ]
  },
  {
   "cell_type": "code",
   "execution_count": null,
   "metadata": {},
   "outputs": [],
   "source": []
  },
  {
   "cell_type": "code",
   "execution_count": 54,
   "metadata": {
    "ExecuteTime": {
     "end_time": "2018-06-06T23:01:23.624837Z",
     "start_time": "2018-06-06T23:01:23.171489Z"
    }
   },
   "outputs": [],
   "source": [
    "traceview = trace_view(fs=prb.fs, spklen=19)"
   ]
  },
  {
   "cell_type": "code",
   "execution_count": 55,
   "metadata": {
    "ExecuteTime": {
     "end_time": "2018-06-06T23:01:27.938103Z",
     "start_time": "2018-06-06T23:01:27.839190Z"
    }
   },
   "outputs": [],
   "source": [
    "traceview.set_data(mua.data, clu[0], mua.pivotal_pos[0])"
   ]
  },
  {
   "cell_type": "code",
   "execution_count": 56,
   "metadata": {
    "ExecuteTime": {
     "end_time": "2018-06-06T23:01:29.298225Z",
     "start_time": "2018-06-06T23:01:28.576548Z"
    }
   },
   "outputs": [],
   "source": [
    "traceview.show()"
   ]
  },
  {
   "cell_type": "code",
   "execution_count": null,
   "metadata": {},
   "outputs": [],
   "source": []
  },
  {
   "cell_type": "markdown",
   "metadata": {},
   "source": [
    "## Test clu function"
   ]
  },
  {
   "cell_type": "code",
   "execution_count": 39,
   "metadata": {},
   "outputs": [],
   "source": [
    "_clu = clu[0]"
   ]
  },
  {
   "cell_type": "code",
   "execution_count": 43,
   "metadata": {},
   "outputs": [],
   "source": [
    "_clu.merge([1,2])"
   ]
  },
  {
   "cell_type": "code",
   "execution_count": 100,
   "metadata": {},
   "outputs": [
    {
     "data": {
      "text/plain": [
       "array([ 0,  1,  5,  8, 14, 15, 19, 20, 27, 29, 32])"
      ]
     },
     "execution_count": 100,
     "metadata": {},
     "output_type": "execute_result"
    }
   ],
   "source": [
    "_clu.move({2:[0,1,2,3,4,5,6,7,8,9,10]}, 0)"
   ]
  },
  {
   "cell_type": "code",
   "execution_count": null,
   "metadata": {},
   "outputs": [],
   "source": []
  },
  {
   "cell_type": "code",
   "execution_count": null,
   "metadata": {},
   "outputs": [],
   "source": []
  },
  {
   "cell_type": "code",
   "execution_count": null,
   "metadata": {},
   "outputs": [],
   "source": []
  },
  {
   "cell_type": "code",
   "execution_count": null,
   "metadata": {},
   "outputs": [],
   "source": []
  },
  {
   "cell_type": "code",
   "execution_count": null,
   "metadata": {},
   "outputs": [],
   "source": []
  },
  {
   "cell_type": "code",
   "execution_count": null,
   "metadata": {},
   "outputs": [],
   "source": []
  },
  {
   "cell_type": "code",
   "execution_count": null,
   "metadata": {},
   "outputs": [],
   "source": []
  },
  {
   "cell_type": "code",
   "execution_count": null,
   "metadata": {},
   "outputs": [],
   "source": []
  },
  {
   "cell_type": "code",
   "execution_count": null,
   "metadata": {},
   "outputs": [],
   "source": []
  },
  {
   "cell_type": "markdown",
   "metadata": {},
   "source": [
    "## Unit test for QT5 Wrapper"
   ]
  },
  {
   "cell_type": "code",
   "execution_count": 5,
   "metadata": {
    "ExecuteTime": {
     "end_time": "2019-01-21T22:35:55.459656Z",
     "start_time": "2019-01-21T22:35:53.034126Z"
    },
    "scrolled": false
   },
   "outputs": [
    {
     "name": "stderr",
     "output_type": "stream",
     "text": [
      "/anaconda2/lib/python2.7/site-packages/numba/decorators.py:146: RuntimeWarning: Caching is not available when the 'parallel' target is in use. Caching is now being disabled to allow execution to continue.\n",
      "  warnings.warn(msg, RuntimeWarning)\n"
     ]
    }
   ],
   "source": [
    "from spiketag.mvc import MainModel, MainView"
   ]
  },
  {
   "cell_type": "code",
   "execution_count": 12,
   "metadata": {
    "ExecuteTime": {
     "end_time": "2019-01-21T22:36:42.462245Z",
     "start_time": "2019-01-21T22:36:41.928819Z"
    },
    "scrolled": false
   },
   "outputs": [
    {
     "name": "stderr",
     "output_type": "stream",
     "text": [
      "2019-01-21 17:36:41,977 - spiketag - INFO - load mua data\n",
      "2019-01-21 17:36:42,051 - spiketag - INFO - #############  load data  ###################\n",
      "2019-01-21 17:36:42,053 - spiketag - INFO - ./cell_0109.bin loaded, it contains: \n",
      "2019-01-21 17:36:42,054 - spiketag - INFO - 9280040 * 3 points (111360480 bytes) \n",
      "2019-01-21 17:36:42,055 - spiketag - INFO - 3 channels with sampling rate of 20000.0000 \n",
      "2019-01-21 17:36:42,057 - spiketag - INFO - 464.002 secs (7.733 mins) of data\n",
      "2019-01-21 17:36:42,058 - spiketag - INFO - #############################################\n",
      "2019-01-21 17:36:42,451 - spiketag - INFO - processing folder: ./\n",
      "2019-01-21 17:36:42,454 - spiketag - INFO - raw data have 9309 spks\n",
      "2019-01-21 17:36:42,455 - spiketag - INFO - ----------------success------------------\n",
      "2019-01-21 17:36:42,456 - spiketag - INFO -  \n"
     ]
    },
    {
     "name": "stdout",
     "output_type": "stream",
     "text": [
      "convert data from memmap to numpy with radix, elapsed time: 391.514062881 ms\n"
     ]
    }
   ],
   "source": [
    "model = MainModel('./cell_0109.bin', './cell_0109.spk.bin', prb, binary_radix=11)"
   ]
  },
  {
   "cell_type": "code",
   "execution_count": 13,
   "metadata": {
    "ExecuteTime": {
     "end_time": "2019-01-21T22:36:50.959225Z",
     "start_time": "2019-01-21T22:36:45.117640Z"
    },
    "scrolled": true
   },
   "outputs": [
    {
     "name": "stderr",
     "output_type": "stream",
     "text": [
      "2019-01-21 17:36:45,164 - spiketag - INFO - extract spikes from pivital meta data\n",
      "2019-01-21 17:36:45,166 - spiketag - INFO - mua.tospk()\n",
      "2019-01-21 17:36:46,160 - spiketag - INFO - group 0 delete 0.0%(0.0/9309.0) spks via cutoff\n",
      "2019-01-21 17:36:46,164 - spiketag - INFO - ----------------success------------------\n",
      "2019-01-21 17:36:46,165 - spiketag - INFO -  \n",
      "2019-01-21 17:36:46,167 - spiketag - INFO - grouping spike time\n",
      "2019-01-21 17:36:46,168 - spiketag - INFO - extrat features with weighted-pca\n",
      "2019-01-21 17:36:46,203 - spiketag - INFO - spk._tofet(group_id=0, method=weighted-pca, ncomp=6, whiten=False)\n",
      "2019-01-21 17:36:46,205 - spiketag - INFO - ----------------success------------------\n",
      "2019-01-21 17:36:46,206 - spiketag - INFO -  \n",
      "2019-01-21 17:36:46,207 - spiketag - INFO - clustering with hdbscan\n",
      "2019-01-21 17:36:46,209 - spiketag - INFO - clustering start with 24 cpus\n",
      "2019-01-21 17:36:50,931 - spiketag - INFO - clustering finished, used 4.71980500221 sec\n",
      "2019-01-21 17:36:50,943 - spiketag - INFO - Model.spktag is generated, nspk:9309\n"
     ]
    }
   ],
   "source": [
    "model.sort()"
   ]
  },
  {
   "cell_type": "code",
   "execution_count": 14,
   "metadata": {
    "ExecuteTime": {
     "end_time": "2019-01-21T22:36:55.386810Z",
     "start_time": "2019-01-21T22:36:50.965196Z"
    },
    "scrolled": false
   },
   "outputs": [],
   "source": [
    "view = MainView(prb)"
   ]
  },
  {
   "cell_type": "code",
   "execution_count": 22,
   "metadata": {
    "ExecuteTime": {
     "end_time": "2019-01-21T22:47:04.697334Z",
     "start_time": "2019-01-21T22:47:04.356079Z"
    },
    "scrolled": true
   },
   "outputs": [],
   "source": [
    "view.show()"
   ]
  },
  {
   "cell_type": "code",
   "execution_count": 16,
   "metadata": {
    "ExecuteTime": {
     "end_time": "2019-01-21T22:37:03.221622Z",
     "start_time": "2019-01-21T22:37:02.741216Z"
    },
    "scrolled": true
   },
   "outputs": [],
   "source": [
    "view.set_data(0, model.mua, model.spk[0], model.fet[0], model.clu[0])"
   ]
  },
  {
   "cell_type": "code",
   "execution_count": 33,
   "metadata": {
    "ExecuteTime": {
     "end_time": "2019-01-21T22:47:54.416810Z",
     "start_time": "2019-01-21T22:47:54.358938Z"
    }
   },
   "outputs": [
    {
     "data": {
      "text/plain": [
       "1"
      ]
     },
     "execution_count": 33,
     "metadata": {},
     "output_type": "execute_result"
    }
   ],
   "source": [
    "view.spkview.cluster_mouse_on"
   ]
  },
  {
   "cell_type": "code",
   "execution_count": null,
   "metadata": {},
   "outputs": [],
   "source": []
  },
  {
   "cell_type": "code",
   "execution_count": null,
   "metadata": {},
   "outputs": [],
   "source": []
  },
  {
   "cell_type": "code",
   "execution_count": null,
   "metadata": {},
   "outputs": [],
   "source": []
  },
  {
   "cell_type": "code",
   "execution_count": 23,
   "metadata": {
    "ExecuteTime": {
     "end_time": "2019-01-21T22:47:09.883714Z",
     "start_time": "2019-01-21T22:47:09.821900Z"
    },
    "scrolled": true
   },
   "outputs": [
    {
     "data": {
      "text/plain": [
       "{0: 7857,\n",
       " 1: 372,\n",
       " 2: 54,\n",
       " 3: 58,\n",
       " 4: 71,\n",
       " 5: 84,\n",
       " 6: 50,\n",
       " 7: 59,\n",
       " 8: 56,\n",
       " 9: 59,\n",
       " 10: 56,\n",
       " 11: 61,\n",
       " 12: 378,\n",
       " 13: 94}"
      ]
     },
     "execution_count": 23,
     "metadata": {},
     "output_type": "execute_result"
    }
   ],
   "source": [
    "model.clu[0].index_count"
   ]
  },
  {
   "cell_type": "code",
   "execution_count": 24,
   "metadata": {
    "ExecuteTime": {
     "end_time": "2019-01-21T22:47:11.835248Z",
     "start_time": "2019-01-21T22:47:11.775882Z"
    },
    "scrolled": true
   },
   "outputs": [
    {
     "data": {
      "text/plain": [
       "9309"
      ]
     },
     "execution_count": 24,
     "metadata": {},
     "output_type": "execute_result"
    }
   ],
   "source": [
    "model.clu[0].npts"
   ]
  },
  {
   "cell_type": "code",
   "execution_count": 25,
   "metadata": {
    "ExecuteTime": {
     "end_time": "2019-01-21T22:47:12.327979Z",
     "start_time": "2019-01-21T22:47:12.268673Z"
    }
   },
   "outputs": [
    {
     "data": {
      "text/plain": [
       "14"
      ]
     },
     "execution_count": 25,
     "metadata": {},
     "output_type": "execute_result"
    }
   ],
   "source": [
    "model.clu[0].nclu"
   ]
  },
  {
   "cell_type": "code",
   "execution_count": 26,
   "metadata": {
    "ExecuteTime": {
     "end_time": "2019-01-21T22:47:12.767257Z",
     "start_time": "2019-01-21T22:47:12.707560Z"
    },
    "scrolled": false
   },
   "outputs": [
    {
     "data": {
      "text/plain": [
       "'hdbscan'"
      ]
     },
     "execution_count": 26,
     "metadata": {},
     "output_type": "execute_result"
    }
   ],
   "source": [
    "model.clu[0]._method"
   ]
  },
  {
   "cell_type": "code",
   "execution_count": 27,
   "metadata": {
    "ExecuteTime": {
     "end_time": "2019-01-21T22:47:12.833809Z",
     "start_time": "2019-01-21T22:47:12.772132Z"
    }
   },
   "outputs": [
    {
     "data": {
      "text/plain": [
       "{'condensed_tree': array([(9309, 3883,  3.68506103, 1), (9309, 3877,  4.67542588, 1),\n",
       "        (9309, 8202,  4.68442154, 1), ..., (9332, 8880, 76.33922628, 1),\n",
       "        (9332, 7390, 76.33922628, 1), (9332, 8733, 76.33922628, 1)],\n",
       "       dtype=[('parent', '<i8'), ('child', '<i8'), ('lambda_val', '<f8'), ('child_size', '<i8')]),\n",
       " 'default_select_clusters': array([9310, 9314, 9315, 9316, 9318, 9320, 9324, 9325, 9326, 9329, 9330,\n",
       "        9332, 9333])}"
      ]
     },
     "execution_count": 27,
     "metadata": {},
     "output_type": "execute_result"
    }
   ],
   "source": [
    "model.clu[0]._extra_info"
   ]
  },
  {
   "cell_type": "code",
   "execution_count": 28,
   "metadata": {
    "ExecuteTime": {
     "end_time": "2019-01-21T22:47:13.203364Z",
     "start_time": "2019-01-21T22:47:13.142754Z"
    }
   },
   "outputs": [],
   "source": [
    "_labels = model.clu[0]._probmatrix.argmax(axis=1)"
   ]
  },
  {
   "cell_type": "code",
   "execution_count": 29,
   "metadata": {
    "ExecuteTime": {
     "end_time": "2019-01-21T22:47:13.655757Z",
     "start_time": "2019-01-21T22:47:13.597426Z"
    }
   },
   "outputs": [],
   "source": [
    "idx = np.where(model.clu[0]._probmatrix.max(axis=1) > 0.02)[0]"
   ]
  },
  {
   "cell_type": "code",
   "execution_count": 30,
   "metadata": {
    "ExecuteTime": {
     "end_time": "2019-01-21T22:47:14.748871Z",
     "start_time": "2019-01-21T22:47:14.691062Z"
    }
   },
   "outputs": [],
   "source": [
    "_labels = np.zeros((model.clu[0].npts,))\n",
    "_labels[idx] = model.clu[0]._probmatrix.argmax(axis=1)[idx] + 1"
   ]
  },
  {
   "cell_type": "code",
   "execution_count": 31,
   "metadata": {
    "ExecuteTime": {
     "end_time": "2019-01-21T22:47:15.285877Z",
     "start_time": "2019-01-21T22:47:15.066038Z"
    }
   },
   "outputs": [],
   "source": [
    "model.clu[0].fill(_labels)"
   ]
  },
  {
   "cell_type": "code",
   "execution_count": 31,
   "metadata": {
    "ExecuteTime": {
     "end_time": "2018-12-30T07:41:10.380552Z",
     "start_time": "2018-12-30T07:41:10.322329Z"
    }
   },
   "outputs": [
    {
     "data": {
      "text/plain": [
       "(681,)"
      ]
     },
     "execution_count": 31,
     "metadata": {},
     "output_type": "execute_result"
    }
   ],
   "source": [
    "model.clu[0].selectlist.shape"
   ]
  },
  {
   "cell_type": "code",
   "execution_count": null,
   "metadata": {},
   "outputs": [],
   "source": []
  },
  {
   "cell_type": "code",
   "execution_count": null,
   "metadata": {},
   "outputs": [],
   "source": []
  },
  {
   "cell_type": "code",
   "execution_count": null,
   "metadata": {},
   "outputs": [],
   "source": []
  },
  {
   "cell_type": "code",
   "execution_count": null,
   "metadata": {},
   "outputs": [],
   "source": []
  },
  {
   "cell_type": "markdown",
   "metadata": {},
   "source": [
    "## dpgmm"
   ]
  },
  {
   "cell_type": "code",
   "execution_count": 68,
   "metadata": {
    "ExecuteTime": {
     "end_time": "2018-12-30T08:37:08.011925Z",
     "start_time": "2018-12-30T08:37:07.959006Z"
    }
   },
   "outputs": [],
   "source": [
    "from sklearn.mixture import BayesianGaussianMixture as DPGMM\n",
    "dpgmm = DPGMM(\n",
    "        n_components=15, covariance_type='full', weight_concentration_prior=1e-3,\n",
    "        weight_concentration_prior_type='dirichlet_process', init_params=\"kmeans\",\n",
    "        max_iter=500, random_state=None, tol=0.05, verbose=True) # init can be \"kmeans\" or \"random\"\n"
   ]
  },
  {
   "cell_type": "code",
   "execution_count": 69,
   "metadata": {
    "ExecuteTime": {
     "end_time": "2018-12-30T08:37:16.469266Z",
     "start_time": "2018-12-30T08:37:08.696250Z"
    },
    "scrolled": true
   },
   "outputs": [
    {
     "name": "stdout",
     "output_type": "stream",
     "text": [
      "Initialization 0\n",
      "  Iteration 10\n",
      "  Iteration 20\n",
      "  Iteration 30\n",
      "  Iteration 40\n",
      "  Iteration 50\n",
      "  Iteration 60\n",
      "  Iteration 70\n",
      "  Iteration 80\n",
      "  Iteration 90\n",
      "  Iteration 100\n",
      "  Iteration 110\n",
      "  Iteration 120\n",
      "  Iteration 130\n",
      "Initialization converged: True\n"
     ]
    }
   ],
   "source": [
    "dpgmm.fit(model.fet[0])\n",
    "labels = dpgmm.predict(model.fet[0])"
   ]
  },
  {
   "cell_type": "code",
   "execution_count": 70,
   "metadata": {
    "ExecuteTime": {
     "end_time": "2018-12-30T08:37:48.053940Z",
     "start_time": "2018-12-30T08:37:47.886008Z"
    }
   },
   "outputs": [],
   "source": [
    "model.clu[0].fill(labels)"
   ]
  },
  {
   "cell_type": "code",
   "execution_count": 72,
   "metadata": {},
   "outputs": [
    {
     "data": {
      "text/plain": [
       "(700,)"
      ]
     },
     "execution_count": 72,
     "metadata": {},
     "output_type": "execute_result"
    }
   ],
   "source": [
    "model.clu[0].selectlist.shape"
   ]
  },
  {
   "cell_type": "markdown",
   "metadata": {},
   "source": [
    "## hdbscan"
   ]
  },
  {
   "cell_type": "code",
   "execution_count": 16,
   "metadata": {
    "ExecuteTime": {
     "end_time": "2018-12-30T07:48:24.865783Z",
     "start_time": "2018-12-30T07:48:24.812343Z"
    }
   },
   "outputs": [],
   "source": [
    "import hdbscan"
   ]
  },
  {
   "cell_type": "code",
   "execution_count": 126,
   "metadata": {
    "ExecuteTime": {
     "end_time": "2018-12-30T08:16:52.112259Z",
     "start_time": "2018-12-30T08:16:50.836284Z"
    }
   },
   "outputs": [],
   "source": [
    "hdbcluster = hdbscan.HDBSCAN(min_samples=10,\n",
    "             min_cluster_size=25, \n",
    "             leaf_size=40,\n",
    "#              alpha=10.5,\n",
    "             gen_min_span_tree=False, \n",
    "             algorithm='boruvka_kdtree',\n",
    "             core_dist_n_jobs=1,\n",
    "             prediction_data=True,\n",
    "             cluster_selection_method='leaf') #leaf         \n",
    "clusterer = hdbcluster.fit(model.fet[0].astype(np.float64))\n",
    "probmatrix = hdbscan.all_points_membership_vectors(clusterer)\n",
    "labels = clusterer.labels_"
   ]
  },
  {
   "cell_type": "code",
   "execution_count": 63,
   "metadata": {
    "ExecuteTime": {
     "end_time": "2018-12-30T08:08:36.519794Z",
     "start_time": "2018-12-30T08:08:36.464759Z"
    }
   },
   "outputs": [],
   "source": [
    "view.show()"
   ]
  },
  {
   "cell_type": "code",
   "execution_count": 23,
   "metadata": {
    "ExecuteTime": {
     "end_time": "2018-12-30T07:50:47.610227Z",
     "start_time": "2018-12-30T07:50:47.558418Z"
    }
   },
   "outputs": [
    {
     "data": {
      "text/plain": [
       "array([-1,  4, -1, ..., -1, -1, -1])"
      ]
     },
     "execution_count": 23,
     "metadata": {},
     "output_type": "execute_result"
    }
   ],
   "source": [
    "labels"
   ]
  },
  {
   "cell_type": "code",
   "execution_count": 127,
   "metadata": {
    "ExecuteTime": {
     "end_time": "2018-12-30T08:16:52.751701Z",
     "start_time": "2018-12-30T08:16:52.601531Z"
    }
   },
   "outputs": [],
   "source": [
    "model.clu[0].fill(clusterer.labels_+1)"
   ]
  },
  {
   "cell_type": "code",
   "execution_count": 134,
   "metadata": {
    "ExecuteTime": {
     "end_time": "2018-12-30T08:19:31.915023Z",
     "start_time": "2018-12-30T08:19:31.863489Z"
    }
   },
   "outputs": [],
   "source": [
    "idx = np.where(probmatrix.max(axis=1) > 0.05)[0]"
   ]
  },
  {
   "cell_type": "code",
   "execution_count": 135,
   "metadata": {
    "ExecuteTime": {
     "end_time": "2018-12-30T08:19:32.675950Z",
     "start_time": "2018-12-30T08:19:32.618695Z"
    }
   },
   "outputs": [],
   "source": [
    "_labels = np.zeros((model.clu[0].npts,))\n",
    "_labels[idx] = probmatrix.argmax(axis=1)[idx] + 1"
   ]
  },
  {
   "cell_type": "code",
   "execution_count": 136,
   "metadata": {
    "ExecuteTime": {
     "end_time": "2018-12-30T08:19:33.469090Z",
     "start_time": "2018-12-30T08:19:33.410051Z"
    },
    "scrolled": true
   },
   "outputs": [
    {
     "data": {
      "text/plain": [
       "array([5., 3., 3., ..., 3., 3., 5.])"
      ]
     },
     "execution_count": 136,
     "metadata": {},
     "output_type": "execute_result"
    }
   ],
   "source": [
    "_labels"
   ]
  },
  {
   "cell_type": "code",
   "execution_count": 137,
   "metadata": {
    "ExecuteTime": {
     "end_time": "2018-12-30T08:19:34.621078Z",
     "start_time": "2018-12-30T08:19:34.470204Z"
    }
   },
   "outputs": [],
   "source": [
    "model.clu[0].fill(_labels)"
   ]
  },
  {
   "cell_type": "code",
   "execution_count": 185,
   "metadata": {
    "ExecuteTime": {
     "end_time": "2018-12-30T08:38:18.449905Z",
     "start_time": "2018-12-30T08:38:18.389476Z"
    }
   },
   "outputs": [
    {
     "data": {
      "text/plain": [
       "(705,)"
      ]
     },
     "execution_count": 185,
     "metadata": {},
     "output_type": "execute_result"
    }
   ],
   "source": [
    "model.clu[0].selectlist.shape"
   ]
  },
  {
   "cell_type": "code",
   "execution_count": null,
   "metadata": {},
   "outputs": [],
   "source": []
  },
  {
   "cell_type": "code",
   "execution_count": null,
   "metadata": {},
   "outputs": [],
   "source": []
  },
  {
   "cell_type": "code",
   "execution_count": null,
   "metadata": {},
   "outputs": [],
   "source": []
  },
  {
   "cell_type": "code",
   "execution_count": null,
   "metadata": {},
   "outputs": [],
   "source": []
  },
  {
   "cell_type": "code",
   "execution_count": null,
   "metadata": {},
   "outputs": [],
   "source": []
  },
  {
   "cell_type": "code",
   "execution_count": null,
   "metadata": {},
   "outputs": [],
   "source": []
  },
  {
   "cell_type": "code",
   "execution_count": 24,
   "metadata": {},
   "outputs": [],
   "source": [
    "ctree = model.clu[0]._extra_info['condensed_tree']"
   ]
  },
  {
   "cell_type": "code",
   "execution_count": 27,
   "metadata": {
    "scrolled": false
   },
   "outputs": [
    {
     "data": {
      "text/plain": [
       "dtype([('parent', '<i8'), ('child', '<i8'), ('lambda_val', '<f8'), ('child_size', '<i8')])"
      ]
     },
     "execution_count": 27,
     "metadata": {},
     "output_type": "execute_result"
    }
   ],
   "source": [
    "ctree.dtype"
   ]
  },
  {
   "cell_type": "code",
   "execution_count": 117,
   "metadata": {},
   "outputs": [
    {
     "data": {
      "text/plain": [
       "12"
      ]
     },
     "execution_count": 117,
     "metadata": {},
     "output_type": "execute_result"
    }
   ],
   "source": [
    "ctree['parent']"
   ]
  },
  {
   "cell_type": "code",
   "execution_count": 45,
   "metadata": {},
   "outputs": [
    {
     "data": {
      "text/plain": [
       "(446,)"
      ]
     },
     "execution_count": 45,
     "metadata": {},
     "output_type": "execute_result"
    }
   ],
   "source": [
    "targeted = model.clu[0][2]\n",
    "targeted.shape"
   ]
  },
  {
   "cell_type": "code",
   "execution_count": 112,
   "metadata": {
    "scrolled": true
   },
   "outputs": [
    {
     "data": {
      "text/plain": [
       "array([9309, 9310, 9311, 9312, 9313, 9314, 9315, 9316, 9317, 9318, 9319,\n",
       "       9321])"
      ]
     },
     "execution_count": 112,
     "metadata": {},
     "output_type": "execute_result"
    }
   ],
   "source": [
    "np.unique(ctree[targeted]['parent'])"
   ]
  },
  {
   "cell_type": "code",
   "execution_count": 108,
   "metadata": {
    "scrolled": true
   },
   "outputs": [
    {
     "ename": "AssertionError",
     "evalue": "9312 should in [0 1 2 3 4]",
     "output_type": "error",
     "traceback": [
      "\u001b[0;31m---------------------------------------------------------------------------\u001b[0m",
      "\u001b[0;31mAssertionError\u001b[0m                            Traceback (most recent call last)",
      "\u001b[0;32m<ipython-input-108-bbe80db6708d>\u001b[0m in \u001b[0;36m<module>\u001b[0;34m\u001b[0m\n\u001b[0;32m----> 1\u001b[0;31m \u001b[0mmodel\u001b[0m\u001b[0;34m.\u001b[0m\u001b[0mclu\u001b[0m\u001b[0;34m[\u001b[0m\u001b[0;36m0\u001b[0m\u001b[0;34m]\u001b[0m\u001b[0;34m[\u001b[0m\u001b[0;36m9312\u001b[0m\u001b[0;34m]\u001b[0m\u001b[0;34m\u001b[0m\u001b[0;34m\u001b[0m\u001b[0m\n\u001b[0m",
      "\u001b[0;32m~/Work/pydev/spiketag/spiketag/base/CLU.py\u001b[0m in \u001b[0;36m__getitem__\u001b[0;34m(self, i)\u001b[0m\n\u001b[1;32m    122\u001b[0m \u001b[0;34m\u001b[0m\u001b[0m\n\u001b[1;32m    123\u001b[0m     \u001b[0;32mdef\u001b[0m \u001b[0m__getitem__\u001b[0m\u001b[0;34m(\u001b[0m\u001b[0mself\u001b[0m\u001b[0;34m,\u001b[0m \u001b[0mi\u001b[0m\u001b[0;34m)\u001b[0m\u001b[0;34m:\u001b[0m\u001b[0;34m\u001b[0m\u001b[0;34m\u001b[0m\u001b[0m\n\u001b[0;32m--> 124\u001b[0;31m         \u001b[0;32massert\u001b[0m \u001b[0mi\u001b[0m \u001b[0;32min\u001b[0m \u001b[0mself\u001b[0m\u001b[0;34m.\u001b[0m\u001b[0mindex_id\u001b[0m\u001b[0;34m,\u001b[0m \u001b[0;34m\"{} should in {}\"\u001b[0m\u001b[0;34m.\u001b[0m\u001b[0mformat\u001b[0m\u001b[0;34m(\u001b[0m\u001b[0mi\u001b[0m\u001b[0;34m,\u001b[0m \u001b[0mself\u001b[0m\u001b[0;34m.\u001b[0m\u001b[0mindex_id\u001b[0m\u001b[0;34m)\u001b[0m\u001b[0;34m\u001b[0m\u001b[0;34m\u001b[0m\u001b[0m\n\u001b[0m\u001b[1;32m    125\u001b[0m         \u001b[0;32mreturn\u001b[0m \u001b[0mself\u001b[0m\u001b[0;34m.\u001b[0m\u001b[0mindex\u001b[0m\u001b[0;34m[\u001b[0m\u001b[0mi\u001b[0m\u001b[0;34m]\u001b[0m\u001b[0;34m\u001b[0m\u001b[0;34m\u001b[0m\u001b[0m\n\u001b[1;32m    126\u001b[0m \u001b[0;34m\u001b[0m\u001b[0m\n",
      "\u001b[0;31mAssertionError\u001b[0m: 9312 should in [0 1 2 3 4]"
     ]
    }
   ],
   "source": [
    "model.clu[0][9312]"
   ]
  },
  {
   "cell_type": "code",
   "execution_count": 125,
   "metadata": {},
   "outputs": [
    {
     "data": {
      "text/plain": [
       "array([(9314, 9316, 27.34693829, 23)],\n",
       "      dtype=[('parent', '<i8'), ('child', '<i8'), ('lambda_val', '<f8'), ('child_size', '<i8')])"
      ]
     },
     "execution_count": 125,
     "metadata": {},
     "output_type": "execute_result"
    }
   ],
   "source": [
    "ctree[ctree['child']==9316]"
   ]
  },
  {
   "cell_type": "code",
   "execution_count": 93,
   "metadata": {},
   "outputs": [
    {
     "data": {
      "text/plain": [
       "array([9310, 9312, 9314, 9315])"
      ]
     },
     "execution_count": 93,
     "metadata": {},
     "output_type": "execute_result"
    }
   ],
   "source": [
    "view.treeview._select_clusters"
   ]
  },
  {
   "cell_type": "code",
   "execution_count": 96,
   "metadata": {},
   "outputs": [
    {
     "data": {
      "text/plain": [
       "array([(9309, 9310,  8.59999543,  370), (9309, 9311,  8.59999543, 8724),\n",
       "       (9311, 9312, 17.69651766,  446), (9311, 9313, 17.69651766, 5921),\n",
       "       (9313, 9314, 24.1508309 , 2857), (9313, 9315, 24.1508309 ,   52),\n",
       "       (9314, 9316, 27.34693829,   23), (9314, 9317, 27.34693829, 1743),\n",
       "       (9317, 9318, 30.26568792,  985), (9317, 9319, 30.26568792,   66),\n",
       "       (9318, 9320, 38.22736817,   18), (9318, 9321, 38.22736817,  210)],\n",
       "      dtype=[('parent', '<i8'), ('child', '<i8'), ('lambda_val', '<f8'), ('child_size', '<i8')])"
      ]
     },
     "execution_count": 96,
     "metadata": {},
     "output_type": "execute_result"
    }
   ],
   "source": [
    "view.treeview._clu_tree"
   ]
  },
  {
   "cell_type": "code",
   "execution_count": 102,
   "metadata": {},
   "outputs": [
    {
     "data": {
      "text/plain": [
       "array([9310, 9312, 9314, 9315])"
      ]
     },
     "execution_count": 102,
     "metadata": {},
     "output_type": "execute_result"
    }
   ],
   "source": [
    "view.treeview._select_clusters"
   ]
  },
  {
   "cell_type": "code",
   "execution_count": 54,
   "metadata": {},
   "outputs": [
    {
     "data": {
      "text/plain": [
       "array([3877, 2830, 3285, 8905, 4111, 6607, 3473, 4678, 3453, 3411, 5796,\n",
       "       8657, 5925, 8382, 6507, 5558, 7185, 8915, 4960, 7624, 4122, 4476,\n",
       "       7117, 7730, 6609, 6036, 6035, 3288, 4654, 7915, 5486, 5149, 5752,\n",
       "       6644,  194, 7107, 5160, 2882, 8906, 7331, 4823, 3505,  270, 1384,\n",
       "       4886, 3219,  881, 8212, 6001, 5877, 3432, 2893, 8087, 2020,  980,\n",
       "       4986, 5728, 8125, 8477, 1150, 8086,  863, 1807, 3779, 5628, 1711,\n",
       "       1618, 7571, 3373, 4489, 7457, 8130, 2723, 3129, 8137, 8143, 3110,\n",
       "       9101, 8892, 8627, 1225, 1806, 7935, 2787, 4321, 1040, 7822, 6229,\n",
       "       7389, 6642, 5591, 6436, 2347, 3554, 2298, 4849, 2653, 2354, 7348,\n",
       "       6501, 9292,  275, 8342,  387, 6834, 9244, 6066, 8887, 4328, 9260,\n",
       "       9002, 1603, 6562, 3468, 1647, 3888, 8197, 2105, 8285, 4254, 2770,\n",
       "        962, 8038, 5120, 9133,  732, 3721, 3659, 3269,  657, 6266, 2554,\n",
       "       5783,  731, 7817, 7988, 1050,  901, 2793, 7258, 4801, 4778,  283,\n",
       "        817,  768, 1425, 2992, 5505, 5452, 5657, 6021, 7606, 6288,  697,\n",
       "       9037, 1868, 4958, 2734, 7986, 6223, 5298,  530,  442, 1725, 6558,\n",
       "       1757,  392, 1383, 4091, 7783, 8455, 7622, 6801, 7809, 1675,  350,\n",
       "       4290, 2828, 7295,  645, 5619, 4995, 2927, 1788, 3401,  739,  272,\n",
       "       2370, 3561, 6416, 6261,  388, 5735, 4370, 2004, 7814, 3465, 1412,\n",
       "       2923, 6623, 2446, 5942, 6708, 1414, 1095, 4464, 6043, 1921, 2824,\n",
       "       7471,  830, 7525,  798, 9249, 6653, 1366,  844, 1395, 6071, 7166,\n",
       "       1777, 5138, 2127,  674, 2494, 1497, 6069, 3170,  176, 4963, 8326,\n",
       "       1373, 8708, 1306, 1404, 1014, 7456, 7266, 3149,  335, 1433, 9251,\n",
       "       1566, 4978, 7923, 1013,  478,  434,  835, 2025,  345, 2499, 1522,\n",
       "       9203, 3229, 8344, 6296, 2744,   48, 5164, 8289, 1257, 7514,  101,\n",
       "       2664, 2120,  106, 3144, 8585, 9027, 1296, 2972, 1157, 3298, 2610,\n",
       "       8035, 7672, 1827, 2279, 4459, 5123,  788, 4214, 7086, 2330,  981,\n",
       "       1333, 6216, 7960, 4319, 9055, 4505, 1036, 1846, 2329, 2877,  675,\n",
       "       7370, 8563, 6270,  382, 8505, 5202, 3061, 7527,  174, 9174,  477,\n",
       "       6068, 2869,   92, 1303, 7509,  396,  108, 6341, 6241, 3723, 6203,\n",
       "       5977, 7104,  118, 3137, 1553, 2361, 9077, 4640, 9171, 6758, 7820,\n",
       "       7151, 2226, 7301,  201, 1238, 1583, 5258,  277, 5165, 1434, 5839,\n",
       "        831, 1451, 6179, 4256, 2439,  461, 4249, 1202, 8932, 8814,  580,\n",
       "       9188, 7702, 4780, 5262, 1153, 3699, 5891, 8911,   97, 3397, 8177,\n",
       "       2304,  871,  403, 8091, 5913, 2969, 8351, 1094, 5950, 3573,   42,\n",
       "       8098, 3006, 7568, 1346, 4993, 7750, 7226, 6014, 6854, 7356, 8254,\n",
       "       3962, 6835, 8565, 6438, 5432, 4055,  828,  813, 2813, 5578, 2743,\n",
       "       1537, 4418, 8022,  423, 1144, 7430, 1440, 3148, 2934, 8876, 1917,\n",
       "       6631,  267, 9301, 4720, 7801, 2804, 3437, 5901, 2546, 9275, 6428,\n",
       "       3960, 4269, 8698, 1267, 6594, 4645, 5809, 8660, 7508, 1380, 8246,\n",
       "       4785, 5300, 7064, 5656, 5973, 8175, 7900, 7399,  669,  437, 8880,\n",
       "       4264, 7464, 1091, 7390, 8310, 1748])"
      ]
     },
     "execution_count": 54,
     "metadata": {},
     "output_type": "execute_result"
    }
   ],
   "source": [
    "ctree['child'][targeted]"
   ]
  },
  {
   "cell_type": "code",
   "execution_count": 79,
   "metadata": {
    "scrolled": false
   },
   "outputs": [
    {
     "data": {
      "text/plain": [
       "array([(9309, 9310,  8.59999543,  370), (9309, 9311,  8.59999543, 8724),\n",
       "       (9311, 9312, 17.69651766,  446), (9311, 9313, 17.69651766, 5921),\n",
       "       (9313, 9314, 24.1508309 , 2857), (9313, 9315, 24.1508309 ,   52),\n",
       "       (9314, 9316, 27.34693829,   23), (9314, 9317, 27.34693829, 1743),\n",
       "       (9317, 9318, 30.26568792,  985), (9317, 9319, 30.26568792,   66),\n",
       "       (9318, 9320, 38.22736817,   18), (9318, 9321, 38.22736817,  210)],\n",
       "      dtype=[('parent', '<i8'), ('child', '<i8'), ('lambda_val', '<f8'), ('child_size', '<i8')])"
      ]
     },
     "execution_count": 79,
     "metadata": {},
     "output_type": "execute_result"
    }
   ],
   "source": [
    "ctree[ctree['child_size'] > 1]"
   ]
  },
  {
   "cell_type": "code",
   "execution_count": 46,
   "metadata": {},
   "outputs": [
    {
     "data": {
      "text/plain": [
       "array([ 3.76739517,  5.04050012,  5.06830131,  5.8088414 ,  5.81410217,\n",
       "        6.62878933,  6.98132978,  7.28553743,  7.56710562,  7.66982786,\n",
       "        8.03325103,  8.2531465 ,  8.96183654,  8.62872868,  9.11729181,\n",
       "       10.0781649 , 10.98204098,  8.99939802, 11.72145135,  9.30157334,\n",
       "       12.35833899,  9.45787805,  9.68819657,  9.87248173,  9.94101382,\n",
       "       14.94272754, 16.00258994, 10.49652308, 10.55078833, 16.46198266,\n",
       "       10.6934489 , 17.58396423, 11.13723658, 11.40943118, 11.53267058,\n",
       "       11.54769561, 12.15373353, 12.36137397, 12.4191623 , 12.74415617,\n",
       "       12.97999923, 12.9817445 , 13.8828103 , 14.08337721, 14.20722675,\n",
       "       14.21359936, 14.78119942, 14.90207434, 14.91613003, 14.91782788,\n",
       "       15.007126  , 15.01270161, 15.13116488, 15.13155285, 15.23442408,\n",
       "       15.2942785 , 15.29494684, 15.37306517, 15.48341335, 15.48616845,\n",
       "       15.67599533, 15.70690072, 15.74817555, 15.76661442, 15.76839468,\n",
       "       15.77474438, 15.81989203, 15.88142388, 15.91036462, 15.92613544,\n",
       "       15.94863181, 16.19212248, 16.19299844, 16.48930727, 16.50109337,\n",
       "       16.66130377, 16.66388639, 16.72502901, 16.72767187, 16.72820442,\n",
       "       16.87939033, 16.88162486, 16.88249624, 16.89460633, 16.9100675 ,\n",
       "       17.23424289, 17.24780212, 17.24842249, 17.32658208, 17.96502538,\n",
       "       18.16099885, 18.42171506, 17.84916757, 17.89179326, 17.92360293,\n",
       "       17.92900078, 17.96150011, 17.96940847, 19.48759554, 19.50884931,\n",
       "       17.98910791, 19.92680351, 19.95337933, 18.06564731, 20.08917725,\n",
       "       18.21099384, 18.30208854, 21.9112876 , 18.33509654, 21.91412411,\n",
       "       22.64587832, 23.28549819, 23.28661695, 23.34300183, 18.50924415,\n",
       "       23.87203123, 18.60461932, 18.66805958, 26.17360599, 18.69402387,\n",
       "       18.70346437, 18.72431502, 18.81428926, 18.81539162, 18.99312654,\n",
       "       19.03893216, 19.07718006, 19.07800107, 19.08344666, 19.21083614,\n",
       "       19.2136865 , 19.39370406, 19.43732746, 19.44654102, 19.54591259,\n",
       "       19.69512216, 19.74392736, 19.79560643, 19.79579147, 20.1125069 ,\n",
       "       20.17892438, 20.18173961, 20.22274791, 20.22523214, 20.22800011,\n",
       "       20.45514638, 20.456684  , 20.50923953, 20.51100971, 20.51183177,\n",
       "       20.62019157, 20.69399608, 20.70326945, 20.80035809, 20.84995519,\n",
       "       21.08744255, 21.18753104, 21.28281949, 21.31920509, 21.34315779,\n",
       "       21.34735835, 21.35432771, 21.35432771, 21.36325069, 21.38309743,\n",
       "       21.58469052, 21.5852113 , 21.63282956, 21.90327822, 22.09207586,\n",
       "       22.21514197, 22.22041442, 22.22568666, 22.40088062, 22.40306362,\n",
       "       22.44238065, 22.44425423, 22.46502539, 22.50051543, 22.67282085,\n",
       "       22.69677352, 22.69678793, 22.71185808, 22.77461483, 22.77501451,\n",
       "       22.8731417 , 22.88526245, 22.96703493, 23.16132251, 23.16510784,\n",
       "       23.2194793 , 23.22405347, 23.29737642, 23.30719225, 23.30985512,\n",
       "       23.3305377 , 23.3305377 , 23.3318532 , 23.35490031, 23.4510705 ,\n",
       "       23.45208949, 23.4526727 , 23.55163479, 23.56405928, 23.56603976,\n",
       "       23.61271182, 23.6394024 , 23.66691179, 23.72627772, 23.72875839,\n",
       "       23.74716471, 23.74851073, 23.76220359, 23.80647752, 23.80947204,\n",
       "       23.85125475, 23.87946983, 23.89667198, 23.90808493, 23.90824132,\n",
       "       23.9164364 , 23.92793343, 23.94285252, 23.94709642, 23.95434607,\n",
       "       23.96332321, 23.96461897, 23.96590667, 23.96800382, 23.96924363,\n",
       "       24.00095149, 24.00224011, 24.02172889, 24.04385064, 24.07701151,\n",
       "       24.07701151, 24.07937012, 24.1399872 , 24.14238384, 24.16631811,\n",
       "       24.27944751, 24.16730948, 24.29956029, 24.18213522, 24.5432899 ,\n",
       "       24.59687084, 24.19410183, 24.61914413, 24.20073407, 24.21500818,\n",
       "       25.00057616, 24.22544492, 25.08960747, 24.27321841, 24.27322314,\n",
       "       24.42028374, 24.4368478 , 24.63783184, 24.64063047, 24.64101322,\n",
       "       24.64201197, 24.64767973, 24.68107384, 24.70607365, 24.70678986,\n",
       "       24.71206668, 24.71248623, 24.71747015, 24.71870514, 24.72121497,\n",
       "       24.72780039, 24.73027851, 24.74088997, 24.92151472, 24.92406212,\n",
       "       24.93269708, 24.93452188, 24.94110868, 24.95612079, 24.97406127,\n",
       "       24.97556482, 25.01184637, 25.03287071, 25.03665065, 25.05282029,\n",
       "       25.05368468, 25.05444123, 25.17511698, 25.17740513, 25.18110253,\n",
       "       25.18169051, 25.25423641, 25.26018849, 25.26195346, 25.28300001,\n",
       "       25.47817058, 25.4991648 , 25.50002817, 25.51916324, 25.55378779,\n",
       "       25.56157676, 25.59732585, 25.63174437, 25.63718908, 25.66391317,\n",
       "       25.74514241, 25.74543637, 25.77644322, 25.78045655, 25.79031338,\n",
       "       25.81169969, 25.83099521, 25.84068376, 25.85668571, 25.88217772,\n",
       "       25.91208017, 26.02371037, 26.02531455, 26.03759598, 26.153535  ,\n",
       "       26.15685336, 26.26211065, 26.27396589, 26.28072274, 26.36048605,\n",
       "       26.36443776, 26.37814544, 26.38173627, 26.42824541, 26.42968216,\n",
       "       26.43797267, 26.44736098, 26.45239319, 26.46714739, 26.46788247,\n",
       "       26.46911494, 26.528861  , 26.68065751, 26.6849455 , 26.73006507,\n",
       "       26.73306776, 26.74176955, 26.74261101, 26.74546332, 26.74756413,\n",
       "       26.90570428, 26.94144569, 27.06894709, 27.0878784 , 27.14576456,\n",
       "       27.26096579, 27.26332464, 27.26414528, 27.30078599, 27.34693829,\n",
       "       27.46558958, 27.48690614, 27.51725847, 27.56562666, 27.56968454,\n",
       "       27.65429161, 27.65765265, 27.74448006, 27.74673421, 27.82071587,\n",
       "       27.8246544 , 27.82900934, 27.95811532, 27.99868156, 28.07731818,\n",
       "       28.07956975, 28.24068914, 28.31796522, 28.31979541, 28.33176793,\n",
       "       28.57222661, 28.82474222, 28.82815728, 28.98486181, 28.98655677,\n",
       "       28.98756865, 29.08019331, 29.41567746, 29.4280989 , 29.46282863,\n",
       "       29.49183389, 29.51710281, 29.5219053 , 29.85264982, 30.21888766,\n",
       "       30.46326355, 30.36550529, 31.47087575, 30.4096697 , 30.50445763,\n",
       "       30.78773349, 30.82407876, 30.99136767, 31.33999896, 31.92513699,\n",
       "       32.35969243, 32.36002873, 32.44930314, 32.77763459, 32.79418233,\n",
       "       32.81162446, 32.88797729, 33.18412378, 33.33283727, 33.42582777,\n",
       "       33.53785261, 33.84206051, 34.57121315, 34.58249397, 34.66204123,\n",
       "       34.81269124, 34.82964002, 34.84397605, 35.56487883, 35.62427566,\n",
       "       35.74778944, 35.7559263 , 35.77474628, 35.77955275, 36.12179008,\n",
       "       36.13843456, 36.53704614, 36.80943181, 36.8187873 , 37.4755896 ,\n",
       "       37.95584576, 38.56794025, 39.04815683, 39.97843679, 39.98992492,\n",
       "       40.07009309, 41.13819094, 41.14475607, 43.23767266, 45.4076093 ,\n",
       "       45.67885934, 45.72478525, 50.03243025, 52.60779586, 52.60779586,\n",
       "       52.60779586])"
      ]
     },
     "execution_count": 46,
     "metadata": {},
     "output_type": "execute_result"
    }
   ],
   "source": [
    "ctree['lambda_val'][targeted]"
   ]
  },
  {
   "cell_type": "code",
   "execution_count": 30,
   "metadata": {},
   "outputs": [
    {
     "data": {
      "text/plain": [
       "array([3883, 4984, 3884, ..., 1240,  685, 2343])"
      ]
     },
     "execution_count": 30,
     "metadata": {},
     "output_type": "execute_result"
    }
   ],
   "source": [
    "ctree['child']"
   ]
  },
  {
   "cell_type": "code",
   "execution_count": null,
   "metadata": {},
   "outputs": [],
   "source": []
  },
  {
   "cell_type": "code",
   "execution_count": null,
   "metadata": {},
   "outputs": [],
   "source": []
  },
  {
   "cell_type": "code",
   "execution_count": null,
   "metadata": {},
   "outputs": [],
   "source": []
  },
  {
   "cell_type": "code",
   "execution_count": null,
   "metadata": {},
   "outputs": [],
   "source": []
  },
  {
   "cell_type": "code",
   "execution_count": 15,
   "metadata": {
    "ExecuteTime": {
     "end_time": "2018-06-07T20:14:13.375102Z",
     "start_time": "2018-06-07T20:14:13.314317Z"
    }
   },
   "outputs": [],
   "source": [
    "thr = -31.00"
   ]
  },
  {
   "cell_type": "code",
   "execution_count": 16,
   "metadata": {
    "ExecuteTime": {
     "end_time": "2018-06-07T20:14:13.982828Z",
     "start_time": "2018-06-07T20:14:13.914878Z"
    }
   },
   "outputs": [],
   "source": [
    "idx = np.where(model.spk[0].min(axis=1).min(axis=1)>thr)[0]"
   ]
  },
  {
   "cell_type": "code",
   "execution_count": 17,
   "metadata": {
    "ExecuteTime": {
     "end_time": "2018-06-07T20:14:15.541818Z",
     "start_time": "2018-06-07T20:14:15.471294Z"
    },
    "scrolled": true
   },
   "outputs": [
    {
     "data": {
      "text/plain": [
       "(5032,)"
      ]
     },
     "execution_count": 17,
     "metadata": {},
     "output_type": "execute_result"
    }
   ],
   "source": [
    "idx.shape"
   ]
  },
  {
   "cell_type": "code",
   "execution_count": 17,
   "metadata": {
    "ExecuteTime": {
     "end_time": "2018-06-07T20:26:42.618393Z",
     "start_time": "2018-06-07T20:26:42.556956Z"
    }
   },
   "outputs": [
    {
     "name": "stdout",
     "output_type": "stream",
     "text": [
      "(4067,)\n",
      "(2589,)\n",
      "(2104,)\n"
     ]
    },
    {
     "name": "stderr",
     "output_type": "stream",
     "text": [
      "2018-06-07 16:28:50,182 - spiketag - DEBUG - no more undo\n",
      "2018-06-07 16:28:50,532 - spiketag - DEBUG - no more undo\n",
      "2018-06-07 16:28:50,760 - spiketag - DEBUG - no more undo\n",
      "2018-06-07 16:28:50,946 - spiketag - DEBUG - no more undo\n",
      "2018-06-07 16:28:51,118 - spiketag - DEBUG - no more undo\n",
      "2018-06-07 16:28:51,289 - spiketag - DEBUG - no more undo\n",
      "2018-06-07 16:28:51,453 - spiketag - DEBUG - no more undo\n",
      "2018-06-07 16:28:51,632 - spiketag - DEBUG - no more undo\n",
      "2018-06-07 16:28:51,843 - spiketag - DEBUG - no more undo\n",
      "2018-06-07 16:28:52,147 - spiketag - DEBUG - no more undo\n",
      "2018-06-07 16:28:52,437 - spiketag - DEBUG - no more undo\n",
      "2018-06-07 16:28:52,671 - spiketag - DEBUG - no more undo\n",
      "2018-06-07 16:28:52,932 - spiketag - DEBUG - no more undo\n",
      "2018-06-07 16:28:53,445 - spiketag - DEBUG - no more undo\n",
      "2018-06-07 16:28:53,680 - spiketag - DEBUG - no more undo\n",
      "2018-06-07 16:28:53,938 - spiketag - DEBUG - no more undo\n",
      "2018-06-07 16:28:54,136 - spiketag - DEBUG - no more undo\n"
     ]
    }
   ],
   "source": [
    "def delete_spk(model, spk_idx):\n",
    "    model.mua.spk_times[0] = np.delete(model.mua.spk_times[0], spk_idx, axis=0)\n",
    "    model.spk[0] = np.delete(model.spk[0], spk_idx, axis=0)\n",
    "    model.fet[0] = model.spk._tofet(0, method='pca')\n",
    "    model.cluster(group_id=0, method='hdbscan', fall_off_size=30) #, \n",
    "    view.set_data(0, model.mua, model.spk[0], model.fet[0], model.clu[0])"
   ]
  },
  {
   "cell_type": "code",
   "execution_count": 19,
   "metadata": {
    "ExecuteTime": {
     "end_time": "2018-06-07T20:14:19.831997Z",
     "start_time": "2018-06-07T20:14:19.355815Z"
    }
   },
   "outputs": [
    {
     "name": "stderr",
     "output_type": "stream",
     "text": [
      "2018-06-07 16:16:50,296 - spiketag - DEBUG - ctree view expand clustier 4279 here\n"
     ]
    }
   ],
   "source": [
    "delete_spk(model, idx)"
   ]
  },
  {
   "cell_type": "code",
   "execution_count": 16,
   "metadata": {
    "ExecuteTime": {
     "end_time": "2018-06-07T20:26:01.053840Z",
     "start_time": "2018-06-07T20:26:00.988589Z"
    }
   },
   "outputs": [
    {
     "name": "stderr",
     "output_type": "stream",
     "text": [
      "WARNING: Traceback (most recent call last):\n",
      "  File \"/anaconda2/lib/python2.7/runpy.py\", line 174, in _run_module_as_main\n",
      "    \"__main__\", fname, loader, pkg_name)\n",
      "  File \"/anaconda2/lib/python2.7/runpy.py\", line 72, in _run_code\n",
      "    exec code in run_globals\n",
      "  File \"/anaconda2/lib/python2.7/site-packages/ipykernel_launcher.py\", line 16, in <module>\n",
      "    app.launch_new_instance()\n",
      "  File \"/anaconda2/lib/python2.7/site-packages/traitlets/config/application.py\", line 658, in launch_instance\n",
      "    app.start()\n",
      "  File \"/anaconda2/lib/python2.7/site-packages/ipykernel/kernelapp.py\", line 478, in start\n",
      "    self.io_loop.start()\n",
      "  File \"/anaconda2/lib/python2.7/site-packages/zmq/eventloop/ioloop.py\", line 177, in start\n",
      "    super(ZMQIOLoop, self).start()\n",
      "  File \"/anaconda2/lib/python2.7/site-packages/tornado/ioloop.py\", line 832, in start\n",
      "    self._run_callback(self._callbacks.popleft())\n",
      "  File \"/anaconda2/lib/python2.7/site-packages/tornado/ioloop.py\", line 605, in _run_callback\n",
      "    ret = callback()\n",
      "  File \"/anaconda2/lib/python2.7/site-packages/tornado/stack_context.py\", line 277, in null_wrapper\n",
      "    return fn(*args, **kwargs)\n",
      "  File \"/anaconda2/lib/python2.7/site-packages/ipykernel/kernelbase.py\", line 263, in enter_eventloop\n",
      "    self.eventloop(self)\n",
      "  File \"/anaconda2/lib/python2.7/site-packages/ipykernel/eventloops.py\", line 123, in loop_qt5\n",
      "    return loop_qt4(kernel)\n",
      "  File \"/anaconda2/lib/python2.7/site-packages/ipykernel/eventloops.py\", line 111, in loop_qt4\n",
      "    _loop_qt(kernel.app)\n",
      "  File \"/anaconda2/lib/python2.7/site-packages/ipykernel/eventloops.py\", line 95, in _loop_qt\n",
      "    app.exec_()\n",
      "  File \"/Users/laic/Work/pydev/vispy_cus/vispy/vispy/app/backends/_qt.py\", line 413, in keyPressEvent\n",
      "    self._keyEvent(self._vispy_canvas.events.key_press, ev)\n",
      "  File \"/Users/laic/Work/pydev/vispy_cus/vispy/vispy/app/backends/_qt.py\", line 428, in _keyEvent\n",
      "    func(native=ev, key=key, text=text_type(ev.text()), modifiers=mod)\n",
      "  File \"/Users/laic/Work/pydev/vispy_cus/vispy/vispy/util/event.py\", line 455, in __call__\n",
      "    self._invoke_callback(cb, event)\n",
      "  File \"/Users/laic/Work/pydev/vispy_cus/vispy/vispy/util/event.py\", line 475, in _invoke_callback\n",
      "    self, cb_event=(cb, event))\n",
      "  << caught exception here: >>\n",
      "  File \"/Users/laic/Work/pydev/vispy_cus/vispy/vispy/util/event.py\", line 471, in _invoke_callback\n",
      "    cb(event)\n",
      "  File \"/Users/laic/Work/pydev/spiketag/spiketag/view/scatter_2d_view.py\", line 136, in on_key_press\n",
      "    self.clip.emit('clip', thres=self.amp)\n",
      "  File \"/Users/laic/Work/pydev/spiketag/spiketag/utils/utils.py\", line 160, in emit\n",
      "    res.append(callback(*args, **kwargs))\n",
      "  File \"<ipython-input-16-cbf95aa6a25a>\", line 5, in on_clip\n",
      "    delete_spk(model=model, spk_idx=idx)\n",
      "  File \"<ipython-input-15-6615856d65ba>\", line 2, in delete_spk\n",
      "    model.mua.spk_times[0] = np.delete(model.mua.spk_times[0], idx, axis=0)\n",
      "NameError: global name 'idx' is not defined\n",
      "ERROR: Invoking <bound method amplitude_view.on_key_press of <amplitude_view (PyQt5) at 0x1c3e6a3dd0>> for KeyEvent\n"
     ]
    },
    {
     "name": "stdout",
     "output_type": "stream",
     "text": [
      "(4817,)\n"
     ]
    }
   ],
   "source": [
    "@view.ampview.clip.connect\n",
    "def on_clip(thres):\n",
    "    idx = np.where(model.spk[0].min(axis=1).min(axis=1)>thres)[0]\n",
    "    print(idx.shape)\n",
    "    delete_spk(model=model, spk_idx=idx)"
   ]
  },
  {
   "cell_type": "code",
   "execution_count": 42,
   "metadata": {
    "ExecuteTime": {
     "end_time": "2018-06-07T15:34:05.667494Z",
     "start_time": "2018-06-07T15:34:05.606767Z"
    }
   },
   "outputs": [
    {
     "data": {
      "text/plain": [
       "(1678, 19, 3)"
      ]
     },
     "execution_count": 42,
     "metadata": {},
     "output_type": "execute_result"
    }
   ],
   "source": [
    "model.spk[0].shape"
   ]
  },
  {
   "cell_type": "code",
   "execution_count": 39,
   "metadata": {
    "ExecuteTime": {
     "end_time": "2018-06-07T15:33:46.753331Z",
     "start_time": "2018-06-07T15:33:46.681524Z"
    }
   },
   "outputs": [
    {
     "name": "stderr",
     "output_type": "stream",
     "text": [
      "2018-06-07 11:33:46,742 - spiketag - INFO - spk._tofet(group_id=0, method=weighted-pca, ncomp=6, whiten=False)\n",
      "2018-06-07 11:33:46,746 - spiketag - INFO - ----------------success------------------\n",
      "2018-06-07 11:33:46,747 - spiketag - INFO -  \n"
     ]
    }
   ],
   "source": [
    "model.fet = model.spk.tofet()"
   ]
  },
  {
   "cell_type": "code",
   "execution_count": 40,
   "metadata": {
    "ExecuteTime": {
     "end_time": "2018-06-07T15:33:48.057949Z",
     "start_time": "2018-06-07T15:33:47.998725Z"
    }
   },
   "outputs": [
    {
     "data": {
      "text/plain": [
       "(1678, 6)"
      ]
     },
     "execution_count": 40,
     "metadata": {},
     "output_type": "execute_result"
    }
   ],
   "source": [
    "model.fet[0].shape"
   ]
  },
  {
   "cell_type": "code",
   "execution_count": 41,
   "metadata": {
    "ExecuteTime": {
     "end_time": "2018-06-07T15:33:49.759503Z",
     "start_time": "2018-06-07T15:33:49.633825Z"
    }
   },
   "outputs": [
    {
     "name": "stderr",
     "output_type": "stream",
     "text": [
      "2018-06-07 11:33:49,754 - spiketag - INFO - clustering finished, used 0.066253900528 sec\n"
     ]
    }
   ],
   "source": [
    "model.clu = model.fet.toclu()"
   ]
  },
  {
   "cell_type": "code",
   "execution_count": null,
   "metadata": {},
   "outputs": [],
   "source": []
  },
  {
   "cell_type": "code",
   "execution_count": 19,
   "metadata": {
    "ExecuteTime": {
     "end_time": "2018-06-07T15:29:29.853518Z",
     "start_time": "2018-06-07T15:29:29.781272Z"
    }
   },
   "outputs": [
    {
     "data": {
      "text/plain": [
       "(4740,)"
      ]
     },
     "execution_count": 19,
     "metadata": {},
     "output_type": "execute_result"
    }
   ],
   "source": [
    "model.mua.spk_times[0].shape"
   ]
  },
  {
   "cell_type": "code",
   "execution_count": null,
   "metadata": {},
   "outputs": [],
   "source": []
  },
  {
   "cell_type": "code",
   "execution_count": 16,
   "metadata": {
    "ExecuteTime": {
     "end_time": "2018-06-07T15:14:41.979657Z",
     "start_time": "2018-06-07T15:14:41.920523Z"
    }
   },
   "outputs": [
    {
     "data": {
      "text/plain": [
       "-146.53759765625"
      ]
     },
     "execution_count": 16,
     "metadata": {},
     "output_type": "execute_result"
    }
   ],
   "source": [
    "view.ampview.poses[:, 1].min()"
   ]
  },
  {
   "cell_type": "code",
   "execution_count": null,
   "metadata": {},
   "outputs": [],
   "source": []
  },
  {
   "cell_type": "code",
   "execution_count": null,
   "metadata": {},
   "outputs": [],
   "source": []
  },
  {
   "cell_type": "code",
   "execution_count": 53,
   "metadata": {
    "ExecuteTime": {
     "end_time": "2018-06-08T02:30:39.627217Z",
     "start_time": "2018-06-08T02:30:39.523733Z"
    }
   },
   "outputs": [],
   "source": [
    "from spiketag.mvc.Control import controller"
   ]
  },
  {
   "cell_type": "code",
   "execution_count": 54,
   "metadata": {
    "ExecuteTime": {
     "end_time": "2018-06-08T02:30:45.245388Z",
     "start_time": "2018-06-08T02:30:40.257465Z"
    },
    "scrolled": false
   },
   "outputs": [
    {
     "name": "stderr",
     "output_type": "stream",
     "text": [
      "2018-12-28 20:20:37,338 - spiketag - INFO - load mua data\n",
      "2018-12-28 20:20:37,401 - spiketag - INFO - #############  load data  ###################\n",
      "2018-12-28 20:20:37,402 - spiketag - INFO - ./cell_0109.bin loaded, it contains: \n",
      "2018-12-28 20:20:37,403 - spiketag - INFO - 9280040.0 * 3 points (111360480 bytes) \n",
      "2018-12-28 20:20:37,404 - spiketag - INFO - 3 channels with sampling rate of 20000.0000 \n",
      "2018-12-28 20:20:37,404 - spiketag - INFO - 464.002 secs (7.733 mins) of data\n",
      "2018-12-28 20:20:37,405 - spiketag - INFO - #############################################\n",
      "2018-12-28 20:20:37,470 - spiketag - INFO - processing folder: ./\n",
      "2018-12-28 20:20:37,473 - spiketag - INFO - raw data have 9309 spks\n",
      "2018-12-28 20:20:37,474 - spiketag - INFO - ----------------success------------------\n",
      "2018-12-28 20:20:37,475 - spiketag - INFO -  \n",
      "WARNING: QLayout: Attempting to add QLayout \"\" to MainView \"\", which already has a layout\n"
     ]
    }
   ],
   "source": [
    "ctrl = controller(probe=prb, mua_filename='./cell_0109.bin', spk_filename='./cell_0109.spk.bin')"
   ]
  },
  {
   "cell_type": "code",
   "execution_count": 55,
   "metadata": {},
   "outputs": [
    {
     "name": "stderr",
     "output_type": "stream",
     "text": [
      "2018-12-28 20:20:46,070 - spiketag - INFO - extract spikes from pivital meta data\n",
      "2018-12-28 20:20:46,071 - spiketag - INFO - mua.tospk()\n",
      "2018-12-28 20:20:46,378 - spiketag - INFO - group 0 delete 0.0%(0.0/9309.0) spks via cutoff\n",
      "2018-12-28 20:20:46,381 - spiketag - INFO - ----------------success------------------\n",
      "2018-12-28 20:20:46,381 - spiketag - INFO -  \n",
      "2018-12-28 20:20:46,382 - spiketag - INFO - grouping spike time\n",
      "2018-12-28 20:20:46,382 - spiketag - INFO - extrat features with weighted-pca\n",
      "2018-12-28 20:20:46,404 - spiketag - INFO - spk._tofet(group_id=0, method=weighted-pca, ncomp=6, whiten=False)\n",
      "2018-12-28 20:20:46,404 - spiketag - INFO - ----------------success------------------\n",
      "2018-12-28 20:20:46,405 - spiketag - INFO -  \n",
      "2018-12-28 20:20:46,406 - spiketag - INFO - clustering with hdbscan\n",
      "2018-12-28 20:20:46,406 - spiketag - INFO - clustering start with 24 cpus\n",
      "2018-12-28 20:20:50,116 - spiketag - INFO - clustering finished, used 3.7082719802856445 sec\n",
      "2018-12-28 20:20:50,123 - spiketag - INFO - Model.spktag is generated, nspk:9309\n"
     ]
    }
   ],
   "source": [
    "ctrl.sort()"
   ]
  },
  {
   "cell_type": "code",
   "execution_count": 56,
   "metadata": {
    "ExecuteTime": {
     "end_time": "2018-06-08T02:30:51.514407Z",
     "start_time": "2018-06-08T02:30:49.845881Z"
    },
    "scrolled": false
   },
   "outputs": [
    {
     "name": "stderr",
     "output_type": "stream",
     "text": [
      "WARNING: Traceback (most recent call last):\n",
      "  File \"/anaconda2/envs/py37/lib/python3.6/runpy.py\", line 193, in _run_module_as_main\n",
      "    \"__main__\", mod_spec)\n",
      "  File \"/anaconda2/envs/py37/lib/python3.6/runpy.py\", line 85, in _run_code\n",
      "    exec(code, run_globals)\n",
      "  File \"/anaconda2/envs/py37/lib/python3.6/site-packages/ipykernel_launcher.py\", line 16, in <module>\n",
      "    app.launch_new_instance()\n",
      "  File \"/anaconda2/envs/py37/lib/python3.6/site-packages/traitlets/config/application.py\", line 658, in launch_instance\n",
      "    app.start()\n",
      "  File \"/anaconda2/envs/py37/lib/python3.6/site-packages/ipykernel/kernelapp.py\", line 505, in start\n",
      "    self.io_loop.start()\n",
      "  File \"/anaconda2/envs/py37/lib/python3.6/site-packages/tornado/platform/asyncio.py\", line 132, in start\n",
      "    self.asyncio_loop.run_forever()\n",
      "  File \"/anaconda2/envs/py37/lib/python3.6/asyncio/base_events.py\", line 427, in run_forever\n",
      "    self._run_once()\n",
      "  File \"/anaconda2/envs/py37/lib/python3.6/asyncio/base_events.py\", line 1440, in _run_once\n",
      "    handle._run()\n",
      "  File \"/anaconda2/envs/py37/lib/python3.6/asyncio/events.py\", line 145, in _run\n",
      "    self._callback(*self._args)\n",
      "  File \"/anaconda2/envs/py37/lib/python3.6/site-packages/tornado/ioloop.py\", line 758, in _run_callback\n",
      "    ret = callback()\n",
      "  File \"/anaconda2/envs/py37/lib/python3.6/site-packages/tornado/stack_context.py\", line 300, in null_wrapper\n",
      "    return fn(*args, **kwargs)\n",
      "  File \"/anaconda2/envs/py37/lib/python3.6/site-packages/tornado/gen.py\", line 1233, in inner\n",
      "    self.run()\n",
      "  File \"/anaconda2/envs/py37/lib/python3.6/site-packages/tornado/gen.py\", line 1147, in run\n",
      "    yielded = self.gen.send(value)\n",
      "  File \"/anaconda2/envs/py37/lib/python3.6/site-packages/ipykernel/kernelbase.py\", line 357, in process_one\n",
      "    yield gen.maybe_future(dispatch(*args))\n",
      "  File \"/anaconda2/envs/py37/lib/python3.6/site-packages/tornado/gen.py\", line 326, in wrapper\n",
      "    yielded = next(result)\n",
      "  File \"/anaconda2/envs/py37/lib/python3.6/site-packages/ipykernel/kernelbase.py\", line 267, in dispatch_shell\n",
      "    yield gen.maybe_future(handler(stream, idents, msg))\n",
      "  File \"/anaconda2/envs/py37/lib/python3.6/site-packages/tornado/gen.py\", line 326, in wrapper\n",
      "    yielded = next(result)\n",
      "  File \"/anaconda2/envs/py37/lib/python3.6/site-packages/ipykernel/kernelbase.py\", line 534, in execute_request\n",
      "    user_expressions, allow_stdin,\n",
      "  File \"/anaconda2/envs/py37/lib/python3.6/site-packages/tornado/gen.py\", line 326, in wrapper\n",
      "    yielded = next(result)\n",
      "  File \"/anaconda2/envs/py37/lib/python3.6/site-packages/ipykernel/ipkernel.py\", line 294, in do_execute\n",
      "    res = shell.run_cell(code, store_history=store_history, silent=silent)\n",
      "  File \"/anaconda2/envs/py37/lib/python3.6/site-packages/ipykernel/zmqshell.py\", line 536, in run_cell\n",
      "    return super(ZMQInteractiveShell, self).run_cell(*args, **kwargs)\n",
      "  File \"/anaconda2/envs/py37/lib/python3.6/site-packages/IPython/core/interactiveshell.py\", line 2819, in run_cell\n",
      "    raw_cell, store_history, silent, shell_futures)\n",
      "  File \"/anaconda2/envs/py37/lib/python3.6/site-packages/IPython/core/interactiveshell.py\", line 2845, in _run_cell\n",
      "    return runner(coro)\n",
      "  File \"/anaconda2/envs/py37/lib/python3.6/site-packages/IPython/core/async_helpers.py\", line 67, in _pseudo_sync_runner\n",
      "    coro.send(None)\n",
      "  File \"/anaconda2/envs/py37/lib/python3.6/site-packages/IPython/core/interactiveshell.py\", line 3020, in run_cell_async\n",
      "    interactivity=interactivity, compiler=compiler, result=result)\n",
      "  File \"/anaconda2/envs/py37/lib/python3.6/site-packages/IPython/core/interactiveshell.py\", line 3191, in run_ast_nodes\n",
      "    if (yield from self.run_code(code, result)):\n",
      "  File \"/anaconda2/envs/py37/lib/python3.6/site-packages/IPython/core/interactiveshell.py\", line 3267, in run_code\n",
      "    exec(code_obj, self.user_global_ns, self.user_ns)\n",
      "  File \"<ipython-input-56-9a9adb335bc5>\", line 1, in <module>\n",
      "    ctrl.show()\n",
      "  File \"/Users/laic/Work/pydev/spiketag/spiketag/mvc/Control.py\", line 264, in show\n",
      "    self.view.show()\n",
      "  File \"/Users/laic/Work/pydev/vispy_cus/vispy/vispy/app/backends/_qt.py\", line 657, in paintGL\n",
      "    self._vispy_canvas.events.draw(region=None)\n",
      "  File \"/Users/laic/Work/pydev/vispy_cus/vispy/vispy/util/event.py\", line 455, in __call__\n",
      "    self._invoke_callback(cb, event)\n",
      "  File \"/Users/laic/Work/pydev/vispy_cus/vispy/vispy/util/event.py\", line 475, in _invoke_callback\n",
      "    self, cb_event=(cb, event))\n",
      "  << caught exception here: >>\n",
      "  File \"/Users/laic/Work/pydev/vispy_cus/vispy/vispy/util/event.py\", line 471, in _invoke_callback\n",
      "    cb(event)\n",
      "  File \"/Users/laic/Work/pydev/vispy_cus/vispy/vispy/scene/canvas.py\", line 207, in on_draw\n",
      "    self._draw_scene()\n",
      "  File \"/Users/laic/Work/pydev/vispy_cus/vispy/vispy/scene/canvas.py\", line 253, in _draw_scene\n",
      "    self.draw_visual(self.scene)\n",
      "  File \"/Users/laic/Work/pydev/vispy_cus/vispy/vispy/scene/canvas.py\", line 291, in draw_visual\n",
      "    node.draw()\n",
      "  File \"/Users/laic/Work/pydev/vispy_cus/vispy/vispy/scene/visuals.py\", line 98, in draw\n",
      "    self._visual_superclass.draw(self)\n",
      "  File \"/Users/laic/Work/pydev/vispy_cus/vispy/vispy/visuals/mesh.py\", line 385, in draw\n",
      "    Visual.draw(self, *args, **kwds)\n",
      "  File \"/Users/laic/Work/pydev/vispy_cus/vispy/vispy/visuals/visual.py\", line 432, in draw\n",
      "    if self._prepare_draw(view=self) is False:\n",
      "  File \"/Users/laic/Work/pydev/vispy_cus/vispy/vispy/visuals/mesh.py\", line 380, in _prepare_draw\n",
      "    if self._update_data() is False:\n",
      "  File \"/Users/laic/Work/pydev/vispy_cus/vispy/vispy/visuals/mesh.py\", line 306, in _update_data\n",
      "    v = md.get_vertices(indexed='faces')\n",
      "  File \"/Users/laic/Work/pydev/vispy_cus/vispy/vispy/geometry/meshdata.py\", line 195, in get_vertices\n",
      "    self._vertices[self.get_faces()]\n",
      "IndexError: arrays used as indices must be of integer (or boolean) type\n",
      "ERROR: Invoking <bound method SceneCanvas.on_draw of <ctree_view (PyQt5) at 0x199482cc0>> for DrawEvent\n",
      "ERROR: Invoking <bound method SceneCanvas.on_draw of <ctree_view (PyQt5) at 0x199482cc0>> repeat 2\n"
     ]
    }
   ],
   "source": [
    "ctrl.show()"
   ]
  },
  {
   "cell_type": "code",
   "execution_count": null,
   "metadata": {},
   "outputs": [],
   "source": []
  },
  {
   "cell_type": "code",
   "execution_count": null,
   "metadata": {},
   "outputs": [],
   "source": []
  },
  {
   "cell_type": "code",
   "execution_count": null,
   "metadata": {},
   "outputs": [],
   "source": []
  },
  {
   "cell_type": "code",
   "execution_count": null,
   "metadata": {},
   "outputs": [],
   "source": []
  },
  {
   "cell_type": "code",
   "execution_count": null,
   "metadata": {},
   "outputs": [],
   "source": []
  },
  {
   "cell_type": "code",
   "execution_count": 17,
   "metadata": {
    "ExecuteTime": {
     "end_time": "2018-06-07T15:01:42.102331Z",
     "start_time": "2018-06-07T15:01:42.042265Z"
    }
   },
   "outputs": [
    {
     "data": {
      "text/plain": [
       "array([-19.429688, -18.166504, -17.284668, ..., -17.5     , -19.528809,\n",
       "       -28.05664 ], dtype=float32)"
      ]
     },
     "execution_count": 17,
     "metadata": {},
     "output_type": "execute_result"
    }
   ],
   "source": []
  },
  {
   "cell_type": "code",
   "execution_count": 14,
   "metadata": {
    "ExecuteTime": {
     "end_time": "2018-06-07T15:01:30.791411Z",
     "start_time": "2018-06-07T15:01:30.727739Z"
    }
   },
   "outputs": [
    {
     "data": {
      "text/plain": [
       "(9309,)"
      ]
     },
     "execution_count": 14,
     "metadata": {},
     "output_type": "execute_result"
    }
   ],
   "source": [
    "model.mua.spk_times[0].shape"
   ]
  },
  {
   "cell_type": "code",
   "execution_count": 15,
   "metadata": {
    "ExecuteTime": {
     "end_time": "2018-06-07T15:01:31.285766Z",
     "start_time": "2018-06-07T15:01:31.221275Z"
    }
   },
   "outputs": [
    {
     "data": {
      "text/plain": [
       "(9309, 19, 3)"
      ]
     },
     "execution_count": 15,
     "metadata": {},
     "output_type": "execute_result"
    }
   ],
   "source": [
    "model.spk[0].shape"
   ]
  },
  {
   "cell_type": "code",
   "execution_count": 16,
   "metadata": {
    "ExecuteTime": {
     "end_time": "2018-06-07T15:01:31.610442Z",
     "start_time": "2018-06-07T15:01:31.546623Z"
    }
   },
   "outputs": [
    {
     "data": {
      "text/plain": [
       "(9309, 6)"
      ]
     },
     "execution_count": 16,
     "metadata": {},
     "output_type": "execute_result"
    }
   ],
   "source": [
    "model.fet[0].shape"
   ]
  },
  {
   "cell_type": "code",
   "execution_count": null,
   "metadata": {},
   "outputs": [],
   "source": []
  },
  {
   "cell_type": "code",
   "execution_count": null,
   "metadata": {},
   "outputs": [],
   "source": []
  },
  {
   "cell_type": "code",
   "execution_count": null,
   "metadata": {},
   "outputs": [],
   "source": []
  },
  {
   "cell_type": "code",
   "execution_count": null,
   "metadata": {},
   "outputs": [],
   "source": []
  },
  {
   "cell_type": "code",
   "execution_count": null,
   "metadata": {},
   "outputs": [],
   "source": []
  },
  {
   "cell_type": "code",
   "execution_count": null,
   "metadata": {},
   "outputs": [],
   "source": []
  },
  {
   "cell_type": "code",
   "execution_count": null,
   "metadata": {},
   "outputs": [],
   "source": []
  },
  {
   "cell_type": "code",
   "execution_count": null,
   "metadata": {},
   "outputs": [],
   "source": []
  },
  {
   "cell_type": "code",
   "execution_count": null,
   "metadata": {},
   "outputs": [],
   "source": []
  },
  {
   "cell_type": "code",
   "execution_count": null,
   "metadata": {},
   "outputs": [],
   "source": []
  },
  {
   "cell_type": "code",
   "execution_count": null,
   "metadata": {},
   "outputs": [],
   "source": []
  },
  {
   "cell_type": "code",
   "execution_count": null,
   "metadata": {},
   "outputs": [],
   "source": []
  },
  {
   "cell_type": "code",
   "execution_count": null,
   "metadata": {},
   "outputs": [],
   "source": []
  },
  {
   "cell_type": "code",
   "execution_count": null,
   "metadata": {},
   "outputs": [],
   "source": []
  },
  {
   "cell_type": "code",
   "execution_count": null,
   "metadata": {},
   "outputs": [],
   "source": []
  },
  {
   "cell_type": "code",
   "execution_count": null,
   "metadata": {},
   "outputs": [],
   "source": []
  },
  {
   "cell_type": "code",
   "execution_count": null,
   "metadata": {},
   "outputs": [],
   "source": []
  },
  {
   "cell_type": "code",
   "execution_count": null,
   "metadata": {},
   "outputs": [],
   "source": []
  },
  {
   "cell_type": "code",
   "execution_count": null,
   "metadata": {},
   "outputs": [],
   "source": []
  },
  {
   "cell_type": "code",
   "execution_count": null,
   "metadata": {},
   "outputs": [],
   "source": []
  },
  {
   "cell_type": "code",
   "execution_count": null,
   "metadata": {},
   "outputs": [],
   "source": []
  },
  {
   "cell_type": "code",
   "execution_count": null,
   "metadata": {},
   "outputs": [],
   "source": []
  },
  {
   "cell_type": "code",
   "execution_count": 28,
   "metadata": {
    "ExecuteTime": {
     "end_time": "2018-06-06T22:53:52.572743Z",
     "start_time": "2018-06-06T22:53:52.462496Z"
    }
   },
   "outputs": [],
   "source": [
    "import sys\n",
    "from PyQt5.QtGui import *\n",
    "from PyQt5.QtCore import *\n",
    "from PyQt5.QtWidgets import *\n",
    "\n",
    "class sorter(QWidget):\n",
    "\n",
    "    def __init__(self):\n",
    "        super(sorter, self).__init__()\n",
    "        self.initUI()\n",
    "\n",
    "    def initUI(self):\n",
    "\n",
    "        hbox = QHBoxLayout(self)\n",
    "        self.splitter1 = QSplitter(Qt.Horizontal)\n",
    "#         textedit = QTextEdit()\n",
    "#         self.splitter1.addWidget(self.topleft)\n",
    "#         self.splitter1.addWidget(textedit)\n",
    "#         self.splitter1.setSizes([100,200])\n",
    "        self.splitter2 = QSplitter(Qt.Horizontal)\n",
    "        self.splitter_fet = QSplitter(Qt.Vertical)\n",
    "\n",
    "        self.splitter3 = QSplitter(Qt.Vertical)\n",
    "        self.splitter3.addWidget(self.splitter1)\n",
    "        self.splitter3.addWidget(self.splitter2)\n",
    "#         self.splitter2.addWidget(self.bottom)\n",
    "\n",
    "        hbox.addWidget(self.splitter3)\n",
    "\n",
    "        self.setLayout(hbox)\n",
    "        QApplication.setStyle(QStyleFactory.create('Cleanlooks'))\n",
    "\n",
    "        self.setGeometry(300, 300, 300, 200)\n",
    "        self.setWindowTitle('spiketag')\n",
    "#         self.show()\n",
    "\n",
    "    def set_data(self, mua, spk, fet, clu):\n",
    "        ### init view and set_data\n",
    "        self.spkview = spike_view()\n",
    "        self.spkview.set_data(spk, clu)\n",
    "        self.fetview0 = scatter_3d_view()\n",
    "        self.fetview0.set_data(fet[:,[0,1,2]].copy(), clu)\n",
    "        self.fetview1 = scatter_3d_view()\n",
    "        self.fetview1.set_data(fet[:,[1,3,4]].copy(), clu)\n",
    "        self.ampview = amplitude_view(fs=fs, scale=1)\n",
    "        self.ampview.set_data(spk, clu, mua.pivotal_pos[0])\n",
    "        self.treeview = ctree_view()\n",
    "        self.treeview.set_data(clu)\n",
    "        self.corview = correlogram_view(fs=fs)\n",
    "        self.corview.set_data(clu, mua.pivotal_pos[0])\n",
    "        self.traceview = trace_view(fs=mua.fs, spklen=spk.shape[1])\n",
    "        self.traceview.set_data(mua.data, clu, mua.pivotal_pos[0])\n",
    "#         self.traceview.locate_buffer = 2000\n",
    "        \n",
    "        ### put views into splitter\n",
    "        self.splitter1.addWidget(self.traceview.native)\n",
    "        self.splitter1.addWidget(self.splitter_fet)\n",
    "        self.splitter_fet.addWidget(self.fetview0.native)\n",
    "        self.splitter_fet.addWidget(self.fetview1.native)\n",
    "        self.splitter1.addWidget(self.spkview.native)\n",
    "        \n",
    "        self.splitter2.addWidget(self.corview.native)\n",
    "        self.splitter2.addWidget(self.treeview.native)\n",
    "        self.splitter2.addWidget(self.ampview.native)\n"
   ]
  },
  {
   "cell_type": "code",
   "execution_count": 29,
   "metadata": {
    "ExecuteTime": {
     "end_time": "2018-06-06T22:53:53.590297Z",
     "start_time": "2018-06-06T22:53:53.528248Z"
    }
   },
   "outputs": [],
   "source": [
    "%gui qt"
   ]
  },
  {
   "cell_type": "code",
   "execution_count": 30,
   "metadata": {
    "ExecuteTime": {
     "end_time": "2018-06-06T22:53:54.106316Z",
     "start_time": "2018-06-06T22:53:54.034948Z"
    },
    "scrolled": true
   },
   "outputs": [],
   "source": [
    "ex = sorter()"
   ]
  },
  {
   "cell_type": "code",
   "execution_count": 31,
   "metadata": {
    "ExecuteTime": {
     "end_time": "2018-06-06T22:53:55.860314Z",
     "start_time": "2018-06-06T22:53:54.844399Z"
    },
    "scrolled": true
   },
   "outputs": [
    {
     "name": "stderr",
     "output_type": "stream",
     "text": [
      "2018-06-06 18:53:54,900 - spiketag - INFO - mua.tospk()\n",
      "2018-06-06 18:53:54,909 - spiketag - INFO - ----------------success------------------\n",
      "2018-06-06 18:53:54,910 - spiketag - INFO -  \n",
      "2018-06-06 18:53:54,943 - spiketag - INFO - spk._tofet(groupNo=0, method=pca, ncomp=9, whiten=False)\n",
      "2018-06-06 18:53:54,945 - spiketag - INFO - ----------------success------------------\n",
      "2018-06-06 18:53:54,946 - spiketag - INFO -  \n",
      "2018-06-06 18:53:55,855 - spiketag - INFO - clustering finished, used 0.906870126724 sec\n"
     ]
    }
   ],
   "source": [
    "spk = mua.tospk()\n",
    "fet = spk.tofet(method='pca', ncomp=9, whiten=False)\n",
    "clu = fet.toclu(method='hdbscan')"
   ]
  },
  {
   "cell_type": "code",
   "execution_count": 32,
   "metadata": {
    "ExecuteTime": {
     "end_time": "2018-06-06T22:53:57.807949Z",
     "start_time": "2018-06-06T22:53:57.724631Z"
    },
    "scrolled": true
   },
   "outputs": [
    {
     "ename": "KeyError",
     "evalue": "1",
     "output_type": "error",
     "traceback": [
      "\u001b[0;31m---------------------------------------------------------------------------\u001b[0m",
      "\u001b[0;31mKeyError\u001b[0m                                  Traceback (most recent call last)",
      "\u001b[0;32m<ipython-input-32-c8b5c2bc0fae>\u001b[0m in \u001b[0;36m<module>\u001b[0;34m()\u001b[0m\n\u001b[0;32m----> 1\u001b[0;31m \u001b[0mex\u001b[0m\u001b[0;34m.\u001b[0m\u001b[0mset_data\u001b[0m\u001b[0;34m(\u001b[0m\u001b[0mmua\u001b[0m\u001b[0;34m,\u001b[0m \u001b[0mspk\u001b[0m\u001b[0;34m.\u001b[0m\u001b[0mspk\u001b[0m\u001b[0;34m[\u001b[0m\u001b[0;36m1\u001b[0m\u001b[0;34m]\u001b[0m\u001b[0;34m,\u001b[0m \u001b[0mfet\u001b[0m\u001b[0;34m.\u001b[0m\u001b[0mfet\u001b[0m\u001b[0;34m[\u001b[0m\u001b[0;36m1\u001b[0m\u001b[0;34m]\u001b[0m\u001b[0;34m,\u001b[0m \u001b[0mclu\u001b[0m\u001b[0;34m[\u001b[0m\u001b[0;36m1\u001b[0m\u001b[0;34m]\u001b[0m\u001b[0;34m)\u001b[0m\u001b[0;34m\u001b[0m\u001b[0m\n\u001b[0m",
      "\u001b[0;31mKeyError\u001b[0m: 1"
     ]
    }
   ],
   "source": [
    "ex.set_data(mua, spk.spk[1], fet.fet[1], clu[1])"
   ]
  },
  {
   "cell_type": "code",
   "execution_count": 66,
   "metadata": {
    "ExecuteTime": {
     "end_time": "2018-05-02T01:18:57.015770Z",
     "start_time": "2018-05-02T01:18:56.850123Z"
    },
    "scrolled": false
   },
   "outputs": [],
   "source": [
    "ex.show()"
   ]
  },
  {
   "cell_type": "code",
   "execution_count": 70,
   "metadata": {
    "ExecuteTime": {
     "end_time": "2018-05-02T01:19:23.597561Z",
     "start_time": "2018-05-02T01:19:23.542644Z"
    },
    "scrolled": true
   },
   "outputs": [],
   "source": [
    "ex.traceview.locate_buffer = 300"
   ]
  },
  {
   "cell_type": "code",
   "execution_count": 97,
   "metadata": {
    "scrolled": true
   },
   "outputs": [
    {
     "name": "stderr",
     "output_type": "stream",
     "text": [
      "ERROR: Invoking <bound method trace_view.update_cursor of <trace_view (PyQt5) at 0x1c4774b690>> repeat 8192\n",
      "ERROR: Invoking <bound method trace_view.update_cursor of <trace_view (PyQt5) at 0x1c4a0aa110>> repeat 8192\n"
     ]
    }
   ],
   "source": [
    "ex.fetview0.set_data(fet.fet[1][:,[1,3,4]], clu[1])\n",
    "ex.update()"
   ]
  },
  {
   "cell_type": "code",
   "execution_count": 20,
   "metadata": {},
   "outputs": [],
   "source": [
    "gclu = clu[1]"
   ]
  },
  {
   "cell_type": "code",
   "execution_count": 21,
   "metadata": {
    "scrolled": true
   },
   "outputs": [
    {
     "data": {
      "text/plain": [
       "array([ 848, 2681, 2795, 2899, 2951, 3162, 3521, 4018, 4031, 4074, 4169,\n",
       "       4224, 4237, 4486, 4489, 4648, 5064, 5078, 5823, 5966, 5967, 6047,\n",
       "       6049, 6070, 6610, 7207, 7319, 7919, 8057, 8167, 8378, 8602, 8679,\n",
       "       9240])"
      ]
     },
     "execution_count": 21,
     "metadata": {},
     "output_type": "execute_result"
    },
    {
     "name": "stderr",
     "output_type": "stream",
     "text": [
      "2018-03-11 15:08:33,804 - spiketag - DEBUG - ctree view expand clustier 9311 here\n",
      "2018-03-11 15:08:51,809 - spiketag - DEBUG - ctree view expand clustier 9313 here\n"
     ]
    }
   ],
   "source": [
    "gclu.selectlist"
   ]
  },
  {
   "cell_type": "code",
   "execution_count": 21,
   "metadata": {},
   "outputs": [
    {
     "data": {
      "text/plain": [
       "['spiketag.view.spike_view.on_select_id121320795744',\n",
       " 'spiketag.view.scatter_3d_view.on_select_id121444857928',\n",
       " 'spiketag.view.scatter_3d_view.on_select_id121449105600',\n",
       " 'spiketag.view.amplitude_view.on_select_id121452650320',\n",
       " 'spiketag.view.trace_view.on_select_id121529220464']"
      ]
     },
     "execution_count": 21,
     "metadata": {},
     "output_type": "execute_result"
    },
    {
     "name": "stderr",
     "output_type": "stream",
     "text": [
      "2018-03-11 14:14:28,666 - spiketag - DEBUG - ctree view collapse cluster 9309 here\n",
      "2018-03-11 14:14:29,401 - spiketag - DEBUG - ctree view collapse cluster 9309 here\n",
      "2018-03-11 14:14:31,183 - spiketag - DEBUG - ctree view collapse cluster 9309 here\n",
      "2018-03-11 14:14:32,756 - spiketag - DEBUG - ctree view collapse cluster 9311 here\n",
      "2018-03-11 14:14:34,080 - spiketag - DEBUG - ctree view collapse cluster 9311 here\n",
      "2018-03-11 14:14:34,932 - spiketag - DEBUG - ctree view collapse cluster 9309 here\n",
      "2018-03-11 14:14:35,486 - spiketag - DEBUG - ctree view collapse cluster 9311 here\n",
      "2018-03-11 14:14:36,014 - spiketag - DEBUG - ctree view collapse cluster 9311 here\n",
      "2018-03-11 14:14:36,999 - spiketag - DEBUG - ctree view collapse cluster 9309 here\n",
      "2018-03-11 14:14:37,535 - spiketag - DEBUG - ctree view collapse cluster 9311 here\n",
      "2018-03-11 14:14:39,278 - spiketag - DEBUG - ctree view expand clustier 9312 here\n",
      "2018-03-11 14:14:43,798 - spiketag - DEBUG - ctree view collapse cluster 9311 here\n",
      "2018-03-11 14:14:44,643 - spiketag - DEBUG - ctree view collapse cluster 9309 here\n"
     ]
    }
   ],
   "source": [
    "gclu._registered_func_name('select')"
   ]
  },
  {
   "cell_type": "code",
   "execution_count": null,
   "metadata": {},
   "outputs": [],
   "source": []
  }
 ],
 "metadata": {
  "kernelspec": {
   "display_name": "Python 3",
   "language": "python",
   "name": "python3"
  },
  "language_info": {
   "codemirror_mode": {
    "name": "ipython",
    "version": 2
   },
   "file_extension": ".py",
   "mimetype": "text/x-python",
   "name": "python",
   "nbconvert_exporter": "python",
   "pygments_lexer": "ipython2",
   "version": "2.7.3"
  },
  "toc": {
   "nav_menu": {},
   "number_sections": true,
   "sideBar": true,
   "skip_h1_title": false,
   "title_cell": "Table of Contents",
   "title_sidebar": "Contents",
   "toc_cell": false,
   "toc_position": {},
   "toc_section_display": true,
   "toc_window_display": false
  },
  "varInspector": {
   "cols": {
    "lenName": 16,
    "lenType": 16,
    "lenVar": 40
   },
   "kernels_config": {
    "python": {
     "delete_cmd_postfix": "",
     "delete_cmd_prefix": "del ",
     "library": "var_list.py",
     "varRefreshCmd": "print(var_dic_list())"
    },
    "r": {
     "delete_cmd_postfix": ") ",
     "delete_cmd_prefix": "rm(",
     "library": "var_list.r",
     "varRefreshCmd": "cat(var_dic_list()) "
    }
   },
   "types_to_exclude": [
    "module",
    "function",
    "builtin_function_or_method",
    "instance",
    "_Feature"
   ],
   "window_display": false
  }
 },
 "nbformat": 4,
 "nbformat_minor": 2
}
