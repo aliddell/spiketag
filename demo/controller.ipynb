{
 "cells": [
  {
   "cell_type": "code",
   "execution_count": 1,
   "metadata": {
    "ExecuteTime": {
     "end_time": "2018-07-17T19:39:40.746300Z",
     "start_time": "2018-07-17T19:39:40.719256Z"
    },
    "scrolled": false
   },
   "outputs": [
    {
     "data": {
      "text/plain": [
       "u'/disk0/Work/pydev/spiketag/demo'"
      ]
     },
     "execution_count": 1,
     "metadata": {},
     "output_type": "execute_result"
    }
   ],
   "source": [
    "pwd"
   ]
  },
  {
   "cell_type": "code",
   "execution_count": 2,
   "metadata": {
    "ExecuteTime": {
     "end_time": "2018-07-17T19:39:40.905233Z",
     "start_time": "2018-07-17T19:39:40.883215Z"
    }
   },
   "outputs": [],
   "source": [
    "%load_ext autoreload"
   ]
  },
  {
   "cell_type": "code",
   "execution_count": 3,
   "metadata": {
    "ExecuteTime": {
     "end_time": "2018-07-17T19:39:41.064361Z",
     "start_time": "2018-07-17T19:39:41.058505Z"
    }
   },
   "outputs": [],
   "source": [
    "%autoreload 2"
   ]
  },
  {
   "cell_type": "code",
   "execution_count": 4,
   "metadata": {
    "ExecuteTime": {
     "end_time": "2018-07-17T19:39:41.491149Z",
     "start_time": "2018-07-17T19:39:41.233833Z"
    },
    "scrolled": false
   },
   "outputs": [
    {
     "name": "stdout",
     "output_type": "stream",
     "text": [
      "Populating the interactive namespace from numpy and matplotlib\n"
     ]
    }
   ],
   "source": [
    "%pylab inline"
   ]
  },
  {
   "cell_type": "code",
   "execution_count": 5,
   "metadata": {
    "ExecuteTime": {
     "end_time": "2018-07-17T19:39:41.512971Z",
     "start_time": "2018-07-17T19:39:41.496765Z"
    }
   },
   "outputs": [],
   "source": [
    "%gui qt"
   ]
  },
  {
   "cell_type": "markdown",
   "metadata": {},
   "source": [
    "## load and view the probe geometry"
   ]
  },
  {
   "cell_type": "code",
   "execution_count": 6,
   "metadata": {
    "ExecuteTime": {
     "end_time": "2018-07-17T19:39:53.579029Z",
     "start_time": "2018-07-17T19:39:52.330493Z"
    },
    "scrolled": true
   },
   "outputs": [],
   "source": [
    "from spiketag.probe import prb_bowtie_LL as prb"
   ]
  },
  {
   "cell_type": "code",
   "execution_count": 7,
   "metadata": {
    "ExecuteTime": {
     "end_time": "2018-07-17T19:39:54.458318Z",
     "start_time": "2018-07-17T19:39:53.966584Z"
    },
    "scrolled": false
   },
   "outputs": [
    {
     "name": "stderr",
     "output_type": "stream",
     "text": [
      "/disk0/anaconda2/lib/python2.7/site-packages/IPython/config.py:13: ShimWarning: The `IPython.config` package has been deprecated since IPython 4.0. You should import from traitlets.config instead.\n",
      "  \"You should import from traitlets.config instead.\", ShimWarning)\n"
     ]
    }
   ],
   "source": [
    "prb.show(font_size=30)"
   ]
  },
  {
   "cell_type": "markdown",
   "metadata": {},
   "source": [
    "## Sort"
   ]
  },
  {
   "cell_type": "code",
   "execution_count": 8,
   "metadata": {
    "ExecuteTime": {
     "end_time": "2018-07-17T19:40:09.589573Z",
     "start_time": "2018-07-17T19:40:09.539789Z"
    }
   },
   "outputs": [],
   "source": [
    "prb.fs =25000.\n",
    "prb.n_ch = 160\n",
    "prb.reorder_by_chip = True\n",
    "prb._nchips = 5"
   ]
  },
  {
   "cell_type": "code",
   "execution_count": 9,
   "metadata": {
    "ExecuteTime": {
     "end_time": "2018-07-17T19:40:10.348815Z",
     "start_time": "2018-07-17T19:40:10.304595Z"
    }
   },
   "outputs": [],
   "source": [
    "from spiketag.mvc.Control import controller"
   ]
  },
  {
   "cell_type": "code",
   "execution_count": 9,
   "metadata": {
    "ExecuteTime": {
     "end_time": "2018-07-17T04:55:40.795107Z",
     "start_time": "2018-07-17T04:55:15.502297Z"
    },
    "scrolled": true
   },
   "outputs": [
    {
     "name": "stderr",
     "output_type": "stream",
     "text": [
      "2018-07-17 00:55:15,534 - spiketag - INFO - load mua data\n",
      "2018-07-17 00:55:15,537 - spiketag - INFO - #############  load data  ###################\n",
      "2018-07-17 00:55:15,538 - spiketag - INFO - /disk0/testbench/mua.bin loaded, it contains: \n",
      "2018-07-17 00:55:15,540 - spiketag - INFO - 17059414 * 160 points (10918024960 bytes) \n",
      "2018-07-17 00:55:15,542 - spiketag - INFO - 160 channels with sampling rate of 25000.0000 \n",
      "2018-07-17 00:55:15,543 - spiketag - INFO - 682.377 secs (11.373 mins) of data\n",
      "2018-07-17 00:55:15,544 - spiketag - INFO - #############################################\n",
      "2018-07-17 00:55:16,824 - spiketag - INFO - reordered with nchips=5 and nch_perchip=32\n",
      "2018-07-17 00:55:20,221 - spiketag - INFO - processing folder: /disk0/testbench/\n",
      "2018-07-17 00:55:20,282 - spiketag - INFO - raw data have 655193 spks\n",
      "2018-07-17 00:55:20,284 - spiketag - INFO - ----------------success------------------\n",
      "2018-07-17 00:55:20,285 - spiketag - INFO -  \n",
      "2018-07-17 00:55:20,287 - spiketag - INFO - extract spikes from pivital meta data\n",
      "2018-07-17 00:55:20,289 - spiketag - INFO - mua.tospk()\n",
      "2018-07-17 00:55:21,082 - spiketag - INFO - ----------------success------------------\n",
      "2018-07-17 00:55:21,084 - spiketag - INFO -  \n",
      "2018-07-17 00:55:21,086 - spiketag - INFO - grouping spike time\n",
      "2018-07-17 00:55:21,087 - spiketag - INFO - extrat features with weighted-pca\n",
      "2018-07-17 00:55:21,123 - spiketag - INFO - spk._tofet(group_id=0, method=weighted-pca, ncomp=6, whiten=False)\n",
      "2018-07-17 00:55:21,169 - spiketag - INFO - spk._tofet(group_id=1, method=weighted-pca, ncomp=6, whiten=False)\n",
      "2018-07-17 00:55:21,254 - spiketag - INFO - spk._tofet(group_id=2, method=weighted-pca, ncomp=6, whiten=False)\n",
      "2018-07-17 00:55:21,341 - spiketag - INFO - spk._tofet(group_id=3, method=weighted-pca, ncomp=6, whiten=False)\n",
      "2018-07-17 00:55:21,365 - spiketag - INFO - spk._tofet(group_id=4, method=weighted-pca, ncomp=6, whiten=False)\n",
      "2018-07-17 00:55:21,421 - spiketag - INFO - spk._tofet(group_id=5, method=weighted-pca, ncomp=6, whiten=False)\n",
      "2018-07-17 00:55:21,486 - spiketag - INFO - spk._tofet(group_id=6, method=weighted-pca, ncomp=6, whiten=False)\n",
      "2018-07-17 00:55:21,550 - spiketag - INFO - spk._tofet(group_id=7, method=weighted-pca, ncomp=6, whiten=False)\n",
      "2018-07-17 00:55:21,590 - spiketag - INFO - spk._tofet(group_id=8, method=weighted-pca, ncomp=6, whiten=False)\n",
      "2018-07-17 00:55:21,619 - spiketag - INFO - spk._tofet(group_id=9, method=weighted-pca, ncomp=6, whiten=False)\n",
      "2018-07-17 00:55:21,693 - spiketag - INFO - spk._tofet(group_id=10, method=weighted-pca, ncomp=6, whiten=False)\n",
      "2018-07-17 00:55:21,870 - spiketag - INFO - spk._tofet(group_id=11, method=weighted-pca, ncomp=6, whiten=False)\n",
      "2018-07-17 00:55:21,988 - spiketag - INFO - spk._tofet(group_id=12, method=weighted-pca, ncomp=6, whiten=False)\n",
      "2018-07-17 00:55:22,013 - spiketag - INFO - spk._tofet(group_id=13, method=weighted-pca, ncomp=6, whiten=False)\n",
      "2018-07-17 00:55:22,024 - spiketag - INFO - spk._tofet(group_id=14, method=weighted-pca, ncomp=6, whiten=False)\n",
      "2018-07-17 00:55:22,062 - spiketag - INFO - spk._tofet(group_id=15, method=weighted-pca, ncomp=6, whiten=False)\n",
      "2018-07-17 00:55:22,091 - spiketag - INFO - spk._tofet(group_id=16, method=weighted-pca, ncomp=6, whiten=False)\n",
      "2018-07-17 00:55:22,160 - spiketag - INFO - spk._tofet(group_id=17, method=weighted-pca, ncomp=6, whiten=False)\n",
      "2018-07-17 00:55:22,188 - spiketag - INFO - spk._tofet(group_id=18, method=weighted-pca, ncomp=6, whiten=False)\n",
      "2018-07-17 00:55:22,208 - spiketag - INFO - spk._tofet(group_id=19, method=weighted-pca, ncomp=6, whiten=False)\n",
      "2018-07-17 00:55:22,243 - spiketag - INFO - spk._tofet(group_id=20, method=weighted-pca, ncomp=6, whiten=False)\n",
      "2018-07-17 00:55:22,303 - spiketag - INFO - spk._tofet(group_id=21, method=weighted-pca, ncomp=6, whiten=False)\n",
      "2018-07-17 00:55:22,335 - spiketag - INFO - spk._tofet(group_id=22, method=weighted-pca, ncomp=6, whiten=False)\n",
      "2018-07-17 00:55:22,349 - spiketag - INFO - spk._tofet(group_id=23, method=weighted-pca, ncomp=6, whiten=False)\n",
      "2018-07-17 00:55:22,413 - spiketag - INFO - spk._tofet(group_id=24, method=weighted-pca, ncomp=6, whiten=False)\n",
      "2018-07-17 00:55:22,542 - spiketag - INFO - spk._tofet(group_id=25, method=weighted-pca, ncomp=6, whiten=False)\n",
      "2018-07-17 00:55:22,622 - spiketag - INFO - spk._tofet(group_id=26, method=weighted-pca, ncomp=6, whiten=False)\n",
      "2018-07-17 00:55:22,646 - spiketag - INFO - spk._tofet(group_id=27, method=weighted-pca, ncomp=6, whiten=False)\n",
      "2018-07-17 00:55:22,663 - spiketag - INFO - spk._tofet(group_id=28, method=weighted-pca, ncomp=6, whiten=False)\n",
      "2018-07-17 00:55:22,681 - spiketag - INFO - spk._tofet(group_id=29, method=weighted-pca, ncomp=6, whiten=False)\n",
      "2018-07-17 00:55:22,682 - spiketag - INFO - ----------------success------------------\n",
      "2018-07-17 00:55:22,683 - spiketag - INFO -  \n",
      "2018-07-17 00:55:22,684 - spiketag - INFO - clustering with hdbscan\n",
      "2018-07-17 00:55:37,020 - spiketag - INFO - clustering finished, used 14.3345098495 sec\n",
      "2018-07-17 00:55:37,023 - spiketag - INFO - Model.spktag is generated, nspk:508078\n"
     ]
    },
    {
     "name": "stdout",
     "output_type": "stream",
     "text": [
      "delete (1,) spikes\n",
      "delete (30,) spikes\n",
      "delete (14,) spikes\n",
      "delete (1,) spikes\n"
     ]
    }
   ],
   "source": [
    "ctrl = controller('/disk0/testbench/mua.bin', '/disk0/testbench/spk.bin', \n",
    "                  prb, binary_radix=13)"
   ]
  },
  {
   "cell_type": "code",
   "execution_count": 20,
   "metadata": {
    "ExecuteTime": {
     "end_time": "2018-07-17T19:44:13.514575Z",
     "start_time": "2018-07-17T19:44:13.272737Z"
    }
   },
   "outputs": [
    {
     "name": "stdout",
     "output_type": "stream",
     "text": [
      "mkdir: cannot create directory ‘/disk0/testbench/spiketag’: File exists\r\n"
     ]
    }
   ],
   "source": [
    "!mkdir /disk0/testbench/spiketag"
   ]
  },
  {
   "cell_type": "code",
   "execution_count": 18,
   "metadata": {
    "ExecuteTime": {
     "end_time": "2018-07-17T19:43:43.801396Z",
     "start_time": "2018-07-17T19:43:43.387277Z"
    }
   },
   "outputs": [],
   "source": [
    "ctrl.save('/disk0/testbench/spiketag/test')"
   ]
  },
  {
   "cell_type": "markdown",
   "metadata": {
    "ExecuteTime": {
     "end_time": "2018-07-17T19:40:58.488032Z",
     "start_time": "2018-07-17T19:40:58.452909Z"
    }
   },
   "source": [
    "## Sort based on previous saved spiketag"
   ]
  },
  {
   "cell_type": "code",
   "execution_count": 19,
   "metadata": {
    "ExecuteTime": {
     "end_time": "2018-07-17T19:44:08.441908Z",
     "start_time": "2018-07-17T19:43:57.865512Z"
    }
   },
   "outputs": [
    {
     "name": "stderr",
     "output_type": "stream",
     "text": [
      "2018-07-17 15:43:57,911 - spiketag - INFO - load spktag file\n",
      "2018-07-17 15:43:59,372 - spiketag - INFO - load mua data for wave view\n",
      "2018-07-17 15:43:59,376 - spiketag - INFO - #############  load data  ###################\n",
      "2018-07-17 15:43:59,378 - spiketag - INFO - /disk0/testbench/mua.bin loaded, it contains: \n",
      "2018-07-17 15:43:59,379 - spiketag - INFO - 17059414 * 160 points (10918024960 bytes) \n",
      "2018-07-17 15:43:59,381 - spiketag - INFO - 160 channels with sampling rate of 25000.0000 \n",
      "2018-07-17 15:43:59,382 - spiketag - INFO - 682.377 secs (11.373 mins) of data\n",
      "2018-07-17 15:43:59,384 - spiketag - INFO - #############################################\n",
      "2018-07-17 15:44:00,249 - spiketag - INFO - reordered with nchips=5 and nch_perchip=32\n",
      "2018-07-17 15:44:04,086 - spiketag - INFO - processing folder: /disk0/testbench/\n",
      "2018-07-17 15:44:04,148 - spiketag - INFO - raw data have 655193 spks\n",
      "2018-07-17 15:44:04,150 - spiketag - INFO - ----------------success------------------\n",
      "2018-07-17 15:44:04,151 - spiketag - INFO -  \n",
      "2018-07-17 15:44:04,153 - spiketag - INFO - Model.spktag is generated, nspk:506885\n"
     ]
    }
   ],
   "source": [
    "ctrl = controller('/disk0/testbench/mua.bin', '/disk0/testbench/spk.bin', prb,\n",
    "                  spktag_filename='/disk0/testbench/spiketag/test')"
   ]
  },
  {
   "cell_type": "code",
   "execution_count": null,
   "metadata": {},
   "outputs": [],
   "source": []
  }
 ],
 "metadata": {
  "kernelspec": {
   "display_name": "Python 2",
   "language": "python",
   "name": "python2"
  },
  "language_info": {
   "codemirror_mode": {
    "name": "ipython",
    "version": 2
   },
   "file_extension": ".py",
   "mimetype": "text/x-python",
   "name": "python",
   "nbconvert_exporter": "python",
   "pygments_lexer": "ipython2",
   "version": "2.7.14"
  }
 },
 "nbformat": 4,
 "nbformat_minor": 2
}
