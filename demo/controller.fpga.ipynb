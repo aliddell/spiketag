{
 "cells": [
  {
   "cell_type": "code",
   "execution_count": 1,
   "metadata": {
    "ExecuteTime": {
     "end_time": "2018-07-18T16:35:40.282076Z",
     "start_time": "2018-07-18T16:35:40.253788Z"
    },
    "scrolled": false
   },
   "outputs": [
    {
     "data": {
      "text/plain": [
       "u'/disk0/Work/pydev/spiketag/demo'"
      ]
     },
     "execution_count": 1,
     "metadata": {},
     "output_type": "execute_result"
    }
   ],
   "source": [
    "pwd"
   ]
  },
  {
   "cell_type": "code",
   "execution_count": 2,
   "metadata": {
    "ExecuteTime": {
     "end_time": "2018-07-18T16:35:40.644115Z",
     "start_time": "2018-07-18T16:35:40.619238Z"
    }
   },
   "outputs": [],
   "source": [
    "%load_ext autoreload"
   ]
  },
  {
   "cell_type": "code",
   "execution_count": 3,
   "metadata": {
    "ExecuteTime": {
     "end_time": "2018-07-18T16:35:40.881123Z",
     "start_time": "2018-07-18T16:35:40.876311Z"
    }
   },
   "outputs": [],
   "source": [
    "%autoreload 2"
   ]
  },
  {
   "cell_type": "code",
   "execution_count": 4,
   "metadata": {
    "ExecuteTime": {
     "end_time": "2018-07-18T16:35:41.339330Z",
     "start_time": "2018-07-18T16:35:41.057012Z"
    },
    "scrolled": false
   },
   "outputs": [
    {
     "name": "stdout",
     "output_type": "stream",
     "text": [
      "Populating the interactive namespace from numpy and matplotlib\n"
     ]
    }
   ],
   "source": [
    "%pylab inline"
   ]
  },
  {
   "cell_type": "code",
   "execution_count": 5,
   "metadata": {
    "ExecuteTime": {
     "end_time": "2018-07-18T16:35:41.363571Z",
     "start_time": "2018-07-18T16:35:41.344794Z"
    }
   },
   "outputs": [],
   "source": [
    "%gui qt"
   ]
  },
  {
   "cell_type": "markdown",
   "metadata": {},
   "source": [
    "## load and view the probe geometry"
   ]
  },
  {
   "cell_type": "code",
   "execution_count": 6,
   "metadata": {
    "ExecuteTime": {
     "end_time": "2018-07-18T16:35:43.853823Z",
     "start_time": "2018-07-18T16:35:42.663646Z"
    },
    "scrolled": true
   },
   "outputs": [],
   "source": [
    "from spiketag.probe import prb_bowtie_LL as prb"
   ]
  },
  {
   "cell_type": "code",
   "execution_count": 7,
   "metadata": {
    "ExecuteTime": {
     "end_time": "2018-07-18T16:35:44.893893Z",
     "start_time": "2018-07-18T16:35:44.486244Z"
    },
    "scrolled": false
   },
   "outputs": [
    {
     "name": "stderr",
     "output_type": "stream",
     "text": [
      "/disk0/anaconda2/lib/python2.7/site-packages/IPython/config.py:13: ShimWarning: The `IPython.config` package has been deprecated since IPython 4.0. You should import from traitlets.config instead.\n",
      "  \"You should import from traitlets.config instead.\", ShimWarning)\n"
     ]
    }
   ],
   "source": [
    "prb.show(font_size=30)"
   ]
  },
  {
   "cell_type": "code",
   "execution_count": 8,
   "metadata": {
    "ExecuteTime": {
     "end_time": "2018-07-18T16:36:33.482040Z",
     "start_time": "2018-07-18T16:36:33.436241Z"
    }
   },
   "outputs": [],
   "source": [
    "prb.fs =25000.\n",
    "prb.n_ch = 160\n",
    "prb.reorder_by_chip = True\n",
    "prb._nchips = 5"
   ]
  },
  {
   "cell_type": "code",
   "execution_count": 9,
   "metadata": {
    "ExecuteTime": {
     "end_time": "2018-07-18T16:36:40.275891Z",
     "start_time": "2018-07-18T16:36:40.232034Z"
    }
   },
   "outputs": [],
   "source": [
    "from spiketag.mvc.Control import controller"
   ]
  },
  {
   "cell_type": "code",
   "execution_count": null,
   "metadata": {},
   "outputs": [],
   "source": []
  },
  {
   "cell_type": "markdown",
   "metadata": {},
   "source": [
    "## Set Threshold"
   ]
  },
  {
   "cell_type": "code",
   "execution_count": 10,
   "metadata": {
    "ExecuteTime": {
     "end_time": "2018-07-18T16:37:16.868003Z",
     "start_time": "2018-07-18T16:37:09.509699Z"
    }
   },
   "outputs": [
    {
     "name": "stderr",
     "output_type": "stream",
     "text": [
      "2018-07-18 12:37:09,541 - spiketag - INFO - load mua data\n",
      "2018-07-18 12:37:09,544 - spiketag - INFO - #############  load data  ###################\n",
      "2018-07-18 12:37:09,546 - spiketag - INFO - /disk0/testbench/mua.bin loaded, it contains: \n",
      "2018-07-18 12:37:09,547 - spiketag - INFO - 17059414 * 160 points (10918024960 bytes) \n",
      "2018-07-18 12:37:09,549 - spiketag - INFO - 160 channels with sampling rate of 25000.0000 \n",
      "2018-07-18 12:37:09,550 - spiketag - INFO - 682.377 secs (11.373 mins) of data\n",
      "2018-07-18 12:37:09,552 - spiketag - INFO - #############################################\n",
      "2018-07-18 12:37:10,806 - spiketag - INFO - reordered with nchips=5 and nch_perchip=32\n",
      "2018-07-18 12:37:14,706 - spiketag - INFO - processing folder: /disk0/testbench/\n",
      "2018-07-18 12:37:14,744 - spiketag - INFO - raw data have 655193 spks\n",
      "2018-07-18 12:37:14,745 - spiketag - INFO - ----------------success------------------\n",
      "2018-07-18 12:37:14,747 - spiketag - INFO -  \n"
     ]
    }
   ],
   "source": [
    "ctrl = controller(fpga=True, probe=prb,\n",
    "                  mua_filename='/disk0/testbench/mua.bin', \n",
    "                  spk_filename='/disk0/testbench/spk.bin')"
   ]
  },
  {
   "cell_type": "code",
   "execution_count": 11,
   "metadata": {
    "ExecuteTime": {
     "end_time": "2018-07-18T16:37:37.313578Z",
     "start_time": "2018-07-18T16:37:36.455595Z"
    }
   },
   "outputs": [],
   "source": [
    "ctrl.set_threshold(beta=4.0)"
   ]
  },
  {
   "cell_type": "code",
   "execution_count": 14,
   "metadata": {
    "ExecuteTime": {
     "end_time": "2018-07-18T16:38:00.690665Z",
     "start_time": "2018-07-18T16:38:00.637601Z"
    }
   },
   "outputs": [
    {
     "data": {
      "text/plain": [
       "0:(0, 31, 34, 47)\n",
       "1:(1, 8, 15, 51)\n",
       "2:(2, 11, 55, 57)\n",
       "3:(3, 5, 52, 59)\n",
       "4:(4, 12, 13, 58)\n",
       "5:(3, 5, 52, 59)\n",
       "6:(6, 30, 49, 56)\n",
       "7:(7, 24, 27, 40)\n",
       "8:(1, 8, 15, 51)\n",
       "9:(9, 25, 33, 61)\n",
       "10:(10, 53, 54, 60)\n",
       "11:(2, 11, 55, 57)\n",
       "12:(4, 12, 13, 58)\n",
       "13:(4, 12, 13, 58)\n",
       "14:(14, 17, 22, 62)\n",
       "15:(1, 8, 15, 51)\n",
       "16:(16, 32, 41, 42)\n",
       "17:(14, 17, 22, 62)\n",
       "18:(18, 48, 50, 63)\n",
       "19:(19, 21, 37, 39)\n",
       "20:(20, 35, 36, 38)\n",
       "21:(19, 21, 37, 39)\n",
       "22:(14, 17, 22, 62)\n",
       "23:(23, 28, 43, 46)\n",
       "24:(7, 24, 27, 40)\n",
       "25:(9, 25, 33, 61)\n",
       "26:(26, 29, 44, 45)\n",
       "27:(7, 24, 27, 40)\n",
       "28:(23, 28, 43, 46)\n",
       "29:(26, 29, 44, 45)\n",
       "30:(6, 30, 49, 56)\n",
       "31:(0, 31, 34, 47)\n",
       "32:(16, 32, 41, 42)\n",
       "33:(9, 25, 33, 61)\n",
       "34:(0, 31, 34, 47)\n",
       "35:(20, 35, 36, 38)\n",
       "36:(20, 35, 36, 38)\n",
       "37:(19, 21, 37, 39)\n",
       "38:(20, 35, 36, 38)\n",
       "39:(19, 21, 37, 39)\n",
       "40:(7, 24, 27, 40)\n",
       "41:(16, 32, 41, 42)\n",
       "42:(16, 32, 41, 42)\n",
       "43:(23, 28, 43, 46)\n",
       "44:(26, 29, 44, 45)\n",
       "45:(26, 29, 44, 45)\n",
       "46:(23, 28, 43, 46)\n",
       "47:(0, 31, 34, 47)\n",
       "48:(18, 48, 50, 63)\n",
       "49:(6, 30, 49, 56)\n",
       "50:(18, 48, 50, 63)\n",
       "51:(1, 8, 15, 51)\n",
       "52:(3, 5, 52, 59)\n",
       "53:(10, 53, 54, 60)\n",
       "54:(10, 53, 54, 60)\n",
       "55:(2, 11, 55, 57)\n",
       "56:(6, 30, 49, 56)\n",
       "57:(2, 11, 55, 57)\n",
       "58:(4, 12, 13, 58)\n",
       "59:(3, 5, 52, 59)\n",
       "60:(10, 53, 54, 60)\n",
       "61:(9, 25, 33, 61)\n",
       "62:(14, 17, 22, 62)\n",
       "63:(18, 48, 50, 63)\n",
       "64:(64, 95, 98, 111)\n",
       "65:(65, 72, 79, 115)\n",
       "66:(66, 75, 119, 121)\n",
       "67:(67, 69, 116, 123)\n",
       "68:(68, 76, 77, 122)\n",
       "69:(67, 69, 116, 123)\n",
       "70:(70, 94, 113, 120)\n",
       "71:(71, 88, 91, 104)\n",
       "72:(65, 72, 79, 115)\n",
       "73:(73, 89, 97, 125)\n",
       "74:(74, 117, 118, 124)\n",
       "75:(66, 75, 119, 121)\n",
       "76:(68, 76, 77, 122)\n",
       "77:(68, 76, 77, 122)\n",
       "78:(78, 81, 86, 126)\n",
       "79:(65, 72, 79, 115)\n",
       "80:(80, 96, 105, 106)\n",
       "81:(78, 81, 86, 126)\n",
       "82:(82, 112, 114, 127)\n",
       "83:(83, 85, 101, 103)\n",
       "84:(84, 99, 100, 102)\n",
       "85:(83, 85, 101, 103)\n",
       "86:(78, 81, 86, 126)\n",
       "87:(87, 92, 107, 110)\n",
       "88:(71, 88, 91, 104)\n",
       "89:(73, 89, 97, 125)\n",
       "90:(90, 93, 108, 109)\n",
       "91:(71, 88, 91, 104)\n",
       "92:(87, 92, 107, 110)\n",
       "93:(90, 93, 108, 109)\n",
       "94:(70, 94, 113, 120)\n",
       "95:(64, 95, 98, 111)\n",
       "96:(80, 96, 105, 106)\n",
       "97:(73, 89, 97, 125)\n",
       "98:(64, 95, 98, 111)\n",
       "99:(84, 99, 100, 102)\n",
       "100:(84, 99, 100, 102)\n",
       "101:(83, 85, 101, 103)\n",
       "102:(84, 99, 100, 102)\n",
       "103:(83, 85, 101, 103)\n",
       "104:(71, 88, 91, 104)\n",
       "105:(80, 96, 105, 106)\n",
       "106:(80, 96, 105, 106)\n",
       "107:(87, 92, 107, 110)\n",
       "108:(90, 93, 108, 109)\n",
       "109:(90, 93, 108, 109)\n",
       "110:(87, 92, 107, 110)\n",
       "111:(64, 95, 98, 111)\n",
       "112:(82, 112, 114, 127)\n",
       "113:(70, 94, 113, 120)\n",
       "114:(82, 112, 114, 127)\n",
       "115:(65, 72, 79, 115)\n",
       "116:(67, 69, 116, 123)\n",
       "117:(74, 117, 118, 124)\n",
       "118:(74, 117, 118, 124)\n",
       "119:(66, 75, 119, 121)\n",
       "120:(70, 94, 113, 120)\n",
       "121:(66, 75, 119, 121)\n",
       "122:(68, 76, 77, 122)\n",
       "123:(67, 69, 116, 123)\n",
       "124:(74, 117, 118, 124)\n",
       "125:(73, 89, 97, 125)\n",
       "126:(78, 81, 86, 126)\n",
       "127:(82, 112, 114, 127)\n",
       "128:(128, 129, 130, 131)\n",
       "129:(128, 129, 130, 131)\n",
       "130:(128, 129, 130, 131)\n",
       "131:(128, 129, 130, 131)\n",
       "132:(132, 133, 134, 135)\n",
       "133:(132, 133, 134, 135)\n",
       "134:(132, 133, 134, 135)\n",
       "135:(132, 133, 134, 135)\n",
       "136:(136, 137, 138, 139)\n",
       "137:(136, 137, 138, 139)\n",
       "138:(136, 137, 138, 139)\n",
       "139:(136, 137, 138, 139)\n",
       "140:(140, 141, 142, 143)\n",
       "141:(140, 141, 142, 143)\n",
       "142:(140, 141, 142, 143)\n",
       "143:(140, 141, 142, 143)\n",
       "144:(144, 145, 146, 147)\n",
       "145:(144, 145, 146, 147)\n",
       "146:(144, 145, 146, 147)\n",
       "147:(144, 145, 146, 147)\n",
       "148:(148, 149, 150, 151)\n",
       "149:(148, 149, 150, 151)\n",
       "150:(148, 149, 150, 151)\n",
       "151:(148, 149, 150, 151)\n",
       "152:(152, 153, 154, 155)\n",
       "153:(152, 153, 154, 155)\n",
       "154:(152, 153, 154, 155)\n",
       "155:(152, 153, 154, 155)\n",
       "156:(156, 157, 158, 159)\n",
       "157:(156, 157, 158, 159)\n",
       "158:(156, 157, 158, 159)\n",
       "159:(156, 157, 158, 159)"
      ]
     },
     "execution_count": 14,
     "metadata": {},
     "output_type": "execute_result"
    }
   ],
   "source": [
    "ctrl.fpga.ch_ugp"
   ]
  },
  {
   "cell_type": "code",
   "execution_count": 13,
   "metadata": {
    "ExecuteTime": {
     "end_time": "2018-07-18T16:37:53.852545Z",
     "start_time": "2018-07-18T16:37:53.795794Z"
    }
   },
   "outputs": [
    {
     "name": "stdout",
     "output_type": "stream",
     "text": [
      "threshold of ch0 is -272.64553833\n",
      "threshold of ch1 is -202.070983887\n",
      "threshold of ch2 is -229.702850342\n",
      "threshold of ch3 is -207.438095093\n",
      "threshold of ch4 is -244.925354004\n",
      "threshold of ch5 is -205.993164062\n",
      "threshold of ch6 is -5000.0\n",
      "threshold of ch7 is -233.865371704\n",
      "threshold of ch8 is -221.566040039\n",
      "threshold of ch9 is -165.80279541\n",
      "threshold of ch10 is -225.467941284\n",
      "threshold of ch11 is -246.098098755\n",
      "threshold of ch12 is -265.47442627\n",
      "threshold of ch13 is -245.368392944\n",
      "threshold of ch14 is -236.500427246\n",
      "threshold of ch15 is -212.005996704\n",
      "threshold of ch16 is -237.70501709\n",
      "threshold of ch17 is -252.659667969\n",
      "threshold of ch18 is -254.463668823\n",
      "threshold of ch19 is -198.865478516\n",
      "threshold of ch20 is -240.68031311\n",
      "threshold of ch21 is -200.046905518\n",
      "threshold of ch22 is -230.606292725\n",
      "threshold of ch23 is -196.893539429\n",
      "threshold of ch24 is -261.8722229\n",
      "threshold of ch25 is -263.062347412\n",
      "threshold of ch26 is -285.395141602\n",
      "threshold of ch27 is -230.574447632\n",
      "threshold of ch28 is -194.701522827\n",
      "threshold of ch29 is -280.814208984\n",
      "threshold of ch30 is -5000.0\n",
      "threshold of ch31 is -276.994812012\n",
      "threshold of ch32 is -210.193313599\n",
      "threshold of ch33 is -253.389373779\n",
      "threshold of ch34 is -262.383300781\n",
      "threshold of ch35 is -207.461257935\n",
      "threshold of ch36 is -243.670089722\n",
      "threshold of ch37 is -202.373580933\n",
      "threshold of ch38 is -208.264801025\n",
      "threshold of ch39 is -212.433120728\n",
      "threshold of ch40 is -243.160446167\n",
      "threshold of ch41 is -187.114883423\n",
      "threshold of ch42 is -198.853897095\n",
      "threshold of ch43 is -223.145614624\n",
      "threshold of ch44 is -276.149291992\n",
      "threshold of ch45 is -275.573059082\n",
      "threshold of ch46 is -209.357925415\n",
      "threshold of ch47 is -254.56791687\n",
      "threshold of ch48 is -229.333648682\n",
      "threshold of ch49 is -5000.0\n",
      "threshold of ch50 is -224.195297241\n",
      "threshold of ch51 is -214.396377563\n",
      "threshold of ch52 is -199.273773193\n",
      "threshold of ch53 is -223.329498291\n",
      "threshold of ch54 is -216.595626831\n",
      "threshold of ch55 is -233.3644104\n",
      "threshold of ch56 is -5000.0\n",
      "threshold of ch57 is -231.683486938\n",
      "threshold of ch58 is -241.428833008\n",
      "threshold of ch59 is -197.769470215\n",
      "threshold of ch60 is -203.508682251\n",
      "threshold of ch61 is -264.799743652\n",
      "threshold of ch62 is -215.373657227\n",
      "threshold of ch63 is -213.76512146\n",
      "threshold of ch64 is -264.789611816\n",
      "threshold of ch65 is -236.232574463\n",
      "threshold of ch66 is -242.139724731\n",
      "threshold of ch67 is -218.61390686\n",
      "threshold of ch68 is -235.295822144\n",
      "threshold of ch69 is -208.967010498\n",
      "threshold of ch70 is -5000.0\n",
      "threshold of ch71 is -244.415710449\n",
      "threshold of ch72 is -215.463424683\n",
      "threshold of ch73 is -244.43598938\n",
      "threshold of ch74 is -226.985275269\n",
      "threshold of ch75 is -81.9878158569\n",
      "threshold of ch76 is -270.890777588\n",
      "threshold of ch77 is -233.43536377\n",
      "threshold of ch78 is -247.294006348\n",
      "threshold of ch79 is -243.936477661\n",
      "threshold of ch80 is -210.605957031\n",
      "threshold of ch81 is -242.173019409\n",
      "threshold of ch82 is -257.507019043\n",
      "threshold of ch83 is -222.453552246\n",
      "threshold of ch84 is -277.13961792\n",
      "threshold of ch85 is -244.588012695\n",
      "threshold of ch86 is -230.913238525\n",
      "threshold of ch87 is -241.517150879\n",
      "threshold of ch88 is -230.302246094\n",
      "threshold of ch89 is -252.176101685\n",
      "threshold of ch90 is -246.367401123\n",
      "threshold of ch91 is -227.725112915\n",
      "threshold of ch92 is -230.713439941\n",
      "threshold of ch93 is -227.845275879\n",
      "threshold of ch94 is -5000.0\n",
      "threshold of ch95 is -253.516784668\n",
      "threshold of ch96 is -232.912689209\n",
      "threshold of ch97 is -252.289031982\n",
      "threshold of ch98 is -266.036193848\n",
      "threshold of ch99 is -245.3046875\n",
      "threshold of ch100 is -255.100708008\n",
      "threshold of ch101 is -228.08416748\n",
      "threshold of ch102 is -251.110488892\n",
      "threshold of ch103 is -242.094848633\n",
      "threshold of ch104 is -228.354919434\n",
      "threshold of ch105 is -247.596603394\n",
      "threshold of ch106 is -211.30380249\n",
      "threshold of ch107 is -221.955505371\n",
      "threshold of ch108 is -252.361419678\n",
      "threshold of ch109 is -269.183776855\n",
      "threshold of ch110 is -248.138092041\n",
      "threshold of ch111 is -272.195251465\n",
      "threshold of ch112 is -253.070861816\n",
      "threshold of ch113 is -5000.0\n",
      "threshold of ch114 is -236.173217773\n",
      "threshold of ch115 is -236.62638855\n",
      "threshold of ch116 is -230.387680054\n",
      "threshold of ch117 is -230.672897339\n",
      "threshold of ch118 is -227.143081665\n",
      "threshold of ch119 is -244.133392334\n",
      "threshold of ch120 is -5000.0\n",
      "threshold of ch121 is -222.255203247\n",
      "threshold of ch122 is -239.475708008\n",
      "threshold of ch123 is -215.598068237\n",
      "threshold of ch124 is -221.927993774\n",
      "threshold of ch125 is -242.474182129\n",
      "threshold of ch126 is -232.329223633\n",
      "threshold of ch127 is -232.335006714\n",
      "threshold of ch128 is -5000.0\n",
      "threshold of ch129 is -5000.0\n",
      "threshold of ch130 is -5000.0\n",
      "threshold of ch131 is -5000.0\n",
      "threshold of ch132 is -5000.0\n",
      "threshold of ch133 is -5000.0\n",
      "threshold of ch134 is -5000.0\n",
      "threshold of ch135 is -5000.0\n",
      "threshold of ch136 is -5000.0\n",
      "threshold of ch137 is -5000.0\n",
      "threshold of ch138 is -5000.0\n",
      "threshold of ch139 is -5000.0\n",
      "threshold of ch140 is -5000.0\n",
      "threshold of ch141 is -5000.0\n",
      "threshold of ch142 is -5000.0\n",
      "threshold of ch143 is -5000.0\n",
      "threshold of ch144 is -5000.0\n",
      "threshold of ch145 is -5000.0\n",
      "threshold of ch146 is -5000.0\n",
      "threshold of ch147 is -5000.0\n",
      "threshold of ch148 is -5000.0\n",
      "threshold of ch149 is -5000.0\n",
      "threshold of ch150 is -5000.0\n",
      "threshold of ch151 is -5000.0\n",
      "threshold of ch152 is -5000.0\n",
      "threshold of ch153 is -5000.0\n",
      "threshold of ch154 is -5000.0\n",
      "threshold of ch155 is -5000.0\n",
      "threshold of ch156 is -5000.0\n",
      "threshold of ch157 is -5000.0\n",
      "threshold of ch158 is -5000.0\n",
      "threshold of ch159 is -5000.0\n"
     ]
    },
    {
     "data": {
      "text/plain": [
       "threshold enable status: False"
      ]
     },
     "execution_count": 13,
     "metadata": {},
     "output_type": "execute_result"
    }
   ],
   "source": [
    "ctrl.fpga.thres"
   ]
  },
  {
   "cell_type": "code",
   "execution_count": null,
   "metadata": {},
   "outputs": [],
   "source": []
  }
 ],
 "metadata": {
  "kernelspec": {
   "display_name": "Python 2",
   "language": "python",
   "name": "python2"
  },
  "language_info": {
   "codemirror_mode": {
    "name": "ipython",
    "version": 2
   },
   "file_extension": ".py",
   "mimetype": "text/x-python",
   "name": "python",
   "nbconvert_exporter": "python",
   "pygments_lexer": "ipython2",
   "version": "2.7.14"
  }
 },
 "nbformat": 4,
 "nbformat_minor": 2
}
