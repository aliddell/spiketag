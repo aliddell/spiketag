{
 "cells": [
  {
   "cell_type": "code",
   "execution_count": 1,
   "metadata": {
    "ExecuteTime": {
     "end_time": "2016-09-06T14:45:50.178181",
     "start_time": "2016-09-06T14:45:49.750003"
    },
    "collapsed": false,
    "scrolled": false
   },
   "outputs": [
    {
     "name": "stdout",
     "output_type": "stream",
     "text": [
      "Populating the interactive namespace from numpy and matplotlib\n"
     ]
    }
   ],
   "source": [
    "%pylab inline\n",
    "%gui qt"
   ]
  },
  {
   "cell_type": "markdown",
   "metadata": {},
   "source": [
    "### Load Sorted Data"
   ]
  },
  {
   "cell_type": "code",
   "execution_count": 2,
   "metadata": {
    "ExecuteTime": {
     "end_time": "2016-09-06T14:45:52.051444",
     "start_time": "2016-09-06T14:45:51.028756"
    },
    "collapsed": false
   },
   "outputs": [],
   "source": [
    "from spiketag.mvc import Sorter"
   ]
  },
  {
   "cell_type": "code",
   "execution_count": 3,
   "metadata": {
    "ExecuteTime": {
     "end_time": "2016-09-06T14:45:54.516721",
     "start_time": "2016-09-06T14:45:52.557836"
    },
    "collapsed": false,
    "scrolled": false
   },
   "outputs": [
    {
     "name": "stderr",
     "output_type": "stream",
     "text": [
      "[INFO/MainProcess] load mua data\n"
     ]
    },
    {
     "name": "stdout",
     "output_type": "stream",
     "text": [
      "#############  load data  ###################\n",
      "/mnt/ramdisk/pcie.bin loaded, it contains: \n",
      "30150587 * 32 points (3859275136 bytes) \n",
      "32 channels with sampling rate of 25000.0000 \n",
      "1206.023 secs (20.100 mins) of data\n",
      "#############################################\n"
     ]
    },
    {
     "name": "stderr",
     "output_type": "stream",
     "text": [
      "[INFO/MainProcess] load spktag file\n"
     ]
    }
   ],
   "source": [
    "app = Sorter('/mnt/ramdisk/pcie.bin', '/mnt/ramdisk/pcie_spktag.bin')"
   ]
  },
  {
   "cell_type": "code",
   "execution_count": 4,
   "metadata": {
    "ExecuteTime": {
     "end_time": "2016-09-06T14:45:55.322076",
     "start_time": "2016-09-06T14:45:55.006045"
    },
    "collapsed": false,
    "scrolled": false
   },
   "outputs": [],
   "source": [
    "app.run()"
   ]
  },
  {
   "cell_type": "code",
   "execution_count": 5,
   "metadata": {
    "ExecuteTime": {
     "end_time": "2016-09-06T14:43:50.887961",
     "start_time": "2016-09-06T14:43:50.869419"
    },
    "collapsed": false
   },
   "outputs": [
    {
     "data": {
      "text/plain": [
       "array([1, 0, 3, 2, 1, 0, 3, 3, 1, 0, 0, 3, 2, 3, 3, 1, 2, 1, 3, 0, 3, 1, 2,\n",
       "       1, 2, 2, 1, 0, 3, 0, 2, 2, 1, 3, 2, 1, 1, 3, 3, 0, 0, 3, 0, 1, 2, 2,\n",
       "       1, 0, 3, 2, 3, 3, 2, 1, 2, 3, 0, 1, 0, 3, 2, 0, 0, 3, 1, 3, 1, 3, 1,\n",
       "       3, 1, 3, 1, 3, 1, 2, 1, 1, 3, 1, 1, 2, 0, 3, 1, 2, 1, 0, 2, 3, 1, 1,\n",
       "       3, 3, 2, 0, 3, 3, 3, 2])"
      ]
     },
     "execution_count": 5,
     "metadata": {},
     "output_type": "execute_result"
    }
   ],
   "source": [
    "app.vq['labels'][26]"
   ]
  },
  {
   "cell_type": "code",
   "execution_count": 6,
   "metadata": {
    "ExecuteTime": {
     "end_time": "2016-09-06T14:43:52.477458",
     "start_time": "2016-09-06T14:43:52.454072"
    },
    "collapsed": false,
    "scrolled": true
   },
   "outputs": [
    {
     "data": {
      "text/plain": [
       "array([[  4.16119662e-03,   1.42117989e-04,  -1.11736284e-02],\n",
       "       [ -4.76963778e-01,   5.25984678e-02,  -2.45644263e-02],\n",
       "       [  1.23210976e-01,  -1.04865550e-02,  -1.01957544e-02],\n",
       "       [  4.01460445e-02,   1.19649370e-01,   1.56332700e-02],\n",
       "       [ -8.92058826e-02,  -2.94222620e-02,   1.12136198e-02],\n",
       "       [ -3.55025090e-01,  -1.49841649e-02,  -4.71683426e-02],\n",
       "       [  8.19082931e-02,  -2.47851726e-02,  -3.18782755e-02],\n",
       "       [  7.74687407e-02,   9.56536012e-03,   3.28124760e-02],\n",
       "       [ -1.41607717e-01,  -5.05188119e-02,   3.09714684e-02],\n",
       "       [ -3.19158783e-01,   3.58684021e-02,  -3.17317321e-02],\n",
       "       [ -5.05066071e-01,  -1.85973287e-02,  -1.63912738e-02],\n",
       "       [  4.96160423e-02,  -2.91375093e-02,  -7.14798105e-03],\n",
       "       [  4.29651243e-02,   6.06316279e-02,  -4.67750075e-03],\n",
       "       [  1.09359570e-01,  -2.67798036e-03,  -2.13831041e-02],\n",
       "       [  1.37921324e-01,  -2.36169878e-02,  -3.63421530e-02],\n",
       "       [ -1.33395741e-01,  -3.09101031e-03,   4.30878238e-02],\n",
       "       [  5.47325229e-02,   1.30283376e-01,  -8.43625420e-03],\n",
       "       [ -4.12570653e-02,  -1.43274413e-02,   5.01059697e-02],\n",
       "       [  8.90135467e-02,  -6.59398906e-03,  -4.19848055e-03],\n",
       "       [ -6.31864087e-01,   2.65111403e-02,   1.31950634e-02],\n",
       "       [  1.15172215e-01,  -2.40604234e-02,   8.15791522e-04],\n",
       "       [ -6.75712122e-02,  -2.50262478e-02,   6.82368091e-05],\n",
       "       [ -1.34484762e-01,   6.57825413e-02,   4.67724331e-02],\n",
       "       [ -8.64592062e-02,  -1.68430544e-02,   3.81492555e-02],\n",
       "       [  8.97986341e-02,   1.35002956e-01,  -3.16632830e-02],\n",
       "       [  1.13537148e-01,   7.58258808e-02,  -9.95979689e-02],\n",
       "       [ -1.62640102e-02,  -4.21703810e-02,  -7.13138905e-02],\n",
       "       [ -2.42304090e-01,  -6.30831092e-02,  -6.17828628e-02],\n",
       "       [  1.07791473e-01,   1.72102812e-02,   2.20469551e-02],\n",
       "       [ -4.58436222e-01,  -9.81686473e-02,  -9.10661533e-02],\n",
       "       [  8.06662121e-03,   8.88411571e-02,   6.09090856e-03],\n",
       "       [  8.45830658e-02,   7.99947056e-02,  -2.81620132e-02],\n",
       "       [  2.42762920e-02,  -1.41571717e-01,  -1.29417612e-01],\n",
       "       [  4.92402649e-02,  -9.28437340e-02,  -4.74603399e-02],\n",
       "       [ -5.49484913e-02,   1.06779108e-01,   1.97825151e-02],\n",
       "       [ -5.46564274e-02,  -3.75993651e-02,   1.28246995e-02],\n",
       "       [ -9.77040788e-02,  -4.77067612e-02,   3.44808519e-02],\n",
       "       [  9.22419777e-02,  -2.60592140e-02,   6.23930886e-03],\n",
       "       [  1.28421384e-01,  -3.42578490e-02,  -1.13303816e-02],\n",
       "       [ -4.28662413e-01,   4.97950421e-02,  -3.46995784e-02],\n",
       "       [ -5.36846869e-01,   4.78022282e-02,  -9.74216195e-03],\n",
       "       [  2.66790463e-02,  -2.12114027e-02,   2.46516277e-02],\n",
       "       [ -2.48574283e-01,  -2.26537980e-02,  -7.81463590e-02],\n",
       "       [ -2.47650874e-01,   3.68782265e-03,   8.56274356e-02],\n",
       "       [  6.34545606e-02,   9.17717204e-02,   1.12866443e-02],\n",
       "       [  3.76157612e-02,   9.75244834e-02,  -1.08139875e-02],\n",
       "       [ -2.26769709e-02,  -4.10867766e-02,   3.63983132e-02],\n",
       "       [ -3.84794182e-01,  -3.99215735e-02,  -3.02242672e-02],\n",
       "       [  6.60794335e-02,  -2.74518115e-02,   1.45425527e-02],\n",
       "       [  7.22087867e-03,   1.16029207e-01,  -8.24092997e-03],\n",
       "       [  1.41421942e-01,   3.39660698e-03,  -1.43542477e-02],\n",
       "       [  1.04648782e-01,  -2.71645326e-02,  -1.30188003e-02],\n",
       "       [ -1.85097293e-02,   7.38411493e-02,   2.76071775e-02],\n",
       "       [ -2.17685776e-01,  -6.51416301e-02,   4.85013418e-02],\n",
       "       [ -2.56417607e-02,   5.52372853e-02,  -1.76577897e-02],\n",
       "       [  4.74684310e-02,   1.79604642e-04,   2.97138614e-02],\n",
       "       [ -5.66866806e-01,  -9.31241313e-03,  -8.37625436e-03],\n",
       "       [ -3.51770554e-02,  -1.88236323e-02,  -8.28890652e-03],\n",
       "       [ -3.10012784e-01,  -4.00940456e-02,  -3.16625692e-02],\n",
       "       [  1.43446533e-01,   3.12480182e-02,   1.05350919e-02],\n",
       "       [  1.01958498e-01,   1.19240856e-01,  -2.64375409e-03],\n",
       "       [ -4.29920926e-01,  -1.44497309e-02,  -3.13236891e-02],\n",
       "       [ -3.79216755e-01,   1.24515218e-02,  -2.91702232e-02],\n",
       "       [  6.47579964e-02,  -3.81950354e-03,   1.13128358e-02],\n",
       "       [ -9.39842276e-02,   1.80529007e-03,   2.44151037e-02],\n",
       "       [  1.33850956e-01,   1.18222885e-03,   3.01086953e-03],\n",
       "       [ -6.22495433e-02,  -5.41186048e-03,   1.45672721e-02],\n",
       "       [  1.22054445e-01,  -6.64935434e-02,  -6.57717797e-02],\n",
       "       [ -1.16996244e-01,  -2.22510085e-02,   2.47360774e-02],\n",
       "       [  1.38862099e-01,  -1.76101517e-02,  -1.53390373e-02],\n",
       "       [ -6.91219306e-02,  -7.08742467e-02,   1.91938377e-02],\n",
       "       [  8.95000822e-02,  -8.71694670e-03,   1.49959200e-02],\n",
       "       [ -5.67693399e-03,  -4.06829950e-02,  -1.53221951e-02],\n",
       "       [  8.88315245e-02,  -4.43745304e-02,  -1.11613935e-02],\n",
       "       [ -8.05064172e-02,  -5.71753031e-02,  -1.70374053e-02],\n",
       "       [  1.39777301e-01,   1.28677303e-01,  -1.85900988e-02],\n",
       "       [ -1.60819880e-01,  -4.11368643e-02,  -3.25147842e-02],\n",
       "       [ -3.27613663e-02,   3.69990843e-03,   1.18647939e-02],\n",
       "       [  1.25147762e-01,  -4.17943830e-02,  -3.02274880e-02],\n",
       "       [ -8.25825958e-02,   1.29310764e-02,   6.72823188e-02],\n",
       "       [ -4.53597818e-02,  -5.30418578e-02,  -2.33096622e-02],\n",
       "       [  8.66717796e-02,   1.67177210e-01,   2.33342398e-02],\n",
       "       [ -4.78126192e-01,   8.87499147e-03,  -2.96174982e-02],\n",
       "       [  1.13328017e-01,   6.85896622e-03,  -6.70624672e-02],\n",
       "       [ -6.47765352e-02,  -4.19918224e-02,   5.06421949e-02],\n",
       "       [ -1.01611567e-02,   1.27278788e-01,   3.28551749e-02],\n",
       "       [ -1.14791145e-01,  -5.17084943e-02,   4.44916239e-03],\n",
       "       [ -2.43700891e-01,   1.53637980e-02,  -4.28695747e-02],\n",
       "       [  3.92730057e-02,   5.63548317e-02,  -3.46919704e-02],\n",
       "       [  1.06830642e-01,  -6.57287416e-02,  -2.82867542e-02],\n",
       "       [ -1.75162243e-01,  -2.76851914e-02,   6.26697465e-02],\n",
       "       [ -1.22922628e-01,  -3.20724375e-02,   5.78038729e-02],\n",
       "       [  1.18340498e-01,  -1.02531363e-02,   8.37330468e-03],\n",
       "       [  4.89881262e-03,   1.27389933e-02,   4.19221016e-02],\n",
       "       [  6.61052006e-02,   1.10581209e-01,  -2.71802618e-02],\n",
       "       [ -3.08447982e-01,  -2.63173647e-03,  -6.03787334e-02],\n",
       "       [  1.34036561e-01,  -1.91295852e-02,   3.01256290e-03],\n",
       "       [  1.08729168e-01,  -4.72915147e-03,   1.82740884e-02],\n",
       "       [  1.33984370e-01,  -7.12428024e-05,   2.16879447e-02],\n",
       "       [  1.34289681e-02,   1.52473254e-01,   3.13193453e-03]])"
      ]
     },
     "execution_count": 6,
     "metadata": {},
     "output_type": "execute_result"
    }
   ],
   "source": [
    "app.vq['points'][26]"
   ]
  },
  {
   "cell_type": "code",
   "execution_count": 7,
   "metadata": {
    "ExecuteTime": {
     "end_time": "2016-09-06T14:43:53.728024",
     "start_time": "2016-09-06T14:43:53.721047"
    },
    "collapsed": false
   },
   "outputs": [
    {
     "data": {
      "text/plain": [
       "0.99044978434996922"
      ]
     },
     "execution_count": 7,
     "metadata": {},
     "output_type": "execute_result"
    }
   ],
   "source": [
    "app.vq['scores'][26]"
   ]
  },
  {
   "cell_type": "code",
   "execution_count": 23,
   "metadata": {
    "ExecuteTime": {
     "end_time": "2016-09-06T13:22:07.468050",
     "start_time": "2016-09-06T13:22:07.461655"
    },
    "collapsed": false
   },
   "outputs": [
    {
     "data": {
      "text/plain": [
       "(314904,)"
      ]
     },
     "execution_count": 23,
     "metadata": {},
     "output_type": "execute_result"
    }
   ],
   "source": [
    "app.model.spktag.spktag['t'].shape"
   ]
  },
  {
   "cell_type": "code",
   "execution_count": 26,
   "metadata": {
    "ExecuteTime": {
     "end_time": "2016-09-06T13:24:03.558243",
     "start_time": "2016-09-06T13:24:03.549321"
    },
    "collapsed": false
   },
   "outputs": [
    {
     "data": {
      "text/plain": [
       "(314904,)"
      ]
     },
     "execution_count": 26,
     "metadata": {},
     "output_type": "execute_result"
    }
   ],
   "source": [
    "app.model.spktag.spktag['clu'].shape"
   ]
  },
  {
   "cell_type": "code",
   "execution_count": null,
   "metadata": {
    "collapsed": true
   },
   "outputs": [],
   "source": []
  },
  {
   "cell_type": "code",
   "execution_count": null,
   "metadata": {
    "collapsed": true
   },
   "outputs": [],
   "source": []
  },
  {
   "cell_type": "code",
   "execution_count": null,
   "metadata": {
    "collapsed": true
   },
   "outputs": [],
   "source": []
  },
  {
   "cell_type": "markdown",
   "metadata": {},
   "source": [
    "### Learn a new linear projection: LDA"
   ]
  },
  {
   "cell_type": "code",
   "execution_count": 5,
   "metadata": {
    "ExecuteTime": {
     "end_time": "2016-09-02T07:54:57.514537",
     "start_time": "2016-09-02T07:54:57.461765"
    },
    "collapsed": true
   },
   "outputs": [],
   "source": [
    "import numpy as np\n",
    "from sklearn import (manifold, datasets, decomposition, ensemble,\n",
    "                     discriminant_analysis, random_projection)"
   ]
  },
  {
   "cell_type": "code",
   "execution_count": 261,
   "metadata": {
    "ExecuteTime": {
     "end_time": "2016-09-02T10:04:20.030192",
     "start_time": "2016-09-02T10:04:20.025350"
    },
    "collapsed": true
   },
   "outputs": [],
   "source": [
    "X = app.fet\n",
    "y = app.clu.membership"
   ]
  },
  {
   "cell_type": "code",
   "execution_count": 13,
   "metadata": {
    "ExecuteTime": {
     "end_time": "2016-09-01T22:51:40.287075",
     "start_time": "2016-09-01T22:51:40.248221"
    },
    "collapsed": false
   },
   "outputs": [
    {
     "data": {
      "text/plain": [
       "LinearDiscriminantAnalysis(n_components=3, priors=None, shrinkage=None,\n",
       "              solver='svd', store_covariance=False, tol=0.0001)"
      ]
     },
     "execution_count": 13,
     "metadata": {},
     "output_type": "execute_result"
    }
   ],
   "source": [
    "lda = discriminant_analysis.LinearDiscriminantAnalysis(n_components=3)\n",
    "lda.fit(X,y)"
   ]
  },
  {
   "cell_type": "code",
   "execution_count": 14,
   "metadata": {
    "ExecuteTime": {
     "end_time": "2016-09-01T22:51:42.506100",
     "start_time": "2016-09-01T22:51:42.499642"
    },
    "collapsed": false
   },
   "outputs": [],
   "source": [
    "newfet = np.dot(X, lda.scalings_)"
   ]
  },
  {
   "cell_type": "code",
   "execution_count": 66,
   "metadata": {
    "ExecuteTime": {
     "end_time": "2016-09-01T16:32:27.601955",
     "start_time": "2016-09-01T16:32:27.594990"
    },
    "collapsed": false
   },
   "outputs": [],
   "source": [
    "newfet = np.dot(newfet, np.linalg.inv(lda.scalings_))"
   ]
  },
  {
   "cell_type": "code",
   "execution_count": 15,
   "metadata": {
    "ExecuteTime": {
     "end_time": "2016-09-01T22:51:43.890162",
     "start_time": "2016-09-01T22:51:43.884897"
    },
    "collapsed": false
   },
   "outputs": [],
   "source": [
    "newfet = newfet/-newfet.min()"
   ]
  },
  {
   "cell_type": "code",
   "execution_count": 16,
   "metadata": {
    "ExecuteTime": {
     "end_time": "2016-09-01T22:51:48.265289",
     "start_time": "2016-09-01T22:51:47.855801"
    },
    "collapsed": false
   },
   "outputs": [],
   "source": [
    "app.fet = newfet"
   ]
  },
  {
   "cell_type": "code",
   "execution_count": 10,
   "metadata": {
    "ExecuteTime": {
     "end_time": "2016-09-01T16:33:55.597880",
     "start_time": "2016-09-01T16:33:55.593531"
    },
    "collapsed": true
   },
   "outputs": [],
   "source": [
    "correct_labels = y"
   ]
  },
  {
   "cell_type": "code",
   "execution_count": 52,
   "metadata": {
    "ExecuteTime": {
     "end_time": "2016-09-01T15:59:41.722772",
     "start_time": "2016-09-01T15:59:41.714565"
    },
    "collapsed": true
   },
   "outputs": [],
   "source": [
    "labels = lda.predict(X)"
   ]
  },
  {
   "cell_type": "code",
   "execution_count": 11,
   "metadata": {
    "ExecuteTime": {
     "end_time": "2016-09-01T16:33:57.012112",
     "start_time": "2016-09-01T16:33:56.987360"
    },
    "collapsed": false
   },
   "outputs": [
    {
     "data": {
      "text/plain": [
       "0.99121996303142335"
      ]
     },
     "execution_count": 11,
     "metadata": {},
     "output_type": "execute_result"
    }
   ],
   "source": [
    "lda.score(X, correct_labels)"
   ]
  },
  {
   "cell_type": "code",
   "execution_count": null,
   "metadata": {
    "collapsed": true
   },
   "outputs": [],
   "source": []
  },
  {
   "cell_type": "code",
   "execution_count": null,
   "metadata": {
    "collapsed": true
   },
   "outputs": [],
   "source": []
  },
  {
   "cell_type": "code",
   "execution_count": null,
   "metadata": {
    "collapsed": true
   },
   "outputs": [],
   "source": []
  },
  {
   "cell_type": "code",
   "execution_count": 165,
   "metadata": {
    "ExecuteTime": {
     "end_time": "2016-09-01T18:46:35.522188",
     "start_time": "2016-09-01T18:46:35.517476"
    },
    "collapsed": true
   },
   "outputs": [],
   "source": [
    "from sklearn.decomposition import FastICA, PCA"
   ]
  },
  {
   "cell_type": "code",
   "execution_count": 166,
   "metadata": {
    "ExecuteTime": {
     "end_time": "2016-09-01T18:46:35.891855",
     "start_time": "2016-09-01T18:46:35.887868"
    },
    "collapsed": true
   },
   "outputs": [],
   "source": [
    "spk = app.spk"
   ]
  },
  {
   "cell_type": "code",
   "execution_count": 167,
   "metadata": {
    "ExecuteTime": {
     "end_time": "2016-09-01T18:46:36.645912",
     "start_time": "2016-09-01T18:46:36.633276"
    },
    "collapsed": false
   },
   "outputs": [
    {
     "data": {
      "text/plain": [
       "(25524, 75)"
      ]
     },
     "execution_count": 167,
     "metadata": {},
     "output_type": "execute_result"
    }
   ],
   "source": [
    "X = spk.transpose(0,2,1).ravel().reshape(-1, spk.shape[1]*spk.shape[2])\n",
    "X.shape"
   ]
  },
  {
   "cell_type": "code",
   "execution_count": 169,
   "metadata": {
    "ExecuteTime": {
     "end_time": "2016-09-01T18:46:41.584531",
     "start_time": "2016-09-01T18:46:41.421319"
    },
    "collapsed": false
   },
   "outputs": [
    {
     "name": "stdout",
     "output_type": "stream",
     "text": [
      "clustering method: hdbscan, chNo: 25, fall_off_size: 19\n"
     ]
    }
   ],
   "source": [
    "ica = FastICA(n_components=3, whiten=True)\n",
    "S_ = ica.fit_transform(X)  # Reconstruct signals"
   ]
  },
  {
   "cell_type": "code",
   "execution_count": 160,
   "metadata": {
    "ExecuteTime": {
     "end_time": "2016-09-01T18:44:00.833853",
     "start_time": "2016-09-01T18:44:00.828931"
    },
    "collapsed": true
   },
   "outputs": [],
   "source": [
    "S_ = S_/S_.min()"
   ]
  },
  {
   "cell_type": "code",
   "execution_count": 161,
   "metadata": {
    "ExecuteTime": {
     "end_time": "2016-09-01T18:44:02.158807",
     "start_time": "2016-09-01T18:44:01.952068"
    },
    "collapsed": false
   },
   "outputs": [
    {
     "name": "stdout",
     "output_type": "stream",
     "text": [
      "clustering method: hdbscan, chNo: 25, fall_off_size: 19\n"
     ]
    }
   ],
   "source": [
    "app.fet = S_"
   ]
  },
  {
   "cell_type": "code",
   "execution_count": null,
   "metadata": {
    "collapsed": true
   },
   "outputs": [],
   "source": []
  },
  {
   "cell_type": "markdown",
   "metadata": {},
   "source": [
    "###### K-Means Tree"
   ]
  },
  {
   "cell_type": "code",
   "execution_count": 217,
   "metadata": {
    "ExecuteTime": {
     "end_time": "2016-09-02T08:56:41.271158",
     "start_time": "2016-09-02T08:56:41.265292"
    },
    "collapsed": false
   },
   "outputs": [],
   "source": [
    "from sklearn.cluster import KMeans"
   ]
  },
  {
   "cell_type": "code",
   "execution_count": 300,
   "metadata": {
    "ExecuteTime": {
     "end_time": "2016-09-02T10:34:15.448468",
     "start_time": "2016-09-02T10:34:15.442397"
    },
    "collapsed": true
   },
   "outputs": [],
   "source": [
    "X = app.fet\n",
    "y = app.clu.membership"
   ]
  },
  {
   "cell_type": "code",
   "execution_count": 333,
   "metadata": {
    "ExecuteTime": {
     "end_time": "2016-09-02T10:43:34.322542",
     "start_time": "2016-09-02T10:43:34.318021"
    },
    "collapsed": false
   },
   "outputs": [],
   "source": [
    "km = KMeans(500)"
   ]
  },
  {
   "cell_type": "code",
   "execution_count": 334,
   "metadata": {
    "ExecuteTime": {
     "end_time": "2016-09-02T10:43:57.993013",
     "start_time": "2016-09-02T10:43:34.903708"
    },
    "collapsed": false
   },
   "outputs": [
    {
     "data": {
      "text/plain": [
       "KMeans(copy_x=True, init='k-means++', max_iter=300, n_clusters=500, n_init=10,\n",
       "    n_jobs=1, precompute_distances='auto', random_state=None, tol=0.0001,\n",
       "    verbose=0)"
      ]
     },
     "execution_count": 334,
     "metadata": {},
     "output_type": "execute_result"
    }
   ],
   "source": [
    "km.fit(X)"
   ]
  },
  {
   "cell_type": "code",
   "execution_count": 323,
   "metadata": {
    "ExecuteTime": {
     "end_time": "2016-09-02T10:43:02.565201",
     "start_time": "2016-09-02T10:43:02.559752"
    },
    "collapsed": false
   },
   "outputs": [],
   "source": [
    "_X = np.vstack((km.cluster_centers_, X))"
   ]
  },
  {
   "cell_type": "code",
   "execution_count": 324,
   "metadata": {
    "ExecuteTime": {
     "end_time": "2016-09-02T10:43:02.783162",
     "start_time": "2016-09-02T10:43:02.776921"
    },
    "collapsed": false,
    "scrolled": true
   },
   "outputs": [
    {
     "data": {
      "text/plain": [
       "array([-0.44416327, -0.0174318 , -0.01818248])"
      ]
     },
     "execution_count": 324,
     "metadata": {},
     "output_type": "execute_result"
    }
   ],
   "source": [
    "_X[99]"
   ]
  },
  {
   "cell_type": "code",
   "execution_count": 5,
   "metadata": {
    "ExecuteTime": {
     "end_time": "2016-09-06T11:29:06.650389",
     "start_time": "2016-09-06T11:29:06.645049"
    },
    "collapsed": true
   },
   "outputs": [],
   "source": [
    "from spiketag.view import scatter_3d_view"
   ]
  },
  {
   "cell_type": "code",
   "execution_count": 306,
   "metadata": {
    "ExecuteTime": {
     "end_time": "2016-09-02T10:34:23.079429",
     "start_time": "2016-09-02T10:34:22.841911"
    },
    "collapsed": false
   },
   "outputs": [],
   "source": [
    "sdview = scatter_3d_view()\n",
    "sdview.set_data(_X, clu=np.ones(len(_X)).astype(np.int64))"
   ]
  },
  {
   "cell_type": "code",
   "execution_count": 307,
   "metadata": {
    "ExecuteTime": {
     "end_time": "2016-09-02T10:34:24.071318",
     "start_time": "2016-09-02T10:34:24.059373"
    },
    "collapsed": true
   },
   "outputs": [],
   "source": [
    "sdview.show()"
   ]
  },
  {
   "cell_type": "code",
   "execution_count": 310,
   "metadata": {
    "ExecuteTime": {
     "end_time": "2016-09-02T10:34:45.459219",
     "start_time": "2016-09-02T10:34:45.451877"
    },
    "collapsed": true
   },
   "outputs": [],
   "source": [
    "sdview.highlight(np.arange(50))"
   ]
  },
  {
   "cell_type": "code",
   "execution_count": 335,
   "metadata": {
    "ExecuteTime": {
     "end_time": "2016-09-02T10:44:11.158359",
     "start_time": "2016-09-02T10:44:11.143111"
    },
    "collapsed": true
   },
   "outputs": [],
   "source": [
    "app.model.construct_kdtree(app.ch)"
   ]
  },
  {
   "cell_type": "code",
   "execution_count": 336,
   "metadata": {
    "ExecuteTime": {
     "end_time": "2016-09-02T10:44:11.342711",
     "start_time": "2016-09-02T10:44:11.316111"
    },
    "collapsed": false
   },
   "outputs": [],
   "source": [
    "d = []\n",
    "for _kd in app.model.kd:\n",
    "    tmp = _kd.query(km.cluster_centers_, 10)[0]\n",
    "    d.append(tmp.mean(axis=1))\n",
    "d = np.vstack(np.asarray(d))"
   ]
  },
  {
   "cell_type": "code",
   "execution_count": 337,
   "metadata": {
    "ExecuteTime": {
     "end_time": "2016-09-02T10:44:11.502655",
     "start_time": "2016-09-02T10:44:11.499541"
    },
    "collapsed": true
   },
   "outputs": [],
   "source": [
    "labels = np.argmin(d,axis=0)"
   ]
  },
  {
   "cell_type": "code",
   "execution_count": 343,
   "metadata": {
    "ExecuteTime": {
     "end_time": "2016-09-02T10:48:10.211016",
     "start_time": "2016-09-02T10:48:10.196068"
    },
    "collapsed": false,
    "scrolled": true
   },
   "outputs": [
    {
     "data": {
      "text/plain": [
       "array([0, 3, 1, 2, 0, 1, 3, 0, 2, 2, 0, 3, 0, 3, 2, 1, 3, 0, 1, 1, 1, 3, 2,\n",
       "       1, 3, 0, 1, 1, 3, 0, 0, 3, 1, 1, 2, 2, 3, 0, 2, 2, 0, 0, 3, 1, 2, 3,\n",
       "       3, 2, 1, 0, 1, 3, 2, 3, 1, 0, 1, 0, 1, 1, 3, 0, 2, 1, 0, 1, 2, 2, 3,\n",
       "       2, 3, 3, 1, 3, 1, 0, 3, 0, 0, 2, 3, 1, 2, 0, 3, 3, 2, 2, 3, 1, 1, 2,\n",
       "       2, 1, 0, 3, 3, 3, 0, 3, 2, 0, 1, 0, 1, 3, 1, 1, 3, 3, 2, 2, 3, 0, 1,\n",
       "       2, 3, 3, 3, 3, 1, 0, 3, 2, 1, 1, 2, 1, 3, 0, 0, 3, 3, 1, 1, 2, 3, 1,\n",
       "       2, 1, 0, 1, 0, 3, 3, 3, 0, 2, 0, 0, 3, 3, 1, 3, 3, 1, 3, 2, 1, 1, 3,\n",
       "       0, 1, 0, 1, 3, 0, 2, 0, 1, 2, 2, 2, 0, 1, 2, 3, 0, 3, 1, 0, 2, 1, 1,\n",
       "       1, 0, 1, 2, 2, 0, 2, 0, 3, 1, 1, 1, 3, 1, 3, 3, 0, 0, 1, 1, 2, 0, 1,\n",
       "       1, 2, 3, 3, 1, 1, 3, 2, 0, 3, 1, 3, 2, 3, 2, 2, 2, 1, 2, 1, 0, 3, 2,\n",
       "       0, 2, 3, 0, 1, 2, 0, 3, 3, 3, 3, 0, 3, 3, 2, 1, 3, 2, 1, 3, 0, 2, 1,\n",
       "       0, 3, 2, 2, 0, 1, 1, 1, 2, 3, 1, 2, 1, 0, 3, 3, 0, 3, 2, 0, 1, 0, 2,\n",
       "       0, 3, 1, 0, 1, 2, 2, 3, 3, 1, 1, 0, 3, 0, 3, 1, 2, 0, 3, 3, 2, 3, 3,\n",
       "       1, 1, 0, 3, 1, 1, 0, 0, 1, 1, 2, 2, 0, 2, 3, 3, 0, 0, 0, 0, 2, 1, 3,\n",
       "       1, 3, 0, 0, 3, 2, 1, 1, 1, 0, 3, 3, 3, 0, 1, 1, 3, 3, 0, 2, 0, 2, 1,\n",
       "       0, 0, 3, 1, 1, 2, 1, 2, 2, 3, 0, 3, 1, 1, 3, 3, 3, 3, 0, 2, 3, 1, 3,\n",
       "       1, 0, 3, 2, 2, 3, 0, 0, 3, 2, 0, 3, 3, 2, 3, 0, 3, 0, 3, 0, 3, 2, 2,\n",
       "       3, 2, 2, 1, 3, 3, 3, 3, 3, 0, 3, 0, 1, 3, 0, 1, 0, 3, 3, 1, 3, 2, 1,\n",
       "       2, 1, 1, 1, 3, 1, 3, 1, 0, 1, 0, 3, 2, 2, 1, 0, 0, 2, 0, 2, 0, 2, 1,\n",
       "       0, 1, 2, 3, 2, 0, 1, 1, 2, 0, 2, 0, 3, 3, 1, 3, 1, 1, 1, 1, 2, 1, 1,\n",
       "       3, 2, 2, 1, 3, 1, 0, 1, 2, 1, 1, 1, 3, 2, 3, 1, 1, 2, 2, 2, 2, 1, 1,\n",
       "       0, 1, 2, 2, 3, 3, 2, 0, 1, 0, 0, 2, 3, 3, 0, 0, 3])"
      ]
     },
     "execution_count": 343,
     "metadata": {},
     "output_type": "execute_result"
    }
   ],
   "source": [
    "labels"
   ]
  },
  {
   "cell_type": "code",
   "execution_count": 339,
   "metadata": {
    "ExecuteTime": {
     "end_time": "2016-09-02T10:44:12.194493",
     "start_time": "2016-09-02T10:44:11.942282"
    },
    "collapsed": false
   },
   "outputs": [],
   "source": [
    "from spiketag.base import CLU\n",
    "sdview = scatter_3d_view()\n",
    "sdview.set_data(km.cluster_centers_, clu=CLU(labels))"
   ]
  },
  {
   "cell_type": "code",
   "execution_count": 340,
   "metadata": {
    "ExecuteTime": {
     "end_time": "2016-09-02T10:44:13.292114",
     "start_time": "2016-09-02T10:44:13.280576"
    },
    "collapsed": true
   },
   "outputs": [],
   "source": [
    "sdview.show()"
   ]
  },
  {
   "cell_type": "code",
   "execution_count": 341,
   "metadata": {
    "ExecuteTime": {
     "end_time": "2016-09-02T10:44:31.242185",
     "start_time": "2016-09-02T10:44:31.228873"
    },
    "collapsed": false,
    "scrolled": false
   },
   "outputs": [
    {
     "data": {
      "text/plain": [
       "KNeighborsClassifier(algorithm='auto', leaf_size=30, metric='minkowski',\n",
       "           metric_params=None, n_jobs=1, n_neighbors=1, p=2,\n",
       "           weights='uniform')"
      ]
     },
     "execution_count": 341,
     "metadata": {},
     "output_type": "execute_result"
    }
   ],
   "source": [
    "k = 1\n",
    "knn = KNN(n_neighbors=k)\n",
    "knn.fit(km.cluster_centers_, labels)"
   ]
  },
  {
   "cell_type": "code",
   "execution_count": 342,
   "metadata": {
    "ExecuteTime": {
     "end_time": "2016-09-02T10:44:32.501924",
     "start_time": "2016-09-02T10:44:32.464726"
    },
    "collapsed": false,
    "scrolled": true
   },
   "outputs": [
    {
     "data": {
      "text/plain": [
       "0.99376155268022182"
      ]
     },
     "execution_count": 342,
     "metadata": {},
     "output_type": "execute_result"
    }
   ],
   "source": [
    "knn.score(X,y)"
   ]
  },
  {
   "cell_type": "code",
   "execution_count": 355,
   "metadata": {
    "ExecuteTime": {
     "end_time": "2016-09-02T10:54:14.815532",
     "start_time": "2016-09-02T10:54:14.714057"
    },
    "collapsed": false,
    "scrolled": true
   },
   "outputs": [
    {
     "data": {
      "text/plain": [
       "array([3, 0, 3, ..., 1, 3, 1])"
      ]
     },
     "execution_count": 355,
     "metadata": {},
     "output_type": "execute_result"
    }
   ],
   "source": [
    "labels[km.predict(X)]"
   ]
  },
  {
   "cell_type": "code",
   "execution_count": 354,
   "metadata": {
    "ExecuteTime": {
     "end_time": "2016-09-02T10:54:12.723451",
     "start_time": "2016-09-02T10:54:12.688237"
    },
    "collapsed": false
   },
   "outputs": [
    {
     "data": {
      "text/plain": [
       "array([3, 0, 3, ..., 1, 3, 1])"
      ]
     },
     "execution_count": 354,
     "metadata": {},
     "output_type": "execute_result"
    }
   ],
   "source": [
    "knn.predict(X)"
   ]
  },
  {
   "cell_type": "code",
   "execution_count": null,
   "metadata": {
    "collapsed": true
   },
   "outputs": [],
   "source": []
  },
  {
   "cell_type": "markdown",
   "metadata": {},
   "source": [
    "## Classification\n",
    "### cross-validation"
   ]
  },
  {
   "cell_type": "code",
   "execution_count": 94,
   "metadata": {
    "ExecuteTime": {
     "end_time": "2016-09-06T12:41:45.237064",
     "start_time": "2016-09-06T12:41:45.230433"
    },
    "collapsed": true
   },
   "outputs": [],
   "source": [
    "import seaborn as sns\n",
    "from sklearn import cross_validation\n",
    "from sklearn.cross_validation import KFold"
   ]
  },
  {
   "cell_type": "code",
   "execution_count": 95,
   "metadata": {
    "ExecuteTime": {
     "end_time": "2016-09-06T12:41:45.455938",
     "start_time": "2016-09-06T12:41:45.447313"
    },
    "collapsed": true
   },
   "outputs": [],
   "source": [
    "spk = app.spk\n",
    "X = spk.transpose(0,2,1).ravel().reshape(-1, spk.shape[1]*spk.shape[2])\n",
    "y = app.clu.membership"
   ]
  },
  {
   "cell_type": "code",
   "execution_count": 125,
   "metadata": {
    "ExecuteTime": {
     "end_time": "2016-09-06T12:43:59.421958",
     "start_time": "2016-09-06T12:43:59.417111"
    },
    "collapsed": true
   },
   "outputs": [],
   "source": [
    "X = app.fet\n",
    "y = app.clu.membership"
   ]
  },
  {
   "cell_type": "code",
   "execution_count": 126,
   "metadata": {
    "ExecuteTime": {
     "end_time": "2016-09-06T12:43:59.623938",
     "start_time": "2016-09-06T12:43:59.611130"
    },
    "collapsed": false,
    "scrolled": true
   },
   "outputs": [
    {
     "data": {
      "text/plain": [
       "((4464, 3), (4464,), (40179, 3), (40179,))"
      ]
     },
     "execution_count": 126,
     "metadata": {},
     "output_type": "execute_result"
    }
   ],
   "source": [
    "X_train, X_test, y_train, y_test = cross_validation.train_test_split(\n",
    "    X, y, test_size=0.9, random_state=0)\n",
    "X_train.shape, y_train.shape, X_test.shape, y_test.shape"
   ]
  },
  {
   "cell_type": "markdown",
   "metadata": {},
   "source": [
    "#### 1. LDA"
   ]
  },
  {
   "cell_type": "code",
   "execution_count": 127,
   "metadata": {
    "ExecuteTime": {
     "end_time": "2016-09-06T12:43:59.976932",
     "start_time": "2016-09-06T12:43:59.971727"
    },
    "collapsed": true
   },
   "outputs": [],
   "source": [
    "import numpy as np\n",
    "from sklearn import (manifold, datasets, decomposition, ensemble,\n",
    "                     discriminant_analysis, random_projection)"
   ]
  },
  {
   "cell_type": "code",
   "execution_count": 150,
   "metadata": {
    "ExecuteTime": {
     "end_time": "2016-09-06T12:46:09.801725",
     "start_time": "2016-09-06T12:46:09.616935"
    },
    "collapsed": false
   },
   "outputs": [],
   "source": [
    "scores = []\n",
    "kf = KFold(len(y), n_folds=10, shuffle=False, random_state=None)\n",
    "for train, test in kf:\n",
    "    X_train = X[train,:]\n",
    "    y_train = y[train]\n",
    "    X_test  = X[test,:]\n",
    "    y_test  = y[test]\n",
    "    lda = discriminant_analysis.LinearDiscriminantAnalysis(n_components=3)\n",
    "    lda.fit(X_train, y_train)\n",
    "    scores.append(lda.score(X_test, y_test))\n",
    "scores = np.asarray(scores)"
   ]
  },
  {
   "cell_type": "code",
   "execution_count": 151,
   "metadata": {
    "ExecuteTime": {
     "end_time": "2016-09-06T12:46:10.604157",
     "start_time": "2016-09-06T12:46:10.282350"
    },
    "collapsed": false
   },
   "outputs": [
    {
     "data": {
      "text/plain": [
       "<matplotlib.legend.Legend at 0x7fc3db7caa10>"
      ]
     },
     "execution_count": 151,
     "metadata": {},
     "output_type": "execute_result"
    },
    {
     "data": {
      "image/png": "[encoded data removed]",
      "text/plain": [
       "<matplotlib.figure.Figure at 0x7fc3d80d4850>"
      ]
     },
     "metadata": {},
     "output_type": "display_data"
    }
   ],
   "source": [
    "_ac_l = \"Accuracy: %0.2f (+/- %0.2f)\" % (scores.mean(), scores.std() * 2)\n",
    "plt.bar(np.arange(k_folds), scores, label=_ac_l)\n",
    "plt.axhline(scores.mean(),ls='-.', lw=3 ,c='r')\n",
    "ylim(0.5,1.1)\n",
    "legend(loc='best')"
   ]
  },
  {
   "cell_type": "code",
   "execution_count": 129,
   "metadata": {
    "ExecuteTime": {
     "end_time": "2016-09-06T12:44:00.385721",
     "start_time": "2016-09-06T12:44:00.367947"
    },
    "collapsed": false
   },
   "outputs": [
    {
     "data": {
      "text/plain": [
       "0.96258960573476704"
      ]
     },
     "execution_count": 129,
     "metadata": {},
     "output_type": "execute_result"
    }
   ],
   "source": [
    "lda = discriminant_analysis.LinearDiscriminantAnalysis(n_components=3)\n",
    "lda.fit(X_train, y_train)\n",
    "lda.score(X_test, y_test)"
   ]
  },
  {
   "cell_type": "code",
   "execution_count": 130,
   "metadata": {
    "ExecuteTime": {
     "end_time": "2016-09-06T12:44:00.785401",
     "start_time": "2016-09-06T12:44:00.521864"
    },
    "collapsed": false
   },
   "outputs": [
    {
     "name": "stderr",
     "output_type": "stream",
     "text": [
      "[Parallel(n_jobs=1)]: Done  10 out of  10 | elapsed:    0.2s finished\n"
     ]
    },
    {
     "data": {
      "text/plain": [
       "array([ 0.9218715 ,  0.95254086,  0.95789474,  0.96303763,  0.96684588,\n",
       "        0.96886201,  0.97042348,  0.96930316,  0.95272238,  0.90701322])"
      ]
     },
     "execution_count": 130,
     "metadata": {},
     "output_type": "execute_result"
    }
   ],
   "source": [
    "k_folds = 10\n",
    "scores = cross_validation.cross_val_score(lda, X, y, cv=k_folds, verbose=1)\n",
    "scores"
   ]
  },
  {
   "cell_type": "code",
   "execution_count": 131,
   "metadata": {
    "ExecuteTime": {
     "end_time": "2016-09-06T12:44:01.961308",
     "start_time": "2016-09-06T12:44:01.643373"
    },
    "collapsed": false,
    "scrolled": true
   },
   "outputs": [
    {
     "data": {
      "text/plain": [
       "<matplotlib.legend.Legend at 0x7fc4046bc850>"
      ]
     },
     "execution_count": 131,
     "metadata": {},
     "output_type": "execute_result"
    },
    {
     "data": {
      "image/png": "[encoded data removed]",
      "text/plain": [
       "<matplotlib.figure.Figure at 0x7fc4047d30d0>"
      ]
     },
     "metadata": {},
     "output_type": "display_data"
    }
   ],
   "source": [
    "_ac_l = \"Accuracy: %0.2f (+/- %0.2f)\" % (scores.mean(), scores.std() * 2)\n",
    "plt.bar(np.arange(k_folds), scores, label=_ac_l)\n",
    "plt.axhline(scores.mean(),ls='-.', lw=3 ,c='r')\n",
    "ylim(0.5,1.1)\n",
    "legend(loc='best')"
   ]
  },
  {
   "cell_type": "code",
   "execution_count": null,
   "metadata": {
    "collapsed": true
   },
   "outputs": [],
   "source": []
  },
  {
   "cell_type": "code",
   "execution_count": null,
   "metadata": {
    "collapsed": true
   },
   "outputs": [],
   "source": []
  },
  {
   "cell_type": "markdown",
   "metadata": {},
   "source": [
    "#### 2. SVM"
   ]
  },
  {
   "cell_type": "code",
   "execution_count": 152,
   "metadata": {
    "ExecuteTime": {
     "end_time": "2016-09-02T07:31:20.157822",
     "start_time": "2016-09-02T07:31:20.153161"
    },
    "collapsed": false
   },
   "outputs": [],
   "source": [
    "from sklearn.svm import SVC as SVM"
   ]
  },
  {
   "cell_type": "code",
   "execution_count": 153,
   "metadata": {
    "ExecuteTime": {
     "end_time": "2016-09-02T07:53:47.243384",
     "start_time": "2016-09-02T07:31:21.588010"
    },
    "collapsed": false
   },
   "outputs": [
    {
     "data": {
      "text/plain": [
       "0.96852862942741147"
      ]
     },
     "execution_count": 153,
     "metadata": {},
     "output_type": "execute_result"
    }
   ],
   "source": [
    "svm = SVM(kernel='linear', C=3)\n",
    "svm.fit(X_train, y_train)\n",
    "svm.score(X_test, y_test)"
   ]
  },
  {
   "cell_type": "code",
   "execution_count": null,
   "metadata": {
    "ExecuteTime": {
     "start_time": "2016-09-02T11:31:27.111Z"
    },
    "collapsed": false
   },
   "outputs": [],
   "source": [
    "k_folds = 10\n",
    "scores = cross_validation.cross_val_score(svm, X, y, cv=k_folds)\n",
    "scores"
   ]
  },
  {
   "cell_type": "code",
   "execution_count": null,
   "metadata": {
    "ExecuteTime": {
     "start_time": "2016-09-02T11:31:27.949Z"
    },
    "collapsed": false
   },
   "outputs": [],
   "source": [
    "_ac_l = \"Accuracy: %0.2f (+/- %0.2f)\" % (scores.mean(), scores.std() * 2)\n",
    "plt.bar(np.arange(k_folds), scores, label=_ac_l)\n",
    "plt.axhline(scores.mean(),ls='-.', lw=3 ,c='r')\n",
    "ylim(0.5,1.1)\n",
    "legend(loc='best')"
   ]
  },
  {
   "cell_type": "code",
   "execution_count": null,
   "metadata": {
    "collapsed": true
   },
   "outputs": [],
   "source": []
  },
  {
   "cell_type": "markdown",
   "metadata": {},
   "source": [
    "#### 3. KNN"
   ]
  },
  {
   "cell_type": "code",
   "execution_count": 132,
   "metadata": {
    "ExecuteTime": {
     "end_time": "2016-09-06T12:44:16.327951",
     "start_time": "2016-09-06T12:44:16.322665"
    },
    "collapsed": true
   },
   "outputs": [],
   "source": [
    "from sklearn.neighbors import KNeighborsClassifier as KNN"
   ]
  },
  {
   "cell_type": "code",
   "execution_count": 133,
   "metadata": {
    "ExecuteTime": {
     "end_time": "2016-09-06T12:44:16.518306",
     "start_time": "2016-09-06T12:44:16.513266"
    },
    "collapsed": true
   },
   "outputs": [],
   "source": [
    "k = 1\n",
    "knn = KNN(n_neighbors=k, algorithm='kd_tree')"
   ]
  },
  {
   "cell_type": "code",
   "execution_count": 134,
   "metadata": {
    "ExecuteTime": {
     "end_time": "2016-09-06T12:44:16.790951",
     "start_time": "2016-09-06T12:44:16.724267"
    },
    "collapsed": false
   },
   "outputs": [
    {
     "data": {
      "text/plain": [
       "0.97939068100358428"
      ]
     },
     "execution_count": 134,
     "metadata": {},
     "output_type": "execute_result"
    }
   ],
   "source": [
    "knn.fit(X_train, y_train)\n",
    "knn.score(X_test, y_test)"
   ]
  },
  {
   "cell_type": "code",
   "execution_count": 139,
   "metadata": {
    "ExecuteTime": {
     "end_time": "2016-09-06T12:44:49.468324",
     "start_time": "2016-09-06T12:44:49.006682"
    },
    "collapsed": false
   },
   "outputs": [
    {
     "data": {
      "text/plain": [
       "array([ 0.97134542,  0.99082158,  0.99417693,  0.99417563,  0.99484767,\n",
       "        0.99619176,  0.99596684,  0.9968631 ,  0.99484652,  0.97400851])"
      ]
     },
     "execution_count": 139,
     "metadata": {},
     "output_type": "execute_result"
    }
   ],
   "source": [
    "k_folds = 10\n",
    "scores = cross_validation.cross_val_score(knn, X, y, cv=k_folds)\n",
    "scores"
   ]
  },
  {
   "cell_type": "code",
   "execution_count": 140,
   "metadata": {
    "ExecuteTime": {
     "end_time": "2016-09-06T12:44:49.744537",
     "start_time": "2016-09-06T12:44:49.470255"
    },
    "collapsed": false,
    "scrolled": true
   },
   "outputs": [
    {
     "data": {
      "text/plain": [
       "<matplotlib.legend.Legend at 0x7fc3dba0ba10>"
      ]
     },
     "execution_count": 140,
     "metadata": {},
     "output_type": "execute_result"
    },
    {
     "data": {
      "image/png": "[encoded data removed]",
      "text/plain": [
       "<matplotlib.figure.Figure at 0x7fc4047c5f90>"
      ]
     },
     "metadata": {},
     "output_type": "display_data"
    }
   ],
   "source": [
    "_ac_l = \"Accuracy: %0.2f (+/- %0.2f)\" % (scores.mean(), scores.std() * 2)\n",
    "plt.bar(np.arange(k_folds), scores, label=_ac_l)\n",
    "plt.axhline(scores.mean(),ls='-.', lw=3 ,c='r')\n",
    "ylim(0.5,1.1)\n",
    "legend(loc='best')"
   ]
  },
  {
   "cell_type": "code",
   "execution_count": null,
   "metadata": {
    "collapsed": true
   },
   "outputs": [],
   "source": []
  },
  {
   "cell_type": "code",
   "execution_count": null,
   "metadata": {
    "collapsed": true
   },
   "outputs": [],
   "source": []
  },
  {
   "cell_type": "code",
   "execution_count": null,
   "metadata": {
    "collapsed": true
   },
   "outputs": [],
   "source": []
  },
  {
   "cell_type": "markdown",
   "metadata": {},
   "source": [
    "#### 4. K-Means"
   ]
  },
  {
   "cell_type": "markdown",
   "metadata": {},
   "source": [
    "A vector-quantization based classifier"
   ]
  },
  {
   "cell_type": "code",
   "execution_count": 141,
   "metadata": {
    "ExecuteTime": {
     "end_time": "2016-09-06T12:44:58.840927",
     "start_time": "2016-09-06T12:44:58.835829"
    },
    "collapsed": true
   },
   "outputs": [],
   "source": [
    "from sklearn.cluster import KMeans, MiniBatchKMeans\n",
    "from sklearn.neighbors import KNeighborsClassifier as KNN"
   ]
  },
  {
   "cell_type": "code",
   "execution_count": 142,
   "metadata": {
    "ExecuteTime": {
     "end_time": "2016-09-06T12:44:59.063487",
     "start_time": "2016-09-06T12:44:59.059177"
    },
    "collapsed": true
   },
   "outputs": [],
   "source": [
    "km = MiniBatchKMeans(100)\n",
    "k_folds = 10"
   ]
  },
  {
   "cell_type": "code",
   "execution_count": 143,
   "metadata": {
    "ExecuteTime": {
     "end_time": "2016-09-06T12:44:59.678793",
     "start_time": "2016-09-06T12:44:59.668422"
    },
    "collapsed": true
   },
   "outputs": [],
   "source": [
    "def _predict(km):\n",
    "    app.model.construct_kdtree(app.ch)\n",
    "    d = []\n",
    "    for _kd in app.model.kd:\n",
    "        tmp = _kd.query(km.cluster_centers_, 10)[0]\n",
    "        d.append(tmp.mean(axis=1))\n",
    "    d = np.vstack(np.asarray(d))\n",
    "    labels = np.argmin(d,axis=0)\n",
    "    return labels"
   ]
  },
  {
   "cell_type": "code",
   "execution_count": 154,
   "metadata": {
    "ExecuteTime": {
     "end_time": "2016-09-06T12:47:00.943200",
     "start_time": "2016-09-06T12:46:53.127135"
    },
    "collapsed": false,
    "scrolled": true
   },
   "outputs": [],
   "source": [
    "scores = []\n",
    "kf = KFold(len(y), n_folds=k_folds, shuffle=True, random_state=None)\n",
    "for train, test in kf:\n",
    "    X_train = X[train,:]\n",
    "    y_train = y[train]\n",
    "    X_test  = X[test,:]\n",
    "    y_test  = y[test]\n",
    "    km.fit(X_train)\n",
    "    points = km.cluster_centers_\n",
    "    labels = app._predict(points)\n",
    "    knn = KNN(n_neighbors=1)\n",
    "    knn.fit(km.cluster_centers_, labels)\n",
    "    scores.append(knn.score(X_test, y_test))\n",
    "scores = np.asarray(scores)"
   ]
  },
  {
   "cell_type": "code",
   "execution_count": 155,
   "metadata": {
    "ExecuteTime": {
     "end_time": "2016-09-06T12:47:01.236741",
     "start_time": "2016-09-06T12:47:00.945567"
    },
    "collapsed": false
   },
   "outputs": [
    {
     "data": {
      "text/plain": [
       "<matplotlib.legend.Legend at 0x7fc3db5ca710>"
      ]
     },
     "execution_count": 155,
     "metadata": {},
     "output_type": "execute_result"
    },
    {
     "data": {
      "image/png": "[encoded data removed]",
      "text/plain": [
       "<matplotlib.figure.Figure at 0x7fc3db746710>"
      ]
     },
     "metadata": {},
     "output_type": "display_data"
    }
   ],
   "source": [
    "_ac_l = \"Accuracy: %0.2f (+/- %0.2f)\" % (scores.mean(), scores.std() * 2)\n",
    "plt.bar(np.arange(k_folds), scores, label=_ac_l)\n",
    "plt.axhline(scores.mean(),ls='-.', lw=3 ,c='r')\n",
    "ylim(0.5,1.1)\n",
    "legend(loc='best')"
   ]
  },
  {
   "cell_type": "code",
   "execution_count": 152,
   "metadata": {
    "ExecuteTime": {
     "end_time": "2016-09-06T12:46:46.643481",
     "start_time": "2016-09-06T12:46:40.259602"
    },
    "collapsed": false
   },
   "outputs": [],
   "source": [
    "scores = []\n",
    "kf = KFold(len(y), n_folds=k_folds, shuffle=False)\n",
    "for train, test in kf:\n",
    "    X_train = X[train,:]\n",
    "    y_train = y[train]\n",
    "    X_test  = X[test,:]\n",
    "    y_test  = y[test]\n",
    "    km.fit(X_train, y_train)\n",
    "    labels = _predict(km)\n",
    "    knn = KNN(n_neighbors=1)\n",
    "    knn.fit(km.cluster_centers_, labels)\n",
    "    scores.append(knn.score(X_test, y_test))\n",
    "scores = np.asarray(scores)"
   ]
  },
  {
   "cell_type": "code",
   "execution_count": 153,
   "metadata": {
    "ExecuteTime": {
     "end_time": "2016-09-06T12:46:46.921744",
     "start_time": "2016-09-06T12:46:46.645683"
    },
    "collapsed": false,
    "scrolled": true
   },
   "outputs": [
    {
     "data": {
      "text/plain": [
       "<matplotlib.legend.Legend at 0x7fc3db6d2050>"
      ]
     },
     "execution_count": 153,
     "metadata": {},
     "output_type": "execute_result"
    },
    {
     "data": {
      "image/png": "[encoded data removed]",
      "text/plain": [
       "<matplotlib.figure.Figure at 0x7fc3db9fd310>"
      ]
     },
     "metadata": {},
     "output_type": "display_data"
    }
   ],
   "source": [
    "_ac_l = \"Accuracy: %0.2f (+/- %0.2f)\" % (scores.mean(), scores.std() * 2)\n",
    "plt.bar(np.arange(k_folds), scores, label=_ac_l)\n",
    "plt.axhline(scores.mean(),ls='-.', lw=3 ,c='r')\n",
    "ylim(0.5,1.1)\n",
    "legend(loc='best')"
   ]
  },
  {
   "cell_type": "code",
   "execution_count": 119,
   "metadata": {
    "ExecuteTime": {
     "end_time": "2016-09-06T12:43:10.393526",
     "start_time": "2016-09-06T12:43:10.385495"
    },
    "collapsed": false
   },
   "outputs": [
    {
     "data": {
      "text/plain": [
       "array([ 0.98922248,  0.98460354,  0.98075443,  0.99153195,  0.98767334,\n",
       "        0.99460709,  0.99152542,  0.99383667,  0.97919877,  0.9807396 ])"
      ]
     },
     "execution_count": 119,
     "metadata": {},
     "output_type": "execute_result"
    }
   ],
   "source": [
    "scores"
   ]
  },
  {
   "cell_type": "code",
   "execution_count": null,
   "metadata": {
    "collapsed": true
   },
   "outputs": [],
   "source": []
  }
 ],
 "metadata": {
  "kernelspec": {
   "display_name": "Python [Root]",
   "language": "python",
   "name": "Python [Root]"
  },
  "language_info": {
   "codemirror_mode": {
    "name": "ipython",
    "version": 2
   },
   "file_extension": ".py",
   "mimetype": "text/x-python",
   "name": "python",
   "nbconvert_exporter": "python",
   "pygments_lexer": "ipython2",
   "version": "2.7.12"
  }
 },
 "nbformat": 4,
 "nbformat_minor": 0
}
