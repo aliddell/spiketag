{
 "cells": [
  {
   "cell_type": "code",
   "execution_count": 1,
   "metadata": {
    "ExecuteTime": {
     "end_time": "2016-08-18T21:59:42.178824",
     "start_time": "2016-08-18T21:59:42.156933"
    },
    "collapsed": false
   },
   "outputs": [],
   "source": [
    "%load_ext autoreload"
   ]
  },
  {
   "cell_type": "code",
   "execution_count": 2,
   "metadata": {
    "ExecuteTime": {
     "end_time": "2016-08-18T21:59:42.976990",
     "start_time": "2016-08-18T21:59:42.972986"
    },
    "collapsed": true
   },
   "outputs": [],
   "source": [
    "%autoreload 2"
   ]
  },
  {
   "cell_type": "code",
   "execution_count": 3,
   "metadata": {
    "ExecuteTime": {
     "end_time": "2016-08-18T21:59:43.213575",
     "start_time": "2016-08-18T21:59:43.201646"
    },
    "collapsed": true
   },
   "outputs": [],
   "source": [
    "%gui qt"
   ]
  },
  {
   "cell_type": "code",
   "execution_count": 4,
   "metadata": {
    "ExecuteTime": {
     "end_time": "2016-08-18T21:59:43.616902",
     "start_time": "2016-08-18T21:59:43.525859"
    },
    "collapsed": true
   },
   "outputs": [],
   "source": [
    "import numpy as np"
   ]
  },
  {
   "cell_type": "code",
   "execution_count": 5,
   "metadata": {
    "ExecuteTime": {
     "end_time": "2016-08-18T21:59:45.969806",
     "start_time": "2016-08-18T21:59:43.793261"
    },
    "collapsed": false
   },
   "outputs": [],
   "source": [
    "from spiketag.base import *\n",
    "from spiketag.view import *"
   ]
  },
  {
   "cell_type": "code",
   "execution_count": 6,
   "metadata": {
    "ExecuteTime": {
     "end_time": "2016-08-18T21:59:46.021777",
     "start_time": "2016-08-18T21:59:45.971801"
    },
    "collapsed": true
   },
   "outputs": [],
   "source": [
    "from hdbscan import HDBSCAN"
   ]
  },
  {
   "cell_type": "code",
   "execution_count": 7,
   "metadata": {
    "ExecuteTime": {
     "end_time": "2016-08-18T21:59:46.471458",
     "start_time": "2016-08-18T21:59:46.368358"
    },
    "collapsed": true
   },
   "outputs": [],
   "source": [
    "import phy\n",
    "from phy.gui import GUI"
   ]
  },
  {
   "cell_type": "code",
   "execution_count": 8,
   "metadata": {
    "ExecuteTime": {
     "end_time": "2016-08-18T21:59:47.172964",
     "start_time": "2016-08-18T21:59:47.093415"
    },
    "collapsed": true
   },
   "outputs": [],
   "source": [
    "filename  = '/tmp_data/pcie.bin'\n",
    "nCh       = 32\n",
    "fs        = 25000\n",
    "numbyte   = 4\n",
    "time_span = 1 # 1 seconds\n",
    "global time_slice\n",
    "time_slice = 0\n",
    "span = time_span * fs\n",
    "highlight = True"
   ]
  },
  {
   "cell_type": "code",
   "execution_count": 9,
   "metadata": {
    "ExecuteTime": {
     "end_time": "2016-08-18T21:59:50.029404",
     "start_time": "2016-08-18T21:59:47.804385"
    },
    "collapsed": false
   },
   "outputs": [
    {
     "name": "stdout",
     "output_type": "stream",
     "text": [
      "#############  load data  ###################\n",
      "/tmp_data/pcie.bin loaded, it contains: \n",
      "30150587 * 32 points (3859275136 bytes) \n",
      "32 channels with sampling rate of 25000.0000 \n",
      "1206.023 secs (20.100 mins) of data\n",
      "#############################################\n"
     ]
    }
   ],
   "source": [
    "mua = MUA(filename=filename, nCh=nCh, fs=fs, numbytes=numbyte)\n",
    "spk = mua.tospk(ch_span=2)\n",
    "fet = spk.tofet()"
   ]
  },
  {
   "cell_type": "markdown",
   "metadata": {},
   "source": [
    "# test spike_view"
   ]
  },
  {
   "cell_type": "code",
   "execution_count": 11,
   "metadata": {
    "ExecuteTime": {
     "end_time": "2016-08-18T21:59:51.869481",
     "start_time": "2016-08-18T21:59:51.508756"
    },
    "collapsed": false
   },
   "outputs": [],
   "source": [
    "spk_view = spike_view()"
   ]
  },
  {
   "cell_type": "code",
   "execution_count": 12,
   "metadata": {
    "ExecuteTime": {
     "end_time": "2016-08-18T21:59:52.770338",
     "start_time": "2016-08-18T21:59:52.455433"
    },
    "collapsed": false
   },
   "outputs": [],
   "source": [
    "spk_view.set_data(spk[26])"
   ]
  },
  {
   "cell_type": "code",
   "execution_count": 14,
   "metadata": {
    "ExecuteTime": {
     "end_time": "2016-08-18T22:00:10.930740",
     "start_time": "2016-08-18T22:00:10.855517"
    },
    "collapsed": false
   },
   "outputs": [],
   "source": [
    "spk_view.show()"
   ]
  },
  {
   "cell_type": "code",
   "execution_count": 15,
   "metadata": {
    "ExecuteTime": {
     "end_time": "2016-08-18T22:00:15.252730",
     "start_time": "2016-08-18T22:00:15.170279"
    },
    "collapsed": true
   },
   "outputs": [],
   "source": [
    "spk_view.highlight(np.arange(25),0)"
   ]
  },
  {
   "cell_type": "code",
   "execution_count": 19,
   "metadata": {
    "ExecuteTime": {
     "end_time": "2016-08-18T22:00:40.997086",
     "start_time": "2016-08-18T22:00:40.909186"
    },
    "collapsed": false
   },
   "outputs": [
    {
     "data": {
      "text/plain": [
       "array([    0,     4,     9, ..., 13054, 13056, 13057])"
      ]
     },
     "execution_count": 19,
     "metadata": {},
     "output_type": "execute_result"
    }
   ],
   "source": [
    "spk_view.selected_spk"
   ]
  },
  {
   "cell_type": "code",
   "execution_count": 20,
   "metadata": {
    "ExecuteTime": {
     "end_time": "2016-08-18T22:00:46.025255",
     "start_time": "2016-08-18T22:00:45.861978"
    },
    "collapsed": false
   },
   "outputs": [],
   "source": [
    "spk_view_2 = spike_view()"
   ]
  },
  {
   "cell_type": "code",
   "execution_count": 21,
   "metadata": {
    "ExecuteTime": {
     "end_time": "2016-08-18T22:00:51.563487",
     "start_time": "2016-08-18T22:00:50.817717"
    },
    "collapsed": true
   },
   "outputs": [],
   "source": [
    "spk_view_2.set_data(spk[30])"
   ]
  },
  {
   "cell_type": "code",
   "execution_count": 22,
   "metadata": {
    "ExecuteTime": {
     "end_time": "2016-08-18T22:00:52.722608",
     "start_time": "2016-08-18T22:00:52.646110"
    },
    "collapsed": true
   },
   "outputs": [],
   "source": [
    "spk_view_2.show()"
   ]
  },
  {
   "cell_type": "code",
   "execution_count": null,
   "metadata": {
    "collapsed": true
   },
   "outputs": [],
   "source": []
  },
  {
   "cell_type": "markdown",
   "metadata": {},
   "source": [
    "# start GUI"
   ]
  },
  {
   "cell_type": "code",
   "execution_count": 23,
   "metadata": {
    "ExecuteTime": {
     "end_time": "2016-08-18T22:01:03.045426",
     "start_time": "2016-08-18T22:01:02.910888"
    },
    "collapsed": true
   },
   "outputs": [],
   "source": [
    "gui = GUI(position=(0, 0), size=(600, 400), name='GUI')"
   ]
  },
  {
   "cell_type": "code",
   "execution_count": 24,
   "metadata": {
    "ExecuteTime": {
     "end_time": "2016-08-18T22:01:03.973698",
     "start_time": "2016-08-18T22:01:03.880500"
    },
    "collapsed": false
   },
   "outputs": [
    {
     "data": {
      "text/plain": [
       "<phy.gui.gui.DockWidget at 0x7fd90ce52640>"
      ]
     },
     "execution_count": 24,
     "metadata": {},
     "output_type": "execute_result"
    }
   ],
   "source": [
    "props = param_widget()\n",
    "gui.add_view(props,position='left', name='params')"
   ]
  },
  {
   "cell_type": "code",
   "execution_count": 25,
   "metadata": {
    "ExecuteTime": {
     "end_time": "2016-08-18T22:01:05.349995",
     "start_time": "2016-08-18T22:01:04.776699"
    },
    "collapsed": false
   },
   "outputs": [
    {
     "data": {
      "text/plain": [
       "<phy.gui.gui.DockWidget at 0x7fd90ce52d60>"
      ]
     },
     "execution_count": 25,
     "metadata": {},
     "output_type": "execute_result"
    }
   ],
   "source": [
    "scatter_view = scatter_3d_view()\n",
    "scatter_view.unfreeze()\n",
    "gui.add_view(scatter_view)\n",
    "spk_view = spike_view()\n",
    "gui.add_view(spk_view)"
   ]
  },
  {
   "cell_type": "code",
   "execution_count": 27,
   "metadata": {
    "ExecuteTime": {
     "end_time": "2016-08-18T22:01:14.721449",
     "start_time": "2016-08-18T22:01:13.893617"
    },
    "collapsed": false
   },
   "outputs": [],
   "source": [
    "wave_view = wave_view(mua.data[time_slice*span:(time_slice+1)*span,:], fs=25000)\n",
    "wave_view.gap_value = 0.9\n",
    "wave_view.attach(gui)"
   ]
  },
  {
   "cell_type": "code",
   "execution_count": 28,
   "metadata": {
    "ExecuteTime": {
     "end_time": "2016-08-18T22:01:16.241452",
     "start_time": "2016-08-18T22:01:16.151945"
    },
    "collapsed": true
   },
   "outputs": [],
   "source": [
    "from phy.gui import Actions\n",
    "actions = Actions(gui)\n",
    "\n",
    "@actions.add(shortcut=',')\n",
    "def page_up():\n",
    "#     print 'page_up'\n",
    "    global time_slice\n",
    "    time_slice -= 1\n",
    "    if time_slice >= 0:\n",
    "        wave_view.set_data(mua.data[time_slice*span:(time_slice+1)*span,:], time_slice)\n",
    "    else:\n",
    "        time_slice = 0\n",
    "\n",
    "@actions.add(shortcut='.')\n",
    "def page_down():\n",
    "#     print 'page_down'\n",
    "    global time_slice\n",
    "    time_slice += 1\n",
    "    wave_view.set_data(mua.data[time_slice*span:(time_slice+1)*span,:], time_slice)"
   ]
  },
  {
   "cell_type": "code",
   "execution_count": 29,
   "metadata": {
    "ExecuteTime": {
     "end_time": "2016-08-18T22:02:18.889608",
     "start_time": "2016-08-18T22:01:17.166747"
    },
    "collapsed": false,
    "scrolled": true
   },
   "outputs": [
    {
     "name": "stdout",
     "output_type": "stream",
     "text": [
      "clustering finished, used 61.6415410042 seconds\n"
     ]
    }
   ],
   "source": [
    "clu = fet.toclu('hdbscan', njobs=24)"
   ]
  },
  {
   "cell_type": "code",
   "execution_count": 30,
   "metadata": {
    "ExecuteTime": {
     "end_time": "2016-08-18T22:02:24.640718",
     "start_time": "2016-08-18T22:02:24.439875"
    },
    "collapsed": true
   },
   "outputs": [],
   "source": [
    "cluster = {}\n",
    "for key, value in clu.items():\n",
    "    cluster[key] = CLU(value)"
   ]
  },
  {
   "cell_type": "code",
   "execution_count": 31,
   "metadata": {
    "ExecuteTime": {
     "end_time": "2016-08-18T22:02:26.354795",
     "start_time": "2016-08-18T22:02:26.268607"
    },
    "collapsed": true
   },
   "outputs": [],
   "source": [
    "def get_time_slice(tpos):\n",
    "    global span\n",
    "    ts = int(np.floor(float(tpos)/span))\n",
    "    return ts"
   ]
  },
  {
   "cell_type": "code",
   "execution_count": 32,
   "metadata": {
    "ExecuteTime": {
     "end_time": "2016-08-18T22:02:27.295999",
     "start_time": "2016-08-18T22:02:27.223202"
    },
    "collapsed": true
   },
   "outputs": [],
   "source": [
    "def init_waveform(ch):\n",
    "    wave_view.waves1.highlight_reset()\n",
    "    highlight_ch = mua.get_near_ch(ch, ch_span=2)\n",
    "    chlist = np.delete(np.arange(32), highlight_ch)\n",
    "    wave_view.waves1.highlight_ch(ch=chlist,\n",
    "                                  highlight_color=(0.25,0.25,0.25,0.5))\n",
    "    return highlight_ch"
   ]
  },
  {
   "cell_type": "code",
   "execution_count": null,
   "metadata": {
    "collapsed": true
   },
   "outputs": [],
   "source": []
  },
  {
   "cell_type": "code",
   "execution_count": 33,
   "metadata": {
    "ExecuteTime": {
     "end_time": "2016-08-18T22:02:29.846250",
     "start_time": "2016-08-18T22:02:29.718014"
    },
    "collapsed": false
   },
   "outputs": [],
   "source": [
    "def update_params():\n",
    "    \n",
    "    # ---- update chosen ch and get cluster ----\n",
    "    global ch\n",
    "    ch = props.ch.value()\n",
    "    clu = cluster[ch]\n",
    "    \n",
    "    # ---- get spike timelist for chosen ch ----\n",
    "    timelist = []\n",
    "    timelist = mua.pivotal_pos[mua.pivotal_pos[:,1]==ch][:,0]\n",
    "#     print len(timelist)\n",
    "    \n",
    "    # ---- set scatter view and spk_view ----\n",
    "    scatter_view.set_data(fet=fet[ch], clu=clu.membership)\n",
    "    spk_view.set_data(spk[ch], clu)\n",
    "    \n",
    "    # ---- set waveform view ----\n",
    "    highlight_ch = init_waveform(ch)\n",
    "    # --------\n",
    "    \n",
    "    \n",
    "    \n",
    "    @clu.connect\n",
    "    def on_cluster(*args, **kwargs):\n",
    "        scatter_view.set_data(fet=fet[ch], clu=clu.membership)\n",
    "\n",
    "\n",
    "    @spk_view.connect_\n",
    "    def on_select(*args, **kwargs):\n",
    "    #         print kwargs['global_idx']\n",
    "        global_idx = kwargs['global_idx']\n",
    "        scatter_view.highlight(global_idx)\n",
    "    #         if len(global_idx) == 1:\n",
    "    #             print timelist[global_idx]\n",
    "\n",
    "    @spk_view.connect_\n",
    "    def on_click(*args, **kwargs):\n",
    "        global ch\n",
    "        timelist = mua.pivotal_pos[mua.pivotal_pos[:,1]==ch][:,0]\n",
    "        global_idx = kwargs['global_idx']\n",
    "        tpos = timelist[global_idx]\n",
    "        ts = get_time_slice(tpos)\n",
    "        tpos_offset = tpos-ts*span\n",
    "\n",
    "        wave_view.set_data(mua.data[ts*span:(ts+1)*span,:], ts)\n",
    "        highlight_ch = init_waveform(ch)\n",
    "        wave_view.waves1.highlight(spacial_code=highlight_ch, \n",
    "                                  temporal_code=((tpos_offset-10,tpos_offset+10),), \n",
    "                                  highlight_color=np.hstack((spk_view.palette[spk_view.selected_clu], 1)))\n",
    "\n",
    "    # wave_view update\n",
    "#     highlight_list = mua.spk_peak_pos\n",
    "#     global time_slice\n",
    "#     sublist = np.logical_and(highlight_list[:,0]<(time_slice+1)*span, \n",
    "#                              highlight_list[:,0]>(time_slice)*span)\n",
    "#     mask_n = highlight_list[sublist][:,0] - time_slice*span\n",
    "#     mask_ch = highlight_list[sublist][:,1]\n",
    "#     mask = np.hstack((mask_n.reshape(-1,1), mask_ch.reshape(-1,1)))\n",
    "\n",
    "#     wave_view.waves1.highlight_reset()\n",
    "#     for clu_id in np.unique(clu):\n",
    "#         color = palette[clu_id] if clu_id>=0 else np.array([1,1,1])\n",
    "#         wave_view.waves1.highlight_spikes(mask[np.logical_and(clu==clu_id, mask_ch=ch)], color = np.hstack((color, 1)))\n"
   ]
  },
  {
   "cell_type": "code",
   "execution_count": 34,
   "metadata": {
    "ExecuteTime": {
     "end_time": "2016-08-18T22:02:31.125371",
     "start_time": "2016-08-18T22:02:30.831053"
    },
    "collapsed": true
   },
   "outputs": [],
   "source": [
    "update_params()\n",
    "props.signal_objet_changed.connect(update_params)"
   ]
  },
  {
   "cell_type": "code",
   "execution_count": 35,
   "metadata": {
    "ExecuteTime": {
     "end_time": "2016-08-18T22:02:31.923279",
     "start_time": "2016-08-18T22:02:31.783573"
    },
    "collapsed": false,
    "scrolled": true
   },
   "outputs": [
    {
     "name": "stderr",
     "output_type": "stream",
     "text": [
      "WARNING: Traceback (most recent call last):\n",
      "  File \"/usr/local/anaconda2/lib/python2.7/runpy.py\", line 174, in _run_module_as_main\n",
      "    \"__main__\", fname, loader, pkg_name)\n",
      "  File \"/usr/local/anaconda2/lib/python2.7/runpy.py\", line 72, in _run_code\n",
      "    exec code in run_globals\n",
      "  File \"/usr/local/anaconda2/lib/python2.7/site-packages/ipykernel/__main__.py\", line 3, in <module>\n",
      "    app.launch_new_instance()\n",
      "  File \"/usr/local/anaconda2/lib/python2.7/site-packages/traitlets/config/application.py\", line 596, in launch_instance\n",
      "    app.start()\n",
      "  File \"/usr/local/anaconda2/lib/python2.7/site-packages/ipykernel/kernelapp.py\", line 442, in start\n",
      "    ioloop.IOLoop.instance().start()\n",
      "  File \"/usr/local/anaconda2/lib/python2.7/site-packages/zmq/eventloop/ioloop.py\", line 162, in start\n",
      "    super(ZMQIOLoop, self).start()\n",
      "  File \"/usr/local/anaconda2/lib/python2.7/site-packages/tornado/ioloop.py\", line 827, in start\n",
      "    self._run_callback(callback)\n",
      "  File \"/usr/local/anaconda2/lib/python2.7/site-packages/tornado/ioloop.py\", line 600, in _run_callback\n",
      "    ret = callback()\n",
      "  File \"/usr/local/anaconda2/lib/python2.7/site-packages/tornado/stack_context.py\", line 275, in null_wrapper\n",
      "    return fn(*args, **kwargs)\n",
      "  File \"/usr/local/anaconda2/lib/python2.7/site-packages/ipykernel/kernelbase.py\", line 258, in enter_eventloop\n",
      "    self.eventloop(self)\n",
      "  File \"/usr/local/anaconda2/lib/python2.7/site-packages/ipykernel/eventloops.py\", line 75, in loop_qt4\n",
      "    start_event_loop_qt4(kernel.app)\n",
      "  File \"/usr/local/anaconda2/lib/python2.7/site-packages/IPython/lib/guisupport.py\", line 135, in start_event_loop_qt4\n",
      "    app.exec_()\n",
      "  File \"/workspace/PyViewer/vispy-master/vispy/app/backends/_qt.py\", line 657, in paintGL\n",
      "    self._vispy_canvas.events.draw(region=None)\n",
      "  File \"/workspace/PyViewer/vispy-master/vispy/util/event.py\", line 455, in __call__\n",
      "    self._invoke_callback(cb, event)\n",
      "  File \"/workspace/PyViewer/vispy-master/vispy/util/event.py\", line 475, in _invoke_callback\n",
      "    self, cb_event=(cb, event))\n",
      "  << caught exception here: >>\n",
      "  File \"/workspace/PyViewer/vispy-master/vispy/util/event.py\", line 471, in _invoke_callback\n",
      "    cb(event)\n",
      "  File \"/workspace/phy/phy/plot/base.py\", line 300, in on_draw\n",
      "    visual.on_draw()\n",
      "  File \"/workspace/phy/phy/plot/base.py\", line 73, in on_draw\n",
      "    self.program.draw(self.gl_primitive_type)\n",
      "  File \"/workspace/PyViewer/vispy-master/vispy/gloo/program.py\", line 439, in draw\n",
      "    raise RuntimeError('Must have at least one attribute')\n",
      "RuntimeError: Must have at least one attribute\n",
      "ERROR: Invoking <bound method spike_view.on_draw of <spike_view (PyQt4) at 0x7fd90ce4e690>> for DrawEvent\n",
      "ERROR: Invoking <bound method spike_view.on_draw of <spike_view (PyQt4) at 0x7fd90ce4e690>> repeat 2\n",
      "ERROR: Invoking <bound method spike_view.on_draw of <spike_view (PyQt4) at 0x7fd90ce4e690>> repeat 4\n",
      "/usr/local/anaconda2/lib/python2.7/site-packages/numpy/lib/function_base.py:4310: FutureWarning: in the future negative indices will not be ignored by `numpy.delete`.\n",
      "  \"`numpy.delete`.\", FutureWarning)\n"
     ]
    }
   ],
   "source": [
    "gui.show()"
   ]
  },
  {
   "cell_type": "code",
   "execution_count": 24,
   "metadata": {
    "ExecuteTime": {
     "end_time": "2016-07-30T16:52:41.176659",
     "start_time": "2016-07-30T16:52:40.161482"
    },
    "collapsed": false,
    "scrolled": true
   },
   "outputs": [],
   "source": [
    "spk_view.rerender(data_bound=(-1,-0.8,1,0.8))"
   ]
  },
  {
   "cell_type": "code",
   "execution_count": 41,
   "metadata": {
    "ExecuteTime": {
     "end_time": "2016-07-30T17:02:22.338979",
     "start_time": "2016-07-30T17:02:22.256942"
    },
    "collapsed": true
   },
   "outputs": [],
   "source": [
    "spk_view.highlight([0,1,2],0)"
   ]
  },
  {
   "cell_type": "code",
   "execution_count": 43,
   "metadata": {
    "ExecuteTime": {
     "end_time": "2016-07-30T17:10:10.046260",
     "start_time": "2016-07-30T17:10:09.958346"
    },
    "collapsed": true
   },
   "outputs": [],
   "source": [
    "spk_view.show()"
   ]
  },
  {
   "cell_type": "code",
   "execution_count": 44,
   "metadata": {
    "ExecuteTime": {
     "end_time": "2016-07-30T17:10:18.125403",
     "start_time": "2016-07-30T17:10:17.961014"
    },
    "collapsed": true
   },
   "outputs": [],
   "source": [
    "gui.show()"
   ]
  },
  {
   "cell_type": "code",
   "execution_count": null,
   "metadata": {
    "collapsed": true
   },
   "outputs": [],
   "source": []
  },
  {
   "cell_type": "code",
   "execution_count": 22,
   "metadata": {
    "ExecuteTime": {
     "end_time": "2016-07-01T15:20:12.980000",
     "start_time": "2016-07-01T15:20:12.853000"
    },
    "collapsed": false
   },
   "outputs": [],
   "source": [
    "view_mask = spk_view._spkNo2maskNo(spkNolist=spk_view._spkNolist, cluNo=spk_view.selected_clu)"
   ]
  },
  {
   "cell_type": "code",
   "execution_count": 1,
   "metadata": {
    "ExecuteTime": {
     "end_time": "2016-07-01T16:12:42.380000",
     "start_time": "2016-07-01T16:12:41.237000"
    },
    "collapsed": true
   },
   "outputs": [],
   "source": [
    "from spiketag.utils import Timer\n",
    "import numexpr as ne\n",
    "from numba import int32, int64, float32, jit"
   ]
  },
  {
   "cell_type": "code",
   "execution_count": 24,
   "metadata": {
    "ExecuteTime": {
     "end_time": "2016-07-01T15:20:13.307000",
     "start_time": "2016-07-01T15:20:13.106000"
    },
    "collapsed": false
   },
   "outputs": [],
   "source": [
    "@jit('(int64[:], float32[:,:], float32[:,:])')\n",
    "def _cache_in(mask, source, target):\n",
    "    N = len(mask)\n",
    "    M = target.shape[1]\n",
    "    for i in xrange(N):\n",
    "        k = mask[i]\n",
    "        for j in xrange(M):\n",
    "            target[k,j] = source[i,j]"
   ]
  },
  {
   "cell_type": "code",
   "execution_count": 25,
   "metadata": {
    "ExecuteTime": {
     "end_time": "2016-07-01T15:20:13.513000",
     "start_time": "2016-07-01T15:20:13.309000"
    },
    "collapsed": false
   },
   "outputs": [],
   "source": [
    "from numba import int32, int64, float32, jit\n",
    "\n",
    "@jit('(int64[:], float32[:,:], float32[:,:])')\n",
    "def _cache_out(_cache_mask, _cache, target):\n",
    "    N = len(_cache_mask)\n",
    "    M = target.shape[1]\n",
    "    for i in xrange(N):\n",
    "        k = _cache_mask[i]\n",
    "        for j in xrange(M):\n",
    "            target[k,j] = _cache[k,j]"
   ]
  },
  {
   "cell_type": "code",
   "execution_count": 26,
   "metadata": {
    "ExecuteTime": {
     "end_time": "2016-07-01T15:20:13.651000",
     "start_time": "2016-07-01T15:20:13.515000"
    },
    "collapsed": false
   },
   "outputs": [
    {
     "name": "stderr",
     "output_type": "stream",
     "text": [
      "f:\\spiketag\\spiketag\\view\\MyWaveVisual.py:192: VisibleDeprecationWarning: converting an array with ndim > 0 to an index will result in an error in the future\n",
      "  self.color[start:end,:] = np.asarray(highlight_color)\n"
     ]
    },
    {
     "name": "stdout",
     "output_type": "stream",
     "text": [
      "get_closest_spikes, elapsed time: 0.839556451449 ms\n",
      "highlight, elapsed time: 0.190901589203 ms\n",
      "on_select, elapsed time: 0.24755625439 ms\n",
      "get_closest_spikes, elapsed time: 0.157237222936 ms\n",
      "highlight, elapsed time: 0.0394119409961 ms\n",
      "on_select, elapsed time: 0.14245774506 ms\n",
      "get_closest_spikes, elapsed time: 0.125625561928 ms\n",
      "highlight, elapsed time: 0.0472122209842 ms\n",
      "on_select, elapsed time: 0.148205319793 ms\n",
      "get_closest_spikes, elapsed time: 0.151900189259 ms\n",
      "highlight, elapsed time: 0.0488543851951 ms\n",
      "on_select, elapsed time: 0.168321831339 ms\n",
      "get_closest_spikes, elapsed time: 0.137120711386 ms\n",
      "highlight, elapsed time: 0.0435173515179 ms\n",
      "on_select, elapsed time: 0.15805830504 ms\n",
      "get_closest_spikes, elapsed time: 0.134657465075 ms\n",
      "highlight, elapsed time: 0.037359235737 ms\n",
      "on_select, elapsed time: 0.140405039801 ms\n",
      "get_closest_spikes, elapsed time: 0.122751774562 ms\n",
      "highlight, elapsed time: 0.0357170715262 ms\n",
      "on_select, elapsed time: 0.140405039804 ms\n",
      "get_closest_spikes, elapsed time: 0.134657465072 ms\n",
      "highlight, elapsed time: 0.0365381536334 ms\n",
      "on_select, elapsed time: 0.130141513498 ms\n"
     ]
    }
   ],
   "source": [
    "def rerender():\n",
    "    if len(spk_view._cache_mask_)>0:\n",
    "        with Timer('render cache mask'):\n",
    "            _cache_mask_ = spk_view._cache_mask_\n",
    "#             spk_view.color[_cache_mask_, :3] = spk_view._cache_color[_cache_mask_, :3]\n",
    "            _cache_out(spk_view._cache_mask_, spk_view._cache_color[:,:3], spk_view.color[:,:3])\n",
    "#             spk_view.color[_cache_mask_,-1] = spk_view._transparency\n",
    "#             spk_view.depth[_cache_mask_, 2] = spk_view._cache_depth[_cache_mask_, 2]\n",
    "            _cache_out(spk_view._cache_mask_, spk_view._cache_depth, spk_view.depth)\n",
    "            spk_view._cache_mask_ = np.array([])\n",
    "\n",
    "    if len(view_mask)>0:\n",
    "        with Timer('render view mask'):\n",
    "            _highlight_color = np.tile(spk_view._highlight_color, (len(view_mask),1))\n",
    "            _cache_in(view_mask, _highlight_color, spk_view.color)\n",
    "#             spk_view.color[view_mask, :] = spk_view._highlight_color\n",
    "            _depth = np.tile(-1, (len(view_mask),1)).astype('float32')\n",
    "            _cache_in(view_mask, _depth, spk_view.depth[:,2].reshape(-1,1))\n",
    "#             spk_view.depth[view_mask, 2] = -1\n",
    "            spk_view._cache_mask_ = np.hstack((spk_view._cache_mask_, view_mask)).astype('int64')\n",
    "#             spk_view.color[view_mask,-1] = 1\n",
    "            spk_view.visuals[0].program['a_color']    = spk_view.color\n",
    "            spk_view.visuals[0].program['a_position'] = spk_view.depth  # pos include depth\n",
    "            spk_view.update()"
   ]
  },
  {
   "cell_type": "code",
   "execution_count": 29,
   "metadata": {
    "ExecuteTime": {
     "end_time": "2016-07-01T14:23:04.076000",
     "start_time": "2016-07-01T14:23:03.935000"
    },
    "collapsed": false
   },
   "outputs": [
    {
     "data": {
      "text/plain": [
       "array([[ 1.,  0.,  0.,  1.],\n",
       "       [ 1.,  0.,  0.,  1.],\n",
       "       [ 1.,  0.,  0.,  1.],\n",
       "       ..., \n",
       "       [ 1.,  0.,  0.,  1.],\n",
       "       [ 1.,  0.,  0.,  1.],\n",
       "       [ 1.,  0.,  0.,  1.]], dtype=float32)"
      ]
     },
     "execution_count": 29,
     "metadata": {},
     "output_type": "execute_result"
    }
   ],
   "source": [
    "highlight_color = np.tile(spk_view._highlight_color, (len(view_mask),1))"
   ]
  },
  {
   "cell_type": "code",
   "execution_count": 26,
   "metadata": {
    "ExecuteTime": {
     "end_time": "2016-07-01T14:22:33.850000",
     "start_time": "2016-07-01T14:22:26.763000"
    },
    "collapsed": false
   },
   "outputs": [
    {
     "name": "stdout",
     "output_type": "stream",
     "text": [
      "1000 loops, best of 3: 1.68 ms per loop\n"
     ]
    }
   ],
   "source": [
    "%timeit cache_out(spk_view._cache_mask_, spk_view._cache_color[:,:3], spk_view.color[:,:3])"
   ]
  },
  {
   "cell_type": "code",
   "execution_count": 27,
   "metadata": {
    "ExecuteTime": {
     "end_time": "2016-07-01T14:22:40.716000",
     "start_time": "2016-07-01T14:22:33.853000"
    },
    "collapsed": false
   },
   "outputs": [
    {
     "name": "stdout",
     "output_type": "stream",
     "text": [
      "1000 loops, best of 3: 1.64 ms per loop\n"
     ]
    }
   ],
   "source": [
    "%timeit cache_out(spk_view._cache_mask_, spk_view._cache_depth, spk_view.depth)"
   ]
  },
  {
   "cell_type": "code",
   "execution_count": null,
   "metadata": {
    "collapsed": true
   },
   "outputs": [],
   "source": [
    "cache_out(spk_view._cache_mask_, spk_view._cache_color[:,:-1], spk_view.color[:,:3])"
   ]
  },
  {
   "cell_type": "code",
   "execution_count": 59,
   "metadata": {
    "ExecuteTime": {
     "end_time": "2016-07-01T13:59:43.657000",
     "start_time": "2016-07-01T13:59:43.528000"
    },
    "collapsed": false
   },
   "outputs": [
    {
     "data": {
      "text/plain": [
       "(1726000L, 4L)"
      ]
     },
     "execution_count": 59,
     "metadata": {},
     "output_type": "execute_result"
    }
   ],
   "source": [
    "spk_view._cache_color.shape"
   ]
  },
  {
   "cell_type": "code",
   "execution_count": 59,
   "metadata": {
    "ExecuteTime": {
     "end_time": "2016-07-01T14:33:24.740000",
     "start_time": "2016-07-01T14:33:24.609000"
    },
    "collapsed": false
   },
   "outputs": [
    {
     "data": {
      "text/plain": [
       "dtype('float32')"
      ]
     },
     "execution_count": 59,
     "metadata": {},
     "output_type": "execute_result"
    }
   ],
   "source": [
    "spk_view.depth[:,2]"
   ]
  },
  {
   "cell_type": "code",
   "execution_count": 57,
   "metadata": {
    "ExecuteTime": {
     "end_time": "2016-07-01T14:32:49.776000",
     "start_time": "2016-07-01T14:32:49.635000"
    },
    "collapsed": false
   },
   "outputs": [
    {
     "ename": "TypeError",
     "evalue": "No matching definition for argument type(s) array(int64, 1d, C), array(int32, 2d, C), array(float32, 2d, A)",
     "output_type": "error",
     "traceback": [
      "\u001b[1;31m---------------------------------------------------------------------------\u001b[0m",
      "\u001b[1;31mTypeError\u001b[0m                                 Traceback (most recent call last)",
      "\u001b[1;32m<ipython-input-57-59591cfb2161>\u001b[0m in \u001b[0;36m<module>\u001b[1;34m()\u001b[0m\n\u001b[1;32m----> 1\u001b[1;33m \u001b[0m_cache_in\u001b[0m\u001b[1;33m(\u001b[0m\u001b[0mview_mask\u001b[0m\u001b[1;33m,\u001b[0m \u001b[0m_depth\u001b[0m\u001b[1;33m,\u001b[0m \u001b[0mspk_view\u001b[0m\u001b[1;33m.\u001b[0m\u001b[0mdepth\u001b[0m\u001b[1;33m[\u001b[0m\u001b[1;33m:\u001b[0m\u001b[1;33m,\u001b[0m\u001b[1;36m2\u001b[0m\u001b[1;33m]\u001b[0m\u001b[1;33m.\u001b[0m\u001b[0mreshape\u001b[0m\u001b[1;33m(\u001b[0m\u001b[1;33m-\u001b[0m\u001b[1;36m1\u001b[0m\u001b[1;33m,\u001b[0m\u001b[1;36m1\u001b[0m\u001b[1;33m)\u001b[0m\u001b[1;33m)\u001b[0m\u001b[1;33m\u001b[0m\u001b[0m\n\u001b[0m",
      "\u001b[1;32mC:\\Anaconda\\envs\\phy\\lib\\site-packages\\numba\\dispatcher.pyc\u001b[0m in \u001b[0;36m_explain_matching_error\u001b[1;34m(self, *args, **kws)\u001b[0m\n\u001b[0;32m    322\u001b[0m         msg = (\"No matching definition for argument type(s) %s\"\n\u001b[0;32m    323\u001b[0m                % ', '.join(map(str, args)))\n\u001b[1;32m--> 324\u001b[1;33m         \u001b[1;32mraise\u001b[0m \u001b[0mTypeError\u001b[0m\u001b[1;33m(\u001b[0m\u001b[0mmsg\u001b[0m\u001b[1;33m)\u001b[0m\u001b[1;33m\u001b[0m\u001b[0m\n\u001b[0m\u001b[0;32m    325\u001b[0m \u001b[1;33m\u001b[0m\u001b[0m\n\u001b[0;32m    326\u001b[0m     \u001b[1;32mdef\u001b[0m \u001b[0m_search_new_conversions\u001b[0m\u001b[1;33m(\u001b[0m\u001b[0mself\u001b[0m\u001b[1;33m,\u001b[0m \u001b[1;33m*\u001b[0m\u001b[0margs\u001b[0m\u001b[1;33m,\u001b[0m \u001b[1;33m**\u001b[0m\u001b[0mkws\u001b[0m\u001b[1;33m)\u001b[0m\u001b[1;33m:\u001b[0m\u001b[1;33m\u001b[0m\u001b[0m\n",
      "\u001b[1;31mTypeError\u001b[0m: No matching definition for argument type(s) array(int64, 1d, C), array(int32, 2d, C), array(float32, 2d, A)"
     ]
    }
   ],
   "source": [
    "_cache_in(view_mask, _depth, spk_view.depth[:,2].reshape(-1,1))"
   ]
  },
  {
   "cell_type": "code",
   "execution_count": 50,
   "metadata": {
    "ExecuteTime": {
     "end_time": "2016-07-01T13:55:23.944000",
     "start_time": "2016-07-01T13:55:16.534000"
    },
    "collapsed": false
   },
   "outputs": [
    {
     "name": "stdout",
     "output_type": "stream",
     "text": [
      "100 loops, best of 3: 17.6 ms per loop\n"
     ]
    }
   ],
   "source": [
    "%timeit spk_view.color[_cache_mask_, :3] = spk_view._cache_color[_cache_mask_, :3]"
   ]
  },
  {
   "cell_type": "code",
   "execution_count": 52,
   "metadata": {
    "ExecuteTime": {
     "end_time": "2016-07-01T13:55:40.464000",
     "start_time": "2016-07-01T13:55:40.331000"
    },
    "collapsed": false
   },
   "outputs": [
    {
     "data": {
      "text/plain": [
       "((432500L,), (432500L,))"
      ]
     },
     "execution_count": 52,
     "metadata": {},
     "output_type": "execute_result"
    }
   ],
   "source": [
    "_cache_mask_.shape, view_mask.shape"
   ]
  },
  {
   "cell_type": "code",
   "execution_count": 44,
   "metadata": {
    "ExecuteTime": {
     "end_time": "2016-07-01T13:12:41.486000",
     "start_time": "2016-07-01T13:12:41.354000"
    },
    "collapsed": false
   },
   "outputs": [
    {
     "data": {
      "text/plain": [
       "((1726000L, 4L), (1726000L, 3L))"
      ]
     },
     "execution_count": 44,
     "metadata": {},
     "output_type": "execute_result"
    }
   ],
   "source": [
    "spk_view.color.shape, spk_view.depth.shape"
   ]
  },
  {
   "cell_type": "code",
   "execution_count": null,
   "metadata": {
    "ExecuteTime": {
     "start_time": "2016-07-01T18:21:19.358Z"
    },
    "collapsed": false
   },
   "outputs": [],
   "source": [
    "%timeit rerender()"
   ]
  },
  {
   "cell_type": "code",
   "execution_count": 35,
   "metadata": {
    "ExecuteTime": {
     "end_time": "2016-07-01T14:40:35.275000",
     "start_time": "2016-07-01T14:40:35.130000"
    },
    "collapsed": false
   },
   "outputs": [
    {
     "name": "stdout",
     "output_type": "stream",
     "text": [
      "render cache mask, elapsed time: 6.77639060518 ms\n",
      "render view mask, elapsed time: 10.1255845078 ms\n"
     ]
    }
   ],
   "source": [
    "rerender()"
   ]
  },
  {
   "cell_type": "code",
   "execution_count": null,
   "metadata": {
    "collapsed": true
   },
   "outputs": [],
   "source": []
  },
  {
   "cell_type": "code",
   "execution_count": null,
   "metadata": {
    "collapsed": true
   },
   "outputs": [],
   "source": []
  },
  {
   "cell_type": "code",
   "execution_count": null,
   "metadata": {
    "collapsed": true
   },
   "outputs": [],
   "source": []
  },
  {
   "cell_type": "code",
   "execution_count": null,
   "metadata": {
    "collapsed": true
   },
   "outputs": [],
   "source": []
  },
  {
   "cell_type": "code",
   "execution_count": null,
   "metadata": {
    "collapsed": true
   },
   "outputs": [],
   "source": []
  },
  {
   "cell_type": "code",
   "execution_count": 30,
   "metadata": {
    "ExecuteTime": {
     "end_time": "2016-07-01T12:32:18.485000",
     "start_time": "2016-07-01T12:32:18.356000"
    },
    "collapsed": true
   },
   "outputs": [],
   "source": [
    "clu = cluster[29]"
   ]
  },
  {
   "cell_type": "code",
   "execution_count": 31,
   "metadata": {
    "ExecuteTime": {
     "end_time": "2016-07-01T12:32:18.657000",
     "start_time": "2016-07-01T12:32:18.530000"
    },
    "collapsed": false,
    "scrolled": false
   },
   "outputs": [
    {
     "data": {
      "text/plain": [
       "['spiketag.view.spike_view.on_cluster', '__main__.on_cluster']"
      ]
     },
     "execution_count": 31,
     "metadata": {},
     "output_type": "execute_result"
    },
    {
     "name": "stdout",
     "output_type": "stream",
     "text": [
      "get_subset, elapsed time: 0.310369035333 ms\n",
      "reassign membership, elapsed time: 0.00533703359906 ms\n",
      "reconstruct, elapsed time: 0.706951691654 ms\n",
      "renew, elapsed time: 588.389899048 ms\n",
      "emit move signal, elapsed time: 599.513098312 ms\n",
      "move, elapsed time: 600.74143714 ms\n",
      "highlight, elapsed time: 3.03759324413 ms\n",
      "get_subset, elapsed time: 0.276294128071 ms\n",
      "reassign membership, elapsed time: 0.00451595155937 ms\n",
      "reconstruct, elapsed time: 0.647012697982 ms\n",
      "renew, elapsed time: 181.893086899 ms\n",
      "emit move signal, elapsed time: 185.947590329 ms\n",
      "move, elapsed time: 187.077809846 ms\n",
      "highlight, elapsed time: 3.10369035356 ms\n",
      "get_subset, elapsed time: 0.107972296746 ms\n",
      "reassign membership, elapsed time: 0.00328432838614 ms\n",
      "reconstruct, elapsed time: 0.649065403309 ms\n",
      "renew, elapsed time: 181.634035495 ms\n",
      "emit move signal, elapsed time: 185.723024374 ms\n",
      "move, elapsed time: 186.684511518 ms\n",
      "highlight, elapsed time: 0.157237222993 ms\n",
      "get_subset, elapsed time: 0.0940139009344 ms\n",
      "reassign membership, elapsed time: 0.00369486951968 ms\n",
      "reconstruct, elapsed time: 0.642086205403 ms\n",
      "renew, elapsed time: 179.438461949 ms\n",
      "emit move signal, elapsed time: 183.486807263 ms\n",
      "move, elapsed time: 184.418735451 ms\n",
      "highlight, elapsed time: 0.146973696587 ms\n"
     ]
    }
   ],
   "source": [
    "clu._registered_func_name('cluster')"
   ]
  },
  {
   "cell_type": "code",
   "execution_count": null,
   "metadata": {
    "collapsed": true
   },
   "outputs": [],
   "source": []
  },
  {
   "cell_type": "code",
   "execution_count": null,
   "metadata": {
    "collapsed": true
   },
   "outputs": [],
   "source": []
  },
  {
   "cell_type": "code",
   "execution_count": 27,
   "metadata": {
    "ExecuteTime": {
     "end_time": "2016-06-30T20:57:45.682000",
     "start_time": "2016-06-30T20:57:43.184000"
    },
    "collapsed": false
   },
   "outputs": [
    {
     "name": "stdout",
     "output_type": "stream",
     "text": [
      "1 loop, best of 3: 590 ms per loop\n"
     ]
    }
   ],
   "source": [
    "%timeit spk_view.renew(spk_view.clu)"
   ]
  },
  {
   "cell_type": "code",
   "execution_count": null,
   "metadata": {
    "collapsed": true
   },
   "outputs": [],
   "source": []
  },
  {
   "cell_type": "code",
   "execution_count": null,
   "metadata": {
    "collapsed": true
   },
   "outputs": [],
   "source": []
  },
  {
   "cell_type": "code",
   "execution_count": null,
   "metadata": {
    "collapsed": true
   },
   "outputs": [],
   "source": []
  },
  {
   "cell_type": "code",
   "execution_count": null,
   "metadata": {
    "collapsed": true
   },
   "outputs": [],
   "source": []
  },
  {
   "cell_type": "code",
   "execution_count": 23,
   "metadata": {
    "ExecuteTime": {
     "end_time": "2016-06-30T20:56:12.662000",
     "start_time": "2016-06-30T20:56:12.538000"
    },
    "collapsed": false
   },
   "outputs": [
    {
     "name": "stdout",
     "output_type": "stream",
     "text": [
      "('x', 'y')\n"
     ]
    }
   ],
   "source": [
    "for cls, data_list in spk_view._items.items():\n",
    "    print cls.allow_list"
   ]
  },
  {
   "cell_type": "code",
   "execution_count": null,
   "metadata": {
    "collapsed": true
   },
   "outputs": [],
   "source": []
  },
  {
   "cell_type": "code",
   "execution_count": null,
   "metadata": {
    "collapsed": true
   },
   "outputs": [],
   "source": []
  },
  {
   "cell_type": "code",
   "execution_count": null,
   "metadata": {
    "collapsed": true
   },
   "outputs": [],
   "source": []
  },
  {
   "cell_type": "code",
   "execution_count": null,
   "metadata": {
    "collapsed": true
   },
   "outputs": [],
   "source": []
  },
  {
   "cell_type": "code",
   "execution_count": null,
   "metadata": {
    "collapsed": true
   },
   "outputs": [],
   "source": []
  },
  {
   "cell_type": "code",
   "execution_count": null,
   "metadata": {
    "collapsed": true
   },
   "outputs": [],
   "source": []
  },
  {
   "cell_type": "code",
   "execution_count": null,
   "metadata": {
    "collapsed": true
   },
   "outputs": [],
   "source": []
  },
  {
   "cell_type": "code",
   "execution_count": 34,
   "metadata": {
    "ExecuteTime": {
     "end_time": "2016-06-30T19:17:16.159000",
     "start_time": "2016-06-30T19:17:15.976000"
    },
    "collapsed": false
   },
   "outputs": [
    {
     "name": "stdout",
     "output_type": "stream",
     "text": [
      "<class 'phy.plot.visuals.PlotVisual'>\n",
      "['color', 'box_index', 'depth', 'data_bounds', 'y', 'x']\n"
     ]
    }
   ],
   "source": [
    "for cls, data_list in spk_view._items.items():\n",
    "    print cls\n",
    "    print data_list[0].keys()\n",
    "    data_list = data_list\n",
    "    #     data = _accumulate(data_list, cls.allow_list)\n",
    "#     box_index = data.pop('box_index')\n",
    "#     visual = cls()\n",
    "#     self.add_visual(visual)"
   ]
  },
  {
   "cell_type": "code",
   "execution_count": 31,
   "metadata": {
    "ExecuteTime": {
     "end_time": "2016-06-30T18:44:54.136000",
     "start_time": "2016-06-30T18:44:53.988000"
    },
    "collapsed": false
   },
   "outputs": [
    {
     "name": "stdout",
     "output_type": "stream",
     "text": [
      "Populating the interactive namespace from numpy and matplotlib\n"
     ]
    }
   ],
   "source": [
    "%pylab inline"
   ]
  },
  {
   "cell_type": "code",
   "execution_count": 32,
   "metadata": {
    "ExecuteTime": {
     "end_time": "2016-06-30T20:47:27.750000",
     "start_time": "2016-06-30T20:47:27.624000"
    },
    "collapsed": true
   },
   "outputs": [],
   "source": [
    "from spiketag.view._core import _accumulate"
   ]
  },
  {
   "cell_type": "code",
   "execution_count": 27,
   "metadata": {
    "ExecuteTime": {
     "end_time": "2016-06-30T18:44:05.186000",
     "start_time": "2016-06-30T18:44:05.027000"
    },
    "collapsed": false
   },
   "outputs": [
    {
     "data": {
      "text/plain": [
       "array([ 0.17689535,  0.17322454,  0.17434254,  0.17714804,  0.17874058,\n",
       "        0.17977639,  0.1797881 ,  0.18188739,  0.18649863,  0.19461696,\n",
       "        0.20460857,  0.21118361,  0.21471013,  0.21385491,  0.21084124,\n",
       "        0.20942864,  0.21092717,  0.21575017,  0.22309922,  0.23153883], dtype=float32)"
      ]
     },
     "execution_count": 27,
     "metadata": {},
     "output_type": "execute_result"
    }
   ],
   "source": [
    "y = data_list[0]['y'].pop(2)"
   ]
  },
  {
   "cell_type": "code",
   "execution_count": 34,
   "metadata": {
    "ExecuteTime": {
     "end_time": "2016-06-30T18:46:33.471000",
     "start_time": "2016-06-30T18:46:33.343000"
    },
    "collapsed": true
   },
   "outputs": [],
   "source": [
    "x = data_list[0]['x'].pop(2)"
   ]
  },
  {
   "cell_type": "code",
   "execution_count": 33,
   "metadata": {
    "ExecuteTime": {
     "end_time": "2016-06-30T18:46:05.170000",
     "start_time": "2016-06-30T18:46:05.042000"
    },
    "collapsed": false
   },
   "outputs": [],
   "source": [
    "data_list[1]['y'].append(y)"
   ]
  },
  {
   "cell_type": "code",
   "execution_count": 35,
   "metadata": {
    "ExecuteTime": {
     "end_time": "2016-06-30T18:46:45.096000",
     "start_time": "2016-06-30T18:46:44.970000"
    },
    "collapsed": true
   },
   "outputs": [],
   "source": [
    "data_list[1]['x'].append(x)"
   ]
  },
  {
   "cell_type": "code",
   "execution_count": null,
   "metadata": {
    "collapsed": true
   },
   "outputs": [],
   "source": []
  },
  {
   "cell_type": "code",
   "execution_count": 40,
   "metadata": {
    "ExecuteTime": {
     "end_time": "2016-06-30T19:17:57.703000",
     "start_time": "2016-06-30T19:17:57.575000"
    },
    "collapsed": false
   },
   "outputs": [
    {
     "data": {
      "text/plain": [
       "['y', 'depth', 'data_bounds', 'color', 'x', 'box_index']"
      ]
     },
     "execution_count": 40,
     "metadata": {},
     "output_type": "execute_result"
    }
   ],
   "source": [
    "data.keys()"
   ]
  },
  {
   "cell_type": "code",
   "execution_count": 64,
   "metadata": {
    "ExecuteTime": {
     "end_time": "2016-06-30T19:35:12.421000",
     "start_time": "2016-06-30T19:35:12.270000"
    },
    "collapsed": false
   },
   "outputs": [
    {
     "data": {
      "text/plain": [
       "5"
      ]
     },
     "execution_count": 64,
     "metadata": {},
     "output_type": "execute_result"
    }
   ],
   "source": [
    "spk_view.clu.nclu"
   ]
  },
  {
   "cell_type": "code",
   "execution_count": 59,
   "metadata": {
    "ExecuteTime": {
     "end_time": "2016-06-30T20:51:20.834000",
     "start_time": "2016-06-30T20:51:20.701000"
    },
    "collapsed": false
   },
   "outputs": [],
   "source": [
    "def get_new_data_list(clu):\n",
    "    spk_view.clu = clu\n",
    "    nclu = clu.nclu\n",
    "    base_x = spk_view._xsig\n",
    "    data_bound = (-1,-1,1,1)\n",
    "    new_data_list=[]\n",
    "    for chNo in range(spk_view.n_ch):\n",
    "        for cluNo in clu.index_id:\n",
    "    #         i = cluNo + chNo*nclu\n",
    "            y           = list(spk_view.spk[clu[cluNo],:,chNo].squeeze())\n",
    "            x           = [base_x for i in y]\n",
    "            n           = len(x)\n",
    "            color       = np.hstack((np.array([spk_view.palette[cluNo] for i in y]), spk_view.transparency*np.ones((n,1)))).astype('float32')\n",
    "            depth       = np.zeros((n,1))\n",
    "            data_bounds = data_bound*np.ones((n,1))\n",
    "            box_index   = [chNo, cluNo] * np.ones((n*spk_view.n_samples,1))\n",
    "            new_data_list.append({'y': y,\n",
    "                                  'x': x,\n",
    "                                  'color': color,\n",
    "                                  'depth': depth,\n",
    "                                  'data_bounds': data_bounds,\n",
    "                                  'box_index': box_index})\n",
    "    data = _accumulate(new_data_list, cls.allow_list)\n",
    "    return data"
   ]
  },
  {
   "cell_type": "code",
   "execution_count": 214,
   "metadata": {
    "ExecuteTime": {
     "end_time": "2016-06-30T20:09:42.945000",
     "start_time": "2016-06-30T20:09:42.699000"
    },
    "collapsed": false
   },
   "outputs": [],
   "source": [
    "new_data_list = get_new_data_list()"
   ]
  },
  {
   "cell_type": "code",
   "execution_count": 300,
   "metadata": {
    "ExecuteTime": {
     "end_time": "2016-06-30T20:24:30.432000",
     "start_time": "2016-06-30T20:24:30.302000"
    },
    "collapsed": false
   },
   "outputs": [
    {
     "data": {
      "text/plain": [
       "array([[-2., -1.,  2.,  1.],\n",
       "       [-2., -1.,  2.,  1.],\n",
       "       [-2., -1.,  2.,  1.],\n",
       "       [-2., -1.,  2.,  1.],\n",
       "       [-2., -1.,  2.,  1.],\n",
       "       [-2., -1.,  2.,  1.]])"
      ]
     },
     "execution_count": 300,
     "metadata": {},
     "output_type": "execute_result"
    }
   ],
   "source": [
    "data_list[1]['data_bounds']"
   ]
  },
  {
   "cell_type": "code",
   "execution_count": 216,
   "metadata": {
    "ExecuteTime": {
     "end_time": "2016-06-30T20:09:47.647000",
     "start_time": "2016-06-30T20:09:47.515000"
    },
    "collapsed": false
   },
   "outputs": [
    {
     "data": {
      "text/plain": [
       "[array([ 0.44885188,  0.47664273,  0.50341558,  0.52376956,  0.5354616 ,\n",
       "         0.5395686 ,  0.54003215,  0.54179615,  0.54502165,  0.54617512,\n",
       "         0.53302944,  0.48971528,  0.40475905,  0.27475896,  0.11070183,\n",
       "        -0.06439477, -0.21941063, -0.32489482, -0.36282966, -0.33210662], dtype=float32),\n",
       " array([ 0.41780972,  0.44758952,  0.47871834,  0.50587004,  0.52410734,\n",
       "         0.53385615,  0.53869677,  0.54561603,  0.55807948,  0.57404965,\n",
       "         0.58333993,  0.5678817 ,  0.50818175,  0.39219728,  0.22338104,\n",
       "         0.02091879, -0.18181095, -0.34657553, -0.44198599, -0.45377442], dtype=float32),\n",
       " array([ 0.40008694,  0.41793847,  0.44110286,  0.46556252,  0.48605844,\n",
       "         0.50092757,  0.51191097,  0.52087885,  0.53290087,  0.54751205,\n",
       "         0.5570637 ,  0.54770899,  0.50239396,  0.40871266,  0.26670167,\n",
       "         0.08904949, -0.09809366, -0.26120874, -0.37171611, -0.41143104], dtype=float32),\n",
       " array([ 0.44105381,  0.46444166,  0.48286858,  0.4938646 ,  0.49929613,\n",
       "         0.50399536,  0.51379663,  0.52961367,  0.54723608,  0.55401009,\n",
       "         0.53212965,  0.4641141 ,  0.34289226,  0.17516302, -0.01716536,\n",
       "        -0.19991747, -0.33813021, -0.40713146, -0.39921203, -0.32630166], dtype=float32),\n",
       " array([ 0.43386614,  0.46812361,  0.49522763,  0.51306069,  0.52343118,\n",
       "         0.53070414,  0.54038596,  0.55332828,  0.56550163,  0.56314206,\n",
       "         0.5280025 ,  0.44558221,  0.31168506,  0.13729884, -0.05412906,\n",
       "        -0.22826585, -0.35324785, -0.40680566, -0.3864269 , -0.30800822], dtype=float32),\n",
       " array([ 0.45165944,  0.47659424,  0.49520743,  0.50505936,  0.5098753 ,\n",
       "         0.51596582,  0.52800244,  0.54651833,  0.56157768,  0.55650175,\n",
       "         0.51084548,  0.41015944,  0.2545844 ,  0.060619  , -0.13830492,\n",
       "        -0.30466089, -0.40570417, -0.42637506, -0.37166503, -0.26557282], dtype=float32)]"
      ]
     },
     "execution_count": 216,
     "metadata": {},
     "output_type": "execute_result"
    }
   ],
   "source": [
    "data_list[1]['y']"
   ]
  },
  {
   "cell_type": "code",
   "execution_count": 217,
   "metadata": {
    "ExecuteTime": {
     "end_time": "2016-06-30T20:09:49.674000",
     "start_time": "2016-06-30T20:09:49.532000"
    },
    "collapsed": false
   },
   "outputs": [
    {
     "data": {
      "text/plain": [
       "array([[ 0.18039216,  0.80000001,  0.44313726,  0.2       ],\n",
       "       [ 0.18039216,  0.80000001,  0.44313726,  0.2       ],\n",
       "       [ 0.18039216,  0.80000001,  0.44313726,  0.2       ],\n",
       "       [ 0.18039216,  0.80000001,  0.44313726,  0.2       ],\n",
       "       [ 0.18039216,  0.80000001,  0.44313726,  0.2       ],\n",
       "       [ 0.18039216,  0.80000001,  0.44313726,  0.2       ]], dtype=float32)"
      ]
     },
     "execution_count": 217,
     "metadata": {},
     "output_type": "execute_result"
    }
   ],
   "source": [
    "data_list[1]['color']"
   ]
  },
  {
   "cell_type": "code",
   "execution_count": 218,
   "metadata": {
    "ExecuteTime": {
     "end_time": "2016-06-30T20:09:51.718000",
     "start_time": "2016-06-30T20:09:51.587000"
    },
    "collapsed": false,
    "scrolled": true
   },
   "outputs": [
    {
     "data": {
      "text/plain": [
       "[array([-0.5       , -0.44736842, -0.39473684, -0.34210526, -0.28947368,\n",
       "        -0.23684211, -0.18421053, -0.13157895, -0.07894737, -0.02631579,\n",
       "         0.02631579,  0.07894737,  0.13157895,  0.18421053,  0.23684211,\n",
       "         0.28947368,  0.34210526,  0.39473684,  0.44736842,  0.5       ]),\n",
       " array([-0.5       , -0.44736842, -0.39473684, -0.34210526, -0.28947368,\n",
       "        -0.23684211, -0.18421053, -0.13157895, -0.07894737, -0.02631579,\n",
       "         0.02631579,  0.07894737,  0.13157895,  0.18421053,  0.23684211,\n",
       "         0.28947368,  0.34210526,  0.39473684,  0.44736842,  0.5       ]),\n",
       " array([-0.5       , -0.44736842, -0.39473684, -0.34210526, -0.28947368,\n",
       "        -0.23684211, -0.18421053, -0.13157895, -0.07894737, -0.02631579,\n",
       "         0.02631579,  0.07894737,  0.13157895,  0.18421053,  0.23684211,\n",
       "         0.28947368,  0.34210526,  0.39473684,  0.44736842,  0.5       ]),\n",
       " array([-0.5       , -0.44736842, -0.39473684, -0.34210526, -0.28947368,\n",
       "        -0.23684211, -0.18421053, -0.13157895, -0.07894737, -0.02631579,\n",
       "         0.02631579,  0.07894737,  0.13157895,  0.18421053,  0.23684211,\n",
       "         0.28947368,  0.34210526,  0.39473684,  0.44736842,  0.5       ]),\n",
       " array([-0.5       , -0.44736842, -0.39473684, -0.34210526, -0.28947368,\n",
       "        -0.23684211, -0.18421053, -0.13157895, -0.07894737, -0.02631579,\n",
       "         0.02631579,  0.07894737,  0.13157895,  0.18421053,  0.23684211,\n",
       "         0.28947368,  0.34210526,  0.39473684,  0.44736842,  0.5       ]),\n",
       " array([-0.5       , -0.44736842, -0.39473684, -0.34210526, -0.28947368,\n",
       "        -0.23684211, -0.18421053, -0.13157895, -0.07894737, -0.02631579,\n",
       "         0.02631579,  0.07894737,  0.13157895,  0.18421053,  0.23684211,\n",
       "         0.28947368,  0.34210526,  0.39473684,  0.44736842,  0.5       ])]"
      ]
     },
     "execution_count": 218,
     "metadata": {},
     "output_type": "execute_result"
    }
   ],
   "source": [
    "new_data_list[1]['x']"
   ]
  },
  {
   "cell_type": "code",
   "execution_count": null,
   "metadata": {
    "collapsed": true
   },
   "outputs": [],
   "source": []
  },
  {
   "cell_type": "code",
   "execution_count": 257,
   "metadata": {
    "ExecuteTime": {
     "end_time": "2016-06-30T20:17:04.135000",
     "start_time": "2016-06-30T20:17:03.931000"
    },
    "collapsed": true
   },
   "outputs": [],
   "source": [
    "gui.show()"
   ]
  },
  {
   "cell_type": "code",
   "execution_count": null,
   "metadata": {
    "collapsed": true
   },
   "outputs": [],
   "source": []
  },
  {
   "cell_type": "code",
   "execution_count": null,
   "metadata": {
    "collapsed": true
   },
   "outputs": [],
   "source": []
  },
  {
   "cell_type": "code",
   "execution_count": 23,
   "metadata": {
    "ExecuteTime": {
     "end_time": "2016-06-30T20:46:43.366000",
     "start_time": "2016-06-30T20:46:43.236000"
    },
    "collapsed": false
   },
   "outputs": [
    {
     "name": "stdout",
     "output_type": "stream",
     "text": [
      "<class 'phy.plot.visuals.PlotVisual'>\n",
      "['color', 'box_index', 'depth', 'data_bounds', 'y', 'x']\n",
      "get_subset, elapsed time: 1.06289078376 ms\n",
      "reassign membership, elapsed time: 0.0106740673544 ms\n",
      "reconstruct, elapsed time: 0.633464843318 ms\n",
      "emit move signal, elapsed time: 1036.48847817 ms\n",
      "move, elapsed time: 1038.61549136 ms\n",
      "highlight, elapsed time: 15.986879108 ms\n"
     ]
    }
   ],
   "source": [
    "for cls, data_list in spk_view._items.items():\n",
    "    print cls\n",
    "    print data_list[0].keys()\n",
    "    data_list = data_list"
   ]
  },
  {
   "cell_type": "code",
   "execution_count": 305,
   "metadata": {
    "ExecuteTime": {
     "end_time": "2016-06-30T20:26:11.956000",
     "start_time": "2016-06-30T20:26:11.801000"
    },
    "collapsed": false
   },
   "outputs": [],
   "source": [
    "data = _accumulate(data_list, cls.allow_list)"
   ]
  },
  {
   "cell_type": "code",
   "execution_count": null,
   "metadata": {
    "collapsed": true
   },
   "outputs": [],
   "source": []
  },
  {
   "cell_type": "code",
   "execution_count": null,
   "metadata": {
    "collapsed": true
   },
   "outputs": [],
   "source": []
  },
  {
   "cell_type": "code",
   "execution_count": 326,
   "metadata": {
    "ExecuteTime": {
     "end_time": "2016-06-30T20:28:51.707000",
     "start_time": "2016-06-30T20:28:51.570000"
    },
    "collapsed": false
   },
   "outputs": [
    {
     "ename": "AttributeError",
     "evalue": "'numpy.ndarray' object has no attribute 'index_id'",
     "output_type": "error",
     "traceback": [
      "\u001b[1;31m---------------------------------------------------------------------------\u001b[0m",
      "\u001b[1;31mAttributeError\u001b[0m                            Traceback (most recent call last)",
      "\u001b[1;32m<ipython-input-326-740e2c38e82b>\u001b[0m in \u001b[0;36m<module>\u001b[1;34m()\u001b[0m\n\u001b[1;32m----> 1\u001b[1;33m \u001b[0mclu\u001b[0m\u001b[1;33m.\u001b[0m\u001b[0mindex_id\u001b[0m\u001b[1;33m\u001b[0m\u001b[0m\n\u001b[0m",
      "\u001b[1;31mAttributeError\u001b[0m: 'numpy.ndarray' object has no attribute 'index_id'"
     ]
    }
   ],
   "source": [
    "clu.index_id"
   ]
  },
  {
   "cell_type": "code",
   "execution_count": 24,
   "metadata": {
    "ExecuteTime": {
     "end_time": "2016-06-30T20:46:57.309000",
     "start_time": "2016-06-30T20:46:57.184000"
    },
    "collapsed": false
   },
   "outputs": [],
   "source": [
    "clu = spk_view.clu.membership"
   ]
  },
  {
   "cell_type": "code",
   "execution_count": 25,
   "metadata": {
    "ExecuteTime": {
     "end_time": "2016-06-30T20:46:58.658000",
     "start_time": "2016-06-30T20:46:58.531000"
    },
    "collapsed": false
   },
   "outputs": [
    {
     "data": {
      "text/plain": [
       "array([0, 1, 2, 3, 4, 5], dtype=int64)"
      ]
     },
     "execution_count": 25,
     "metadata": {},
     "output_type": "execute_result"
    }
   ],
   "source": [
    "cluster[30].index_id"
   ]
  },
  {
   "cell_type": "code",
   "execution_count": 26,
   "metadata": {
    "ExecuteTime": {
     "end_time": "2016-06-30T20:47:00.595000",
     "start_time": "2016-06-30T20:47:00.468000"
    },
    "collapsed": true
   },
   "outputs": [],
   "source": [
    "clu = cluster[30].membership.copy()"
   ]
  },
  {
   "cell_type": "code",
   "execution_count": 27,
   "metadata": {
    "ExecuteTime": {
     "end_time": "2016-06-30T20:47:01.435000",
     "start_time": "2016-06-30T20:47:01.310000"
    },
    "collapsed": true
   },
   "outputs": [],
   "source": [
    "clu = CLU(clu)"
   ]
  },
  {
   "cell_type": "code",
   "execution_count": 55,
   "metadata": {
    "ExecuteTime": {
     "end_time": "2016-06-30T20:50:02.316000",
     "start_time": "2016-06-30T20:50:02.188000"
    },
    "collapsed": false
   },
   "outputs": [
    {
     "data": {
      "text/plain": [
       "array([0, 1, 2, 3, 4], dtype=int64)"
      ]
     },
     "execution_count": 55,
     "metadata": {},
     "output_type": "execute_result"
    },
    {
     "name": "stdout",
     "output_type": "stream",
     "text": [
      "get_subset, elapsed time: 0.844482944075 ms\n",
      "reassign membership, elapsed time: 0.0102635263204 ms\n",
      "reconstruct, elapsed time: 0.557925289741 ms\n",
      "emit move signal, elapsed time: 0.00451595155937 ms\n",
      "move, elapsed time: 1.73001999335 ms\n",
      "highlight, elapsed time: 53.8564173725 ms\n"
     ]
    }
   ],
   "source": [
    "clu.index_id"
   ]
  },
  {
   "cell_type": "code",
   "execution_count": 62,
   "metadata": {
    "ExecuteTime": {
     "end_time": "2016-06-30T20:51:47.707000",
     "start_time": "2016-06-30T20:51:47.433000"
    },
    "collapsed": false
   },
   "outputs": [],
   "source": [
    "data = get_new_data_list(clu)"
   ]
  },
  {
   "cell_type": "code",
   "execution_count": 52,
   "metadata": {
    "ExecuteTime": {
     "end_time": "2016-06-30T20:49:47.057000",
     "start_time": "2016-06-30T20:49:46.924000"
    },
    "collapsed": true
   },
   "outputs": [],
   "source": [
    "def renew(clu):\n",
    "    \n",
    "    spk_view.clu = clu\n",
    "    nclu = clu.nclu\n",
    "    base_x = spk_view._xsig\n",
    "    data_bound = (-1,-1,1,1)\n",
    "    new_data_list=[]\n",
    "    for chNo in range(spk_view.n_ch):\n",
    "        for cluNo in clu.index_id:\n",
    "    #         i = cluNo + chNo*nclu\n",
    "            y           = list(spk_view.spk[clu[cluNo],:,chNo].squeeze())\n",
    "            x           = [base_x for i in y]\n",
    "            n           = len(x)\n",
    "            color       = np.hstack((np.array([spk_view.palette[cluNo] for i in y]), spk_view.transparency*np.ones((n,1)))).astype('float32')\n",
    "            depth       = np.zeros((n,1))\n",
    "            data_bounds = data_bound*np.ones((n,1))\n",
    "            box_index   = [chNo, cluNo] * np.ones((n*spk_view.n_samples,1))\n",
    "            new_data_list.append({'y': y,\n",
    "                                  'x': x,\n",
    "                                  'color': color,\n",
    "                                  'depth': depth,\n",
    "                                  'data_bounds': data_bounds,\n",
    "                                  'box_index': box_index})\n",
    "    data = _accumulate(new_data_list, cls.allow_list)\n",
    "    \n",
    "    spk_view.grid.shape = (spk_view.n_ch, clu.nclu)\n",
    "    box_index = data.pop('box_index')\n",
    "\n",
    "    \n",
    "    spk_view.y = np.asarray(data['y']).ravel()\n",
    "    spk_view.x = np.tile(spk_view._xsig, len(spk_view.y)/spk_view.n_samples)\n",
    "    spk_view.depth = np.c_[spk_view.x, spk_view.y, np.zeros(*spk_view.x.shape)].astype(np.float32)\n",
    "    spk_view.color = np.repeat(data['color'], spk_view.n_samples, axis=0)\n",
    "    spk_view._cache_depth = spk_view.depth.copy()\n",
    "    spk_view._cache_color = spk_view.color.copy()\n",
    "    spk_view._cache_mask_ = np.array([])\n",
    "\n",
    "    \n",
    "    spk_view.visuals[0].set_data(**data)\n",
    "    spk_view.visuals[0].program['a_box_index'] = box_index.astype(np.float32)"
   ]
  },
  {
   "cell_type": "code",
   "execution_count": 53,
   "metadata": {
    "ExecuteTime": {
     "end_time": "2016-06-30T20:49:48.468000",
     "start_time": "2016-06-30T20:49:47.834000"
    },
    "collapsed": false
   },
   "outputs": [],
   "source": [
    "renew(data)"
   ]
  },
  {
   "cell_type": "code",
   "execution_count": 63,
   "metadata": {
    "ExecuteTime": {
     "end_time": "2016-06-30T20:52:11.445000",
     "start_time": "2016-06-30T20:52:11.289000"
    },
    "collapsed": true
   },
   "outputs": [],
   "source": [
    "box_index = data.pop('box_index');"
   ]
  },
  {
   "cell_type": "code",
   "execution_count": 54,
   "metadata": {
    "ExecuteTime": {
     "end_time": "2016-06-30T20:49:49.465000",
     "start_time": "2016-06-30T20:49:49.342000"
    },
    "collapsed": false
   },
   "outputs": [],
   "source": [
    "spk_view.update()"
   ]
  },
  {
   "cell_type": "code",
   "execution_count": null,
   "metadata": {
    "collapsed": true
   },
   "outputs": [],
   "source": []
  },
  {
   "cell_type": "code",
   "execution_count": null,
   "metadata": {
    "collapsed": true
   },
   "outputs": [],
   "source": []
  },
  {
   "cell_type": "code",
   "execution_count": null,
   "metadata": {
    "collapsed": true
   },
   "outputs": [],
   "source": []
  },
  {
   "cell_type": "code",
   "execution_count": null,
   "metadata": {
    "collapsed": true
   },
   "outputs": [],
   "source": []
  },
  {
   "cell_type": "code",
   "execution_count": null,
   "metadata": {
    "collapsed": true
   },
   "outputs": [],
   "source": []
  },
  {
   "cell_type": "code",
   "execution_count": 24,
   "metadata": {
    "ExecuteTime": {
     "end_time": "2016-06-30T17:32:53.982000",
     "start_time": "2016-06-30T17:32:48.107000"
    },
    "collapsed": false
   },
   "outputs": [
    {
     "name": "stdout",
     "output_type": "stream",
     "text": [
      "100 loops, best of 3: 13.2 ms per loop\n",
      "move, elapsed time: 1214.17721415 ms\n",
      "highlight, elapsed time: 27.5945168137 ms\n",
      "move, elapsed time: 1147.02049831 ms\n",
      "highlight, elapsed time: 27.2266720311 ms\n",
      "move, elapsed time: 1113.92801573 ms\n",
      "highlight, elapsed time: 27.5152823907 ms\n",
      "move, elapsed time: 1113.77734717 ms\n",
      "highlight, elapsed time: 28.1200093604 ms\n",
      "move, elapsed time: 1115.59358078 ms\n",
      "highlight, elapsed time: 27.1137732418 ms\n"
     ]
    }
   ],
   "source": [
    "spk_view._spkNo2maskNo(spk_view._spkNolist, spk_view.selected_clu)"
   ]
  },
  {
   "cell_type": "code",
   "execution_count": null,
   "metadata": {
    "collapsed": true
   },
   "outputs": [],
   "source": []
  },
  {
   "cell_type": "code",
   "execution_count": null,
   "metadata": {
    "collapsed": true
   },
   "outputs": [],
   "source": []
  },
  {
   "cell_type": "code",
   "execution_count": null,
   "metadata": {
    "collapsed": true
   },
   "outputs": [],
   "source": []
  },
  {
   "cell_type": "code",
   "execution_count": null,
   "metadata": {
    "collapsed": true
   },
   "outputs": [],
   "source": []
  },
  {
   "cell_type": "code",
   "execution_count": null,
   "metadata": {
    "collapsed": true
   },
   "outputs": [],
   "source": []
  },
  {
   "cell_type": "code",
   "execution_count": null,
   "metadata": {
    "collapsed": true
   },
   "outputs": [],
   "source": []
  },
  {
   "cell_type": "code",
   "execution_count": null,
   "metadata": {
    "collapsed": true
   },
   "outputs": [],
   "source": []
  },
  {
   "cell_type": "code",
   "execution_count": null,
   "metadata": {
    "collapsed": true
   },
   "outputs": [],
   "source": []
  },
  {
   "cell_type": "code",
   "execution_count": 42,
   "metadata": {
    "ExecuteTime": {
     "end_time": "2016-06-29T19:42:22.363000",
     "start_time": "2016-06-29T19:42:19.104000"
    },
    "collapsed": false
   },
   "outputs": [],
   "source": [
    "# ---- recluster when fall-off-size change ----\n",
    "# fall_off_size = props.clu_param.value()\n",
    "min_cluster_size = 15\n",
    "leaf_size = 15\n",
    "hdbcluster = HDBSCAN(min_cluster_size=min_cluster_size, \n",
    "                     leaf_size=leaf_size,\n",
    "                     gen_min_span_tree=True, \n",
    "                     algorithm='boruvka_kdtree')\n",
    "cluster[ch].membership = hdbcluster.fit_predict(fet[ch]) + 1\n",
    "cluster[ch].__construct__()\n",
    "scatter_view.set_data(fet=fet[ch], clu=cluster[ch].membership)\n",
    "spk_view.clear()\n",
    "spk_view.set_data(spk[ch], cluster[ch])"
   ]
  },
  {
   "cell_type": "code",
   "execution_count": null,
   "metadata": {
    "collapsed": true
   },
   "outputs": [],
   "source": []
  },
  {
   "cell_type": "code",
   "execution_count": null,
   "metadata": {
    "ExecuteTime": {
     "end_time": "2016-06-28T23:12:42.343000",
     "start_time": "2016-06-28T23:12:42.202000"
    },
    "collapsed": false
   },
   "outputs": [],
   "source": []
  },
  {
   "cell_type": "code",
   "execution_count": null,
   "metadata": {
    "collapsed": true
   },
   "outputs": [],
   "source": []
  },
  {
   "cell_type": "code",
   "execution_count": null,
   "metadata": {
    "collapsed": true
   },
   "outputs": [],
   "source": []
  },
  {
   "cell_type": "code",
   "execution_count": null,
   "metadata": {
    "collapsed": true
   },
   "outputs": [],
   "source": []
  },
  {
   "cell_type": "markdown",
   "metadata": {
    "ExecuteTime": {
     "end_time": "2016-06-29T21:45:48.101000",
     "start_time": "2016-06-29T21:45:47.958000"
    }
   },
   "source": [
    "# OPTICS"
   ]
  },
  {
   "cell_type": "code",
   "execution_count": 21,
   "metadata": {
    "ExecuteTime": {
     "end_time": "2016-06-29T21:48:44.120000",
     "start_time": "2016-06-29T21:48:43.914000"
    },
    "collapsed": false
   },
   "outputs": [],
   "source": [
    "from pyclustering.cluster.optics import optics"
   ]
  },
  {
   "cell_type": "code",
   "execution_count": 180,
   "metadata": {
    "ExecuteTime": {
     "end_time": "2016-06-29T23:10:35.186000",
     "start_time": "2016-06-29T23:10:34.996000"
    },
    "collapsed": true
   },
   "outputs": [],
   "source": [
    "optics_instance = optics(fet[30], 0.01, 5)"
   ]
  },
  {
   "cell_type": "code",
   "execution_count": 181,
   "metadata": {
    "ExecuteTime": {
     "end_time": "2016-06-29T23:34:31.162000",
     "start_time": "2016-06-29T23:10:36.738000"
    },
    "collapsed": true
   },
   "outputs": [],
   "source": [
    "optics_instance.process()"
   ]
  },
  {
   "cell_type": "code",
   "execution_count": null,
   "metadata": {
    "collapsed": true
   },
   "outputs": [],
   "source": []
  },
  {
   "cell_type": "code",
   "execution_count": null,
   "metadata": {
    "collapsed": true
   },
   "outputs": [],
   "source": []
  },
  {
   "cell_type": "code",
   "execution_count": 130,
   "metadata": {
    "ExecuteTime": {
     "end_time": "2016-06-29T22:41:11.058000",
     "start_time": "2016-06-29T22:41:10.932000"
    },
    "collapsed": true
   },
   "outputs": [],
   "source": [
    "_clu = optics_instance.get_clusters()"
   ]
  },
  {
   "cell_type": "code",
   "execution_count": 131,
   "metadata": {
    "ExecuteTime": {
     "end_time": "2016-06-29T22:41:12.794000",
     "start_time": "2016-06-29T22:41:12.668000"
    },
    "collapsed": true
   },
   "outputs": [],
   "source": [
    "ordering = optics_instance.get_cluster_ordering()"
   ]
  },
  {
   "cell_type": "code",
   "execution_count": 132,
   "metadata": {
    "ExecuteTime": {
     "end_time": "2016-06-29T22:41:13.989000",
     "start_time": "2016-06-29T22:41:13.866000"
    },
    "collapsed": true
   },
   "outputs": [],
   "source": [
    "indexes = [i for i in range(0, len(ordering))]"
   ]
  },
  {
   "cell_type": "code",
   "execution_count": 133,
   "metadata": {
    "ExecuteTime": {
     "end_time": "2016-06-29T22:41:14.975000",
     "start_time": "2016-06-29T22:41:14.844000"
    },
    "collapsed": false
   },
   "outputs": [
    {
     "name": "stdout",
     "output_type": "stream",
     "text": [
      "Populating the interactive namespace from numpy and matplotlib\n"
     ]
    }
   ],
   "source": [
    "%pylab qt"
   ]
  },
  {
   "cell_type": "code",
   "execution_count": 134,
   "metadata": {
    "ExecuteTime": {
     "end_time": "2016-06-29T22:41:15.931000",
     "start_time": "2016-06-29T22:41:15.761000"
    },
    "collapsed": false
   },
   "outputs": [
    {
     "data": {
      "text/plain": [
       "[<matplotlib.lines.Line2D at 0x86d4d748>]"
      ]
     },
     "execution_count": 134,
     "metadata": {},
     "output_type": "execute_result"
    }
   ],
   "source": [
    "plt.plot(indexes, ordering)"
   ]
  },
  {
   "cell_type": "code",
   "execution_count": 135,
   "metadata": {
    "ExecuteTime": {
     "end_time": "2016-06-29T22:41:30.368000",
     "start_time": "2016-06-29T22:41:30.243000"
    },
    "collapsed": true
   },
   "outputs": [],
   "source": [
    "from pyclustering.utils import  draw_clusters"
   ]
  },
  {
   "cell_type": "code",
   "execution_count": 136,
   "metadata": {
    "ExecuteTime": {
     "end_time": "2016-06-29T22:41:35.299000",
     "start_time": "2016-06-29T22:41:30.516000"
    },
    "collapsed": false
   },
   "outputs": [
    {
     "data": {
      "text/plain": [
       "<matplotlib.axes._subplots.Axes3DSubplot at 0x5143e048>"
      ]
     },
     "execution_count": 136,
     "metadata": {},
     "output_type": "execute_result"
    }
   ],
   "source": [
    "draw_clusters(fet[26][:,:3],_clu,[],'.')"
   ]
  },
  {
   "cell_type": "code",
   "execution_count": 137,
   "metadata": {
    "ExecuteTime": {
     "end_time": "2016-06-29T22:41:44.833000",
     "start_time": "2016-06-29T22:41:44.706000"
    },
    "collapsed": false
   },
   "outputs": [
    {
     "data": {
      "text/plain": [
       "array([1, 1, 1, ..., 1, 1, 1], dtype=int64)"
      ]
     },
     "execution_count": 137,
     "metadata": {},
     "output_type": "execute_result"
    }
   ],
   "source": [
    "optic_clu = np.zeros_like(clu[26])\n",
    "for i,_ in enumerate(_clu):\n",
    "    optic_clu[_clu[i]] = i+1\n",
    "optic_clu"
   ]
  },
  {
   "cell_type": "code",
   "execution_count": 138,
   "metadata": {
    "ExecuteTime": {
     "end_time": "2016-06-29T22:41:45.788000",
     "start_time": "2016-06-29T22:41:45.664000"
    },
    "collapsed": false
   },
   "outputs": [
    {
     "data": {
      "text/plain": [
       "[125, 344, 601, 1085, 1224, 1479, 1719, 2108, 2375]"
      ]
     },
     "execution_count": 138,
     "metadata": {},
     "output_type": "execute_result"
    }
   ],
   "source": [
    "optics_instance.get_noise()"
   ]
  },
  {
   "cell_type": "code",
   "execution_count": null,
   "metadata": {
    "collapsed": true
   },
   "outputs": [],
   "source": []
  },
  {
   "cell_type": "code",
   "execution_count": 118,
   "metadata": {
    "ExecuteTime": {
     "end_time": "2016-06-29T22:21:02.705000",
     "start_time": "2016-06-29T22:21:02.496000"
    },
    "collapsed": false
   },
   "outputs": [
    {
     "name": "stderr",
     "output_type": "stream",
     "text": [
      "WARNING: Error drawing visual <Text at 0x37da0978>\n"
     ]
    }
   ],
   "source": [
    "view = spike_view()\n",
    "view.set_data(spk[26][_clu[0]])\n",
    "view.show()"
   ]
  },
  {
   "cell_type": "code",
   "execution_count": 139,
   "metadata": {
    "ExecuteTime": {
     "end_time": "2016-06-29T22:41:55.645000",
     "start_time": "2016-06-29T22:41:55.367000"
    },
    "collapsed": false,
    "scrolled": false
   },
   "outputs": [
    {
     "name": "stdout",
     "output_type": "stream",
     "text": [
      "move, elapsed time: 151.024915737 ms\n",
      "highlight, elapsed time: 15.9064130617 ms\n",
      "move, elapsed time: 149.384393693 ms\n",
      "highlight, elapsed time: 0.559977994726 ms\n",
      "move, elapsed time: 148.808404596 ms\n",
      "highlight, elapsed time: 0.559156912914 ms\n",
      "move, elapsed time: 149.686551907 ms\n",
      "highlight, elapsed time: 0.529597957211 ms\n",
      "move, elapsed time: 149.482923545 ms\n",
      "highlight, elapsed time: 0.472122209885 ms\n",
      "move, elapsed time: 151.325021246 ms\n",
      "highlight, elapsed time: 18.3897758857 ms\n"
     ]
    }
   ],
   "source": [
    "scatter_view.set_data(fet=fet[ch], clu=optic_clu)\n",
    "spk_view.clear()\n",
    "spk_view.set_data(spk[ch], CLU(optic_clu))"
   ]
  },
  {
   "cell_type": "code",
   "execution_count": null,
   "metadata": {
    "collapsed": true
   },
   "outputs": [],
   "source": []
  },
  {
   "cell_type": "markdown",
   "metadata": {},
   "source": [
    "# pydpc"
   ]
  },
  {
   "cell_type": "code",
   "execution_count": 140,
   "metadata": {
    "ExecuteTime": {
     "end_time": "2016-06-29T22:46:19.345000",
     "start_time": "2016-06-29T22:46:19.187000"
    },
    "collapsed": true
   },
   "outputs": [],
   "source": [
    "from pydpc import Cluster"
   ]
  },
  {
   "cell_type": "code",
   "execution_count": 175,
   "metadata": {
    "ExecuteTime": {
     "end_time": "2016-06-29T23:01:22.594000",
     "start_time": "2016-06-29T23:01:12.049000"
    },
    "collapsed": false
   },
   "outputs": [],
   "source": [
    "dpc = Cluster(fet[30]*15)"
   ]
  },
  {
   "cell_type": "code",
   "execution_count": 176,
   "metadata": {
    "ExecuteTime": {
     "end_time": "2016-06-29T23:01:36.917000",
     "start_time": "2016-06-29T23:01:36.009000"
    },
    "collapsed": true
   },
   "outputs": [],
   "source": [
    "dpc.assign(500, 0.5)"
   ]
  },
  {
   "cell_type": "code",
   "execution_count": 177,
   "metadata": {
    "ExecuteTime": {
     "end_time": "2016-06-29T23:01:39.636000",
     "start_time": "2016-06-29T23:01:39.464000"
    },
    "collapsed": true
   },
   "outputs": [],
   "source": [
    "dpc_clu = dpc.membership"
   ]
  },
  {
   "cell_type": "code",
   "execution_count": 178,
   "metadata": {
    "ExecuteTime": {
     "end_time": "2016-06-29T23:01:41.013000",
     "start_time": "2016-06-29T23:01:39.758000"
    },
    "collapsed": false
   },
   "outputs": [],
   "source": [
    "scatter_view.set_data(fet=fet[ch], clu=dpc_clu)\n",
    "spk_view.clear()\n",
    "spk_view.set_data(spk[ch], CLU(dpc_clu))"
   ]
  },
  {
   "cell_type": "code",
   "execution_count": null,
   "metadata": {
    "collapsed": true
   },
   "outputs": [],
   "source": []
  },
  {
   "cell_type": "code",
   "execution_count": null,
   "metadata": {
    "collapsed": true
   },
   "outputs": [],
   "source": []
  },
  {
   "cell_type": "code",
   "execution_count": null,
   "metadata": {
    "collapsed": true
   },
   "outputs": [],
   "source": []
  },
  {
   "cell_type": "code",
   "execution_count": null,
   "metadata": {
    "collapsed": true
   },
   "outputs": [],
   "source": []
  },
  {
   "cell_type": "code",
   "execution_count": null,
   "metadata": {
    "collapsed": true
   },
   "outputs": [],
   "source": []
  },
  {
   "cell_type": "markdown",
   "metadata": {},
   "source": [
    "# Other Temp Test"
   ]
  },
  {
   "cell_type": "code",
   "execution_count": 91,
   "metadata": {
    "ExecuteTime": {
     "end_time": "2016-07-11T15:56:21.267000",
     "start_time": "2016-07-11T15:56:21.066000"
    },
    "collapsed": true
   },
   "outputs": [],
   "source": [
    "ch=26"
   ]
  },
  {
   "cell_type": "code",
   "execution_count": 92,
   "metadata": {
    "ExecuteTime": {
     "end_time": "2016-07-11T15:56:21.808000",
     "start_time": "2016-07-11T15:56:21.605000"
    },
    "collapsed": true
   },
   "outputs": [],
   "source": [
    "clu[ch] = cluster[ch].membership"
   ]
  },
  {
   "cell_type": "code",
   "execution_count": 93,
   "metadata": {
    "ExecuteTime": {
     "end_time": "2016-07-11T15:56:24.909000",
     "start_time": "2016-07-11T15:56:24.573000"
    },
    "collapsed": false
   },
   "outputs": [],
   "source": [
    "dview= scatter_3d_view()\n",
    "dview.set_data(fet[ch], clu[ch])\n",
    "dview.show()"
   ]
  },
  {
   "cell_type": "code",
   "execution_count": 94,
   "metadata": {
    "ExecuteTime": {
     "end_time": "2016-07-11T15:56:34.766000",
     "start_time": "2016-07-11T15:56:34.567000"
    },
    "collapsed": true
   },
   "outputs": [],
   "source": [
    "from metric_learn import LMNN"
   ]
  },
  {
   "cell_type": "code",
   "execution_count": 95,
   "metadata": {
    "ExecuteTime": {
     "end_time": "2016-07-11T15:56:41.075000",
     "start_time": "2016-07-11T15:56:35.689000"
    },
    "collapsed": false,
    "scrolled": false
   },
   "outputs": [
    {
     "name": "stdout",
     "output_type": "stream",
     "text": [
      "1 530240.492273 -inf 14570 1e-07\n",
      "2 288200.717956 -242039.774316 12830 1.01e-07\n",
      "3 204672.995344 -83527.7226125 12474 1.0201e-07\n",
      "4 157012.511177 -47660.4841669 13113 1.030301e-07\n",
      "5 127017.861915 -29994.6492618 13770 1.04060401e-07\n",
      "6 115828.203535 -11189.6583798 13860 1.0510100501e-07\n",
      "7 110292.390146 -5535.81338979 13850 1.0615201506e-07\n",
      "8 105557.439469 -4734.9506763 13896 1.07213535211e-07\n",
      "9 101101.215681 -4456.22378855 14028 1.08285670563e-07\n",
      "10 96850.6865975 -4250.52908337 14160 1.09368527268e-07\n",
      "11 92810.5302294 -4040.15636809 14280 1.10462212541e-07\n",
      "12 88986.2844161 -3824.24581332 14394 1.11566834667e-07\n",
      "13 85356.6617612 -3629.62265486 14508 1.12682503013e-07\n",
      "14 81916.6097333 -3440.05202796 14626 1.13809328043e-07\n",
      "15 78663.3701911 -3253.2395422 14768 1.14947421324e-07\n",
      "16 75583.6711425 -3079.69904856 14959 1.16096895537e-07\n",
      "17 72679.5709076 -2904.10023495 15072 1.17257864492e-07\n",
      "18 69939.9263229 -2739.64458469 15238 1.18430443137e-07\n",
      "19 67363.3989904 -2576.52733243 15400 1.19614747569e-07\n",
      "20 64938.2264193 -2425.17257111 15580 1.20810895044e-07\n",
      "21 62646.1767308 -2292.04968853 15768 1.22019003995e-07\n",
      "22 60490.7792759 -2155.39745491 15989 1.23239194035e-07\n",
      "23 58465.2570257 -2025.52225023 16200 1.24471585975e-07\n",
      "24 56570.3698652 -1894.88716041 16432 1.25716301835e-07\n",
      "25 54795.1374244 -1775.23244088 16644 1.26973464853e-07\n",
      "26 53130.9150366 -1664.22238775 16896 1.28243199502e-07\n",
      "27 51570.5770038 -1560.33803283 17116 1.29525631497e-07\n",
      "28 50110.3907009 -1460.1863029 17347 1.30820887812e-07\n",
      "29 48742.0361108 -1368.35459004 17615 1.3212909669e-07\n",
      "30 47461.4535245 -1280.58258636 17849 1.33450387657e-07\n",
      "31 46259.5922311 -1201.86129339 18041 1.34784891533e-07\n",
      "32 45134.9235887 -1124.66864236 18250 1.36132740449e-07\n",
      "33 44080.5665773 -1054.35701148 18449 1.37494067853e-07\n",
      "34 43090.0536087 -990.512968561 18656 1.38869008532e-07\n",
      "35 42162.9479808 -927.105627881 18847 1.40257698617e-07\n",
      "36 41290.3770977 -872.570883126 19026 1.41660275603e-07\n",
      "37 40471.1146562 -819.262441525 19202 1.43076878359e-07\n",
      "38 39707.5601546 -763.554501527 19386 1.44507647143e-07\n",
      "39 38992.5827036 -714.977451036 19535 1.45952723614e-07\n",
      "40 38323.2223602 -669.360343451 19645 1.4741225085e-07\n",
      "41 37698.6992386 -624.523121539 19818 1.48886373359e-07\n",
      "42 37123.2014058 -575.497832805 19962 1.50375237092e-07\n",
      "43 36589.0675372 -534.133868565 20113 1.51878989463e-07\n",
      "44 36092.8468738 -496.220663432 20249 1.53397779358e-07\n",
      "45 35628.3882713 -464.458602529 20369 1.54931757152e-07\n",
      "46 35190.1740638 -438.214207503 20504 1.56481074723e-07\n",
      "47 34778.0980902 -412.075973567 20647 1.5804588547e-07\n",
      "48 34387.6751357 -390.422954559 20761 1.59626344325e-07\n",
      "49 34012.5136666 -375.161469005 20897 1.61222607768e-07\n",
      "50 33653.0962956 -359.417371082 21014 1.62834833846e-07\n",
      "51 33307.1907069 -345.905588656 21154 1.64463182184e-07\n",
      "52 32975.727084 -331.463622921 21264 1.66107814006e-07\n",
      "53 32656.8379507 -318.889133285 21366 1.67768892146e-07\n",
      "54 32349.0441607 -307.79379002 21457 1.69446581068e-07\n",
      "55 32051.4648804 -297.579280307 21572 1.71141046878e-07\n",
      "56 31763.0591137 -288.40576667 21689 1.72852457347e-07\n",
      "57 31483.5848714 -279.474242279 21784 1.74580981921e-07\n",
      "58 31212.3330767 -271.251794684 21885 1.7632679174e-07\n",
      "59 30948.3020295 -264.031047279 22008 1.78090059657e-07\n",
      "60 30691.6242082 -256.677821311 22114 1.79870960254e-07\n",
      "61 30441.7182921 -249.905916094 22229 1.81669669856e-07\n",
      "62 30197.5688322 -244.14945985 22379 1.83486366555e-07\n",
      "63 29959.5672166 -238.001615598 22492 1.85321230221e-07\n",
      "64 29726.6007042 -232.966512454 22617 1.87174442523e-07\n",
      "65 29498.4431452 -228.157558967 22750 1.89046186948e-07\n",
      "66 29275.0026117 -223.440533476 22873 1.90936648817e-07\n",
      "67 29055.9553388 -219.04727296 23013 1.92846015306e-07\n",
      "68 28841.4198253 -214.535513457 23126 1.94774475459e-07\n",
      "69 28630.910147 -210.509678321 23254 1.96722220213e-07\n",
      "70 28424.4198264 -206.490320618 23388 1.98689442415e-07\n",
      "71 28221.6606818 -202.759144519 23536 2.0067633684e-07\n",
      "72 28022.2780846 -199.382597217 23658 2.02683100208e-07\n",
      "73 27825.9118115 -196.36627316 23787 2.0470993121e-07\n",
      "74 27632.4379411 -193.473870386 23911 2.06757030522e-07\n",
      "75 27441.6315875 -190.806353607 24024 2.08824600827e-07\n",
      "76 27253.1387892 -188.49279828 24124 2.10912846836e-07\n",
      "77 27067.0159629 -186.122826254 24237 2.13021975304e-07\n",
      "78 26883.403106 -183.612856962 24340 2.15152195057e-07\n",
      "79 26702.2520642 -181.151041735 24466 2.17303717008e-07\n",
      "80 26523.8815182 -178.370546041 24604 2.19476754178e-07\n",
      "81 26347.9756472 -175.905870986 24724 2.21671521719e-07\n",
      "82 26174.4211068 -173.554540463 24845 2.23888236937e-07\n",
      "83 26003.0081714 -171.412935342 24949 2.26127119306e-07\n",
      "84 25833.7015222 -169.306649233 25074 2.28388390499e-07\n",
      "85 25666.5594428 -167.14207936 25219 2.30672274404e-07\n",
      "86 25501.7635099 -164.795932936 25338 2.32978997148e-07\n",
      "87 25339.1191106 -162.644399259 25479 2.3530878712e-07\n",
      "88 25178.6875989 -160.431511682 25597 2.37661874991e-07\n",
      "89 25020.2763601 -158.411238867 25720 2.40038493741e-07\n",
      "90 24863.8781549 -156.398205164 25830 2.42438878678e-07\n",
      "91 24709.3552063 -154.522948578 25947 2.44863267465e-07\n",
      "92 24556.7807281 -152.574478263 26081 2.47311900139e-07\n",
      "93 24406.3801002 -150.400627892 26228 2.49785019141e-07\n",
      "94 24258.2654446 -148.114655548 26366 2.52282869332e-07\n",
      "95 24112.2576177 -146.007826921 26478 2.54805698026e-07\n",
      "96 23968.1593693 -144.098248431 26597 2.57353755006e-07\n",
      "97 23826.1092109 -142.050158383 26727 2.59927292556e-07\n",
      "98 23686.3103509 -139.798860012 26877 2.62526565481e-07\n",
      "99 23548.8877766 -137.42257427 27014 2.65151831136e-07\n",
      "100 23413.5828554 -135.304921247 27153 2.67803349448e-07\n",
      "101 23280.5542368 -133.028618577 27296 2.70481382942e-07\n",
      "102 23149.8149753 -130.739261504 27435 2.73186196772e-07\n",
      "103 23021.5062292 -128.308746078 27604 2.75918058739e-07\n",
      "104 22895.5461878 -125.960041389 27738 2.78677239327e-07\n",
      "105 22771.8494334 -123.696754382 27872 2.8146401172e-07\n",
      "106 22650.3897198 -121.459713654 27994 2.84278651837e-07\n",
      "107 22531.1236849 -119.266034892 28139 2.87121438356e-07\n",
      "108 22414.2043983 -116.919286626 28283 2.89992652739e-07\n",
      "109 22299.650401 -114.55399728 28437 2.92892579266e-07\n",
      "110 22187.5303743 -112.120026711 28596 2.95821505059e-07\n",
      "111 22077.8701666 -109.660207662 28735 2.9877972011e-07\n",
      "112 21970.568264 -107.301902593 28875 3.01767517311e-07\n",
      "113 21865.5807292 -104.987534826 29024 3.04785192484e-07\n",
      "114 21763.1088807 -102.471848495 29194 3.07833044409e-07\n",
      "115 21663.253636 -99.8552446469 29350 3.10911374853e-07\n",
      "116 21565.9392352 -97.3144008215 29517 3.14020488601e-07\n",
      "117 21471.2810525 -94.6581827145 29698 3.17160693487e-07\n",
      "118 21379.2967857 -91.9842667746 29888 3.20332300422e-07\n",
      "119 21290.0775929 -89.2191928523 30039 3.23535623426e-07\n",
      "120 21203.3958134 -86.6817794637 30229 3.26770979661e-07\n",
      "121 21119.3327872 -84.0630261693 30399 3.30038689457e-07\n",
      "122 21037.7539891 -81.5787981254 30570 3.33339076352e-07\n",
      "123 20958.9077522 -78.8462369177 30741 3.36672467115e-07\n",
      "124 20882.8406902 -76.067061979 30946 3.40039191787e-07\n",
      "125 20809.4420074 -73.3986827894 31129 3.43439583704e-07\n",
      "126 20738.4658573 -70.9761500915 31274 3.46873979542e-07\n",
      "127 20669.9742664 -68.491590904 31446 3.50342719337e-07\n",
      "128 20604.1223345 -65.8519319835 31618 3.5384614653e-07\n",
      "129 20540.6383368 -63.4839976128 31790 3.57384607996e-07\n",
      "130 20479.4601784 -61.1781584015 31969 3.60958454076e-07\n",
      "131 20420.6589383 -58.8012401406 32157 3.64568038616e-07\n",
      "132 20364.2566643 -56.4022740364 32353 3.68213719002e-07\n",
      "133 20310.2138747 -54.0427895405 32537 3.71895856193e-07\n",
      "134 20258.6090213 -51.6048533849 32717 3.75614814754e-07\n",
      "135 20209.40426 -49.2047613869 32869 3.79370962902e-07\n",
      "136 20162.2276275 -47.1766324497 33044 3.83164672531e-07\n",
      "137 20117.1974062 -45.0302212572 33224 3.86996319256e-07\n",
      "138 20074.22283 -42.9745762176 33399 3.90866282449e-07\n",
      "139 20033.3208755 -40.9019544951 33562 3.94774945273e-07\n",
      "140 19994.4202379 -38.9006376649 33742 3.98722694726e-07\n",
      "141 19957.5878023 -36.8324355614 33906 4.02709921673e-07\n",
      "142 19922.8411492 -34.7466531177 34056 4.0673702089e-07\n",
      "143 19889.9620343 -32.8791148457 34251 4.10804391099e-07\n",
      "144 19859.0283151 -30.9337192367 34396 4.1491243501e-07\n",
      "145 19829.7455367 -29.2827783964 34524 4.1906155936e-07\n",
      "146 19801.9864777 -27.7590589798 34667 4.23252174954e-07\n",
      "147 19775.7368318 -26.2496459819 34822 4.27484696703e-07\n",
      "148 19750.9873536 -24.7494781492 34959 4.3175954367e-07\n",
      "149 19727.7910474 -23.1963061516 35099 4.36077139107e-07\n",
      "150 19706.1878623 -21.6031851148 35243 4.40437910498e-07\n",
      "151 19686.0124722 -20.175390119 35384 4.44842289603e-07\n",
      "152 19667.1903211 -18.822151123 35565 4.49290712499e-07\n",
      "153 19649.9380394 -17.2522817026 35707 4.53783619624e-07\n",
      "154 19633.9657455 -15.9722939105 35869 4.5832145582e-07\n",
      "155 19619.4347788 -14.5309666612 36005 4.62904670378e-07\n",
      "156 19606.1013979 -13.3333809611 36160 4.67533717082e-07\n",
      "157 19594.030502 -12.0708958164 36281 4.72209054253e-07\n",
      "158 19582.8584475 -11.1720545534 36421 4.76931144796e-07\n",
      "159 19572.6931446 -10.1653028768 36483 4.81700456244e-07\n",
      "160 19563.2557631 -9.43738152181 36637 4.86517460806e-07\n",
      "161 19554.6138992 -8.64186393646 36705 4.91382635414e-07\n",
      "162 19546.98911 -7.6247891818 36837 4.96296461768e-07\n",
      "163 19539.9530284 -7.03608154491 36916 5.01259426386e-07\n",
      "164 19534.9137313 -5.03929712832 37106 5.0627202065e-07\n",
      "165 19531.7747043 -3.1390270359 37120 5.11334740856e-07\n",
      "166 19533.6219677 1.84726347494 37349 5.16448088265e-07\n",
      "167 19533.6219677 1.84726347494 37349 2.58224044132e-07\n",
      "168 19533.6219677 1.84726347494 37349 1.29112022066e-07\n",
      "169 19533.6219677 1.84726347494 37349 6.45560110331e-08\n",
      "170 19533.6219677 1.84726347494 37349 3.22780055166e-08\n",
      "171 19533.6219677 1.84726347494 37349 1.61390027583e-08\n",
      "172 19533.6219677 1.84726347494 37349 8.06950137914e-09\n",
      "173 19533.6219677 1.84726347494 37349 4.03475068957e-09\n",
      "174 19533.6219677 1.84726347494 37349 2.01737534478e-09\n",
      "175 19533.6219677 1.84726347494 37349 1.00868767239e-09\n",
      "176 19533.6219677 1.84726347494 37349 5.04343836196e-10\n",
      "177 19533.6219677 1.84726347494 37349 2.52171918098e-10\n",
      "178 19533.6219677 1.84726347494 37349 1.26085959049e-10\n",
      "179 19533.6219677 1.84726347494 37349 6.30429795245e-11\n",
      "180 19533.6219677 1.84726347494 37349 3.15214897623e-11\n",
      "181 19533.6219677 1.84726347494 37349 1.57607448811e-11\n",
      "182 19533.6219677 1.84726347494 37349 7.88037244056e-12\n",
      "183 19533.6219677 1.84726347494 37349 3.94018622028e-12\n",
      "184 19533.6219677 1.84726347494 37349 1.97009311014e-12\n",
      "185 19533.6219677 1.84726347494 37349 9.8504655507e-13\n",
      "186 19533.6219677 1.84726347494 37349 4.92523277535e-13\n",
      "187 19533.6219677 1.84726347494 37349 2.46261638768e-13\n",
      "188 19533.6219677 1.84726347494 37349 1.23130819384e-13\n",
      "189 19533.6219677 1.84726347494 37349 6.15654096919e-14\n",
      "190 19533.6219677 1.84726347494 37349 3.0782704846e-14\n",
      "191 19533.6219677 1.84726347494 37349 1.5391352423e-14\n",
      "192 19533.6219677 1.84726347494 37349 7.69567621149e-15\n",
      "193 19533.6219677 1.84726347494 37349 3.84783810574e-15\n",
      "194 19533.6219677 1.84726347494 37349 1.92391905287e-15\n",
      "195 19533.6219677 1.84726347494 37349 9.61959526436e-16\n",
      "196 19533.6219677 1.84726347494 37349 4.80979763218e-16\n",
      "197 19533.6219677 1.84726347494 37349 2.40489881609e-16\n",
      "198 19533.6219677 1.84726347494 37349 1.20244940805e-16\n",
      "199 19533.6219677 1.84726347494 37349 6.01224704023e-17\n",
      "200 19533.6219677 1.84726347494 37349 3.00612352011e-17\n",
      "201 19533.6219677 1.84726347494 37349 1.50306176006e-17\n",
      "202 19533.6219677 1.84726347494 37349 7.51530880028e-18\n",
      "203 19533.6219677 1.84726347494 37349 3.75765440014e-18\n",
      "204 19533.6219677 1.84726347494 37349 1.87882720007e-18\n",
      "205 19533.6219677 1.84726347494 37349 9.39413600035e-19\n",
      "206 19533.6219677 1.84726347494 37349 4.69706800018e-19\n",
      "207 19533.6219677 1.84726347494 37349 2.34853400009e-19\n",
      "208 19533.6219677 1.84726347494 37349 1.17426700004e-19\n",
      "209 19533.6219677 1.84726347494 37349 5.87133500022e-20\n",
      "210 19533.6219677 1.84726347494 37349 2.93566750011e-20\n",
      "211 19533.6219677 1.84726347494 37349 1.46783375005e-20\n",
      "212 19533.6219677 1.84726347494 37349 7.33916875027e-21\n",
      "213 19533.6219677 1.84726347494 37349 3.66958437514e-21\n",
      "214 19533.6219677 1.84726347494 37349 1.83479218757e-21\n",
      "215 19533.6219677 1.84726347494 37349 9.17396093784e-22\n",
      "216 19533.6219677 1.84726347494 37349 4.58698046892e-22\n",
      "217 19533.6219677 1.84726347494 37349 2.29349023446e-22\n",
      "218 19533.6219677 1.84726347494 37349 1.14674511723e-22\n",
      "219 19533.6219677 1.84726347494 37349 5.73372558615e-23\n",
      "220 19533.6219677 1.84726347494 37349 2.86686279308e-23\n",
      "221 19533.6219677 1.84726347494 37349 1.43343139654e-23\n",
      "222 19533.6219677 1.84726347494 37349 7.16715698269e-24\n",
      "223 19533.6219677 1.84726347494 37349 3.58357849135e-24\n",
      "224 19533.6219677 1.84726347494 37349 1.79178924567e-24\n",
      "225 19533.6219677 1.84726347494 37349 8.95894622836e-25\n",
      "226 19533.6219677 1.84726347494 37349 4.47947311418e-25\n",
      "227 19533.6219677 1.84726347494 37349 2.23973655709e-25\n",
      "228 19533.6219677 1.84726347494 37349 1.11986827855e-25\n",
      "229 19533.6219677 1.84726347494 37349 5.59934139273e-26\n",
      "230 19533.6219677 1.84726347494 37349 2.79967069636e-26\n",
      "231 19533.6219677 1.84726347494 37349 1.39983534818e-26\n",
      "232 19533.6219677 1.84726347494 37349 6.99917674091e-27\n",
      "233 19533.6219677 1.84726347494 37349 3.49958837045e-27\n",
      "234 19533.6219677 1.84726347494 37349 1.74979418523e-27\n",
      "235 19533.6219677 1.84726347494 37349 8.74897092614e-28\n",
      "236 19533.6219677 1.84726347494 37349 4.37448546307e-28\n",
      "237 19533.6219677 1.84726347494 37349 2.18724273153e-28\n",
      "238 19533.6219677 1.84726347494 37349 1.09362136577e-28\n",
      "239 19533.6219677 1.84726347494 37349 5.46810682883e-29\n",
      "240 19533.6219677 1.84726347494 37349 2.73405341442e-29\n",
      "241 19533.6219677 1.84726347494 37349 1.36702670721e-29\n",
      "242 19533.6219677 1.84726347494 37349 6.83513353604e-30\n",
      "243 19533.6219677 1.84726347494 37349 3.41756676802e-30\n",
      "244 19533.6219677 1.84726347494 37349 1.70878338401e-30\n",
      "245 19533.6219677 1.84726347494 37349 8.54391692005e-31\n",
      "246 19533.6219677 1.84726347494 37349 4.27195846003e-31\n",
      "247 19533.6219677 1.84726347494 37349 2.13597923001e-31\n",
      "248 19533.6219677 1.84726347494 37349 1.06798961501e-31\n",
      "249 19533.6219677 1.84726347494 37349 5.33994807503e-32\n",
      "250 19533.6219677 1.84726347494 37349 2.66997403752e-32\n",
      "251 19533.6219677 1.84726347494 37349 1.33498701876e-32\n",
      "252 19533.6219677 1.84726347494 37349 6.67493509379e-33\n",
      "253 19533.6219677 1.84726347494 37349 3.3374675469e-33\n",
      "254 19533.6219677 1.84726347494 37349 1.66873377345e-33\n",
      "255 19533.6219677 1.84726347494 37349 8.34366886724e-34\n",
      "256 19533.6219677 1.84726347494 37349 4.17183443362e-34\n",
      "257 19533.6219677 1.84726347494 37349 2.08591721681e-34\n",
      "258 19533.6219677 1.84726347494 37349 1.04295860841e-34\n",
      "259 19533.6219677 1.84726347494 37349 5.21479304203e-35\n",
      "260 19533.6219677 1.84726347494 37349 2.60739652101e-35\n",
      "261 19533.6219677 1.84726347494 37349 1.30369826051e-35\n",
      "262 19533.6219677 1.84726347494 37349 6.51849130253e-36\n",
      "263 19533.6219677 1.84726347494 37349 3.25924565127e-36\n",
      "264 19533.6219677 1.84726347494 37349 1.62962282563e-36\n",
      "265 19533.6219677 1.84726347494 37349 8.14811412816e-37\n",
      "266 19533.6219677 1.84726347494 37349 4.07405706408e-37\n",
      "267 19533.6219677 1.84726347494 37349 2.03702853204e-37\n",
      "268 19533.6219677 1.84726347494 37349 1.01851426602e-37\n",
      "269 19533.6219677 1.84726347494 37349 5.0925713301e-38\n",
      "270 19533.6219677 1.84726347494 37349 2.54628566505e-38\n",
      "271 19533.6219677 1.84726347494 37349 1.27314283253e-38\n",
      "272 19533.6219677 1.84726347494 37349 6.36571416263e-39\n",
      "273 19533.6219677 1.84726347494 37349 3.18285708131e-39\n",
      "274 19533.6219677 1.84726347494 37349 1.59142854066e-39\n",
      "275 19533.6219677 1.84726347494 37349 7.95714270329e-40\n",
      "276 19533.6219677 1.84726347494 37349 3.97857135164e-40\n",
      "277 19533.6219677 1.84726347494 37349 1.98928567582e-40\n",
      "278 19533.6219677 1.84726347494 37349 9.94642837911e-41\n",
      "279 19533.6219677 1.84726347494 37349 4.97321418955e-41\n",
      "280 19533.6219677 1.84726347494 37349 2.48660709478e-41\n",
      "281 19533.6219677 1.84726347494 37349 1.24330354739e-41\n",
      "282 19533.6219677 1.84726347494 37349 6.21651773694e-42\n",
      "283 19533.6219677 1.84726347494 37349 3.10825886847e-42\n",
      "284 19533.6219677 1.84726347494 37349 1.55412943424e-42\n",
      "285 19533.6219677 1.84726347494 37349 7.77064717118e-43\n",
      "286 19533.6219677 1.84726347494 37349 3.88532358559e-43\n",
      "287 19533.6219677 1.84726347494 37349 1.94266179279e-43\n",
      "288 19533.6219677 1.84726347494 37349 9.71330896397e-44\n",
      "289 19533.6219677 1.84726347494 37349 4.85665448199e-44\n",
      "290 19533.6219677 1.84726347494 37349 2.42832724099e-44\n",
      "291 19533.6219677 1.84726347494 37349 1.2141636205e-44\n",
      "292 19533.6219677 1.84726347494 37349 6.07081810248e-45\n",
      "293 19533.6219677 1.84726347494 37349 3.03540905124e-45\n",
      "294 19533.6219677 1.84726347494 37349 1.51770452562e-45\n",
      "295 19533.6219677 1.84726347494 37349 7.5885226281e-46\n",
      "296 19533.6219677 1.84726347494 37349 3.79426131405e-46\n",
      "297 19533.6219677 1.84726347494 37349 1.89713065703e-46\n",
      "298 19533.6219677 1.84726347494 37349 9.48565328513e-47\n",
      "299 19533.6219677 1.84726347494 37349 4.74282664256e-47\n",
      "300 19533.6219677 1.84726347494 37349 2.37141332128e-47\n",
      "301 19533.6219677 1.84726347494 37349 1.18570666064e-47\n",
      "302 19533.6219677 1.84726347494 37349 5.92853330321e-48\n",
      "303 19533.6219677 1.84726347494 37349 2.9642666516e-48\n",
      "304 19533.6219677 1.84726347494 37349 1.4821333258e-48\n",
      "305 19533.6219677 1.84726347494 37349 7.41066662901e-49\n",
      "306 19533.6219677 1.84726347494 37349 3.7053333145e-49\n",
      "307 19533.6219677 1.84726347494 37349 1.85266665725e-49\n",
      "308 19533.6219677 1.84726347494 37349 9.26333328626e-50\n",
      "309 19533.6219677 1.84726347494 37349 4.63166664313e-50\n",
      "310 19533.6219677 1.84726347494 37349 2.31583332156e-50\n",
      "311 19533.6219677 1.84726347494 37349 1.15791666078e-50\n",
      "312 19533.6219677 1.84726347494 37349 5.78958330391e-51\n",
      "313 19533.6219677 1.84726347494 37349 2.89479165196e-51\n",
      "314 19533.6219677 1.84726347494 37349 1.44739582598e-51\n",
      "315 19533.6219677 1.84726347494 37349 7.23697912989e-52\n",
      "316 19533.6219677 1.84726347494 37349 3.61848956494e-52\n",
      "317 19533.6219677 1.84726347494 37349 1.80924478247e-52\n",
      "318 19533.6219677 1.84726347494 37349 9.04622391236e-53\n",
      "319 19533.6219677 1.84726347494 37349 4.52311195618e-53\n",
      "320 19533.6219677 1.84726347494 37349 2.26155597809e-53\n",
      "321 19533.6219677 1.84726347494 37349 1.13077798905e-53\n",
      "322 19533.6219677 1.84726347494 37349 5.65388994523e-54\n",
      "323 19533.6219677 1.84726347494 37349 2.82694497261e-54\n",
      "324 19533.6219677 1.84726347494 37349 1.41347248631e-54\n",
      "325 19533.6219677 1.84726347494 37349 7.06736243153e-55\n",
      "326 19533.6219677 1.84726347494 37349 3.53368121577e-55\n",
      "327 19533.6219677 1.84726347494 37349 1.76684060788e-55\n",
      "328 19533.6219677 1.84726347494 37349 8.83420303942e-56\n",
      "329 19533.6219677 1.84726347494 37349 4.41710151971e-56\n",
      "330 19533.6219677 1.84726347494 37349 2.20855075985e-56\n",
      "331 19533.6219677 1.84726347494 37349 1.10427537993e-56\n",
      "332 19533.6219677 1.84726347494 37349 5.52137689963e-57\n",
      "333 19533.6219677 1.84726347494 37349 2.76068844982e-57\n",
      "334 19533.6219677 1.84726347494 37349 1.38034422491e-57\n",
      "335 19533.6219677 1.84726347494 37349 6.90172112454e-58\n",
      "336 19533.6219677 1.84726347494 37349 3.45086056227e-58\n",
      "337 19533.6219677 1.84726347494 37349 1.72543028114e-58\n",
      "338 19533.6219677 1.84726347494 37349 8.62715140568e-59\n",
      "339 19533.6219677 1.84726347494 37349 4.31357570284e-59\n",
      "340 19533.6219677 1.84726347494 37349 2.15678785142e-59\n",
      "341 19533.6219677 1.84726347494 37349 1.07839392571e-59\n",
      "342 19533.6219677 1.84726347494 37349 5.39196962855e-60\n",
      "343 19533.6219677 1.84726347494 37349 2.69598481427e-60\n",
      "344 19533.6219677 1.84726347494 37349 1.34799240714e-60\n",
      "345 19533.6219677 1.84726347494 37349 6.73996203569e-61\n",
      "346 19533.6219677 1.84726347494 37349 3.36998101784e-61\n",
      "347 19533.6219677 1.84726347494 37349 1.68499050892e-61\n",
      "348 19533.6219677 1.84726347494 37349 8.42495254461e-62\n",
      "349 19533.6219677 1.84726347494 37349 4.2124762723e-62\n",
      "350 19533.6219677 1.84726347494 37349 2.10623813615e-62\n",
      "351 19533.6219677 1.84726347494 37349 1.05311906808e-62\n",
      "352 19533.6219677 1.84726347494 37349 5.26559534038e-63\n",
      "353 19533.6219677 1.84726347494 37349 2.63279767019e-63\n",
      "354 19533.6219677 1.84726347494 37349 1.3163988351e-63\n",
      "355 19533.6219677 1.84726347494 37349 6.58199417548e-64\n",
      "356 19533.6219677 1.84726347494 37349 3.29099708774e-64\n",
      "357 19533.6219677 1.84726347494 37349 1.64549854387e-64\n",
      "358 19533.6219677 1.84726347494 37349 8.22749271934e-65\n",
      "359 19533.6219677 1.84726347494 37349 4.11374635967e-65\n",
      "360 19533.6219677 1.84726347494 37349 2.05687317984e-65\n",
      "361 19533.6219677 1.84726347494 37349 1.02843658992e-65\n",
      "362 19533.6219677 1.84726347494 37349 5.14218294959e-66\n",
      "363 19533.6219677 1.84726347494 37349 2.5710914748e-66\n",
      "364 19533.6219677 1.84726347494 37349 1.2855457374e-66\n",
      "365 19533.6219677 1.84726347494 37349 6.42772868699e-67\n",
      "366 19533.6219677 1.84726347494 37349 3.21386434349e-67\n",
      "367 19533.6219677 1.84726347494 37349 1.60693217175e-67\n",
      "368 19533.6219677 1.84726347494 37349 8.03466085874e-68\n",
      "369 19533.6219677 1.84726347494 37349 4.01733042937e-68\n",
      "370 19533.6219677 1.84726347494 37349 2.00866521468e-68\n",
      "371 19533.6219677 1.84726347494 37349 1.00433260734e-68\n",
      "372 19533.6219677 1.84726347494 37349 5.02166303671e-69\n",
      "373 19533.6219677 1.84726347494 37349 2.51083151835e-69\n",
      "374 19533.6219677 1.84726347494 37349 1.25541575918e-69\n",
      "375 19533.6219677 1.84726347494 37349 6.27707879589e-70\n",
      "376 19533.6219677 1.84726347494 37349 3.13853939794e-70\n",
      "377 19533.6219677 1.84726347494 37349 1.56926969897e-70\n",
      "378 19533.6219677 1.84726347494 37349 7.84634849486e-71\n",
      "379 19533.6219677 1.84726347494 37349 3.92317424743e-71\n",
      "380 19533.6219677 1.84726347494 37349 1.96158712371e-71\n",
      "381 19533.6219677 1.84726347494 37349 9.80793561857e-72\n",
      "382 19533.6219677 1.84726347494 37349 4.90396780929e-72\n",
      "383 19533.6219677 1.84726347494 37349 2.45198390464e-72\n",
      "384 19533.6219677 1.84726347494 37349 1.22599195232e-72\n",
      "385 19533.6219677 1.84726347494 37349 6.12995976161e-73\n",
      "386 19533.6219677 1.84726347494 37349 3.0649798808e-73\n",
      "387 19533.6219677 1.84726347494 37349 1.5324899404e-73\n",
      "388 19533.6219677 1.84726347494 37349 7.66244970201e-74\n",
      "389 19533.6219677 1.84726347494 37349 3.83122485101e-74\n",
      "390 19533.6219677 1.84726347494 37349 1.9156124255e-74\n",
      "391 19533.6219677 1.84726347494 37349 9.57806212751e-75\n",
      "392 19533.6219677 1.84726347494 37349 4.78903106376e-75\n",
      "393 19533.6219677 1.84726347494 37349 2.39451553188e-75\n",
      "394 19533.6219677 1.84726347494 37349 1.19725776594e-75\n",
      "395 19533.6219677 1.84726347494 37349 5.9862888297e-76\n",
      "396 19533.6219677 1.84726347494 37349 2.99314441485e-76\n",
      "397 19533.6219677 1.84726347494 37349 1.49657220742e-76\n",
      "398 19533.6219677 1.84726347494 37349 7.48286103712e-77\n",
      "399 19533.6219677 1.84726347494 37349 3.74143051856e-77\n",
      "400 19533.6219677 1.84726347494 37349 1.87071525928e-77\n",
      "401 19533.6219677 1.84726347494 37349 9.3535762964e-78\n",
      "402 19533.6219677 1.84726347494 37349 4.6767881482e-78\n",
      "403 19533.6219677 1.84726347494 37349 2.3383940741e-78\n",
      "404 19533.6219677 1.84726347494 37349 1.16919703705e-78\n",
      "405 19533.6219677 1.84726347494 37349 5.84598518525e-79\n",
      "406 19533.6219677 1.84726347494 37349 2.92299259262e-79\n",
      "407 19533.6219677 1.84726347494 37349 1.46149629631e-79\n",
      "408 19533.6219677 1.84726347494 37349 7.30748148156e-80\n",
      "409 19533.6219677 1.84726347494 37349 3.65374074078e-80\n",
      "410 19533.6219677 1.84726347494 37349 1.82687037039e-80\n",
      "411 19533.6219677 1.84726347494 37349 9.13435185195e-81\n",
      "412 19533.6219677 1.84726347494 37349 4.56717592598e-81\n",
      "413 19533.6219677 1.84726347494 37349 2.28358796299e-81\n",
      "414 19533.6219677 1.84726347494 37349 1.14179398149e-81\n",
      "415 19533.6219677 1.84726347494 37349 5.70896990747e-82\n",
      "416 19533.6219677 1.84726347494 37349 2.85448495374e-82\n",
      "417 19533.6219677 1.84726347494 37349 1.42724247687e-82\n",
      "418 19533.6219677 1.84726347494 37349 7.13621238434e-83\n",
      "419 19533.6219677 1.84726347494 37349 3.56810619217e-83\n",
      "420 19533.6219677 1.84726347494 37349 1.78405309608e-83\n",
      "421 19533.6219677 1.84726347494 37349 8.92026548042e-84\n",
      "422 19533.6219677 1.84726347494 37349 4.46013274021e-84\n",
      "423 19533.6219677 1.84726347494 37349 2.23006637011e-84\n",
      "424 19533.6219677 1.84726347494 37349 1.11503318505e-84\n",
      "425 19533.6219677 1.84726347494 37349 5.57516592526e-85\n",
      "426 19533.6219677 1.84726347494 37349 2.78758296263e-85\n",
      "427 19533.6219677 1.84726347494 37349 1.39379148132e-85\n",
      "428 19533.6219677 1.84726347494 37349 6.96895740658e-86\n",
      "429 19533.6219677 1.84726347494 37349 3.48447870329e-86\n",
      "430 19533.6219677 1.84726347494 37349 1.74223935164e-86\n",
      "431 19533.6219677 1.84726347494 37349 8.71119675822e-87\n",
      "432 19533.6219677 1.84726347494 37349 4.35559837911e-87\n",
      "433 19533.6219677 1.84726347494 37349 2.17779918956e-87\n",
      "434 19533.6219677 1.84726347494 37349 1.08889959478e-87\n",
      "435 19533.6219677 1.84726347494 37349 5.44449797389e-88\n",
      "436 19533.6219677 1.84726347494 37349 2.72224898695e-88\n",
      "437 19533.6219677 1.84726347494 37349 1.36112449347e-88\n",
      "438 19533.6219677 1.84726347494 37349 6.80562246736e-89\n",
      "439 19533.6219677 1.84726347494 37349 3.40281123368e-89\n",
      "440 19533.6219677 1.84726347494 37349 1.70140561684e-89\n",
      "441 19533.6219677 1.84726347494 37349 8.5070280842e-90\n",
      "442 19533.6219677 1.84726347494 37349 4.2535140421e-90\n",
      "443 19533.6219677 1.84726347494 37349 2.12675702105e-90\n",
      "444 19533.6219677 1.84726347494 37349 1.06337851053e-90\n",
      "445 19533.6219677 1.84726347494 37349 5.31689255263e-91\n",
      "446 19533.6219677 1.84726347494 37349 2.65844627631e-91\n",
      "447 19533.6219677 1.84726347494 37349 1.32922313816e-91\n",
      "448 19533.6219677 1.84726347494 37349 6.64611569078e-92\n",
      "449 19533.6219677 1.84726347494 37349 3.32305784539e-92\n",
      "450 19533.6219677 1.84726347494 37349 1.6615289227e-92\n",
      "451 19533.6219677 1.84726347494 37349 8.30764461348e-93\n",
      "452 19533.6219677 1.84726347494 37349 4.15382230674e-93\n",
      "453 19533.6219677 1.84726347494 37349 2.07691115337e-93\n",
      "454 19533.6219677 1.84726347494 37349 1.03845557669e-93\n",
      "455 19533.6219677 1.84726347494 37349 5.19227788343e-94\n",
      "456 19533.6219677 1.84726347494 37349 2.59613894171e-94\n",
      "457 19533.6219677 1.84726347494 37349 1.29806947086e-94\n",
      "458 19533.6219677 1.84726347494 37349 6.49034735428e-95\n",
      "459 19533.6219677 1.84726347494 37349 3.24517367714e-95\n",
      "460 19533.6219677 1.84726347494 37349 1.62258683857e-95\n",
      "461 19533.6219677 1.84726347494 37349 8.11293419285e-96\n",
      "462 19533.6219677 1.84726347494 37349 4.05646709643e-96\n",
      "463 19533.6219677 1.84726347494 37349 2.02823354821e-96\n",
      "464 19533.6219677 1.84726347494 37349 1.01411677411e-96\n",
      "465 19533.6219677 1.84726347494 37349 5.07058387053e-97\n",
      "466 19533.6219677 1.84726347494 37349 2.53529193527e-97\n",
      "467 19533.6219677 1.84726347494 37349 1.26764596763e-97\n",
      "468 19533.6219677 1.84726347494 37349 6.33822983817e-98\n",
      "469 19533.6219677 1.84726347494 37349 3.16911491908e-98\n",
      "470 19533.6219677 1.84726347494 37349 1.58455745954e-98\n",
      "471 19533.6219677 1.84726347494 37349 7.92278729771e-99\n",
      "472 19533.6219677 1.84726347494 37349 3.96139364885e-99\n",
      "473 19533.6219677 1.84726347494 37349 1.98069682443e-99\n",
      "474 19533.6219677 1.84726347494 37349 9.90348412213e-100\n",
      "475 19533.6219677 1.84726347494 37349 4.95174206107e-100\n",
      "476 19533.6219677 1.84726347494 37349 2.47587103053e-100\n",
      "477 19533.6219677 1.84726347494 37349 1.23793551527e-100\n",
      "478 19533.6219677 1.84726347494 37349 6.18967757633e-101\n",
      "479 19533.6219677 1.84726347494 37349 3.09483878817e-101\n",
      "480 19533.6219677 1.84726347494 37349 1.54741939408e-101\n",
      "481 19533.6219677 1.84726347494 37349 7.73709697042e-102\n",
      "482 19533.6219677 1.84726347494 37349 3.86854848521e-102\n",
      "483 19533.6219677 1.84726347494 37349 1.9342742426e-102\n",
      "484 19533.6219677 1.84726347494 37349 9.67137121302e-103\n",
      "485 19533.6219677 1.84726347494 37349 4.83568560651e-103\n",
      "486 19533.6219677 1.84726347494 37349 2.41784280326e-103\n",
      "487 19533.6219677 1.84726347494 37349 1.20892140163e-103\n",
      "488 19533.6219677 1.84726347494 37349 6.04460700814e-104\n",
      "489 19533.6219677 1.84726347494 37349 3.02230350407e-104\n",
      "490 19533.6219677 1.84726347494 37349 1.51115175203e-104\n",
      "491 19533.6219677 1.84726347494 37349 7.55575876017e-105\n",
      "492 19533.6219677 1.84726347494 37349 3.77787938009e-105\n",
      "493 19533.6219677 1.84726347494 37349 1.88893969004e-105\n",
      "494 19533.6219677 1.84726347494 37349 9.44469845022e-106\n",
      "495 19533.6219677 1.84726347494 37349 4.72234922511e-106\n",
      "496 19533.6219677 1.84726347494 37349 2.36117461255e-106\n",
      "497 19533.6219677 1.84726347494 37349 1.18058730628e-106\n",
      "498 19533.6219677 1.84726347494 37349 5.90293653139e-107\n",
      "499 19533.6219677 1.84726347494 37349 2.95146826569e-107\n",
      "LMNN didn't converge in 500 steps.\n"
     ]
    },
    {
     "data": {
      "text/plain": [
       "<metric_learn.lmnn.python_LMNN at 0x5539c208>"
      ]
     },
     "execution_count": 95,
     "metadata": {},
     "output_type": "execute_result"
    }
   ],
   "source": [
    "lmnn = LMNN(k=3, max_iter=500, learn_rate=1e-7, verbose=True)\n",
    "lmnn.fit(fet[ch], clu[ch])"
   ]
  },
  {
   "cell_type": "code",
   "execution_count": 96,
   "metadata": {
    "ExecuteTime": {
     "end_time": "2016-07-11T15:56:49.533000",
     "start_time": "2016-07-11T15:56:49.009000"
    },
    "collapsed": true
   },
   "outputs": [],
   "source": [
    "X_lmnn = lmnn.transform(fet[ch])\n",
    "y = clu[ch]\n",
    "msdview= scatter_3d_view()\n",
    "msdview.set_data(X_lmnn[:,0:], y)\n",
    "msdview.show()"
   ]
  },
  {
   "cell_type": "code",
   "execution_count": 98,
   "metadata": {
    "ExecuteTime": {
     "end_time": "2016-07-11T16:02:44.285000",
     "start_time": "2016-07-11T16:02:44.089000"
    },
    "collapsed": false,
    "scrolled": true
   },
   "outputs": [],
   "source": [
    "fet.fet[26] = X_lmnn"
   ]
  },
  {
   "cell_type": "code",
   "execution_count": 78,
   "metadata": {
    "ExecuteTime": {
     "end_time": "2016-07-11T15:54:13.637000",
     "start_time": "2016-07-11T15:54:13"
    },
    "collapsed": false
   },
   "outputs": [],
   "source": [
    "fet = spk.tofet('weighted-pca')"
   ]
  },
  {
   "cell_type": "code",
   "execution_count": null,
   "metadata": {
    "collapsed": true
   },
   "outputs": [],
   "source": []
  },
  {
   "cell_type": "code",
   "execution_count": null,
   "metadata": {
    "collapsed": true
   },
   "outputs": [],
   "source": []
  },
  {
   "cell_type": "code",
   "execution_count": null,
   "metadata": {
    "collapsed": true
   },
   "outputs": [],
   "source": []
  },
  {
   "cell_type": "markdown",
   "metadata": {},
   "source": [
    "# LDA"
   ]
  },
  {
   "cell_type": "code",
   "execution_count": 84,
   "metadata": {
    "ExecuteTime": {
     "end_time": "2016-07-11T15:55:27.361000",
     "start_time": "2016-07-11T15:55:27.159000"
    },
    "collapsed": true
   },
   "outputs": [],
   "source": [
    "from sklearn import (manifold, datasets, decomposition, ensemble,\n",
    "                     discriminant_analysis, random_projection)"
   ]
  },
  {
   "cell_type": "code",
   "execution_count": 85,
   "metadata": {
    "ExecuteTime": {
     "end_time": "2016-07-11T15:55:29.052000",
     "start_time": "2016-07-11T15:55:28.841000"
    },
    "collapsed": false,
    "scrolled": false
   },
   "outputs": [
    {
     "name": "stdout",
     "output_type": "stream",
     "text": [
      "Computing Linear Discriminant Analysis projection\n"
     ]
    },
    {
     "data": {
      "text/plain": [
       "LinearDiscriminantAnalysis(n_components=3, priors=None, shrinkage=None,\n",
       "              solver='svd', store_covariance=False, tol=0.0001)"
      ]
     },
     "execution_count": 85,
     "metadata": {},
     "output_type": "execute_result"
    }
   ],
   "source": [
    "print(\"Computing Linear Discriminant Analysis projection\")\n",
    "ch = 26\n",
    "X2 = fet[ch].copy()\n",
    "y  = cluster[ch].membership\n",
    "lda = discriminant_analysis.LinearDiscriminantAnalysis(n_components=3)\n",
    "lda.fit(X2, y)"
   ]
  },
  {
   "cell_type": "code",
   "execution_count": 86,
   "metadata": {
    "ExecuteTime": {
     "end_time": "2016-07-11T15:55:31.210000",
     "start_time": "2016-07-11T15:55:31.006000"
    },
    "collapsed": false,
    "scrolled": true
   },
   "outputs": [
    {
     "data": {
      "text/plain": [
       "(6L, 3L)"
      ]
     },
     "execution_count": 86,
     "metadata": {},
     "output_type": "execute_result"
    }
   ],
   "source": [
    "lda.scalings_.shape"
   ]
  },
  {
   "cell_type": "code",
   "execution_count": 87,
   "metadata": {
    "ExecuteTime": {
     "end_time": "2016-07-11T15:55:40.058000",
     "start_time": "2016-07-11T15:55:39.853000"
    },
    "collapsed": false
   },
   "outputs": [
    {
     "data": {
      "text/plain": [
       "(2566L, 3L)"
      ]
     },
     "execution_count": 87,
     "metadata": {},
     "output_type": "execute_result"
    }
   ],
   "source": [
    "X_lda = np.dot(X2,lda.scalings_)\n",
    "X_lda.shape"
   ]
  },
  {
   "cell_type": "code",
   "execution_count": 88,
   "metadata": {
    "ExecuteTime": {
     "end_time": "2016-07-11T15:55:41.672000",
     "start_time": "2016-07-11T15:55:41.343000"
    },
    "collapsed": false
   },
   "outputs": [],
   "source": [
    "ldaview= scatter_3d_view()\n",
    "ldaview.set_data(X_lda, y)\n",
    "ldaview.show()"
   ]
  },
  {
   "cell_type": "code",
   "execution_count": 89,
   "metadata": {
    "ExecuteTime": {
     "end_time": "2016-07-11T15:55:51.872000",
     "start_time": "2016-07-11T15:55:51.674000"
    },
    "collapsed": false
   },
   "outputs": [
    {
     "data": {
      "text/plain": [
       "(6L, 3L)"
      ]
     },
     "execution_count": 89,
     "metadata": {},
     "output_type": "execute_result"
    }
   ],
   "source": [
    "lda.scalings_.shape"
   ]
  },
  {
   "cell_type": "code",
   "execution_count": 90,
   "metadata": {
    "ExecuteTime": {
     "end_time": "2016-07-11T15:55:54.590000",
     "start_time": "2016-07-11T15:55:54.389000"
    },
    "collapsed": false
   },
   "outputs": [],
   "source": [
    "fet.fet[26] = X_lda"
   ]
  },
  {
   "cell_type": "code",
   "execution_count": null,
   "metadata": {
    "collapsed": true
   },
   "outputs": [],
   "source": []
  }
 ],
 "metadata": {
  "kernelspec": {
   "display_name": "Python [Root]",
   "language": "python",
   "name": "Python [Root]"
  },
  "language_info": {
   "codemirror_mode": {
    "name": "ipython",
    "version": 2
   },
   "file_extension": ".py",
   "mimetype": "text/x-python",
   "name": "python",
   "nbconvert_exporter": "python",
   "pygments_lexer": "ipython2",
   "version": "2.7.12"
  }
 },
 "nbformat": 4,
 "nbformat_minor": 0
}
