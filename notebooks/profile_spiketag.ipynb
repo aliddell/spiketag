{
 "cells": [
  {
   "cell_type": "code",
   "execution_count": 1,
   "metadata": {
    "ExecuteTime": {
     "end_time": "2016-07-31T14:49:47.644128",
     "start_time": "2016-07-31T14:49:47.322247"
    },
    "collapsed": true
   },
   "outputs": [],
   "source": [
    "from accelerate import profiler\n",
    "import numpy as np"
   ]
  },
  {
   "cell_type": "code",
   "execution_count": 2,
   "metadata": {
    "ExecuteTime": {
     "end_time": "2016-07-31T14:49:49.700515",
     "start_time": "2016-07-31T14:49:48.131172"
    },
    "collapsed": true
   },
   "outputs": [],
   "source": [
    "from spiketag.base import *\n",
    "from spiketag.view import *\n",
    "from spiketag.view._core import _accumulate"
   ]
  },
  {
   "cell_type": "code",
   "execution_count": 3,
   "metadata": {
    "ExecuteTime": {
     "end_time": "2016-07-31T14:49:50.186128",
     "start_time": "2016-07-31T14:49:50.146055"
    },
    "collapsed": true
   },
   "outputs": [],
   "source": [
    "import phy\n",
    "from phy.gui import GUI"
   ]
  },
  {
   "cell_type": "code",
   "execution_count": 4,
   "metadata": {
    "ExecuteTime": {
     "end_time": "2016-07-31T14:49:50.843306",
     "start_time": "2016-07-31T14:49:50.834744"
    },
    "collapsed": true
   },
   "outputs": [],
   "source": [
    "filename  = '/tmp_data/pcie.bin'\n",
    "nCh       = 32\n",
    "fs        = 25000\n",
    "numbyte   = 4\n",
    "time_span = 1 # 1 seconds\n",
    "global time_slice\n",
    "time_slice = 0\n",
    "span = time_span * fs\n",
    "highlight = True"
   ]
  },
  {
   "cell_type": "code",
   "execution_count": 5,
   "metadata": {
    "ExecuteTime": {
     "end_time": "2016-07-31T14:49:55.827670",
     "start_time": "2016-07-31T14:49:51.571266"
    },
    "collapsed": false
   },
   "outputs": [],
   "source": [
    "mua = MUA(filename=filename, nCh=nCh, fs=fs, numbytes=numbyte)"
   ]
  },
  {
   "cell_type": "code",
   "execution_count": 6,
   "metadata": {
    "ExecuteTime": {
     "end_time": "2016-07-31T14:49:58.102689",
     "start_time": "2016-07-31T14:49:56.955035"
    },
    "collapsed": false
   },
   "outputs": [],
   "source": [
    "spk = mua.tospk(ch_span=2)"
   ]
  },
  {
   "cell_type": "code",
   "execution_count": 7,
   "metadata": {
    "ExecuteTime": {
     "end_time": "2016-07-31T14:50:01.271906",
     "start_time": "2016-07-31T14:49:59.708765"
    },
    "collapsed": true
   },
   "outputs": [],
   "source": [
    "fet = spk.tofet('weighted-pca')"
   ]
  },
  {
   "cell_type": "code",
   "execution_count": 8,
   "metadata": {
    "ExecuteTime": {
     "end_time": "2016-07-31T14:50:10.880849",
     "start_time": "2016-07-31T14:50:03.211830"
    },
    "collapsed": false
   },
   "outputs": [
    {
     "name": "stdout",
     "output_type": "stream",
     "text": [
      "         511422 function calls in 15.292 seconds\n",
      "\n",
      "   Ordered by: standard name\n",
      "\n",
      "   ncalls  tottime  percall  cumtime  percall filename:lineno(function)\n",
      "        1    0.046    0.046    4.320    4.320 <ipython-input-8-ca938a90b89b>:4(<module>)\n",
      "        1    0.001    0.001    1.742    1.742 <ipython-input-8-ca938a90b89b>:5(<module>)\n",
      "        1    0.000    0.000    1.583    1.583 <ipython-input-8-ca938a90b89b>:6(<module>)\n",
      "        1    0.000    0.000    0.000    0.000 <ipython-input-8-ca938a90b89b>:8(<module>)\n",
      "        1    0.000    0.000    0.000    0.000 FET.py:60(__init__)\n",
      "       32    0.000    0.000    0.001    0.000 MUA.py:34(get_near_ch)\n",
      "        1    1.402    1.402    1.741    1.741 MUA.py:43(tospk)\n",
      "        1    0.000    0.000    0.000    0.000 MUA.py:58(__init__)\n",
      "        1    0.000    0.000    0.000    0.000 MUA.py:70(weight_channel_saw)\n",
      "        1    0.092    0.092    1.583    1.583 MUA.py:81(tofet)\n",
      "        1    1.276    1.276    4.274    4.274 MUA.py:9(__init__)\n",
      "       32    0.000    0.000    0.001    0.000 _methods.py:25(_amax)\n",
      "       32    0.000    0.000    0.001    0.000 _methods.py:28(_amin)\n",
      "       64    0.000    0.000    0.021    0.000 _methods.py:31(_sum)\n",
      "       32    0.000    0.000    0.000    0.000 _methods.py:37(_any)\n",
      "       32    0.000    0.000    0.003    0.000 _methods.py:40(_all)\n",
      "       63    0.001    0.000    0.001    0.000 _methods.py:43(_count_reduce_items)\n",
      "       63    0.002    0.000    0.038    0.001 _methods.py:53(_mean)\n",
      "       32    0.001    0.000    0.037    0.001 _util.py:141(_asarray_validated)\n",
      "       96    0.000    0.000    0.000    0.000 base.py:887(isspmatrix)\n",
      "       32    0.000    0.000    0.001    0.000 blas.py:177(find_best_blas_type)\n",
      "       32    0.001    0.000    0.002    0.000 blas.py:223(_get_funcs)\n",
      "        4    0.000    0.000    0.001    0.000 codeop.py:132(__call__)\n",
      "       32    0.000    0.000    0.000    0.000 core.py:6042(isMaskedArray)\n",
      "       32    1.181    0.037    1.224    0.038 decomp_svd.py:15(svd)\n",
      "       32    0.000    0.000    0.001    0.000 fromnumeric.py:1892(any)\n",
      "       32    0.000    0.000    0.036    0.001 fromnumeric.py:2796(mean)\n",
      "        1    0.172    0.172    0.354    0.354 function_base.py:9(linspace)\n",
      "       32    0.033    0.001    0.036    0.001 function_base.py:970(asarray_chkfinite)\n",
      "       32    0.000    0.000    0.000    0.000 getlimits.py:245(__init__)\n",
      "       32    0.000    0.000    0.000    0.000 getlimits.py:270(max)\n",
      "        4    0.000    0.000    0.000    0.000 hooks.py:127(__call__)\n",
      "        4    0.000    0.000    0.000    0.000 hooks.py:192(pre_run_code_hook)\n",
      "        4    0.000    0.000    0.000    0.000 interactiveshell.py:1087(user_global_ns)\n",
      "        4    0.000    0.000    7.645    1.911 interactiveshell.py:2855(run_code)\n",
      "        4    0.000    0.000    0.000    0.000 ipstruct.py:125(__getattr__)\n",
      "       32    0.000    0.000    0.002    0.000 lapack.py:405(get_lapack_funcs)\n",
      "       32    0.002    0.000    0.004    0.000 lapack.py:447(_compute_lwork)\n",
      "       32    0.000    0.000    0.000    0.000 misc.py:169(_datacopied)\n",
      "        2    0.000    0.000    0.000    0.000 necompiler.py:516(getContext)\n",
      "        3    0.000    0.000    0.000    0.000 necompiler.py:668(getType)\n",
      "        2    0.000    0.000    0.000    0.000 necompiler.py:707(getArguments)\n",
      "        2    0.500    0.250    0.500    0.250 necompiler.py:732(evaluate)\n",
      "       67    0.000    0.000    0.180    0.003 numeric.py:414(asarray)\n",
      "      161    0.000    0.000    0.001    0.000 numeric.py:484(asanyarray)\n",
      "       64    0.000    0.000    0.000    0.000 numerictypes.py:942(_can_coerce_all)\n",
      "       32    0.000    0.000    0.000    0.000 numerictypes.py:964(find_common_type)\n",
      "       32    0.000    0.000    0.000    0.000 pca.py:205(__init__)\n",
      "       32    0.003    0.000    1.375    0.043 pca.py:227(fit_transform)\n",
      "       32    0.041    0.001    1.373    0.043 pca.py:253(_fit)\n",
      "        1    0.000    0.000    0.001    0.001 shape_base.py:180(vstack)\n",
      "       34    0.000    0.000    0.001    0.000 shape_base.py:61(atleast_2d)\n",
      "        1    0.000    0.000    0.002    0.002 utils.py:77(set_num_threads)\n",
      "       32    0.000    0.000    0.000    0.000 validation.py:107(_num_samples)\n",
      "       32    0.000    0.000    0.001    0.000 validation.py:128(_shape_repr)\n",
      "       96    0.000    0.000    0.000    0.000 validation.py:155(<genexpr>)\n",
      "       32    0.001    0.000    0.025    0.001 validation.py:267(check_array)\n",
      "       32    0.000    0.000    0.021    0.001 validation.py:45(_assert_all_finite)\n",
      "       32    0.000    0.000    0.044    0.001 validation.py:64(as_float_array)\n",
      "        1    0.000    0.000    0.000    0.000 {abs}\n",
      "        4    0.000    0.000    0.000    0.000 {compile}\n",
      "      192    0.000    0.000    0.000    0.000 {getattr}\n",
      "      159    0.000    0.000    0.000    0.000 {hasattr}\n",
      "      417    0.001    0.000    0.001    0.000 {isinstance}\n",
      "       63    0.000    0.000    0.000    0.000 {issubclass}\n",
      "      394    0.000    0.000    0.000    0.000 {len}\n",
      "       32    0.000    0.000    0.003    0.000 {method 'all' of 'numpy.ndarray' objects}\n",
      "       32    0.000    0.000    0.000    0.000 {method 'any' of 'numpy.ndarray' objects}\n",
      "   251638    0.159    0.000    0.159    0.000 {method 'append' of 'list' objects}\n",
      "       33    0.000    0.000    0.000    0.000 {method 'astype' of 'numpy.ndarray' objects}\n",
      "        2    0.000    0.000    0.000    0.000 {method 'copy' of 'dict' objects}\n",
      "       32    0.044    0.001    0.044    0.001 {method 'copy' of 'numpy.ndarray' objects}\n",
      "        1    0.000    0.000    0.000    0.000 {method 'disable' of 'prof.Profiler' objects}\n",
      "       98    0.000    0.000    0.000    0.000 {method 'get' of 'dict' objects}\n",
      "       32    0.000    0.000    0.000    0.000 {method 'index' of 'list' objects}\n",
      "        3    0.000    0.000    0.000    0.000 {method 'items' of 'dict' objects}\n",
      "       32    0.000    0.000    0.001    0.000 {method 'join' of 'str' objects}\n",
      "       32    0.000    0.000    0.001    0.000 {method 'max' of 'numpy.ndarray' objects}\n",
      "       31    0.000    0.000    0.002    0.000 {method 'mean' of 'numpy.ndarray' objects}\n",
      "       32    0.000    0.000    0.001    0.000 {method 'min' of 'numpy.ndarray' objects}\n",
      "        4    0.000    0.000    0.000    0.000 {method 'pop' of 'dict' objects}\n",
      "        1    0.000    0.000    0.000    0.000 {method 'ravel' of 'numpy.ndarray' objects}\n",
      "      255    0.061    0.000    0.061    0.000 {method 'reduce' of 'numpy.ufunc' objects}\n",
      "        2    0.000    0.000    0.000    0.000 {method 'reshape' of 'numpy.ndarray' objects}\n",
      "       64    0.000    0.000    0.022    0.000 {method 'sum' of 'numpy.ndarray' objects}\n",
      "       32    0.000    0.000    0.000    0.000 {method 'transpose' of 'numpy.ndarray' objects}\n",
      "       32    0.000    0.000    0.000    0.000 {min}\n",
      "        1    0.002    0.002    0.002    0.002 {numexpr.interpreter._set_num_threads}\n",
      "       34    0.182    0.005    0.182    0.005 {numpy.core.multiarray.arange}\n",
      "      325    0.180    0.001    0.180    0.001 {numpy.core.multiarray.array}\n",
      "       33    0.114    0.003    0.114    0.003 {numpy.core.multiarray.concatenate}\n",
      "        1    1.777    1.777    1.777    1.777 {numpy.core.multiarray.fromfile}\n",
      "        1    0.000    0.000    0.000    0.000 {numpy.core.multiarray.result_type}\n",
      "        1    0.013    0.013    0.013    0.013 {numpy.core.multiarray.unravel_index}\n",
      "        5    0.352    0.070    0.352    0.070 {numpy.core.multiarray.where}\n",
      "        1    0.000    0.000    0.000    0.000 {open}\n",
      "       33    0.000    0.000    0.000    0.000 {range}\n",
      "        2    0.000    0.000    0.000    0.000 {sorted}\n",
      "        4    0.000    0.000    0.000    0.000 {sys._getframe}\n",
      "        2    0.000    0.000    0.000    0.000 {zip}\n",
      "\n",
      "\n"
     ]
    }
   ],
   "source": [
    "p = profiler.Profile(signatures=False)\n",
    "p.enable()\n",
    "\n",
    "mua = MUA(filename=filename, nCh=nCh, fs=fs, numbytes=numbyte)\n",
    "spk = mua.tospk(ch_span=2)\n",
    "fet = spk.tofet('weighted-pca')\n",
    "\n",
    "p.disable()\n",
    "p.print_stats()"
   ]
  },
  {
   "cell_type": "code",
   "execution_count": 10,
   "metadata": {
    "ExecuteTime": {
     "end_time": "2016-07-31T14:52:53.762414",
     "start_time": "2016-07-31T14:52:53.709877"
    },
    "collapsed": false,
    "scrolled": false
   },
   "outputs": [
    {
     "data": {
      "text/html": [
       "<div class=\"resizable\" style=\"height:500px;\">\n",
       "<iframe src=\"./snakeviz.html\" width=\"100%\" height=\"100%\"/>\n",
       "</div>\n",
       "<script type=\"text/javascript\">\n",
       "$(function() {\n",
       "  $('.resizable').resizable({\n",
       "      handles: 'n,s',\n",
       "      start: function(event, ui) {\n",
       "        $('iframe').css('pointer-events','none');\n",
       "         },\n",
       "      stop: function(event, ui) {\n",
       "        $('iframe').css('pointer-events','auto');\n",
       "      }\n",
       "  });\n",
       "});\n",
       "</script>\n"
      ],
      "text/plain": [
       "<IPython.core.display.HTML object>"
      ]
     },
     "execution_count": 10,
     "metadata": {},
     "output_type": "execute_result"
    }
   ],
   "source": [
    "profiler.plot(p)"
   ]
  },
  {
   "cell_type": "code",
   "execution_count": null,
   "metadata": {
    "collapsed": true
   },
   "outputs": [],
   "source": []
  },
  {
   "cell_type": "code",
   "execution_count": null,
   "metadata": {
    "collapsed": true
   },
   "outputs": [],
   "source": []
  }
 ],
 "metadata": {
  "kernelspec": {
   "display_name": "Python [Root]",
   "language": "python",
   "name": "Python [Root]"
  },
  "language_info": {
   "codemirror_mode": {
    "name": "ipython",
    "version": 2
   },
   "file_extension": ".py",
   "mimetype": "text/x-python",
   "name": "python",
   "nbconvert_exporter": "python",
   "pygments_lexer": "ipython2",
   "version": "2.7.12"
  }
 },
 "nbformat": 4,
 "nbformat_minor": 0
}
