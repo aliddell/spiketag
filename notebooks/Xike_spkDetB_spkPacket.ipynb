{
 "cells": [
  {
   "cell_type": "code",
   "execution_count": 1,
   "metadata": {
    "ExecuteTime": {
     "end_time": "2016-09-06T17:41:44.200502",
     "start_time": "2016-09-06T17:41:43.778011"
    },
    "collapsed": false
   },
   "outputs": [
    {
     "name": "stdout",
     "output_type": "stream",
     "text": [
      "Populating the interactive namespace from numpy and matplotlib\n"
     ]
    }
   ],
   "source": [
    "%pylab inline\n",
    "%gui qt"
   ]
  },
  {
   "cell_type": "code",
   "execution_count": 2,
   "metadata": {
    "ExecuteTime": {
     "end_time": "2016-09-06T17:41:45.848638",
     "start_time": "2016-09-06T17:41:44.847125"
    },
    "collapsed": true
   },
   "outputs": [],
   "source": [
    "from spiketag.mvc import Sorter"
   ]
  },
  {
   "cell_type": "code",
   "execution_count": 3,
   "metadata": {
    "ExecuteTime": {
     "end_time": "2016-09-06T17:42:00.797659",
     "start_time": "2016-09-06T17:41:46.155202"
    },
    "collapsed": false
   },
   "outputs": [
    {
     "name": "stderr",
     "output_type": "stream",
     "text": [
      "[INFO/MainProcess] load mua data\n"
     ]
    },
    {
     "name": "stdout",
     "output_type": "stream",
     "text": [
      "#############  load data  ###################\n",
      "/mnt/ramdisk/pcie.bin loaded, it contains: \n",
      "30150587 * 32 points (3859275136 bytes) \n",
      "32 channels with sampling rate of 25000.0000 \n",
      "1206.023 secs (20.100 mins) of data\n",
      "#############################################\n"
     ]
    },
    {
     "name": "stderr",
     "output_type": "stream",
     "text": [
      "[INFO/MainProcess] removing high corr noise from spikes pool\n",
      "[INFO/MainProcess] extract spikes from pivital meta data\n",
      "[INFO/MainProcess] extrat features with weighted-pca\n",
      "[INFO/MainProcess] clustering with hdbscan\n",
      "[INFO/PoolWorker-1] child process calling self.run()\n",
      "[INFO/PoolWorker-2] child process calling self.run()\n",
      "[INFO/PoolWorker-3] child process calling self.run()\n",
      "[INFO/PoolWorker-4] child process calling self.run()\n",
      "[INFO/PoolWorker-5] child process calling self.run()\n",
      "[INFO/PoolWorker-6] child process calling self.run()\n",
      "[INFO/PoolWorker-7] child process calling self.run()\n",
      "[INFO/PoolWorker-8] child process calling self.run()\n",
      "[INFO/PoolWorker-9] child process calling self.run()\n",
      "[INFO/PoolWorker-10] child process calling self.run()\n",
      "[INFO/PoolWorker-11] child process calling self.run()\n",
      "[INFO/PoolWorker-12] child process calling self.run()\n",
      "[INFO/PoolWorker-13] child process calling self.run()\n",
      "[INFO/PoolWorker-14] child process calling self.run()\n",
      "[INFO/PoolWorker-15] child process calling self.run()\n",
      "[INFO/PoolWorker-16] child process calling self.run()\n",
      "[INFO/PoolWorker-17] child process calling self.run()\n",
      "[INFO/PoolWorker-18] child process calling self.run()\n",
      "[INFO/PoolWorker-19] child process calling self.run()\n",
      "[INFO/PoolWorker-20] child process calling self.run()\n",
      "[INFO/PoolWorker-21] child process calling self.run()\n",
      "[INFO/PoolWorker-22] child process calling self.run()\n",
      "[INFO/PoolWorker-23] child process calling self.run()\n",
      "[INFO/PoolWorker-24] child process calling self.run()\n",
      "[INFO/PoolWorker-10] process shutting down\n",
      "[INFO/PoolWorker-9] process shutting down\n",
      "[INFO/PoolWorker-12] process shutting down\n",
      "[INFO/PoolWorker-13] process shutting down\n",
      "[INFO/PoolWorker-14] process shutting down\n",
      "[INFO/PoolWorker-16] process shutting down\n",
      "[INFO/PoolWorker-20] process shutting down\n",
      "[INFO/PoolWorker-11] process shutting down\n",
      "[INFO/PoolWorker-17] process shutting down\n",
      "[INFO/PoolWorker-15] process shutting down\n",
      "[INFO/PoolWorker-18] process shutting down\n",
      "[INFO/PoolWorker-19] process shutting down\n",
      "[INFO/PoolWorker-10] process exiting with exitcode 0\n",
      "[INFO/PoolWorker-9] process exiting with exitcode 0\n",
      "[INFO/PoolWorker-22] process shutting down\n",
      "[INFO/PoolWorker-12] process exiting with exitcode 0\n",
      "[INFO/PoolWorker-21] process shutting down\n",
      "[INFO/PoolWorker-13] process exiting with exitcode 0\n",
      "[INFO/PoolWorker-4] process shutting down\n",
      "[INFO/PoolWorker-14] process exiting with exitcode 0\n",
      "[INFO/PoolWorker-3] process shutting down\n",
      "[INFO/PoolWorker-8] process shutting down\n",
      "[INFO/PoolWorker-23] process shutting down\n",
      "[INFO/PoolWorker-11] process exiting with exitcode 0\n",
      "[INFO/PoolWorker-16] process exiting with exitcode 0\n",
      "[INFO/PoolWorker-20] process exiting with exitcode 0\n",
      "[INFO/PoolWorker-17] process exiting with exitcode 0\n",
      "[INFO/PoolWorker-19] process exiting with exitcode 0\n",
      "[INFO/PoolWorker-18] process exiting with exitcode 0\n",
      "[INFO/PoolWorker-2] process shutting down\n",
      "[INFO/PoolWorker-15] process exiting with exitcode 0\n",
      "[INFO/PoolWorker-24] process shutting down\n",
      "[INFO/PoolWorker-22] process exiting with exitcode 0\n",
      "[INFO/PoolWorker-21] process exiting with exitcode 0\n",
      "[INFO/PoolWorker-23] process exiting with exitcode 0\n",
      "[INFO/PoolWorker-3] process exiting with exitcode 0\n",
      "[INFO/PoolWorker-8] process exiting with exitcode 0\n",
      "[INFO/PoolWorker-24] process exiting with exitcode 0\n",
      "[INFO/PoolWorker-5] process shutting down\n",
      "[INFO/PoolWorker-4] process exiting with exitcode 0\n",
      "[INFO/PoolWorker-1] process shutting down\n",
      "[INFO/PoolWorker-2] process exiting with exitcode 0\n",
      "[INFO/PoolWorker-6] process shutting down\n",
      "[INFO/PoolWorker-5] process exiting with exitcode 0\n",
      "[INFO/PoolWorker-7] process shutting down\n",
      "[INFO/PoolWorker-1] process exiting with exitcode 0\n",
      "[INFO/PoolWorker-6] process exiting with exitcode 0\n",
      "[INFO/PoolWorker-7] process exiting with exitcode 0\n"
     ]
    },
    {
     "name": "stdout",
     "output_type": "stream",
     "text": [
      "clustering finished, used 7.07061505318 seconds\n"
     ]
    },
    {
     "name": "stderr",
     "output_type": "stream",
     "text": [
      "[INFO/MainProcess] Model.spktag is generated, ch_span:1, nspk:309140\n"
     ]
    }
   ],
   "source": [
    "app = Sorter('/mnt/ramdisk/pcie.bin')"
   ]
  },
  {
   "cell_type": "code",
   "execution_count": 5,
   "metadata": {
    "ExecuteTime": {
     "end_time": "2016-09-06T17:42:09.164148",
     "start_time": "2016-09-06T17:42:09.157683"
    },
    "collapsed": false
   },
   "outputs": [
    {
     "data": {
      "text/plain": [
       "(12843, 6)"
      ]
     },
     "execution_count": 5,
     "metadata": {},
     "output_type": "execute_result"
    }
   ],
   "source": [
    "app.model.fet[26].shape"
   ]
  },
  {
   "cell_type": "code",
   "execution_count": 142,
   "metadata": {
    "ExecuteTime": {
     "end_time": "2016-09-06T18:06:48.018901",
     "start_time": "2016-09-06T18:06:48.013610"
    },
    "collapsed": false
   },
   "outputs": [],
   "source": [
    "spk = app.model.spk[26]"
   ]
  },
  {
   "cell_type": "code",
   "execution_count": 143,
   "metadata": {
    "ExecuteTime": {
     "end_time": "2016-09-06T18:06:48.258727",
     "start_time": "2016-09-06T18:06:48.251011"
    },
    "collapsed": true
   },
   "outputs": [],
   "source": [
    "X = spk.transpose(0,2,1).ravel().reshape(-1, spk.shape[1]*spk.shape[2])"
   ]
  },
  {
   "cell_type": "code",
   "execution_count": 144,
   "metadata": {
    "ExecuteTime": {
     "end_time": "2016-09-06T18:06:49.103128",
     "start_time": "2016-09-06T18:06:49.096686"
    },
    "collapsed": false,
    "scrolled": false
   },
   "outputs": [
    {
     "data": {
      "text/plain": [
       "(12843, 75)"
      ]
     },
     "execution_count": 144,
     "metadata": {},
     "output_type": "execute_result"
    }
   ],
   "source": [
    "X.shape"
   ]
  },
  {
   "cell_type": "code",
   "execution_count": 54,
   "metadata": {
    "ExecuteTime": {
     "end_time": "2016-09-06T17:54:51.714161",
     "start_time": "2016-09-06T17:54:51.709266"
    },
    "collapsed": true
   },
   "outputs": [],
   "source": [
    "fet = app.model.fet[26][:,:3]"
   ]
  },
  {
   "cell_type": "code",
   "execution_count": 21,
   "metadata": {
    "ExecuteTime": {
     "end_time": "2016-09-06T17:47:19.999167",
     "start_time": "2016-09-06T17:47:19.992172"
    },
    "collapsed": false
   },
   "outputs": [
    {
     "data": {
      "text/plain": [
       "(75,)"
      ]
     },
     "execution_count": 21,
     "metadata": {},
     "output_type": "execute_result"
    }
   ],
   "source": [
    "W = app.model.spk.W\n",
    "W.shape"
   ]
  },
  {
   "cell_type": "code",
   "execution_count": 17,
   "metadata": {
    "ExecuteTime": {
     "end_time": "2016-09-06T17:46:22.664461",
     "start_time": "2016-09-06T17:46:22.657776"
    },
    "collapsed": false
   },
   "outputs": [
    {
     "data": {
      "text/plain": [
       "(12843, 75)"
      ]
     },
     "execution_count": 17,
     "metadata": {},
     "output_type": "execute_result"
    }
   ],
   "source": [
    "X.shape"
   ]
  },
  {
   "cell_type": "code",
   "execution_count": 18,
   "metadata": {
    "ExecuteTime": {
     "end_time": "2016-09-06T17:46:24.215936",
     "start_time": "2016-09-06T17:46:24.209050"
    },
    "collapsed": false
   },
   "outputs": [
    {
     "data": {
      "text/plain": [
       "(12843, 6)"
      ]
     },
     "execution_count": 18,
     "metadata": {},
     "output_type": "execute_result"
    }
   ],
   "source": [
    "fet.shape"
   ]
  },
  {
   "cell_type": "code",
   "execution_count": 100,
   "metadata": {
    "ExecuteTime": {
     "end_time": "2016-09-06T18:01:09.720180",
     "start_time": "2016-09-06T18:01:09.715601"
    },
    "collapsed": true
   },
   "outputs": [],
   "source": [
    "from sklearn.decomposition import PCA"
   ]
  },
  {
   "cell_type": "code",
   "execution_count": 101,
   "metadata": {
    "ExecuteTime": {
     "end_time": "2016-09-06T18:01:09.922589",
     "start_time": "2016-09-06T18:01:09.917725"
    },
    "collapsed": true
   },
   "outputs": [],
   "source": [
    "pca = PCA(n_components=3, whiten=False)"
   ]
  },
  {
   "cell_type": "code",
   "execution_count": 163,
   "metadata": {
    "ExecuteTime": {
     "end_time": "2016-09-06T18:10:12.883342",
     "start_time": "2016-09-06T18:10:12.872821"
    },
    "collapsed": false
   },
   "outputs": [],
   "source": [
    "X = X - X.mean(axis=0)"
   ]
  },
  {
   "cell_type": "code",
   "execution_count": 164,
   "metadata": {
    "ExecuteTime": {
     "end_time": "2016-09-06T18:10:14.372780",
     "start_time": "2016-09-06T18:10:14.313640"
    },
    "collapsed": false
   },
   "outputs": [
    {
     "data": {
      "text/plain": [
       "PCA(copy=True, n_components=3, whiten=False)"
      ]
     },
     "execution_count": 164,
     "metadata": {},
     "output_type": "execute_result"
    }
   ],
   "source": [
    "pca.fit(X*W)"
   ]
  },
  {
   "cell_type": "code",
   "execution_count": 165,
   "metadata": {
    "ExecuteTime": {
     "end_time": "2016-09-06T18:10:14.645229",
     "start_time": "2016-09-06T18:10:14.640626"
    },
    "collapsed": false
   },
   "outputs": [
    {
     "data": {
      "text/plain": [
       "(3, 75)"
      ]
     },
     "execution_count": 165,
     "metadata": {},
     "output_type": "execute_result"
    }
   ],
   "source": [
    "pca.components_.shape"
   ]
  },
  {
   "cell_type": "code",
   "execution_count": 166,
   "metadata": {
    "ExecuteTime": {
     "end_time": "2016-09-06T18:10:15.041465",
     "start_time": "2016-09-06T18:10:15.025529"
    },
    "collapsed": false,
    "scrolled": true
   },
   "outputs": [
    {
     "data": {
      "text/plain": [
       "4792.8272189508025"
      ]
     },
     "execution_count": 166,
     "metadata": {},
     "output_type": "execute_result"
    }
   ],
   "source": [
    "y = np.dot(X*W, pca.components_.T)\n",
    "scale = y.max()-y.min()\n",
    "scale"
   ]
  },
  {
   "cell_type": "code",
   "execution_count": 167,
   "metadata": {
    "ExecuteTime": {
     "end_time": "2016-09-06T18:10:15.621171",
     "start_time": "2016-09-06T18:10:15.616779"
    },
    "collapsed": true
   },
   "outputs": [],
   "source": [
    "y = y/scale"
   ]
  },
  {
   "cell_type": "code",
   "execution_count": 168,
   "metadata": {
    "ExecuteTime": {
     "end_time": "2016-09-06T18:10:16.053937",
     "start_time": "2016-09-06T18:10:16.048179"
    },
    "collapsed": false
   },
   "outputs": [
    {
     "data": {
      "text/plain": [
       "array([[ 0.09921453, -0.0267712 , -0.03896852],\n",
       "       [-0.63297327,  0.00841922,  0.01510184],\n",
       "       [ 0.064973  , -0.01738713, -0.01092023],\n",
       "       ..., \n",
       "       [ 0.00267315, -0.07196072, -0.0287595 ],\n",
       "       [ 0.12025453,  0.00200569,  0.00691103],\n",
       "       [-0.01097072, -0.02903458, -0.01360033]])"
      ]
     },
     "execution_count": 168,
     "metadata": {},
     "output_type": "execute_result"
    }
   ],
   "source": [
    "y"
   ]
  },
  {
   "cell_type": "code",
   "execution_count": 169,
   "metadata": {
    "ExecuteTime": {
     "end_time": "2016-09-06T18:10:16.578411",
     "start_time": "2016-09-06T18:10:16.570358"
    },
    "collapsed": false,
    "scrolled": true
   },
   "outputs": [
    {
     "data": {
      "text/plain": [
       "array([[ 0.09921446, -0.02677119, -0.03896849],\n",
       "       [-0.63297329,  0.00841922,  0.01510186],\n",
       "       [ 0.06497294, -0.01738712, -0.01092021],\n",
       "       ..., \n",
       "       [ 0.0026731 , -0.07196071, -0.02875947],\n",
       "       [ 0.12025446,  0.0020057 ,  0.00691106],\n",
       "       [-0.01097078, -0.02903457, -0.0136003 ]])"
      ]
     },
     "execution_count": 169,
     "metadata": {},
     "output_type": "execute_result"
    }
   ],
   "source": [
    "fet"
   ]
  },
  {
   "cell_type": "code",
   "execution_count": 170,
   "metadata": {
    "ExecuteTime": {
     "end_time": "2016-09-06T18:10:19.456217",
     "start_time": "2016-09-06T18:10:19.449414"
    },
    "collapsed": false
   },
   "outputs": [
    {
     "data": {
      "text/plain": [
       "7.3919066312377879e-08"
      ]
     },
     "execution_count": 170,
     "metadata": {},
     "output_type": "execute_result"
    }
   ],
   "source": [
    "(y-fet).max()"
   ]
  },
  {
   "cell_type": "code",
   "execution_count": null,
   "metadata": {
    "collapsed": true
   },
   "outputs": [],
   "source": []
  },
  {
   "cell_type": "code",
   "execution_count": 118,
   "metadata": {
    "ExecuteTime": {
     "end_time": "2016-09-06T18:02:07.078696",
     "start_time": "2016-09-06T18:02:07.074289"
    },
    "collapsed": true
   },
   "outputs": [],
   "source": [
    "from spiketag.view import scatter_3d_view"
   ]
  },
  {
   "cell_type": "code",
   "execution_count": 121,
   "metadata": {
    "ExecuteTime": {
     "end_time": "2016-09-06T18:02:13.475660",
     "start_time": "2016-09-06T18:02:13.015049"
    },
    "collapsed": false
   },
   "outputs": [],
   "source": [
    "sdview = scatter_3d_view()\n",
    "sdview.set_data(y, app.model.clu[26].membership)\n",
    "sdview.show()"
   ]
  },
  {
   "cell_type": "code",
   "execution_count": 120,
   "metadata": {
    "ExecuteTime": {
     "end_time": "2016-09-06T18:02:07.806189",
     "start_time": "2016-09-06T18:02:07.557537"
    },
    "collapsed": true
   },
   "outputs": [],
   "source": [
    "app.run()"
   ]
  },
  {
   "cell_type": "code",
   "execution_count": null,
   "metadata": {
    "collapsed": true
   },
   "outputs": [],
   "source": []
  },
  {
   "cell_type": "code",
   "execution_count": null,
   "metadata": {
    "collapsed": true
   },
   "outputs": [],
   "source": []
  },
  {
   "cell_type": "code",
   "execution_count": 146,
   "metadata": {
    "ExecuteTime": {
     "end_time": "2016-09-06T18:07:10.444830",
     "start_time": "2016-09-06T18:07:10.438898"
    },
    "collapsed": true
   },
   "outputs": [],
   "source": [
    "shift = X.mean(axis=0)"
   ]
  },
  {
   "cell_type": "code",
   "execution_count": 147,
   "metadata": {
    "ExecuteTime": {
     "end_time": "2016-09-06T18:07:11.019085",
     "start_time": "2016-09-06T18:07:11.007514"
    },
    "collapsed": false
   },
   "outputs": [
    {
     "data": {
      "text/plain": [
       "array([  19.10100555,   30.25268936,   38.72301483,   41.67009735,\n",
       "         38.5408783 ,   32.1462326 ,   26.24269104,   26.07961273,\n",
       "         33.15322876,   44.40037537,   56.07067871,   62.94360352,\n",
       "         61.33018494,   50.94772339,   34.40341187,   16.80612946,\n",
       "          0.94465256,   -8.62097359,  -13.56030273,  -16.2282753 ,\n",
       "        -20.04705238,  -25.15418243,  -31.79760742,  -39.24756241,\n",
       "        -44.65850067,   -2.19132996,   -6.3511734 ,   -9.09179688,\n",
       "         -7.45845413,    1.50310898,   19.2201004 ,   45.31980896,\n",
       "         75.00854492,  102.22372437,  118.95129395,  119.85037231,\n",
       "        104.4312439 ,   75.50814819,   39.82710266,    4.24175262,\n",
       "        -25.06676102,  -46.05003357,  -60.04127884,  -69.59259033,\n",
       "        -78.48413086,  -88.12599182,  -96.26195526,  -98.74410248,\n",
       "        -94.20173645,  -80.16255188,   14.55669403,   -7.07171631,\n",
       "        -29.76160812,  -45.41725922,  -49.53750229,  -39.09191132,\n",
       "        -16.0507431 ,   14.0460968 ,   44.35440063,   65.03091431,\n",
       "         71.9264679 ,   65.63241577,   48.51520538,   28.5724411 ,\n",
       "         10.9435463 ,   -0.70570755,   -5.56991482,   -7.6252079 ,\n",
       "        -11.46269226,  -18.06682968,  -30.3022995 ,  -43.20860291,\n",
       "        -54.24885559,  -59.02422333,  -56.20165253], dtype=float32)"
      ]
     },
     "execution_count": 147,
     "metadata": {},
     "output_type": "execute_result"
    }
   ],
   "source": [
    "spk[0].T.ravel() - shift"
   ]
  },
  {
   "cell_type": "code",
   "execution_count": 149,
   "metadata": {
    "ExecuteTime": {
     "end_time": "2016-09-06T18:07:18.288197",
     "start_time": "2016-09-06T18:07:18.277395"
    },
    "collapsed": false
   },
   "outputs": [
    {
     "data": {
      "text/plain": [
       "array([  19.10100555,   30.25268936,   38.72301483,   41.67009735,\n",
       "         38.5408783 ,   32.1462326 ,   26.24269104,   26.07961273,\n",
       "         33.15322876,   44.40037537,   56.07067871,   62.94360352,\n",
       "         61.33018494,   50.94772339,   34.40341187,   16.80612946,\n",
       "          0.94465256,   -8.62097359,  -13.56030273,  -16.2282753 ,\n",
       "        -20.04705238,  -25.15418243,  -31.79760742,  -39.24756241,\n",
       "        -44.65850067,   -2.19132996,   -6.3511734 ,   -9.09179688,\n",
       "         -7.45845413,    1.50310898,   19.2201004 ,   45.31980896,\n",
       "         75.00854492,  102.22372437,  118.95129395,  119.85037231,\n",
       "        104.4312439 ,   75.50814819,   39.82710266,    4.24175262,\n",
       "        -25.06676102,  -46.05003357,  -60.04127884,  -69.59259033,\n",
       "        -78.48413086,  -88.12599182,  -96.26195526,  -98.74410248,\n",
       "        -94.20173645,  -80.16255188,   14.55669403,   -7.07171631,\n",
       "        -29.76160812,  -45.41725922,  -49.53750229,  -39.09191132,\n",
       "        -16.0507431 ,   14.0460968 ,   44.35440063,   65.03091431,\n",
       "         71.9264679 ,   65.63241577,   48.51520538,   28.5724411 ,\n",
       "         10.9435463 ,   -0.70570755,   -5.56991482,   -7.6252079 ,\n",
       "        -11.46269226,  -18.06682968,  -30.3022995 ,  -43.20860291,\n",
       "        -54.24885559,  -59.02422333,  -56.20165253], dtype=float32)"
      ]
     },
     "execution_count": 149,
     "metadata": {},
     "output_type": "execute_result"
    }
   ],
   "source": [
    "X[0] - shift"
   ]
  },
  {
   "cell_type": "code",
   "execution_count": 154,
   "metadata": {
    "ExecuteTime": {
     "end_time": "2016-09-06T18:07:51.892746",
     "start_time": "2016-09-06T18:07:51.630996"
    },
    "collapsed": false
   },
   "outputs": [
    {
     "data": {
      "text/plain": [
       "[<matplotlib.lines.Line2D at 0x7fd8b2bb8710>]"
      ]
     },
     "execution_count": 154,
     "metadata": {},
     "output_type": "execute_result"
    },
    {
     "data": {
      "image/png": "[encoded data removed]",
      "text/plain": [
       "<matplotlib.figure.Figure at 0x7fd8a1683d50>"
      ]
     },
     "metadata": {},
     "output_type": "display_data"
    }
   ],
   "source": [
    "plot(spk[0].T.ravel())"
   ]
  },
  {
   "cell_type": "code",
   "execution_count": 155,
   "metadata": {
    "ExecuteTime": {
     "end_time": "2016-09-06T18:07:55.818661",
     "start_time": "2016-09-06T18:07:55.566172"
    },
    "collapsed": false
   },
   "outputs": [
    {
     "data": {
      "text/plain": [
       "[<matplotlib.lines.Line2D at 0x7fd8a166bfd0>]"
      ]
     },
     "execution_count": 155,
     "metadata": {},
     "output_type": "execute_result"
    },
    {
     "data": {
      "image/png": "[encoded data removed]",
      "text/plain": [
       "<matplotlib.figure.Figure at 0x7fd8cc352450>"
      ]
     },
     "metadata": {},
     "output_type": "display_data"
    }
   ],
   "source": [
    "plot(X[0])"
   ]
  },
  {
   "cell_type": "code",
   "execution_count": null,
   "metadata": {
    "collapsed": true
   },
   "outputs": [],
   "source": []
  },
  {
   "cell_type": "code",
   "execution_count": 196,
   "metadata": {
    "ExecuteTime": {
     "end_time": "2016-09-06T18:15:16.853361",
     "start_time": "2016-09-06T18:15:16.607471"
    },
    "collapsed": false
   },
   "outputs": [
    {
     "data": {
      "text/plain": [
       "[<matplotlib.lines.Line2D at 0x7fd8a1402950>,\n",
       " <matplotlib.lines.Line2D at 0x7fd8a1402b50>,\n",
       " <matplotlib.lines.Line2D at 0x7fd8a1402c90>]"
      ]
     },
     "execution_count": 196,
     "metadata": {},
     "output_type": "execute_result"
    },
    {
     "data": {
      "image/png": "[encoded data removed]",
      "text/plain": [
       "<matplotlib.figure.Figure at 0x7fd8b12479d0>"
      ]
     },
     "metadata": {},
     "output_type": "display_data"
    }
   ],
   "source": [
    "plot(spk[0])"
   ]
  },
  {
   "cell_type": "code",
   "execution_count": 225,
   "metadata": {
    "ExecuteTime": {
     "end_time": "2016-09-06T18:24:05.524902",
     "start_time": "2016-09-06T18:24:05.518419"
    },
    "collapsed": false
   },
   "outputs": [
    {
     "data": {
      "text/plain": [
       "(25, 3)"
      ]
     },
     "execution_count": 225,
     "metadata": {},
     "output_type": "execute_result"
    }
   ],
   "source": [
    "spk[0].shape"
   ]
  },
  {
   "cell_type": "markdown",
   "metadata": {},
   "source": [
    "### stack version"
   ]
  },
  {
   "cell_type": "code",
   "execution_count": 305,
   "metadata": {
    "ExecuteTime": {
     "end_time": "2016-09-06T19:06:14.819425",
     "start_time": "2016-09-06T19:06:14.814738"
    },
    "collapsed": false
   },
   "outputs": [],
   "source": [
    "i0 = np.hstack(spk[0].T)-shift"
   ]
  },
  {
   "cell_type": "code",
   "execution_count": 306,
   "metadata": {
    "ExecuteTime": {
     "end_time": "2016-09-06T19:06:15.441272",
     "start_time": "2016-09-06T19:06:15.437451"
    },
    "collapsed": true
   },
   "outputs": [],
   "source": [
    "window = W/scale"
   ]
  },
  {
   "cell_type": "code",
   "execution_count": 350,
   "metadata": {
    "ExecuteTime": {
     "end_time": "2016-09-06T19:20:11.477284",
     "start_time": "2016-09-06T19:20:11.204708"
    },
    "collapsed": false
   },
   "outputs": [
    {
     "data": {
      "text/plain": [
       "[<matplotlib.lines.Line2D at 0x7fd8a087ccd0>]"
      ]
     },
     "execution_count": 350,
     "metadata": {},
     "output_type": "execute_result"
    },
    {
     "data": {
      "image/png": "[encoded data removed]",
      "text/plain": [
       "<matplotlib.figure.Figure at 0x7fd8a091a410>"
      ]
     },
     "metadata": {},
     "output_type": "display_data"
    }
   ],
   "source": [
    "plot(window.ravel(), '-o')"
   ]
  },
  {
   "cell_type": "code",
   "execution_count": 352,
   "metadata": {
    "ExecuteTime": {
     "end_time": "2016-09-06T19:20:51.749755",
     "start_time": "2016-09-06T19:20:51.485890"
    },
    "collapsed": false
   },
   "outputs": [
    {
     "data": {
      "text/plain": [
       "[<matplotlib.lines.Line2D at 0x7fd89f50a9d0>]"
      ]
     },
     "execution_count": 352,
     "metadata": {},
     "output_type": "execute_result"
    },
    {
     "data": {
      "image/png": "[encoded data removed]",
      "text/plain": [
       "<matplotlib.figure.Figure at 0x7fd89f525710>"
      ]
     },
     "metadata": {},
     "output_type": "display_data"
    }
   ],
   "source": [
    "plot(shift.ravel(), '-o')"
   ]
  },
  {
   "cell_type": "code",
   "execution_count": 307,
   "metadata": {
    "ExecuteTime": {
     "end_time": "2016-09-06T19:06:15.997962",
     "start_time": "2016-09-06T19:06:15.987799"
    },
    "collapsed": false
   },
   "outputs": [
    {
     "data": {
      "text/plain": [
       "array([  1.19138258e-04,   2.68910227e-04,   6.32704621e-04,\n",
       "         6.64233586e-04,   7.81428574e-04,   7.31598433e-04,\n",
       "         1.28590579e-03,   2.25365259e-03,   3.83805729e-03,\n",
       "         6.59433912e-03,   9.43386411e-03,   1.09274263e-02,\n",
       "         1.01802940e-02,   6.91929933e-03,   3.38231928e-03,\n",
       "         8.24576283e-04,   1.60042345e-05,  -4.54060206e-04,\n",
       "        -1.24765277e-03,  -1.48681875e-03,  -2.04429179e-03,\n",
       "        -2.53125514e-03,  -2.55263889e-03,  -3.07123413e-03,\n",
       "        -2.17625217e-03,  -3.41698286e-05,  -1.41135839e-04,\n",
       "        -3.71382621e-04,  -2.97224872e-04,   7.61900324e-05,\n",
       "         1.09354924e-03,   5.55173672e-03,   1.62045353e-02,\n",
       "         2.95853922e-02,   4.41665844e-02,   5.04119155e-02,\n",
       "         4.53248883e-02,   3.13342913e-02,   1.35224710e-02,\n",
       "         1.04255370e-03,  -3.07469020e-03,  -1.95044075e-03,\n",
       "        -7.90582270e-03,  -1.60076419e-02,  -1.79765987e-02,\n",
       "        -2.24665499e-02,  -2.42170034e-02,  -1.98173744e-02,\n",
       "        -1.84288890e-02,  -9.76599779e-03,   9.07941296e-05,\n",
       "        -6.28591003e-05,  -4.86282049e-04,  -7.23964446e-04,\n",
       "        -1.00438863e-03,  -8.89671316e-04,  -7.86494930e-04,\n",
       "         1.21378422e-03,   5.13478588e-03,   9.65838461e-03,\n",
       "         1.21015928e-02,   1.13942219e-02,   8.05311540e-03,\n",
       "         3.88047315e-03,   1.07589816e-03,  -3.46248498e-05,\n",
       "        -9.43650892e-05,  -4.01613975e-04,  -1.05465637e-03,\n",
       "        -1.65526531e-03,  -3.09006735e-03,  -4.34806412e-03,\n",
       "        -4.35497353e-03,  -4.61881447e-03,  -2.73876119e-03])"
      ]
     },
     "execution_count": 307,
     "metadata": {},
     "output_type": "execute_result"
    }
   ],
   "source": [
    "i0 = i0*window\n",
    "i0"
   ]
  },
  {
   "cell_type": "code",
   "execution_count": 308,
   "metadata": {
    "ExecuteTime": {
     "end_time": "2016-09-06T19:06:16.867786",
     "start_time": "2016-09-06T19:06:16.860545"
    },
    "collapsed": false
   },
   "outputs": [
    {
     "data": {
      "text/plain": [
       "array([ 0.09921453, -0.0267712 , -0.03896852])"
      ]
     },
     "execution_count": 308,
     "metadata": {},
     "output_type": "execute_result"
    }
   ],
   "source": [
    "np.dot(i0, pca.components_.T)"
   ]
  },
  {
   "cell_type": "code",
   "execution_count": 309,
   "metadata": {
    "ExecuteTime": {
     "end_time": "2016-09-06T19:06:17.604356",
     "start_time": "2016-09-06T19:06:17.597976"
    },
    "collapsed": false
   },
   "outputs": [
    {
     "data": {
      "text/plain": [
       "array([ 0.09921446, -0.02677119, -0.03896849])"
      ]
     },
     "execution_count": 309,
     "metadata": {},
     "output_type": "execute_result"
    }
   ],
   "source": [
    "fet[0]"
   ]
  },
  {
   "cell_type": "markdown",
   "metadata": {},
   "source": [
    "### FIR version"
   ]
  },
  {
   "cell_type": "code",
   "execution_count": 310,
   "metadata": {
    "ExecuteTime": {
     "end_time": "2016-09-06T19:06:36.882836",
     "start_time": "2016-09-06T19:06:36.876190"
    },
    "collapsed": false
   },
   "outputs": [
    {
     "data": {
      "text/plain": [
       "(25, 3)"
      ]
     },
     "execution_count": 310,
     "metadata": {},
     "output_type": "execute_result"
    }
   ],
   "source": [
    "spk[0].shape"
   ]
  },
  {
   "cell_type": "code",
   "execution_count": 312,
   "metadata": {
    "ExecuteTime": {
     "end_time": "2016-09-06T19:07:29.019959",
     "start_time": "2016-09-06T19:07:29.013106"
    },
    "collapsed": false
   },
   "outputs": [
    {
     "data": {
      "text/plain": [
       "(3, 25)"
      ]
     },
     "execution_count": 312,
     "metadata": {},
     "output_type": "execute_result"
    }
   ],
   "source": [
    "s = spk[0].T\n",
    "s.shape"
   ]
  },
  {
   "cell_type": "code",
   "execution_count": 314,
   "metadata": {
    "ExecuteTime": {
     "end_time": "2016-09-06T19:07:55.037313",
     "start_time": "2016-09-06T19:07:55.032718"
    },
    "collapsed": true
   },
   "outputs": [],
   "source": [
    "shift = shift.reshape(3,-1)"
   ]
  },
  {
   "cell_type": "code",
   "execution_count": 316,
   "metadata": {
    "ExecuteTime": {
     "end_time": "2016-09-06T19:08:16.546515",
     "start_time": "2016-09-06T19:08:16.542023"
    },
    "collapsed": true
   },
   "outputs": [],
   "source": [
    "window = window.reshape(3,-1)"
   ]
  },
  {
   "cell_type": "code",
   "execution_count": 330,
   "metadata": {
    "ExecuteTime": {
     "end_time": "2016-09-06T19:11:23.711266",
     "start_time": "2016-09-06T19:11:23.704717"
    },
    "collapsed": false
   },
   "outputs": [
    {
     "data": {
      "text/plain": [
       "(75, 3)"
      ]
     },
     "execution_count": 330,
     "metadata": {},
     "output_type": "execute_result"
    }
   ],
   "source": [
    "pca.components_.T.shape"
   ]
  },
  {
   "cell_type": "code",
   "execution_count": 331,
   "metadata": {
    "ExecuteTime": {
     "end_time": "2016-09-06T19:11:39.634689",
     "start_time": "2016-09-06T19:11:39.627001"
    },
    "collapsed": false
   },
   "outputs": [
    {
     "data": {
      "text/plain": [
       "(3, 25, 3)"
      ]
     },
     "execution_count": 331,
     "metadata": {},
     "output_type": "execute_result"
    }
   ],
   "source": [
    "comp = pca.components_.T.reshape(3,25,3)\n",
    "comp.shape"
   ]
  },
  {
   "cell_type": "code",
   "execution_count": 336,
   "metadata": {
    "ExecuteTime": {
     "end_time": "2016-09-06T19:12:53.229075",
     "start_time": "2016-09-06T19:12:52.998143"
    },
    "collapsed": false
   },
   "outputs": [
    {
     "data": {
      "text/plain": [
       "[<matplotlib.lines.Line2D at 0x7fd8a1280250>]"
      ]
     },
     "execution_count": 336,
     "metadata": {},
     "output_type": "execute_result"
    },
    {
     "data": {
      "image/png": "[encoded data removed]",
      "text/plain": [
       "<matplotlib.figure.Figure at 0x7fd8a6412790>"
      ]
     },
     "metadata": {},
     "output_type": "display_data"
    }
   ],
   "source": [
    "plot(s[0])"
   ]
  },
  {
   "cell_type": "code",
   "execution_count": 337,
   "metadata": {
    "ExecuteTime": {
     "end_time": "2016-09-06T19:12:58.435492",
     "start_time": "2016-09-06T19:12:58.200402"
    },
    "collapsed": false
   },
   "outputs": [
    {
     "data": {
      "text/plain": [
       "[<matplotlib.lines.Line2D at 0x7fd8a1168c90>]"
      ]
     },
     "execution_count": 337,
     "metadata": {},
     "output_type": "execute_result"
    },
    {
     "data": {
      "image/png": "[encoded data removed]",
      "text/plain": [
       "<matplotlib.figure.Figure at 0x7fd8a1261bd0>"
      ]
     },
     "metadata": {},
     "output_type": "display_data"
    }
   ],
   "source": [
    "plot(s[1])"
   ]
  },
  {
   "cell_type": "code",
   "execution_count": 338,
   "metadata": {
    "ExecuteTime": {
     "end_time": "2016-09-06T19:13:07.178123",
     "start_time": "2016-09-06T19:13:06.961082"
    },
    "collapsed": false
   },
   "outputs": [
    {
     "data": {
      "text/plain": [
       "[<matplotlib.lines.Line2D at 0x7fd8a111afd0>]"
      ]
     },
     "execution_count": 338,
     "metadata": {},
     "output_type": "execute_result"
    },
    {
     "data": {
      "image/png": "[encoded data removed]",
      "text/plain": [
       "<matplotlib.figure.Figure at 0x7fd8a119f150>"
      ]
     },
     "metadata": {},
     "output_type": "display_data"
    }
   ],
   "source": [
    "plot(s[2])"
   ]
  },
  {
   "cell_type": "code",
   "execution_count": 361,
   "metadata": {
    "ExecuteTime": {
     "end_time": "2016-09-06T21:37:52.597339",
     "start_time": "2016-09-06T21:37:52.344562"
    },
    "collapsed": false
   },
   "outputs": [
    {
     "data": {
      "text/plain": [
       "[<matplotlib.lines.Line2D at 0x7fd895c39c50>,\n",
       " <matplotlib.lines.Line2D at 0x7fd895c39e50>,\n",
       " <matplotlib.lines.Line2D at 0x7fd895c39f90>]"
      ]
     },
     "execution_count": 361,
     "metadata": {},
     "output_type": "execute_result"
    },
    {
     "data": {
      "image/png": "[encoded data removed]",
      "text/plain": [
       "<matplotlib.figure.Figure at 0x7fd895de0890>"
      ]
     },
     "metadata": {},
     "output_type": "display_data"
    }
   ],
   "source": [
    "plot(((s - shift)*window).T)"
   ]
  },
  {
   "cell_type": "code",
   "execution_count": 339,
   "metadata": {
    "ExecuteTime": {
     "end_time": "2016-09-06T19:13:59.561393",
     "start_time": "2016-09-06T19:13:59.555247"
    },
    "collapsed": false
   },
   "outputs": [],
   "source": [
    "fir0 = np.dot((s[0] - shift[0])*window[0], comp[0])"
   ]
  },
  {
   "cell_type": "code",
   "execution_count": 340,
   "metadata": {
    "ExecuteTime": {
     "end_time": "2016-09-06T19:14:06.971971",
     "start_time": "2016-09-06T19:14:06.966905"
    },
    "collapsed": false
   },
   "outputs": [],
   "source": [
    "fir1 = np.dot((s[1] - shift[1])*window[1], comp[1])"
   ]
  },
  {
   "cell_type": "code",
   "execution_count": 341,
   "metadata": {
    "ExecuteTime": {
     "end_time": "2016-09-06T19:14:10.956348",
     "start_time": "2016-09-06T19:14:10.951073"
    },
    "collapsed": false
   },
   "outputs": [],
   "source": [
    "fir2 = np.dot((s[2] - shift[2])*window[2], comp[2])"
   ]
  },
  {
   "cell_type": "code",
   "execution_count": 342,
   "metadata": {
    "ExecuteTime": {
     "end_time": "2016-09-06T19:14:18.409714",
     "start_time": "2016-09-06T19:14:18.402214"
    },
    "collapsed": false
   },
   "outputs": [
    {
     "data": {
      "text/plain": [
       "array([ 0.09921453, -0.0267712 , -0.03896852])"
      ]
     },
     "execution_count": 342,
     "metadata": {},
     "output_type": "execute_result"
    }
   ],
   "source": [
    "fir0 + fir1 + fir2"
   ]
  },
  {
   "cell_type": "code",
   "execution_count": null,
   "metadata": {
    "collapsed": true
   },
   "outputs": [],
   "source": []
  },
  {
   "cell_type": "code",
   "execution_count": null,
   "metadata": {
    "collapsed": true
   },
   "outputs": [],
   "source": []
  },
  {
   "cell_type": "code",
   "execution_count": null,
   "metadata": {
    "collapsed": true
   },
   "outputs": [],
   "source": []
  },
  {
   "cell_type": "code",
   "execution_count": null,
   "metadata": {
    "collapsed": true
   },
   "outputs": [],
   "source": []
  },
  {
   "cell_type": "code",
   "execution_count": null,
   "metadata": {
    "collapsed": true
   },
   "outputs": [],
   "source": [
    "app.model.spktag.spktag['spk'].shape"
   ]
  },
  {
   "cell_type": "code",
   "execution_count": 268,
   "metadata": {
    "ExecuteTime": {
     "end_time": "2016-09-06T18:34:17.277433",
     "start_time": "2016-09-06T18:34:17.265765"
    },
    "collapsed": false
   },
   "outputs": [],
   "source": [
    "chmask = app.model.spktag.spktag['ch'] == app.ch"
   ]
  },
  {
   "cell_type": "code",
   "execution_count": 279,
   "metadata": {
    "ExecuteTime": {
     "end_time": "2016-09-06T18:35:22.470500",
     "start_time": "2016-09-06T18:35:22.463025"
    },
    "collapsed": false
   },
   "outputs": [
    {
     "data": {
      "text/plain": [
       "60719"
      ]
     },
     "execution_count": 279,
     "metadata": {},
     "output_type": "execute_result"
    }
   ],
   "source": [
    "app.model.spktag.spktag['t'][chmask][app.clu[0]][0]"
   ]
  },
  {
   "cell_type": "code",
   "execution_count": 278,
   "metadata": {
    "ExecuteTime": {
     "end_time": "2016-09-06T18:35:18.861656",
     "start_time": "2016-09-06T18:35:18.846867"
    },
    "collapsed": false
   },
   "outputs": [
    {
     "data": {
      "text/plain": [
       "array([[  25.24938965,   73.30993652,    9.65356445],\n",
       "       [  30.58972168,   73.70812988,    6.38720703],\n",
       "       [  30.92871094,   57.74914551,   -5.42700195],\n",
       "       [  17.42382812,   19.61352539,  -24.53942871],\n",
       "       [ -14.60681152,  -40.20605469,  -48.81933594],\n",
       "       [ -66.18188477, -113.51550293,  -74.55517578],\n",
       "       [-130.66784668, -190.17810059,  -97.22741699],\n",
       "       [-194.73522949, -256.48913574, -116.40979004],\n",
       "       [-242.17236328, -298.63806152, -127.35705566],\n",
       "       [-259.71887207, -308.7199707 , -129.98059082],\n",
       "       [-242.9152832 , -286.49835205, -124.65466309],\n",
       "       [-195.52954102, -239.03857422, -112.46069336],\n",
       "       [-129.61328125, -177.26342773,  -94.92089844],\n",
       "       [ -60.59338379, -113.57092285,  -74.42468262],\n",
       "       [  -2.90527344,  -58.01843262,  -53.80505371],\n",
       "       [  33.35986328,  -15.25354004,  -33.37158203],\n",
       "       [  48.45556641,   14.10705566,  -15.2520752 ],\n",
       "       [  47.29260254,   34.54724121,    1.6619873 ],\n",
       "       [  40.85949707,   50.95214844,   18.08654785],\n",
       "       [  34.12683105,   64.1583252 ,   32.16467285],\n",
       "       [  32.6940918 ,   75.74365234,   43.92419434],\n",
       "       [  35.36791992,   83.71057129,   54.3939209 ],\n",
       "       [  37.29663086,   85.72021484,   63.23449707],\n",
       "       [  36.96777344,   80.76843262,   69.04663086],\n",
       "       [  33.79748535,   71.17712402,   71.72473145]], dtype=float32)"
      ]
     },
     "execution_count": 278,
     "metadata": {},
     "output_type": "execute_result"
    }
   ],
   "source": [
    "app.model.spktag.spktag['spk'][chmask][app.clu[0]][0]"
   ]
  },
  {
   "cell_type": "code",
   "execution_count": 281,
   "metadata": {
    "ExecuteTime": {
     "end_time": "2016-09-06T18:35:36.447965",
     "start_time": "2016-09-06T18:35:36.441295"
    },
    "collapsed": false
   },
   "outputs": [],
   "source": [
    "mua = app.model.mua"
   ]
  },
  {
   "cell_type": "code",
   "execution_count": 295,
   "metadata": {
    "ExecuteTime": {
     "end_time": "2016-09-06T18:40:54.282197",
     "start_time": "2016-09-06T18:40:54.272252"
    },
    "collapsed": false
   },
   "outputs": [
    {
     "data": {
      "text/plain": [
       "array([  73.30993652,   73.70812988,   57.74914551,   19.61352539,\n",
       "        -40.20605469, -113.51550293, -190.17810059, -256.48913574,\n",
       "       -298.63806152, -308.7199707 , -286.49835205, -239.03857422,\n",
       "       -177.26342773, -113.57092285,  -58.01843262,  -15.25354004,\n",
       "         14.10705566,   34.54724121,   50.95214844,   64.1583252 ,\n",
       "         75.74365234,   83.71057129,   85.72021484,   80.76843262,\n",
       "         71.17712402], dtype=float32)"
      ]
     },
     "execution_count": 295,
     "metadata": {},
     "output_type": "execute_result"
    }
   ],
   "source": [
    "mua.data[60719-10:60719+15,26]"
   ]
  },
  {
   "cell_type": "code",
   "execution_count": 292,
   "metadata": {
    "ExecuteTime": {
     "end_time": "2016-09-06T18:40:36.987738",
     "start_time": "2016-09-06T18:40:36.982749"
    },
    "collapsed": true
   },
   "outputs": [],
   "source": [
    "npmm = np.memmap('/mnt/ramdisk/pcie.bin', dtype=np.int32).reshape(-1,32)"
   ]
  },
  {
   "cell_type": "code",
   "execution_count": 296,
   "metadata": {
    "ExecuteTime": {
     "end_time": "2016-09-06T18:41:06.216401",
     "start_time": "2016-09-06T18:41:06.207781"
    },
    "collapsed": false
   },
   "outputs": [
    {
     "data": {
      "text/plain": [
       "memmap([ 1201110,  1207634,   946162,   321348,  -658736, -1859838,\n",
       "       -3115878, -4202318, -4892886, -5058068, -4693989, -3916408,\n",
       "       -2904284, -1860746,  -950574,  -249914,   231130,   566022,\n",
       "         834800,  1051170,  1240984,  1371514,  1404440,  1323310,  1166166], dtype=int32)"
      ]
     },
     "execution_count": 296,
     "metadata": {},
     "output_type": "execute_result"
    }
   ],
   "source": [
    "npmm[60719-10:60719+15,26]"
   ]
  },
  {
   "cell_type": "code",
   "execution_count": 298,
   "metadata": {
    "ExecuteTime": {
     "end_time": "2016-09-06T18:42:34.200569",
     "start_time": "2016-09-06T18:42:34.186132"
    },
    "collapsed": false
   },
   "outputs": [
    {
     "data": {
      "text/plain": [
       "array([ 1201110,  1207634,   946162,   321348,  -658736, -1859838,\n",
       "       -3115878, -4202318, -4892886, -5058068, -4693989, -3916408,\n",
       "       -2904284, -1860746,  -950574,  -249914,   231130,   566022,\n",
       "         834800,  1051170,  1240984,  1371514,  1404440,  1323310,  1166166], dtype=int32)"
      ]
     },
     "execution_count": 298,
     "metadata": {},
     "output_type": "execute_result"
    }
   ],
   "source": [
    "np.asarray(mua.data[60719-10:60719+15,26]*float(2**14), dtype=np.int32)"
   ]
  },
  {
   "cell_type": "code",
   "execution_count": 301,
   "metadata": {
    "ExecuteTime": {
     "end_time": "2016-09-06T18:44:02.582725",
     "start_time": "2016-09-06T18:44:02.571880"
    },
    "collapsed": false
   },
   "outputs": [
    {
     "data": {
      "text/plain": [
       "array([  6.23727678e-06,   8.88880401e-06,   1.63392397e-05,\n",
       "         1.59402936e-05,   2.02753183e-05,   2.27584502e-05,\n",
       "         4.90005307e-05,   8.64143426e-05,   1.15767225e-04,\n",
       "         1.48519896e-04,   1.68249508e-04,   1.73606620e-04,\n",
       "         1.65991576e-04,   1.35811747e-04,   9.83134840e-05,\n",
       "         4.90640207e-05,   1.69419268e-05,   5.26692492e-05,\n",
       "         9.20077369e-05,   9.16190243e-05,   1.01974682e-04,\n",
       "         1.00629593e-04,   8.02777032e-05,   7.82528631e-05,\n",
       "         4.87309725e-05,   1.55931919e-05,   2.22220100e-05,\n",
       "         4.08480992e-05,   3.98507340e-05,   5.06882957e-05,\n",
       "         5.68961255e-05,   1.22501327e-04,   2.16035857e-04,\n",
       "         2.89418062e-04,   3.71299739e-04,   4.20623770e-04,\n",
       "         4.34016551e-04,   4.14978940e-04,   3.39529368e-04,\n",
       "         2.45783710e-04,   1.22660052e-04,   4.23548170e-05,\n",
       "         1.31673123e-04,   2.30019342e-04,   2.29047561e-04,\n",
       "         2.54936704e-04,   2.51573982e-04,   2.00694258e-04,\n",
       "         1.95632158e-04,   1.21827431e-04,   6.23727678e-06,\n",
       "         8.88880401e-06,   1.63392397e-05,   1.59402936e-05,\n",
       "         2.02753183e-05,   2.27584502e-05,   4.90005307e-05,\n",
       "         8.64143426e-05,   1.15767225e-04,   1.48519896e-04,\n",
       "         1.68249508e-04,   1.73606620e-04,   1.65991576e-04,\n",
       "         1.35811747e-04,   9.83134840e-05,   4.90640207e-05,\n",
       "         1.69419268e-05,   5.26692492e-05,   9.20077369e-05,\n",
       "         9.16190243e-05,   1.01974682e-04,   1.00629593e-04,\n",
       "         8.02777032e-05,   7.82528631e-05,   4.87309725e-05])"
      ]
     },
     "execution_count": 301,
     "metadata": {},
     "output_type": "execute_result"
    }
   ],
   "source": [
    "window"
   ]
  },
  {
   "cell_type": "code",
   "execution_count": 304,
   "metadata": {
    "ExecuteTime": {
     "end_time": "2016-09-06T18:47:00.387103",
     "start_time": "2016-09-06T18:47:00.377896"
    },
    "collapsed": false
   },
   "outputs": [
    {
     "data": {
      "text/plain": [
       "array([  919287,   972001,   932750,   726565,   296672,  -365065,\n",
       "       -1199536, -2085000, -2864842, -3392215, -3574322, -3400332,\n",
       "       -2941677, -2324515, -1686049, -1131589,  -707775,  -401895,\n",
       "        -164570,    58610,   298514,   550320,   781404,   952306,\n",
       "        1038956,  1369520,  1343769,  1099878,   530857,  -405332,\n",
       "       -1645330, -3014227, -4261820, -5132875, -5446764, -5155585,\n",
       "       -4360255, -3272395, -2141945, -1176532,  -483816,   -56750,\n",
       "         195432,   390164,   613528,   887836,  1173409,  1400715,\n",
       "        1513729,  1500469,   721491,   630737,   400982,    -2503,\n",
       "        -575325, -1262086, -1962372, -2553123, -2923618, -3008266,\n",
       "       -2805919, -2379001, -1830611, -1271150,  -784719,  -410195,\n",
       "        -139596,    64483,   243984,   425122,   608206,   772213,\n",
       "         890125,   944884,   939761], dtype=int32)"
      ]
     },
     "execution_count": 304,
     "metadata": {},
     "output_type": "execute_result"
    }
   ],
   "source": [
    "np.asarray(shift*float(2**14), dtype=np.int32)"
   ]
  },
  {
   "cell_type": "code",
   "execution_count": 395,
   "metadata": {
    "ExecuteTime": {
     "end_time": "2016-09-07T10:57:07.985240",
     "start_time": "2016-09-07T10:57:07.979059"
    },
    "collapsed": false
   },
   "outputs": [],
   "source": [
    "g = lambda x: [str(x*'1') + '0' + str((7-x)*'0'), str(x*'1') + '0' + str((7-x)*'1')]"
   ]
  },
  {
   "cell_type": "code",
   "execution_count": 396,
   "metadata": {
    "ExecuteTime": {
     "end_time": "2016-09-07T10:57:08.363916",
     "start_time": "2016-09-07T10:57:08.358634"
    },
    "collapsed": false,
    "scrolled": true
   },
   "outputs": [
    {
     "name": "stdout",
     "output_type": "stream",
     "text": [
      "['00000000', '01111111']\n",
      "['10000000', '10111111']\n",
      "['11000000', '11011111']\n",
      "['11100000', '11101111']\n",
      "['11110000', '11110111']\n",
      "['11111000', '11111011']\n",
      "['11111100', '11111101']\n",
      "['11111110', '11111110']\n"
     ]
    }
   ],
   "source": [
    "for i in range(8): print g(i)"
   ]
  },
  {
   "cell_type": "code",
   "execution_count": 391,
   "metadata": {
    "ExecuteTime": {
     "end_time": "2016-09-07T10:55:53.648372",
     "start_time": "2016-09-07T10:55:53.642368"
    },
    "collapsed": false
   },
   "outputs": [
    {
     "data": {
      "text/plain": [
       "127"
      ]
     },
     "execution_count": 391,
     "metadata": {},
     "output_type": "execute_result"
    }
   ],
   "source": [
    "0b01111111"
   ]
  },
  {
   "cell_type": "code",
   "execution_count": 397,
   "metadata": {
    "ExecuteTime": {
     "end_time": "2016-09-07T11:12:47.401687",
     "start_time": "2016-09-07T11:12:47.394497"
    },
    "collapsed": false
   },
   "outputs": [
    {
     "data": {
      "text/plain": [
       "15"
      ]
     },
     "execution_count": 397,
     "metadata": {},
     "output_type": "execute_result"
    }
   ],
   "source": [
    "0b1111"
   ]
  },
  {
   "cell_type": "code",
   "execution_count": 398,
   "metadata": {
    "ExecuteTime": {
     "end_time": "2016-09-07T11:13:06.471040",
     "start_time": "2016-09-07T11:13:06.464851"
    },
    "collapsed": false
   },
   "outputs": [
    {
     "data": {
      "text/plain": [
       "'0b11111'"
      ]
     },
     "execution_count": 398,
     "metadata": {},
     "output_type": "execute_result"
    }
   ],
   "source": [
    "bin(31)"
   ]
  },
  {
   "cell_type": "code",
   "execution_count": null,
   "metadata": {
    "collapsed": true
   },
   "outputs": [],
   "source": []
  }
 ],
 "metadata": {
  "kernelspec": {
   "display_name": "Python [Root]",
   "language": "python",
   "name": "Python [Root]"
  },
  "language_info": {
   "codemirror_mode": {
    "name": "ipython",
    "version": 2
   },
   "file_extension": ".py",
   "mimetype": "text/x-python",
   "name": "python",
   "nbconvert_exporter": "python",
   "pygments_lexer": "ipython2",
   "version": "2.7.12"
  }
 },
 "nbformat": 4,
 "nbformat_minor": 0
}
