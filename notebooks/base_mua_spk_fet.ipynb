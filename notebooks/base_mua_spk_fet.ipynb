{
 "cells": [
  {
   "cell_type": "code",
   "execution_count": 1,
   "metadata": {
    "ExecuteTime": {
     "end_time": "2016-08-16T16:38:44.434146",
     "start_time": "2016-08-16T16:38:44.411636"
    },
    "collapsed": true
   },
   "outputs": [],
   "source": [
    "%load_ext autoreload\n",
    "%autoreload 2"
   ]
  },
  {
   "cell_type": "code",
   "execution_count": 10,
   "metadata": {
    "ExecuteTime": {
     "end_time": "2016-08-16T16:42:30.785341",
     "start_time": "2016-08-16T16:42:30.749772"
    },
    "collapsed": true
   },
   "outputs": [],
   "source": [
    "from accelerate import profiler"
   ]
  },
  {
   "cell_type": "code",
   "execution_count": 11,
   "metadata": {
    "ExecuteTime": {
     "end_time": "2016-08-16T16:42:31.305332",
     "start_time": "2016-08-16T16:42:31.275205"
    },
    "collapsed": false,
    "scrolled": false
   },
   "outputs": [],
   "source": [
    "# p = profiler.Profile(signatures=False)\n",
    "# p.enable()\n",
    "from spiketag.base import *\n",
    "# p.disable()\n",
    "# p.print_stats()\n",
    "# profiler.plot(p)"
   ]
  },
  {
   "cell_type": "code",
   "execution_count": 12,
   "metadata": {
    "ExecuteTime": {
     "end_time": "2016-08-16T16:42:34.517782",
     "start_time": "2016-08-16T16:42:32.900099"
    },
    "collapsed": false,
    "scrolled": false
   },
   "outputs": [
    {
     "name": "stdout",
     "output_type": "stream",
     "text": [
      "#############  load data  ###################\n",
      "/tmp_data/pcie.bin loaded, it contains: \n",
      "30150587 * 32 points (3859275136 bytes) \n",
      "32 channels with sampling rate of 25000.0000 \n",
      "1206.023 secs (20.100 mins) of data\n",
      "#############################################\n"
     ]
    }
   ],
   "source": [
    "mua = MUA('/tmp_data/pcie.bin')"
   ]
  },
  {
   "cell_type": "code",
   "execution_count": 53,
   "metadata": {
    "ExecuteTime": {
     "end_time": "2016-08-16T17:10:20.196790",
     "start_time": "2016-08-16T17:10:17.100210"
    },
    "collapsed": false
   },
   "outputs": [],
   "source": [
    "spk = mua.tospk(ch_span=2)"
   ]
  },
  {
   "cell_type": "code",
   "execution_count": 54,
   "metadata": {
    "ExecuteTime": {
     "end_time": "2016-08-16T17:10:29.513510",
     "start_time": "2016-08-16T17:10:28.710503"
    },
    "collapsed": true
   },
   "outputs": [],
   "source": [
    "fet = spk.tofet()"
   ]
  },
  {
   "cell_type": "code",
   "execution_count": 59,
   "metadata": {
    "ExecuteTime": {
     "end_time": "2016-08-16T17:14:28.515119",
     "start_time": "2016-08-16T17:14:05.426684"
    },
    "collapsed": false,
    "scrolled": false
   },
   "outputs": [
    {
     "name": "stdout",
     "output_type": "stream",
     "text": [
      "clustering finished, used 22.9808452129 seconds\n"
     ]
    }
   ],
   "source": [
    "clu = fet.toclu(njobs=24)"
   ]
  },
  {
   "cell_type": "code",
   "execution_count": null,
   "metadata": {
    "collapsed": true
   },
   "outputs": [],
   "source": []
  },
  {
   "cell_type": "code",
   "execution_count": null,
   "metadata": {
    "collapsed": true
   },
   "outputs": [],
   "source": []
  },
  {
   "cell_type": "code",
   "execution_count": null,
   "metadata": {
    "collapsed": true
   },
   "outputs": [],
   "source": []
  },
  {
   "cell_type": "code",
   "execution_count": null,
   "metadata": {
    "collapsed": true
   },
   "outputs": [],
   "source": []
  },
  {
   "cell_type": "code",
   "execution_count": null,
   "metadata": {
    "collapsed": true
   },
   "outputs": [],
   "source": []
  },
  {
   "cell_type": "code",
   "execution_count": 25,
   "metadata": {
    "ExecuteTime": {
     "end_time": "2016-08-16T16:45:03.528516",
     "start_time": "2016-08-16T16:45:03.446803"
    },
    "collapsed": true
   },
   "outputs": [],
   "source": [
    "%gui qt"
   ]
  },
  {
   "cell_type": "code",
   "execution_count": 60,
   "metadata": {
    "ExecuteTime": {
     "end_time": "2016-08-16T17:15:38.276952",
     "start_time": "2016-08-16T17:15:38.185482"
    },
    "collapsed": true
   },
   "outputs": [],
   "source": [
    "from spiketag.view import spike_view"
   ]
  },
  {
   "cell_type": "code",
   "execution_count": 61,
   "metadata": {
    "ExecuteTime": {
     "end_time": "2016-08-16T17:15:39.426755",
     "start_time": "2016-08-16T17:15:38.928189"
    },
    "collapsed": false
   },
   "outputs": [],
   "source": [
    "spk_view = spike_view()"
   ]
  },
  {
   "cell_type": "code",
   "execution_count": 70,
   "metadata": {
    "ExecuteTime": {
     "end_time": "2016-08-16T17:23:32.067625",
     "start_time": "2016-08-16T17:23:28.397707"
    },
    "collapsed": false
   },
   "outputs": [],
   "source": [
    "spk_view.set_data(spk[29], CLU(clu[29]))"
   ]
  },
  {
   "cell_type": "code",
   "execution_count": 71,
   "metadata": {
    "ExecuteTime": {
     "end_time": "2016-08-16T17:23:33.274683",
     "start_time": "2016-08-16T17:23:33.187305"
    },
    "collapsed": false,
    "scrolled": false
   },
   "outputs": [
    {
     "name": "stdout",
     "output_type": "stream",
     "text": [
      "rerender, elapsed time: 2308.405 ms\n",
      "merge, elapsed time: 2313.569 ms\n",
      "highlight, elapsed time: 0.988000000007 ms\n",
      "get_subset, elapsed time: 1.02100000004 ms\n",
      "reassign membership, elapsed time: 0.234000000091 ms\n",
      "reconstruct, elapsed time: 4.23499999999 ms\n",
      "rerender, elapsed time: 2498.322 ms\n",
      "emit move signal, elapsed time: 2499.206 ms\n",
      "move, elapsed time: 2505.545 ms\n",
      "highlight, elapsed time: 6.11500000002 ms\n",
      "get_subset, elapsed time: 0.734999999963 ms\n",
      "reassign membership, elapsed time: 0.0319999999192 ms\n",
      "reconstruct, elapsed time: 4.32699999999 ms\n",
      "rerender, elapsed time: 2378.439 ms\n",
      "emit move signal, elapsed time: 2378.711 ms\n",
      "move, elapsed time: 2384.496 ms\n",
      "highlight, elapsed time: 0.639999999976 ms\n",
      "get_subset, elapsed time: 0.767999999994 ms\n",
      "reassign membership, elapsed time: 0.0360000000228 ms\n",
      "reconstruct, elapsed time: 5.21300000003 ms\n",
      "rerender, elapsed time: 2250.081 ms\n",
      "emit move signal, elapsed time: 2250.327 ms\n",
      "move, elapsed time: 2257.091 ms\n",
      "highlight, elapsed time: 0.812999999994 ms\n",
      "get_subset, elapsed time: 0.509999999963 ms\n",
      "reassign membership, elapsed time: 0.0380000000177 ms\n",
      "reconstruct, elapsed time: 4.75799999992 ms\n",
      "rerender, elapsed time: 2458.581 ms\n",
      "emit move signal, elapsed time: 2459.143 ms\n",
      "move, elapsed time: 2465.534 ms\n",
      "highlight, elapsed time: 2.45300000006 ms\n"
     ]
    }
   ],
   "source": [
    "spk_view.show()"
   ]
  },
  {
   "cell_type": "code",
   "execution_count": 38,
   "metadata": {
    "ExecuteTime": {
     "end_time": "2016-08-16T16:51:33.777897",
     "start_time": "2016-08-16T16:51:33.679884"
    },
    "collapsed": false
   },
   "outputs": [
    {
     "data": {
      "text/plain": [
       "array([  131,   237,   818, ..., 13050, 13051, 13054])"
      ]
     },
     "execution_count": 38,
     "metadata": {},
     "output_type": "execute_result"
    }
   ],
   "source": [
    "spk_view.clu[4]"
   ]
  },
  {
   "cell_type": "code",
   "execution_count": null,
   "metadata": {
    "collapsed": true
   },
   "outputs": [],
   "source": []
  }
 ],
 "metadata": {
  "kernelspec": {
   "display_name": "Python [Root]",
   "language": "python",
   "name": "Python [Root]"
  },
  "language_info": {
   "codemirror_mode": {
    "name": "ipython",
    "version": 2
   },
   "file_extension": ".py",
   "mimetype": "text/x-python",
   "name": "python",
   "nbconvert_exporter": "python",
   "pygments_lexer": "ipython2",
   "version": "2.7.12"
  }
 },
 "nbformat": 4,
 "nbformat_minor": 0
}
