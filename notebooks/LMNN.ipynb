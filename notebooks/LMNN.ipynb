{
 "cells": [
  {
   "cell_type": "markdown",
   "metadata": {},
   "source": [
    "## Metric Learning with the Shogun Machine Learning Toolbox"
   ]
  },
  {
   "cell_type": "markdown",
   "metadata": {},
   "source": [
    "#### Building up the intuition to understand LMNN"
   ]
  },
  {
   "cell_type": "markdown",
   "metadata": {},
   "source": [
    "First of all, let us introduce LMNN through a simple example. For this purpose, we will be using the following two-dimensional toy data set:"
   ]
  },
  {
   "cell_type": "code",
   "execution_count": 2,
   "metadata": {
    "ExecuteTime": {
     "end_time": "2016-08-25T17:21:21.828526",
     "start_time": "2016-08-25T17:21:21.484881"
    },
    "collapsed": false
   },
   "outputs": [
    {
     "name": "stdout",
     "output_type": "stream",
     "text": [
      "Populating the interactive namespace from numpy and matplotlib\n"
     ]
    }
   ],
   "source": [
    "%pylab inline"
   ]
  },
  {
   "cell_type": "code",
   "execution_count": 3,
   "metadata": {
    "ExecuteTime": {
     "end_time": "2016-08-25T17:21:25.398818",
     "start_time": "2016-08-25T17:21:25.391522"
    },
    "collapsed": true
   },
   "outputs": [],
   "source": [
    "x = numpy.array([[0,0],[-1,0.1],[0.3,-0.05],[0.7,0.3],[-0.2,-0.6],[-0.15,-0.63],[-0.25,0.55],[-0.28,0.67]])\n",
    "y = numpy.array([0,0,0,0,1,1,2,2])"
   ]
  },
  {
   "cell_type": "markdown",
   "metadata": {},
   "source": [
    "That is, there are eight feature vectors where each of them belongs to one out of three different classes (identified by either 0, 1, or 2). Let us have a look at this data:"
   ]
  },
  {
   "cell_type": "code",
   "execution_count": 4,
   "metadata": {
    "ExecuteTime": {
     "end_time": "2016-08-25T17:21:37.905007",
     "start_time": "2016-08-25T17:21:37.625202"
    },
    "collapsed": false
   },
   "outputs": [
    {
     "data": {
      "image/png": "[encoded data removed]",
      "text/plain": [
       "<matplotlib.figure.Figure at 0x7f12a4ffb890>"
      ]
     },
     "metadata": {},
     "output_type": "display_data"
    }
   ],
   "source": [
    "def plot_data(features,labels,axis,alpha=1.0):\n",
    "    # separate features according to their class\n",
    "    X0,X1,X2 = features[labels==0], features[labels==1], features[labels==2]\n",
    "    \n",
    "    # class 0 data\n",
    "    axis.plot(X0[:,0], X0[:,1], 'o', color='green', markersize=12, alpha=alpha)\n",
    "    # class 1 data\n",
    "    axis.plot(X1[:,0], X1[:,1], 'o', color='red', markersize=12, alpha=alpha)\n",
    "    # class 2 data\n",
    "    axis.plot(X2[:,0], X2[:,1], 'o', color='blue', markersize=12, alpha=alpha)\n",
    "    \n",
    "    # set axes limits\n",
    "    axis.set_xlim(-1.5,1.5)\n",
    "    axis.set_ylim(-1.5,1.5)\n",
    "    axis.set_aspect('equal')\n",
    "    \n",
    "    axis.set_xlabel('x')\n",
    "    axis.set_ylabel('y')\n",
    "\n",
    "figure,axis = pyplot.subplots(1,1)\n",
    "plot_data(x,y,axis)\n",
    "axis.set_title('Toy data set')\n",
    "pyplot.show()"
   ]
  },
  {
   "cell_type": "markdown",
   "metadata": {},
   "source": [
    "In the figure above, we can see that two of the classes are represented by two points that are, for each of these classes, very close to each other. The third class, however, has four points that are close to each other with respect to the y-axis, but spread along the x-axis."
   ]
  },
  {
   "cell_type": "markdown",
   "metadata": {},
   "source": [
    "\n",
    "If we were to apply kNN (k-nearest neighbors) in a data set like this, we would expect quite some errors using the standard Euclidean distance. This is due to the fact that the spread of the data is not similar amongst the feature dimensions. The following piece of code plots an ellipse on top of the data set. The ellipse in this case is in fact a circunference that helps to visualize how the Euclidean distance weights equally both feature dimensions."
   ]
  },
  {
   "cell_type": "code",
   "execution_count": 6,
   "metadata": {
    "ExecuteTime": {
     "end_time": "2016-08-25T17:22:22.221429",
     "start_time": "2016-08-25T17:22:21.992787"
    },
    "collapsed": false
   },
   "outputs": [
    {
     "data": {
      "image/png": "[encoded data removed]",
      "text/plain": [
       "<matplotlib.figure.Figure at 0x7f129fcf6c90>"
      ]
     },
     "metadata": {},
     "output_type": "display_data"
    }
   ],
   "source": [
    "def make_covariance_ellipse(covariance):\n",
    "    import matplotlib.patches as patches\n",
    "    import scipy.linalg       as linalg\n",
    "    \n",
    "    # the ellipse is centered at (0,0)\n",
    "    mean = numpy.array([0,0])\n",
    "    \n",
    "    # eigenvalue decomposition of the covariance matrix (w are eigenvalues and v eigenvectors),\n",
    "    # keeping only the real part\n",
    "    w,v = linalg.eigh(covariance)\n",
    "    # normalize the eigenvector corresponding to the largest eigenvalue\n",
    "    u = v[0]/linalg.norm(v[0])\n",
    "    # angle in degrees\n",
    "    angle = 180.0/numpy.pi*numpy.arctan(u[1]/u[0])\n",
    "    # fill Gaussian ellipse at 2 standard deviation\n",
    "    ellipse = patches.Ellipse(mean, 2*w[0]**0.5, 2*w[1]**0.5, 180+angle, color='orange', alpha=0.3)\n",
    "    \n",
    "    return ellipse\n",
    "\n",
    "# represent the Euclidean distance\n",
    "figure,axis = pyplot.subplots(1,1)\n",
    "plot_data(x,y,axis)\n",
    "ellipse = make_covariance_ellipse(numpy.eye(2))\n",
    "axis.add_artist(ellipse)\n",
    "axis.set_title('Euclidean distance')\n",
    "pyplot.show()"
   ]
  },
  {
   "cell_type": "markdown",
   "metadata": {},
   "source": [
    "A possible workaround to improve the performance of kNN in a data set like this would be to input to the kNN routine a distance measure. For instance, in the example above a good distance measure would give more weight to the y-direction than to the x-direction to account for the large spread along the x-axis. Nonetheless, it would be nicer (and, in fact, much more useful in practice) if this distance could be learnt automatically from the data at hand. Actually, LMNN is based upon this principle: given a number of neighbours k, find the Mahalanobis distance measure which maximizes kNN accuracy (using the given value for k) in a training data set. As we usually do in machine learning, under the assumption that the training data is an accurate enough representation of the underlying process, the distance learnt will not only perform well in the training data, but also have good generalization properties."
   ]
  },
  {
   "cell_type": "markdown",
   "metadata": {},
   "source": [
    "Now, let us use the [LMNN class](http://www.shogun-toolbox.org/doc/en/latest/classshogun_1_1CLMNN.html) implemented in Shogun to find the distance and plot its associated ellipse. If everything goes well, we will see that the new ellipse only overlaps with the data points of the green class."
   ]
  },
  {
   "cell_type": "markdown",
   "metadata": {},
   "source": [
    "First, we need to wrap the data into Shogun's feature and label objects:"
   ]
  },
  {
   "cell_type": "code",
   "execution_count": 47,
   "metadata": {
    "ExecuteTime": {
     "end_time": "2016-08-25T17:59:01.515120",
     "start_time": "2016-08-25T17:59:01.508194"
    },
    "collapsed": false
   },
   "outputs": [
    {
     "data": {
      "text/plain": [
       "(2, 8)"
      ]
     },
     "execution_count": 47,
     "metadata": {},
     "output_type": "execute_result"
    }
   ],
   "source": [
    "x.T.shape"
   ]
  },
  {
   "cell_type": "code",
   "execution_count": 16,
   "metadata": {
    "ExecuteTime": {
     "end_time": "2016-08-25T17:27:02.082882",
     "start_time": "2016-08-25T17:27:01.984125"
    },
    "collapsed": true
   },
   "outputs": [],
   "source": [
    "from modshogun import RealFeatures, MulticlassLabels\n",
    "\n",
    "features = RealFeatures(x.T)\n",
    "labels   = MulticlassLabels(y.astype(numpy.float64))"
   ]
  },
  {
   "cell_type": "markdown",
   "metadata": {},
   "source": [
    "Secondly, perform LMNN training:"
   ]
  },
  {
   "cell_type": "code",
   "execution_count": 39,
   "metadata": {
    "ExecuteTime": {
     "end_time": "2016-08-25T17:35:42.812489",
     "start_time": "2016-08-25T17:35:42.703588"
    },
    "collapsed": true
   },
   "outputs": [],
   "source": [
    "from modshogun import LMNN\n",
    "\n",
    "# number of target neighbours per example\n",
    "k = 1\n",
    "\n",
    "lmnn = LMNN(features,labels,k)\n",
    "# set an initial transform as a start point of the optimization\n",
    "init_transform = numpy.eye(2)\n",
    "lmnn.set_maxiter(5000)\n",
    "lmnn.train(init_transform)"
   ]
  },
  {
   "cell_type": "markdown",
   "metadata": {},
   "source": [
    "LMNN is an iterative algorithm. The argument given to train represents the initial state of the solution. By default, if no argument is given, then LMNN uses PCA to obtain this initial value."
   ]
  },
  {
   "cell_type": "code",
   "execution_count": 40,
   "metadata": {
    "ExecuteTime": {
     "end_time": "2016-08-25T17:35:44.697476",
     "start_time": "2016-08-25T17:35:44.478274"
    },
    "collapsed": false
   },
   "outputs": [
    {
     "data": {
      "image/png": "[encoded data removed]",
      "text/plain": [
       "<matplotlib.figure.Figure at 0x7f129b24c910>"
      ]
     },
     "metadata": {},
     "output_type": "display_data"
    }
   ],
   "source": [
    "# get the linear transform from LMNN\n",
    "L = lmnn.get_linear_transform()\n",
    "# square the linear transform to obtain the Mahalanobis distance matrix\n",
    "M = numpy.matrix(numpy.dot(L.T,L))\n",
    "\n",
    "# represent the distance given by LMNN\n",
    "figure,axis = pyplot.subplots(1,1)\n",
    "plot_data(x,y,axis)\n",
    "ellipse = make_covariance_ellipse(M.I)\n",
    "axis.add_artist(ellipse)\n",
    "axis.set_title('LMNN distance')\n",
    "pyplot.show()"
   ]
  },
  {
   "cell_type": "code",
   "execution_count": null,
   "metadata": {
    "collapsed": true
   },
   "outputs": [],
   "source": []
  },
  {
   "cell_type": "markdown",
   "metadata": {},
   "source": [
    "## Beyond the main idea"
   ]
  },
  {
   "cell_type": "code",
   "execution_count": 44,
   "metadata": {
    "ExecuteTime": {
     "end_time": "2016-08-25T17:36:13.857110",
     "start_time": "2016-08-25T17:36:13.423218"
    },
    "collapsed": false
   },
   "outputs": [
    {
     "data": {
      "text/plain": [
       "<matplotlib.text.Text at 0x7f129b32dc10>"
      ]
     },
     "execution_count": 44,
     "metadata": {},
     "output_type": "execute_result"
    },
    {
     "data": {
      "image/png": "[encoded data removed]",
      "text/plain": [
       "<matplotlib.figure.Figure at 0x7f12a2a57590>"
      ]
     },
     "metadata": {},
     "output_type": "display_data"
    }
   ],
   "source": [
    "# project original data using L\n",
    "lx = numpy.dot(L,x.T)\n",
    "\n",
    "# represent the data in the projected space\n",
    "figure,axis = pyplot.subplots(1,2, figsize=(10,5))\n",
    "plot_data(lx.T,y,axis[0])\n",
    "ellipse0 = make_covariance_ellipse(numpy.eye(2))\n",
    "axis[0].add_artist(ellipse0)\n",
    "axis[0].set_title('LMNN\\'s linear transform')\n",
    "\n",
    "ellipse1 = make_covariance_ellipse(numpy.eye(2))\n",
    "plot_data(x,y,axis[1],1)\n",
    "axis[1].add_artist(ellipse1)\n",
    "axis[1].set_title('original')"
   ]
  },
  {
   "cell_type": "code",
   "execution_count": 45,
   "metadata": {
    "ExecuteTime": {
     "end_time": "2016-08-25T17:36:14.925221",
     "start_time": "2016-08-25T17:36:14.672585"
    },
    "collapsed": false
   },
   "outputs": [
    {
     "data": {
      "text/plain": [
       "<matplotlib.text.Text at 0x7f129b0ca3d0>"
      ]
     },
     "execution_count": 45,
     "metadata": {},
     "output_type": "execute_result"
    },
    {
     "data": {
      "image/png": "[encoded data removed]",
      "text/plain": [
       "<matplotlib.figure.Figure at 0x7f129b38a150>"
      ]
     },
     "metadata": {},
     "output_type": "display_data"
    }
   ],
   "source": [
    "statistics = lmnn.get_statistics()\n",
    "pyplot.plot(statistics.obj.get())\n",
    "pyplot.grid(True)\n",
    "pyplot.xlabel('Number of iterations')\n",
    "pyplot.ylabel('LMNN objective')"
   ]
  },
  {
   "cell_type": "code",
   "execution_count": null,
   "metadata": {
    "collapsed": true
   },
   "outputs": [],
   "source": []
  }
 ],
 "metadata": {
  "kernelspec": {
   "display_name": "Python [Root]",
   "language": "python",
   "name": "Python [Root]"
  },
  "language_info": {
   "codemirror_mode": {
    "name": "ipython",
    "version": 2
   },
   "file_extension": ".py",
   "mimetype": "text/x-python",
   "name": "python",
   "nbconvert_exporter": "python",
   "pygments_lexer": "ipython2",
   "version": "2.7.12"
  }
 },
 "nbformat": 4,
 "nbformat_minor": 0
}
