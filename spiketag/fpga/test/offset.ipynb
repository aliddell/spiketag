{
 "cells": [
  {
   "cell_type": "code",
   "execution_count": 4,
   "metadata": {
    "ExecuteTime": {
     "end_time": "2017-05-02T14:30:39.070921",
     "start_time": "2017-05-02T14:30:38.793571"
    },
    "collapsed": false
   },
   "outputs": [
    {
     "name": "stdout",
     "output_type": "stream",
     "text": [
      "Populating the interactive namespace from numpy and matplotlib\n"
     ]
    }
   ],
   "source": [
    "%pylab inline"
   ]
  },
  {
   "cell_type": "code",
   "execution_count": 1,
   "metadata": {
    "ExecuteTime": {
     "end_time": "2017-05-02T14:30:19.249553",
     "start_time": "2017-05-02T14:30:19.155316"
    },
    "collapsed": true
   },
   "outputs": [],
   "source": [
    "from spiketag.fpga import bram_thres"
   ]
  },
  {
   "cell_type": "code",
   "execution_count": 2,
   "metadata": {
    "ExecuteTime": {
     "end_time": "2017-05-02T14:30:25.099308",
     "start_time": "2017-05-02T14:30:25.094840"
    },
    "collapsed": true
   },
   "outputs": [],
   "source": [
    "dc = bram_thres.offset(nCh=160)"
   ]
  },
  {
   "cell_type": "code",
   "execution_count": 9,
   "metadata": {
    "ExecuteTime": {
     "end_time": "2017-05-02T14:30:52.475956",
     "start_time": "2017-05-02T14:30:52.465474"
    },
    "collapsed": false
   },
   "outputs": [],
   "source": [
    "dc[:] = np.ones((160,))*32"
   ]
  },
  {
   "cell_type": "code",
   "execution_count": 10,
   "metadata": {
    "ExecuteTime": {
     "end_time": "2017-05-02T14:30:52.702272",
     "start_time": "2017-05-02T14:30:52.651319"
    },
    "collapsed": false,
    "scrolled": false
   },
   "outputs": [
    {
     "name": "stdout",
     "output_type": "stream",
     "text": [
      "offset of ch0 is 32.0\n",
      "offset of ch1 is 32.0\n",
      "offset of ch2 is 32.0\n",
      "offset of ch3 is 32.0\n",
      "offset of ch4 is 32.0\n",
      "offset of ch5 is 32.0\n",
      "offset of ch6 is 32.0\n",
      "offset of ch7 is 32.0\n",
      "offset of ch8 is 32.0\n",
      "offset of ch9 is 32.0\n",
      "offset of ch10 is 32.0\n",
      "offset of ch11 is 32.0\n",
      "offset of ch12 is 32.0\n",
      "offset of ch13 is 32.0\n",
      "offset of ch14 is 32.0\n",
      "offset of ch15 is 32.0\n",
      "offset of ch16 is 32.0\n",
      "offset of ch17 is 32.0\n",
      "offset of ch18 is 32.0\n",
      "offset of ch19 is 32.0\n",
      "offset of ch20 is 32.0\n",
      "offset of ch21 is 32.0\n",
      "offset of ch22 is 32.0\n",
      "offset of ch23 is 32.0\n",
      "offset of ch24 is 32.0\n",
      "offset of ch25 is 32.0\n",
      "offset of ch26 is 32.0\n",
      "offset of ch27 is 32.0\n",
      "offset of ch28 is 32.0\n",
      "offset of ch29 is 32.0\n",
      "offset of ch30 is 32.0\n",
      "offset of ch31 is 32.0\n",
      "offset of ch32 is 32.0\n",
      "offset of ch33 is 32.0\n",
      "offset of ch34 is 32.0\n",
      "offset of ch35 is 32.0\n",
      "offset of ch36 is 32.0\n",
      "offset of ch37 is 32.0\n",
      "offset of ch38 is 32.0\n",
      "offset of ch39 is 32.0\n",
      "offset of ch40 is 32.0\n",
      "offset of ch41 is 32.0\n",
      "offset of ch42 is 32.0\n",
      "offset of ch43 is 32.0\n",
      "offset of ch44 is 32.0\n",
      "offset of ch45 is 32.0\n",
      "offset of ch46 is 32.0\n",
      "offset of ch47 is 32.0\n",
      "offset of ch48 is 32.0\n",
      "offset of ch49 is 32.0\n",
      "offset of ch50 is 32.0\n",
      "offset of ch51 is 32.0\n",
      "offset of ch52 is 32.0\n",
      "offset of ch53 is 32.0\n",
      "offset of ch54 is 32.0\n",
      "offset of ch55 is 32.0\n",
      "offset of ch56 is 32.0\n",
      "offset of ch57 is 32.0\n",
      "offset of ch58 is 32.0\n",
      "offset of ch59 is 32.0\n",
      "offset of ch60 is 32.0\n",
      "offset of ch61 is 32.0\n",
      "offset of ch62 is 32.0\n",
      "offset of ch63 is 32.0\n",
      "offset of ch64 is 32.0\n",
      "offset of ch65 is 32.0\n",
      "offset of ch66 is 32.0\n",
      "offset of ch67 is 32.0\n",
      "offset of ch68 is 32.0\n",
      "offset of ch69 is 32.0\n",
      "offset of ch70 is 32.0\n",
      "offset of ch71 is 32.0\n",
      "offset of ch72 is 32.0\n",
      "offset of ch73 is 32.0\n",
      "offset of ch74 is 32.0\n",
      "offset of ch75 is 32.0\n",
      "offset of ch76 is 32.0\n",
      "offset of ch77 is 32.0\n",
      "offset of ch78 is 32.0\n",
      "offset of ch79 is 32.0\n",
      "offset of ch80 is 32.0\n",
      "offset of ch81 is 32.0\n",
      "offset of ch82 is 32.0\n",
      "offset of ch83 is 32.0\n",
      "offset of ch84 is 32.0\n",
      "offset of ch85 is 32.0\n",
      "offset of ch86 is 32.0\n",
      "offset of ch87 is 32.0\n",
      "offset of ch88 is 32.0\n",
      "offset of ch89 is 32.0\n",
      "offset of ch90 is 32.0\n",
      "offset of ch91 is 32.0\n",
      "offset of ch92 is 32.0\n",
      "offset of ch93 is 32.0\n",
      "offset of ch94 is 32.0\n",
      "offset of ch95 is 32.0\n",
      "offset of ch96 is 32.0\n",
      "offset of ch97 is 32.0\n",
      "offset of ch98 is 32.0\n",
      "offset of ch99 is 32.0\n",
      "offset of ch100 is 32.0\n",
      "offset of ch101 is 32.0\n",
      "offset of ch102 is 32.0\n",
      "offset of ch103 is 32.0\n",
      "offset of ch104 is 32.0\n",
      "offset of ch105 is 32.0\n",
      "offset of ch106 is 32.0\n",
      "offset of ch107 is 32.0\n",
      "offset of ch108 is 32.0\n",
      "offset of ch109 is 32.0\n",
      "offset of ch110 is 32.0\n",
      "offset of ch111 is 32.0\n",
      "offset of ch112 is 32.0\n",
      "offset of ch113 is 32.0\n",
      "offset of ch114 is 32.0\n",
      "offset of ch115 is 32.0\n",
      "offset of ch116 is 32.0\n",
      "offset of ch117 is 32.0\n",
      "offset of ch118 is 32.0\n",
      "offset of ch119 is 32.0\n",
      "offset of ch120 is 32.0\n",
      "offset of ch121 is 32.0\n",
      "offset of ch122 is 32.0\n",
      "offset of ch123 is 32.0\n",
      "offset of ch124 is 32.0\n",
      "offset of ch125 is 32.0\n",
      "offset of ch126 is 32.0\n",
      "offset of ch127 is 32.0\n",
      "offset of ch128 is 32.0\n",
      "offset of ch129 is 32.0\n",
      "offset of ch130 is 32.0\n",
      "offset of ch131 is 32.0\n",
      "offset of ch132 is 32.0\n",
      "offset of ch133 is 32.0\n",
      "offset of ch134 is 32.0\n",
      "offset of ch135 is 32.0\n",
      "offset of ch136 is 32.0\n",
      "offset of ch137 is 32.0\n",
      "offset of ch138 is 32.0\n",
      "offset of ch139 is 32.0\n",
      "offset of ch140 is 32.0\n",
      "offset of ch141 is 32.0\n",
      "offset of ch142 is 32.0\n",
      "offset of ch143 is 32.0\n",
      "offset of ch144 is 32.0\n",
      "offset of ch145 is 32.0\n",
      "offset of ch146 is 32.0\n",
      "offset of ch147 is 32.0\n",
      "offset of ch148 is 32.0\n",
      "offset of ch149 is 32.0\n",
      "offset of ch150 is 32.0\n",
      "offset of ch151 is 32.0\n",
      "offset of ch152 is 32.0\n",
      "offset of ch153 is 32.0\n",
      "offset of ch154 is 32.0\n",
      "offset of ch155 is 32.0\n",
      "offset of ch156 is 32.0\n",
      "offset of ch157 is 32.0\n",
      "offset of ch158 is 32.0\n",
      "offset of ch159 is 32.0\n"
     ]
    },
    {
     "data": {
      "text/plain": [
       "offset done"
      ]
     },
     "execution_count": 10,
     "metadata": {},
     "output_type": "execute_result"
    }
   ],
   "source": [
    "dc"
   ]
  },
  {
   "cell_type": "code",
   "execution_count": null,
   "metadata": {
    "collapsed": true
   },
   "outputs": [],
   "source": []
  }
 ],
 "metadata": {
  "kernelspec": {
   "display_name": "Python [conda root]",
   "language": "python",
   "name": "conda-root-py"
  },
  "language_info": {
   "codemirror_mode": {
    "name": "ipython",
    "version": 2
   },
   "file_extension": ".py",
   "mimetype": "text/x-python",
   "name": "python",
   "nbconvert_exporter": "python",
   "pygments_lexer": "ipython2",
   "version": "2.7.13"
  }
 },
 "nbformat": 4,
 "nbformat_minor": 2
}
