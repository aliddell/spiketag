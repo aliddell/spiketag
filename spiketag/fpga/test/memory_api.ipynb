{
 "cells": [
  {
   "cell_type": "code",
   "execution_count": 1,
   "metadata": {
    "ExecuteTime": {
     "end_time": "2017-04-27T22:31:01.575455",
     "start_time": "2017-04-27T22:31:01.482561"
    },
    "collapsed": true
   },
   "outputs": [],
   "source": [
    "import memory_api as mapi"
   ]
  },
  {
   "cell_type": "code",
   "execution_count": 2,
   "metadata": {
    "ExecuteTime": {
     "end_time": "2017-04-27T22:31:01.856294",
     "start_time": "2017-04-27T22:31:01.731299"
    },
    "collapsed": false,
    "scrolled": true
   },
   "outputs": [
    {
     "name": "stdout",
     "output_type": "stream",
     "text": [
      "00000000  00 00 00 00 00 00 00 00  00 00 00 00 00 00 00 00  |................|\r\n",
      "00000010  00 00 00 00 00 00 00 00  00 00 00 00 00 00 00 00  |................|\r\n",
      "00000020  00 00 00 00 00 00 00 00  00 00 00 00 00 00 00 00  |................|\r\n",
      "00000030  00 00 00 00 00 00 00 00  00 00 00 00 00 00 00 00  |................|\r\n",
      "00000040  00 00 00 00 00 00 00 00  00 00 00 00 00 00 00 00  |................|\r\n",
      "00000050  00 00 00 00 00 00 00 00  00 00 00 00 00 00 00 00  |................|\r\n",
      "00000060  00 00 00 00 00 00 00 00  00 00 00 00 00 00 00 00  |................|\r\n",
      "00000070  00 00 00 00 00 00 00 00  00 00 00 00 00 00 00 00  |................|\r\n",
      "00000080\r\n"
     ]
    }
   ],
   "source": [
    "!hexdump -C -v -n 128 /dev/xillybus_mem_16"
   ]
  },
  {
   "cell_type": "markdown",
   "metadata": {},
   "source": [
    "### w/r mem_16 from strach"
   ]
  },
  {
   "cell_type": "code",
   "execution_count": 3,
   "metadata": {
    "ExecuteTime": {
     "end_time": "2017-04-27T22:31:02.196062",
     "start_time": "2017-04-27T22:31:02.191642"
    },
    "collapsed": true
   },
   "outputs": [],
   "source": [
    "import numpy as np\n",
    "import struct\n",
    "from binascii import hexlify\n",
    "import io"
   ]
  },
  {
   "cell_type": "code",
   "execution_count": 5,
   "metadata": {
    "ExecuteTime": {
     "end_time": "2017-03-24T13:58:08.773406",
     "start_time": "2017-03-24T13:58:08.761412"
    },
    "collapsed": true
   },
   "outputs": [],
   "source": [
    "def to_fixed_point(v, dtype='<i4', binpoint=14):\n",
    "    v = int(v * 2**binpoint)\n",
    "    value = hexlify(struct.pack(dtype,v))\n",
    "    # print value\n",
    "    return struct.pack(dtype,v)\n",
    "\n",
    "def to_value(hexstring, dtype='<i4', binpoint=14):\n",
    "    value = struct.unpack(dtype, hexstring)\n",
    "    value = float(value[0]) / 2**binpoint\n",
    "    return value"
   ]
  },
  {
   "cell_type": "code",
   "execution_count": null,
   "metadata": {
    "collapsed": true
   },
   "outputs": [],
   "source": []
  },
  {
   "cell_type": "code",
   "execution_count": 10,
   "metadata": {
    "ExecuteTime": {
     "end_time": "2017-01-03T12:55:45.444810",
     "start_time": "2017-01-03T12:55:45.421007"
    },
    "collapsed": false
   },
   "outputs": [
    {
     "data": {
      "text/plain": [
       "'/groups/apig/home/laic/.jupyter\\\\custom'"
      ]
     },
     "execution_count": 10,
     "metadata": {},
     "output_type": "execute_result"
    }
   ],
   "source": [
    "import jupyter_core;jupyter_core.paths.jupyter_config_dir() + '\\\\custom'"
   ]
  },
  {
   "cell_type": "markdown",
   "metadata": {},
   "source": [
    "Test this part of verilog:\n",
    "\n",
    "\n",
    "```verilog\n",
    "\n",
    "if (user_r_control_regs_16_rden)\n",
    "    begin\n",
    "        case(user_control_regs_16_addr)\n",
    "            5'h00: user_r_control_regs_16_data <= {13'b0, DSP_settle, SPI_run_continuous_in, 1'b0};\n",
    "            5'h01: user_r_control_regs_16_data <= max_timestep_in[15:0];\n",
    "            5'h02: user_r_control_regs_16_data <= max_timestep_in[31:16];\n",
    "            5'h03: user_r_control_regs_16_data <= {dataclk_D[3], dataclk_M, dataclk_O};\n",
    "            5'h04: user_r_control_regs_16_data <= {delay_D, delay_C, delay_B, delay_A};\n",
    "            5'h08: user_r_control_regs_16_data <= {aux_cmd_bank_1_D_in, aux_cmd_bank_1_C_in, aux_cmd_bank_1_B_in, aux_cmd_bank_1_A_in};\n",
    "            5'h09: user_r_control_regs_16_data <= {aux_cmd_bank_2_D_in, aux_cmd_bank_2_C_in, aux_cmd_bank_2_B_in, aux_cmd_bank_2_A_in};\n",
    "            5'h0A: user_r_control_regs_16_data <= {aux_cmd_bank_3_D_in, aux_cmd_bank_3_C_in, aux_cmd_bank_3_B_in, aux_cmd_bank_3_A_in};\n",
    "            5'h0B: user_r_control_regs_16_data <= {6'b0, max_aux_cmd_index_1_in};\n",
    "            5'h0C: user_r_control_regs_16_data <= {6'b0, max_aux_cmd_index_2_in};\n",
    "            5'h0D: user_r_control_regs_16_data <= {6'b0, max_aux_cmd_index_3_in};\n",
    "            5'h0E: user_r_control_regs_16_data <= {6'b0, loop_aux_cmd_index_1};\n",
    "            5'h0F: user_r_control_regs_16_data <= {6'b0, loop_aux_cmd_index_2};\n",
    "            5'h10: user_r_control_regs_16_data <= {6'b0, loop_aux_cmd_index_3};\n",
    "            5'h12: user_r_control_regs_16_data <= {data_stream_4_sel, data_stream_3_sel,  data_stream_2_sel,  data_stream_1_sel};  \n",
    "            5'h13: user_r_control_regs_16_data <= {data_stream_8_sel, data_stream_7_sel,  data_stream_6_sel,  data_stream_5_sel};\n",
    "            5'h14: user_r_control_regs_16_data <= {data_stream_12_sel, data_stream_11_sel,  data_stream_10_sel,  data_stream_9_sel};\n",
    "            5'h15: user_r_control_regs_16_data <= {data_stream_16_sel, data_stream_15_sel,  data_stream_14_sel,  data_stream_13_sel};\n",
    "            5'h16: user_r_control_regs_16_data <= {\n",
    "            data_stream_16_en_in,\n",
    "            data_stream_15_en_in,\n",
    "            data_stream_14_en_in,\n",
    "            data_stream_13_en_in,\n",
    "            data_stream_12_en_in,\n",
    "            data_stream_11_en_in,\n",
    "            data_stream_10_en_in,\n",
    "            data_stream_9_en_in,\n",
    "            data_stream_8_en_in,\n",
    "            data_stream_7_en_in,\n",
    "            data_stream_6_en_in,\n",
    "            data_stream_5_en_in,\n",
    "            data_stream_4_en_in,\n",
    "            data_stream_3_en_in,\n",
    "            data_stream_2_en_in,\n",
    "            data_stream_1_en_in\n",
    "            };\n",
    "            5'h17: user_r_control_regs_16_data <= aux_output;\n",
    "            default:  user_r_control_regs_16_data <= 16'b0;\n",
    "        endcase\n",
    "    end\n",
    "end\n",
    "\n",
    "```\n"
   ]
  },
  {
   "cell_type": "markdown",
   "metadata": {},
   "source": [
    "*open bidirectional memory as mode `rb+`, you should see reset led off*"
   ]
  },
  {
   "cell_type": "code",
   "execution_count": 12,
   "metadata": {
    "ExecuteTime": {
     "end_time": "2017-03-24T13:58:52.024799",
     "start_time": "2017-03-24T13:58:52.020424"
    },
    "collapsed": false
   },
   "outputs": [],
   "source": [
    "reg16 = open('/dev/xillybus_mem_16', 'rb+')"
   ]
  },
  {
   "cell_type": "markdown",
   "metadata": {},
   "source": [
    "*There are 32 address for `xillybus_control_regs_16`*"
   ]
  },
  {
   "cell_type": "code",
   "execution_count": 14,
   "metadata": {
    "ExecuteTime": {
     "end_time": "2017-03-24T13:58:58.399671",
     "start_time": "2017-03-24T13:58:58.394304"
    },
    "collapsed": false,
    "scrolled": true
   },
   "outputs": [],
   "source": [
    "addrs = np.arange(0,63,2).astype(int)\n",
    "value = to_fixed_point(78, '<h', 0)"
   ]
  },
  {
   "cell_type": "markdown",
   "metadata": {},
   "source": [
    "*write the registers, you should see long led pattern*"
   ]
  },
  {
   "cell_type": "code",
   "execution_count": 15,
   "metadata": {
    "ExecuteTime": {
     "end_time": "2017-03-24T13:58:59.418255",
     "start_time": "2017-03-24T13:58:59.411601"
    },
    "collapsed": false
   },
   "outputs": [],
   "source": [
    "i = 2\n",
    "reg16.seek(addrs[i])\n",
    "reg16.write(value)\n",
    "reg16.flush()"
   ]
  },
  {
   "cell_type": "markdown",
   "metadata": {},
   "source": [
    "*read the registers, you should see short led pattern*"
   ]
  },
  {
   "cell_type": "code",
   "execution_count": 16,
   "metadata": {
    "ExecuteTime": {
     "end_time": "2017-03-24T13:59:01.723146",
     "start_time": "2017-03-24T13:59:01.715372"
    },
    "collapsed": false
   },
   "outputs": [
    {
     "data": {
      "text/plain": [
       "'N\\x00'"
      ]
     },
     "execution_count": 16,
     "metadata": {},
     "output_type": "execute_result"
    }
   ],
   "source": [
    "reg16.seek(addrs[i])\n",
    "hexstring = reg16.read(2)\n",
    "hexstring"
   ]
  },
  {
   "cell_type": "code",
   "execution_count": 17,
   "metadata": {
    "ExecuteTime": {
     "end_time": "2017-03-24T13:59:02.799043",
     "start_time": "2017-03-24T13:59:02.793344"
    },
    "collapsed": false
   },
   "outputs": [
    {
     "name": "stdout",
     "output_type": "stream",
     "text": [
      "78.0\n"
     ]
    }
   ],
   "source": [
    "return_val = to_value(value, '<h', 0)\n",
    "print return_val"
   ]
  },
  {
   "cell_type": "markdown",
   "metadata": {},
   "source": [
    "*close device, you should see reset led on*"
   ]
  },
  {
   "cell_type": "code",
   "execution_count": 18,
   "metadata": {
    "ExecuteTime": {
     "end_time": "2017-03-24T13:59:05.079312",
     "start_time": "2017-03-24T13:59:05.075029"
    },
    "collapsed": false
   },
   "outputs": [],
   "source": [
    "reg16.close()"
   ]
  },
  {
   "cell_type": "markdown",
   "metadata": {},
   "source": [
    "### w/r mem_16 from api"
   ]
  },
  {
   "cell_type": "code",
   "execution_count": 4,
   "metadata": {
    "ExecuteTime": {
     "end_time": "2017-04-27T22:31:07.134009",
     "start_time": "2017-04-27T22:31:07.129331"
    },
    "collapsed": true
   },
   "outputs": [],
   "source": [
    "from memory_api import read_mem_16, write_mem_16, mem_reset"
   ]
  },
  {
   "cell_type": "code",
   "execution_count": 5,
   "metadata": {
    "ExecuteTime": {
     "end_time": "2017-04-27T22:31:08.099061",
     "start_time": "2017-04-27T22:31:08.094934"
    },
    "collapsed": false
   },
   "outputs": [],
   "source": [
    "write_mem_16(0,1)"
   ]
  },
  {
   "cell_type": "code",
   "execution_count": 6,
   "metadata": {
    "ExecuteTime": {
     "end_time": "2017-04-27T22:31:09.101715",
     "start_time": "2017-04-27T22:31:09.081560"
    },
    "collapsed": false,
    "scrolled": true
   },
   "outputs": [
    {
     "data": {
      "text/plain": [
       "1"
      ]
     },
     "execution_count": 6,
     "metadata": {},
     "output_type": "execute_result"
    }
   ],
   "source": [
    "read_mem_16(0)"
   ]
  },
  {
   "cell_type": "code",
   "execution_count": 7,
   "metadata": {
    "ExecuteTime": {
     "end_time": "2017-04-27T22:31:09.746763",
     "start_time": "2017-04-27T22:31:09.628342"
    },
    "collapsed": false
   },
   "outputs": [
    {
     "name": "stdout",
     "output_type": "stream",
     "text": [
      "00000000  01 00 00 00 00 00 00 00  00 00 00 00 00 00 00 00  |................|\r\n",
      "00000010  00 00 00 00 00 00 00 00  00 00 00 00 00 00 00 00  |................|\r\n",
      "00000020  00 00 00 00 00 00 00 00  00 00 00 00 00 00 00 00  |................|\r\n",
      "00000030  00 00 00 00 00 00 00 00  00 00 00 00 00 00 00 00  |................|\r\n",
      "00000040  01 00 00 00 00 00 00 00  00 00 00 00 00 00 00 00  |................|\r\n",
      "00000050  00 00 00 00 00 00 00 00  00 00 00 00 00 00 00 00  |................|\r\n",
      "00000060  00 00 00 00 00 00 00 00  00 00 00 00 00 00 00 00  |................|\r\n",
      "00000070  00 00 00 00 00 00 00 00  00 00 00 00 00 00 00 00  |................|\r\n",
      "00000080\r\n"
     ]
    }
   ],
   "source": [
    "!hexdump -C -v -n 128 /dev/xillybus_mem_16"
   ]
  },
  {
   "cell_type": "code",
   "execution_count": null,
   "metadata": {
    "collapsed": true
   },
   "outputs": [],
   "source": []
  },
  {
   "cell_type": "markdown",
   "metadata": {},
   "source": [
    "### Load data"
   ]
  },
  {
   "cell_type": "code",
   "execution_count": 3,
   "metadata": {
    "ExecuteTime": {
     "end_time": "2017-04-12T18:31:02.362983",
     "start_time": "2017-04-12T18:31:01.925304"
    },
    "collapsed": true
   },
   "outputs": [],
   "source": [
    "from spiketag.base.Binload import bload"
   ]
  },
  {
   "cell_type": "code",
   "execution_count": 2,
   "metadata": {
    "ExecuteTime": {
     "end_time": "2017-03-30T23:40:13.201991",
     "start_time": "2017-03-30T23:40:13.183354"
    },
    "collapsed": false,
    "scrolled": false
   },
   "outputs": [
    {
     "name": "stdout",
     "output_type": "stream",
     "text": [
      "#############  load data  ###################\n",
      "/mnt/ramdisk/pcie.bin loaded, it contains: \n",
      "610322 * 32 points (78121216 bytes) \n",
      "32 channels with sampling rate of 25000.0000 \n",
      "24.413 secs (0.407 mins) of data\n",
      "#############################################\n"
     ]
    }
   ],
   "source": [
    "nCh = 32\n",
    "fs  = 25000\n",
    "bf = bload(nCh=nCh, fs=fs)\n",
    "bf.load('/mnt/ramdisk/pcie.bin', dtype='int32')"
   ]
  },
  {
   "cell_type": "code",
   "execution_count": 3,
   "metadata": {
    "ExecuteTime": {
     "end_time": "2017-03-30T23:40:14.346287",
     "start_time": "2017-03-30T23:40:14.226185"
    },
    "collapsed": false
   },
   "outputs": [
    {
     "ename": "NameError",
     "evalue": "name 'vectorize' is not defined",
     "output_type": "error",
     "traceback": [
      "\u001b[0;31m---------------------------------------------------------------------------\u001b[0m",
      "\u001b[0;31mNameError\u001b[0m                                 Traceback (most recent call last)",
      "\u001b[0;32m<ipython-input-3-1dc46d50ab46>\u001b[0m in \u001b[0;36m<module>\u001b[0;34m()\u001b[0m\n\u001b[0;32m----> 1\u001b[0;31m \u001b[0;34m@\u001b[0m\u001b[0mvectorize\u001b[0m\u001b[0;34m\u001b[0m\u001b[0m\n\u001b[0m\u001b[1;32m      2\u001b[0m \u001b[0;32mdef\u001b[0m \u001b[0mtwoscomplement\u001b[0m\u001b[0;34m(\u001b[0m\u001b[0mx\u001b[0m\u001b[0;34m,\u001b[0m \u001b[0mhexlen\u001b[0m\u001b[0;34m=\u001b[0m\u001b[0;36m8\u001b[0m\u001b[0;34m)\u001b[0m\u001b[0;34m:\u001b[0m\u001b[0;34m\u001b[0m\u001b[0m\n\u001b[1;32m      3\u001b[0m     \u001b[0;32mif\u001b[0m \u001b[0mx\u001b[0m \u001b[0;34m<\u001b[0m \u001b[0;36m0\u001b[0m\u001b[0;34m:\u001b[0m\u001b[0;34m\u001b[0m\u001b[0m\n\u001b[1;32m      4\u001b[0m         \u001b[0mh\u001b[0m \u001b[0;34m=\u001b[0m \u001b[0;34m(\u001b[0m\u001b[0;34m(\u001b[0m\u001b[0mabs\u001b[0m\u001b[0;34m(\u001b[0m\u001b[0mx\u001b[0m\u001b[0;34m)\u001b[0m \u001b[0;34m^\u001b[0m \u001b[0;36m0xffffffff\u001b[0m\u001b[0;34m)\u001b[0m \u001b[0;34m+\u001b[0m \u001b[0;36m1\u001b[0m\u001b[0;34m)\u001b[0m \u001b[0;34m&\u001b[0m \u001b[0;36m0xffffffff\u001b[0m\u001b[0;34m\u001b[0m\u001b[0m\n\u001b[1;32m      5\u001b[0m         \u001b[0ms\u001b[0m \u001b[0;34m=\u001b[0m \u001b[0;34m\"{0:#0{1}x}\"\u001b[0m\u001b[0;34m.\u001b[0m\u001b[0mformat\u001b[0m\u001b[0;34m(\u001b[0m\u001b[0mh\u001b[0m\u001b[0;34m,\u001b[0m\u001b[0mhexlen\u001b[0m\u001b[0;34m+\u001b[0m\u001b[0;36m2\u001b[0m\u001b[0;34m)\u001b[0m\u001b[0;34m\u001b[0m\u001b[0m\n",
      "\u001b[0;31mNameError\u001b[0m: name 'vectorize' is not defined"
     ]
    }
   ],
   "source": [
    "@vectorize\n",
    "def twoscomplement(x, hexlen=8):\n",
    "    if x < 0:\n",
    "        h = ((abs(x) ^ 0xffffffff) + 1) & 0xffffffff\n",
    "        s = \"{0:#0{1}x}\".format(h,hexlen+2)\n",
    "    else:\n",
    "        s = \"{0:#0{1}x}\".format(x,hexlen+2)\n",
    "    return s"
   ]
  },
  {
   "cell_type": "code",
   "execution_count": 4,
   "metadata": {
    "ExecuteTime": {
     "end_time": "2017-03-30T23:40:14.915127",
     "start_time": "2017-03-30T23:40:14.901804"
    },
    "collapsed": false,
    "scrolled": true
   },
   "outputs": [
    {
     "ename": "NameError",
     "evalue": "name 'twoscomplement' is not defined",
     "output_type": "error",
     "traceback": [
      "\u001b[0;31m---------------------------------------------------------------------------\u001b[0m",
      "\u001b[0;31mNameError\u001b[0m                                 Traceback (most recent call last)",
      "\u001b[0;32m<ipython-input-4-92b9126324aa>\u001b[0m in \u001b[0;36m<module>\u001b[0;34m()\u001b[0m\n\u001b[0;32m----> 1\u001b[0;31m \u001b[0mtwoscomplement\u001b[0m\u001b[0;34m(\u001b[0m\u001b[0mbf\u001b[0m\u001b[0;34m.\u001b[0m\u001b[0mnpmm\u001b[0m\u001b[0;34m[\u001b[0m\u001b[0;34m:\u001b[0m\u001b[0;36m4\u001b[0m\u001b[0;34m]\u001b[0m\u001b[0;34m)\u001b[0m\u001b[0;34m\u001b[0m\u001b[0m\n\u001b[0m",
      "\u001b[0;31mNameError\u001b[0m: name 'twoscomplement' is not defined"
     ]
    }
   ],
   "source": [
    "twoscomplement(bf.npmm[:4])"
   ]
  },
  {
   "cell_type": "code",
   "execution_count": 5,
   "metadata": {
    "ExecuteTime": {
     "end_time": "2017-03-30T23:40:20.593088",
     "start_time": "2017-03-30T23:40:20.588801"
    },
    "collapsed": false
   },
   "outputs": [],
   "source": [
    "x = bf.npmm.reshape(-1,32)"
   ]
  },
  {
   "cell_type": "code",
   "execution_count": 6,
   "metadata": {
    "ExecuteTime": {
     "end_time": "2017-03-30T23:40:22.072055",
     "start_time": "2017-03-30T23:40:21.690296"
    },
    "collapsed": false
   },
   "outputs": [
    {
     "name": "stdout",
     "output_type": "stream",
     "text": [
      "Populating the interactive namespace from numpy and matplotlib\n"
     ]
    }
   ],
   "source": [
    "%pylab inline"
   ]
  },
  {
   "cell_type": "code",
   "execution_count": 7,
   "metadata": {
    "ExecuteTime": {
     "end_time": "2017-03-30T23:40:23.603668",
     "start_time": "2017-03-30T23:40:23.596054"
    },
    "collapsed": false
   },
   "outputs": [
    {
     "data": {
      "text/plain": [
       "(610322, 32)"
      ]
     },
     "execution_count": 7,
     "metadata": {},
     "output_type": "execute_result"
    }
   ],
   "source": [
    "x.shape"
   ]
  },
  {
   "cell_type": "code",
   "execution_count": 8,
   "metadata": {
    "ExecuteTime": {
     "end_time": "2017-03-30T23:40:24.534520",
     "start_time": "2017-03-30T23:40:24.529482"
    },
    "collapsed": false
   },
   "outputs": [
    {
     "data": {
      "text/plain": [
       "19530304"
      ]
     },
     "execution_count": 8,
     "metadata": {},
     "output_type": "execute_result"
    }
   ],
   "source": [
    "x.shape[0]*x.shape[1]"
   ]
  },
  {
   "cell_type": "code",
   "execution_count": 9,
   "metadata": {
    "ExecuteTime": {
     "end_time": "2017-03-30T23:40:25.904130",
     "start_time": "2017-03-30T23:40:25.663204"
    },
    "collapsed": false,
    "scrolled": false
   },
   "outputs": [
    {
     "data": {
      "text/plain": [
       "[<matplotlib.lines.Line2D at 0x7f2180bca190>]"
      ]
     },
     "execution_count": 9,
     "metadata": {},
     "output_type": "execute_result"
    },
    {
     "data": {
      "image/png": "[encoded data removed]",
      "text/plain": [
       "<matplotlib.figure.Figure at 0x7f21e57fa350>"
      ]
     },
     "metadata": {},
     "output_type": "display_data"
    }
   ],
   "source": [
    "plot(x[0:5000,31])"
   ]
  },
  {
   "cell_type": "code",
   "execution_count": 10,
   "metadata": {
    "ExecuteTime": {
     "end_time": "2017-03-30T23:40:31.587581",
     "start_time": "2017-03-30T23:40:31.582747"
    },
    "collapsed": true
   },
   "outputs": [],
   "source": [
    "%gui qt"
   ]
  },
  {
   "cell_type": "code",
   "execution_count": 11,
   "metadata": {
    "ExecuteTime": {
     "end_time": "2017-03-30T23:40:32.656387",
     "start_time": "2017-03-30T23:40:32.495075"
    },
    "collapsed": true
   },
   "outputs": [],
   "source": [
    "from spiketag.view import wave_view"
   ]
  },
  {
   "cell_type": "code",
   "execution_count": 12,
   "metadata": {
    "ExecuteTime": {
     "end_time": "2017-03-30T23:40:33.490098",
     "start_time": "2017-03-30T23:40:33.360242"
    },
    "collapsed": false
   },
   "outputs": [
    {
     "ename": "RuntimeError",
     "evalue": "context could not be created",
     "output_type": "error",
     "traceback": [
      "\u001b[0;31m---------------------------------------------------------------------------\u001b[0m",
      "\u001b[0;31mRuntimeError\u001b[0m                              Traceback (most recent call last)",
      "\u001b[0;32m<ipython-input-12-bf677c1f6b55>\u001b[0m in \u001b[0;36m<module>\u001b[0;34m()\u001b[0m\n\u001b[0;32m----> 1\u001b[0;31m \u001b[0mwview\u001b[0m \u001b[0;34m=\u001b[0m \u001b[0mwave_view\u001b[0m\u001b[0;34m(\u001b[0m\u001b[0mx\u001b[0m\u001b[0;34m[\u001b[0m\u001b[0;34m:\u001b[0m\u001b[0;36m600000\u001b[0m\u001b[0;34m,\u001b[0m\u001b[0;34m:\u001b[0m\u001b[0;34m]\u001b[0m\u001b[0;34m,\u001b[0m \u001b[0mfs\u001b[0m\u001b[0;34m=\u001b[0m\u001b[0mfs\u001b[0m\u001b[0;34m,\u001b[0m \u001b[0mncols\u001b[0m\u001b[0;34m=\u001b[0m\u001b[0;36m1\u001b[0m\u001b[0;34m)\u001b[0m\u001b[0;34m\u001b[0m\u001b[0m\n\u001b[0m",
      "\u001b[0;32m/disk0/Work/pyproj/spiketag/spiketag/view/wave_view.pyc\u001b[0m in \u001b[0;36m__init__\u001b[0;34m(self, data, color, fs, ncols, gap_value, ls)\u001b[0m\n\u001b[1;32m    149\u001b[0m     '''\n\u001b[1;32m    150\u001b[0m     \u001b[0;32mdef\u001b[0m \u001b[0m__init__\u001b[0m\u001b[0;34m(\u001b[0m\u001b[0mself\u001b[0m\u001b[0;34m,\u001b[0m \u001b[0mdata\u001b[0m\u001b[0;34m,\u001b[0m \u001b[0mcolor\u001b[0m\u001b[0;34m=\u001b[0m\u001b[0mNone\u001b[0m\u001b[0;34m,\u001b[0m \u001b[0mfs\u001b[0m\u001b[0;34m=\u001b[0m\u001b[0;36m25000.0\u001b[0m\u001b[0;34m,\u001b[0m \u001b[0mncols\u001b[0m\u001b[0;34m=\u001b[0m\u001b[0;36m1\u001b[0m\u001b[0;34m,\u001b[0m \u001b[0mgap_value\u001b[0m\u001b[0;34m=\u001b[0m\u001b[0;36m0.5\u001b[0m\u001b[0;34m*\u001b[0m\u001b[0;36m0.95\u001b[0m\u001b[0;34m,\u001b[0m \u001b[0mls\u001b[0m\u001b[0;34m=\u001b[0m\u001b[0;34m'-'\u001b[0m\u001b[0;34m)\u001b[0m\u001b[0;34m:\u001b[0m\u001b[0;34m\u001b[0m\u001b[0m\n\u001b[0;32m--> 151\u001b[0;31m         \u001b[0mscene\u001b[0m\u001b[0;34m.\u001b[0m\u001b[0mSceneCanvas\u001b[0m\u001b[0;34m.\u001b[0m\u001b[0m__init__\u001b[0m\u001b[0;34m(\u001b[0m\u001b[0mself\u001b[0m\u001b[0;34m,\u001b[0m \u001b[0mkeys\u001b[0m\u001b[0;34m=\u001b[0m\u001b[0mNone\u001b[0m\u001b[0;34m)\u001b[0m\u001b[0;34m\u001b[0m\u001b[0m\n\u001b[0m\u001b[1;32m    152\u001b[0m         \u001b[0mself\u001b[0m\u001b[0;34m.\u001b[0m\u001b[0munfreeze\u001b[0m\u001b[0;34m(\u001b[0m\u001b[0;34m)\u001b[0m\u001b[0;34m\u001b[0m\u001b[0m\n\u001b[1;32m    153\u001b[0m         self.grid1 = self.central_widget.add_grid(spacing=0, bgcolor='gray',\n",
      "\u001b[0;32m/disk0/Work/pyproj/vispy/vispy/scene/canvas.pyc\u001b[0m in \u001b[0;36m__init__\u001b[0;34m(self, title, size, position, show, autoswap, app, create_native, vsync, resizable, decorate, fullscreen, config, shared, keys, parent, dpi, always_on_top, px_scale, bgcolor)\u001b[0m\n\u001b[1;32m    134\u001b[0m             \u001b[0mtitle\u001b[0m\u001b[0;34m,\u001b[0m \u001b[0msize\u001b[0m\u001b[0;34m,\u001b[0m \u001b[0mposition\u001b[0m\u001b[0;34m,\u001b[0m \u001b[0mshow\u001b[0m\u001b[0;34m,\u001b[0m \u001b[0mautoswap\u001b[0m\u001b[0;34m,\u001b[0m \u001b[0mapp\u001b[0m\u001b[0;34m,\u001b[0m \u001b[0mcreate_native\u001b[0m\u001b[0;34m,\u001b[0m \u001b[0mvsync\u001b[0m\u001b[0;34m,\u001b[0m\u001b[0;34m\u001b[0m\u001b[0m\n\u001b[1;32m    135\u001b[0m             \u001b[0mresizable\u001b[0m\u001b[0;34m,\u001b[0m \u001b[0mdecorate\u001b[0m\u001b[0;34m,\u001b[0m \u001b[0mfullscreen\u001b[0m\u001b[0;34m,\u001b[0m \u001b[0mconfig\u001b[0m\u001b[0;34m,\u001b[0m \u001b[0mshared\u001b[0m\u001b[0;34m,\u001b[0m \u001b[0mkeys\u001b[0m\u001b[0;34m,\u001b[0m \u001b[0mparent\u001b[0m\u001b[0;34m,\u001b[0m \u001b[0mdpi\u001b[0m\u001b[0;34m,\u001b[0m\u001b[0;34m\u001b[0m\u001b[0m\n\u001b[0;32m--> 136\u001b[0;31m             always_on_top, px_scale)\n\u001b[0m\u001b[1;32m    137\u001b[0m         \u001b[0mself\u001b[0m\u001b[0;34m.\u001b[0m\u001b[0mevents\u001b[0m\u001b[0;34m.\u001b[0m\u001b[0mmouse_press\u001b[0m\u001b[0;34m.\u001b[0m\u001b[0mconnect\u001b[0m\u001b[0;34m(\u001b[0m\u001b[0mself\u001b[0m\u001b[0;34m.\u001b[0m\u001b[0m_process_mouse_event\u001b[0m\u001b[0;34m)\u001b[0m\u001b[0;34m\u001b[0m\u001b[0m\n\u001b[1;32m    138\u001b[0m         \u001b[0mself\u001b[0m\u001b[0;34m.\u001b[0m\u001b[0mevents\u001b[0m\u001b[0;34m.\u001b[0m\u001b[0mmouse_move\u001b[0m\u001b[0;34m.\u001b[0m\u001b[0mconnect\u001b[0m\u001b[0;34m(\u001b[0m\u001b[0mself\u001b[0m\u001b[0;34m.\u001b[0m\u001b[0m_process_mouse_event\u001b[0m\u001b[0;34m)\u001b[0m\u001b[0;34m\u001b[0m\u001b[0m\n",
      "\u001b[0;32m/disk0/Work/pyproj/vispy/vispy/app/canvas.pyc\u001b[0m in \u001b[0;36m__init__\u001b[0;34m(self, title, size, position, show, autoswap, app, create_native, vsync, resizable, decorate, fullscreen, config, shared, keys, parent, dpi, always_on_top, px_scale)\u001b[0m\n\u001b[1;32m    203\u001b[0m         \u001b[0;31m# Create widget now (always do this *last*, after all err checks)\u001b[0m\u001b[0;34m\u001b[0m\u001b[0;34m\u001b[0m\u001b[0m\n\u001b[1;32m    204\u001b[0m         \u001b[0;32mif\u001b[0m \u001b[0mcreate_native\u001b[0m\u001b[0;34m:\u001b[0m\u001b[0;34m\u001b[0m\u001b[0m\n\u001b[0;32m--> 205\u001b[0;31m             \u001b[0mself\u001b[0m\u001b[0;34m.\u001b[0m\u001b[0mcreate_native\u001b[0m\u001b[0;34m(\u001b[0m\u001b[0;34m)\u001b[0m\u001b[0;34m\u001b[0m\u001b[0m\n\u001b[0m\u001b[1;32m    206\u001b[0m \u001b[0;34m\u001b[0m\u001b[0m\n\u001b[1;32m    207\u001b[0m             \u001b[0;31m# Now we're ready to become current\u001b[0m\u001b[0;34m\u001b[0m\u001b[0;34m\u001b[0m\u001b[0m\n",
      "\u001b[0;32m/disk0/Work/pyproj/vispy/vispy/app/canvas.pyc\u001b[0m in \u001b[0;36mcreate_native\u001b[0;34m(self)\u001b[0m\n\u001b[1;32m    220\u001b[0m         \u001b[0;32massert\u001b[0m \u001b[0mself\u001b[0m\u001b[0;34m.\u001b[0m\u001b[0m_app\u001b[0m\u001b[0;34m.\u001b[0m\u001b[0mnative\u001b[0m\u001b[0;34m\u001b[0m\u001b[0m\n\u001b[1;32m    221\u001b[0m         \u001b[0;31m# Instantiate the backend with the right class\u001b[0m\u001b[0;34m\u001b[0m\u001b[0;34m\u001b[0m\u001b[0m\n\u001b[0;32m--> 222\u001b[0;31m         \u001b[0mself\u001b[0m\u001b[0;34m.\u001b[0m\u001b[0m_app\u001b[0m\u001b[0;34m.\u001b[0m\u001b[0mbackend_module\u001b[0m\u001b[0;34m.\u001b[0m\u001b[0mCanvasBackend\u001b[0m\u001b[0;34m(\u001b[0m\u001b[0mself\u001b[0m\u001b[0;34m,\u001b[0m \u001b[0;34m**\u001b[0m\u001b[0mself\u001b[0m\u001b[0;34m.\u001b[0m\u001b[0m_backend_kwargs\u001b[0m\u001b[0;34m)\u001b[0m\u001b[0;34m\u001b[0m\u001b[0m\n\u001b[0m\u001b[1;32m    223\u001b[0m         \u001b[0;31m# self._backend = set by BaseCanvasBackend\u001b[0m\u001b[0;34m\u001b[0m\u001b[0;34m\u001b[0m\u001b[0m\n\u001b[1;32m    224\u001b[0m         \u001b[0mself\u001b[0m\u001b[0;34m.\u001b[0m\u001b[0m_backend_kwargs\u001b[0m \u001b[0;34m=\u001b[0m \u001b[0mNone\u001b[0m  \u001b[0;31m# Clean up\u001b[0m\u001b[0;34m\u001b[0m\u001b[0m\n",
      "\u001b[0;32m/disk0/Work/pyproj/vispy/vispy/app/backends/_qt.pyc\u001b[0m in \u001b[0;36m__init__\u001b[0;34m(self, *args, **kwargs)\u001b[0m\n\u001b[1;32m    261\u001b[0m \u001b[0;34m\u001b[0m\u001b[0m\n\u001b[1;32m    262\u001b[0m         \u001b[0;31m# Init in desktop GL or EGL way\u001b[0m\u001b[0;34m\u001b[0m\u001b[0;34m\u001b[0m\u001b[0m\n\u001b[0;32m--> 263\u001b[0;31m         \u001b[0mself\u001b[0m\u001b[0;34m.\u001b[0m\u001b[0m_init_specific\u001b[0m\u001b[0;34m(\u001b[0m\u001b[0mp\u001b[0m\u001b[0;34m,\u001b[0m \u001b[0mkwargs\u001b[0m\u001b[0;34m)\u001b[0m\u001b[0;34m\u001b[0m\u001b[0m\n\u001b[0m\u001b[1;32m    264\u001b[0m         \u001b[0;32massert\u001b[0m \u001b[0mself\u001b[0m\u001b[0;34m.\u001b[0m\u001b[0m_initialized\u001b[0m\u001b[0;34m\u001b[0m\u001b[0m\n\u001b[1;32m    265\u001b[0m \u001b[0;34m\u001b[0m\u001b[0m\n",
      "\u001b[0;32m/disk0/Work/pyproj/vispy/vispy/app/backends/_qt.pyc\u001b[0m in \u001b[0;36m_init_specific\u001b[0;34m(self, p, kwargs)\u001b[0m\n\u001b[1;32m    616\u001b[0m         \u001b[0mself\u001b[0m\u001b[0;34m.\u001b[0m\u001b[0m_initialized\u001b[0m \u001b[0;34m=\u001b[0m \u001b[0mTrue\u001b[0m\u001b[0;34m\u001b[0m\u001b[0m\n\u001b[1;32m    617\u001b[0m         \u001b[0;32mif\u001b[0m \u001b[0;32mnot\u001b[0m \u001b[0mself\u001b[0m\u001b[0;34m.\u001b[0m\u001b[0misValid\u001b[0m\u001b[0;34m(\u001b[0m\u001b[0;34m)\u001b[0m\u001b[0;34m:\u001b[0m\u001b[0;34m\u001b[0m\u001b[0m\n\u001b[0;32m--> 618\u001b[0;31m             \u001b[0;32mraise\u001b[0m \u001b[0mRuntimeError\u001b[0m\u001b[0;34m(\u001b[0m\u001b[0;34m'context could not be created'\u001b[0m\u001b[0;34m)\u001b[0m\u001b[0;34m\u001b[0m\u001b[0m\n\u001b[0m\u001b[1;32m    619\u001b[0m         \u001b[0mself\u001b[0m\u001b[0;34m.\u001b[0m\u001b[0msetAutoBufferSwap\u001b[0m\u001b[0;34m(\u001b[0m\u001b[0mFalse\u001b[0m\u001b[0;34m)\u001b[0m  \u001b[0;31m# to make consistent with other backends\u001b[0m\u001b[0;34m\u001b[0m\u001b[0m\n\u001b[1;32m    620\u001b[0m         \u001b[0mself\u001b[0m\u001b[0;34m.\u001b[0m\u001b[0msetFocusPolicy\u001b[0m\u001b[0;34m(\u001b[0m\u001b[0mQtCore\u001b[0m\u001b[0;34m.\u001b[0m\u001b[0mQt\u001b[0m\u001b[0;34m.\u001b[0m\u001b[0mWheelFocus\u001b[0m\u001b[0;34m)\u001b[0m\u001b[0;34m\u001b[0m\u001b[0m\n",
      "\u001b[0;31mRuntimeError\u001b[0m: context could not be created"
     ]
    }
   ],
   "source": [
    "wview = wave_view(x[:600000,:], fs=fs, ncols=1)"
   ]
  },
  {
   "cell_type": "code",
   "execution_count": 161,
   "metadata": {
    "ExecuteTime": {
     "end_time": "2017-03-30T16:00:11.355105",
     "start_time": "2017-03-30T16:00:11.341980"
    },
    "collapsed": false
   },
   "outputs": [
    {
     "name": "stderr",
     "output_type": "stream",
     "text": [
      "ERROR: Invoking <bound method wave_view.update_cursor of <wave_view (PyQt4) at 0x7fd592f2c310>> repeat 8192\n",
      "WARNING: Traceback (most recent call last):\n",
      "  File \"/disk0/anaconda2/lib/python2.7/runpy.py\", line 174, in _run_module_as_main\n",
      "    \"__main__\", fname, loader, pkg_name)\n",
      "  File \"/disk0/anaconda2/lib/python2.7/runpy.py\", line 72, in _run_code\n",
      "    exec code in run_globals\n",
      "  File \"/disk0/anaconda2/lib/python2.7/site-packages/ipykernel/__main__.py\", line 3, in <module>\n",
      "    app.launch_new_instance()\n",
      "  File \"/disk0/anaconda2/lib/python2.7/site-packages/traitlets/config/application.py\", line 658, in launch_instance\n",
      "    app.start()\n",
      "  File \"/disk0/anaconda2/lib/python2.7/site-packages/ipykernel/kernelapp.py\", line 474, in start\n",
      "    ioloop.IOLoop.instance().start()\n",
      "  File \"/disk0/anaconda2/lib/python2.7/site-packages/zmq/eventloop/ioloop.py\", line 177, in start\n",
      "    super(ZMQIOLoop, self).start()\n",
      "  File \"/disk0/anaconda2/lib/python2.7/site-packages/tornado/ioloop.py\", line 831, in start\n",
      "    self._run_callback(callback)\n",
      "  File \"/disk0/anaconda2/lib/python2.7/site-packages/tornado/ioloop.py\", line 604, in _run_callback\n",
      "    ret = callback()\n",
      "  File \"/disk0/anaconda2/lib/python2.7/site-packages/tornado/stack_context.py\", line 275, in null_wrapper\n",
      "    return fn(*args, **kwargs)\n",
      "  File \"/disk0/anaconda2/lib/python2.7/site-packages/ipykernel/kernelbase.py\", line 258, in enter_eventloop\n",
      "    self.eventloop(self)\n",
      "  File \"/disk0/anaconda2/lib/python2.7/site-packages/ipykernel/eventloops.py\", line 87, in loop_qt4\n",
      "    start_event_loop_qt4(kernel.app)\n",
      "  File \"/disk0/anaconda2/lib/python2.7/site-packages/IPython/lib/guisupport.py\", line 135, in start_event_loop_qt4\n",
      "    app.exec_()\n",
      "  File \"/disk0/Work/pyproj/vispy/vispy/app/backends/_qt.py\", line 687, in _vispy_timeout\n",
      "    self._vispy_timer._timeout()\n",
      "  File \"/disk0/Work/pyproj/vispy/vispy/app/timer.py\", line 168, in _timeout\n",
      "    count=self.iter_count)\n",
      "  File \"/disk0/Work/pyproj/vispy/vispy/util/event.py\", line 455, in __call__\n",
      "    self._invoke_callback(cb, event)\n",
      "  File \"/disk0/Work/pyproj/vispy/vispy/util/event.py\", line 475, in _invoke_callback\n",
      "    self, cb_event=(cb, event))\n",
      "  << caught exception here: >>\n",
      "  File \"/disk0/Work/pyproj/vispy/vispy/util/event.py\", line 471, in _invoke_callback\n",
      "    cb(event)\n",
      "  File \"/disk0/Work/pyproj/spiketag/spiketag/view/wave_view.py\", line 281, in update_cursor\n",
      "    self.cursor_rect.height = height*2\n",
      "  File \"/disk0/Work/pyproj/vispy/vispy/util/frozen.py\", line 17, in __setattr__\n",
      "    object.__setattr__(self, key, value)\n",
      "  File \"/disk0/Work/pyproj/vispy/vispy/visuals/rectangle.py\", line 149, in height\n",
      "    raise ValueError('Height must be positive')\n",
      "ValueError: Height must be positive\n",
      "ERROR: Invoking <bound method wave_view.update_cursor of <wave_view (PyQt4) at 0x7fd593270bd0>> for Event\n",
      "ERROR: Invoking <bound method wave_view.update_cursor of <wave_view (PyQt4) at 0x7fd593270bd0>> repeat 2\n",
      "ERROR: Invoking <bound method wave_view.update_cursor of <wave_view (PyQt4) at 0x7fd593270bd0>> repeat 4\n",
      "ERROR: Invoking <bound method wave_view.update_cursor of <wave_view (PyQt4) at 0x7fd593270bd0>> repeat 8\n",
      "ERROR: Invoking <bound method wave_view.update_cursor of <wave_view (PyQt4) at 0x7fd593270bd0>> repeat 16\n",
      "ERROR: Invoking <bound method wave_view.update_cursor of <wave_view (PyQt4) at 0x7fd593270bd0>> repeat 32\n",
      "ERROR: Invoking <bound method wave_view.update_cursor of <wave_view (PyQt4) at 0x7fd593270bd0>> repeat 64\n",
      "ERROR: Invoking <bound method wave_view.update_cursor of <wave_view (PyQt4) at 0x7fd593270bd0>> repeat 128\n",
      "ERROR: Invoking <bound method wave_view.update_cursor of <wave_view (PyQt4) at 0x7fd593270bd0>> repeat 256\n",
      "ERROR: Invoking <bound method wave_view.update_cursor of <wave_view (PyQt4) at 0x7fd593270bd0>> repeat 512\n",
      "ERROR: Invoking <bound method wave_view.update_cursor of <wave_view (PyQt4) at 0x7fd593270bd0>> repeat 1024\n",
      "ERROR: Invoking <bound method wave_view.update_cursor of <wave_view (PyQt4) at 0x7fd592f2c310>> repeat 16384\n",
      "ERROR: Invoking <bound method wave_view.update_cursor of <wave_view (PyQt4) at 0x7fd592f2c310>> repeat 32768\n",
      "ERROR: Invoking <bound method wave_view.update_cursor of <wave_view (PyQt4) at 0x7fd592f2c310>> repeat 65536\n",
      "ERROR: Invoking <bound method wave_view.update_cursor of <wave_view (PyQt4) at 0x7fd592f2c310>> repeat 131072\n",
      "ERROR: Invoking <bound method wave_view.update_cursor of <wave_view (PyQt4) at 0x7fd592f2c310>> repeat 262144\n",
      "ERROR: Invoking <bound method wave_view.update_cursor of <wave_view (PyQt4) at 0x7fd592f2c310>> repeat 524288\n"
     ]
    }
   ],
   "source": [
    "wview.show()"
   ]
  },
  {
   "cell_type": "markdown",
   "metadata": {},
   "source": [
    "### filter test"
   ]
  },
  {
   "cell_type": "code",
   "execution_count": 28,
   "metadata": {
    "ExecuteTime": {
     "end_time": "2017-03-27T23:48:13.286793",
     "start_time": "2017-03-27T23:48:13.228407"
    },
    "collapsed": true
   },
   "outputs": [],
   "source": [
    "from scipy import signal"
   ]
  },
  {
   "cell_type": "code",
   "execution_count": 29,
   "metadata": {
    "ExecuteTime": {
     "end_time": "2017-03-27T23:48:13.905285",
     "start_time": "2017-03-27T23:48:13.900734"
    },
    "collapsed": true
   },
   "outputs": [],
   "source": [
    "sig = np.repeat([0., 1., 0.], 100)"
   ]
  },
  {
   "cell_type": "code",
   "execution_count": 30,
   "metadata": {
    "ExecuteTime": {
     "end_time": "2017-03-27T23:48:14.681255",
     "start_time": "2017-03-27T23:48:14.677784"
    },
    "collapsed": true
   },
   "outputs": [],
   "source": [
    "win = signal.hann(50)"
   ]
  },
  {
   "cell_type": "code",
   "execution_count": 17,
   "metadata": {
    "ExecuteTime": {
     "end_time": "2017-03-27T18:48:10.099167",
     "start_time": "2017-03-27T18:48:10.093899"
    },
    "collapsed": true
   },
   "outputs": [],
   "source": [
    "filtered = signal.convolve(sig, win, mode='same') / sum(win)"
   ]
  },
  {
   "cell_type": "code",
   "execution_count": 32,
   "metadata": {
    "ExecuteTime": {
     "end_time": "2017-03-27T23:48:57.701680",
     "start_time": "2017-03-27T23:48:57.508034"
    },
    "collapsed": false
   },
   "outputs": [
    {
     "data": {
      "image/png": "[encoded data removed]",
      "text/plain": [
       "<matplotlib.figure.Figure at 0x7f398783de10>"
      ]
     },
     "metadata": {},
     "output_type": "display_data"
    }
   ],
   "source": [
    "plot(sig)\n",
    "plt.margins(0, 0.1)\n",
    "plot(win)\n",
    "plt.margins(0, 0.1)"
   ]
  },
  {
   "cell_type": "code",
   "execution_count": 19,
   "metadata": {
    "ExecuteTime": {
     "end_time": "2017-03-27T18:48:10.824844",
     "start_time": "2017-03-27T18:48:10.643855"
    },
    "collapsed": false
   },
   "outputs": [
    {
     "data": {
      "image/png": "[encoded data removed]",
      "text/plain": [
       "<matplotlib.figure.Figure at 0x7f6f2d1cb110>"
      ]
     },
     "metadata": {},
     "output_type": "display_data"
    }
   ],
   "source": [
    "plot(filtered)\n",
    "plt.margins(0, 0.1)"
   ]
  },
  {
   "cell_type": "code",
   "execution_count": 20,
   "metadata": {
    "ExecuteTime": {
     "end_time": "2017-03-27T18:48:11.654054",
     "start_time": "2017-03-27T18:48:11.649388"
    },
    "collapsed": false
   },
   "outputs": [],
   "source": [
    "sig = x[:10000,31]"
   ]
  },
  {
   "cell_type": "code",
   "execution_count": 21,
   "metadata": {
    "ExecuteTime": {
     "end_time": "2017-03-27T18:48:12.245245",
     "start_time": "2017-03-27T18:48:11.985291"
    },
    "collapsed": false
   },
   "outputs": [
    {
     "data": {
      "text/plain": [
       "[<matplotlib.lines.Line2D at 0x7f6f2c90ce90>]"
      ]
     },
     "execution_count": 21,
     "metadata": {},
     "output_type": "execute_result"
    },
    {
     "data": {
      "image/png": "[encoded data removed]",
      "text/plain": [
       "<matplotlib.figure.Figure at 0x7f6f2d224390>"
      ]
     },
     "metadata": {},
     "output_type": "display_data"
    }
   ],
   "source": [
    "plot(sig)"
   ]
  },
  {
   "cell_type": "code",
   "execution_count": 22,
   "metadata": {
    "ExecuteTime": {
     "end_time": "2017-03-27T18:48:13.600365",
     "start_time": "2017-03-27T18:48:13.591928"
    },
    "collapsed": true
   },
   "outputs": [],
   "source": [
    "win = np.array([-0.012767, -0.010065, -0.010603, -0.015188, -0.022775, -0.030649, -0.035635, -0.035833, -0.031967, -0.027421, -0.026643, -0.032443, -0.043479, -0.05342, -0.052658, -0.032253, 0.011402, 0.07339, 0.14032, 0.19411, 0.21834, 0.20454, 0.15583, 0.086166, 0.015233, -0.038734, -0.0654, -0.065287, -0.048177, -0.027911, -0.016061, -0.017338, -0.028613, -0.04164, -0.04788, -0.042934, -0.028503, -0.011142, 0.0013188, 0.0037242, -0.00405, -0.017387, -0.029505, -0.034875, -0.031708, -0.022382, -0.011779, -0.0045782, -0.0029516, -0.0058103, -0.0098116, -0.01144, -0.0089633, -0.0032537, 0.0028751, 0.0063325, 0.0054634, 0.00089644, -0.0048567, -0.0087553, -0.0087668, -0.0047873, 0.0014692, 0.0074606, 0.0111, 0.011659, 0.0098849, 0.0073795, 0.00565, 0.0053717, 0])"
   ]
  },
  {
   "cell_type": "code",
   "execution_count": 23,
   "metadata": {
    "ExecuteTime": {
     "end_time": "2017-03-27T18:48:14.874125",
     "start_time": "2017-03-27T18:48:14.630837"
    },
    "collapsed": false
   },
   "outputs": [
    {
     "data": {
      "text/plain": [
       "[<matplotlib.lines.Line2D at 0x7f6f2a6af750>]"
      ]
     },
     "execution_count": 23,
     "metadata": {},
     "output_type": "execute_result"
    },
    {
     "data": {
      "image/png": "[encoded data removed]",
      "text/plain": [
       "<matplotlib.figure.Figure at 0x7f6f26f9f850>"
      ]
     },
     "metadata": {},
     "output_type": "display_data"
    }
   ],
   "source": [
    "plot(win)"
   ]
  },
  {
   "cell_type": "code",
   "execution_count": 55,
   "metadata": {
    "ExecuteTime": {
     "end_time": "2017-03-27T18:52:19.560167",
     "start_time": "2017-03-27T18:52:19.554369"
    },
    "collapsed": false
   },
   "outputs": [],
   "source": [
    "f, Pxx_den = signal.welch(win, fs=25000)"
   ]
  },
  {
   "cell_type": "code",
   "execution_count": 56,
   "metadata": {
    "ExecuteTime": {
     "end_time": "2017-03-27T18:52:21.888901",
     "start_time": "2017-03-27T18:52:21.297868"
    },
    "collapsed": false
   },
   "outputs": [
    {
     "data": {
      "image/png": "[encoded data removed]",
      "text/plain": [
       "<matplotlib.figure.Figure at 0x7f6ee6df1950>"
      ]
     },
     "metadata": {},
     "output_type": "display_data"
    }
   ],
   "source": [
    "plt.semilogy(f, Pxx_den)\n",
    "plt.axvspan(300, 3000, color='g',alpha=0.2)\n",
    "plt.grid('on')"
   ]
  },
  {
   "cell_type": "code",
   "execution_count": 63,
   "metadata": {
    "ExecuteTime": {
     "end_time": "2017-03-27T18:53:15.521535",
     "start_time": "2017-03-27T18:53:15.514397"
    },
    "collapsed": false
   },
   "outputs": [
    {
     "name": "stdout",
     "output_type": "stream",
     "text": [
      "(10000,) (71,)\n"
     ]
    }
   ],
   "source": [
    "print sig.shape, win.shape"
   ]
  },
  {
   "cell_type": "code",
   "execution_count": 66,
   "metadata": {
    "ExecuteTime": {
     "end_time": "2017-03-27T18:53:56.392757",
     "start_time": "2017-03-27T18:53:54.758785"
    },
    "collapsed": false
   },
   "outputs": [
    {
     "name": "stdout",
     "output_type": "stream",
     "text": [
      "1000 loops, best of 3: 390 µs per loop\n"
     ]
    }
   ],
   "source": [
    "%timeit filtered = np.convolve(sig, win, mode='same')"
   ]
  },
  {
   "cell_type": "code",
   "execution_count": 64,
   "metadata": {
    "ExecuteTime": {
     "end_time": "2017-03-27T18:53:22.246270",
     "start_time": "2017-03-27T18:53:21.821894"
    },
    "collapsed": false
   },
   "outputs": [
    {
     "data": {
      "text/plain": [
       "[<matplotlib.lines.Line2D at 0x7f6ee6b84890>]"
      ]
     },
     "execution_count": 64,
     "metadata": {},
     "output_type": "execute_result"
    },
    {
     "data": {
      "image/png": "[encoded data removed]",
      "text/plain": [
       "<matplotlib.figure.Figure at 0x7f6ee6c009d0>"
      ]
     },
     "metadata": {},
     "output_type": "display_data"
    }
   ],
   "source": [
    "plot(filtered[500:2000])"
   ]
  },
  {
   "cell_type": "code",
   "execution_count": 28,
   "metadata": {
    "ExecuteTime": {
     "end_time": "2017-03-27T18:48:19.260504",
     "start_time": "2017-03-27T18:48:19.087624"
    },
    "collapsed": false
   },
   "outputs": [
    {
     "data": {
      "text/plain": [
       "[<matplotlib.lines.Line2D at 0x7f6f1a6bd290>]"
      ]
     },
     "execution_count": 28,
     "metadata": {},
     "output_type": "execute_result"
    },
    {
     "data": {
      "image/png": "[encoded data removed]",
      "text/plain": [
       "<matplotlib.figure.Figure at 0x7f6f1a73ab50>"
      ]
     },
     "metadata": {},
     "output_type": "display_data"
    }
   ],
   "source": [
    "plot(filtered[2137:2163])"
   ]
  },
  {
   "cell_type": "code",
   "execution_count": null,
   "metadata": {
    "collapsed": true
   },
   "outputs": [],
   "source": []
  },
  {
   "cell_type": "code",
   "execution_count": null,
   "metadata": {
    "collapsed": true
   },
   "outputs": [],
   "source": []
  },
  {
   "cell_type": "code",
   "execution_count": null,
   "metadata": {
    "collapsed": true
   },
   "outputs": [],
   "source": []
  }
 ],
 "metadata": {
  "anaconda-cloud": {},
  "kernelspec": {
   "display_name": "Python [conda root]",
   "language": "python",
   "name": "conda-root-py"
  },
  "language_info": {
   "codemirror_mode": {
    "name": "ipython",
    "version": 2
   },
   "file_extension": ".py",
   "mimetype": "text/x-python",
   "name": "python",
   "nbconvert_exporter": "python",
   "pygments_lexer": "ipython2",
   "version": "2.7.13"
  }
 },
 "nbformat": 4,
 "nbformat_minor": 0
}
