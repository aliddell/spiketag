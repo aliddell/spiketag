{
 "cells": [
  {
   "cell_type": "code",
   "execution_count": 1,
   "metadata": {
    "ExecuteTime": {
     "end_time": "2017-04-27T22:31:01.575455",
     "start_time": "2017-04-27T22:31:01.482561"
    },
    "collapsed": true
   },
   "outputs": [],
   "source": [
    "import spiketag.fpga.memory_api as mapi"
   ]
  },
  {
   "cell_type": "code",
   "execution_count": 2,
   "metadata": {
    "ExecuteTime": {
     "end_time": "2017-04-27T22:31:01.856294",
     "start_time": "2017-04-27T22:31:01.731299"
    },
    "scrolled": true
   },
   "outputs": [
    {
     "name": "stdout",
     "output_type": "stream",
     "text": [
      "00000000  00 00 00 00 00 00 00 00  00 00 00 00 00 00 00 00  |................|\r\n",
      "00000010  00 00 00 00 00 00 00 00  00 00 00 00 00 00 00 00  |................|\r\n",
      "00000020  00 00 00 00 00 00 00 00  00 00 00 00 00 00 00 00  |................|\r\n",
      "00000030  00 00 00 00 00 00 00 00  00 00 00 00 00 00 00 00  |................|\r\n",
      "00000040  00 00 00 00 00 00 00 00  00 00 00 00 00 00 00 00  |................|\r\n",
      "00000050  00 00 00 00 00 00 00 00  00 00 00 00 00 00 00 00  |................|\r\n",
      "00000060  00 00 00 00 00 00 00 00  00 00 00 00 00 00 00 00  |................|\r\n",
      "00000070  00 00 00 00 00 00 00 00  00 00 00 00 00 00 00 00  |................|\r\n",
      "00000080\r\n"
     ]
    }
   ],
   "source": [
    "!hexdump -C -v -n 128 /dev/xillybus_mem_16"
   ]
  },
  {
   "cell_type": "markdown",
   "metadata": {},
   "source": [
    "### w/r mem_16 from strach"
   ]
  },
  {
   "cell_type": "code",
   "execution_count": 3,
   "metadata": {
    "ExecuteTime": {
     "end_time": "2017-04-27T22:31:02.196062",
     "start_time": "2017-04-27T22:31:02.191642"
    },
    "collapsed": true
   },
   "outputs": [],
   "source": [
    "import numpy as np\n",
    "import struct\n",
    "from binascii import hexlify\n",
    "import io"
   ]
  },
  {
   "cell_type": "code",
   "execution_count": 4,
   "metadata": {
    "ExecuteTime": {
     "end_time": "2017-03-24T13:58:08.773406",
     "start_time": "2017-03-24T13:58:08.761412"
    },
    "collapsed": true
   },
   "outputs": [],
   "source": [
    "def to_fixed_point(v, dtype='<i4', binpoint=14):\n",
    "    v = int(v * 2**binpoint)\n",
    "    value = hexlify(struct.pack(dtype,v))\n",
    "    # print value\n",
    "    return struct.pack(dtype,v)\n",
    "\n",
    "def to_value(hexstring, dtype='<i4', binpoint=14):\n",
    "    value = struct.unpack(dtype, hexstring)\n",
    "    value = float(value[0]) / 2**binpoint\n",
    "    return value"
   ]
  },
  {
   "cell_type": "markdown",
   "metadata": {},
   "source": [
    "Test this part of verilog:\n",
    "\n",
    "\n",
    "```verilog\n",
    "\n",
    "if (user_r_control_regs_16_rden)\n",
    "    begin\n",
    "        case(user_control_regs_16_addr)\n",
    "            5'h00: user_r_control_regs_16_data <= {13'b0, DSP_settle, SPI_run_continuous_in, 1'b0};\n",
    "            5'h01: user_r_control_regs_16_data <= max_timestep_in[15:0];\n",
    "            5'h02: user_r_control_regs_16_data <= max_timestep_in[31:16];\n",
    "            5'h03: user_r_control_regs_16_data <= {dataclk_D[3], dataclk_M, dataclk_O};\n",
    "            5'h04: user_r_control_regs_16_data <= {delay_D, delay_C, delay_B, delay_A};\n",
    "            5'h08: user_r_control_regs_16_data <= {aux_cmd_bank_1_D_in, aux_cmd_bank_1_C_in, aux_cmd_bank_1_B_in, aux_cmd_bank_1_A_in};\n",
    "            5'h09: user_r_control_regs_16_data <= {aux_cmd_bank_2_D_in, aux_cmd_bank_2_C_in, aux_cmd_bank_2_B_in, aux_cmd_bank_2_A_in};\n",
    "            5'h0A: user_r_control_regs_16_data <= {aux_cmd_bank_3_D_in, aux_cmd_bank_3_C_in, aux_cmd_bank_3_B_in, aux_cmd_bank_3_A_in};\n",
    "            5'h0B: user_r_control_regs_16_data <= {6'b0, max_aux_cmd_index_1_in};\n",
    "            5'h0C: user_r_control_regs_16_data <= {6'b0, max_aux_cmd_index_2_in};\n",
    "            5'h0D: user_r_control_regs_16_data <= {6'b0, max_aux_cmd_index_3_in};\n",
    "            5'h0E: user_r_control_regs_16_data <= {6'b0, loop_aux_cmd_index_1};\n",
    "            5'h0F: user_r_control_regs_16_data <= {6'b0, loop_aux_cmd_index_2};\n",
    "            5'h10: user_r_control_regs_16_data <= {6'b0, loop_aux_cmd_index_3};\n",
    "            5'h12: user_r_control_regs_16_data <= {data_stream_4_sel, data_stream_3_sel,  data_stream_2_sel,  data_stream_1_sel};  \n",
    "            5'h13: user_r_control_regs_16_data <= {data_stream_8_sel, data_stream_7_sel,  data_stream_6_sel,  data_stream_5_sel};\n",
    "            5'h14: user_r_control_regs_16_data <= {data_stream_12_sel, data_stream_11_sel,  data_stream_10_sel,  data_stream_9_sel};\n",
    "            5'h15: user_r_control_regs_16_data <= {data_stream_16_sel, data_stream_15_sel,  data_stream_14_sel,  data_stream_13_sel};\n",
    "            5'h16: user_r_control_regs_16_data <= {\n",
    "            data_stream_16_en_in,\n",
    "            data_stream_15_en_in,\n",
    "            data_stream_14_en_in,\n",
    "            data_stream_13_en_in,\n",
    "            data_stream_12_en_in,\n",
    "            data_stream_11_en_in,\n",
    "            data_stream_10_en_in,\n",
    "            data_stream_9_en_in,\n",
    "            data_stream_8_en_in,\n",
    "            data_stream_7_en_in,\n",
    "            data_stream_6_en_in,\n",
    "            data_stream_5_en_in,\n",
    "            data_stream_4_en_in,\n",
    "            data_stream_3_en_in,\n",
    "            data_stream_2_en_in,\n",
    "            data_stream_1_en_in\n",
    "            };\n",
    "            5'h17: user_r_control_regs_16_data <= aux_output;\n",
    "            default:  user_r_control_regs_16_data <= 16'b0;\n",
    "        endcase\n",
    "    end\n",
    "end\n",
    "\n",
    "```\n"
   ]
  },
  {
   "cell_type": "markdown",
   "metadata": {},
   "source": [
    "*open bidirectional memory as mode `rb+`, you should see reset led off*"
   ]
  },
  {
   "cell_type": "code",
   "execution_count": 5,
   "metadata": {
    "ExecuteTime": {
     "end_time": "2017-03-24T13:58:52.024799",
     "start_time": "2017-03-24T13:58:52.020424"
    },
    "collapsed": true
   },
   "outputs": [],
   "source": [
    "reg16 = open('/dev/xillybus_mem_16', 'rb+')"
   ]
  },
  {
   "cell_type": "markdown",
   "metadata": {},
   "source": [
    "*There are 32 address for `xillybus_control_regs_16`*"
   ]
  },
  {
   "cell_type": "code",
   "execution_count": 8,
   "metadata": {
    "ExecuteTime": {
     "end_time": "2017-03-24T13:58:58.399671",
     "start_time": "2017-03-24T13:58:58.394304"
    },
    "collapsed": true,
    "scrolled": true
   },
   "outputs": [],
   "source": [
    "addrs = np.arange(0,63,2).astype(int)\n",
    "value = to_fixed_point(78, '<h', 0)"
   ]
  },
  {
   "cell_type": "markdown",
   "metadata": {},
   "source": [
    "*write the registers, you should see long led pattern*"
   ]
  },
  {
   "cell_type": "code",
   "execution_count": 9,
   "metadata": {
    "ExecuteTime": {
     "end_time": "2017-03-24T13:58:59.418255",
     "start_time": "2017-03-24T13:58:59.411601"
    },
    "collapsed": true
   },
   "outputs": [],
   "source": [
    "i = 2\n",
    "reg16.seek(addrs[i])\n",
    "reg16.write(value)\n",
    "reg16.flush()"
   ]
  },
  {
   "cell_type": "markdown",
   "metadata": {},
   "source": [
    "*read the registers, you should see short led pattern*"
   ]
  },
  {
   "cell_type": "code",
   "execution_count": 10,
   "metadata": {
    "ExecuteTime": {
     "end_time": "2017-03-24T13:59:01.723146",
     "start_time": "2017-03-24T13:59:01.715372"
    }
   },
   "outputs": [
    {
     "data": {
      "text/plain": [
       "'N\\x00'"
      ]
     },
     "execution_count": 10,
     "metadata": {},
     "output_type": "execute_result"
    }
   ],
   "source": [
    "reg16.seek(addrs[i])\n",
    "hexstring = reg16.read(2)\n",
    "hexstring"
   ]
  },
  {
   "cell_type": "code",
   "execution_count": 11,
   "metadata": {
    "ExecuteTime": {
     "end_time": "2017-03-24T13:59:02.799043",
     "start_time": "2017-03-24T13:59:02.793344"
    }
   },
   "outputs": [
    {
     "name": "stdout",
     "output_type": "stream",
     "text": [
      "78.0\n"
     ]
    }
   ],
   "source": [
    "return_val = to_value(value, '<h', 0)\n",
    "print return_val"
   ]
  },
  {
   "cell_type": "markdown",
   "metadata": {},
   "source": [
    "*close device, you should see reset led on*"
   ]
  },
  {
   "cell_type": "code",
   "execution_count": 12,
   "metadata": {
    "ExecuteTime": {
     "end_time": "2017-03-24T13:59:05.079312",
     "start_time": "2017-03-24T13:59:05.075029"
    },
    "collapsed": true
   },
   "outputs": [],
   "source": [
    "reg16.close()"
   ]
  },
  {
   "cell_type": "markdown",
   "metadata": {},
   "source": [
    "### w/r mem_16 from api"
   ]
  },
  {
   "cell_type": "code",
   "execution_count": 7,
   "metadata": {
    "ExecuteTime": {
     "end_time": "2017-04-27T22:31:07.134009",
     "start_time": "2017-04-27T22:31:07.129331"
    },
    "collapsed": true
   },
   "outputs": [],
   "source": [
    "from spiketag.fpga.memory_api import read_mem_16, write_mem_16, mem_reset"
   ]
  },
  {
   "cell_type": "code",
   "execution_count": 13,
   "metadata": {
    "ExecuteTime": {
     "end_time": "2017-04-27T22:31:08.099061",
     "start_time": "2017-04-27T22:31:08.094934"
    },
    "scrolled": true
   },
   "outputs": [
    {
     "ename": "IOError",
     "evalue": "[Errno 16] Device or resource busy: '/dev/xillybus_mem_16'",
     "output_type": "error",
     "traceback": [
      "\u001b[0;31m---------------------------------------------------------------------------\u001b[0m",
      "\u001b[0;31mIOError\u001b[0m                                   Traceback (most recent call last)",
      "\u001b[0;32m<ipython-input-13-56b7cdd6e0ee>\u001b[0m in \u001b[0;36m<module>\u001b[0;34m()\u001b[0m\n\u001b[0;32m----> 1\u001b[0;31m \u001b[0mwrite_mem_16\u001b[0m\u001b[0;34m(\u001b[0m\u001b[0;36m0\u001b[0m\u001b[0;34m,\u001b[0m\u001b[0;36m1\u001b[0m\u001b[0;34m)\u001b[0m\u001b[0;34m\u001b[0m\u001b[0m\n\u001b[0m",
      "\u001b[0;32m/disk0/Work/spiketag/spiketag/fpga/memory_api.pyc\u001b[0m in \u001b[0;36mwrite_mem_16\u001b[0;34m(offset, v, dtype, binpoint)\u001b[0m\n\u001b[1;32m     54\u001b[0m \u001b[0;32mdef\u001b[0m \u001b[0mwrite_mem_16\u001b[0m\u001b[0;34m(\u001b[0m\u001b[0moffset\u001b[0m\u001b[0;34m,\u001b[0m \u001b[0mv\u001b[0m\u001b[0;34m,\u001b[0m \u001b[0mdtype\u001b[0m\u001b[0;34m=\u001b[0m\u001b[0;34m'<h'\u001b[0m\u001b[0;34m,\u001b[0m \u001b[0mbinpoint\u001b[0m\u001b[0;34m=\u001b[0m\u001b[0;36m0\u001b[0m\u001b[0;34m)\u001b[0m\u001b[0;34m:\u001b[0m\u001b[0;34m\u001b[0m\u001b[0m\n\u001b[1;32m     55\u001b[0m     \u001b[0maddr\u001b[0m \u001b[0;34m=\u001b[0m \u001b[0moffset\u001b[0m \u001b[0;34m*\u001b[0m \u001b[0;36m2\u001b[0m\u001b[0;34m\u001b[0m\u001b[0m\n\u001b[0;32m---> 56\u001b[0;31m     \u001b[0mw16\u001b[0m \u001b[0;34m=\u001b[0m \u001b[0mopen\u001b[0m\u001b[0;34m(\u001b[0m\u001b[0;34m'/dev/xillybus_mem_16'\u001b[0m\u001b[0;34m,\u001b[0m \u001b[0;34m'wb'\u001b[0m\u001b[0;34m)\u001b[0m\u001b[0;34m\u001b[0m\u001b[0m\n\u001b[0m\u001b[1;32m     57\u001b[0m     \u001b[0mvalue\u001b[0m \u001b[0;34m=\u001b[0m \u001b[0mto_fixed_point\u001b[0m\u001b[0;34m(\u001b[0m\u001b[0mv\u001b[0m\u001b[0;34m,\u001b[0m \u001b[0mdtype\u001b[0m\u001b[0;34m,\u001b[0m \u001b[0mbinpoint\u001b[0m\u001b[0;34m)\u001b[0m\u001b[0;34m\u001b[0m\u001b[0m\n\u001b[1;32m     58\u001b[0m     \u001b[0;31m# print 'mem content:', hexlify(value)\u001b[0m\u001b[0;34m\u001b[0m\u001b[0;34m\u001b[0m\u001b[0m\n",
      "\u001b[0;31mIOError\u001b[0m: [Errno 16] Device or resource busy: '/dev/xillybus_mem_16'"
     ]
    }
   ],
   "source": [
    "write_mem_16(0,1)"
   ]
  },
  {
   "cell_type": "code",
   "execution_count": 14,
   "metadata": {
    "ExecuteTime": {
     "end_time": "2017-04-27T22:31:09.101715",
     "start_time": "2017-04-27T22:31:09.081560"
    }
   },
   "outputs": [
    {
     "ename": "IOError",
     "evalue": "[Errno 16] Device or resource busy: '/dev/xillybus_mem_16'",
     "output_type": "error",
     "traceback": [
      "\u001b[0;31m---------------------------------------------------------------------------\u001b[0m",
      "\u001b[0;31mIOError\u001b[0m                                   Traceback (most recent call last)",
      "\u001b[0;32m<ipython-input-14-8a109e2f3a41>\u001b[0m in \u001b[0;36m<module>\u001b[0;34m()\u001b[0m\n\u001b[0;32m----> 1\u001b[0;31m \u001b[0mread_mem_16\u001b[0m\u001b[0;34m(\u001b[0m\u001b[0;36m0\u001b[0m\u001b[0;34m)\u001b[0m\u001b[0;34m\u001b[0m\u001b[0m\n\u001b[0m",
      "\u001b[0;32m/disk0/Work/spiketag/spiketag/fpga/memory_api.pyc\u001b[0m in \u001b[0;36mread_mem_16\u001b[0;34m(offset, dtype, binpoint)\u001b[0m\n\u001b[1;32m     63\u001b[0m \u001b[0;32mdef\u001b[0m \u001b[0mread_mem_16\u001b[0m\u001b[0;34m(\u001b[0m\u001b[0moffset\u001b[0m\u001b[0;34m,\u001b[0m \u001b[0mdtype\u001b[0m\u001b[0;34m=\u001b[0m\u001b[0;34m'<h'\u001b[0m\u001b[0;34m,\u001b[0m \u001b[0mbinpoint\u001b[0m\u001b[0;34m=\u001b[0m\u001b[0;36m0\u001b[0m\u001b[0;34m)\u001b[0m\u001b[0;34m:\u001b[0m\u001b[0;34m\u001b[0m\u001b[0m\n\u001b[1;32m     64\u001b[0m     \u001b[0maddr\u001b[0m \u001b[0;34m=\u001b[0m \u001b[0moffset\u001b[0m \u001b[0;34m*\u001b[0m \u001b[0;36m2\u001b[0m\u001b[0;34m\u001b[0m\u001b[0m\n\u001b[0;32m---> 65\u001b[0;31m     \u001b[0mr16\u001b[0m \u001b[0;34m=\u001b[0m \u001b[0mopen\u001b[0m\u001b[0;34m(\u001b[0m\u001b[0;34m'/dev/xillybus_mem_16'\u001b[0m\u001b[0;34m,\u001b[0m \u001b[0;34m'rb'\u001b[0m\u001b[0;34m)\u001b[0m\u001b[0;34m\u001b[0m\u001b[0m\n\u001b[0m\u001b[1;32m     66\u001b[0m     \u001b[0mr16\u001b[0m\u001b[0;34m.\u001b[0m\u001b[0mseek\u001b[0m\u001b[0;34m(\u001b[0m\u001b[0maddr\u001b[0m\u001b[0;34m)\u001b[0m\u001b[0;34m\u001b[0m\u001b[0m\n\u001b[1;32m     67\u001b[0m     \u001b[0mhexstring\u001b[0m \u001b[0;34m=\u001b[0m \u001b[0mr16\u001b[0m\u001b[0;34m.\u001b[0m\u001b[0mread\u001b[0m\u001b[0;34m(\u001b[0m\u001b[0;36m2\u001b[0m\u001b[0;34m)\u001b[0m\u001b[0;34m\u001b[0m\u001b[0m\n",
      "\u001b[0;31mIOError\u001b[0m: [Errno 16] Device or resource busy: '/dev/xillybus_mem_16'"
     ]
    }
   ],
   "source": [
    "read_mem_16(0)"
   ]
  },
  {
   "cell_type": "code",
   "execution_count": 11,
   "metadata": {
    "ExecuteTime": {
     "end_time": "2017-04-27T22:31:09.746763",
     "start_time": "2017-04-27T22:31:09.628342"
    },
    "scrolled": true
   },
   "outputs": [
    {
     "name": "stdout",
     "output_type": "stream",
     "text": [
      "hexdump: /dev/xillybus_mem_16: Device or resource busy\r\n"
     ]
    }
   ],
   "source": [
    "!hexdump -C -v -n 64 /dev/xillybus_mem_16"
   ]
  },
  {
   "cell_type": "code",
   "execution_count": null,
   "metadata": {
    "collapsed": true
   },
   "outputs": [],
   "source": []
  },
  {
   "cell_type": "code",
   "execution_count": null,
   "metadata": {
    "collapsed": true
   },
   "outputs": [],
   "source": []
  }
 ],
 "metadata": {
  "anaconda-cloud": {},
  "kernelspec": {
   "display_name": "Python [conda root]",
   "language": "python",
   "name": "conda-root-py"
  },
  "language_info": {
   "codemirror_mode": {
    "name": "ipython",
    "version": 2
   },
   "file_extension": ".py",
   "mimetype": "text/x-python",
   "name": "python",
   "nbconvert_exporter": "python",
   "pygments_lexer": "ipython2",
   "version": "2.7.13"
  }
 },
 "nbformat": 4,
 "nbformat_minor": 1
}
