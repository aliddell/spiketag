{
 "cells": [
  {
   "cell_type": "code",
   "execution_count": 3,
   "metadata": {
    "ExecuteTime": {
     "end_time": "2017-05-01T23:19:16.060845",
     "start_time": "2017-05-01T23:19:15.760630"
    },
    "collapsed": false
   },
   "outputs": [
    {
     "name": "stdout",
     "output_type": "stream",
     "text": [
      "Populating the interactive namespace from numpy and matplotlib\n"
     ]
    }
   ],
   "source": [
    "%pylab inline"
   ]
  },
  {
   "cell_type": "code",
   "execution_count": 1,
   "metadata": {
    "ExecuteTime": {
     "end_time": "2017-05-01T23:18:37.866800",
     "start_time": "2017-05-01T23:18:37.766954"
    },
    "collapsed": true
   },
   "outputs": [],
   "source": [
    "from spiketag.fpga import bram_thres"
   ]
  },
  {
   "cell_type": "code",
   "execution_count": 2,
   "metadata": {
    "ExecuteTime": {
     "end_time": "2017-05-01T23:18:43.047915",
     "start_time": "2017-05-01T23:18:43.038057"
    },
    "collapsed": true
   },
   "outputs": [],
   "source": [
    "thres = bram_thres.threshold(nCh=160)\n",
    "thres.enable(True)"
   ]
  },
  {
   "cell_type": "code",
   "execution_count": 6,
   "metadata": {
    "ExecuteTime": {
     "end_time": "2017-05-01T23:20:11.706999",
     "start_time": "2017-05-01T23:20:11.692182"
    },
    "collapsed": true
   },
   "outputs": [],
   "source": [
    "thres[:] = -500\n",
    "bankNo = 1\n",
    "thres[bankNo*32:bankNo*32+32] = -140*np.random.randn(32,)"
   ]
  },
  {
   "cell_type": "code",
   "execution_count": 7,
   "metadata": {
    "ExecuteTime": {
     "end_time": "2017-05-01T23:20:12.268373",
     "start_time": "2017-05-01T23:20:12.227680"
    },
    "collapsed": false,
    "scrolled": false
   },
   "outputs": [
    {
     "name": "stdout",
     "output_type": "stream",
     "text": [
      "threshold of ch0 is -500.0\n",
      "threshold of ch1 is -500.0\n",
      "threshold of ch2 is -500.0\n",
      "threshold of ch3 is -500.0\n",
      "threshold of ch4 is -500.0\n",
      "threshold of ch5 is -500.0\n",
      "threshold of ch6 is -500.0\n",
      "threshold of ch7 is -500.0\n",
      "threshold of ch8 is -500.0\n",
      "threshold of ch9 is -500.0\n",
      "threshold of ch10 is -500.0\n",
      "threshold of ch11 is -500.0\n",
      "threshold of ch12 is -500.0\n",
      "threshold of ch13 is -500.0\n",
      "threshold of ch14 is -500.0\n",
      "threshold of ch15 is -500.0\n",
      "threshold of ch16 is -500.0\n",
      "threshold of ch17 is -500.0\n",
      "threshold of ch18 is -500.0\n",
      "threshold of ch19 is -500.0\n",
      "threshold of ch20 is -500.0\n",
      "threshold of ch21 is -500.0\n",
      "threshold of ch22 is -500.0\n",
      "threshold of ch23 is -500.0\n",
      "threshold of ch24 is -500.0\n",
      "threshold of ch25 is -500.0\n",
      "threshold of ch26 is -500.0\n",
      "threshold of ch27 is -500.0\n",
      "threshold of ch28 is -500.0\n",
      "threshold of ch29 is -500.0\n",
      "threshold of ch30 is -500.0\n",
      "threshold of ch31 is -500.0\n",
      "threshold of ch32 is -174.008535607\n",
      "threshold of ch33 is -117.712353876\n",
      "threshold of ch34 is 22.9163789039\n",
      "threshold of ch35 is 187.70291981\n",
      "threshold of ch36 is -241.593150589\n",
      "threshold of ch37 is 34.9269114559\n",
      "threshold of ch38 is -149.458309143\n",
      "threshold of ch39 is -76.2099618708\n",
      "threshold of ch40 is -38.6468927474\n",
      "threshold of ch41 is -18.6393246945\n",
      "threshold of ch42 is -44.6305341357\n",
      "threshold of ch43 is -192.847688404\n",
      "threshold of ch44 is 160.967835299\n",
      "threshold of ch45 is -42.0106824711\n",
      "threshold of ch46 is -15.819484427\n",
      "threshold of ch47 is 68.3866978278\n",
      "threshold of ch48 is -17.6810062899\n",
      "threshold of ch49 is -58.8994894204\n",
      "threshold of ch50 is -1.86244554897\n",
      "threshold of ch51 is 166.165399891\n",
      "threshold of ch52 is -96.326827002\n",
      "threshold of ch53 is 212.708574772\n",
      "threshold of ch54 is 232.182428515\n",
      "threshold of ch55 is -277.289990789\n",
      "threshold of ch56 is -96.5891566509\n",
      "threshold of ch57 is 66.7536563233\n",
      "threshold of ch58 is -42.9809424096\n",
      "threshold of ch59 is -244.234119815\n",
      "threshold of ch60 is -172.775937191\n",
      "threshold of ch61 is 19.0307661053\n",
      "threshold of ch62 is -57.0695418552\n",
      "threshold of ch63 is 152.449894659\n",
      "threshold of ch64 is -500.0\n",
      "threshold of ch65 is -500.0\n",
      "threshold of ch66 is -500.0\n",
      "threshold of ch67 is -500.0\n",
      "threshold of ch68 is -500.0\n",
      "threshold of ch69 is -500.0\n",
      "threshold of ch70 is -500.0\n",
      "threshold of ch71 is -500.0\n",
      "threshold of ch72 is -500.0\n",
      "threshold of ch73 is -500.0\n",
      "threshold of ch74 is -500.0\n",
      "threshold of ch75 is -500.0\n",
      "threshold of ch76 is -500.0\n",
      "threshold of ch77 is -500.0\n",
      "threshold of ch78 is -500.0\n",
      "threshold of ch79 is -500.0\n",
      "threshold of ch80 is -500.0\n",
      "threshold of ch81 is -500.0\n",
      "threshold of ch82 is -500.0\n",
      "threshold of ch83 is -500.0\n",
      "threshold of ch84 is -500.0\n",
      "threshold of ch85 is -500.0\n",
      "threshold of ch86 is -500.0\n",
      "threshold of ch87 is -500.0\n",
      "threshold of ch88 is -500.0\n",
      "threshold of ch89 is -500.0\n",
      "threshold of ch90 is -500.0\n",
      "threshold of ch91 is -500.0\n",
      "threshold of ch92 is -500.0\n",
      "threshold of ch93 is -500.0\n",
      "threshold of ch94 is -500.0\n",
      "threshold of ch95 is -500.0\n",
      "threshold of ch96 is -500.0\n",
      "threshold of ch97 is -500.0\n",
      "threshold of ch98 is -500.0\n",
      "threshold of ch99 is -500.0\n",
      "threshold of ch100 is -500.0\n",
      "threshold of ch101 is -500.0\n",
      "threshold of ch102 is -500.0\n",
      "threshold of ch103 is -500.0\n",
      "threshold of ch104 is -500.0\n",
      "threshold of ch105 is -500.0\n",
      "threshold of ch106 is -500.0\n",
      "threshold of ch107 is -500.0\n",
      "threshold of ch108 is -500.0\n",
      "threshold of ch109 is -500.0\n",
      "threshold of ch110 is -500.0\n",
      "threshold of ch111 is -500.0\n",
      "threshold of ch112 is -500.0\n",
      "threshold of ch113 is -500.0\n",
      "threshold of ch114 is -500.0\n",
      "threshold of ch115 is -500.0\n",
      "threshold of ch116 is -500.0\n",
      "threshold of ch117 is -500.0\n",
      "threshold of ch118 is -500.0\n",
      "threshold of ch119 is -500.0\n",
      "threshold of ch120 is -500.0\n",
      "threshold of ch121 is -500.0\n",
      "threshold of ch122 is -500.0\n",
      "threshold of ch123 is -500.0\n",
      "threshold of ch124 is -500.0\n",
      "threshold of ch125 is -500.0\n",
      "threshold of ch126 is -500.0\n",
      "threshold of ch127 is -500.0\n",
      "threshold of ch128 is -500.0\n",
      "threshold of ch129 is -500.0\n",
      "threshold of ch130 is -500.0\n",
      "threshold of ch131 is -500.0\n",
      "threshold of ch132 is -500.0\n",
      "threshold of ch133 is -500.0\n",
      "threshold of ch134 is -500.0\n",
      "threshold of ch135 is -500.0\n",
      "threshold of ch136 is -500.0\n",
      "threshold of ch137 is -500.0\n",
      "threshold of ch138 is -500.0\n",
      "threshold of ch139 is -500.0\n",
      "threshold of ch140 is -500.0\n",
      "threshold of ch141 is -500.0\n",
      "threshold of ch142 is -500.0\n",
      "threshold of ch143 is -500.0\n",
      "threshold of ch144 is -500.0\n",
      "threshold of ch145 is -500.0\n",
      "threshold of ch146 is -500.0\n",
      "threshold of ch147 is -500.0\n",
      "threshold of ch148 is -500.0\n",
      "threshold of ch149 is -500.0\n",
      "threshold of ch150 is -500.0\n",
      "threshold of ch151 is -500.0\n",
      "threshold of ch152 is -500.0\n",
      "threshold of ch153 is -500.0\n",
      "threshold of ch154 is -500.0\n",
      "threshold of ch155 is -500.0\n",
      "threshold of ch156 is -500.0\n",
      "threshold of ch157 is -500.0\n",
      "threshold of ch158 is -500.0\n",
      "threshold of ch159 is -500.0\n"
     ]
    },
    {
     "data": {
      "text/plain": [
       "threshold enable status: True"
      ]
     },
     "execution_count": 7,
     "metadata": {},
     "output_type": "execute_result"
    }
   ],
   "source": [
    "thres"
   ]
  },
  {
   "cell_type": "code",
   "execution_count": null,
   "metadata": {
    "collapsed": true
   },
   "outputs": [],
   "source": []
  }
 ],
 "metadata": {
  "kernelspec": {
   "display_name": "Python [conda root]",
   "language": "python",
   "name": "conda-root-py"
  },
  "language_info": {
   "codemirror_mode": {
    "name": "ipython",
    "version": 2
   },
   "file_extension": ".py",
   "mimetype": "text/x-python",
   "name": "python",
   "nbconvert_exporter": "python",
   "pygments_lexer": "ipython2",
   "version": "2.7.13"
  }
 },
 "nbformat": 4,
 "nbformat_minor": 2
}
