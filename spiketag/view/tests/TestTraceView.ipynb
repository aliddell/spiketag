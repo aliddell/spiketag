{
 "cells": [
  {
   "cell_type": "code",
   "execution_count": 1,
   "metadata": {
    "collapsed": false
   },
   "outputs": [
    {
     "name": "stdout",
     "output_type": "stream",
     "text": [
      "Populating the interactive namespace from numpy and matplotlib\n"
     ]
    }
   ],
   "source": [
    "%pylab inline\n",
    "import numexpr as ne\n",
    "import seaborn as sns\n",
    "from ipywidgets import interact\n",
    "import time\n",
    "import numpy as np"
   ]
  },
  {
   "cell_type": "code",
   "execution_count": 2,
   "metadata": {
    "collapsed": false
   },
   "outputs": [],
   "source": [
    "%load_ext autoreload\n",
    "%autoreload 2"
   ]
  },
  {
   "cell_type": "code",
   "execution_count": 3,
   "metadata": {
    "collapsed": true
   },
   "outputs": [],
   "source": [
    "import sys\n",
    "sys.path.append('../../..')"
   ]
  },
  {
   "cell_type": "code",
   "execution_count": 4,
   "metadata": {
    "collapsed": true
   },
   "outputs": [],
   "source": [
    "%gui qt"
   ]
  },
  {
   "cell_type": "code",
   "execution_count": 5,
   "metadata": {
    "collapsed": false
   },
   "outputs": [],
   "source": [
    "from spiketag.view import trace_view\n",
    "from spiketag.base import ProbeFactory\n",
    "from spiketag.base import MUA\n",
    "from spiketag.base import bload\n",
    "from spiketag.view import wave_view"
   ]
  },
  {
   "cell_type": "code",
   "execution_count": 8,
   "metadata": {
    "collapsed": true
   },
   "outputs": [],
   "source": [
    "probe = ProbeFactory.genLinearProbe(fs=25000, n_ch=32, ch_span=1)"
   ]
  },
  {
   "cell_type": "code",
   "execution_count": 8,
   "metadata": {
    "collapsed": false
   },
   "outputs": [
    {
     "name": "stdout",
     "output_type": "stream",
     "text": [
      "#############  load data  ###################\n",
      "/Users/chiy/Documents/HHMI/Github/spiketag/spiketag_test_data/pcie_32_25k.bin loaded, it contains: \n",
      "30150587 * 32 points (3859275136 bytes) \n",
      "32 channels with sampling rate of 25000.0000 \n",
      "1206.023 secs (20.100 mins) of data\n",
      "#############################################\n"
     ]
    }
   ],
   "source": [
    "mua = MUA('/Users/chiy/Documents/HHMI/Github/spiketag/spiketag_test_data/pcie_32_25k.bin', probe)"
   ]
  },
  {
   "cell_type": "code",
   "execution_count": 9,
   "metadata": {
    "collapsed": true
   },
   "outputs": [],
   "source": [
    "spks = mua.detect_spks()"
   ]
  },
  {
   "cell_type": "code",
   "execution_count": 47,
   "metadata": {
    "collapsed": false
   },
   "outputs": [
    {
     "name": "stdout",
     "output_type": "stream",
     "text": [
      "#############  load data  ###################\n",
      "/Users/chiy/Documents/HHMI/Github/spiketag/spiketag_test_data/pcie_32_25k.bin loaded, it contains: \n",
      "30150587 * 32 points (3859275136 bytes) \n",
      "32 channels with sampling rate of 25000.0000 \n",
      "1206.023 secs (20.100 mins) of data\n",
      "#############################################\n"
     ]
    }
   ],
   "source": [
    "bf = bload(fs=25000, nCh=32)\n",
    "bf.load('/Users/chiy/Documents/HHMI/Github/spiketag/spiketag_test_data/pcie_32_25k.bin', dtype='i4')\n",
    "#bf.load('/Users/chiy/Documents/HHMI/Github/spiketag/spiketag_test_data/pcie_160_30k.bin', dtype='i4')"
   ]
  },
  {
   "cell_type": "code",
   "execution_count": 21,
   "metadata": {
    "collapsed": false
   },
   "outputs": [
    {
     "data": {
      "text/plain": [
       "array([[      15,    25783,    32035, ..., 30149565, 30150056, 30150410],\n",
       "       [       0,        0,        0, ...,       31,       31,       31]])"
      ]
     },
     "execution_count": 21,
     "metadata": {},
     "output_type": "execute_result"
    }
   ],
   "source": [
    "spks"
   ]
  },
  {
   "cell_type": "code",
   "execution_count": 22,
   "metadata": {
    "collapsed": false
   },
   "outputs": [
    {
     "data": {
      "text/plain": [
       "(2, 766750)"
      ]
     },
     "execution_count": 22,
     "metadata": {},
     "output_type": "execute_result"
    }
   ],
   "source": [
    "spks.shape"
   ]
  },
  {
   "cell_type": "code",
   "execution_count": 53,
   "metadata": {
    "collapsed": true
   },
   "outputs": [],
   "source": [
    "data = np.random.rand(50000,32).astype('float32')"
   ]
  },
  {
   "cell_type": "code",
   "execution_count": 50,
   "metadata": {
    "collapsed": false
   },
   "outputs": [],
   "source": [
    "data = bf.npmm.reshape(-1,32).astype('float32')"
   ]
  },
  {
   "cell_type": "code",
   "execution_count": null,
   "metadata": {
    "collapsed": false
   },
   "outputs": [],
   "source": [
    "tc = trace_view(probe,bf.npmm.reshape(-1,3).astype('float32'))"
   ]
  },
  {
   "cell_type": "code",
   "execution_count": null,
   "metadata": {
    "collapsed": false
   },
   "outputs": [],
   "source": [
    "tc.show()"
   ]
  },
  {
   "cell_type": "code",
   "execution_count": 41,
   "metadata": {
    "collapsed": false
   },
   "outputs": [],
   "source": [
    "bf = bload(fs=25000,nCh=32)"
   ]
  },
  {
   "cell_type": "code",
   "execution_count": 42,
   "metadata": {
    "collapsed": false
   },
   "outputs": [
    {
     "name": "stdout",
     "output_type": "stream",
     "text": [
      "#############  load data  ###################\n",
      "/Users/chiy/Downloads/pcie.bin loaded, it contains: \n",
      "248002 * 32 points (31744256 bytes) \n",
      "32 channels with sampling rate of 25000.0000 \n",
      "9.920 secs (0.165 mins) of data\n",
      "#############################################\n"
     ]
    }
   ],
   "source": [
    "bf.load('/Users/chiy/Downloads/pcie.bin',dtype='int32')"
   ]
  },
  {
   "cell_type": "code",
   "execution_count": 12,
   "metadata": {
    "collapsed": true
   },
   "outputs": [],
   "source": [
    "spks = np.fromfile('/Users/chiy/Downloads/spks',dtype='int64')"
   ]
  },
  {
   "cell_type": "code",
   "execution_count": 14,
   "metadata": {
    "collapsed": false
   },
   "outputs": [],
   "source": [
    "spks = spks.reshape(2,-1)"
   ]
  },
  {
   "cell_type": "code",
   "execution_count": 15,
   "metadata": {
    "collapsed": false
   },
   "outputs": [
    {
     "data": {
      "text/plain": [
       "array([[    56,     57,     57, ..., 247253, 247254, 247844],\n",
       "       [    20,     16,     17, ...,     30,     29,     31]])"
      ]
     },
     "execution_count": 15,
     "metadata": {},
     "output_type": "execute_result"
    }
   ],
   "source": [
    "spks"
   ]
  },
  {
   "cell_type": "code",
   "execution_count": 16,
   "metadata": {
    "collapsed": true
   },
   "outputs": [],
   "source": [
    "from spiketag"
   ]
  },
  {
   "cell_type": "code",
   "execution_count": 57,
   "metadata": {
    "collapsed": false
   },
   "outputs": [],
   "source": [
    "data = bf.npmm.reshape(-1,32)"
   ]
  },
  {
   "cell_type": "code",
   "execution_count": 60,
   "metadata": {
    "collapsed": false
   },
   "outputs": [],
   "source": [
    "wv = wave_view(data=data,spks=spks)"
   ]
  },
  {
   "cell_type": "code",
   "execution_count": 61,
   "metadata": {
    "collapsed": true
   },
   "outputs": [],
   "source": [
    "wv.show()"
   ]
  },
  {
   "cell_type": "code",
   "execution_count": 25,
   "metadata": {
    "collapsed": false
   },
   "outputs": [
    {
     "ename": "NameError",
     "evalue": "name 'wv' is not defined",
     "output_type": "error",
     "traceback": [
      "\u001b[0;31m---------------------------------------------------------------------------\u001b[0m",
      "\u001b[0;31mNameError\u001b[0m                                 Traceback (most recent call last)",
      "\u001b[0;32m<ipython-input-25-6bebbe687657>\u001b[0m in \u001b[0;36m<module>\u001b[0;34m()\u001b[0m\n\u001b[0;32m----> 1\u001b[0;31m \u001b[0mwv\u001b[0m\u001b[0;34m.\u001b[0m\u001b[0mspikes\u001b[0m\u001b[0;34m\u001b[0m\u001b[0m\n\u001b[0m",
      "\u001b[0;31mNameError\u001b[0m: name 'wv' is not defined"
     ]
    }
   ],
   "source": [
    "wv.spikes"
   ]
  },
  {
   "cell_type": "code",
   "execution_count": 26,
   "metadata": {
    "collapsed": false
   },
   "outputs": [
    {
     "data": {
      "text/plain": [
       "array([ 1,  2,  3,  4,  5,  6,  7,  8,  9, 10, 11, 12, 13, 14, 16, 17, 18,\n",
       "       19, 20, 21, 22, 23, 24, 25, 26, 27, 28, 29, 30, 31])"
      ]
     },
     "execution_count": 26,
     "metadata": {},
     "output_type": "execute_result"
    }
   ],
   "source": [
    "np.unique(spks[1])"
   ]
  },
  {
   "cell_type": "code",
   "execution_count": 50,
   "metadata": {
    "collapsed": false
   },
   "outputs": [
    {
     "data": {
      "text/plain": [
       "memmap([[ 254324.,  141880.,  200982., ...,  231654.,  252598.,  224182.],\n",
       "       [ 233878.,  118572.,  219880., ...,  220900.,  250678.,  182992.],\n",
       "       [ 218306.,  109242.,  252354., ...,  211638.,  255438.,  158434.],\n",
       "       ..., \n",
       "       [ 270530.,  293506.,  434540., ...,  469002.,  649608.,  694030.],\n",
       "       [ 333996.,  284804.,  402934., ...,  496756.,  639430.,  746978.],\n",
       "       [ 407552.,  262112.,  354032., ...,  535952.,  617332.,  710888.]], dtype=float32)"
      ]
     },
     "execution_count": 50,
     "metadata": {},
     "output_type": "execute_result"
    }
   ],
   "source": [
    "data"
   ]
  },
  {
   "cell_type": "code",
   "execution_count": null,
   "metadata": {
    "collapsed": false
   },
   "outputs": [],
   "source": [
    "bf.npmm.shape"
   ]
  },
  {
   "cell_type": "code",
   "execution_count": null,
   "metadata": {
    "collapsed": false
   },
   "outputs": [],
   "source": [
    "bf.npmm.reshape(-1,3)[:10]"
   ]
  },
  {
   "cell_type": "code",
   "execution_count": 11,
   "metadata": {
    "collapsed": false
   },
   "outputs": [],
   "source": [
    "wv = wave_view(data=mua.data, spks=spks)"
   ]
  },
  {
   "cell_type": "code",
   "execution_count": 54,
   "metadata": {
    "collapsed": false
   },
   "outputs": [],
   "source": [
    "wv = wave_view(data=data)"
   ]
  },
  {
   "cell_type": "code",
   "execution_count": 12,
   "metadata": {
    "collapsed": false
   },
   "outputs": [],
   "source": [
    "wv.show()"
   ]
  },
  {
   "cell_type": "code",
   "execution_count": 38,
   "metadata": {
    "collapsed": false
   },
   "outputs": [
    {
     "data": {
      "text/plain": [
       "array([[  0.00000000e+00,   0.00000000e+00,   0.00000000e+00],\n",
       "       [  0.00000000e+00,   0.00000000e+00,   1.00000000e+00],\n",
       "       [  0.00000000e+00,   0.00000000e+00,   2.00000000e+00],\n",
       "       ..., \n",
       "       [  0.00000000e+00,   3.10000000e+01,   1.99970000e+04],\n",
       "       [  0.00000000e+00,   3.10000000e+01,   1.99980000e+04],\n",
       "       [  0.00000000e+00,   3.10000000e+01,   1.99990000e+04]], dtype=float32)"
      ]
     },
     "execution_count": 38,
     "metadata": {},
     "output_type": "execute_result"
    }
   ],
   "source": [
    "wv.waves1.index"
   ]
  },
  {
   "cell_type": "code",
   "execution_count": 19,
   "metadata": {
    "collapsed": false
   },
   "outputs": [
    {
     "data": {
      "text/plain": [
       "(9664,)"
      ]
     },
     "execution_count": 19,
     "metadata": {},
     "output_type": "execute_result"
    }
   ],
   "source": [
    "np.fromfile('/Users/chiy/Downloads/spks').shape"
   ]
  },
  {
   "cell_type": "code",
   "execution_count": 6,
   "metadata": {
    "collapsed": true
   },
   "outputs": [],
   "source": [
    "bf = bload(nCh=32, fs=25000)"
   ]
  },
  {
   "cell_type": "code",
   "execution_count": 7,
   "metadata": {
    "collapsed": false
   },
   "outputs": [
    {
     "name": "stdout",
     "output_type": "stream",
     "text": [
      "#############  load data  ###################\n",
      "/Users/chiy/Documents/HHMI/Github/spiketag/spiketag_test_data/pcie_32_25k.bin loaded, it contains: \n",
      "60301174 * 32 points (3859275136 bytes) \n",
      "32 channels with sampling rate of 25000.0000 \n",
      "2412.047 secs (40.201 mins) of data\n",
      "#############################################\n"
     ]
    }
   ],
   "source": [
    "bf.load('/Users/chiy/Documents/HHMI/Github/spiketag/spiketag_test_data/pcie_32_25k.bin', dtype='int16')"
   ]
  },
  {
   "cell_type": "code",
   "execution_count": 10,
   "metadata": {
    "collapsed": false
   },
   "outputs": [
    {
     "name": "stdout",
     "output_type": "stream",
     "text": [
      "covert to data, elapsed time: 30457.3278427 ms\n",
      "cal threshholds, elapsed time: 18505.9859753 ms\n",
      "cal peakdet for 0, elapsed time: 22257.3289871 ms\n",
      "cal peakdet for 1, elapsed time: 4386.64698601 ms\n",
      "cal peakdet for 2, elapsed time: 3452.06880569 ms\n",
      "cal peakdet for 3, elapsed time: 1149.51610565 ms\n",
      "cal peakdet for 4, elapsed time: 3551.77116394 ms\n",
      "cal peakdet for 5, elapsed time: 1105.2031517 ms\n",
      "cal peakdet for 6, elapsed time: 3345.53694725 ms\n",
      "cal peakdet for 7, elapsed time: 1098.93703461 ms\n",
      "cal peakdet for 8, elapsed time: 3153.93900871 ms\n",
      "cal peakdet for 9, elapsed time: 1144.47498322 ms\n",
      "cal peakdet for 10, elapsed time: 3380.58900833 ms\n",
      "cal peakdet for 11, elapsed time: 1068.87102127 ms\n",
      "cal peakdet for 12, elapsed time: 3400.72011948 ms\n",
      "cal peakdet for 13, elapsed time: 1047.60599136 ms\n",
      "cal peakdet for 14, elapsed time: 3256.39390945 ms\n",
      "cal peakdet for 15, elapsed time: 1046.43988609 ms\n",
      "cal peakdet for 16, elapsed time: 3225.2600193 ms\n",
      "cal peakdet for 17, elapsed time: 1170.92394829 ms\n",
      "cal peakdet for 18, elapsed time: 3327.81386375 ms\n",
      "cal peakdet for 19, elapsed time: 1098.77681732 ms\n",
      "cal peakdet for 20, elapsed time: 3291.05615616 ms\n",
      "cal peakdet for 21, elapsed time: 1040.30895233 ms\n",
      "cal peakdet for 22, elapsed time: 3742.92087555 ms\n",
      "cal peakdet for 23, elapsed time: 1050.34899712 ms\n",
      "cal peakdet for 24, elapsed time: 2951.14207268 ms\n",
      "cal peakdet for 25, elapsed time: 1047.15299606 ms\n",
      "cal peakdet for 26, elapsed time: 3248.81100655 ms\n",
      "cal peakdet for 27, elapsed time: 1058.10213089 ms\n",
      "cal peakdet for 28, elapsed time: 3323.04000854 ms\n",
      "cal peakdet for 29, elapsed time: 1217.62704849 ms\n",
      "cal peakdet for 30, elapsed time: 3740.72909355 ms\n",
      "cal peakdet for 31, elapsed time: 1127.5229454 ms\n"
     ]
    }
   ],
   "source": [
    "bf.detect_spks()"
   ]
  },
  {
   "cell_type": "code",
   "execution_count": 8,
   "metadata": {
    "collapsed": true
   },
   "outputs": [],
   "source": [
    "data = bf.asarray()"
   ]
  },
  {
   "cell_type": "code",
   "execution_count": 12,
   "metadata": {
    "collapsed": false
   },
   "outputs": [
    {
     "data": {
      "text/plain": [
       "(60301174,)"
      ]
     },
     "execution_count": 12,
     "metadata": {},
     "output_type": "execute_result"
    }
   ],
   "source": [
    "data[:,0].shape"
   ]
  },
  {
   "cell_type": "code",
   "execution_count": 9,
   "metadata": {
    "collapsed": false
   },
   "outputs": [
    {
     "data": {
      "text/plain": [
       "array([ 0.80541992,  1.95898438, -0.83630371, ...,  1.70422363,\n",
       "        1.14892578,  0.55273438], dtype=float32)"
      ]
     },
     "execution_count": 9,
     "metadata": {},
     "output_type": "execute_result"
    }
   ],
   "source": [
    "data[:,0]"
   ]
  },
  {
   "cell_type": "code",
   "execution_count": 11,
   "metadata": {
    "collapsed": false
   },
   "outputs": [
    {
     "data": {
      "text/plain": [
       "[<matplotlib.lines.Line2D at 0x4d969c850>]"
      ]
     },
     "execution_count": 11,
     "metadata": {},
     "output_type": "execute_result"
    },
    {
     "data": {
      "image/png": "[encoded data removed]",
      "text/plain": [
       "<matplotlib.figure.Figure at 0x1067ad2d0>"
      ]
     },
     "metadata": {},
     "output_type": "display_data"
    }
   ],
   "source": [
    "plot(data[:1000,0])"
   ]
  },
  {
   "cell_type": "code",
   "execution_count": 12,
   "metadata": {
    "collapsed": false
   },
   "outputs": [
    {
     "data": {
      "text/plain": [
       "memmap([ 13196,     -2,  -8540,     -3, -23588,     -3,   8180,     -2,\n",
       "        23228,     -2,  -1016,     -3,  -9376,     -3, -13884,     -2,\n",
       "         1492,     -2,  12032,     -1,  -2180,     -2,  24064,     -2,\n",
       "       -10540,     -2,  29916,     -2,   1492,     -2,    208,      0,\n",
       "        32096,     -1,   9196,      0, -32604,     -1, -25080,     -1,\n",
       "        13376,      0,   3344,      0, -24244,     -1,  11196,     -1,\n",
       "       -17556,     -1,  32096,     -1,  -8032,     -2,  22900,     -1,\n",
       "        -5196,     -3,  32752,     -3, -32276,     -2,  18212,     -2,\n",
       "       -13702,     -4,   4578,     -4, -15662,     -5, -20170,     -4,\n",
       "          906,     -3,  28074,     -4,  22310,     -4, -10422,     -3,\n",
       "        30890,     -4,  25922,     -2,  -6198,     -3,  11598,     -3,\n",
       "        -7782,     -3,  15382,     -3,  15842,     -4,    164,      0,\n",
       "        27222,     -1,  21262,      0], dtype=int16)"
      ]
     },
     "execution_count": 12,
     "metadata": {},
     "output_type": "execute_result"
    }
   ],
   "source": [
    "bf.npmm[:100]"
   ]
  },
  {
   "cell_type": "code",
   "execution_count": 13,
   "metadata": {
    "collapsed": true
   },
   "outputs": [],
   "source": []
  },
  {
   "cell_type": "code",
   "execution_count": 18,
   "metadata": {
    "collapsed": false
   },
   "outputs": [
    {
     "data": {
      "image/png": "[encoded data removed]",
      "text/plain": [
       "<matplotlib.figure.Figure at 0x4e8d71390>"
      ]
     },
     "metadata": {},
     "output_type": "display_data"
    }
   ],
   "source": [
    "@interact(x=(1000,60301174,100),y=(0,31,1))\n",
    "def plot_wave(x, y):\n",
    "    plot(data[x-1000:x,y])"
   ]
  },
  {
   "cell_type": "code",
   "execution_count": 19,
   "metadata": {
    "collapsed": true
   },
   "outputs": [],
   "source": [
    "thresholds = bf.to_threshold(data)"
   ]
  },
  {
   "cell_type": "code",
   "execution_count": 20,
   "metadata": {
    "collapsed": false
   },
   "outputs": [
    {
     "data": {
      "text/plain": [
       "array([ -6.66992188e+00,  -8.13802083e-04,  -6.66910807e+00,\n",
       "        -8.13802083e-04,  -6.66259766e+00,  -8.13802083e-04,\n",
       "        -6.67561849e+00,  -8.13802083e-04,  -6.66422526e+00,\n",
       "        -8.13802083e-04,  -6.66910807e+00,  -8.13802083e-04,\n",
       "        -6.67073568e+00,  -8.13802083e-04,  -6.66910807e+00,\n",
       "        -1.22070312e-03,  -6.66259766e+00,  -1.22070312e-03,\n",
       "        -6.66992188e+00,  -1.22070312e-03,  -6.66503906e+00,\n",
       "        -1.22070312e-03,  -6.66422526e+00,  -1.22070312e-03,\n",
       "        -6.66748047e+00,  -1.22070312e-03,  -6.66503906e+00,\n",
       "        -1.22070312e-03,  -6.65852865e+00,  -1.22070312e-03,\n",
       "        -2.23063151e+00,  -0.00000000e+00])"
      ]
     },
     "execution_count": 20,
     "metadata": {},
     "output_type": "execute_result"
    }
   ],
   "source": [
    "thresholds"
   ]
  },
  {
   "cell_type": "code",
   "execution_count": null,
   "metadata": {
    "collapsed": true
   },
   "outputs": [],
   "source": [
    "spk"
   ]
  }
 ],
 "metadata": {
  "anaconda-cloud": {},
  "kernelspec": {
   "display_name": "Python [default]",
   "language": "python",
   "name": "python2"
  },
  "language_info": {
   "codemirror_mode": {
    "name": "ipython",
    "version": 2
   },
   "file_extension": ".py",
   "mimetype": "text/x-python",
   "name": "python",
   "nbconvert_exporter": "python",
   "pygments_lexer": "ipython2",
   "version": "2.7.12"
  }
 },
 "nbformat": 4,
 "nbformat_minor": 1
}
