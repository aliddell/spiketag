{
 "cells": [
  {
   "cell_type": "code",
   "execution_count": null,
   "metadata": {
    "collapsed": false
   },
   "outputs": [],
   "source": [
    "%pylab inline\n",
    "import numexpr as ne\n",
    "import seaborn as sns\n",
    "from ipywidgets import interact\n",
    "import time"
   ]
  },
  {
   "cell_type": "code",
   "execution_count": 2,
   "metadata": {
    "collapsed": false
   },
   "outputs": [],
   "source": [
    "%load_ext autoreload\n",
    "%autoreload 2"
   ]
  },
  {
   "cell_type": "code",
   "execution_count": 3,
   "metadata": {
    "collapsed": false
   },
   "outputs": [
    {
     "data": {
      "text/plain": [
       "8"
      ]
     },
     "execution_count": 3,
     "metadata": {},
     "output_type": "execute_result"
    }
   ],
   "source": [
    "ne.set_num_threads(32)"
   ]
  },
  {
   "cell_type": "code",
   "execution_count": 4,
   "metadata": {
    "collapsed": true
   },
   "outputs": [],
   "source": [
    "import sys\n",
    "sys.path.append('../../../')"
   ]
  },
  {
   "cell_type": "code",
   "execution_count": 5,
   "metadata": {
    "collapsed": true
   },
   "outputs": [],
   "source": [
    "%gui qt"
   ]
  },
  {
   "cell_type": "code",
   "execution_count": 6,
   "metadata": {
    "collapsed": false
   },
   "outputs": [],
   "source": [
    "from spiketag.mvc import Sorter"
   ]
  },
  {
   "cell_type": "code",
   "execution_count": 7,
   "metadata": {
    "collapsed": false
   },
   "outputs": [
    {
     "name": "stderr",
     "output_type": "stream",
     "text": [
      "[INFO/MainProcess] load mua data\n"
     ]
    },
    {
     "name": "stdout",
     "output_type": "stream",
     "text": [
      "#############  load data  ###################\n",
      "/Users/chiy/Documents/HHMI/Github/spiketag/spiketag_test_data/pcie.bin loaded, it contains: \n",
      "30150587 * 32 points (3859275136 bytes) \n",
      "32 channels with sampling rate of 25000.0000 \n",
      "1206.023 secs (20.100 mins) of data\n",
      "#############################################\n"
     ]
    },
    {
     "name": "stderr",
     "output_type": "stream",
     "text": [
      "[INFO/MainProcess] load spktag file\n"
     ]
    }
   ],
   "source": [
    "nCh=32\n",
    "fs = 25000\n",
    "app = Sorter('/Users/chiy/Documents/HHMI/Github/spiketag/spiketag_test_data/pcie.bin', '/Users/chiy/Documents/HHMI/Github/spiketag/spiketag_test_data/pcie_spktag.bin')"
   ]
  },
  {
   "cell_type": "code",
   "execution_count": 13,
   "metadata": {
    "collapsed": false
   },
   "outputs": [
    {
     "name": "stderr",
     "output_type": "stream",
     "text": [
      "WARNING: Traceback (most recent call last):\n",
      "  File \"/Users/chiy/anaconda/lib/python2.7/runpy.py\", line 174, in _run_module_as_main\n",
      "    \"__main__\", fname, loader, pkg_name)\n",
      "  File \"/Users/chiy/anaconda/lib/python2.7/runpy.py\", line 72, in _run_code\n",
      "    exec code in run_globals\n",
      "  File \"/Users/chiy/anaconda/lib/python2.7/site-packages/ipykernel/__main__.py\", line 3, in <module>\n",
      "    app.launch_new_instance()\n",
      "  File \"/Users/chiy/anaconda/lib/python2.7/site-packages/traitlets/config/application.py\", line 653, in launch_instance\n",
      "    app.start()\n",
      "  File \"/Users/chiy/anaconda/lib/python2.7/site-packages/ipykernel/kernelapp.py\", line 474, in start\n",
      "    ioloop.IOLoop.instance().start()\n",
      "  File \"/Users/chiy/anaconda/lib/python2.7/site-packages/zmq/eventloop/ioloop.py\", line 162, in start\n",
      "    super(ZMQIOLoop, self).start()\n",
      "  File \"/Users/chiy/anaconda/lib/python2.7/site-packages/tornado/ioloop.py\", line 831, in start\n",
      "    self._run_callback(callback)\n",
      "  File \"/Users/chiy/anaconda/lib/python2.7/site-packages/tornado/ioloop.py\", line 604, in _run_callback\n",
      "    ret = callback()\n",
      "  File \"/Users/chiy/anaconda/lib/python2.7/site-packages/tornado/stack_context.py\", line 275, in null_wrapper\n",
      "    return fn(*args, **kwargs)\n",
      "  File \"/Users/chiy/anaconda/lib/python2.7/site-packages/ipykernel/kernelbase.py\", line 258, in enter_eventloop\n",
      "    self.eventloop(self)\n",
      "  File \"/Users/chiy/anaconda/lib/python2.7/site-packages/ipykernel/eventloops.py\", line 87, in loop_qt4\n",
      "    start_event_loop_qt4(kernel.app)\n",
      "  File \"/Users/chiy/anaconda/lib/python2.7/site-packages/IPython/lib/guisupport.py\", line 135, in start_event_loop_qt4\n",
      "    app.exec_()\n",
      "  File \"/Users/chiy/anaconda/lib/python2.7/site-packages/vispy-0.5.0.dev0-py2.7.egg/vispy/app/backends/_qt.py\", line 387, in mouseMoveEvent\n",
      "    modifiers=self._modifiers(ev),\n",
      "  File \"/Users/chiy/anaconda/lib/python2.7/site-packages/vispy-0.5.0.dev0-py2.7.egg/vispy/app/base.py\", line 202, in _vispy_mouse_move\n",
      "    ev = self._vispy_canvas.events.mouse_move(**kwargs)\n",
      "  File \"/Users/chiy/anaconda/lib/python2.7/site-packages/vispy-0.5.0.dev0-py2.7.egg/vispy/util/event.py\", line 455, in __call__\n",
      "    self._invoke_callback(cb, event)\n",
      "  File \"/Users/chiy/anaconda/lib/python2.7/site-packages/vispy-0.5.0.dev0-py2.7.egg/vispy/util/event.py\", line 475, in _invoke_callback\n",
      "    self, cb_event=(cb, event))\n",
      "  << caught exception here: >>\n",
      "  File \"/Users/chiy/anaconda/lib/python2.7/site-packages/vispy-0.5.0.dev0-py2.7.egg/vispy/util/event.py\", line 471, in _invoke_callback\n",
      "    cb(event)\n",
      "  File \"../../../spiketag/view/scatter_2d_view.py\", line 127, in on_mouse_move\n",
      "    self._picker.cast_net(e.pos,ptype='rectangle')\n",
      "  File \"../../../spiketag/utils/utils.py\", line 230, in cast_net\n",
      "    raise RuntimeError('please do origin_point first!')\n",
      "RuntimeError: please do origin_point first!\n",
      "ERROR: Invoking <bound method amplitude_view.on_mouse_move of <amplitude_view (PyQt4) at 0x12ccd7790>> for MouseEvent\n",
      "WARNING: Traceback (most recent call last):\n",
      "  File \"/Users/chiy/anaconda/lib/python2.7/runpy.py\", line 174, in _run_module_as_main\n",
      "    \"__main__\", fname, loader, pkg_name)\n",
      "  File \"/Users/chiy/anaconda/lib/python2.7/runpy.py\", line 72, in _run_code\n",
      "    exec code in run_globals\n",
      "  File \"/Users/chiy/anaconda/lib/python2.7/site-packages/ipykernel/__main__.py\", line 3, in <module>\n",
      "    app.launch_new_instance()\n",
      "  File \"/Users/chiy/anaconda/lib/python2.7/site-packages/traitlets/config/application.py\", line 653, in launch_instance\n",
      "    app.start()\n",
      "  File \"/Users/chiy/anaconda/lib/python2.7/site-packages/ipykernel/kernelapp.py\", line 474, in start\n",
      "    ioloop.IOLoop.instance().start()\n",
      "  File \"/Users/chiy/anaconda/lib/python2.7/site-packages/zmq/eventloop/ioloop.py\", line 162, in start\n",
      "    super(ZMQIOLoop, self).start()\n",
      "  File \"/Users/chiy/anaconda/lib/python2.7/site-packages/tornado/ioloop.py\", line 831, in start\n",
      "    self._run_callback(callback)\n",
      "  File \"/Users/chiy/anaconda/lib/python2.7/site-packages/tornado/ioloop.py\", line 604, in _run_callback\n",
      "    ret = callback()\n",
      "  File \"/Users/chiy/anaconda/lib/python2.7/site-packages/tornado/stack_context.py\", line 275, in null_wrapper\n",
      "    return fn(*args, **kwargs)\n",
      "  File \"/Users/chiy/anaconda/lib/python2.7/site-packages/ipykernel/kernelbase.py\", line 258, in enter_eventloop\n",
      "    self.eventloop(self)\n",
      "  File \"/Users/chiy/anaconda/lib/python2.7/site-packages/ipykernel/eventloops.py\", line 87, in loop_qt4\n",
      "    start_event_loop_qt4(kernel.app)\n",
      "  File \"/Users/chiy/anaconda/lib/python2.7/site-packages/IPython/lib/guisupport.py\", line 135, in start_event_loop_qt4\n",
      "    app.exec_()\n",
      "  File \"/Users/chiy/anaconda/lib/python2.7/site-packages/vispy-0.5.0.dev0-py2.7.egg/vispy/app/backends/_qt.py\", line 387, in mouseMoveEvent\n",
      "    modifiers=self._modifiers(ev),\n",
      "  File \"/Users/chiy/anaconda/lib/python2.7/site-packages/vispy-0.5.0.dev0-py2.7.egg/vispy/app/base.py\", line 202, in _vispy_mouse_move\n",
      "    ev = self._vispy_canvas.events.mouse_move(**kwargs)\n",
      "  File \"/Users/chiy/anaconda/lib/python2.7/site-packages/vispy-0.5.0.dev0-py2.7.egg/vispy/util/event.py\", line 455, in __call__\n",
      "    self._invoke_callback(cb, event)\n",
      "  File \"/Users/chiy/anaconda/lib/python2.7/site-packages/vispy-0.5.0.dev0-py2.7.egg/vispy/util/event.py\", line 475, in _invoke_callback\n",
      "    self, cb_event=(cb, event))\n",
      "  << caught exception here: >>\n",
      "  File \"/Users/chiy/anaconda/lib/python2.7/site-packages/vispy-0.5.0.dev0-py2.7.egg/vispy/util/event.py\", line 471, in _invoke_callback\n",
      "    cb(event)\n",
      "  File \"../../../spiketag/view/scatter_2d_view.py\", line 127, in on_mouse_move\n",
      "    self._picker.cast_net(e.pos,ptype='rectangle')\n",
      "  File \"../../../spiketag/utils/utils.py\", line 230, in cast_net\n",
      "    raise RuntimeError('please do origin_point first!')\n",
      "RuntimeError: please do origin_point first!\n",
      "ERROR: Invoking <bound method amplitude_view.on_mouse_move of <amplitude_view (PyQt4) at 0x12ccd7790>> for MouseEvent\n",
      "ERROR: Invoking <bound method amplitude_view.on_mouse_move of <amplitude_view (PyQt4) at 0x12ccd7790>> repeat 2\n",
      "WARNING: Traceback (most recent call last):\n",
      "  File \"/Users/chiy/anaconda/lib/python2.7/runpy.py\", line 174, in _run_module_as_main\n",
      "    \"__main__\", fname, loader, pkg_name)\n",
      "  File \"/Users/chiy/anaconda/lib/python2.7/runpy.py\", line 72, in _run_code\n",
      "    exec code in run_globals\n",
      "  File \"/Users/chiy/anaconda/lib/python2.7/site-packages/ipykernel/__main__.py\", line 3, in <module>\n",
      "    app.launch_new_instance()\n",
      "  File \"/Users/chiy/anaconda/lib/python2.7/site-packages/traitlets/config/application.py\", line 653, in launch_instance\n",
      "    app.start()\n",
      "  File \"/Users/chiy/anaconda/lib/python2.7/site-packages/ipykernel/kernelapp.py\", line 474, in start\n",
      "    ioloop.IOLoop.instance().start()\n",
      "  File \"/Users/chiy/anaconda/lib/python2.7/site-packages/zmq/eventloop/ioloop.py\", line 162, in start\n",
      "    super(ZMQIOLoop, self).start()\n",
      "  File \"/Users/chiy/anaconda/lib/python2.7/site-packages/tornado/ioloop.py\", line 831, in start\n",
      "    self._run_callback(callback)\n",
      "  File \"/Users/chiy/anaconda/lib/python2.7/site-packages/tornado/ioloop.py\", line 604, in _run_callback\n",
      "    ret = callback()\n",
      "  File \"/Users/chiy/anaconda/lib/python2.7/site-packages/tornado/stack_context.py\", line 275, in null_wrapper\n",
      "    return fn(*args, **kwargs)\n",
      "  File \"/Users/chiy/anaconda/lib/python2.7/site-packages/ipykernel/kernelbase.py\", line 258, in enter_eventloop\n",
      "    self.eventloop(self)\n",
      "  File \"/Users/chiy/anaconda/lib/python2.7/site-packages/ipykernel/eventloops.py\", line 87, in loop_qt4\n",
      "    start_event_loop_qt4(kernel.app)\n",
      "  File \"/Users/chiy/anaconda/lib/python2.7/site-packages/IPython/lib/guisupport.py\", line 135, in start_event_loop_qt4\n",
      "    app.exec_()\n",
      "  File \"/Users/chiy/anaconda/lib/python2.7/site-packages/vispy-0.5.0.dev0-py2.7.egg/vispy/app/backends/_qt.py\", line 387, in mouseMoveEvent\n",
      "    modifiers=self._modifiers(ev),\n",
      "  File \"/Users/chiy/anaconda/lib/python2.7/site-packages/vispy-0.5.0.dev0-py2.7.egg/vispy/app/base.py\", line 202, in _vispy_mouse_move\n",
      "    ev = self._vispy_canvas.events.mouse_move(**kwargs)\n",
      "  File \"/Users/chiy/anaconda/lib/python2.7/site-packages/vispy-0.5.0.dev0-py2.7.egg/vispy/util/event.py\", line 455, in __call__\n",
      "    self._invoke_callback(cb, event)\n",
      "  File \"/Users/chiy/anaconda/lib/python2.7/site-packages/vispy-0.5.0.dev0-py2.7.egg/vispy/util/event.py\", line 475, in _invoke_callback\n",
      "    self, cb_event=(cb, event))\n",
      "  << caught exception here: >>\n",
      "  File \"/Users/chiy/anaconda/lib/python2.7/site-packages/vispy-0.5.0.dev0-py2.7.egg/vispy/util/event.py\", line 471, in _invoke_callback\n",
      "    cb(event)\n",
      "  File \"../../../spiketag/view/scatter_2d_view.py\", line 127, in on_mouse_move\n",
      "    self._picker.cast_net(e.pos,ptype='rectangle')\n",
      "  File \"../../../spiketag/utils/utils.py\", line 230, in cast_net\n",
      "    raise RuntimeError('please do origin_point first!')\n",
      "RuntimeError: please do origin_point first!\n",
      "ERROR: Invoking <bound method amplitude_view.on_mouse_move of <amplitude_view (PyQt4) at 0x12ccd7790>> for MouseEvent\n",
      "WARNING: Traceback (most recent call last):\n",
      "  File \"/Users/chiy/anaconda/lib/python2.7/runpy.py\", line 174, in _run_module_as_main\n",
      "    \"__main__\", fname, loader, pkg_name)\n",
      "  File \"/Users/chiy/anaconda/lib/python2.7/runpy.py\", line 72, in _run_code\n",
      "    exec code in run_globals\n",
      "  File \"/Users/chiy/anaconda/lib/python2.7/site-packages/ipykernel/__main__.py\", line 3, in <module>\n",
      "    app.launch_new_instance()\n",
      "  File \"/Users/chiy/anaconda/lib/python2.7/site-packages/traitlets/config/application.py\", line 653, in launch_instance\n",
      "    app.start()\n",
      "  File \"/Users/chiy/anaconda/lib/python2.7/site-packages/ipykernel/kernelapp.py\", line 474, in start\n",
      "    ioloop.IOLoop.instance().start()\n",
      "  File \"/Users/chiy/anaconda/lib/python2.7/site-packages/zmq/eventloop/ioloop.py\", line 162, in start\n",
      "    super(ZMQIOLoop, self).start()\n",
      "  File \"/Users/chiy/anaconda/lib/python2.7/site-packages/tornado/ioloop.py\", line 831, in start\n",
      "    self._run_callback(callback)\n",
      "  File \"/Users/chiy/anaconda/lib/python2.7/site-packages/tornado/ioloop.py\", line 604, in _run_callback\n",
      "    ret = callback()\n",
      "  File \"/Users/chiy/anaconda/lib/python2.7/site-packages/tornado/stack_context.py\", line 275, in null_wrapper\n",
      "    return fn(*args, **kwargs)\n",
      "  File \"/Users/chiy/anaconda/lib/python2.7/site-packages/ipykernel/kernelbase.py\", line 258, in enter_eventloop\n",
      "    self.eventloop(self)\n",
      "  File \"/Users/chiy/anaconda/lib/python2.7/site-packages/ipykernel/eventloops.py\", line 87, in loop_qt4\n",
      "    start_event_loop_qt4(kernel.app)\n",
      "  File \"/Users/chiy/anaconda/lib/python2.7/site-packages/IPython/lib/guisupport.py\", line 135, in start_event_loop_qt4\n",
      "    app.exec_()\n",
      "  File \"/Users/chiy/anaconda/lib/python2.7/site-packages/vispy-0.5.0.dev0-py2.7.egg/vispy/app/backends/_qt.py\", line 387, in mouseMoveEvent\n",
      "    modifiers=self._modifiers(ev),\n",
      "  File \"/Users/chiy/anaconda/lib/python2.7/site-packages/vispy-0.5.0.dev0-py2.7.egg/vispy/app/base.py\", line 202, in _vispy_mouse_move\n",
      "    ev = self._vispy_canvas.events.mouse_move(**kwargs)\n",
      "  File \"/Users/chiy/anaconda/lib/python2.7/site-packages/vispy-0.5.0.dev0-py2.7.egg/vispy/util/event.py\", line 455, in __call__\n",
      "    self._invoke_callback(cb, event)\n",
      "  File \"/Users/chiy/anaconda/lib/python2.7/site-packages/vispy-0.5.0.dev0-py2.7.egg/vispy/util/event.py\", line 475, in _invoke_callback\n",
      "    self, cb_event=(cb, event))\n",
      "  << caught exception here: >>\n",
      "  File \"/Users/chiy/anaconda/lib/python2.7/site-packages/vispy-0.5.0.dev0-py2.7.egg/vispy/util/event.py\", line 471, in _invoke_callback\n",
      "    cb(event)\n",
      "  File \"../../../spiketag/view/scatter_2d_view.py\", line 127, in on_mouse_move\n",
      "    self._picker.cast_net(e.pos,ptype='rectangle')\n",
      "  File \"../../../spiketag/utils/utils.py\", line 230, in cast_net\n",
      "    raise RuntimeError('please do origin_point first!')\n",
      "RuntimeError: please do origin_point first!\n",
      "ERROR: Invoking <bound method amplitude_view.on_mouse_move of <amplitude_view (PyQt4) at 0x12ccd7790>> for MouseEvent\n",
      "WARNING: Traceback (most recent call last):\n",
      "  File \"/Users/chiy/anaconda/lib/python2.7/runpy.py\", line 174, in _run_module_as_main\n",
      "    \"__main__\", fname, loader, pkg_name)\n",
      "  File \"/Users/chiy/anaconda/lib/python2.7/runpy.py\", line 72, in _run_code\n",
      "    exec code in run_globals\n",
      "  File \"/Users/chiy/anaconda/lib/python2.7/site-packages/ipykernel/__main__.py\", line 3, in <module>\n",
      "    app.launch_new_instance()\n",
      "  File \"/Users/chiy/anaconda/lib/python2.7/site-packages/traitlets/config/application.py\", line 653, in launch_instance\n",
      "    app.start()\n",
      "  File \"/Users/chiy/anaconda/lib/python2.7/site-packages/ipykernel/kernelapp.py\", line 474, in start\n",
      "    ioloop.IOLoop.instance().start()\n",
      "  File \"/Users/chiy/anaconda/lib/python2.7/site-packages/zmq/eventloop/ioloop.py\", line 162, in start\n",
      "    super(ZMQIOLoop, self).start()\n",
      "  File \"/Users/chiy/anaconda/lib/python2.7/site-packages/tornado/ioloop.py\", line 831, in start\n",
      "    self._run_callback(callback)\n",
      "  File \"/Users/chiy/anaconda/lib/python2.7/site-packages/tornado/ioloop.py\", line 604, in _run_callback\n",
      "    ret = callback()\n",
      "  File \"/Users/chiy/anaconda/lib/python2.7/site-packages/tornado/stack_context.py\", line 275, in null_wrapper\n",
      "    return fn(*args, **kwargs)\n",
      "  File \"/Users/chiy/anaconda/lib/python2.7/site-packages/ipykernel/kernelbase.py\", line 258, in enter_eventloop\n",
      "    self.eventloop(self)\n",
      "  File \"/Users/chiy/anaconda/lib/python2.7/site-packages/ipykernel/eventloops.py\", line 87, in loop_qt4\n",
      "    start_event_loop_qt4(kernel.app)\n",
      "  File \"/Users/chiy/anaconda/lib/python2.7/site-packages/IPython/lib/guisupport.py\", line 135, in start_event_loop_qt4\n",
      "    app.exec_()\n",
      "  File \"/Users/chiy/anaconda/lib/python2.7/site-packages/vispy-0.5.0.dev0-py2.7.egg/vispy/app/backends/_qt.py\", line 387, in mouseMoveEvent\n",
      "    modifiers=self._modifiers(ev),\n",
      "  File \"/Users/chiy/anaconda/lib/python2.7/site-packages/vispy-0.5.0.dev0-py2.7.egg/vispy/app/base.py\", line 202, in _vispy_mouse_move\n",
      "    ev = self._vispy_canvas.events.mouse_move(**kwargs)\n",
      "  File \"/Users/chiy/anaconda/lib/python2.7/site-packages/vispy-0.5.0.dev0-py2.7.egg/vispy/util/event.py\", line 455, in __call__\n",
      "    self._invoke_callback(cb, event)\n",
      "  File \"/Users/chiy/anaconda/lib/python2.7/site-packages/vispy-0.5.0.dev0-py2.7.egg/vispy/util/event.py\", line 475, in _invoke_callback\n",
      "    self, cb_event=(cb, event))\n",
      "  << caught exception here: >>\n",
      "  File \"/Users/chiy/anaconda/lib/python2.7/site-packages/vispy-0.5.0.dev0-py2.7.egg/vispy/util/event.py\", line 471, in _invoke_callback\n",
      "    cb(event)\n",
      "  File \"../../../spiketag/view/scatter_2d_view.py\", line 127, in on_mouse_move\n",
      "    self._picker.cast_net(e.pos,ptype='rectangle')\n",
      "  File \"../../../spiketag/utils/utils.py\", line 230, in cast_net\n",
      "    raise RuntimeError('please do origin_point first!')\n",
      "RuntimeError: please do origin_point first!\n",
      "ERROR: Invoking <bound method amplitude_view.on_mouse_move of <amplitude_view (PyQt4) at 0x12ccd7790>> for MouseEvent\n",
      "WARNING: Traceback (most recent call last):\n",
      "  File \"/Users/chiy/anaconda/lib/python2.7/runpy.py\", line 174, in _run_module_as_main\n",
      "    \"__main__\", fname, loader, pkg_name)\n",
      "  File \"/Users/chiy/anaconda/lib/python2.7/runpy.py\", line 72, in _run_code\n",
      "    exec code in run_globals\n",
      "  File \"/Users/chiy/anaconda/lib/python2.7/site-packages/ipykernel/__main__.py\", line 3, in <module>\n",
      "    app.launch_new_instance()\n",
      "  File \"/Users/chiy/anaconda/lib/python2.7/site-packages/traitlets/config/application.py\", line 653, in launch_instance\n",
      "    app.start()\n",
      "  File \"/Users/chiy/anaconda/lib/python2.7/site-packages/ipykernel/kernelapp.py\", line 474, in start\n",
      "    ioloop.IOLoop.instance().start()\n",
      "  File \"/Users/chiy/anaconda/lib/python2.7/site-packages/zmq/eventloop/ioloop.py\", line 162, in start\n",
      "    super(ZMQIOLoop, self).start()\n",
      "  File \"/Users/chiy/anaconda/lib/python2.7/site-packages/tornado/ioloop.py\", line 831, in start\n",
      "    self._run_callback(callback)\n",
      "  File \"/Users/chiy/anaconda/lib/python2.7/site-packages/tornado/ioloop.py\", line 604, in _run_callback\n",
      "    ret = callback()\n",
      "  File \"/Users/chiy/anaconda/lib/python2.7/site-packages/tornado/stack_context.py\", line 275, in null_wrapper\n",
      "    return fn(*args, **kwargs)\n",
      "  File \"/Users/chiy/anaconda/lib/python2.7/site-packages/ipykernel/kernelbase.py\", line 258, in enter_eventloop\n",
      "    self.eventloop(self)\n",
      "  File \"/Users/chiy/anaconda/lib/python2.7/site-packages/ipykernel/eventloops.py\", line 87, in loop_qt4\n",
      "    start_event_loop_qt4(kernel.app)\n",
      "  File \"/Users/chiy/anaconda/lib/python2.7/site-packages/IPython/lib/guisupport.py\", line 135, in start_event_loop_qt4\n",
      "    app.exec_()\n",
      "  File \"/Users/chiy/anaconda/lib/python2.7/site-packages/vispy-0.5.0.dev0-py2.7.egg/vispy/app/backends/_qt.py\", line 387, in mouseMoveEvent\n",
      "    modifiers=self._modifiers(ev),\n",
      "  File \"/Users/chiy/anaconda/lib/python2.7/site-packages/vispy-0.5.0.dev0-py2.7.egg/vispy/app/base.py\", line 202, in _vispy_mouse_move\n",
      "    ev = self._vispy_canvas.events.mouse_move(**kwargs)\n",
      "  File \"/Users/chiy/anaconda/lib/python2.7/site-packages/vispy-0.5.0.dev0-py2.7.egg/vispy/util/event.py\", line 455, in __call__\n",
      "    self._invoke_callback(cb, event)\n",
      "  File \"/Users/chiy/anaconda/lib/python2.7/site-packages/vispy-0.5.0.dev0-py2.7.egg/vispy/util/event.py\", line 475, in _invoke_callback\n",
      "    self, cb_event=(cb, event))\n",
      "  << caught exception here: >>\n",
      "  File \"/Users/chiy/anaconda/lib/python2.7/site-packages/vispy-0.5.0.dev0-py2.7.egg/vispy/util/event.py\", line 471, in _invoke_callback\n",
      "    cb(event)\n",
      "  File \"../../../spiketag/view/scatter_2d_view.py\", line 127, in on_mouse_move\n",
      "    self._picker.cast_net(e.pos,ptype='rectangle')\n",
      "  File \"../../../spiketag/utils/utils.py\", line 230, in cast_net\n",
      "    raise RuntimeError('please do origin_point first!')\n",
      "RuntimeError: please do origin_point first!\n",
      "ERROR: Invoking <bound method amplitude_view.on_mouse_move of <amplitude_view (PyQt4) at 0x12ccd7790>> for MouseEvent\n",
      "WARNING: Traceback (most recent call last):\n",
      "  File \"/Users/chiy/anaconda/lib/python2.7/runpy.py\", line 174, in _run_module_as_main\n",
      "    \"__main__\", fname, loader, pkg_name)\n",
      "  File \"/Users/chiy/anaconda/lib/python2.7/runpy.py\", line 72, in _run_code\n",
      "    exec code in run_globals\n",
      "  File \"/Users/chiy/anaconda/lib/python2.7/site-packages/ipykernel/__main__.py\", line 3, in <module>\n",
      "    app.launch_new_instance()\n",
      "  File \"/Users/chiy/anaconda/lib/python2.7/site-packages/traitlets/config/application.py\", line 653, in launch_instance\n",
      "    app.start()\n",
      "  File \"/Users/chiy/anaconda/lib/python2.7/site-packages/ipykernel/kernelapp.py\", line 474, in start\n",
      "    ioloop.IOLoop.instance().start()\n",
      "  File \"/Users/chiy/anaconda/lib/python2.7/site-packages/zmq/eventloop/ioloop.py\", line 162, in start\n",
      "    super(ZMQIOLoop, self).start()\n",
      "  File \"/Users/chiy/anaconda/lib/python2.7/site-packages/tornado/ioloop.py\", line 831, in start\n",
      "    self._run_callback(callback)\n",
      "  File \"/Users/chiy/anaconda/lib/python2.7/site-packages/tornado/ioloop.py\", line 604, in _run_callback\n",
      "    ret = callback()\n",
      "  File \"/Users/chiy/anaconda/lib/python2.7/site-packages/tornado/stack_context.py\", line 275, in null_wrapper\n",
      "    return fn(*args, **kwargs)\n",
      "  File \"/Users/chiy/anaconda/lib/python2.7/site-packages/ipykernel/kernelbase.py\", line 258, in enter_eventloop\n",
      "    self.eventloop(self)\n",
      "  File \"/Users/chiy/anaconda/lib/python2.7/site-packages/ipykernel/eventloops.py\", line 87, in loop_qt4\n",
      "    start_event_loop_qt4(kernel.app)\n",
      "  File \"/Users/chiy/anaconda/lib/python2.7/site-packages/IPython/lib/guisupport.py\", line 135, in start_event_loop_qt4\n",
      "    app.exec_()\n",
      "  File \"/Users/chiy/anaconda/lib/python2.7/site-packages/vispy-0.5.0.dev0-py2.7.egg/vispy/app/backends/_qt.py\", line 387, in mouseMoveEvent\n",
      "    modifiers=self._modifiers(ev),\n",
      "  File \"/Users/chiy/anaconda/lib/python2.7/site-packages/vispy-0.5.0.dev0-py2.7.egg/vispy/app/base.py\", line 202, in _vispy_mouse_move\n",
      "    ev = self._vispy_canvas.events.mouse_move(**kwargs)\n",
      "  File \"/Users/chiy/anaconda/lib/python2.7/site-packages/vispy-0.5.0.dev0-py2.7.egg/vispy/util/event.py\", line 455, in __call__\n",
      "    self._invoke_callback(cb, event)\n",
      "  File \"/Users/chiy/anaconda/lib/python2.7/site-packages/vispy-0.5.0.dev0-py2.7.egg/vispy/util/event.py\", line 475, in _invoke_callback\n",
      "    self, cb_event=(cb, event))\n",
      "  << caught exception here: >>\n",
      "  File \"/Users/chiy/anaconda/lib/python2.7/site-packages/vispy-0.5.0.dev0-py2.7.egg/vispy/util/event.py\", line 471, in _invoke_callback\n",
      "    cb(event)\n",
      "  File \"../../../spiketag/view/scatter_2d_view.py\", line 127, in on_mouse_move\n",
      "    self._picker.cast_net(e.pos,ptype='rectangle')\n",
      "  File \"../../../spiketag/utils/utils.py\", line 230, in cast_net\n",
      "    raise RuntimeError('please do origin_point first!')\n",
      "RuntimeError: please do origin_point first!\n",
      "ERROR: Invoking <bound method amplitude_view.on_mouse_move of <amplitude_view (PyQt4) at 0x12ccd7790>> for MouseEvent\n",
      "WARNING: Traceback (most recent call last):\n",
      "  File \"/Users/chiy/anaconda/lib/python2.7/runpy.py\", line 174, in _run_module_as_main\n",
      "    \"__main__\", fname, loader, pkg_name)\n",
      "  File \"/Users/chiy/anaconda/lib/python2.7/runpy.py\", line 72, in _run_code\n",
      "    exec code in run_globals\n",
      "  File \"/Users/chiy/anaconda/lib/python2.7/site-packages/ipykernel/__main__.py\", line 3, in <module>\n",
      "    app.launch_new_instance()\n",
      "  File \"/Users/chiy/anaconda/lib/python2.7/site-packages/traitlets/config/application.py\", line 653, in launch_instance\n",
      "    app.start()\n",
      "  File \"/Users/chiy/anaconda/lib/python2.7/site-packages/ipykernel/kernelapp.py\", line 474, in start\n",
      "    ioloop.IOLoop.instance().start()\n",
      "  File \"/Users/chiy/anaconda/lib/python2.7/site-packages/zmq/eventloop/ioloop.py\", line 162, in start\n",
      "    super(ZMQIOLoop, self).start()\n",
      "  File \"/Users/chiy/anaconda/lib/python2.7/site-packages/tornado/ioloop.py\", line 831, in start\n",
      "    self._run_callback(callback)\n",
      "  File \"/Users/chiy/anaconda/lib/python2.7/site-packages/tornado/ioloop.py\", line 604, in _run_callback\n",
      "    ret = callback()\n",
      "  File \"/Users/chiy/anaconda/lib/python2.7/site-packages/tornado/stack_context.py\", line 275, in null_wrapper\n",
      "    return fn(*args, **kwargs)\n",
      "  File \"/Users/chiy/anaconda/lib/python2.7/site-packages/ipykernel/kernelbase.py\", line 258, in enter_eventloop\n",
      "    self.eventloop(self)\n",
      "  File \"/Users/chiy/anaconda/lib/python2.7/site-packages/ipykernel/eventloops.py\", line 87, in loop_qt4\n",
      "    start_event_loop_qt4(kernel.app)\n",
      "  File \"/Users/chiy/anaconda/lib/python2.7/site-packages/IPython/lib/guisupport.py\", line 135, in start_event_loop_qt4\n",
      "    app.exec_()\n",
      "  File \"/Users/chiy/anaconda/lib/python2.7/site-packages/vispy-0.5.0.dev0-py2.7.egg/vispy/app/backends/_qt.py\", line 387, in mouseMoveEvent\n",
      "    modifiers=self._modifiers(ev),\n",
      "  File \"/Users/chiy/anaconda/lib/python2.7/site-packages/vispy-0.5.0.dev0-py2.7.egg/vispy/app/base.py\", line 202, in _vispy_mouse_move\n",
      "    ev = self._vispy_canvas.events.mouse_move(**kwargs)\n",
      "  File \"/Users/chiy/anaconda/lib/python2.7/site-packages/vispy-0.5.0.dev0-py2.7.egg/vispy/util/event.py\", line 455, in __call__\n",
      "    self._invoke_callback(cb, event)\n",
      "  File \"/Users/chiy/anaconda/lib/python2.7/site-packages/vispy-0.5.0.dev0-py2.7.egg/vispy/util/event.py\", line 475, in _invoke_callback\n",
      "    self, cb_event=(cb, event))\n",
      "  << caught exception here: >>\n",
      "  File \"/Users/chiy/anaconda/lib/python2.7/site-packages/vispy-0.5.0.dev0-py2.7.egg/vispy/util/event.py\", line 471, in _invoke_callback\n",
      "    cb(event)\n",
      "  File \"../../../spiketag/view/scatter_2d_view.py\", line 127, in on_mouse_move\n",
      "    self._picker.cast_net(e.pos,ptype='rectangle')\n",
      "  File \"../../../spiketag/utils/utils.py\", line 230, in cast_net\n",
      "    raise RuntimeError('please do origin_point first!')\n",
      "RuntimeError: please do origin_point first!\n",
      "ERROR: Invoking <bound method amplitude_view.on_mouse_move of <amplitude_view (PyQt4) at 0x12ccd7790>> for MouseEvent\n",
      "WARNING: Traceback (most recent call last):\n",
      "  File \"/Users/chiy/anaconda/lib/python2.7/runpy.py\", line 174, in _run_module_as_main\n",
      "    \"__main__\", fname, loader, pkg_name)\n",
      "  File \"/Users/chiy/anaconda/lib/python2.7/runpy.py\", line 72, in _run_code\n",
      "    exec code in run_globals\n",
      "  File \"/Users/chiy/anaconda/lib/python2.7/site-packages/ipykernel/__main__.py\", line 3, in <module>\n",
      "    app.launch_new_instance()\n",
      "  File \"/Users/chiy/anaconda/lib/python2.7/site-packages/traitlets/config/application.py\", line 653, in launch_instance\n",
      "    app.start()\n",
      "  File \"/Users/chiy/anaconda/lib/python2.7/site-packages/ipykernel/kernelapp.py\", line 474, in start\n",
      "    ioloop.IOLoop.instance().start()\n",
      "  File \"/Users/chiy/anaconda/lib/python2.7/site-packages/zmq/eventloop/ioloop.py\", line 162, in start\n",
      "    super(ZMQIOLoop, self).start()\n",
      "  File \"/Users/chiy/anaconda/lib/python2.7/site-packages/tornado/ioloop.py\", line 831, in start\n",
      "    self._run_callback(callback)\n",
      "  File \"/Users/chiy/anaconda/lib/python2.7/site-packages/tornado/ioloop.py\", line 604, in _run_callback\n",
      "    ret = callback()\n",
      "  File \"/Users/chiy/anaconda/lib/python2.7/site-packages/tornado/stack_context.py\", line 275, in null_wrapper\n",
      "    return fn(*args, **kwargs)\n",
      "  File \"/Users/chiy/anaconda/lib/python2.7/site-packages/ipykernel/kernelbase.py\", line 258, in enter_eventloop\n",
      "    self.eventloop(self)\n",
      "  File \"/Users/chiy/anaconda/lib/python2.7/site-packages/ipykernel/eventloops.py\", line 87, in loop_qt4\n",
      "    start_event_loop_qt4(kernel.app)\n",
      "  File \"/Users/chiy/anaconda/lib/python2.7/site-packages/IPython/lib/guisupport.py\", line 135, in start_event_loop_qt4\n",
      "    app.exec_()\n",
      "  File \"/Users/chiy/anaconda/lib/python2.7/site-packages/vispy-0.5.0.dev0-py2.7.egg/vispy/app/backends/_qt.py\", line 387, in mouseMoveEvent\n",
      "    modifiers=self._modifiers(ev),\n",
      "  File \"/Users/chiy/anaconda/lib/python2.7/site-packages/vispy-0.5.0.dev0-py2.7.egg/vispy/app/base.py\", line 202, in _vispy_mouse_move\n",
      "    ev = self._vispy_canvas.events.mouse_move(**kwargs)\n",
      "  File \"/Users/chiy/anaconda/lib/python2.7/site-packages/vispy-0.5.0.dev0-py2.7.egg/vispy/util/event.py\", line 455, in __call__\n",
      "    self._invoke_callback(cb, event)\n",
      "  File \"/Users/chiy/anaconda/lib/python2.7/site-packages/vispy-0.5.0.dev0-py2.7.egg/vispy/util/event.py\", line 475, in _invoke_callback\n",
      "    self, cb_event=(cb, event))\n",
      "  << caught exception here: >>\n",
      "  File \"/Users/chiy/anaconda/lib/python2.7/site-packages/vispy-0.5.0.dev0-py2.7.egg/vispy/util/event.py\", line 471, in _invoke_callback\n",
      "    cb(event)\n",
      "  File \"../../../spiketag/view/scatter_2d_view.py\", line 127, in on_mouse_move\n",
      "    self._picker.cast_net(e.pos,ptype='rectangle')\n",
      "  File \"../../../spiketag/utils/utils.py\", line 230, in cast_net\n",
      "    raise RuntimeError('please do origin_point first!')\n",
      "RuntimeError: please do origin_point first!\n",
      "ERROR: Invoking <bound method amplitude_view.on_mouse_move of <amplitude_view (PyQt4) at 0x12ccd7790>> for MouseEvent\n",
      "WARNING: Traceback (most recent call last):\n",
      "  File \"/Users/chiy/anaconda/lib/python2.7/runpy.py\", line 174, in _run_module_as_main\n",
      "    \"__main__\", fname, loader, pkg_name)\n",
      "  File \"/Users/chiy/anaconda/lib/python2.7/runpy.py\", line 72, in _run_code\n",
      "    exec code in run_globals\n",
      "  File \"/Users/chiy/anaconda/lib/python2.7/site-packages/ipykernel/__main__.py\", line 3, in <module>\n",
      "    app.launch_new_instance()\n",
      "  File \"/Users/chiy/anaconda/lib/python2.7/site-packages/traitlets/config/application.py\", line 653, in launch_instance\n",
      "    app.start()\n",
      "  File \"/Users/chiy/anaconda/lib/python2.7/site-packages/ipykernel/kernelapp.py\", line 474, in start\n",
      "    ioloop.IOLoop.instance().start()\n",
      "  File \"/Users/chiy/anaconda/lib/python2.7/site-packages/zmq/eventloop/ioloop.py\", line 162, in start\n",
      "    super(ZMQIOLoop, self).start()\n",
      "  File \"/Users/chiy/anaconda/lib/python2.7/site-packages/tornado/ioloop.py\", line 831, in start\n",
      "    self._run_callback(callback)\n",
      "  File \"/Users/chiy/anaconda/lib/python2.7/site-packages/tornado/ioloop.py\", line 604, in _run_callback\n",
      "    ret = callback()\n",
      "  File \"/Users/chiy/anaconda/lib/python2.7/site-packages/tornado/stack_context.py\", line 275, in null_wrapper\n",
      "    return fn(*args, **kwargs)\n",
      "  File \"/Users/chiy/anaconda/lib/python2.7/site-packages/ipykernel/kernelbase.py\", line 258, in enter_eventloop\n",
      "    self.eventloop(self)\n",
      "  File \"/Users/chiy/anaconda/lib/python2.7/site-packages/ipykernel/eventloops.py\", line 87, in loop_qt4\n",
      "    start_event_loop_qt4(kernel.app)\n",
      "  File \"/Users/chiy/anaconda/lib/python2.7/site-packages/IPython/lib/guisupport.py\", line 135, in start_event_loop_qt4\n",
      "    app.exec_()\n",
      "  File \"/Users/chiy/anaconda/lib/python2.7/site-packages/vispy-0.5.0.dev0-py2.7.egg/vispy/app/backends/_qt.py\", line 387, in mouseMoveEvent\n",
      "    modifiers=self._modifiers(ev),\n",
      "  File \"/Users/chiy/anaconda/lib/python2.7/site-packages/vispy-0.5.0.dev0-py2.7.egg/vispy/app/base.py\", line 202, in _vispy_mouse_move\n",
      "    ev = self._vispy_canvas.events.mouse_move(**kwargs)\n",
      "  File \"/Users/chiy/anaconda/lib/python2.7/site-packages/vispy-0.5.0.dev0-py2.7.egg/vispy/util/event.py\", line 455, in __call__\n",
      "    self._invoke_callback(cb, event)\n",
      "  File \"/Users/chiy/anaconda/lib/python2.7/site-packages/vispy-0.5.0.dev0-py2.7.egg/vispy/util/event.py\", line 475, in _invoke_callback\n",
      "    self, cb_event=(cb, event))\n",
      "  << caught exception here: >>\n",
      "  File \"/Users/chiy/anaconda/lib/python2.7/site-packages/vispy-0.5.0.dev0-py2.7.egg/vispy/util/event.py\", line 471, in _invoke_callback\n",
      "    cb(event)\n",
      "  File \"../../../spiketag/view/scatter_2d_view.py\", line 127, in on_mouse_move\n",
      "    self._picker.cast_net(e.pos,ptype='rectangle')\n",
      "  File \"../../../spiketag/utils/utils.py\", line 230, in cast_net\n",
      "    raise RuntimeError('please do origin_point first!')\n",
      "RuntimeError: please do origin_point first!\n",
      "ERROR: Invoking <bound method amplitude_view.on_mouse_move of <amplitude_view (PyQt4) at 0x12ccd7790>> for MouseEvent\n",
      "WARNING: Traceback (most recent call last):\n",
      "  File \"/Users/chiy/anaconda/lib/python2.7/runpy.py\", line 174, in _run_module_as_main\n",
      "    \"__main__\", fname, loader, pkg_name)\n",
      "  File \"/Users/chiy/anaconda/lib/python2.7/runpy.py\", line 72, in _run_code\n",
      "    exec code in run_globals\n",
      "  File \"/Users/chiy/anaconda/lib/python2.7/site-packages/ipykernel/__main__.py\", line 3, in <module>\n",
      "    app.launch_new_instance()\n",
      "  File \"/Users/chiy/anaconda/lib/python2.7/site-packages/traitlets/config/application.py\", line 653, in launch_instance\n",
      "    app.start()\n",
      "  File \"/Users/chiy/anaconda/lib/python2.7/site-packages/ipykernel/kernelapp.py\", line 474, in start\n",
      "    ioloop.IOLoop.instance().start()\n",
      "  File \"/Users/chiy/anaconda/lib/python2.7/site-packages/zmq/eventloop/ioloop.py\", line 162, in start\n",
      "    super(ZMQIOLoop, self).start()\n",
      "  File \"/Users/chiy/anaconda/lib/python2.7/site-packages/tornado/ioloop.py\", line 831, in start\n",
      "    self._run_callback(callback)\n",
      "  File \"/Users/chiy/anaconda/lib/python2.7/site-packages/tornado/ioloop.py\", line 604, in _run_callback\n",
      "    ret = callback()\n",
      "  File \"/Users/chiy/anaconda/lib/python2.7/site-packages/tornado/stack_context.py\", line 275, in null_wrapper\n",
      "    return fn(*args, **kwargs)\n",
      "  File \"/Users/chiy/anaconda/lib/python2.7/site-packages/ipykernel/kernelbase.py\", line 258, in enter_eventloop\n",
      "    self.eventloop(self)\n",
      "  File \"/Users/chiy/anaconda/lib/python2.7/site-packages/ipykernel/eventloops.py\", line 87, in loop_qt4\n",
      "    start_event_loop_qt4(kernel.app)\n",
      "  File \"/Users/chiy/anaconda/lib/python2.7/site-packages/IPython/lib/guisupport.py\", line 135, in start_event_loop_qt4\n",
      "    app.exec_()\n",
      "  File \"/Users/chiy/anaconda/lib/python2.7/site-packages/vispy-0.5.0.dev0-py2.7.egg/vispy/app/backends/_qt.py\", line 387, in mouseMoveEvent\n",
      "    modifiers=self._modifiers(ev),\n",
      "  File \"/Users/chiy/anaconda/lib/python2.7/site-packages/vispy-0.5.0.dev0-py2.7.egg/vispy/app/base.py\", line 202, in _vispy_mouse_move\n",
      "    ev = self._vispy_canvas.events.mouse_move(**kwargs)\n",
      "  File \"/Users/chiy/anaconda/lib/python2.7/site-packages/vispy-0.5.0.dev0-py2.7.egg/vispy/util/event.py\", line 455, in __call__\n",
      "    self._invoke_callback(cb, event)\n",
      "  File \"/Users/chiy/anaconda/lib/python2.7/site-packages/vispy-0.5.0.dev0-py2.7.egg/vispy/util/event.py\", line 475, in _invoke_callback\n",
      "    self, cb_event=(cb, event))\n",
      "  << caught exception here: >>\n",
      "  File \"/Users/chiy/anaconda/lib/python2.7/site-packages/vispy-0.5.0.dev0-py2.7.egg/vispy/util/event.py\", line 471, in _invoke_callback\n",
      "    cb(event)\n",
      "  File \"../../../spiketag/view/scatter_2d_view.py\", line 127, in on_mouse_move\n",
      "    self._picker.cast_net(e.pos,ptype='rectangle')\n",
      "  File \"../../../spiketag/utils/utils.py\", line 230, in cast_net\n",
      "    raise RuntimeError('please do origin_point first!')\n",
      "RuntimeError: please do origin_point first!\n",
      "ERROR: Invoking <bound method amplitude_view.on_mouse_move of <amplitude_view (PyQt4) at 0x12ccd7790>> for MouseEvent\n",
      "WARNING: Traceback (most recent call last):\n",
      "  File \"/Users/chiy/anaconda/lib/python2.7/runpy.py\", line 174, in _run_module_as_main\n",
      "    \"__main__\", fname, loader, pkg_name)\n",
      "  File \"/Users/chiy/anaconda/lib/python2.7/runpy.py\", line 72, in _run_code\n",
      "    exec code in run_globals\n",
      "  File \"/Users/chiy/anaconda/lib/python2.7/site-packages/ipykernel/__main__.py\", line 3, in <module>\n",
      "    app.launch_new_instance()\n",
      "  File \"/Users/chiy/anaconda/lib/python2.7/site-packages/traitlets/config/application.py\", line 653, in launch_instance\n",
      "    app.start()\n",
      "  File \"/Users/chiy/anaconda/lib/python2.7/site-packages/ipykernel/kernelapp.py\", line 474, in start\n",
      "    ioloop.IOLoop.instance().start()\n",
      "  File \"/Users/chiy/anaconda/lib/python2.7/site-packages/zmq/eventloop/ioloop.py\", line 162, in start\n",
      "    super(ZMQIOLoop, self).start()\n",
      "  File \"/Users/chiy/anaconda/lib/python2.7/site-packages/tornado/ioloop.py\", line 831, in start\n",
      "    self._run_callback(callback)\n",
      "  File \"/Users/chiy/anaconda/lib/python2.7/site-packages/tornado/ioloop.py\", line 604, in _run_callback\n",
      "    ret = callback()\n",
      "  File \"/Users/chiy/anaconda/lib/python2.7/site-packages/tornado/stack_context.py\", line 275, in null_wrapper\n",
      "    return fn(*args, **kwargs)\n",
      "  File \"/Users/chiy/anaconda/lib/python2.7/site-packages/ipykernel/kernelbase.py\", line 258, in enter_eventloop\n",
      "    self.eventloop(self)\n",
      "  File \"/Users/chiy/anaconda/lib/python2.7/site-packages/ipykernel/eventloops.py\", line 87, in loop_qt4\n",
      "    start_event_loop_qt4(kernel.app)\n",
      "  File \"/Users/chiy/anaconda/lib/python2.7/site-packages/IPython/lib/guisupport.py\", line 135, in start_event_loop_qt4\n",
      "    app.exec_()\n",
      "  File \"/Users/chiy/anaconda/lib/python2.7/site-packages/vispy-0.5.0.dev0-py2.7.egg/vispy/app/backends/_qt.py\", line 387, in mouseMoveEvent\n",
      "    modifiers=self._modifiers(ev),\n",
      "  File \"/Users/chiy/anaconda/lib/python2.7/site-packages/vispy-0.5.0.dev0-py2.7.egg/vispy/app/base.py\", line 202, in _vispy_mouse_move\n",
      "    ev = self._vispy_canvas.events.mouse_move(**kwargs)\n",
      "  File \"/Users/chiy/anaconda/lib/python2.7/site-packages/vispy-0.5.0.dev0-py2.7.egg/vispy/util/event.py\", line 455, in __call__\n",
      "    self._invoke_callback(cb, event)\n",
      "  File \"/Users/chiy/anaconda/lib/python2.7/site-packages/vispy-0.5.0.dev0-py2.7.egg/vispy/util/event.py\", line 475, in _invoke_callback\n",
      "    self, cb_event=(cb, event))\n",
      "  << caught exception here: >>\n",
      "  File \"/Users/chiy/anaconda/lib/python2.7/site-packages/vispy-0.5.0.dev0-py2.7.egg/vispy/util/event.py\", line 471, in _invoke_callback\n",
      "    cb(event)\n",
      "  File \"../../../spiketag/view/scatter_2d_view.py\", line 127, in on_mouse_move\n",
      "    self._picker.cast_net(e.pos,ptype='rectangle')\n",
      "  File \"../../../spiketag/utils/utils.py\", line 230, in cast_net\n",
      "    raise RuntimeError('please do origin_point first!')\n",
      "RuntimeError: please do origin_point first!\n",
      "ERROR: Invoking <bound method amplitude_view.on_mouse_move of <amplitude_view (PyQt4) at 0x12ccd7790>> for MouseEvent\n",
      "WARNING: Traceback (most recent call last):\n",
      "  File \"/Users/chiy/anaconda/lib/python2.7/runpy.py\", line 174, in _run_module_as_main\n",
      "    \"__main__\", fname, loader, pkg_name)\n",
      "  File \"/Users/chiy/anaconda/lib/python2.7/runpy.py\", line 72, in _run_code\n",
      "    exec code in run_globals\n",
      "  File \"/Users/chiy/anaconda/lib/python2.7/site-packages/ipykernel/__main__.py\", line 3, in <module>\n",
      "    app.launch_new_instance()\n",
      "  File \"/Users/chiy/anaconda/lib/python2.7/site-packages/traitlets/config/application.py\", line 653, in launch_instance\n",
      "    app.start()\n",
      "  File \"/Users/chiy/anaconda/lib/python2.7/site-packages/ipykernel/kernelapp.py\", line 474, in start\n",
      "    ioloop.IOLoop.instance().start()\n",
      "  File \"/Users/chiy/anaconda/lib/python2.7/site-packages/zmq/eventloop/ioloop.py\", line 162, in start\n",
      "    super(ZMQIOLoop, self).start()\n",
      "  File \"/Users/chiy/anaconda/lib/python2.7/site-packages/tornado/ioloop.py\", line 831, in start\n",
      "    self._run_callback(callback)\n",
      "  File \"/Users/chiy/anaconda/lib/python2.7/site-packages/tornado/ioloop.py\", line 604, in _run_callback\n",
      "    ret = callback()\n",
      "  File \"/Users/chiy/anaconda/lib/python2.7/site-packages/tornado/stack_context.py\", line 275, in null_wrapper\n",
      "    return fn(*args, **kwargs)\n",
      "  File \"/Users/chiy/anaconda/lib/python2.7/site-packages/ipykernel/kernelbase.py\", line 258, in enter_eventloop\n",
      "    self.eventloop(self)\n",
      "  File \"/Users/chiy/anaconda/lib/python2.7/site-packages/ipykernel/eventloops.py\", line 87, in loop_qt4\n",
      "    start_event_loop_qt4(kernel.app)\n",
      "  File \"/Users/chiy/anaconda/lib/python2.7/site-packages/IPython/lib/guisupport.py\", line 135, in start_event_loop_qt4\n",
      "    app.exec_()\n",
      "  File \"/Users/chiy/anaconda/lib/python2.7/site-packages/vispy-0.5.0.dev0-py2.7.egg/vispy/app/backends/_qt.py\", line 387, in mouseMoveEvent\n",
      "    modifiers=self._modifiers(ev),\n",
      "  File \"/Users/chiy/anaconda/lib/python2.7/site-packages/vispy-0.5.0.dev0-py2.7.egg/vispy/app/base.py\", line 202, in _vispy_mouse_move\n",
      "    ev = self._vispy_canvas.events.mouse_move(**kwargs)\n",
      "  File \"/Users/chiy/anaconda/lib/python2.7/site-packages/vispy-0.5.0.dev0-py2.7.egg/vispy/util/event.py\", line 455, in __call__\n",
      "    self._invoke_callback(cb, event)\n",
      "  File \"/Users/chiy/anaconda/lib/python2.7/site-packages/vispy-0.5.0.dev0-py2.7.egg/vispy/util/event.py\", line 475, in _invoke_callback\n",
      "    self, cb_event=(cb, event))\n",
      "  << caught exception here: >>\n",
      "  File \"/Users/chiy/anaconda/lib/python2.7/site-packages/vispy-0.5.0.dev0-py2.7.egg/vispy/util/event.py\", line 471, in _invoke_callback\n",
      "    cb(event)\n",
      "  File \"../../../spiketag/view/scatter_2d_view.py\", line 127, in on_mouse_move\n",
      "    self._picker.cast_net(e.pos,ptype='rectangle')\n",
      "  File \"../../../spiketag/utils/utils.py\", line 230, in cast_net\n",
      "    raise RuntimeError('please do origin_point first!')\n",
      "RuntimeError: please do origin_point first!\n",
      "ERROR: Invoking <bound method amplitude_view.on_mouse_move of <amplitude_view (PyQt4) at 0x12ccd7790>> for MouseEvent\n",
      "WARNING: Traceback (most recent call last):\n",
      "  File \"/Users/chiy/anaconda/lib/python2.7/runpy.py\", line 174, in _run_module_as_main\n",
      "    \"__main__\", fname, loader, pkg_name)\n",
      "  File \"/Users/chiy/anaconda/lib/python2.7/runpy.py\", line 72, in _run_code\n",
      "    exec code in run_globals\n",
      "  File \"/Users/chiy/anaconda/lib/python2.7/site-packages/ipykernel/__main__.py\", line 3, in <module>\n",
      "    app.launch_new_instance()\n",
      "  File \"/Users/chiy/anaconda/lib/python2.7/site-packages/traitlets/config/application.py\", line 653, in launch_instance\n",
      "    app.start()\n",
      "  File \"/Users/chiy/anaconda/lib/python2.7/site-packages/ipykernel/kernelapp.py\", line 474, in start\n",
      "    ioloop.IOLoop.instance().start()\n",
      "  File \"/Users/chiy/anaconda/lib/python2.7/site-packages/zmq/eventloop/ioloop.py\", line 162, in start\n",
      "    super(ZMQIOLoop, self).start()\n",
      "  File \"/Users/chiy/anaconda/lib/python2.7/site-packages/tornado/ioloop.py\", line 831, in start\n",
      "    self._run_callback(callback)\n",
      "  File \"/Users/chiy/anaconda/lib/python2.7/site-packages/tornado/ioloop.py\", line 604, in _run_callback\n",
      "    ret = callback()\n",
      "  File \"/Users/chiy/anaconda/lib/python2.7/site-packages/tornado/stack_context.py\", line 275, in null_wrapper\n",
      "    return fn(*args, **kwargs)\n",
      "  File \"/Users/chiy/anaconda/lib/python2.7/site-packages/ipykernel/kernelbase.py\", line 258, in enter_eventloop\n",
      "    self.eventloop(self)\n",
      "  File \"/Users/chiy/anaconda/lib/python2.7/site-packages/ipykernel/eventloops.py\", line 87, in loop_qt4\n",
      "    start_event_loop_qt4(kernel.app)\n",
      "  File \"/Users/chiy/anaconda/lib/python2.7/site-packages/IPython/lib/guisupport.py\", line 135, in start_event_loop_qt4\n",
      "    app.exec_()\n",
      "  File \"/Users/chiy/anaconda/lib/python2.7/site-packages/vispy-0.5.0.dev0-py2.7.egg/vispy/app/backends/_qt.py\", line 387, in mouseMoveEvent\n",
      "    modifiers=self._modifiers(ev),\n",
      "  File \"/Users/chiy/anaconda/lib/python2.7/site-packages/vispy-0.5.0.dev0-py2.7.egg/vispy/app/base.py\", line 202, in _vispy_mouse_move\n",
      "    ev = self._vispy_canvas.events.mouse_move(**kwargs)\n",
      "  File \"/Users/chiy/anaconda/lib/python2.7/site-packages/vispy-0.5.0.dev0-py2.7.egg/vispy/util/event.py\", line 455, in __call__\n",
      "    self._invoke_callback(cb, event)\n",
      "  File \"/Users/chiy/anaconda/lib/python2.7/site-packages/vispy-0.5.0.dev0-py2.7.egg/vispy/util/event.py\", line 475, in _invoke_callback\n",
      "    self, cb_event=(cb, event))\n",
      "  << caught exception here: >>\n",
      "  File \"/Users/chiy/anaconda/lib/python2.7/site-packages/vispy-0.5.0.dev0-py2.7.egg/vispy/util/event.py\", line 471, in _invoke_callback\n",
      "    cb(event)\n",
      "  File \"../../../spiketag/view/scatter_2d_view.py\", line 127, in on_mouse_move\n",
      "    self._picker.cast_net(e.pos,ptype='rectangle')\n",
      "  File \"../../../spiketag/utils/utils.py\", line 230, in cast_net\n",
      "    raise RuntimeError('please do origin_point first!')\n",
      "RuntimeError: please do origin_point first!\n",
      "ERROR: Invoking <bound method amplitude_view.on_mouse_move of <amplitude_view (PyQt4) at 0x12ccd7790>> for MouseEvent\n",
      "WARNING: Traceback (most recent call last):\n",
      "  File \"/Users/chiy/anaconda/lib/python2.7/runpy.py\", line 174, in _run_module_as_main\n",
      "    \"__main__\", fname, loader, pkg_name)\n",
      "  File \"/Users/chiy/anaconda/lib/python2.7/runpy.py\", line 72, in _run_code\n",
      "    exec code in run_globals\n",
      "  File \"/Users/chiy/anaconda/lib/python2.7/site-packages/ipykernel/__main__.py\", line 3, in <module>\n",
      "    app.launch_new_instance()\n",
      "  File \"/Users/chiy/anaconda/lib/python2.7/site-packages/traitlets/config/application.py\", line 653, in launch_instance\n",
      "    app.start()\n",
      "  File \"/Users/chiy/anaconda/lib/python2.7/site-packages/ipykernel/kernelapp.py\", line 474, in start\n",
      "    ioloop.IOLoop.instance().start()\n",
      "  File \"/Users/chiy/anaconda/lib/python2.7/site-packages/zmq/eventloop/ioloop.py\", line 162, in start\n",
      "    super(ZMQIOLoop, self).start()\n",
      "  File \"/Users/chiy/anaconda/lib/python2.7/site-packages/tornado/ioloop.py\", line 831, in start\n",
      "    self._run_callback(callback)\n",
      "  File \"/Users/chiy/anaconda/lib/python2.7/site-packages/tornado/ioloop.py\", line 604, in _run_callback\n",
      "    ret = callback()\n",
      "  File \"/Users/chiy/anaconda/lib/python2.7/site-packages/tornado/stack_context.py\", line 275, in null_wrapper\n",
      "    return fn(*args, **kwargs)\n",
      "  File \"/Users/chiy/anaconda/lib/python2.7/site-packages/ipykernel/kernelbase.py\", line 258, in enter_eventloop\n",
      "    self.eventloop(self)\n",
      "  File \"/Users/chiy/anaconda/lib/python2.7/site-packages/ipykernel/eventloops.py\", line 87, in loop_qt4\n",
      "    start_event_loop_qt4(kernel.app)\n",
      "  File \"/Users/chiy/anaconda/lib/python2.7/site-packages/IPython/lib/guisupport.py\", line 135, in start_event_loop_qt4\n",
      "    app.exec_()\n",
      "  File \"/Users/chiy/anaconda/lib/python2.7/site-packages/vispy-0.5.0.dev0-py2.7.egg/vispy/app/backends/_qt.py\", line 387, in mouseMoveEvent\n",
      "    modifiers=self._modifiers(ev),\n",
      "  File \"/Users/chiy/anaconda/lib/python2.7/site-packages/vispy-0.5.0.dev0-py2.7.egg/vispy/app/base.py\", line 202, in _vispy_mouse_move\n",
      "    ev = self._vispy_canvas.events.mouse_move(**kwargs)\n",
      "  File \"/Users/chiy/anaconda/lib/python2.7/site-packages/vispy-0.5.0.dev0-py2.7.egg/vispy/util/event.py\", line 455, in __call__\n",
      "    self._invoke_callback(cb, event)\n",
      "  File \"/Users/chiy/anaconda/lib/python2.7/site-packages/vispy-0.5.0.dev0-py2.7.egg/vispy/util/event.py\", line 475, in _invoke_callback\n",
      "    self, cb_event=(cb, event))\n",
      "  << caught exception here: >>\n",
      "  File \"/Users/chiy/anaconda/lib/python2.7/site-packages/vispy-0.5.0.dev0-py2.7.egg/vispy/util/event.py\", line 471, in _invoke_callback\n",
      "    cb(event)\n",
      "  File \"../../../spiketag/view/scatter_2d_view.py\", line 127, in on_mouse_move\n",
      "    self._picker.cast_net(e.pos,ptype='rectangle')\n",
      "  File \"../../../spiketag/utils/utils.py\", line 230, in cast_net\n",
      "    raise RuntimeError('please do origin_point first!')\n",
      "RuntimeError: please do origin_point first!\n",
      "ERROR: Invoking <bound method amplitude_view.on_mouse_move of <amplitude_view (PyQt4) at 0x12ccd7790>> for MouseEvent\n",
      "WARNING: Traceback (most recent call last):\n",
      "  File \"/Users/chiy/anaconda/lib/python2.7/runpy.py\", line 174, in _run_module_as_main\n",
      "    \"__main__\", fname, loader, pkg_name)\n",
      "  File \"/Users/chiy/anaconda/lib/python2.7/runpy.py\", line 72, in _run_code\n",
      "    exec code in run_globals\n",
      "  File \"/Users/chiy/anaconda/lib/python2.7/site-packages/ipykernel/__main__.py\", line 3, in <module>\n",
      "    app.launch_new_instance()\n",
      "  File \"/Users/chiy/anaconda/lib/python2.7/site-packages/traitlets/config/application.py\", line 653, in launch_instance\n",
      "    app.start()\n",
      "  File \"/Users/chiy/anaconda/lib/python2.7/site-packages/ipykernel/kernelapp.py\", line 474, in start\n",
      "    ioloop.IOLoop.instance().start()\n",
      "  File \"/Users/chiy/anaconda/lib/python2.7/site-packages/zmq/eventloop/ioloop.py\", line 162, in start\n",
      "    super(ZMQIOLoop, self).start()\n",
      "  File \"/Users/chiy/anaconda/lib/python2.7/site-packages/tornado/ioloop.py\", line 831, in start\n",
      "    self._run_callback(callback)\n",
      "  File \"/Users/chiy/anaconda/lib/python2.7/site-packages/tornado/ioloop.py\", line 604, in _run_callback\n",
      "    ret = callback()\n",
      "  File \"/Users/chiy/anaconda/lib/python2.7/site-packages/tornado/stack_context.py\", line 275, in null_wrapper\n",
      "    return fn(*args, **kwargs)\n",
      "  File \"/Users/chiy/anaconda/lib/python2.7/site-packages/ipykernel/kernelbase.py\", line 258, in enter_eventloop\n",
      "    self.eventloop(self)\n",
      "  File \"/Users/chiy/anaconda/lib/python2.7/site-packages/ipykernel/eventloops.py\", line 87, in loop_qt4\n",
      "    start_event_loop_qt4(kernel.app)\n",
      "  File \"/Users/chiy/anaconda/lib/python2.7/site-packages/IPython/lib/guisupport.py\", line 135, in start_event_loop_qt4\n",
      "    app.exec_()\n",
      "  File \"/Users/chiy/anaconda/lib/python2.7/site-packages/vispy-0.5.0.dev0-py2.7.egg/vispy/app/backends/_qt.py\", line 387, in mouseMoveEvent\n",
      "    modifiers=self._modifiers(ev),\n",
      "  File \"/Users/chiy/anaconda/lib/python2.7/site-packages/vispy-0.5.0.dev0-py2.7.egg/vispy/app/base.py\", line 202, in _vispy_mouse_move\n",
      "    ev = self._vispy_canvas.events.mouse_move(**kwargs)\n",
      "  File \"/Users/chiy/anaconda/lib/python2.7/site-packages/vispy-0.5.0.dev0-py2.7.egg/vispy/util/event.py\", line 455, in __call__\n",
      "    self._invoke_callback(cb, event)\n",
      "  File \"/Users/chiy/anaconda/lib/python2.7/site-packages/vispy-0.5.0.dev0-py2.7.egg/vispy/util/event.py\", line 475, in _invoke_callback\n",
      "    self, cb_event=(cb, event))\n",
      "  << caught exception here: >>\n",
      "  File \"/Users/chiy/anaconda/lib/python2.7/site-packages/vispy-0.5.0.dev0-py2.7.egg/vispy/util/event.py\", line 471, in _invoke_callback\n",
      "    cb(event)\n",
      "  File \"../../../spiketag/view/scatter_2d_view.py\", line 127, in on_mouse_move\n",
      "    self._picker.cast_net(e.pos,ptype='rectangle')\n",
      "  File \"../../../spiketag/utils/utils.py\", line 230, in cast_net\n",
      "    raise RuntimeError('please do origin_point first!')\n",
      "RuntimeError: please do origin_point first!\n",
      "ERROR: Invoking <bound method amplitude_view.on_mouse_move of <amplitude_view (PyQt4) at 0x12ccd7790>> for MouseEvent\n",
      "WARNING: Traceback (most recent call last):\n",
      "  File \"/Users/chiy/anaconda/lib/python2.7/runpy.py\", line 174, in _run_module_as_main\n",
      "    \"__main__\", fname, loader, pkg_name)\n",
      "  File \"/Users/chiy/anaconda/lib/python2.7/runpy.py\", line 72, in _run_code\n",
      "    exec code in run_globals\n",
      "  File \"/Users/chiy/anaconda/lib/python2.7/site-packages/ipykernel/__main__.py\", line 3, in <module>\n",
      "    app.launch_new_instance()\n",
      "  File \"/Users/chiy/anaconda/lib/python2.7/site-packages/traitlets/config/application.py\", line 653, in launch_instance\n",
      "    app.start()\n",
      "  File \"/Users/chiy/anaconda/lib/python2.7/site-packages/ipykernel/kernelapp.py\", line 474, in start\n",
      "    ioloop.IOLoop.instance().start()\n",
      "  File \"/Users/chiy/anaconda/lib/python2.7/site-packages/zmq/eventloop/ioloop.py\", line 162, in start\n",
      "    super(ZMQIOLoop, self).start()\n",
      "  File \"/Users/chiy/anaconda/lib/python2.7/site-packages/tornado/ioloop.py\", line 831, in start\n",
      "    self._run_callback(callback)\n",
      "  File \"/Users/chiy/anaconda/lib/python2.7/site-packages/tornado/ioloop.py\", line 604, in _run_callback\n",
      "    ret = callback()\n",
      "  File \"/Users/chiy/anaconda/lib/python2.7/site-packages/tornado/stack_context.py\", line 275, in null_wrapper\n",
      "    return fn(*args, **kwargs)\n",
      "  File \"/Users/chiy/anaconda/lib/python2.7/site-packages/ipykernel/kernelbase.py\", line 258, in enter_eventloop\n",
      "    self.eventloop(self)\n",
      "  File \"/Users/chiy/anaconda/lib/python2.7/site-packages/ipykernel/eventloops.py\", line 87, in loop_qt4\n",
      "    start_event_loop_qt4(kernel.app)\n",
      "  File \"/Users/chiy/anaconda/lib/python2.7/site-packages/IPython/lib/guisupport.py\", line 135, in start_event_loop_qt4\n",
      "    app.exec_()\n",
      "  File \"/Users/chiy/anaconda/lib/python2.7/site-packages/vispy-0.5.0.dev0-py2.7.egg/vispy/app/backends/_qt.py\", line 387, in mouseMoveEvent\n",
      "    modifiers=self._modifiers(ev),\n",
      "  File \"/Users/chiy/anaconda/lib/python2.7/site-packages/vispy-0.5.0.dev0-py2.7.egg/vispy/app/base.py\", line 202, in _vispy_mouse_move\n",
      "    ev = self._vispy_canvas.events.mouse_move(**kwargs)\n",
      "  File \"/Users/chiy/anaconda/lib/python2.7/site-packages/vispy-0.5.0.dev0-py2.7.egg/vispy/util/event.py\", line 455, in __call__\n",
      "    self._invoke_callback(cb, event)\n",
      "  File \"/Users/chiy/anaconda/lib/python2.7/site-packages/vispy-0.5.0.dev0-py2.7.egg/vispy/util/event.py\", line 475, in _invoke_callback\n",
      "    self, cb_event=(cb, event))\n",
      "  << caught exception here: >>\n",
      "  File \"/Users/chiy/anaconda/lib/python2.7/site-packages/vispy-0.5.0.dev0-py2.7.egg/vispy/util/event.py\", line 471, in _invoke_callback\n",
      "    cb(event)\n",
      "  File \"../../../spiketag/view/scatter_2d_view.py\", line 127, in on_mouse_move\n",
      "    self._picker.cast_net(e.pos,ptype='rectangle')\n",
      "  File \"../../../spiketag/utils/utils.py\", line 230, in cast_net\n",
      "    raise RuntimeError('please do origin_point first!')\n",
      "RuntimeError: please do origin_point first!\n",
      "ERROR: Invoking <bound method amplitude_view.on_mouse_move of <amplitude_view (PyQt4) at 0x12ccd7790>> for MouseEvent\n",
      "WARNING: Traceback (most recent call last):\n",
      "  File \"/Users/chiy/anaconda/lib/python2.7/runpy.py\", line 174, in _run_module_as_main\n",
      "    \"__main__\", fname, loader, pkg_name)\n",
      "  File \"/Users/chiy/anaconda/lib/python2.7/runpy.py\", line 72, in _run_code\n",
      "    exec code in run_globals\n",
      "  File \"/Users/chiy/anaconda/lib/python2.7/site-packages/ipykernel/__main__.py\", line 3, in <module>\n",
      "    app.launch_new_instance()\n",
      "  File \"/Users/chiy/anaconda/lib/python2.7/site-packages/traitlets/config/application.py\", line 653, in launch_instance\n",
      "    app.start()\n",
      "  File \"/Users/chiy/anaconda/lib/python2.7/site-packages/ipykernel/kernelapp.py\", line 474, in start\n",
      "    ioloop.IOLoop.instance().start()\n",
      "  File \"/Users/chiy/anaconda/lib/python2.7/site-packages/zmq/eventloop/ioloop.py\", line 162, in start\n",
      "    super(ZMQIOLoop, self).start()\n",
      "  File \"/Users/chiy/anaconda/lib/python2.7/site-packages/tornado/ioloop.py\", line 831, in start\n",
      "    self._run_callback(callback)\n",
      "  File \"/Users/chiy/anaconda/lib/python2.7/site-packages/tornado/ioloop.py\", line 604, in _run_callback\n",
      "    ret = callback()\n",
      "  File \"/Users/chiy/anaconda/lib/python2.7/site-packages/tornado/stack_context.py\", line 275, in null_wrapper\n",
      "    return fn(*args, **kwargs)\n",
      "  File \"/Users/chiy/anaconda/lib/python2.7/site-packages/ipykernel/kernelbase.py\", line 258, in enter_eventloop\n",
      "    self.eventloop(self)\n",
      "  File \"/Users/chiy/anaconda/lib/python2.7/site-packages/ipykernel/eventloops.py\", line 87, in loop_qt4\n",
      "    start_event_loop_qt4(kernel.app)\n",
      "  File \"/Users/chiy/anaconda/lib/python2.7/site-packages/IPython/lib/guisupport.py\", line 135, in start_event_loop_qt4\n",
      "    app.exec_()\n",
      "  File \"/Users/chiy/anaconda/lib/python2.7/site-packages/vispy-0.5.0.dev0-py2.7.egg/vispy/app/backends/_qt.py\", line 387, in mouseMoveEvent\n",
      "    modifiers=self._modifiers(ev),\n",
      "  File \"/Users/chiy/anaconda/lib/python2.7/site-packages/vispy-0.5.0.dev0-py2.7.egg/vispy/app/base.py\", line 202, in _vispy_mouse_move\n",
      "    ev = self._vispy_canvas.events.mouse_move(**kwargs)\n",
      "  File \"/Users/chiy/anaconda/lib/python2.7/site-packages/vispy-0.5.0.dev0-py2.7.egg/vispy/util/event.py\", line 455, in __call__\n",
      "    self._invoke_callback(cb, event)\n",
      "  File \"/Users/chiy/anaconda/lib/python2.7/site-packages/vispy-0.5.0.dev0-py2.7.egg/vispy/util/event.py\", line 475, in _invoke_callback\n",
      "    self, cb_event=(cb, event))\n",
      "  << caught exception here: >>\n",
      "  File \"/Users/chiy/anaconda/lib/python2.7/site-packages/vispy-0.5.0.dev0-py2.7.egg/vispy/util/event.py\", line 471, in _invoke_callback\n",
      "    cb(event)\n",
      "  File \"../../../spiketag/view/scatter_2d_view.py\", line 127, in on_mouse_move\n",
      "    self._picker.cast_net(e.pos,ptype='rectangle')\n",
      "  File \"../../../spiketag/utils/utils.py\", line 230, in cast_net\n",
      "    raise RuntimeError('please do origin_point first!')\n",
      "RuntimeError: please do origin_point first!\n",
      "ERROR: Invoking <bound method amplitude_view.on_mouse_move of <amplitude_view (PyQt4) at 0x12ccd7790>> for MouseEvent\n",
      "WARNING: Traceback (most recent call last):\n",
      "  File \"/Users/chiy/anaconda/lib/python2.7/runpy.py\", line 174, in _run_module_as_main\n",
      "    \"__main__\", fname, loader, pkg_name)\n",
      "  File \"/Users/chiy/anaconda/lib/python2.7/runpy.py\", line 72, in _run_code\n",
      "    exec code in run_globals\n",
      "  File \"/Users/chiy/anaconda/lib/python2.7/site-packages/ipykernel/__main__.py\", line 3, in <module>\n",
      "    app.launch_new_instance()\n",
      "  File \"/Users/chiy/anaconda/lib/python2.7/site-packages/traitlets/config/application.py\", line 653, in launch_instance\n",
      "    app.start()\n",
      "  File \"/Users/chiy/anaconda/lib/python2.7/site-packages/ipykernel/kernelapp.py\", line 474, in start\n",
      "    ioloop.IOLoop.instance().start()\n",
      "  File \"/Users/chiy/anaconda/lib/python2.7/site-packages/zmq/eventloop/ioloop.py\", line 162, in start\n",
      "    super(ZMQIOLoop, self).start()\n",
      "  File \"/Users/chiy/anaconda/lib/python2.7/site-packages/tornado/ioloop.py\", line 831, in start\n",
      "    self._run_callback(callback)\n",
      "  File \"/Users/chiy/anaconda/lib/python2.7/site-packages/tornado/ioloop.py\", line 604, in _run_callback\n",
      "    ret = callback()\n",
      "  File \"/Users/chiy/anaconda/lib/python2.7/site-packages/tornado/stack_context.py\", line 275, in null_wrapper\n",
      "    return fn(*args, **kwargs)\n",
      "  File \"/Users/chiy/anaconda/lib/python2.7/site-packages/ipykernel/kernelbase.py\", line 258, in enter_eventloop\n",
      "    self.eventloop(self)\n",
      "  File \"/Users/chiy/anaconda/lib/python2.7/site-packages/ipykernel/eventloops.py\", line 87, in loop_qt4\n",
      "    start_event_loop_qt4(kernel.app)\n",
      "  File \"/Users/chiy/anaconda/lib/python2.7/site-packages/IPython/lib/guisupport.py\", line 135, in start_event_loop_qt4\n",
      "    app.exec_()\n",
      "  File \"/Users/chiy/anaconda/lib/python2.7/site-packages/vispy-0.5.0.dev0-py2.7.egg/vispy/app/backends/_qt.py\", line 387, in mouseMoveEvent\n",
      "    modifiers=self._modifiers(ev),\n",
      "  File \"/Users/chiy/anaconda/lib/python2.7/site-packages/vispy-0.5.0.dev0-py2.7.egg/vispy/app/base.py\", line 202, in _vispy_mouse_move\n",
      "    ev = self._vispy_canvas.events.mouse_move(**kwargs)\n",
      "  File \"/Users/chiy/anaconda/lib/python2.7/site-packages/vispy-0.5.0.dev0-py2.7.egg/vispy/util/event.py\", line 455, in __call__\n",
      "    self._invoke_callback(cb, event)\n",
      "  File \"/Users/chiy/anaconda/lib/python2.7/site-packages/vispy-0.5.0.dev0-py2.7.egg/vispy/util/event.py\", line 475, in _invoke_callback\n",
      "    self, cb_event=(cb, event))\n",
      "  << caught exception here: >>\n",
      "  File \"/Users/chiy/anaconda/lib/python2.7/site-packages/vispy-0.5.0.dev0-py2.7.egg/vispy/util/event.py\", line 471, in _invoke_callback\n",
      "    cb(event)\n",
      "  File \"../../../spiketag/view/scatter_2d_view.py\", line 127, in on_mouse_move\n",
      "    self._picker.cast_net(e.pos,ptype='rectangle')\n",
      "  File \"../../../spiketag/utils/utils.py\", line 230, in cast_net\n",
      "    raise RuntimeError('please do origin_point first!')\n",
      "RuntimeError: please do origin_point first!\n",
      "ERROR: Invoking <bound method amplitude_view.on_mouse_move of <amplitude_view (PyQt4) at 0x12ccd7790>> for MouseEvent\n",
      "WARNING: Traceback (most recent call last):\n",
      "  File \"/Users/chiy/anaconda/lib/python2.7/runpy.py\", line 174, in _run_module_as_main\n",
      "    \"__main__\", fname, loader, pkg_name)\n",
      "  File \"/Users/chiy/anaconda/lib/python2.7/runpy.py\", line 72, in _run_code\n",
      "    exec code in run_globals\n",
      "  File \"/Users/chiy/anaconda/lib/python2.7/site-packages/ipykernel/__main__.py\", line 3, in <module>\n",
      "    app.launch_new_instance()\n",
      "  File \"/Users/chiy/anaconda/lib/python2.7/site-packages/traitlets/config/application.py\", line 653, in launch_instance\n",
      "    app.start()\n",
      "  File \"/Users/chiy/anaconda/lib/python2.7/site-packages/ipykernel/kernelapp.py\", line 474, in start\n",
      "    ioloop.IOLoop.instance().start()\n",
      "  File \"/Users/chiy/anaconda/lib/python2.7/site-packages/zmq/eventloop/ioloop.py\", line 162, in start\n",
      "    super(ZMQIOLoop, self).start()\n",
      "  File \"/Users/chiy/anaconda/lib/python2.7/site-packages/tornado/ioloop.py\", line 831, in start\n",
      "    self._run_callback(callback)\n",
      "  File \"/Users/chiy/anaconda/lib/python2.7/site-packages/tornado/ioloop.py\", line 604, in _run_callback\n",
      "    ret = callback()\n",
      "  File \"/Users/chiy/anaconda/lib/python2.7/site-packages/tornado/stack_context.py\", line 275, in null_wrapper\n",
      "    return fn(*args, **kwargs)\n",
      "  File \"/Users/chiy/anaconda/lib/python2.7/site-packages/ipykernel/kernelbase.py\", line 258, in enter_eventloop\n",
      "    self.eventloop(self)\n",
      "  File \"/Users/chiy/anaconda/lib/python2.7/site-packages/ipykernel/eventloops.py\", line 87, in loop_qt4\n",
      "    start_event_loop_qt4(kernel.app)\n",
      "  File \"/Users/chiy/anaconda/lib/python2.7/site-packages/IPython/lib/guisupport.py\", line 135, in start_event_loop_qt4\n",
      "    app.exec_()\n",
      "  File \"/Users/chiy/anaconda/lib/python2.7/site-packages/vispy-0.5.0.dev0-py2.7.egg/vispy/app/backends/_qt.py\", line 387, in mouseMoveEvent\n",
      "    modifiers=self._modifiers(ev),\n",
      "  File \"/Users/chiy/anaconda/lib/python2.7/site-packages/vispy-0.5.0.dev0-py2.7.egg/vispy/app/base.py\", line 202, in _vispy_mouse_move\n",
      "    ev = self._vispy_canvas.events.mouse_move(**kwargs)\n",
      "  File \"/Users/chiy/anaconda/lib/python2.7/site-packages/vispy-0.5.0.dev0-py2.7.egg/vispy/util/event.py\", line 455, in __call__\n",
      "    self._invoke_callback(cb, event)\n",
      "  File \"/Users/chiy/anaconda/lib/python2.7/site-packages/vispy-0.5.0.dev0-py2.7.egg/vispy/util/event.py\", line 475, in _invoke_callback\n",
      "    self, cb_event=(cb, event))\n",
      "  << caught exception here: >>\n",
      "  File \"/Users/chiy/anaconda/lib/python2.7/site-packages/vispy-0.5.0.dev0-py2.7.egg/vispy/util/event.py\", line 471, in _invoke_callback\n",
      "    cb(event)\n",
      "  File \"../../../spiketag/view/scatter_2d_view.py\", line 127, in on_mouse_move\n",
      "    self._picker.cast_net(e.pos,ptype='rectangle')\n",
      "  File \"../../../spiketag/utils/utils.py\", line 230, in cast_net\n",
      "    raise RuntimeError('please do origin_point first!')\n",
      "RuntimeError: please do origin_point first!\n",
      "ERROR: Invoking <bound method amplitude_view.on_mouse_move of <amplitude_view (PyQt4) at 0x12ccd7790>> for MouseEvent\n",
      "WARNING: Traceback (most recent call last):\n",
      "  File \"/Users/chiy/anaconda/lib/python2.7/runpy.py\", line 174, in _run_module_as_main\n",
      "    \"__main__\", fname, loader, pkg_name)\n",
      "  File \"/Users/chiy/anaconda/lib/python2.7/runpy.py\", line 72, in _run_code\n",
      "    exec code in run_globals\n",
      "  File \"/Users/chiy/anaconda/lib/python2.7/site-packages/ipykernel/__main__.py\", line 3, in <module>\n",
      "    app.launch_new_instance()\n",
      "  File \"/Users/chiy/anaconda/lib/python2.7/site-packages/traitlets/config/application.py\", line 653, in launch_instance\n",
      "    app.start()\n",
      "  File \"/Users/chiy/anaconda/lib/python2.7/site-packages/ipykernel/kernelapp.py\", line 474, in start\n",
      "    ioloop.IOLoop.instance().start()\n",
      "  File \"/Users/chiy/anaconda/lib/python2.7/site-packages/zmq/eventloop/ioloop.py\", line 162, in start\n",
      "    super(ZMQIOLoop, self).start()\n",
      "  File \"/Users/chiy/anaconda/lib/python2.7/site-packages/tornado/ioloop.py\", line 831, in start\n",
      "    self._run_callback(callback)\n",
      "  File \"/Users/chiy/anaconda/lib/python2.7/site-packages/tornado/ioloop.py\", line 604, in _run_callback\n",
      "    ret = callback()\n",
      "  File \"/Users/chiy/anaconda/lib/python2.7/site-packages/tornado/stack_context.py\", line 275, in null_wrapper\n",
      "    return fn(*args, **kwargs)\n",
      "  File \"/Users/chiy/anaconda/lib/python2.7/site-packages/ipykernel/kernelbase.py\", line 258, in enter_eventloop\n",
      "    self.eventloop(self)\n",
      "  File \"/Users/chiy/anaconda/lib/python2.7/site-packages/ipykernel/eventloops.py\", line 87, in loop_qt4\n",
      "    start_event_loop_qt4(kernel.app)\n",
      "  File \"/Users/chiy/anaconda/lib/python2.7/site-packages/IPython/lib/guisupport.py\", line 135, in start_event_loop_qt4\n",
      "    app.exec_()\n",
      "  File \"/Users/chiy/anaconda/lib/python2.7/site-packages/vispy-0.5.0.dev0-py2.7.egg/vispy/app/backends/_qt.py\", line 387, in mouseMoveEvent\n",
      "    modifiers=self._modifiers(ev),\n",
      "  File \"/Users/chiy/anaconda/lib/python2.7/site-packages/vispy-0.5.0.dev0-py2.7.egg/vispy/app/base.py\", line 202, in _vispy_mouse_move\n",
      "    ev = self._vispy_canvas.events.mouse_move(**kwargs)\n",
      "  File \"/Users/chiy/anaconda/lib/python2.7/site-packages/vispy-0.5.0.dev0-py2.7.egg/vispy/util/event.py\", line 455, in __call__\n",
      "    self._invoke_callback(cb, event)\n",
      "  File \"/Users/chiy/anaconda/lib/python2.7/site-packages/vispy-0.5.0.dev0-py2.7.egg/vispy/util/event.py\", line 475, in _invoke_callback\n",
      "    self, cb_event=(cb, event))\n",
      "  << caught exception here: >>\n",
      "  File \"/Users/chiy/anaconda/lib/python2.7/site-packages/vispy-0.5.0.dev0-py2.7.egg/vispy/util/event.py\", line 471, in _invoke_callback\n",
      "    cb(event)\n",
      "  File \"../../../spiketag/view/scatter_2d_view.py\", line 127, in on_mouse_move\n",
      "    self._picker.cast_net(e.pos,ptype='rectangle')\n",
      "  File \"../../../spiketag/utils/utils.py\", line 230, in cast_net\n",
      "    raise RuntimeError('please do origin_point first!')\n",
      "RuntimeError: please do origin_point first!\n",
      "ERROR: Invoking <bound method amplitude_view.on_mouse_move of <amplitude_view (PyQt4) at 0x12ccd7790>> for MouseEvent\n",
      "WARNING: Traceback (most recent call last):\n",
      "  File \"/Users/chiy/anaconda/lib/python2.7/runpy.py\", line 174, in _run_module_as_main\n",
      "    \"__main__\", fname, loader, pkg_name)\n",
      "  File \"/Users/chiy/anaconda/lib/python2.7/runpy.py\", line 72, in _run_code\n",
      "    exec code in run_globals\n",
      "  File \"/Users/chiy/anaconda/lib/python2.7/site-packages/ipykernel/__main__.py\", line 3, in <module>\n",
      "    app.launch_new_instance()\n",
      "  File \"/Users/chiy/anaconda/lib/python2.7/site-packages/traitlets/config/application.py\", line 653, in launch_instance\n",
      "    app.start()\n",
      "  File \"/Users/chiy/anaconda/lib/python2.7/site-packages/ipykernel/kernelapp.py\", line 474, in start\n",
      "    ioloop.IOLoop.instance().start()\n",
      "  File \"/Users/chiy/anaconda/lib/python2.7/site-packages/zmq/eventloop/ioloop.py\", line 162, in start\n",
      "    super(ZMQIOLoop, self).start()\n",
      "  File \"/Users/chiy/anaconda/lib/python2.7/site-packages/tornado/ioloop.py\", line 831, in start\n",
      "    self._run_callback(callback)\n",
      "  File \"/Users/chiy/anaconda/lib/python2.7/site-packages/tornado/ioloop.py\", line 604, in _run_callback\n",
      "    ret = callback()\n",
      "  File \"/Users/chiy/anaconda/lib/python2.7/site-packages/tornado/stack_context.py\", line 275, in null_wrapper\n",
      "    return fn(*args, **kwargs)\n",
      "  File \"/Users/chiy/anaconda/lib/python2.7/site-packages/ipykernel/kernelbase.py\", line 258, in enter_eventloop\n",
      "    self.eventloop(self)\n",
      "  File \"/Users/chiy/anaconda/lib/python2.7/site-packages/ipykernel/eventloops.py\", line 87, in loop_qt4\n",
      "    start_event_loop_qt4(kernel.app)\n",
      "  File \"/Users/chiy/anaconda/lib/python2.7/site-packages/IPython/lib/guisupport.py\", line 135, in start_event_loop_qt4\n",
      "    app.exec_()\n",
      "  File \"/Users/chiy/anaconda/lib/python2.7/site-packages/vispy-0.5.0.dev0-py2.7.egg/vispy/app/backends/_qt.py\", line 387, in mouseMoveEvent\n",
      "    modifiers=self._modifiers(ev),\n",
      "  File \"/Users/chiy/anaconda/lib/python2.7/site-packages/vispy-0.5.0.dev0-py2.7.egg/vispy/app/base.py\", line 202, in _vispy_mouse_move\n",
      "    ev = self._vispy_canvas.events.mouse_move(**kwargs)\n",
      "  File \"/Users/chiy/anaconda/lib/python2.7/site-packages/vispy-0.5.0.dev0-py2.7.egg/vispy/util/event.py\", line 455, in __call__\n",
      "    self._invoke_callback(cb, event)\n",
      "  File \"/Users/chiy/anaconda/lib/python2.7/site-packages/vispy-0.5.0.dev0-py2.7.egg/vispy/util/event.py\", line 475, in _invoke_callback\n",
      "    self, cb_event=(cb, event))\n",
      "  << caught exception here: >>\n",
      "  File \"/Users/chiy/anaconda/lib/python2.7/site-packages/vispy-0.5.0.dev0-py2.7.egg/vispy/util/event.py\", line 471, in _invoke_callback\n",
      "    cb(event)\n",
      "  File \"../../../spiketag/view/scatter_2d_view.py\", line 127, in on_mouse_move\n",
      "    self._picker.cast_net(e.pos,ptype='rectangle')\n",
      "  File \"../../../spiketag/utils/utils.py\", line 230, in cast_net\n",
      "    raise RuntimeError('please do origin_point first!')\n",
      "RuntimeError: please do origin_point first!\n",
      "ERROR: Invoking <bound method amplitude_view.on_mouse_move of <amplitude_view (PyQt4) at 0x12ccd7790>> for MouseEvent\n",
      "ERROR: Invoking <bound method amplitude_view.on_mouse_move of <amplitude_view (PyQt4) at 0x12ccd7790>> repeat 2\n",
      "WARNING: Traceback (most recent call last):\n",
      "  File \"/Users/chiy/anaconda/lib/python2.7/runpy.py\", line 174, in _run_module_as_main\n",
      "    \"__main__\", fname, loader, pkg_name)\n",
      "  File \"/Users/chiy/anaconda/lib/python2.7/runpy.py\", line 72, in _run_code\n",
      "    exec code in run_globals\n",
      "  File \"/Users/chiy/anaconda/lib/python2.7/site-packages/ipykernel/__main__.py\", line 3, in <module>\n",
      "    app.launch_new_instance()\n",
      "  File \"/Users/chiy/anaconda/lib/python2.7/site-packages/traitlets/config/application.py\", line 653, in launch_instance\n",
      "    app.start()\n",
      "  File \"/Users/chiy/anaconda/lib/python2.7/site-packages/ipykernel/kernelapp.py\", line 474, in start\n",
      "    ioloop.IOLoop.instance().start()\n",
      "  File \"/Users/chiy/anaconda/lib/python2.7/site-packages/zmq/eventloop/ioloop.py\", line 162, in start\n",
      "    super(ZMQIOLoop, self).start()\n",
      "  File \"/Users/chiy/anaconda/lib/python2.7/site-packages/tornado/ioloop.py\", line 831, in start\n",
      "    self._run_callback(callback)\n",
      "  File \"/Users/chiy/anaconda/lib/python2.7/site-packages/tornado/ioloop.py\", line 604, in _run_callback\n",
      "    ret = callback()\n",
      "  File \"/Users/chiy/anaconda/lib/python2.7/site-packages/tornado/stack_context.py\", line 275, in null_wrapper\n",
      "    return fn(*args, **kwargs)\n",
      "  File \"/Users/chiy/anaconda/lib/python2.7/site-packages/ipykernel/kernelbase.py\", line 258, in enter_eventloop\n",
      "    self.eventloop(self)\n",
      "  File \"/Users/chiy/anaconda/lib/python2.7/site-packages/ipykernel/eventloops.py\", line 87, in loop_qt4\n",
      "    start_event_loop_qt4(kernel.app)\n",
      "  File \"/Users/chiy/anaconda/lib/python2.7/site-packages/IPython/lib/guisupport.py\", line 135, in start_event_loop_qt4\n",
      "    app.exec_()\n",
      "  File \"/Users/chiy/anaconda/lib/python2.7/site-packages/vispy-0.5.0.dev0-py2.7.egg/vispy/app/backends/_qt.py\", line 387, in mouseMoveEvent\n",
      "    modifiers=self._modifiers(ev),\n",
      "  File \"/Users/chiy/anaconda/lib/python2.7/site-packages/vispy-0.5.0.dev0-py2.7.egg/vispy/app/base.py\", line 202, in _vispy_mouse_move\n",
      "    ev = self._vispy_canvas.events.mouse_move(**kwargs)\n",
      "  File \"/Users/chiy/anaconda/lib/python2.7/site-packages/vispy-0.5.0.dev0-py2.7.egg/vispy/util/event.py\", line 455, in __call__\n",
      "    self._invoke_callback(cb, event)\n",
      "  File \"/Users/chiy/anaconda/lib/python2.7/site-packages/vispy-0.5.0.dev0-py2.7.egg/vispy/util/event.py\", line 475, in _invoke_callback\n",
      "    self, cb_event=(cb, event))\n",
      "  << caught exception here: >>\n",
      "  File \"/Users/chiy/anaconda/lib/python2.7/site-packages/vispy-0.5.0.dev0-py2.7.egg/vispy/util/event.py\", line 471, in _invoke_callback\n",
      "    cb(event)\n",
      "  File \"../../../spiketag/view/scatter_2d_view.py\", line 127, in on_mouse_move\n",
      "    self._picker.cast_net(e.pos,ptype='rectangle')\n",
      "  File \"../../../spiketag/utils/utils.py\", line 230, in cast_net\n",
      "    raise RuntimeError('please do origin_point first!')\n",
      "RuntimeError: please do origin_point first!\n",
      "ERROR: Invoking <bound method amplitude_view.on_mouse_move of <amplitude_view (PyQt4) at 0x12ccd7790>> for MouseEvent\n",
      "WARNING: Traceback (most recent call last):\n",
      "  File \"/Users/chiy/anaconda/lib/python2.7/runpy.py\", line 174, in _run_module_as_main\n",
      "    \"__main__\", fname, loader, pkg_name)\n",
      "  File \"/Users/chiy/anaconda/lib/python2.7/runpy.py\", line 72, in _run_code\n",
      "    exec code in run_globals\n",
      "  File \"/Users/chiy/anaconda/lib/python2.7/site-packages/ipykernel/__main__.py\", line 3, in <module>\n",
      "    app.launch_new_instance()\n",
      "  File \"/Users/chiy/anaconda/lib/python2.7/site-packages/traitlets/config/application.py\", line 653, in launch_instance\n",
      "    app.start()\n",
      "  File \"/Users/chiy/anaconda/lib/python2.7/site-packages/ipykernel/kernelapp.py\", line 474, in start\n",
      "    ioloop.IOLoop.instance().start()\n",
      "  File \"/Users/chiy/anaconda/lib/python2.7/site-packages/zmq/eventloop/ioloop.py\", line 162, in start\n",
      "    super(ZMQIOLoop, self).start()\n",
      "  File \"/Users/chiy/anaconda/lib/python2.7/site-packages/tornado/ioloop.py\", line 831, in start\n",
      "    self._run_callback(callback)\n",
      "  File \"/Users/chiy/anaconda/lib/python2.7/site-packages/tornado/ioloop.py\", line 604, in _run_callback\n",
      "    ret = callback()\n",
      "  File \"/Users/chiy/anaconda/lib/python2.7/site-packages/tornado/stack_context.py\", line 275, in null_wrapper\n",
      "    return fn(*args, **kwargs)\n",
      "  File \"/Users/chiy/anaconda/lib/python2.7/site-packages/ipykernel/kernelbase.py\", line 258, in enter_eventloop\n",
      "    self.eventloop(self)\n",
      "  File \"/Users/chiy/anaconda/lib/python2.7/site-packages/ipykernel/eventloops.py\", line 87, in loop_qt4\n",
      "    start_event_loop_qt4(kernel.app)\n",
      "  File \"/Users/chiy/anaconda/lib/python2.7/site-packages/IPython/lib/guisupport.py\", line 135, in start_event_loop_qt4\n",
      "    app.exec_()\n",
      "  File \"/Users/chiy/anaconda/lib/python2.7/site-packages/vispy-0.5.0.dev0-py2.7.egg/vispy/app/backends/_qt.py\", line 368, in mouseReleaseEvent\n",
      "    modifiers=self._modifiers(ev),\n",
      "  File \"/Users/chiy/anaconda/lib/python2.7/site-packages/vispy-0.5.0.dev0-py2.7.egg/vispy/app/base.py\", line 210, in _vispy_mouse_release\n",
      "    ev = self._vispy_canvas.events.mouse_release(**kwargs)\n",
      "  File \"/Users/chiy/anaconda/lib/python2.7/site-packages/vispy-0.5.0.dev0-py2.7.egg/vispy/util/event.py\", line 455, in __call__\n",
      "    self._invoke_callback(cb, event)\n",
      "  File \"/Users/chiy/anaconda/lib/python2.7/site-packages/vispy-0.5.0.dev0-py2.7.egg/vispy/util/event.py\", line 475, in _invoke_callback\n",
      "    self, cb_event=(cb, event))\n",
      "  << caught exception here: >>\n",
      "  File \"/Users/chiy/anaconda/lib/python2.7/site-packages/vispy-0.5.0.dev0-py2.7.egg/vispy/util/event.py\", line 471, in _invoke_callback\n",
      "    cb(event)\n",
      "  File \"../../../spiketag/view/scatter_2d_view.py\", line 143, in on_mouse_release\n",
      "    mask = self._picker.pick(self._pos)\n",
      "  File \"../../../spiketag/utils/utils.py\", line 255, in pick\n",
      "    raise RuntimeError('please do origin_point first!')\n",
      "RuntimeError: please do origin_point first!\n",
      "ERROR: Invoking <bound method amplitude_view.on_mouse_release of <amplitude_view (PyQt4) at 0x12ccd7790>> for MouseEvent\n"
     ]
    }
   ],
   "source": [
    "app.run()"
   ]
  },
  {
   "cell_type": "code",
   "execution_count": null,
   "metadata": {
    "collapsed": false
   },
   "outputs": [],
   "source": [
    "app.view.scatter_view._disconnect"
   ]
  },
  {
   "cell_type": "code",
   "execution_count": null,
   "metadata": {
    "collapsed": false
   },
   "outputs": [],
   "source": [
    "app.view.amplitude_view._xaxis.axis.domain"
   ]
  },
  {
   "cell_type": "code",
   "execution_count": null,
   "metadata": {
    "collapsed": false
   },
   "outputs": [],
   "source": [
    "app.view.amplitude_view._get_nearest_spikes((2000,1))"
   ]
  },
  {
   "cell_type": "code",
   "execution_count": null,
   "metadata": {
    "collapsed": false
   },
   "outputs": [],
   "source": [
    "app.view.amplitude_view._pos_on_view"
   ]
  },
  {
   "cell_type": "code",
   "execution_count": null,
   "metadata": {
    "collapsed": false
   },
   "outputs": [],
   "source": [
    "app.view.amplitude_view._picker._mapping.map(app.view.amplitude_view._pos)"
   ]
  },
  {
   "cell_type": "code",
   "execution_count": null,
   "metadata": {
    "collapsed": false
   },
   "outputs": [],
   "source": [
    "app.view.amplitude_view._transform2view.map(app.view.amplitude_view._pos)"
   ]
  },
  {
   "cell_type": "code",
   "execution_count": null,
   "metadata": {
    "collapsed": false
   },
   "outputs": [],
   "source": [
    "app.model.spktag.t.shape"
   ]
  },
  {
   "cell_type": "code",
   "execution_count": null,
   "metadata": {
    "collapsed": false
   },
   "outputs": [],
   "source": [
    "ch26 = app.model.spktag.t[app.model.spktag.ch==26]"
   ]
  },
  {
   "cell_type": "code",
   "execution_count": null,
   "metadata": {
    "collapsed": false
   },
   "outputs": [],
   "source": [
    "app.model.clu[26].index_count"
   ]
  },
  {
   "cell_type": "code",
   "execution_count": null,
   "metadata": {
    "collapsed": true
   },
   "outputs": [],
   "source": [
    "reference = ch26[app.model.clu[26].index[1]] "
   ]
  },
  {
   "cell_type": "code",
   "execution_count": null,
   "metadata": {
    "collapsed": false
   },
   "outputs": [],
   "source": [
    "target = ch26[app.model.clu[26].index[2]]"
   ]
  },
  {
   "cell_type": "code",
   "execution_count": null,
   "metadata": {
    "collapsed": false
   },
   "outputs": [],
   "source": [
    "#ms\n",
    "bin_size=1\n",
    "window_size=50\n",
    "#ms 2 index\n",
    "offset = fs/1000\n",
    "counter = np.array([0 for i in range(window_size/bin_size)])"
   ]
  },
  {
   "cell_type": "code",
   "execution_count": null,
   "metadata": {
    "collapsed": false
   },
   "outputs": [],
   "source": [
    "for r in reference:\n",
    "    for i,v in enumerate(counter):\n",
    "        b,e = r + i*(bin_size * offset), r + (i+1) * (bin_size * offset)\n",
    "        for t in target:\n",
    "            if t >= b and t < e:\n",
    "                counter[i] += 1"
   ]
  },
  {
   "cell_type": "code",
   "execution_count": null,
   "metadata": {
    "collapsed": false
   },
   "outputs": [],
   "source": [
    "%matplotlib inline\n",
    "from matplotlib import pyplot as plt"
   ]
  },
  {
   "cell_type": "code",
   "execution_count": null,
   "metadata": {
    "collapsed": false
   },
   "outputs": [],
   "source": [
    "=\n",
    "plt.hist(n)"
   ]
  },
  {
   "cell_type": "code",
   "execution_count": null,
   "metadata": {
    "collapsed": false
   },
   "outputs": [],
   "source": [
    "windows = np.empty(len(reference))\n",
    "for i, v in enumerate(counter):\n",
    "    s_idx = i - 25\n",
    "    e_idx = s_idx + 1\n",
    "    for s in np.column_stack((reference + s_idx * (bin_size * offset), reference + e_idx * (bin_size * offset))):\n",
    "        for t in target:\n",
    "            if t >= s[0] and t < s[1]:\n",
    "                counter[i] += 1\n",
    "                break\n",
    "        \n",
    "    "
   ]
  },
  {
   "cell_type": "code",
   "execution_count": null,
   "metadata": {
    "collapsed": false
   },
   "outputs": [],
   "source": [
    "counter.shape"
   ]
  },
  {
   "cell_type": "code",
   "execution_count": null,
   "metadata": {
    "collapsed": false
   },
   "outputs": [],
   "source": [
    "plt.hist(counter)"
   ]
  },
  {
   "cell_type": "code",
   "execution_count": null,
   "metadata": {
    "collapsed": false
   },
   "outputs": [],
   "source": [
    "i = 0\n",
    "s_idx = i - 25\n",
    "e_idx = s_idx + 1\n",
    "a = np.column_stack((reference + s_idx * (bin_size * offset), reference + e_idx * (bin_size * offset)))\n",
    "print a"
   ]
  },
  {
   "cell_type": "code",
   "execution_count": null,
   "metadata": {
    "collapsed": false
   },
   "outputs": [],
   "source": [
    "d1 = np.array([0,0,0,0])\n",
    "d2 = np.array([0,1,0,0])\n",
    "np.correlate(d2,d1,'same')"
   ]
  },
  {
   "cell_type": "code",
   "execution_count": null,
   "metadata": {
    "collapsed": true
   },
   "outputs": [],
   "source": [
    "a = np.array([1, 3, 5, 6, 9, 10, 14, 15, 56])"
   ]
  },
  {
   "cell_type": "code",
   "execution_count": null,
   "metadata": {
    "collapsed": false
   },
   "outputs": [],
   "source": [
    "np.logical_and(a>=6, a<=10)"
   ]
  },
  {
   "cell_type": "code",
   "execution_count": null,
   "metadata": {
    "collapsed": true
   },
   "outputs": [],
   "source": [
    "steps=4"
   ]
  },
  {
   "cell_type": "code",
   "execution_count": null,
   "metadata": {
    "collapsed": true
   },
   "outputs": [],
   "source": [
    "a = np.array([1,2,3,4])"
   ]
  },
  {
   "cell_type": "code",
   "execution_count": null,
   "metadata": {
    "collapsed": false
   },
   "outputs": [],
   "source": [
    "a[steps:] - a[:len(a) - steps]"
   ]
  },
  {
   "cell_type": "code",
   "execution_count": null,
   "metadata": {
    "collapsed": false
   },
   "outputs": [],
   "source": [
    "reference"
   ]
  },
  {
   "cell_type": "code",
   "execution_count": null,
   "metadata": {
    "collapsed": false
   },
   "outputs": [],
   "source": [
    "r_n = np.zeros(30150587,dtype='int')"
   ]
  },
  {
   "cell_type": "code",
   "execution_count": null,
   "metadata": {
    "collapsed": false
   },
   "outputs": [],
   "source": [
    "r_n[reference] = 1"
   ]
  },
  {
   "cell_type": "code",
   "execution_count": null,
   "metadata": {
    "collapsed": false
   },
   "outputs": [],
   "source": [
    "t_n = np.zeros(30150587,dtype='int')"
   ]
  },
  {
   "cell_type": "code",
   "execution_count": null,
   "metadata": {
    "collapsed": true
   },
   "outputs": [],
   "source": [
    "t_n[target] = 1"
   ]
  },
  {
   "cell_type": "code",
   "execution_count": null,
   "metadata": {
    "collapsed": true
   },
   "outputs": [],
   "source": [
    "w_n = np.ones(window_size*offset)"
   ]
  },
  {
   "cell_type": "code",
   "execution_count": null,
   "metadata": {
    "collapsed": false
   },
   "outputs": [],
   "source": [
    "counter = np.zeros(window_size/bin_size)"
   ]
  },
  {
   "cell_type": "code",
   "execution_count": null,
   "metadata": {
    "collapsed": false
   },
   "outputs": [],
   "source": []
  },
  {
   "cell_type": "code",
   "execution_count": null,
   "metadata": {
    "collapsed": false
   },
   "outputs": [],
   "source": [
    "app.model.clu[26].index_count"
   ]
  },
  {
   "cell_type": "code",
   "execution_count": null,
   "metadata": {
    "collapsed": false
   },
   "outputs": [],
   "source": [
    "#ms\n",
    "bin_size=1\n",
    "window_size=50\n",
    "#ms 2 index\n",
    "offset = fs/1000\n",
    "counter = np.array([0 for i in range(window_size/bin_size)])\n",
    "ch26 = app.model.spktag.t[app.model.spktag.ch==26]\n",
    "reference = ch26[app.model.clu[26].index[1]] \n",
    "target = ch26[app.model.clu[26].index[4]]\n",
    "counter = np.zeros(window_size/bin_size)\n",
    "# counter = np.zeros(window_size*offset)\n",
    "t_n = np.zeros(len(app.model.mua.data),dtype='int')\n",
    "t_n[target] = 1\n",
    "w_n =np.ones(window_size*offset)\n",
    "for r in reference:\n",
    "    t = np.hstack((t_n[r - window_size/2 * offset:r],t_n[r+1:r + window_size/2 * offset + 1]))\n",
    "    s = t * w_n\n",
    "#     counter += s\n",
    "    counter += s.reshape((50,25)).sum(axis=1)   \n",
    "print counter"
   ]
  },
  {
   "cell_type": "code",
   "execution_count": null,
   "metadata": {
    "collapsed": false
   },
   "outputs": [],
   "source": [
    "hist = np.array([],dtype='int')\n",
    "for i,v in enumerate(counter):\n",
    "    for v in range(int(v)):\n",
    "        value = i-25 if i<25 else i-24\n",
    "        hist = np.append(hist,value )\n",
    "plt.hist(hist,50)     "
   ]
  },
  {
   "cell_type": "code",
   "execution_count": null,
   "metadata": {
    "collapsed": false
   },
   "outputs": [],
   "source": [
    "counter"
   ]
  },
  {
   "cell_type": "code",
   "execution_count": null,
   "metadata": {
    "collapsed": false
   },
   "outputs": [],
   "source": [
    "counter.shape"
   ]
  },
  {
   "cell_type": "code",
   "execution_count": null,
   "metadata": {
    "collapsed": false
   },
   "outputs": [],
   "source": [
    "plt.hist(counter)"
   ]
  },
  {
   "cell_type": "code",
   "execution_count": null,
   "metadata": {
    "collapsed": false
   },
   "outputs": [],
   "source": [
    "counter"
   ]
  },
  {
   "cell_type": "code",
   "execution_count": null,
   "metadata": {
    "collapsed": false
   },
   "outputs": [],
   "source": [
    "mu, sigma = 100, 15\n",
    "x = mu + sigma*np.random.randn(10)\n",
    "\n",
    "# the histogram of the data\n",
    "n, bins, patches = plt.hist(x, 50, facecolor='green', alpha=0.75)"
   ]
  },
  {
   "cell_type": "code",
   "execution_count": null,
   "metadata": {
    "collapsed": false
   },
   "outputs": [],
   "source": [
    "counter"
   ]
  },
  {
   "cell_type": "code",
   "execution_count": null,
   "metadata": {
    "collapsed": false
   },
   "outputs": [],
   "source": [
    "\n",
    "hist = np.array([],dtype='int')\n",
    "for i,v in enumerate(app.view.correlogram_view._correlogram()['1-4']):\n",
    "    for v in range(int(v)):\n",
    "        value = i-25 if i<25 else i-24\n",
    "        hist = np.append(hist,value )\n",
    "\n",
    "        "
   ]
  },
  {
   "cell_type": "code",
   "execution_count": null,
   "metadata": {
    "collapsed": false
   },
   "outputs": [],
   "source": [
    "hist"
   ]
  },
  {
   "cell_type": "code",
   "execution_count": null,
   "metadata": {
    "collapsed": false
   },
   "outputs": [],
   "source": [
    "for c in app.view.correlogram_view._grid.children:\n",
    "    app.view.correlogram_view._grid._remove_child(c)\n"
   ]
  },
  {
   "cell_type": "code",
   "execution_count": null,
   "metadata": {
    "collapsed": false
   },
   "outputs": [],
   "source": [
    "app.model.clu[24].nclu"
   ]
  },
  {
   "cell_type": "code",
   "execution_count": null,
   "metadata": {
    "collapsed": false
   },
   "outputs": [],
   "source": [
    "%lprun -f app.view.correlogram_view._correlogram app.view.correlogram_view._correlogram()"
   ]
  },
  {
   "cell_type": "code",
   "execution_count": null,
   "metadata": {
    "collapsed": true
   },
   "outputs": [],
   "source": [
    "%load_ext line_profiler"
   ]
  },
  {
   "cell_type": "code",
   "execution_count": null,
   "metadata": {
    "collapsed": false
   },
   "outputs": [],
   "source": [
    "%lprun -f app.view.correlogram_view._render app.view.correlogram_view._render()"
   ]
  },
  {
   "cell_type": "code",
   "execution_count": null,
   "metadata": {
    "collapsed": false
   },
   "outputs": [],
   "source": [
    "app.view.correlogram_view.set_data(26,app.model.clu[26])"
   ]
  },
  {
   "cell_type": "code",
   "execution_count": null,
   "metadata": {
    "collapsed": false
   },
   "outputs": [],
   "source": [
    "%timeit app.view.correlogram_view._render()"
   ]
  },
  {
   "cell_type": "code",
   "execution_count": null,
   "metadata": {
    "collapsed": false
   },
   "outputs": [],
   "source": [
    "app.view.correlogram_view.show()"
   ]
  },
  {
   "cell_type": "code",
   "execution_count": null,
   "metadata": {
    "collapsed": false
   },
   "outputs": [],
   "source": [
    "app.view.correlogram_view._clear()"
   ]
  },
  {
   "cell_type": "code",
   "execution_count": null,
   "metadata": {
    "collapsed": false
   },
   "outputs": [],
   "source": [
    "app.view.correlogram_view._pair_clusters"
   ]
  },
  {
   "cell_type": "code",
   "execution_count": null,
   "metadata": {
    "collapsed": false
   },
   "outputs": [],
   "source": [
    "for i,j in app.view.correlogram_view._pair_clusters():\n",
    "    print i,j"
   ]
  },
  {
   "cell_type": "code",
   "execution_count": null,
   "metadata": {
    "collapsed": false
   },
   "outputs": [],
   "source": [
    "1 != 2"
   ]
  },
  {
   "cell_type": "code",
   "execution_count": null,
   "metadata": {
    "collapsed": false
   },
   "outputs": [],
   "source": [
    "for i in reversed(range(5)):\n",
    "    for j in range(i+1):\n",
    "        print \"%s,%s\" % (i,j)"
   ]
  },
  {
   "cell_type": "code",
   "execution_count": null,
   "metadata": {
    "collapsed": false
   },
   "outputs": [],
   "source": [
    "app.model.clu[26]._clu_cumsum"
   ]
  },
  {
   "cell_type": "code",
   "execution_count": null,
   "metadata": {
    "collapsed": false
   },
   "outputs": [],
   "source": [
    "app.model.clu[26].index_count"
   ]
  },
  {
   "cell_type": "code",
   "execution_count": null,
   "metadata": {
    "collapsed": false
   },
   "outputs": [],
   "source": [
    "ch26"
   ]
  },
  {
   "cell_type": "code",
   "execution_count": null,
   "metadata": {
    "collapsed": false
   },
   "outputs": [],
   "source": [
    "len(ch26)"
   ]
  },
  {
   "cell_type": "code",
   "execution_count": null,
   "metadata": {
    "collapsed": false
   },
   "outputs": [],
   "source": [
    "from spiketag.core import correlate"
   ]
  },
  {
   "cell_type": "code",
   "execution_count": null,
   "metadata": {
    "collapsed": false
   },
   "outputs": [],
   "source": [
    "%lprun -f  correlate correlate(ch26,app.model.clu[26].index,window_size=50,bin_size=1)"
   ]
  },
  {
   "cell_type": "code",
   "execution_count": null,
   "metadata": {
    "collapsed": false
   },
   "outputs": [],
   "source": [
    "correlate(ch26,app.model.clu[26].index,window_size=50,bin_size=1)[2][4]"
   ]
  },
  {
   "cell_type": "code",
   "execution_count": null,
   "metadata": {
    "collapsed": false
   },
   "outputs": [],
   "source": [
    "ccg = app.view.correlogram_view._correlogram()"
   ]
  },
  {
   "cell_type": "code",
   "execution_count": null,
   "metadata": {
    "collapsed": false
   },
   "outputs": [],
   "source": [
    "%timeit app.view.correlogram_view.clear()"
   ]
  },
  {
   "cell_type": "code",
   "execution_count": null,
   "metadata": {
    "collapsed": false
   },
   "outputs": [],
   "source": [
    "app.model.spk[26].shape"
   ]
  },
  {
   "cell_type": "code",
   "execution_count": null,
   "metadata": {
    "collapsed": false
   },
   "outputs": [],
   "source": [
    "app.model.spktag.t[app.model.spktag.ch==26].shape"
   ]
  },
  {
   "cell_type": "code",
   "execution_count": null,
   "metadata": {
    "collapsed": false
   },
   "outputs": [],
   "source": [
    "app.view.correlogram_view._correlogram()[0][0].shape"
   ]
  },
  {
   "cell_type": "code",
   "execution_count": null,
   "metadata": {
    "collapsed": false
   },
   "outputs": [],
   "source": [
    "np.atleast_2d(app.view.correlogram_view._correlogram()[0][0]).shape"
   ]
  },
  {
   "cell_type": "code",
   "execution_count": null,
   "metadata": {
    "collapsed": false
   },
   "outputs": [],
   "source": [
    "app.view.correlogram_view[0][0].hist"
   ]
  },
  {
   "cell_type": "code",
   "execution_count": null,
   "metadata": {
    "collapsed": true
   },
   "outputs": [],
   "source": [
    "from phy.plot import View"
   ]
  },
  {
   "cell_type": "code",
   "execution_count": null,
   "metadata": {
    "collapsed": true
   },
   "outputs": [],
   "source": [
    "%gui qt"
   ]
  },
  {
   "cell_type": "code",
   "execution_count": null,
   "metadata": {
    "collapsed": true
   },
   "outputs": [],
   "source": [
    "view = View()"
   ]
  },
  {
   "cell_type": "code",
   "execution_count": null,
   "metadata": {
    "collapsed": false
   },
   "outputs": [],
   "source": [
    "n = np.random.randn(10)"
   ]
  },
  {
   "cell_type": "code",
   "execution_count": null,
   "metadata": {
    "collapsed": false
   },
   "outputs": [],
   "source": [
    "data = app.view.correlogram_view._correlogram()[1,1]"
   ]
  },
  {
   "cell_type": "code",
   "execution_count": null,
   "metadata": {
    "collapsed": false
   },
   "outputs": [],
   "source": [
    "view.clear()\n",
    "\n",
    "c = view.hist(data,(1,1,1,1))\n",
    "view.build()\n",
    "view.visuals[0].program['u_color']=np.vstack((np.repeat(np.array([[0.8,0.8,1,1]]),6,axis=0),np.repeat(np.ones((1,4)),294,axis=0))).astype(np.float32)"
   ]
  },
  {
   "cell_type": "code",
   "execution_count": null,
   "metadata": {
    "collapsed": false
   },
   "outputs": [],
   "source": [
    "view.show()"
   ]
  },
  {
   "cell_type": "code",
   "execution_count": null,
   "metadata": {
    "collapsed": false
   },
   "outputs": [],
   "source": [
    "from phy.plot import utils"
   ]
  },
  {
   "cell_type": "code",
   "execution_count": null,
   "metadata": {
    "collapsed": false
   },
   "outputs": [],
   "source": [
    "np.array([[0.8,0.8,1,1]]).shape"
   ]
  },
  {
   "cell_type": "code",
   "execution_count": null,
   "metadata": {
    "collapsed": false
   },
   "outputs": [],
   "source": [
    "np.vstack((np.repeat(np.array([[0.8,0.8,1,1]]),6,axis=0),np.repeat(np.ones((1,4)),294,axis=0))).astype(np.float32)"
   ]
  },
  {
   "cell_type": "code",
   "execution_count": null,
   "metadata": {
    "collapsed": false
   },
   "outputs": [],
   "source": [
    "cc = utils._get_texture(np.array([[ 0.8,  0.8,  1.,  1.]]),(1.,1.,1.,1.),2,[0,1]).astype(np.float32)"
   ]
  },
  {
   "cell_type": "code",
   "execution_count": null,
   "metadata": {
    "collapsed": false
   },
   "outputs": [],
   "source": [
    "c.hist"
   ]
  },
  {
   "cell_type": "code",
   "execution_count": null,
   "metadata": {
    "collapsed": false
   },
   "outputs": [],
   "source": [
    "view.visuals[0]"
   ]
  },
  {
   "cell_type": "code",
   "execution_count": null,
   "metadata": {
    "collapsed": false
   },
   "outputs": [],
   "source": [
    "view.visuals[0].vertex_count(c.hist)"
   ]
  },
  {
   "cell_type": "code",
   "execution_count": null,
   "metadata": {
    "collapsed": false
   },
   "outputs": [],
   "source": [
    "utils._get_index(1,50*6,300).shape"
   ]
  },
  {
   "cell_type": "code",
   "execution_count": null,
   "metadata": {
    "collapsed": false
   },
   "outputs": [],
   "source": [
    "np.vstack(utils._tesselate_histogram(row) for row in c.hist)"
   ]
  },
  {
   "cell_type": "code",
   "execution_count": null,
   "metadata": {
    "collapsed": false
   },
   "outputs": [],
   "source": [
    "np.array(([[  0.,   0.],\n",
    "       [  1.,   0.],\n",
    "       [  0.,  11.],\n",
    "       [  1.,  11.],\n",
    "       [  0.,  11.],\n",
    "       [  1.,   0.]]))"
   ]
  },
  {
   "cell_type": "code",
   "execution_count": null,
   "metadata": {
    "collapsed": false
   },
   "outputs": [],
   "source": [
    "cc = np.array([[[0.80000001,  0.80000001,  1.        ,  1.]],[[0.80000001,  0.80000001,  1.        ,  1.]]])"
   ]
  },
  {
   "cell_type": "code",
   "execution_count": null,
   "metadata": {
    "collapsed": false
   },
   "outputs": [],
   "source": [
    "cc.shape"
   ]
  },
  {
   "cell_type": "markdown",
   "metadata": {},
   "source": [
    "# 将phy的histogram的opengl改一下的，每个点变颜色，是可以高亮histogram的"
   ]
  },
  {
   "cell_type": "code",
   "execution_count": null,
   "metadata": {
    "collapsed": false
   },
   "outputs": [],
   "source": [
    "view.visuals[0].program['u_color']=np.repeat(np.ones((1,4)),300,axis=0).astype(np.float32)"
   ]
  },
  {
   "cell_type": "code",
   "execution_count": null,
   "metadata": {
    "collapsed": false
   },
   "outputs": [],
   "source": [
    "np.repeat(np.ones((1,4)),300,axis=0).astype(np.float32).shape"
   ]
  },
  {
   "cell_type": "code",
   "execution_count": null,
   "metadata": {
    "collapsed": false
   },
   "outputs": [],
   "source": [
    "view.visuals[0].update()"
   ]
  },
  {
   "cell_type": "code",
   "execution_count": null,
   "metadata": {
    "collapsed": false
   },
   "outputs": [],
   "source": [
    "app.view.wave_view.waves1.color.shape"
   ]
  },
  {
   "cell_type": "markdown",
   "metadata": {
    "collapsed": true
   },
   "source": [
    "# 比较用vispy的Fig的效率 (结论是fig太慢了)"
   ]
  },
  {
   "cell_type": "code",
   "execution_count": null,
   "metadata": {
    "collapsed": true
   },
   "outputs": [],
   "source": [
    "import vispy.plot  as vp"
   ]
  },
  {
   "cell_type": "code",
   "execution_count": null,
   "metadata": {
    "collapsed": true
   },
   "outputs": [],
   "source": [
    "from spiketag.view.color_scheme import palette"
   ]
  },
  {
   "cell_type": "code",
   "execution_count": null,
   "metadata": {
    "collapsed": true
   },
   "outputs": [],
   "source": [
    "default_color = np.ones(4, dtype='int32')"
   ]
  },
  {
   "cell_type": "code",
   "execution_count": null,
   "metadata": {
    "collapsed": true
   },
   "outputs": [],
   "source": [
    "fig = vp.Fig(bgcolor='k')"
   ]
  },
  {
   "cell_type": "code",
   "execution_count": null,
   "metadata": {
    "collapsed": true
   },
   "outputs": [],
   "source": [
    "ccg = app.view.correlogram_view"
   ]
  },
  {
   "cell_type": "code",
   "execution_count": null,
   "metadata": {
    "collapsed": false
   },
   "outputs": [],
   "source": [
    "hists = ccg._correlogram()"
   ]
  },
  {
   "cell_type": "code",
   "execution_count": null,
   "metadata": {
    "collapsed": true
   },
   "outputs": [],
   "source": [
    "for i,j in ccg._pair_clusters():\n",
    "    color = default_color if (i != j) else np.hstack((palette[i],1))\n",
    "    row, col = ccg._clu.nclu - 1 - i, j\n",
    "    fig[row,col].histogram(hists[i,j],color=color)"
   ]
  },
  {
   "cell_type": "code",
   "execution_count": null,
   "metadata": {
    "collapsed": false
   },
   "outputs": [],
   "source": [
    "%time ccg._correlate(ccg._spike_time, ccg._clu.index)"
   ]
  },
  {
   "cell_type": "code",
   "execution_count": null,
   "metadata": {
    "collapsed": true
   },
   "outputs": [],
   "source": [
    "%load_ext line_profiler"
   ]
  },
  {
   "cell_type": "code",
   "execution_count": null,
   "metadata": {
    "collapsed": false
   },
   "outputs": [],
   "source": [
    "%lprun -f ccg._render ccg._render()"
   ]
  },
  {
   "cell_type": "code",
   "execution_count": null,
   "metadata": {
    "collapsed": false
   },
   "outputs": [],
   "source": [
    "%lprun -f ccg._correlate ccg._correlate(ccg._spike_time, ccg._clu.index)"
   ]
  },
  {
   "cell_type": "markdown",
   "metadata": {},
   "source": [
    "# 比较numpy和scipy.sparse的速度 "
   ]
  },
  {
   "cell_type": "code",
   "execution_count": null,
   "metadata": {
    "collapsed": true
   },
   "outputs": [],
   "source": [
    "import numpy as np"
   ]
  },
  {
   "cell_type": "code",
   "execution_count": null,
   "metadata": {
    "collapsed": true
   },
   "outputs": [],
   "source": [
    "from scipy import sparse"
   ]
  },
  {
   "cell_type": "code",
   "execution_count": null,
   "metadata": {
    "collapsed": false
   },
   "outputs": [],
   "source": [
    "a = sparse.lil_matrix((1,30149334), dtype='int64')"
   ]
  },
  {
   "cell_type": "code",
   "execution_count": null,
   "metadata": {
    "collapsed": false
   },
   "outputs": [],
   "source": [
    "a.toarray()"
   ]
  },
  {
   "cell_type": "code",
   "execution_count": null,
   "metadata": {
    "collapsed": false
   },
   "outputs": [],
   "source": [
    " a[0,1:2] = 1"
   ]
  },
  {
   "cell_type": "code",
   "execution_count": null,
   "metadata": {
    "collapsed": false
   },
   "outputs": [],
   "source": [
    "zero =  sparse.lil_matrix((1,3), dtype='int64')"
   ]
  },
  {
   "cell_type": "code",
   "execution_count": null,
   "metadata": {
    "collapsed": false
   },
   "outputs": [],
   "source": [
    "sparse.hstack((zero,a)).toarray()"
   ]
  },
  {
   "cell_type": "code",
   "execution_count": null,
   "metadata": {
    "collapsed": false
   },
   "outputs": [],
   "source": [
    "a.shape"
   ]
  },
  {
   "cell_type": "code",
   "execution_count": null,
   "metadata": {
    "collapsed": false
   },
   "outputs": [],
   "source": [
    "from spiketag.core.correlate import _to_train"
   ]
  },
  {
   "cell_type": "code",
   "execution_count": null,
   "metadata": {
    "collapsed": true
   },
   "outputs": [],
   "source": [
    "idx = app.model.spktag.t[app.model.spktag.ch == 26][app.model.clu[26].index[0]]"
   ]
  },
  {
   "cell_type": "code",
   "execution_count": null,
   "metadata": {
    "collapsed": false
   },
   "outputs": [],
   "source": [
    "def test1():\n",
    "    for i in range(5):\n",
    "        t = np.zeros(30149334,dtype='int32')\n",
    "        t[idx] = 1"
   ]
  },
  {
   "cell_type": "code",
   "execution_count": null,
   "metadata": {
    "collapsed": false
   },
   "outputs": [],
   "source": [
    "%time test1"
   ]
  },
  {
   "cell_type": "code",
   "execution_count": null,
   "metadata": {
    "collapsed": false
   },
   "outputs": [],
   "source": [
    "np.correlate([1,1,1,1],[1,0,1],'same')"
   ]
  },
  {
   "cell_type": "code",
   "execution_count": null,
   "metadata": {
    "collapsed": false
   },
   "outputs": [],
   "source": [
    "np.correlate([1,0,1], [1,1,1,1])"
   ]
  },
  {
   "cell_type": "code",
   "execution_count": null,
   "metadata": {
    "collapsed": false
   },
   "outputs": [],
   "source": [
    "a = sparse.csr_matrix(1,(100,1))"
   ]
  },
  {
   "cell_type": "code",
   "execution_count": null,
   "metadata": {
    "collapsed": false
   },
   "outputs": [],
   "source": [
    "a.toarray().shape"
   ]
  },
  {
   "cell_type": "code",
   "execution_count": null,
   "metadata": {
    "collapsed": true
   },
   "outputs": [],
   "source": [
    "from spiketag.core import correlate_sparse"
   ]
  },
  {
   "cell_type": "code",
   "execution_count": null,
   "metadata": {
    "collapsed": false
   },
   "outputs": [],
   "source": [
    "from spiketag.core import correlate"
   ]
  },
  {
   "cell_type": "code",
   "execution_count": null,
   "metadata": {
    "collapsed": true
   },
   "outputs": [],
   "source": [
    "ccg._correlate = correlate"
   ]
  },
  {
   "cell_type": "code",
   "execution_count": null,
   "metadata": {
    "collapsed": true
   },
   "outputs": [],
   "source": [
    "pool = mp.Pool()"
   ]
  },
  {
   "cell_type": "code",
   "execution_count": null,
   "metadata": {
    "collapsed": false
   },
   "outputs": [],
   "source": [
    "ccg._correlate(ccg._spike_time, ccg._clu.index)"
   ]
  },
  {
   "cell_type": "code",
   "execution_count": null,
   "metadata": {
    "collapsed": false
   },
   "outputs": [],
   "source": [
    "%pdb\n",
    "ccg._correlate(ccg._spike_time, ccg._clu.index)"
   ]
  },
  {
   "cell_type": "code",
   "execution_count": null,
   "metadata": {
    "collapsed": false
   },
   "outputs": [],
   "source": [
    "%time ccg._correlate(ccg._spike_time, ccg._clu.index)"
   ]
  },
  {
   "cell_type": "code",
   "execution_count": null,
   "metadata": {
    "collapsed": false
   },
   "outputs": [],
   "source": [
    "%lprun -f ccg._correlate ccg._correlate(ccg._spike_time, ccg._clu.index)"
   ]
  },
  {
   "cell_type": "code",
   "execution_count": null,
   "metadata": {
    "collapsed": true
   },
   "outputs": [],
   "source": [
    "idx = app.model.clu[26].index[3]"
   ]
  },
  {
   "cell_type": "code",
   "execution_count": null,
   "metadata": {
    "collapsed": false
   },
   "outputs": [],
   "source": [
    "def testNumpy():\n",
    "    for j in range(5):\n",
    "        a = np.zeros(30150587,dtype='int64')\n",
    "    "
   ]
  },
  {
   "cell_type": "code",
   "execution_count": null,
   "metadata": {
    "collapsed": true
   },
   "outputs": [],
   "source": [
    "def testScipy():\n",
    "    t = sparse.lil_matrix((1,30150587), dtype='int64')\n",
    "    t[0, idx] = 1"
   ]
  },
  {
   "cell_type": "code",
   "execution_count": null,
   "metadata": {
    "collapsed": false
   },
   "outputs": [],
   "source": [
    "%time testNumpy()"
   ]
  },
  {
   "cell_type": "code",
   "execution_count": null,
   "metadata": {
    "collapsed": false
   },
   "outputs": [],
   "source": [
    "idx[(idx>1000)&((idx<1002))]"
   ]
  },
  {
   "cell_type": "code",
   "execution_count": null,
   "metadata": {
    "collapsed": false
   },
   "outputs": [],
   "source": [
    "%time np.array([])"
   ]
  },
  {
   "cell_type": "code",
   "execution_count": null,
   "metadata": {
    "collapsed": false
   },
   "outputs": [],
   "source": [
    "%time a = np.zeros(30150587,dtype='int64')"
   ]
  },
  {
   "cell_type": "code",
   "execution_count": null,
   "metadata": {
    "collapsed": false
   },
   "outputs": [],
   "source": [
    "import sys\n",
    "sys.getsizeof(a)"
   ]
  },
  {
   "cell_type": "code",
   "execution_count": null,
   "metadata": {
    "collapsed": false
   },
   "outputs": [],
   "source": [
    "%time a.fill(2)"
   ]
  },
  {
   "cell_type": "code",
   "execution_count": null,
   "metadata": {
    "collapsed": true
   },
   "outputs": [],
   "source": [
    "import multiprocessing.dummy as mp"
   ]
  },
  {
   "cell_type": "code",
   "execution_count": null,
   "metadata": {
    "collapsed": false
   },
   "outputs": [],
   "source": [
    "%time mp.Pool()"
   ]
  },
  {
   "cell_type": "code",
   "execution_count": null,
   "metadata": {
    "collapsed": false
   },
   "outputs": [],
   "source": [
    "%lprun -f mp.pool.Pool mp.pool.Pool()"
   ]
  },
  {
   "cell_type": "code",
   "execution_count": null,
   "metadata": {
    "collapsed": false
   },
   "outputs": [],
   "source": [
    "np.correlate([0,0,1,0,0,0,1,0,0,1,0,0],[1,0,0,0,1,0,0,0,1,0,0,0],'same')"
   ]
  },
  {
   "cell_type": "markdown",
   "metadata": {
    "collapsed": true
   },
   "source": [
    "# 测试下phy的ccg "
   ]
  },
  {
   "cell_type": "code",
   "execution_count": null,
   "metadata": {
    "collapsed": true
   },
   "outputs": [],
   "source": [
    "from phy.stats import correlograms"
   ]
  },
  {
   "cell_type": "code",
   "execution_count": null,
   "metadata": {
    "collapsed": false
   },
   "outputs": [],
   "source": [
    "times = app.model.spktag.t[app.model.spktag.ch==26]"
   ]
  },
  {
   "cell_type": "code",
   "execution_count": null,
   "metadata": {
    "collapsed": false
   },
   "outputs": [],
   "source": [
    "clusters = app.model.clu[26].membership"
   ]
  },
  {
   "cell_type": "code",
   "execution_count": null,
   "metadata": {
    "collapsed": true
   },
   "outputs": [],
   "source": [
    "ids = app.model.clu[26].index_id"
   ]
  },
  {
   "cell_type": "code",
   "execution_count": null,
   "metadata": {
    "collapsed": false
   },
   "outputs": [],
   "source": [
    "ids"
   ]
  },
  {
   "cell_type": "code",
   "execution_count": null,
   "metadata": {
    "collapsed": false
   },
   "outputs": [],
   "source": [
    "%time correlograms(times/25e3, clusters, sample_rate=25e3,bin_size=1e-3, window_size=5e-2)[1][1]"
   ]
  },
  {
   "cell_type": "code",
   "execution_count": null,
   "metadata": {
    "collapsed": false
   },
   "outputs": [],
   "source": [
    "times"
   ]
  },
  {
   "cell_type": "code",
   "execution_count": null,
   "metadata": {
    "collapsed": false
   },
   "outputs": [],
   "source": [
    "clusters"
   ]
  },
  {
   "cell_type": "code",
   "execution_count": null,
   "metadata": {
    "collapsed": false
   },
   "outputs": [],
   "source": [
    "correlograms(times/25e3, clusters, sample_rate=25e3,bin_size=1e-3, window_size=5e-2).shape"
   ]
  },
  {
   "cell_type": "code",
   "execution_count": null,
   "metadata": {
    "collapsed": true
   },
   "outputs": [],
   "source": [
    "app.view.correlogram_view._render()"
   ]
  },
  {
   "cell_type": "code",
   "execution_count": null,
   "metadata": {
    "collapsed": false
   },
   "outputs": [],
   "source": [
    "app.model.clu[26].membership"
   ]
  },
  {
   "cell_type": "code",
   "execution_count": null,
   "metadata": {
    "collapsed": false
   },
   "outputs": [],
   "source": [
    "selected = np.in1d(app.model.clu[26].membership, np.array([1,3]))"
   ]
  },
  {
   "cell_type": "code",
   "execution_count": null,
   "metadata": {
    "collapsed": true
   },
   "outputs": [],
   "source": []
  },
  {
   "cell_type": "code",
   "execution_count": null,
   "metadata": {
    "collapsed": false
   },
   "outputs": [],
   "source": [
    "app.model.clu[26].membership[selected].shape"
   ]
  },
  {
   "cell_type": "code",
   "execution_count": null,
   "metadata": {
    "collapsed": false
   },
   "outputs": [],
   "source": [
    "app.model.clu[26].index_count"
   ]
  },
  {
   "cell_type": "code",
   "execution_count": null,
   "metadata": {
    "collapsed": false
   },
   "outputs": [],
   "source": [
    "(np.array([1,2]) == np.array([1,2])).all()"
   ]
  },
  {
   "cell_type": "code",
   "execution_count": null,
   "metadata": {
    "collapsed": false
   },
   "outputs": [],
   "source": [
    "app.view.correlogram_view._render(clus = np.array([1,2]))"
   ]
  },
  {
   "cell_type": "code",
   "execution_count": null,
   "metadata": {
    "collapsed": false
   },
   "outputs": [],
   "source": [
    "\n",
    "(np.array([1,2]) == np.array([1,2])).all()"
   ]
  },
  {
   "cell_type": "code",
   "execution_count": null,
   "metadata": {
    "collapsed": false
   },
   "outputs": [],
   "source": [
    "np.array([1,2]) == app.view.correlogram_view._clu.index_id"
   ]
  },
  {
   "cell_type": "code",
   "execution_count": null,
   "metadata": {
    "collapsed": false
   },
   "outputs": [],
   "source": [
    "app.view.correlogram_view._correlogram(np.array([1,2]))"
   ]
  },
  {
   "cell_type": "code",
   "execution_count": null,
   "metadata": {
    "collapsed": false
   },
   "outputs": [],
   "source": [
    "np.random.random([2,2])"
   ]
  },
  {
   "cell_type": "code",
   "execution_count": null,
   "metadata": {
    "collapsed": true
   },
   "outputs": [],
   "source": [
    "import os.path as op"
   ]
  },
  {
   "cell_type": "code",
   "execution_count": null,
   "metadata": {
    "collapsed": false
   },
   "outputs": [],
   "source": [
    "op.join('../../','name')"
   ]
  },
  {
   "cell_type": "code",
   "execution_count": null,
   "metadata": {
    "collapsed": false
   },
   "outputs": [],
   "source": [
    "app.view.gui.state.path"
   ]
  },
  {
   "cell_type": "code",
   "execution_count": null,
   "metadata": {
    "collapsed": false
   },
   "outputs": [],
   "source": [
    "op.pardir"
   ]
  },
  {
   "cell_type": "code",
   "execution_count": null,
   "metadata": {
    "collapsed": true
   },
   "outputs": [],
   "source": [
    "import os"
   ]
  },
  {
   "cell_type": "code",
   "execution_count": null,
   "metadata": {
    "collapsed": false
   },
   "outputs": [],
   "source": [
    "os.getcwd()"
   ]
  },
  {
   "cell_type": "code",
   "execution_count": null,
   "metadata": {
    "collapsed": false
   },
   "outputs": [],
   "source": [
    "os.path.dirname(os.path.abspath('__file__'))"
   ]
  },
  {
   "cell_type": "code",
   "execution_count": null,
   "metadata": {
    "collapsed": false
   },
   "outputs": [],
   "source": [
    "op.expanduser('/')"
   ]
  },
  {
   "cell_type": "code",
   "execution_count": null,
   "metadata": {
    "collapsed": false
   },
   "outputs": [],
   "source": [
    "%pwd"
   ]
  },
  {
   "cell_type": "code",
   "execution_count": null,
   "metadata": {
    "collapsed": false
   },
   "outputs": [],
   "source": [
    "os.path.abspath(os.path.join(os.path.dirname(\"__file__\"),os.path.pardir,os.path.pardir))"
   ]
  },
  {
   "cell_type": "code",
   "execution_count": null,
   "metadata": {
    "collapsed": false
   },
   "outputs": [],
   "source": [
    "%ls"
   ]
  },
  {
   "cell_type": "code",
   "execution_count": null,
   "metadata": {
    "collapsed": false
   },
   "outputs": [],
   "source": [
    "os.path.dirname(\"__file__\")"
   ]
  },
  {
   "cell_type": "code",
   "execution_count": null,
   "metadata": {
    "collapsed": false
   },
   "outputs": [],
   "source": [
    "op.dirname(op.abspath(op.expanduser('../..')))"
   ]
  },
  {
   "cell_type": "code",
   "execution_count": null,
   "metadata": {
    "collapsed": false
   },
   "outputs": [],
   "source": [
    "%pwd"
   ]
  },
  {
   "cell_type": "code",
   "execution_count": null,
   "metadata": {
    "collapsed": true
   },
   "outputs": [],
   "source": [
    "op.dirname(op.abspath(op.expanduser(dat_path))"
   ]
  },
  {
   "cell_type": "code",
   "execution_count": null,
   "metadata": {
    "collapsed": false
   },
   "outputs": [],
   "source": [
    "os.getcwd()"
   ]
  },
  {
   "cell_type": "code",
   "execution_count": null,
   "metadata": {
    "collapsed": false
   },
   "outputs": [],
   "source": [
    "os.path.split(os.getcwd())"
   ]
  },
  {
   "cell_type": "code",
   "execution_count": null,
   "metadata": {
    "collapsed": false
   },
   "outputs": [],
   "source": [
    "os.path.abspath(os.curdir)\n",
    "\n",
    "\n"
   ]
  },
  {
   "cell_type": "code",
   "execution_count": null,
   "metadata": {
    "collapsed": false
   },
   "outputs": [],
   "source": [
    "os.path.abspath('.')"
   ]
  },
  {
   "cell_type": "code",
   "execution_count": null,
   "metadata": {
    "collapsed": false
   },
   "outputs": [],
   "source": [
    "os.getcwd()"
   ]
  },
  {
   "cell_type": "code",
   "execution_count": null,
   "metadata": {
    "collapsed": false
   },
   "outputs": [],
   "source": [
    "os.path.splitdrive(os.getcwd())"
   ]
  },
  {
   "cell_type": "code",
   "execution_count": null,
   "metadata": {
    "collapsed": false
   },
   "outputs": [],
   "source": [
    "path = ''\n",
    "for fn in os.getcwd().split(os.path.sep):\n",
    "    if len(fn) == 0:\n",
    "        path = os.path.join(os.path.sep, path)\n",
    "    else:\n",
    "        path = os.path.join(path, fn)\n",
    "    \n",
    "    if fn == 'spiketag':\n",
    "        break\n",
    "\n",
    "path = os.path.join(path, 'spiketag/res')\n",
    "path\n",
    "    "
   ]
  },
  {
   "cell_type": "code",
   "execution_count": null,
   "metadata": {
    "collapsed": false
   },
   "outputs": [],
   "source": [
    "os.getcwd()"
   ]
  },
  {
   "cell_type": "code",
   "execution_count": null,
   "metadata": {
    "collapsed": false
   },
   "outputs": [],
   "source": [
    "os.path.join('/','U','B')"
   ]
  },
  {
   "cell_type": "code",
   "execution_count": null,
   "metadata": {
    "collapsed": false
   },
   "outputs": [],
   "source": [
    "path"
   ]
  },
  {
   "cell_type": "code",
   "execution_count": null,
   "metadata": {
    "collapsed": false
   },
   "outputs": [],
   "source": [
    "correlate(np.array([1,3,5,10,11]),np.array([1,0,1,0,1]),cluster_ids=np.array([0,1]), window_bins=2, bin_size=2, fs=1e3)"
   ]
  },
  {
   "cell_type": "code",
   "execution_count": null,
   "metadata": {
    "collapsed": false
   },
   "outputs": [],
   "source": [
    "a = np.array(([[0, 0, 0],\n",
    "        [1, 0, 2]],\n",
    "\n",
    "       [[2, 0, 1],\n",
    "        [0, 0, 0]]))"
   ]
  },
  {
   "cell_type": "code",
   "execution_count": null,
   "metadata": {
    "collapsed": false
   },
   "outputs": [],
   "source": [
    "np.array_equal(a,correlate(np.array([1,3,5,10,11]),np.array([1,0,1,0,1]),cluster_ids=np.array([0,1]), window_bins=2, bin_size=2, fs=1e3))"
   ]
  },
  {
   "cell_type": "code",
   "execution_count": null,
   "metadata": {
    "collapsed": false
   },
   "outputs": [],
   "source": [
    "correlograms(times/25e3, clusters, sample_rate=25e3,bin_size=1e-3, window_size=5e-2)"
   ]
  },
  {
   "cell_type": "code",
   "execution_count": null,
   "metadata": {
    "collapsed": true
   },
   "outputs": [],
   "source": [
    "from spiketag.core import correlate"
   ]
  },
  {
   "cell_type": "code",
   "execution_count": null,
   "metadata": {
    "collapsed": false
   },
   "outputs": [],
   "source": [
    "correlate(np.array([2, 3, 10, 12, 20, 24, 30, 40]),np.array([0, 1, 0, 0, 2, 1, 0, 2]),np.array([0,1,2]),fs=1, window_bins=6,bin_size=1e3)"
   ]
  },
  {
   "cell_type": "code",
   "execution_count": null,
   "metadata": {
    "collapsed": false
   },
   "outputs": [],
   "source": [
    "correlograms(np.array([2, 3, 10, 12, 20, 24, 30, 40]),np.array([0, 1, 0, 0, 2, 1, 0, 2]),np.array([0,1,2]), window_size=7,bin_size=1)"
   ]
  },
  {
   "cell_type": "code",
   "execution_count": null,
   "metadata": {
    "collapsed": false
   },
   "outputs": [],
   "source": [
    "%time correlate(times,clusters,ids,bin_size=1,window_bins=50).shape"
   ]
  },
  {
   "cell_type": "code",
   "execution_count": null,
   "metadata": {
    "collapsed": true
   },
   "outputs": [],
   "source": []
  }
 ],
 "metadata": {
  "anaconda-cloud": {},
  "kernelspec": {
   "display_name": "Python [conda root]",
   "language": "python",
   "name": "conda-root-py"
  },
  "language_info": {
   "codemirror_mode": {
    "name": "ipython",
    "version": 2
   },
   "file_extension": ".py",
   "mimetype": "text/x-python",
   "name": "python",
   "nbconvert_exporter": "python",
   "pygments_lexer": "ipython2",
   "version": "2.7.12"
  }
 },
 "nbformat": 4,
 "nbformat_minor": 1
}
