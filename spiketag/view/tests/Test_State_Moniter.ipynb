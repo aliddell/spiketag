{
 "cells": [
  {
   "cell_type": "code",
   "execution_count": 1,
   "metadata": {
    "ExecuteTime": {
     "end_time": "2019-02-03T17:21:10.707175Z",
     "start_time": "2019-02-03T17:21:10.276455Z"
    },
    "scrolled": false
   },
   "outputs": [
    {
     "name": "stdout",
     "output_type": "stream",
     "text": [
      "Populating the interactive namespace from numpy and matplotlib\n"
     ]
    }
   ],
   "source": [
    "%pylab inline\n",
    "%gui qt"
   ]
  },
  {
   "cell_type": "code",
   "execution_count": 2,
   "metadata": {
    "ExecuteTime": {
     "end_time": "2019-02-03T17:21:17.989901Z",
     "start_time": "2019-02-03T17:21:17.724379Z"
    }
   },
   "outputs": [],
   "source": [
    "from spiketag.utils import EventEmitter\n",
    "from spiketag.base import CLU"
   ]
  },
  {
   "cell_type": "code",
   "execution_count": 3,
   "metadata": {
    "ExecuteTime": {
     "end_time": "2019-02-03T17:21:25.921971Z",
     "start_time": "2019-02-03T17:21:25.907263Z"
    }
   },
   "outputs": [],
   "source": [
    "class status_manager(EventEmitter):\n",
    "    def __init__(self):\n",
    "        super(status_manager, self).__init__()\n",
    "        self.reporters = {}\n",
    "    \n",
    "    def append(self, state_reporter):\n",
    "        self.reporters[state_reporter._id] = state_reporter\n",
    "        \n",
    "        @state_reporter.connect\n",
    "        def on_report(state):\n",
    "#             print(state+' from group '+ str(state_reporter._id))\n",
    "              self.emit('update', state=self.state_list, nclu=self.nclu_list)\n",
    "            \n",
    "    def __getitem__(self, i):\n",
    "        return self.reporters[i]\n",
    "    \n",
    "    def __setitem__(self, i, state_str):\n",
    "        self.reporters[i].state = state_str\n",
    "    \n",
    "    def __repr__(self):\n",
    "        _str = ''\n",
    "        for _, _reporter in self.reporters.items():\n",
    "            _str = _str + str(_reporter._id) + \":\" + str(_reporter.state) + '\\n'\n",
    "        return _str\n",
    "    \n",
    "    def reset(self):\n",
    "        for reports in self.reporters.values():\n",
    "            reports._state = 'IDLE'\n",
    "        self.emit('update', state=self.state_list, nclu=self.nclu_list)\n",
    "    \n",
    "    @property\n",
    "    def state_list(self):\n",
    "        return [troy.s.index(troy.state) for troy in self.reporters.values()]\n",
    "    \n",
    "    @property\n",
    "    def ngroup(self):\n",
    "        return len(self.reporters.keys())\n",
    "    \n",
    "    @property\n",
    "    def nclu_list(self):\n",
    "        return [troy.nclu for troy in self.reporters.values()]"
   ]
  },
  {
   "cell_type": "code",
   "execution_count": 4,
   "metadata": {},
   "outputs": [],
   "source": [
    "from vispy import app, scene, visuals\n",
    "from vispy.util import keys\n",
    "import numpy as np\n",
    "\n",
    "\n",
    "class cluster_view(scene.SceneCanvas):\n",
    "    def __init__(self):\n",
    "        scene.SceneCanvas.__init__(self, keys=None, title='clusters overview')\n",
    "        self.unfreeze()\n",
    "        self.view = self.central_widget.add_view()\n",
    "        self.view.camera = 'panzoom'    \n",
    "        # every group (grp_marker) has a clustering result each cluster will has a (clu_marker)\n",
    "        # every group has its status: finish, unfinished\n",
    "        # every clu has its status: spike counts, high quality, low quality, information bits\n",
    "        self.grp_marker  = scene.visuals.Markers(parent=self.view.scene)\n",
    "        self.nclu_text = scene.visuals.Text(parent=self.view.scene)\n",
    "        self.event = EventEmitter() \n",
    "\n",
    "\n",
    "    def set_data(self, status_manager, size=25):\n",
    "        '''\n",
    "        group_No is a scala number #grp\n",
    "        nclu_list is a list with length = group_No\n",
    "        '''\n",
    "        \n",
    "        self.sman = status_manager\n",
    "        \n",
    "        self.group_No = self.sman.ngroup\n",
    "        self.nclu_list = np.array(self.sman.nclu_list)\n",
    "        self.sorting_status = np.array(self.sman.state_list)\n",
    "        self.nspks_list = None\n",
    "        self._size = size\n",
    "\n",
    "        self.xmin = -0.02\n",
    "        self.xmax =  0.04\n",
    "        grp_x_pos = np.zeros((self.group_No,))\n",
    "        grp_y_pos = np.arange(self.group_No)\n",
    "        self.grp_pos = np.vstack((grp_x_pos, grp_y_pos)).T\n",
    "        self.nclu_text_pos = np.vstack((grp_x_pos+0.02, grp_y_pos)).T\n",
    "\n",
    "#         if selected_group_id is None and group_No>1:\n",
    "#             selected_group_id = np.min(np.where(self.sorting_status==1)[0])\n",
    "#             self.current_group = selected_group_id\n",
    "#         elif group_No == 1:\n",
    "#             self.current_group = 0\n",
    "#             self._previous_group = 0\n",
    "#             self._next_group = 0\n",
    "#         else:\n",
    "        \n",
    "        self.current_group, self.selected_group_id, self._previous_group, self._next_group = [0]*4\n",
    "\n",
    "        self.color = self.generate_color(self.sorting_status, self.nspks_list, self.selected_group_id) \n",
    "\n",
    "        self.grp_marker.set_data(self.grp_pos, symbol='square', face_color=self.color, size=size)\n",
    "        self.nclu_text.text = [str(i) for i in self.nclu_list]\n",
    "        self.nclu_text.pos  = self.nclu_text_pos\n",
    "        self.nclu_text.color = 'g'\n",
    "        self.nclu_text.font_size = size*0.50\n",
    "\n",
    "        self.view.camera.set_range(x=[self.xmin, self.xmax])\n",
    "        # self.view.camera.interactive = False\n",
    "\n",
    "\n",
    "    def generate_color(self, sorting_status, nspks_list, selected_group_id):\n",
    "        self.color = np.ones((self.group_No, 4)) * 0.5\n",
    "        self.color[sorting_status==0] = np.array([1,1,1, .2]) # IDLE\n",
    "        self.color[sorting_status==1] = np.array([0,1,1, .3]) # BUSY\n",
    "        self.color[sorting_status==2] = np.array([1,0,1, .3]) # READY\n",
    "        self.color[sorting_status==3] = np.array([1,1,0, .3]) # READY\n",
    "        # self.color[selected_group_id] = np.array([1,1,1,  1]) # selected group id (current_group)\n",
    "        self.color[selected_group_id, -1] = 1\n",
    "        if nspks_list is not None:\n",
    "            self.transparency = np.array(nspks_list)/np.array(nspks_list).max()\n",
    "            self.color[:, -1] = self.transparency\n",
    "        return self.color \n",
    "\n",
    "\n",
    "    def on_key_press(self, e):\n",
    "        if e.text == 'r':\n",
    "            self.view.camera.set_range(x=[self.xmin, self.xmax])\n",
    "        if e.text == 'k':\n",
    "            self.moveto(self.next_group)\n",
    "        if e.text == 'j':\n",
    "            self.moveto(self.previous_group)\n",
    "        if e.text == 'd':\n",
    "            self.set_cluster_done(self.current_group)\n",
    "            self.moveto(self.next_group)\n",
    "        if e.text == 'o':\n",
    "            self.select(self.current_group)\n",
    "\n",
    "    @property\n",
    "    def cpu_ready_list(self):\n",
    "        return np.where(self.sorting_status==1)[0]\n",
    "\n",
    "    def set_cluster_ready(self, grp_id):\n",
    "        self.sorting_status[grp_id] = 1\n",
    "        self.refresh()\n",
    "\n",
    "    def set_cluster_done(self, grp_id):\n",
    "        self.sorting_status[grp_id] = 2\n",
    "        self.refresh()\n",
    "\n",
    "    def refresh(self):\n",
    "        self.set_data(self.sman, self._size)\n",
    "\n",
    "\n",
    "    @property\n",
    "    def previous_group(self):\n",
    "        if self.current_group>0:\n",
    "            self._previous_group = self.current_group - 1\n",
    "            return self._previous_group\n",
    "        else:\n",
    "            return self._previous_group \n",
    "\n",
    "\n",
    "    @property\n",
    "    def next_group(self):\n",
    "        if self.current_group<self.group_No-1:\n",
    "            self._next_group = self.current_group + 1\n",
    "            return self._next_group\n",
    "        else:\n",
    "            return self._next_group \n",
    "\n",
    "\n",
    "    def moveto(self, group_id):\n",
    "        self.current_group = group_id\n",
    "        self.set_data(self.sman, self._size) \n",
    "\n",
    "\n",
    "    def select(self, group_id):\n",
    "        # if self.sorting_status[group_id] != 0:\n",
    "        self.event.emit('select', group_id=self.current_group)\n",
    "        # else:\n",
    "            # print('unable to select busy cpu {}'.format(self.current_group)) \n",
    "\n",
    "\n",
    "    def run(self):\n",
    "        self.show()\n",
    "        self.app.run()"
   ]
  },
  {
   "cell_type": "code",
   "execution_count": 16,
   "metadata": {},
   "outputs": [],
   "source": [
    "cluview = cluster_view()"
   ]
  },
  {
   "cell_type": "code",
   "execution_count": 10,
   "metadata": {},
   "outputs": [],
   "source": [
    "clu_manager = status_manager()"
   ]
  },
  {
   "cell_type": "code",
   "execution_count": 11,
   "metadata": {},
   "outputs": [],
   "source": [
    "for i in range(10):\n",
    "    clu = CLU(np.arange(i+1))\n",
    "    clu._id = i\n",
    "    s.append(clu)"
   ]
  },
  {
   "cell_type": "code",
   "execution_count": 12,
   "metadata": {
    "scrolled": true
   },
   "outputs": [
    {
     "data": {
      "text/plain": [
       "[0, 0, 0, 0, 0, 0, 0, 0, 0, 0]"
      ]
     },
     "execution_count": 12,
     "metadata": {},
     "output_type": "execute_result"
    }
   ],
   "source": [
    "s.state_list"
   ]
  },
  {
   "cell_type": "code",
   "execution_count": 13,
   "metadata": {
    "scrolled": false
   },
   "outputs": [
    {
     "data": {
      "text/plain": [
       "[1, 2, 3, 4, 5, 6, 7, 8, 9, 10]"
      ]
     },
     "execution_count": 13,
     "metadata": {},
     "output_type": "execute_result"
    }
   ],
   "source": [
    "s.nclu_list"
   ]
  },
  {
   "cell_type": "code",
   "execution_count": 17,
   "metadata": {},
   "outputs": [],
   "source": [
    "@s.connect\n",
    "def on_update(state, nclu):\n",
    "    print(state)\n",
    "    print(nclu)\n",
    "    cluview.set_data(s)"
   ]
  },
  {
   "cell_type": "code",
   "execution_count": 18,
   "metadata": {
    "scrolled": true
   },
   "outputs": [],
   "source": [
    "# disconnect if `update` function has something wrong\n",
    "# s._callbacks.pop('update')"
   ]
  },
  {
   "cell_type": "code",
   "execution_count": 19,
   "metadata": {},
   "outputs": [],
   "source": [
    "cluview.show()"
   ]
  },
  {
   "cell_type": "code",
   "execution_count": 23,
   "metadata": {
    "scrolled": true
   },
   "outputs": [
    {
     "name": "stdout",
     "output_type": "stream",
     "text": [
      "[0, 0, 0, 0, 0, 0, 0, 0, 2, 0]\n",
      "[1, 2, 3, 4, 5, 6, 7, 8, 9, 10]\n",
      "[0, 0, 0, 0, 0, 0, 0, 0, 2, 0]\n",
      "[1, 2, 3, 4, 5, 6, 7, 8, 9, 10]\n",
      "[0, 0, 0, 0, 0, 0, 3, 0, 2, 0]\n",
      "[1, 2, 3, 4, 5, 6, 7, 8, 9, 10]\n",
      "[0, 0, 0, 0, 0, 0, 3, 0, 2, 0]\n",
      "[1, 2, 3, 4, 5, 6, 7, 8, 9, 10]\n"
     ]
    }
   ],
   "source": [
    "s[8] = 'READY'\n",
    "s[6] = 'DONE'"
   ]
  },
  {
   "cell_type": "code",
   "execution_count": 24,
   "metadata": {
    "scrolled": false
   },
   "outputs": [
    {
     "name": "stdout",
     "output_type": "stream",
     "text": [
      "[0, 0, 0, 0, 0, 0, 0, 0, 0, 0]\n",
      "[1, 2, 3, 4, 5, 6, 7, 8, 9, 10]\n",
      "[0, 0, 0, 0, 0, 0, 0, 0, 0, 0]\n",
      "[1, 2, 3, 4, 5, 6, 7, 8, 9, 10]\n"
     ]
    }
   ],
   "source": [
    "s.reset()"
   ]
  }
 ],
 "metadata": {
  "kernelspec": {
   "display_name": "Python 3",
   "language": "python",
   "name": "python3"
  },
  "language_info": {
   "codemirror_mode": {
    "name": "ipython",
    "version": 3
   },
   "file_extension": ".py",
   "mimetype": "text/x-python",
   "name": "python",
   "nbconvert_exporter": "python",
   "pygments_lexer": "ipython3",
   "version": "3.6.7"
  }
 },
 "nbformat": 4,
 "nbformat_minor": 2
}
