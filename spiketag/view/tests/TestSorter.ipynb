{
 "cells": [
  {
   "cell_type": "code",
   "execution_count": null,
   "metadata": {
    "collapsed": true
   },
   "outputs": [],
   "source": [
    "#ipcluster start -n=8"
   ]
  },
  {
   "cell_type": "code",
   "execution_count": 1,
   "metadata": {},
   "outputs": [
    {
     "name": "stdout",
     "output_type": "stream",
     "text": [
      "Populating the interactive namespace from numpy and matplotlib\n"
     ]
    }
   ],
   "source": [
    "%pylab inline\n",
    "import numpy as np\n",
    "import time\n",
    "import numexpr as ne\n",
    "import seaborn as sns\n",
    "from ipywidgets import interact\n",
    "from sklearn.decomposition import PCA\n",
    "from numba import jit"
   ]
  },
  {
   "cell_type": "code",
   "execution_count": 2,
   "metadata": {},
   "outputs": [
    {
     "data": {
      "text/plain": [
       "8"
      ]
     },
     "execution_count": 2,
     "metadata": {},
     "output_type": "execute_result"
    }
   ],
   "source": [
    "ne.set_num_threads(32)"
   ]
  },
  {
   "cell_type": "code",
   "execution_count": 3,
   "metadata": {},
   "outputs": [],
   "source": [
    "%load_ext autoreload\n",
    "%autoreload 2"
   ]
  },
  {
   "cell_type": "code",
   "execution_count": 4,
   "metadata": {
    "collapsed": true
   },
   "outputs": [],
   "source": [
    "%gui qt"
   ]
  },
  {
   "cell_type": "code",
   "execution_count": 5,
   "metadata": {
    "collapsed": true
   },
   "outputs": [],
   "source": [
    "import sys\n",
    "sys.path.append('../../..')"
   ]
  },
  {
   "cell_type": "code",
   "execution_count": 6,
   "metadata": {
    "collapsed": true
   },
   "outputs": [],
   "source": [
    "from spiketag.mvc import Sorter\n",
    "from spiketag.base import ProbeFactory, MUA, bload, SPKTAG\n",
    "from spiketag.utils import conf"
   ]
  },
  {
   "cell_type": "markdown",
   "metadata": {},
   "source": [
    "# Test 32 liner probe"
   ]
  },
  {
   "cell_type": "code",
   "execution_count": null,
   "metadata": {
    "collapsed": true
   },
   "outputs": [],
   "source": [
    "nCh = 32\n",
    "fs = 25000\n",
    "probe = ProbeFactory.genLinearProbe(fs=fs, n_ch=nCh)\n",
    "probe"
   ]
  },
  {
   "cell_type": "code",
   "execution_count": null,
   "metadata": {
    "collapsed": true
   },
   "outputs": [],
   "source": [
    "app = Sorter('/Users/chiy/Documents/HHMI/Github/spiketag/spiketag_test_data/pcie_32_25k.bin',probe = probe, \n",
    "              corr_cutoff=0.95, \n",
    "              fetlen=6, \n",
    "              fet_whiten=False,\n",
    "              fall_off_size=18, \n",
    "              n_jobs=1)\n",
    "# app = Sorter('/Users/chiy/Documents/HHMI/Github/spiketag/spiketag_test_data/pcie_32_25k.bin', \n",
    "#              spktag_filename='/Users/chiy/Documents/HHMI/Github/spiketag/spiketag_test_data/pcie_32_25k.bin.probe')\n",
    "\n"
   ]
  },
  {
   "cell_type": "code",
   "execution_count": null,
   "metadata": {
    "collapsed": true
   },
   "outputs": [],
   "source": [
    "#app.model.spktag.tofile('/Users/chiy/Documents/HHMI/Github/spiketag/spiketag_test_data/pcie_32_25k.bin.probe')"
   ]
  },
  {
   "cell_type": "code",
   "execution_count": null,
   "metadata": {
    "collapsed": true
   },
   "outputs": [],
   "source": [
    "app.run()"
   ]
  },
  {
   "cell_type": "markdown",
   "metadata": {},
   "source": [
    "# Switch of profiler log, if True, print profiler log"
   ]
  },
  {
   "cell_type": "code",
   "execution_count": null,
   "metadata": {
    "collapsed": true
   },
   "outputs": [],
   "source": [
    "from spiketag.utils import conf"
   ]
  },
  {
   "cell_type": "code",
   "execution_count": null,
   "metadata": {
    "collapsed": true
   },
   "outputs": [],
   "source": [
    "conf.ENABLE_PROFILER = True"
   ]
  },
  {
   "cell_type": "markdown",
   "metadata": {},
   "source": [
    "# Use line profiler to find bottomneck"
   ]
  },
  {
   "cell_type": "code",
   "execution_count": null,
   "metadata": {
    "collapsed": true
   },
   "outputs": [],
   "source": [
    "app.model.clu[30].selectlist"
   ]
  },
  {
   "cell_type": "code",
   "execution_count": null,
   "metadata": {
    "collapsed": true
   },
   "outputs": [],
   "source": [
    "app.model.clu[30].index"
   ]
  },
  {
   "cell_type": "code",
   "execution_count": null,
   "metadata": {
    "collapsed": true
   },
   "outputs": [],
   "source": [
    "# pip install line-profiler first.\n",
    "%load_ext line_profiler"
   ]
  },
  {
   "cell_type": "code",
   "execution_count": null,
   "metadata": {
    "collapsed": true
   },
   "outputs": [],
   "source": [
    "%lprun -f app.view.trace_view.locate_and_highlight app.view.trace_view.locate_and_highlight(app.view.spk_view.selected_spk)"
   ]
  },
  {
   "cell_type": "markdown",
   "metadata": {},
   "source": [
    "# Test 160 tetrode probe"
   ]
  },
  {
   "cell_type": "code",
   "execution_count": 7,
   "metadata": {},
   "outputs": [
    {
     "data": {
      "text/plain": [
       "0:[0 1 2 3]\n",
       "1:[4 5 6 7]\n",
       "2:[ 8  9 10 11]\n",
       "3:[12 13 14 15]\n",
       "4:[16 17 18 19]\n",
       "5:[20 21 22 23]\n",
       "6:[24 25 26 27]\n",
       "7:[28 29 30 31]\n",
       "8:[32 33 34 35]\n",
       "9:[36 37 38 39]\n",
       "10:[40 41 42 43]\n",
       "11:[44 45 46 47]\n",
       "12:[48 49 50 51]\n",
       "13:[52 53 54 55]\n",
       "14:[56 57 58 59]\n",
       "15:[60 61 62 63]"
      ]
     },
     "execution_count": 7,
     "metadata": {},
     "output_type": "execute_result"
    }
   ],
   "source": [
    "nCh = 64\n",
    "fs = 25e3\n",
    "tetrode = ProbeFactory.genTetrodeProbe(fs=fs, n_ch=nCh)\n",
    "tetrode.reorder_by_chip = False\n",
    "tetrode"
   ]
  },
  {
   "cell_type": "code",
   "execution_count": 8,
   "metadata": {},
   "outputs": [
    {
     "name": "stderr",
     "output_type": "stream",
     "text": [
      "2017-07-17 15:18:19,646 - spiketag - INFO - load mua data\n",
      "2017-07-17 15:18:19,661 - spiketag - INFO - #############  load data  ###################\n",
      "2017-07-17 15:18:19,662 - spiketag - INFO - /Users/chiy/Documents/HHMI/Github/spiketag_test_data/ttd_64_25k_20170712_without_noise.bin loaded, it contains: \n",
      "2017-07-17 15:18:19,663 - spiketag - INFO - 7361618 * 64 points (1884574208 bytes) \n",
      "2017-07-17 15:18:19,664 - spiketag - INFO - 64 channels with sampling rate of 25000.0000 \n",
      "2017-07-17 15:18:19,665 - spiketag - INFO - 294.465 secs (4.908 mins) of data\n",
      "2017-07-17 15:18:19,665 - spiketag - INFO - #############################################\n",
      "2017-07-17 15:18:21,096 - spiketag - INFO - raw data have 74653 spks\n",
      "2017-07-17 15:18:21,097 - spiketag - INFO - removing all spks on group which len(spks) less then fetlen\n",
      "2017-07-17 15:18:21,105 - spiketag - INFO - removed all spks on these groups: {0: 1, 9: 2, 2: 4}\n",
      "2017-07-17 15:18:21,106 - spiketag - INFO - grouping spike time\n",
      "2017-07-17 15:18:21,113 - spiketag - INFO - extract spikes from pivital meta data\n",
      "2017-07-17 15:18:21,252 - spiketag - INFO - extrat features with pca\n",
      "2017-07-17 15:18:21,717 - spiketag - INFO - clustering with hdbscan\n",
      "2017-07-17 15:18:27,100 - spiketag - INFO - clustering finished, used 5.38137793541 seconds\n",
      "2017-07-17 15:18:27,102 - spiketag - INFO - Model.spktag is generated, nspk:74646\n"
     ]
    }
   ],
   "source": [
    "app = Sorter('/Users/chiy/Documents/HHMI/Github/spiketag_test_data/ttd_64_25k_20170712_without_noise.bin',probe = tetrode, \n",
    "              corr_cutoff=0.95, \n",
    "              fet_method='pca',\n",
    "              fetlen=6, \n",
    "              fet_whiten=False,\n",
    "              fall_off_size=18, \n",
    "              spklen=19,\n",
    "              n_jobs=1)\n",
    "#app = Sorter('/Users/chiy/Documents/HHMI/Github/spiketag_test_data/ttd_64_25k_20170712_without_noise.bin', spktag_filename='/Users/chiy/Documents/HHMI/Github/spiketag_test_data/ttd_64_25k_20170712_without_noise_spktag.bin')"
   ]
  },
  {
   "cell_type": "code",
   "execution_count": 9,
   "metadata": {},
   "outputs": [
    {
     "name": "stderr",
     "output_type": "stream",
     "text": [
      "2017-07-17 15:18:29,977 - spiketag - WARNING -  group 0 has no spikes! \n",
      "2017-07-17 15:18:35,774 - spiketag - WARNING -  group 2 has no spikes! \n",
      "2017-07-17 15:18:47,813 - spiketag - INFO - received model modified event, removed spikes[group=7, global_ids=[ 446  500  829 1155 1384 1485]]\n"
     ]
    }
   ],
   "source": [
    "app.run()"
   ]
  },
  {
   "cell_type": "code",
   "execution_count": null,
   "metadata": {
    "collapsed": true
   },
   "outputs": [],
   "source": [
    "app.model.tofile('/Users/chiy/Documents/HHMI/Github/spiketag_test_data/ttd_64_25k_20170712_without_noise_spktag.bin')"
   ]
  },
  {
   "cell_type": "markdown",
   "metadata": {},
   "source": [
    "### Detect peak and output pivotal file"
   ]
  },
  {
   "cell_type": "code",
   "execution_count": null,
   "metadata": {
    "collapsed": true
   },
   "outputs": [],
   "source": [
    "bf = bload(nCh=64, fs=25000)"
   ]
  },
  {
   "cell_type": "code",
   "execution_count": null,
   "metadata": {
    "collapsed": true
   },
   "outputs": [],
   "source": [
    "bf.load('/Users/chiy/Documents/HHMI/Github/spiketag/spiketag_test_data/tt16bit_160.bin', dtype='int16')"
   ]
  },
  {
   "cell_type": "code",
   "execution_count": null,
   "metadata": {
    "collapsed": true
   },
   "outputs": [],
   "source": [
    "spks = bf.detect_spks()"
   ]
  },
  {
   "cell_type": "code",
   "execution_count": null,
   "metadata": {
    "collapsed": true
   },
   "outputs": [],
   "source": [
    "data = bf.asarray()"
   ]
  },
  {
   "cell_type": "code",
   "execution_count": null,
   "metadata": {
    "collapsed": true
   },
   "outputs": [],
   "source": [
    "from ipywidgets import interact"
   ]
  },
  {
   "cell_type": "code",
   "execution_count": null,
   "metadata": {
    "collapsed": true
   },
   "outputs": [],
   "source": [
    "@interact(x=(1000,55752704,100), y=(0,63,1))\n",
    "def plot_wave(x,y):\n",
    "    plot(data[x-1000:x,y])"
   ]
  },
  {
   "cell_type": "code",
   "execution_count": null,
   "metadata": {
    "collapsed": true
   },
   "outputs": [],
   "source": [
    "from spiketag.view import wave_view"
   ]
  },
  {
   "cell_type": "code",
   "execution_count": null,
   "metadata": {
    "collapsed": true
   },
   "outputs": [],
   "source": [
    "data = bf.npmm.reshape(-1,64).astype(np.float32)"
   ]
  },
  {
   "cell_type": "code",
   "execution_count": null,
   "metadata": {
    "collapsed": true
   },
   "outputs": [],
   "source": [
    "wv = wave_view(data=data, spks=spks)"
   ]
  },
  {
   "cell_type": "code",
   "execution_count": null,
   "metadata": {
    "collapsed": true
   },
   "outputs": [],
   "source": [
    "wv.show()"
   ]
  }
 ],
 "metadata": {
  "anaconda-cloud": {},
  "kernelspec": {
   "display_name": "Python [default]",
   "language": "python",
   "name": "python2"
  },
  "language_info": {
   "codemirror_mode": {
    "name": "ipython",
    "version": 2
   },
   "file_extension": ".py",
   "mimetype": "text/x-python",
   "name": "python",
   "nbconvert_exporter": "python",
   "pygments_lexer": "ipython2",
   "version": "2.7.12"
  }
 },
 "nbformat": 4,
 "nbformat_minor": 1
}
